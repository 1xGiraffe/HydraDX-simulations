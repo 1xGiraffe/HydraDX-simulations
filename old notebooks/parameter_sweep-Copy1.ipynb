{
 "cells": [
  {
   "cell_type": "markdown",
   "metadata": {},
   "source": [
    "# Documentation for Hydra Multi-Asset Verification Test\n",
    "ACTION_LIST = [['test_add', 'test_q_for_r', 'test_r_for_r','test_r_for_q', 'test_remove']]\n",
    "\n",
    "\n",
    "\n",
    "## Model Description\n",
    "\n",
    "The methodology for the tests is to create two universes - one for Hydra and one for Uniswap - to subsequently be able to represent sequences of actions on each side. As the Hydra system is unique in its design and has no counterpart yet for approprate comparisons the role of the benchmark will be fulfilled by assembling several Uniswaps together in a way that everything that can be done in Hydra can be accordingly reproduced. This allows next to compare the implications on both systems and ultimately assess the quantitative and qualitative differences of results and impacts on the Hydra system and its agents. \n",
    "\n",
    "This approach necessitates the definition and specification of two models:\n",
    "   - 1 Hydra Omnipool model with one instance that is defined in line with the [Hydra Mathematical Specification](https://hackmd.io/M7OeWimITKGVxBDHGQa6gQ?view)\n",
    "   - 1 Uniswap model with several instances that each are responsible for a particular mechanism\n",
    "        - which of 1 instance is used for liquidity provision in asset $R_i$: this is modeled as a Uniswap of $R_i$ and $Q$\n",
    "        - which of 1 instance is used for liquidity provision in asset $R_j$: this is modeled as a Uniswap of $R_j$ and $Q$\n",
    "        - which of 1 instance is used for swaps between assets $R_i$ and $R_j$: this is modeled as a Uniswap of $R_i$ and $R_j$\n",
    "        \n",
    "![](https://i.imgur.com/yb6Zh3T.png)\n",
    "        \n",
    "## Test cases\n",
    "\n",
    "A variety of testcases can be explored with this model resulting from a combination of the following parameters\n",
    "   \n",
    "   - Event: Add Liquidity, Remove Liquidity, Swap Asset, Swap Asset for Base\n",
    "   - Asset: $R_i$, $R_j$, $R_k$, $Q$\n",
    "   - Multiple Action Type: Alternating, $i$ only, $j$ only\n",
    "   - Composite Action Type: Alternating, Trade Bias\n",
    "   - Enable Symmetric Liquidity: True, False\n",
    "    \n",
    "In addition to these settings also a fee structure can be imposed:\n",
    "\n",
    "   - Fixed Fee\n",
    "\n",
    "## Test agents\n",
    "\n",
    "The model specifies a number of eight agents that each have their local balances, can interact with the system and are modeled to be responsible for **one action only**. This allows to track for each testcase how the balances will develop and to show independently which events will trigger changes to local and global states. Most importantly directly and indirectly affected variables can be easily identified.\n",
    "\n",
    "Two dataframes of agents are initialized identically for both the Uniswap and the Hydra world and then work their way through on each side according to the testcase. Afterwards the effects on both sides can be compared.\n",
    "\n",
    "![](https://i.imgur.com/r9IAJMr.png)\n",
    "\n",
    "\n",
    "\n",
    "## Composite Action Tests\n",
    "\n",
    "Besides being able to test all mechanisms individually also compositions of actions can be performed. This means selecting and combining two from the above testcases and letting the respective agents take the actions repeadetly. A composition action test therefore is defined as two actions which each can be a combination of *event* and *asset* selected from the list of testcases above, for example:\n",
    "- Add liquidity in $R_i$ and Add liquidity in $R_j$\n",
    "- Add liquidity in $R_i$ and Swap $R_i$ for $Q$\n",
    "- Remove liquidity in $R_j$ and Swap $R_i$ for $Q$\n",
    "- ...\n",
    "\n",
    "In total there would be 28 composit pairs which can be derived from this decision tree:\n",
    "selecting any one of the four primitive mechanisms of: **trade in/out** or **add/remove liquidity** of some given asset and then the subsequent action could be the three remaining mechanisms of the same asset or doing anyone of the four mechanisms in another asset.  \n",
    "\n",
    "These basic combinations can be explored before further proceeding with\n",
    "- trade sizes,\n",
    "- trade frequencies,\n",
    "- randomization,...\n",
    "\n"
   ]
  },
  {
   "cell_type": "markdown",
   "metadata": {},
   "source": [
    "# Testcase in this notebook\n",
    "\n",
    "\n",
    "This notebook documents the results of the following experiment:\n",
    "- **Action 1**: One agent adds liquidity in XX\n",
    "- **Action 2**: Another agent trades XX for XX.\n",
    "\n",
    "which is a reslt of the following settings:\n",
    "\n",
    "- exo_trade = ['test_q_for_r'] # agent 0\n",
    "- exo_liq = ['test_add'] # agent 3\n",
    "- exo_asset = ['alternating']\n",
    "- exo_composite = ['alternating'] "
   ]
  },
  {
   "cell_type": "markdown",
   "metadata": {},
   "source": [
    "## Introduction to Uniswap\n",
    ">Uniswap is an automated market maker for exchanging ERC20 tokens. Anyone can become a liquidity provider, and invest in the liquidity pool of an ERC20 token. This allows other users to trade that token for other tokens at an exchange rate based on their relative availibility. When a token trade is executed, a small fee is paid to the liquidity providers that enabled the transaction.\n",
    "https://uniswap.io/\n",
    "\n",
    "There are basically eight ways (_mechanisms_) in which an agent can interact with an instance of Uniswap (https://github.com/Uniswap/uniswap-v1/blob/master/contracts/uniswap_exchange.vy):\n",
    "1. `addLiquidity`: deposit ETH and tokens in the liquidity pool; mint UNI tokens - \"shares\" of that Uniswap instance - in exchange;\n",
    "1. `removeLiquidity`: burn UNI tokens; withdraw a proportional amount of ETH and tokens in exchange;\n",
    "1. `ethToTokenInput`: user specifies an exact amount of ETH they send; receives corresponding amount of tokens\n",
    "1. `ethToTokenOutput`: user sends some ETH and specifies an exact amount of tokens they want to buy; Uniswap refunds ETH sent in excess\n",
    "1. `tokenToEthInput`: user specifies an exact amount of tokens they send; receives corresponding amount of ETH\n",
    "1. `tokenToEthOutput`: user specifies an exact amount of ETH they want to buy; Uniswap takes the corresponding amount of tokens from the user account\n",
    "1. `tokenToTokenInput`: user specifies an exact amount of \"token A\" they send; receives corresponding amount of \"token B\" (effectively a `tokenToEthInput` in instance A combined with a `ethToTokenInput` in instance B)\n",
    "1. `tokenToTokenOutput`: user specifies an exact amount of \"token B˜ they want to buy; Uniswap takes the corresponding amount of \"token A\" from the user account (effectively a `ethToTokenOutput` in instance B combined with a `tokenToEthOutput` in instance A)\n",
    "\n",
    "## Limitations and simplifications of this model\n",
    "* When triggering mechanisms, Uniswap users may include conditions they would like to apply to the transaction. For example, they could define a minimum amount of UNI tokens they wish to receive as a result of adding liquidity to the pool; or the maximum number of tokens they are willing to pay for the amount of ETH requested in a `tokenToEthOutput` operation; or a deadline after which the transaction should not be processed. **This simplified model does not account for this kind conditioning.**\n",
    "\n",
    "* The `ethToTokenOutput`, `tokenToEthOutput` mechanisms are not implemented. **All swaps are treated as of the \"input defined\" type.**\n",
    "\n",
    "* The `tokenToToken` mechanism are not implemented, as they are merely a `tokenToEth` in the context of a single Uniswap instance.\n",
    "\n",
    "* **User _behavior_ has not been modeled**. User _actions_ are derived from the history of events of the Uniswap instance being analyzed."
   ]
  },
  {
   "cell_type": "markdown",
   "metadata": {},
   "source": [
    "## Introduction to Hydra\n",
    ">Hydra is an automated market maker that generalizes the concept of Uniswap and Balancer to a) an arbitrary number of dimensions and b) a variant weight distaribution of assets in the pool that changes in accordance with action sequences in the pool. Anyone can become a liquidity provider, and invest in the 'Omnipool'. This allows other users to trade that token for other tokens at an exchange rate based on their relative availibility. When a token trade is executed, a small fee is paid to the liquidity providers that enabled the transaction.\n",
    "https://hydradx.io/\n",
    "\n",
    "There is a predefined set of (_mechanisms_) in which an agent can interact with an the Hydra Protocol :\n",
    "1. `addLiquidity`: deposit a risk asset in the omnipool; mint HDX tokens - \"shares\" of this risk asset - in exchange;\n",
    "1. `removeLiquidity`: burn HDX tokens; withdraw a proportional amount of the risk asset in exchange;\n",
    "1. `tokenToTokenInput`: user specifies an exact amount of \"token A\" they send; receives corresponding amount of \"token B\" \n",
    "1. `tokenToTokenOutput`: user specifies an exact amount of \"token B˜ they want to buy; Hydra takes the corresponding amount of \"token A\" from the user account \n",
    "\n"
   ]
  },
  {
   "cell_type": "markdown",
   "metadata": {},
   "source": [
    "## Model File structure\n",
    "\n",
    "The folder **model** contains:\n",
    "\n",
    " - a file config.py: \n",
    "\n",
    "    This file configures the simulation experiments by setting the number of monte carlo runs, the number of timesteps for the simulation and the simulation parameters. It also aggregates the partial states and the initial state variables.\n",
    "    \n",
    "    The purpose of this file is to *configure and initialize* the experiment.\n",
    "    \n",
    "    \n",
    " - a file partial_state_update_block.py\n",
    "\n",
    "    This file defines each partial state update block individually. This feature allows cadCAD to divide each simulation timestep into several 'blocks' where different state variables are mutated conditioned upon the policy input.\n",
    "    \n",
    "    In the current setting \n",
    "    - the first block maps the user action to the appropriate mechanism in the uniswap world\n",
    "    - the second block maps the user action to the appropriate mechanism in the hydra world\n",
    "    - the third block resolves the quantities of HDX and weights in the hydra world\n",
    "    - the forth block calculates the metrics: the swap prices in the uniswap world and the pool prices in the hydra world\n",
    "\n",
    "    This file corresponds to the system specification diagram, where each column is one partial state update block \n",
    "    \n",
    "    The purpose of this file is to *define* the sequence and details of state updates for each simulation timestep. The relevant mechanisms are imported from the files in the **parts** folder\n",
    "    \n",
    "    \n",
    " - a file plot_utils.py\n",
    "\n",
    "    This file defines all plot functions that can be called in the jupyter notebook to visualize the results. In general there are three types of plots:\n",
    "    - plots related to the uniswap world (do not contain the word 'hydra')\n",
    "    - plots related to the hydra world (contain the word 'hydra')\n",
    "    - general plots applicable to both worlds (f.e Impermanent Loss)\n",
    "\n",
    "    It also can be distinguished between plots related to global system variables and local agent variables:\n",
    "    - global variables (do not contain the word 'agent')\n",
    "    - local variables (contain the word 'agent')\n",
    "\n",
    "    The purpose of this file is to *define* the way how particular properties can be plotted over time.\n",
    "    \n",
    "\n",
    " - a file run.py\n",
    "\n",
    "    This file *defines* the run and postprocessing methods and is used to execute the simulation run:\n",
    "    - run() is used to execute the simulation and create a dataframe\n",
    "    - postprocessing is used to extract relevant metrics from the simulation output in the dataframe\n",
    "\n",
    "     The purpose of this file is to *execute* the simulation and *create* metrics.\n",
    "     \n",
    "     \n",
    " - a file state_variables.py\n",
    "\n",
    "    This file *sets* the number of agents and *defines* the local (agent-level) state variables, *sets* the number of assets and *defines* the global (system-state) variables of the system, *computes* the prices of the assets and *defines* the initial state object\n",
    "    - the agent states describe their holdings of assets that agents have contributed to the pool or still hold outside as well as their quantities of shares they received for their contribution\n",
    "    - the global states describe the quantities of assets in the system\n",
    "    - price variables are computed from the states both in the uniswap and hydra world\n",
    "    - the initial state object consists of \n",
    "        - two agent dataframes, one for each world respectively\n",
    "        - two sets of global variables, one for each world respectively\n",
    "        - prices for each world (? is pool = prices ?)\n",
    "\n",
    "    The purpose of this file is to *define* the global and local states of the system.\n",
    "    \n",
    "    \n",
    " - a file sys_params.py\n",
    "\n",
    "    This file *contains* the system parameters and allows to select items from a list for them. Following parameters can be defined:\n",
    "    - trade action type\n",
    "    - liquidity action type\n",
    "    - multiple asset action type\n",
    "    - composite action type\n",
    "    - liquidity add type (symmetry)\n",
    "\n",
    "    In addition the following is set\n",
    "    - initial values for assets \n",
    "    - hard coded fee value\n",
    "    - choice of the system parameters from the list above\n",
    "    \n",
    "\n",
    " - a folder **parts** which itself contains general files relevant for both instances, files related specifically to Uniswap and files related specifically to Hydra \n",
    "      - [action.py](model/parts/action.py)\n",
    "       This is an action dictionary which drives the model. As there are no behavioral assumptions in the model yet, currently actions are prescribed actions in testing mode derived from events. However, action schema respects https://www.kaggle.com/markusbkoch/uniswap-ethdai-exchange as much as possible, allowing for future analysis against uniswap transaction datasets.\n",
    "        This file contains a function called 'actionDecoder' which takes its inputs from the file sys_params.py and maps those encoded events to agent actions. At first an arbitrary action dictionary is defined which then is adapted according to the choices of system parameters. In particular relevant are the parameter definitions of the asset, the composite and whether there is a trade or liquidity event defined.\n",
    "        \n",
    "    - [uniswap.py](model/parts/uniswap.py)\n",
    "     Reads in action output and directs the action to the appropriate Uniswap mechanism for each corresponding Uniswap instance. Currently there are two instances in place, namely the R_i<>Q pair and the R_j<>Q pair. Both instances have their respective requisite state variables: UNI_Qx, UNI_Rx, and UNI_Sx.\n",
    "\n",
    "    - [utils.py](model/parts/utils.py)\n",
    "    Computes the state update for each Uniswap state variable and outputs the updated global state variables.\n",
    "        \n",
    "     - [agent_utils.py](model/parts/agent_utils.py)\n",
    "     Computes the corresponding agent local state for each Uniswap agent resolving their action and outputs the updates local state variables.\n",
    "\n",
    "      -  [hydra.py](model/prts/hydra.py)\n",
    "     Reads in action output and directs the action to the appropriate Hydra mechanism for each state variable: Q, Sq, and pool.\n",
    "    \n",
    "      - [hydra_utils.py](model/parts/hydra_utils.py)\n",
    "     Computes the state update for each Hydra state variable\n",
    "\n",
    "    -  [asset_utils.py](model/parts/asset_utils.py)\n",
    "     Computes the state update for each Reserve Asset in a Hydra Omnipool\n",
    "\n",
    "    -  [hydra_agent_utils_class.py](model/parts/hydra_agent_utils_class.py)\n",
    "     Computes the corresponding agent local state for each Hydra agent resolving their action and outputs the updates local state variables.\n",
    "     \n",
    "     #### The interrelations between the files are shown here:\n",
    "     \n",
    "    ![](https://i.imgur.com/mNhfQE4.png)\n",
    "\n"
   ]
  },
  {
   "cell_type": "markdown",
   "metadata": {},
   "source": [
    "## Run Model\n",
    "\n",
    "The following command lines import all packages, experiments and run the model \n",
    "\n",
    "This is the execution of cadcad. This writes the config object, does the execution and returns the rdf - which is a data object that shows the rows and columns of results in a dataframe\n",
    "\n",
    "Here is one additional option as well. The postprocessing causes the index of the results to be every forth because of the cadcad architecture where the partial state updates are the substeps. With this option selected we see only the end of each timestep - the last substep. Therefore only final results are shown. To get a line for each substep the postprocessing needs to be deactivated. "
   ]
  },
  {
   "cell_type": "code",
   "execution_count": 1,
   "metadata": {},
   "outputs": [
    {
     "ename": "TypeError",
     "evalue": "__init__() missing 1 required positional argument: 'model'",
     "output_type": "error",
     "traceback": [
      "\u001b[1;31m---------------------------------------------------------------------------\u001b[0m",
      "\u001b[1;31mTypeError\u001b[0m                                 Traceback (most recent call last)",
      "\u001b[1;32m<ipython-input-1-45ec54aa4171>\u001b[0m in \u001b[0;36m<module>\u001b[1;34m\u001b[0m\n\u001b[0;32m      4\u001b[0m \u001b[1;32mfrom\u001b[0m \u001b[0mcadCAD\u001b[0m \u001b[1;32mimport\u001b[0m \u001b[0mconfigs\u001b[0m\u001b[1;33m\u001b[0m\u001b[1;33m\u001b[0m\u001b[0m\n\u001b[0;32m      5\u001b[0m \u001b[1;33m\u001b[0m\u001b[0m\n\u001b[1;32m----> 6\u001b[1;33m \u001b[0mparametric_experiment\u001b[0m \u001b[1;33m=\u001b[0m \u001b[0mConfigWrapper\u001b[0m\u001b[1;33m(\u001b[0m\u001b[1;33m)\u001b[0m\u001b[1;33m\u001b[0m\u001b[1;33m\u001b[0m\u001b[0m\n\u001b[0m\u001b[0;32m      7\u001b[0m \u001b[0mget_keys\u001b[0m \u001b[1;33m=\u001b[0m \u001b[0mparametric_experiment\u001b[0m\u001b[1;33m.\u001b[0m\u001b[0mget_config\u001b[0m\u001b[1;33m(\u001b[0m\u001b[1;33m)\u001b[0m\u001b[1;33m\u001b[0m\u001b[1;33m\u001b[0m\u001b[0m\n\u001b[0;32m      8\u001b[0m \u001b[0mget_keys\u001b[0m\u001b[1;33m[\u001b[0m\u001b[1;36m0\u001b[0m\u001b[1;33m]\u001b[0m\u001b[1;33m[\u001b[0m\u001b[1;34m'M'\u001b[0m\u001b[1;33m]\u001b[0m\u001b[1;33m\u001b[0m\u001b[1;33m\u001b[0m\u001b[0m\n",
      "\u001b[1;31mTypeError\u001b[0m: __init__() missing 1 required positional argument: 'model'"
     ]
    }
   ],
   "source": [
    "from model.config_wrapper import ConfigWrapper\n",
    "\n",
    "from model import run_wrapper\n",
    "from cadCAD import configs\n",
    "\n",
    "parametric_experiment = ConfigWrapper()\n",
    "get_keys = parametric_experiment.get_config()\n",
    "get_keys[0]['M']\n",
    "parametric_experiment.get_config()"
   ]
  },
  {
   "cell_type": "code",
   "execution_count": null,
   "metadata": {},
   "outputs": [],
   "source": [
    "import model as model\n"
   ]
  },
  {
   "cell_type": "code",
   "execution_count": null,
   "metadata": {},
   "outputs": [],
   "source": [
    "parametric_experiment = ConfigWrapper(model)\n"
   ]
  },
  {
   "cell_type": "code",
   "execution_count": null,
   "metadata": {},
   "outputs": [],
   "source": [
    "del configs[:]\n",
    "\n",
    "parametric_experiment.append()"
   ]
  },
  {
   "cell_type": "code",
   "execution_count": null,
   "metadata": {},
   "outputs": [],
   "source": [
    "get_keys = parametric_experiment.get_config()\n",
    "get_keys[0]['M']"
   ]
  },
  {
   "cell_type": "code",
   "execution_count": null,
   "metadata": {
    "tags": []
   },
   "outputs": [],
   "source": [
    "# Dependences\n",
    "import pandas as pd\n",
    "import numpy as np\n",
    "import matplotlib.pyplot as plt\n",
    "\n",
    "# Experiments\n",
    "from model import run\n",
    "from model.parts.utils import *\n",
    "from model.plot_utils import *\n",
    "\n",
    "pd.options.display.float_format = '{:.2f}'.format\n",
    "\n",
    "%matplotlib inline\n",
    "\n",
    "# df = run.run()\n",
    "# rdf = run.postprocessing(df)\n",
    "# rdf = df # debugging substeps\n",
    "# pd.set_option(\"mode.chained_assignment\", None)\n"
   ]
  },
  {
   "cell_type": "code",
   "execution_count": null,
   "metadata": {},
   "outputs": [],
   "source": [
    "(data, tensor_field, sessions) = run_wrapper.run(drop_midsteps=True)\n",
    "\n",
    "experiments = data\n"
   ]
  },
  {
   "cell_type": "code",
   "execution_count": null,
   "metadata": {},
   "outputs": [],
   "source": [
    "experiments = experiments.sort_values(by =['subset']).reset_index(drop=True)\n",
    "len(experiments)"
   ]
  },
  {
   "cell_type": "code",
   "execution_count": null,
   "metadata": {},
   "outputs": [],
   "source": [
    "experiments.head()"
   ]
  },
  {
   "cell_type": "code",
   "execution_count": null,
   "metadata": {},
   "outputs": [],
   "source": [
    "experiments.tail()"
   ]
  },
  {
   "cell_type": "code",
   "execution_count": null,
   "metadata": {},
   "outputs": [],
   "source": [
    "def get_M(k, v):\n",
    "    if k == 'sim_config':\n",
    "        k, v = 'M', v['M']\n",
    "    return k, v\n",
    "\n",
    "config_ids = [\n",
    "    dict(\n",
    "        get_M(k, v) for k, v in config.__dict__.items() if k in ['simulation_id', 'run_id', 'sim_config', 'subset_id']\n",
    "    ) for config in configs\n",
    "]"
   ]
  },
  {
   "cell_type": "code",
   "execution_count": null,
   "metadata": {
    "scrolled": true
   },
   "outputs": [],
   "source": [
    "param_test_plot(experiments, config_ids, 'a', 'Q')"
   ]
  },
  {
   "cell_type": "code",
   "execution_count": null,
   "metadata": {},
   "outputs": [],
   "source": [
    "param_fan_plot3(experiments, config_ids, 'a', 'UNI_ij')"
   ]
  },
  {
   "cell_type": "code",
   "execution_count": null,
   "metadata": {
    "scrolled": true
   },
   "outputs": [],
   "source": [
    "param_fan_plot3(experiments, config_ids, 'a', 'Q')"
   ]
  },
  {
   "cell_type": "code",
   "execution_count": null,
   "metadata": {},
   "outputs": [],
   "source": [
    "def param_pool_plot(experiments, config_ids, swept_variable, asset_id, y_variable, *args):\n",
    "    \"\"\"\n",
    "    experiments is the simulation result dataframe.\n",
    "    config_ids is the list configs executed upon in the simulation.\n",
    "    swept_variable is the key (string) in config_ids that was being tested against.\n",
    "    asset_id is the asset identifier in the pool (string) e.g i,j,k \n",
    "    y_variable is the state_variable (string) to be plotted against default timestep.\n",
    "\n",
    "    *args for plotting more state_variables (string).\n",
    "    \"\"\"\n",
    "    experiments = experiments.sort_values(by =['subset']).reset_index(drop=True)\n",
    "    cols = 1\n",
    "    rows = 1\n",
    "    cc_idx = 0\n",
    "    while cc_idx<len(experiments):\n",
    "        cc = experiments.iloc[cc_idx]['subset']\n",
    "\n",
    "        cc_label = experiments.iloc[cc_idx]['subset']\n",
    "\n",
    "        secondary_label = [item['M'][swept_variable] for item in config_ids if  item[\"subset_id\"]== cc_label]\n",
    "        sub_experiments = experiments[experiments['subset']==cc]\n",
    "        cc_idx += len(sub_experiments)\n",
    "        fig, axs = plt.subplots(ncols=cols, nrows=rows, figsize=(15*cols,7*rows))\n",
    "\n",
    "        df = sub_experiments.copy()\n",
    "\n",
    "        df_label = y_variable + asset_id\n",
    "        df[df_label] = df.pool.apply(lambda x: np.array(x.pool[asset_id][y_variable]))\n",
    "        colors = ['orange', 'g', 'magenta', 'r', 'k' ]\n",
    "        \n",
    "        ax = axs\n",
    "        title = swept_variable + ' Effect on Pool Asset ' + asset_id + '\\n' + 'Scenario: ' + str(secondary_label[0]) + ' ' + swept_variable\n",
    "        # + 'Scenario: ' + str(cc_label)  + ' rules_price'\n",
    "        ax.set_title(title)\n",
    "        ax.set_ylabel('Funds')\n",
    "\n",
    "        df.plot(x='timestep', y=df_label, label=df_label, ax=ax, legend=True, kind ='scatter')\n",
    "\n",
    "        for count, arg in enumerate(args):\n",
    "            df_arg_label = arg + asset_id\n",
    "            df[df_arg_label] = df.pool.apply(lambda x: np.array(x.pool[asset_id][arg]))\n",
    "\n",
    "            df.plot(x='timestep', y=df_arg_label, label=df_arg_label, ax=ax, legend=True, color = colors[count], kind ='scatter')\n",
    "\n",
    "        ax.legend(bbox_to_anchor=(1.05, 1), loc=2, borderaxespad=0.)\n",
    "\n",
    "        ax.set_xlabel('Timesteps')\n",
    "        ax.grid(color='0.9', linestyle='-', linewidth=1)\n",
    "\n",
    "        plt.tight_layout()\n",
    "            \n",
    "    fig.tight_layout(rect=[0, 0, 1, .97])\n",
    "    fig.patch.set_alpha(1)\n",
    "    plt.close()\n",
    "    return display(fig)"
   ]
  },
  {
   "cell_type": "code",
   "execution_count": null,
   "metadata": {},
   "outputs": [],
   "source": [
    "param_pool_plot(experiments, config_ids, 'a','i', 'R', 'S', 'W')"
   ]
  },
  {
   "cell_type": "code",
   "execution_count": null,
   "metadata": {},
   "outputs": [],
   "source": [
    "param_pool_plot(experiments, config_ids, 'a','j', 'R', 'S', 'W')"
   ]
  },
  {
   "cell_type": "code",
   "execution_count": null,
   "metadata": {},
   "outputs": [],
   "source": [
    "param_pool_fan_plot(experiments, config_ids, 'Ki','j', 'R', 'S', 'W')"
   ]
  }
 ],
 "metadata": {
  "kernelspec": {
   "display_name": "Python 3",
   "language": "python",
   "name": "python3"
  },
  "language_info": {
   "codemirror_mode": {
    "name": "ipython",
    "version": 3
   },
   "file_extension": ".py",
   "mimetype": "text/x-python",
   "name": "python",
   "nbconvert_exporter": "python",
   "pygments_lexer": "ipython3",
   "version": "3.8.5"
  }
 },
 "nbformat": 4,
 "nbformat_minor": 4
}
