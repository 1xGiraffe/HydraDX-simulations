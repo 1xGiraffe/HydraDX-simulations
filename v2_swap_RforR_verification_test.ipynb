{
 "cells": [
  {
   "cell_type": "markdown",
   "metadata": {},
   "source": [
    "# Documentation for Hydra Multi-Asset Verification Test\n",
    "\n",
    "## Model Description\n",
    "\n",
    "The methodology for the tests is to create two universes - one for Hydra and one for Uniswap - to subsequently be able to represent sequences of actions on each side. As the Hydra system is unique in its design and has no counterpart yet for approprate comparisons the role of the benchmark will be fulfilled by assembling several Uniswaps together in a way that everything that can be done in Hydra can be accordingly reproduced. This allows next to compare the implications on both systems and ultimately assess the quantitative and qualitative differences of results and impacts on the Hydra system and its agents. \n",
    "\n",
    "This approach necessitates the definition and specification of two models:\n",
    "   - 1 Hydra Omnipool model with one instance that is defined in line with the [Hydra Mathematical Specification](https://hackmd.io/M7OeWimITKGVxBDHGQa6gQ?view)\n",
    "   - 1 Uniswap model with several instances that each are responsible for a particular mechanism\n",
    "        - which of 1 instance is used for liquidity provision in asset $R_i$: this is modeled as a Uniswap of $R_i$ and $Q$\n",
    "        - which of 1 instance is used for liquidity provision in asset $R_j$: this is modeled as a Uniswap of $R_j$ and $Q$\n",
    "        - which of 1 instance is used for swaps between assets $R_i$ and $R_j$: this is modeled as a Uniswap of $R_i$ and $R_j$\n",
    "        \n",
    "![](https://i.imgur.com/yb6Zh3T.png)\n",
    "        \n",
    "## Test cases\n",
    "\n",
    "A variety of testcases can be explored with this model resulting from a combination of the following parameters\n",
    "   \n",
    "   - Event: Add Liquidity, Remove Liquidity, Swap Asset, Swap Asset for Base\n",
    "   - Asset: $R_i$, $R_j$, $R_k$, $Q$\n",
    "   - Multiple Action Type: Alternating, $i$ only, $j$ only\n",
    "   - Composite Action Type: Alternating, Trade Bias\n",
    "   - Enable Symmetric Liquidity: True, False\n",
    "    \n",
    "In addition to these settings also a fee structure can be imposed:\n",
    "\n",
    "   - Fixed Fee\n",
    "\n",
    "## Test agents\n",
    "\n",
    "The model specifies a number of eight agents that each have their local balances, can interact with the system and are modeled to be responsible for **one action only**. This allows to track for each testcase how the balances will develop and to show independently which events will trigger changes to local and global states. Most importantly directly and indirectly affected variables can be easily identified.\n",
    "\n",
    "Two dataframes of agents are initialized identically for both the Uniswap and the Hydra world and then work their way through on each side according to the testcase. Afterwards the effects on both sides can be compared.\n",
    "\n",
    "![](https://i.imgur.com/r9IAJMr.png)\n",
    "\n",
    "\n",
    "\n",
    "## Composite Action Tests\n",
    "\n",
    "Besides being able to test all mechanisms individually also compositions of actions can be performed. This means selecting and combining two from the above testcases and letting the respective agents take the actions repeadetly. A composition action test therefore is defined as two actions which each can be a combination of *event* and *asset* selected from the list of testcases above, for example:\n",
    "- Add liquidity in $R_i$ and Add liquidity in $R_j$\n",
    "- Add liquidity in $R_i$ and Swap $R_i$ for $Q$\n",
    "- Remove liquidity in $R_j$ and Swap $R_i$ for $Q$\n",
    "- ...\n",
    "\n",
    "In total there would be 28 composit pairs which can be derived from this decision tree:\n",
    "selecting any one of the four primitive mechanisms of: **trade in/out** or **add/remove liquidity** of some given asset and then the subsequent action could be the three remaining mechanisms of the same asset or doing anyone of the four mechanisms in another asset.  \n",
    "\n",
    "These basic combinations can be explored before further proceeding with\n",
    "- trade sizes,\n",
    "- trade frequencies,\n",
    "- randomization,...\n",
    "\n"
   ]
  },
  {
   "cell_type": "markdown",
   "metadata": {},
   "source": [
    "# Testcase in this notebook\n",
    "\n",
    "\n",
    "This notebook documents the results of the following experiment:\n",
    "- **Action 1**: One agent adds liquidity in XX\n",
    "- **Action 2**: Another agent trades XX for XX.\n",
    "\n",
    "which is a reslt of the following settings:\n",
    "\n",
    "- exo_trade = ['test_q_for_r'] # agent 0\n",
    "- exo_liq = ['test_add'] # agent 3\n",
    "- exo_asset = ['alternating']\n",
    "- exo_composite = ['alternating'] "
   ]
  },
  {
   "cell_type": "markdown",
   "metadata": {},
   "source": [
    "## Introduction to Uniswap\n",
    ">Uniswap is an automated market maker for exchanging ERC20 tokens. Anyone can become a liquidity provider, and invest in the liquidity pool of an ERC20 token. This allows other users to trade that token for other tokens at an exchange rate based on their relative availibility. When a token trade is executed, a small fee is paid to the liquidity providers that enabled the transaction.\n",
    "https://uniswap.io/\n",
    "\n",
    "There are basically eight ways (_mechanisms_) in which an agent can interact with an instance of Uniswap (https://github.com/Uniswap/uniswap-v1/blob/master/contracts/uniswap_exchange.vy):\n",
    "1. `addLiquidity`: deposit ETH and tokens in the liquidity pool; mint UNI tokens - \"shares\" of that Uniswap instance - in exchange;\n",
    "1. `removeLiquidity`: burn UNI tokens; withdraw a proportional amount of ETH and tokens in exchange;\n",
    "1. `ethToTokenInput`: user specifies an exact amount of ETH they send; receives corresponding amount of tokens\n",
    "1. `ethToTokenOutput`: user sends some ETH and specifies an exact amount of tokens they want to buy; Uniswap refunds ETH sent in excess\n",
    "1. `tokenToEthInput`: user specifies an exact amount of tokens they send; receives corresponding amount of ETH\n",
    "1. `tokenToEthOutput`: user specifies an exact amount of ETH they want to buy; Uniswap takes the corresponding amount of tokens from the user account\n",
    "1. `tokenToTokenInput`: user specifies an exact amount of \"token A\" they send; receives corresponding amount of \"token B\" (effectively a `tokenToEthInput` in instance A combined with a `ethToTokenInput` in instance B)\n",
    "1. `tokenToTokenOutput`: user specifies an exact amount of \"token B˜ they want to buy; Uniswap takes the corresponding amount of \"token A\" from the user account (effectively a `ethToTokenOutput` in instance B combined with a `tokenToEthOutput` in instance A)\n",
    "\n",
    "## Limitations and simplifications of this model\n",
    "* When triggering mechanisms, Uniswap users may include conditions they would like to apply to the transaction. For example, they could define a minimum amount of UNI tokens they wish to receive as a result of adding liquidity to the pool; or the maximum number of tokens they are willing to pay for the amount of ETH requested in a `tokenToEthOutput` operation; or a deadline after which the transaction should not be processed. **This simplified model does not account for this kind conditioning.**\n",
    "\n",
    "* The `ethToTokenOutput`, `tokenToEthOutput` mechanisms are not implemented. **All swaps are treated as of the \"input defined\" type.**\n",
    "\n",
    "* The `tokenToToken` mechanism are not implemented, as they are merely a `tokenToEth` in the context of a single Uniswap instance.\n",
    "\n",
    "* **User _behavior_ has not been modeled**. User _actions_ are derived from the history of events of the Uniswap instance being analyzed."
   ]
  },
  {
   "cell_type": "markdown",
   "metadata": {},
   "source": [
    "## Introduction to Hydra\n",
    ">Hydra is an automated market maker that generalizes the concept of Uniswap and Balancer to a) an arbitrary number of dimensions and b) a variant weight distaribution of assets in the pool that changes in accordance with action sequences in the pool. Anyone can become a liquidity provider, and invest in the 'Omnipool'. This allows other users to trade that token for other tokens at an exchange rate based on their relative availibility. When a token trade is executed, a small fee is paid to the liquidity providers that enabled the transaction.\n",
    "https://hydradx.io/\n",
    "\n",
    "There is a predefined set of (_mechanisms_) in which an agent can interact with an the Hydra Protocol :\n",
    "1. `addLiquidity`: deposit a risk asset in the omnipool; mint HDX tokens - \"shares\" of this risk asset - in exchange;\n",
    "1. `removeLiquidity`: burn HDX tokens; withdraw a proportional amount of the risk asset in exchange;\n",
    "1. `tokenToTokenInput`: user specifies an exact amount of \"token A\" they send; receives corresponding amount of \"token B\" \n",
    "1. `tokenToTokenOutput`: user specifies an exact amount of \"token B˜ they want to buy; Hydra takes the corresponding amount of \"token A\" from the user account \n",
    "\n"
   ]
  },
  {
   "cell_type": "markdown",
   "metadata": {},
   "source": [
    "## Model File structure\n",
    "\n",
    "The folder **model** contains:\n",
    "\n",
    " - a file config.py: \n",
    "\n",
    "    This file configures the simulation experiments by setting the number of monte carlo runs, the number of timesteps for the simulation and the simulation parameters. It also aggregates the partial states and the initial state variables.\n",
    "    \n",
    "    The purpose of this file is to *configure and initialize* the experiment.\n",
    "    \n",
    "    \n",
    " - a file partial_state_update_block.py\n",
    "\n",
    "    This file defines each partial state update block individually. This feature allows cadCAD to divide each simulation timestep into several 'blocks' where different state variables are mutated conditioned upon the policy input.\n",
    "    \n",
    "    In the current setting \n",
    "    - the first block maps the user action to the appropriate mechanism in the uniswap world\n",
    "    - the second block maps the user action to the appropriate mechanism in the hydra world\n",
    "    - the third block resolves the quantities of HDX and weights in the hydra world\n",
    "    - the forth block calculates the metrics: the swap prices in the uniswap world and the pool prices in the hydra world\n",
    "\n",
    "    This file corresponds to the system specification diagram, where each column is one partial state update block \n",
    "    \n",
    "    The purpose of this file is to *define* the sequence and details of state updates for each simulation timestep. The relevant mechanisms are imported from the files in the **parts** folder\n",
    "    \n",
    "    \n",
    " - a file plot_utils.py\n",
    "\n",
    "    This file defines all plot functions that can be called in the jupyter notebook to visualize the results. In general there are three types of plots:\n",
    "    - plots related to the uniswap world (do not contain the word 'hydra')\n",
    "    - plots related to the hydra world (contain the word 'hydra')\n",
    "    - general plots applicable to both worlds (f.e Impermanent Loss)\n",
    "\n",
    "    It also can be distinguished between plots related to global system variables and local agent variables:\n",
    "    - global variables (do not contain the word 'agent')\n",
    "    - local variables (contain the word 'agent')\n",
    "\n",
    "    The purpose of this file is to *define* the way how particular properties can be plotted over time.\n",
    "    \n",
    "\n",
    " - a file run.py\n",
    "\n",
    "    This file *defines* the run and postprocessing methods and is used to execute the simulation run:\n",
    "    - run() is used to execute the simulation and create a dataframe\n",
    "    - postprocessing is used to extract relevant metrics from the simulation output in the dataframe\n",
    "\n",
    "     The purpose of this file is to *execute* the simulation and *create* metrics.\n",
    "     \n",
    "     \n",
    " - a file state_variables.py\n",
    "\n",
    "    This file *sets* the number of agents and *defines* the local (agent-level) state variables, *sets* the number of assets and *defines* the global (system-state) variables of the system, *computes* the prices of the assets and *defines* the initial state object\n",
    "    - the agent states describe their holdings of assets that agents have contributed to the pool or still hold outside as well as their quantities of shares they received for their contribution\n",
    "    - the global states describe the quantities of assets in the system\n",
    "    - price variables are computed from the states both in the uniswap and hydra world\n",
    "    - the initial state object consists of \n",
    "        - two agent dataframes, one for each world respectively\n",
    "        - two sets of global variables, one for each world respectively\n",
    "        - prices for each world (? is pool = prices ?)\n",
    "\n",
    "    The purpose of this file is to *define* the global and local states of the system.\n",
    "    \n",
    "    \n",
    " - a file sys_params.py\n",
    "\n",
    "    This file *contains* the system parameters and allows to select items from a list for them. Following parameters can be defined:\n",
    "    - trade action type\n",
    "    - liquidity action type\n",
    "    - multiple asset action type\n",
    "    - composite action type\n",
    "    - liquidity add type (symmetry)\n",
    "\n",
    "    In addition the following is set\n",
    "    - initial values for assets \n",
    "    - hard coded fee value\n",
    "    - choice of the system parameters from the list above\n",
    "    \n",
    "\n",
    " - a folder **parts** which itself contains general files relevant for both instances, files related specifically to Uniswap and files related specifically to Hydra \n",
    "      - [action.py](model/parts/action.py)\n",
    "       This is an action dictionary which drives the model. As there are no behavioral assumptions in the model yet, currently actions are prescribed actions in testing mode derived from events. However, action schema respects https://www.kaggle.com/markusbkoch/uniswap-ethdai-exchange as much as possible, allowing for future analysis against uniswap transaction datasets.\n",
    "        This file contains a function called 'actionDecoder' which takes its inputs from the file sys_params.py and maps those encoded events to agent actions. At first an arbitrary action dictionary is defined which then is adapted according to the choices of system parameters. In particular relevant are the parameter definitions of the asset, the composite and whether there is a trade or liquidity event defined.\n",
    "        \n",
    "    - [uniswap.py](model/parts/uniswap.py)\n",
    "     Reads in action output and directs the action to the appropriate Uniswap mechanism for each corresponding Uniswap instance. Currently there are two instances in place, namely the R_i<>Q pair and the R_j<>Q pair. Both instances have their respective requisite state variables: UNI_Qx, UNI_Rx, and UNI_Sx.\n",
    "\n",
    "    - [utils.py](model/parts/utils.py)\n",
    "    Computes the state update for each Uniswap state variable and outputs the updated global state variables.\n",
    "        \n",
    "     - [agent_utils.py](model/parts/agent_utils.py)\n",
    "     Computes the corresponding agent local state for each Uniswap agent resolving their action and outputs the updates local state variables.\n",
    "\n",
    "      -  [hydra.py](model/prts/hydra.py)\n",
    "     Reads in action output and directs the action to the appropriate Hydra mechanism for each state variable: Q, Sq, and pool.\n",
    "    \n",
    "      - [hydra_utils.py](model/parts/hydra_utils.py)\n",
    "     Computes the state update for each Hydra state variable\n",
    "\n",
    "    -  [asset_utils.py](model/parts/asset_utils.py)\n",
    "     Computes the state update for each Reserve Asset in a Hydra Omnipool\n",
    "\n",
    "    -  [hydra_agent_utils_class.py](model/parts/hydra_agent_utils_class.py)\n",
    "     Computes the corresponding agent local state for each Hydra agent resolving their action and outputs the updates local state variables.\n",
    "     \n",
    "     #### The interrelations between the files are shown here:\n",
    "     \n",
    "    ![](https://i.imgur.com/mNhfQE4.png)\n",
    "\n"
   ]
  },
  {
   "cell_type": "markdown",
   "metadata": {},
   "source": [
    "## Run Model\n",
    "\n",
    "The following command lines import all packages, experiments and run the model \n",
    "\n",
    "This is the execution of cadcad. This writes the config object, does the execution and returns the rdf - which is a data object that shows the rows and columns of results in a dataframe\n",
    "\n",
    "Here is one additional option as well. The postprocessing causes the index of the results to be every forth because of the cadcad architecture where the partial state updates are the substeps. With this option selected we see only the end of each timestep - the last substep. Therefore only final results are shown. To get a line for each substep the postprocessing needs to be deactivated. "
   ]
  },
  {
   "cell_type": "code",
   "execution_count": 1,
   "metadata": {
    "tags": [
     "outputPrepend"
    ]
   },
   "outputs": [
    {
     "name": "stdout",
     "output_type": "stream",
     "text": [
      "running file: run.py\n",
      "running file: state_variables.py\n",
      "running file: asset_utils.py\n",
      "end of file: asset_utils.py\n",
      "end of file: state_variables.py\n",
      "running file: partial_state_update_block.py\n",
      "end of file: action_list.py\n",
      "end of file: partial_state_update_block.py\n",
      "running file: sim_setup.py\n",
      "end of file: sim_setup.py\n",
      "[100000.] [100000.]\n",
      "config_init_state  <class 'model.parts.v2_asset_utils.V2_Asset'>: {'pool': {'i': {'R': 100000.00000000001, 'S': 100000.00000000001, 'C': 1, 'P': 19.999999999999996, 'dP': 0}, 'j': {'R': 100000.00000000001, 'S': 100000.00000000001, 'C': 1.0, 'P': 19.999999999999996}}}\n",
      "configs length  1\n",
      "end of file: run.py\n",
      "\n",
      "                  ___________    ____\n",
      "  ________ __ ___/ / ____/   |  / __ \\\n",
      " / ___/ __` / __  / /   / /| | / / / /\n",
      "/ /__/ /_/ / /_/ / /___/ ___ |/ /_/ /\n",
      "\\___/\\__,_/\\__,_/\\____/_/  |_/_____/\n",
      "by cadCAD\n",
      "\n",
      "Execution Mode: local_proc\n",
      "Configuration Count: 1\n",
      "Dimensions of the first simulation: (Timesteps, Params, Runs, Vars) = (12, 16, 1, 25)\n",
      "Execution Method: local_simulations\n",
      "SimIDs   : [0]\n",
      "SubsetIDs: [0]\n",
      "Ns       : [0]\n",
      "ExpIDs   : [0]\n",
      "Execution Mode: single_threaded\n",
      " R to R swap called \n",
      " R added to pool of  i  =  nan\n",
      " R removed from pool of  j  =  nan\n",
      " R to R swap called \n",
      " R added to pool of  j  =  nan\n",
      " R removed from pool of  i  =  nan\n",
      "Total execution time: 0.08s\n"
     ]
    }
   ],
   "source": [
    "# Dependences\n",
    "import pandas as pd\n",
    "import numpy as np\n",
    "import matplotlib.pyplot as plt\n",
    "\n",
    "# Experiments\n",
    "from model import run\n",
    "from model.parts.utils import *\n",
    "from model.plot_utils import *\n",
    "\n",
    "pd.options.display.float_format = '{:.2f}'.format\n",
    "\n",
    "%matplotlib inline\n",
    "\n",
    "df = run.run()\n",
    "rdf = run.postprocessing(df)\n",
    "# rdf = df # debugging substeps\n"
   ]
  },
  {
   "cell_type": "markdown",
   "metadata": {},
   "source": [
    "## Interpretation of Results"
   ]
  },
  {
   "cell_type": "markdown",
   "metadata": {},
   "source": [
    "\n",
    "\n"
   ]
  },
  {
   "cell_type": "markdown",
   "metadata": {},
   "source": [
    "### Creation of Results\n",
    "\n",
    "Before moving to the interpretation and analysis we first create and prepare the results: sometimes just to see whether the experiment is running corectly and sometimes to see into the results for analysis\n",
    "\n",
    "The following command lines creates views based on the simulation results.\n",
    "\n",
    "- the `model_history`, counting for the i-th base asset, the risk asset and the shares of the risk asset respectively.\n",
    "- the `uniswap_j`, counting for the j-th base asset, the risk asset and the shares of the risk asset respectively.,\n",
    "- the `uniswap_ij` counting for the i-j asset, the risk asset and the shares of the risk asset respectively, and\n",
    "- `hydra`, counting the base asset amount in the pool, the total base asset supply and the shares of the base asset respectively.\n",
    "\n"
   ]
  },
  {
   "cell_type": "code",
   "execution_count": 2,
   "metadata": {},
   "outputs": [],
   "source": [
    "model_history = rdf[['UNI_Qi', 'UNI_Ri', 'UNI_Si']]\n",
    "model_history.columns = ['model_UNI_Qi', 'model_UNI_Ri', 'model_UNI_Si']\n",
    "\n",
    "uniswap_j = rdf[['UNI_Qj', 'UNI_Rj', 'UNI_Sj']]\n",
    "uniswap_j.columns = ['UNI_Qj', 'UNI_Rj', 'UNI_Sj']\n",
    "\n",
    "uniswap_ij = rdf[['UNI_ij', 'UNI_ji', 'UNI_Sij']]\n",
    "uniswap_ij.columns = ['UNI_ij', 'UNI_ji', 'UNI_Sij']\n",
    "\n",
    "hydra = rdf[['Q', 'H', 'Sq']]\n",
    "hydra.columns = ['Hydra_Q', 'Hydra_H', 'Hydra_Sq']"
   ]
  },
  {
   "cell_type": "markdown",
   "metadata": {},
   "source": [
    "### Risk assets in the Omnipool - the `pool` variable \n",
    "\n",
    "The `pool` variable is the risk-asset side of the Omnipool in the Hydra world.\n",
    "\n",
    "For each asset in the Omnipool this variable tracks the following quantities:\n",
    "\n",
    "- $R$ (asset quantity),\n",
    "- $S$ (share quantity),\n",
    "- $W$ (weight quantity = share quantity),\n",
    "- $P$ (price) and \n",
    "- $dP$ (change in price).\n",
    "\n",
    "To locate specific values in the `pool` dataframe \n",
    "- `first_valid_index()`\n",
    "- `first_valid_index()*x`\n",
    "- `last_valid_index()`\n",
    "\n",
    "can be used for any integer value $x$."
   ]
  },
  {
   "cell_type": "code",
   "execution_count": 3,
   "metadata": {},
   "outputs": [
    {
     "name": "stdout",
     "output_type": "stream",
     "text": [
      "<class 'model.parts.v2_asset_utils.V2_Asset'>: {'pool': {'i': {'R': 100000.00000000001, 'S': 100000.00000000001, 'C': 1, 'P': 199.99999999999994, 'dP': 179.99999999999994}, 'j': {'R': 100000.00000000001, 'S': 100000.00000000001, 'C': 1.0, 'P': 199.99999999999994, 'dP': 179.99999999999994}}}\n"
     ]
    }
   ],
   "source": [
    "print(rdf.pool[rdf.first_valid_index()])"
   ]
  },
  {
   "cell_type": "code",
   "execution_count": 4,
   "metadata": {},
   "outputs": [
    {
     "data": {
      "text/plain": [
       "{'i': {'R': 100000.00000000001,\n",
       "  'S': 100000.00000000001,\n",
       "  'C': 1,\n",
       "  'P': 199.99999999999994,\n",
       "  'dP': 179.99999999999994},\n",
       " 'j': {'R': 100000.00000000001,\n",
       "  'S': 100000.00000000001,\n",
       "  'C': 1.0,\n",
       "  'P': 199.99999999999994,\n",
       "  'dP': 179.99999999999994}}"
      ]
     },
     "execution_count": 4,
     "metadata": {},
     "output_type": "execute_result"
    }
   ],
   "source": [
    "rdf.pool[rdf.first_valid_index()].pool"
   ]
  },
  {
   "cell_type": "code",
   "execution_count": 5,
   "metadata": {},
   "outputs": [
    {
     "data": {
      "text/plain": [
       "{'i': {'R': nan, 'S': 100000.00000000001, 'C': 1, 'P': nan, 'dP': nan},\n",
       " 'j': {'R': nan, 'S': 100000.00000000001, 'C': 1.0, 'P': nan, 'dP': nan}}"
      ]
     },
     "execution_count": 5,
     "metadata": {},
     "output_type": "execute_result"
    }
   ],
   "source": [
    "rdf.pool[rdf.first_valid_index()*10].pool"
   ]
  },
  {
   "cell_type": "code",
   "execution_count": 6,
   "metadata": {},
   "outputs": [
    {
     "data": {
      "text/plain": [
       "{'i': {'R': nan, 'S': 100000.00000000001, 'C': 1, 'P': nan, 'dP': nan},\n",
       " 'j': {'R': nan, 'S': 100000.00000000001, 'C': 1.0, 'P': nan, 'dP': nan}}"
      ]
     },
     "execution_count": 6,
     "metadata": {},
     "output_type": "execute_result"
    }
   ],
   "source": [
    "rdf.pool[rdf.last_valid_index()].pool"
   ]
  },
  {
   "cell_type": "markdown",
   "metadata": {},
   "source": [
    "### Representing results in table form\n",
    "\n",
    "The simulation results and variable quantities can be shown in table form where\n",
    "\n",
    "- `head(n)`\n",
    "- `tail(n)`\n",
    "\n",
    "can be used to target the $n$ specific entries.\n",
    "\n",
    "##### The columns show:\n",
    "##### for the uniswap universe\n",
    "- `UNI_Qi`...the quantity of the i-th assets base\n",
    "- `UNI_Ri`...the quantity of the i-th assets risk\n",
    "- `UNI_Si`...the quantity of the i-th assets shares\n",
    "- `UNI_Qj`...the quantity of the j-th assets base\n",
    "- `UNI_Rj`...the quantity of the j-th assets risk\n",
    "- `UNI_Sj`...the quantity of the j-th assets shares\n",
    "- `uni_agents`...the definition of the actions of the uniswap agents\n",
    "- `UNI_P_RQi`...the price of the i-th risk asset in terms of Q\n",
    "- `UNI_P_RQj`...the price of the j-th risk asset in terms of Q\n",
    "\n",
    "##### for the hydra universe\n",
    "- `pool`...the definition of the pool variable\n",
    "- `Q`...the quantity of the base asset in the hydra pool\n",
    "- `H`...the total quantity of the base asset in the hydra system\n",
    "- `Wq`...total quantity of weigths of the base asset\n",
    "- `Sq`...total quantity of shares of the base asset\n",
    "- `hydra_agents`...the definition of the actions of the hydra agents\n",
    "\n",
    "##### simulation parameters\n",
    "- `simulation`...simulation number\n",
    "- `subset`...subset number\n",
    "- `run`...run number\n",
    "- `substep`...substep number\n",
    "- `timestep`...timestep of simulation\n",
    "\n",
    "Notice, that due to postprocessing of the simulation results this table always shows the forth substep of each timestep only."
   ]
  },
  {
   "cell_type": "code",
   "execution_count": 7,
   "metadata": {
    "scrolled": true
   },
   "outputs": [
    {
     "data": {
      "text/html": [
       "<div>\n",
       "<style scoped>\n",
       "    .dataframe tbody tr th:only-of-type {\n",
       "        vertical-align: middle;\n",
       "    }\n",
       "\n",
       "    .dataframe tbody tr th {\n",
       "        vertical-align: top;\n",
       "    }\n",
       "\n",
       "    .dataframe thead th {\n",
       "        text-align: right;\n",
       "    }\n",
       "</style>\n",
       "<table border=\"1\" class=\"dataframe\">\n",
       "  <thead>\n",
       "    <tr style=\"text-align: right;\">\n",
       "      <th></th>\n",
       "      <th>UNI_Qi</th>\n",
       "      <th>UNI_Ri</th>\n",
       "      <th>UNI_Si</th>\n",
       "      <th>UNI_Qj</th>\n",
       "      <th>UNI_Rj</th>\n",
       "      <th>UNI_Sj</th>\n",
       "      <th>UNI_ij</th>\n",
       "      <th>UNI_ji</th>\n",
       "      <th>UNI_Sij</th>\n",
       "      <th>uni_agents</th>\n",
       "      <th>...</th>\n",
       "      <th>C</th>\n",
       "      <th>asset_random_choice</th>\n",
       "      <th>trade_random_size</th>\n",
       "      <th>trade_random_direction</th>\n",
       "      <th>purchased_asset_id</th>\n",
       "      <th>simulation</th>\n",
       "      <th>subset</th>\n",
       "      <th>run</th>\n",
       "      <th>substep</th>\n",
       "      <th>timestep</th>\n",
       "    </tr>\n",
       "  </thead>\n",
       "  <tbody>\n",
       "    <tr>\n",
       "      <th>3</th>\n",
       "      <td>200000.00</td>\n",
       "      <td>100000.00</td>\n",
       "      <td>10000</td>\n",
       "      <td>200000.00</td>\n",
       "      <td>100000.00</td>\n",
       "      <td>10000</td>\n",
       "      <td>100000.00</td>\n",
       "      <td>100000.00</td>\n",
       "      <td>10000000000.00</td>\n",
       "      <td>m   r_i_out    r_i_in         h       q_i  ...</td>\n",
       "      <td>...</td>\n",
       "      <td>1000000000000</td>\n",
       "      <td>i</td>\n",
       "      <td>1000.00</td>\n",
       "      <td>test_r_for_r</td>\n",
       "      <td>N/A</td>\n",
       "      <td>0</td>\n",
       "      <td>0</td>\n",
       "      <td>1</td>\n",
       "      <td>3</td>\n",
       "      <td>1</td>\n",
       "    </tr>\n",
       "    <tr>\n",
       "      <th>6</th>\n",
       "      <td>200000.00</td>\n",
       "      <td>100000.00</td>\n",
       "      <td>10000</td>\n",
       "      <td>200000.00</td>\n",
       "      <td>100000.00</td>\n",
       "      <td>10000</td>\n",
       "      <td>100000.00</td>\n",
       "      <td>100000.00</td>\n",
       "      <td>10000000000.00</td>\n",
       "      <td>m   r_i_out    r_i_in         h       q_i  ...</td>\n",
       "      <td>...</td>\n",
       "      <td>1000000000000</td>\n",
       "      <td>NaN</td>\n",
       "      <td>NaN</td>\n",
       "      <td>no_trade</td>\n",
       "      <td>N/A</td>\n",
       "      <td>0</td>\n",
       "      <td>0</td>\n",
       "      <td>1</td>\n",
       "      <td>3</td>\n",
       "      <td>2</td>\n",
       "    </tr>\n",
       "    <tr>\n",
       "      <th>9</th>\n",
       "      <td>200000.00</td>\n",
       "      <td>100000.00</td>\n",
       "      <td>10000</td>\n",
       "      <td>200000.00</td>\n",
       "      <td>100000.00</td>\n",
       "      <td>10000</td>\n",
       "      <td>100000.00</td>\n",
       "      <td>100000.00</td>\n",
       "      <td>10000000000.00</td>\n",
       "      <td>m   r_i_out    r_i_in         h       q_i  ...</td>\n",
       "      <td>...</td>\n",
       "      <td>1000000000000</td>\n",
       "      <td>NaN</td>\n",
       "      <td>NaN</td>\n",
       "      <td>no_trade</td>\n",
       "      <td>N/A</td>\n",
       "      <td>0</td>\n",
       "      <td>0</td>\n",
       "      <td>1</td>\n",
       "      <td>3</td>\n",
       "      <td>3</td>\n",
       "    </tr>\n",
       "    <tr>\n",
       "      <th>12</th>\n",
       "      <td>200000.00</td>\n",
       "      <td>100000.00</td>\n",
       "      <td>10000</td>\n",
       "      <td>200000.00</td>\n",
       "      <td>100000.00</td>\n",
       "      <td>10000</td>\n",
       "      <td>100000.00</td>\n",
       "      <td>100000.00</td>\n",
       "      <td>10000000000.00</td>\n",
       "      <td>m   r_i_out    r_i_in         h       q_i  ...</td>\n",
       "      <td>...</td>\n",
       "      <td>1000000000000</td>\n",
       "      <td>NaN</td>\n",
       "      <td>NaN</td>\n",
       "      <td>no_trade</td>\n",
       "      <td>j</td>\n",
       "      <td>0</td>\n",
       "      <td>0</td>\n",
       "      <td>1</td>\n",
       "      <td>3</td>\n",
       "      <td>4</td>\n",
       "    </tr>\n",
       "    <tr>\n",
       "      <th>15</th>\n",
       "      <td>200000.00</td>\n",
       "      <td>100000.00</td>\n",
       "      <td>10000</td>\n",
       "      <td>200000.00</td>\n",
       "      <td>100000.00</td>\n",
       "      <td>10000</td>\n",
       "      <td>100000.00</td>\n",
       "      <td>100000.00</td>\n",
       "      <td>10000000000.00</td>\n",
       "      <td>m   r_i_out    r_i_in         h       q_i  ...</td>\n",
       "      <td>...</td>\n",
       "      <td>1000000000000</td>\n",
       "      <td>j</td>\n",
       "      <td>1000.00</td>\n",
       "      <td>test_r_for_r</td>\n",
       "      <td>N/A</td>\n",
       "      <td>0</td>\n",
       "      <td>0</td>\n",
       "      <td>1</td>\n",
       "      <td>3</td>\n",
       "      <td>5</td>\n",
       "    </tr>\n",
       "  </tbody>\n",
       "</table>\n",
       "<p>5 rows × 30 columns</p>\n",
       "</div>"
      ],
      "text/plain": [
       "      UNI_Qi    UNI_Ri  UNI_Si    UNI_Qj    UNI_Rj  UNI_Sj    UNI_ij  \\\n",
       "3  200000.00 100000.00   10000 200000.00 100000.00   10000 100000.00   \n",
       "6  200000.00 100000.00   10000 200000.00 100000.00   10000 100000.00   \n",
       "9  200000.00 100000.00   10000 200000.00 100000.00   10000 100000.00   \n",
       "12 200000.00 100000.00   10000 200000.00 100000.00   10000 100000.00   \n",
       "15 200000.00 100000.00   10000 200000.00 100000.00   10000 100000.00   \n",
       "\n",
       "      UNI_ji        UNI_Sij  \\\n",
       "3  100000.00 10000000000.00   \n",
       "6  100000.00 10000000000.00   \n",
       "9  100000.00 10000000000.00   \n",
       "12 100000.00 10000000000.00   \n",
       "15 100000.00 10000000000.00   \n",
       "\n",
       "                                           uni_agents  ...              C  \\\n",
       "3      m   r_i_out    r_i_in         h       q_i  ...  ...  1000000000000   \n",
       "6      m   r_i_out    r_i_in         h       q_i  ...  ...  1000000000000   \n",
       "9      m   r_i_out    r_i_in         h       q_i  ...  ...  1000000000000   \n",
       "12     m   r_i_out    r_i_in         h       q_i  ...  ...  1000000000000   \n",
       "15     m   r_i_out    r_i_in         h       q_i  ...  ...  1000000000000   \n",
       "\n",
       "    asset_random_choice  trade_random_size trade_random_direction  \\\n",
       "3                     i            1000.00           test_r_for_r   \n",
       "6                   NaN                NaN               no_trade   \n",
       "9                   NaN                NaN               no_trade   \n",
       "12                  NaN                NaN               no_trade   \n",
       "15                    j            1000.00           test_r_for_r   \n",
       "\n",
       "    purchased_asset_id  simulation  subset  run  substep timestep  \n",
       "3                  N/A           0       0    1        3        1  \n",
       "6                  N/A           0       0    1        3        2  \n",
       "9                  N/A           0       0    1        3        3  \n",
       "12                   j           0       0    1        3        4  \n",
       "15                 N/A           0       0    1        3        5  \n",
       "\n",
       "[5 rows x 30 columns]"
      ]
     },
     "execution_count": 7,
     "metadata": {},
     "output_type": "execute_result"
    }
   ],
   "source": [
    "rdf.head(5)"
   ]
  },
  {
   "cell_type": "code",
   "execution_count": 8,
   "metadata": {
    "scrolled": true
   },
   "outputs": [
    {
     "data": {
      "text/html": [
       "<div>\n",
       "<style scoped>\n",
       "    .dataframe tbody tr th:only-of-type {\n",
       "        vertical-align: middle;\n",
       "    }\n",
       "\n",
       "    .dataframe tbody tr th {\n",
       "        vertical-align: top;\n",
       "    }\n",
       "\n",
       "    .dataframe thead th {\n",
       "        text-align: right;\n",
       "    }\n",
       "</style>\n",
       "<table border=\"1\" class=\"dataframe\">\n",
       "  <thead>\n",
       "    <tr style=\"text-align: right;\">\n",
       "      <th></th>\n",
       "      <th>UNI_Qi</th>\n",
       "      <th>UNI_Ri</th>\n",
       "      <th>UNI_Si</th>\n",
       "      <th>UNI_Qj</th>\n",
       "      <th>UNI_Rj</th>\n",
       "      <th>UNI_Sj</th>\n",
       "      <th>UNI_ij</th>\n",
       "      <th>UNI_ji</th>\n",
       "      <th>UNI_Sij</th>\n",
       "      <th>uni_agents</th>\n",
       "      <th>...</th>\n",
       "      <th>C</th>\n",
       "      <th>asset_random_choice</th>\n",
       "      <th>trade_random_size</th>\n",
       "      <th>trade_random_direction</th>\n",
       "      <th>purchased_asset_id</th>\n",
       "      <th>simulation</th>\n",
       "      <th>subset</th>\n",
       "      <th>run</th>\n",
       "      <th>substep</th>\n",
       "      <th>timestep</th>\n",
       "    </tr>\n",
       "  </thead>\n",
       "  <tbody>\n",
       "    <tr>\n",
       "      <th>24</th>\n",
       "      <td>200000.00</td>\n",
       "      <td>100000.00</td>\n",
       "      <td>10000</td>\n",
       "      <td>200000.00</td>\n",
       "      <td>100000.00</td>\n",
       "      <td>10000</td>\n",
       "      <td>100000.00</td>\n",
       "      <td>100000.00</td>\n",
       "      <td>10000000000.00</td>\n",
       "      <td>m   r_i_out    r_i_in         h       q_i  ...</td>\n",
       "      <td>...</td>\n",
       "      <td>1000000000000</td>\n",
       "      <td>NaN</td>\n",
       "      <td>NaN</td>\n",
       "      <td>no_trade</td>\n",
       "      <td>i</td>\n",
       "      <td>0</td>\n",
       "      <td>0</td>\n",
       "      <td>1</td>\n",
       "      <td>3</td>\n",
       "      <td>8</td>\n",
       "    </tr>\n",
       "    <tr>\n",
       "      <th>27</th>\n",
       "      <td>200000.00</td>\n",
       "      <td>100000.00</td>\n",
       "      <td>10000</td>\n",
       "      <td>200000.00</td>\n",
       "      <td>100000.00</td>\n",
       "      <td>10000</td>\n",
       "      <td>100000.00</td>\n",
       "      <td>100000.00</td>\n",
       "      <td>10000000000.00</td>\n",
       "      <td>m   r_i_out    r_i_in         h       q_i  ...</td>\n",
       "      <td>...</td>\n",
       "      <td>1000000000000</td>\n",
       "      <td>j</td>\n",
       "      <td>1000.00</td>\n",
       "      <td>test_r_for_r</td>\n",
       "      <td>N/A</td>\n",
       "      <td>0</td>\n",
       "      <td>0</td>\n",
       "      <td>1</td>\n",
       "      <td>3</td>\n",
       "      <td>9</td>\n",
       "    </tr>\n",
       "    <tr>\n",
       "      <th>30</th>\n",
       "      <td>200000.00</td>\n",
       "      <td>100000.00</td>\n",
       "      <td>10000</td>\n",
       "      <td>200000.00</td>\n",
       "      <td>100000.00</td>\n",
       "      <td>10000</td>\n",
       "      <td>100000.00</td>\n",
       "      <td>100000.00</td>\n",
       "      <td>10000000000.00</td>\n",
       "      <td>m   r_i_out    r_i_in         h       q_i  ...</td>\n",
       "      <td>...</td>\n",
       "      <td>1000000000000</td>\n",
       "      <td>NaN</td>\n",
       "      <td>NaN</td>\n",
       "      <td>no_trade</td>\n",
       "      <td>N/A</td>\n",
       "      <td>0</td>\n",
       "      <td>0</td>\n",
       "      <td>1</td>\n",
       "      <td>3</td>\n",
       "      <td>10</td>\n",
       "    </tr>\n",
       "    <tr>\n",
       "      <th>33</th>\n",
       "      <td>200000.00</td>\n",
       "      <td>100000.00</td>\n",
       "      <td>10000</td>\n",
       "      <td>200000.00</td>\n",
       "      <td>100000.00</td>\n",
       "      <td>10000</td>\n",
       "      <td>100000.00</td>\n",
       "      <td>100000.00</td>\n",
       "      <td>10000000000.00</td>\n",
       "      <td>m   r_i_out    r_i_in         h       q_i  ...</td>\n",
       "      <td>...</td>\n",
       "      <td>1000000000000</td>\n",
       "      <td>NaN</td>\n",
       "      <td>NaN</td>\n",
       "      <td>no_trade</td>\n",
       "      <td>N/A</td>\n",
       "      <td>0</td>\n",
       "      <td>0</td>\n",
       "      <td>1</td>\n",
       "      <td>3</td>\n",
       "      <td>11</td>\n",
       "    </tr>\n",
       "    <tr>\n",
       "      <th>36</th>\n",
       "      <td>200000.00</td>\n",
       "      <td>100000.00</td>\n",
       "      <td>10000</td>\n",
       "      <td>200000.00</td>\n",
       "      <td>100000.00</td>\n",
       "      <td>10000</td>\n",
       "      <td>100000.00</td>\n",
       "      <td>100000.00</td>\n",
       "      <td>10000000000.00</td>\n",
       "      <td>m   r_i_out    r_i_in         h       q_i  ...</td>\n",
       "      <td>...</td>\n",
       "      <td>1000000000000</td>\n",
       "      <td>NaN</td>\n",
       "      <td>NaN</td>\n",
       "      <td>no_trade</td>\n",
       "      <td>N/A</td>\n",
       "      <td>0</td>\n",
       "      <td>0</td>\n",
       "      <td>1</td>\n",
       "      <td>3</td>\n",
       "      <td>12</td>\n",
       "    </tr>\n",
       "  </tbody>\n",
       "</table>\n",
       "<p>5 rows × 30 columns</p>\n",
       "</div>"
      ],
      "text/plain": [
       "      UNI_Qi    UNI_Ri  UNI_Si    UNI_Qj    UNI_Rj  UNI_Sj    UNI_ij  \\\n",
       "24 200000.00 100000.00   10000 200000.00 100000.00   10000 100000.00   \n",
       "27 200000.00 100000.00   10000 200000.00 100000.00   10000 100000.00   \n",
       "30 200000.00 100000.00   10000 200000.00 100000.00   10000 100000.00   \n",
       "33 200000.00 100000.00   10000 200000.00 100000.00   10000 100000.00   \n",
       "36 200000.00 100000.00   10000 200000.00 100000.00   10000 100000.00   \n",
       "\n",
       "      UNI_ji        UNI_Sij  \\\n",
       "24 100000.00 10000000000.00   \n",
       "27 100000.00 10000000000.00   \n",
       "30 100000.00 10000000000.00   \n",
       "33 100000.00 10000000000.00   \n",
       "36 100000.00 10000000000.00   \n",
       "\n",
       "                                           uni_agents  ...              C  \\\n",
       "24     m   r_i_out    r_i_in         h       q_i  ...  ...  1000000000000   \n",
       "27     m   r_i_out    r_i_in         h       q_i  ...  ...  1000000000000   \n",
       "30     m   r_i_out    r_i_in         h       q_i  ...  ...  1000000000000   \n",
       "33     m   r_i_out    r_i_in         h       q_i  ...  ...  1000000000000   \n",
       "36     m   r_i_out    r_i_in         h       q_i  ...  ...  1000000000000   \n",
       "\n",
       "    asset_random_choice  trade_random_size trade_random_direction  \\\n",
       "24                  NaN                NaN               no_trade   \n",
       "27                    j            1000.00           test_r_for_r   \n",
       "30                  NaN                NaN               no_trade   \n",
       "33                  NaN                NaN               no_trade   \n",
       "36                  NaN                NaN               no_trade   \n",
       "\n",
       "    purchased_asset_id  simulation  subset  run  substep timestep  \n",
       "24                   i           0       0    1        3        8  \n",
       "27                 N/A           0       0    1        3        9  \n",
       "30                 N/A           0       0    1        3       10  \n",
       "33                 N/A           0       0    1        3       11  \n",
       "36                 N/A           0       0    1        3       12  \n",
       "\n",
       "[5 rows x 30 columns]"
      ]
     },
     "execution_count": 8,
     "metadata": {},
     "output_type": "execute_result"
    }
   ],
   "source": [
    "rdf.tail()"
   ]
  },
  {
   "cell_type": "markdown",
   "metadata": {},
   "source": [
    " "
   ]
  },
  {
   "cell_type": "markdown",
   "metadata": {},
   "source": [
    "# The pools and global states"
   ]
  },
  {
   "cell_type": "markdown",
   "metadata": {},
   "source": [
    "## Global State variables for the Uniswap world\n",
    "## i - Q instance\n",
    "### Quantities of i-th risk asset, the Q asset and the i-asset shares\n",
    "\n",
    "The following command lines **create three plots** that show: (for the i-th asset)\n",
    "- on the left: the quantity of base asset `model_UNI_Qi` \n",
    "- center: the quantity of risk asset `model_UNI_Ri` \n",
    "- on the right: the quantity of shares `model_UNI_Si`\n",
    "over all simulation steps\n",
    "\n",
    "To show other assets the suffix of these commands can be replaced by f.e. `Qj` instead of `Qi`"
   ]
  },
  {
   "cell_type": "code",
   "execution_count": 9,
   "metadata": {},
   "outputs": [
    {
     "data": {
      "image/png": "[encoded data removed]",
      "text/plain": [
       "<Figure size 1440x432 with 3 Axes>"
      ]
     },
     "metadata": {
      "needs_background": "light"
     },
     "output_type": "display_data"
    }
   ],
   "source": [
    "plt.figure(figsize=(20,6))\n",
    "ax = plt.subplot(131)\n",
    "model_history.astype(float).plot(ax=ax, y=['model_UNI_Qi'])\n",
    "plt.title('UNISWAP Asset i Q-Base Token')\n",
    "\n",
    "ax = plt.subplot(132)\n",
    "model_history.astype(float).plot(ax=ax, y=['model_UNI_Ri'])\n",
    "plt.title('UNISWAP Asset i Reserve Risk')\n",
    "\n",
    "ax = plt.subplot(133)\n",
    "model_history.astype(float).plot(ax=ax, y=['model_UNI_Si'])\n",
    "plt.title('UNISWAP Asset i Shares')\n",
    "plt.show()"
   ]
  },
  {
   "cell_type": "markdown",
   "metadata": {},
   "source": [
    "### Prices of the i-th asset\n",
    "\n",
    "The following command line creates a plot of the prices: (for the i-th asset)\n",
    "- the swap price of the risk asset \n",
    "- the pool ratio price of the risk asset\n",
    "\n",
    "Comparison of both plots shows the effects of fees.\n",
    "\n",
    "For experiments where the price of the asset is affected - for example when it is traded - we expect this price either to rise or fall accordingly. For liquidity adds this price should remain unchanged.\n",
    "\n",
    "To show other assets the suffix of these commands can be replaced by f.e. `Qj` instead of `Qi`"
   ]
  },
  {
   "cell_type": "code",
   "execution_count": 10,
   "metadata": {},
   "outputs": [
    {
     "data": {
      "image/png": "[encoded data removed]",
      "text/plain": [
       "<Figure size 864x576 with 1 Axes>"
      ]
     },
     "metadata": {
      "needs_background": "light"
     },
     "output_type": "display_data"
    }
   ],
   "source": [
    "price_plot(rdf,'UNISWAP Asset i Price', 'UNI_P_RQi', 'UNI_Ri', 'UNI_Qi')"
   ]
  },
  {
   "cell_type": "markdown",
   "metadata": {},
   "source": [
    "## j - Q instance\n",
    "### Quantities of j-th risk asset, the Q asset and the j-asset shares\n",
    "\n",
    "\n",
    "The following command lines create three plots that show: (for the j-th asset)\n",
    "- on the left: the quantity of base asset `UNI_Qj` \n",
    "- center: the quantity of risk asset `UNI_Rj`\n",
    "- on the right: the quantity of shares `UNI_Sj`\n",
    "\n",
    "over the simulation steps"
   ]
  },
  {
   "cell_type": "code",
   "execution_count": 11,
   "metadata": {},
   "outputs": [
    {
     "data": {
      "image/png": "[encoded data removed]",
      "text/plain": [
       "<Figure size 1440x432 with 3 Axes>"
      ]
     },
     "metadata": {
      "needs_background": "light"
     },
     "output_type": "display_data"
    }
   ],
   "source": [
    "plt.figure(figsize=(20,6))\n",
    "ax = plt.subplot(131)\n",
    "uniswap_j.astype(float).plot(ax=ax, y=['UNI_Qj'])\n",
    "plt.title('UNISWAP Asset j Q-Base Token')\n",
    "\n",
    "ax = plt.subplot(132)\n",
    "uniswap_j.astype(float).plot(ax=ax, y=['UNI_Rj'])\n",
    "plt.title('UNISWAP Asset j Reserve Risk')\n",
    "\n",
    "ax = plt.subplot(133)\n",
    "uniswap_j.astype(float).plot(ax=ax, y=['UNI_Sj'])\n",
    "plt.title('UNISWAP Asset j Shares')\n",
    "plt.show()"
   ]
  },
  {
   "cell_type": "markdown",
   "metadata": {},
   "source": [
    "### Prices of the j-th asset\n",
    "\n",
    "The following command line creates a plot of the prices: (for the j-th asset)\n",
    "- the swap price of the risk asset \n",
    "- the pool ratio price of the risk asset\n",
    "\n",
    "Comparison of both plots shows the effects of fees.\n",
    "\n",
    "For experiments where the price of the asset is affected - for example when it is traded - we expect this price either to rise or fall accordingly. For liquidity adds this price should remain unchanged."
   ]
  },
  {
   "cell_type": "code",
   "execution_count": 12,
   "metadata": {},
   "outputs": [
    {
     "data": {
      "image/png": "[encoded data removed]",
      "text/plain": [
       "<Figure size 864x576 with 1 Axes>"
      ]
     },
     "metadata": {
      "needs_background": "light"
     },
     "output_type": "display_data"
    }
   ],
   "source": [
    "price_plot(rdf,'UNISWAP Asset j Price', 'UNI_P_RQj', 'UNI_Rj', 'UNI_Qj')"
   ]
  },
  {
   "cell_type": "markdown",
   "metadata": {},
   "source": [
    "## i-j instance\n",
    "### Quantities of i-th risk asset, the j-th risk asset and the i-j-asset shares\n",
    "\n",
    "\n",
    "The following command lines create three plots that show: (for the j-th asset)\n",
    "- on the left: the quantity of the i-th asset `UNI_ij` \n",
    "- center: the quantity of the j-th asset `UNI_ji`\n",
    "- on the right: the quantity of i-j-shares `UNI_Sij`\n",
    "\n",
    "over the simulation steps"
   ]
  },
  {
   "cell_type": "code",
   "execution_count": 13,
   "metadata": {},
   "outputs": [
    {
     "data": {
      "image/png": "[encoded data removed]",
      "text/plain": [
       "<Figure size 1440x432 with 3 Axes>"
      ]
     },
     "metadata": {
      "needs_background": "light"
     },
     "output_type": "display_data"
    }
   ],
   "source": [
    "plt.figure(figsize=(20,6))\n",
    "ax = plt.subplot(131)\n",
    "uniswap_ij.astype(float).plot(ax=ax, y=['UNI_ij'])\n",
    "plt.title('UNISWAP IJ Instance Asset i Token')\n",
    "\n",
    "ax = plt.subplot(132)\n",
    "uniswap_ij.astype(float).plot(ax=ax, y=['UNI_ji'])\n",
    "plt.title('UNISWAP IJ Instance Asset j Token')\n",
    "\n",
    "ax = plt.subplot(133)\n",
    "uniswap_ij.astype(float).plot(ax=ax, y=['UNI_Sij'])\n",
    "plt.title('UNISWAP IJ Instance Shares')\n",
    "plt.show()"
   ]
  },
  {
   "cell_type": "markdown",
   "metadata": {},
   "source": [
    "### Prices of the i-j asset swap\n",
    "\n",
    "The following command line creates a plot of the swap prices\n",
    "- the swap price of the risk asset \n",
    "- the pool ratio price of the risk asset\n",
    "\n",
    "Comparison of both plots shows the effects of fees."
   ]
  },
  {
   "cell_type": "code",
   "execution_count": 14,
   "metadata": {},
   "outputs": [
    {
     "data": {
      "image/png": "[encoded data removed]",
      "text/plain": [
       "<Figure size 864x576 with 1 Axes>"
      ]
     },
     "metadata": {
      "needs_background": "light"
     },
     "output_type": "display_data"
    }
   ],
   "source": [
    "price_plot(rdf,'UNISWAP Instance ij Price', 'UNI_P_ij', 'UNI_ji','UNI_ij' )"
   ]
  },
  {
   "cell_type": "markdown",
   "metadata": {},
   "source": [
    "\n",
    "## Global State Variables for Hydra instance\n",
    "\n",
    "The Hydra system state can be described with the following global variables:\n",
    "\n",
    "| Symbol | Name | Definition  | Domain |  | Unit | | \n",
    "| --------|------- | -------- | -------- | -------- | -------- |-------|\n",
    "| $H$     | HDX Total Supply     | Supply is the total quantity of the native protocol token (HDX).|  ${\\mathbb{R}_{++}}$| | HDX; an amount in real positive numbers\n",
    "| $Q$     | Base Pool Liquidity     | Base Pool Liquidity is the total quantity of the base asset (HDX) inside Pool.|  ${\\mathbb{R}_{+}}$| | HDX; a positive real number if a pool has at least one risk asset\n",
    "| $\\mathbf{\\vec{R}}$ | Reserve Risk Assets     | An $n$-dimensional vector whose components are quantities of risk assets provided to the Liquidity Pool by liquidity providers.      |  $\\mathbb{R}_{++}^{n}$ | | BTC, ETH, DOT,...; a vector of real positive numbers denoting quantities of each asset in the pool.\n",
    "| $\\mathbf{\\vec{S}}$     | Asset Shares     | Asset Shares are non-normalized values of each risk asset in the pool which are minted and distributed to the liquidity providers at time of inception of their asset into the Liquidity Pool. |  $\\mathbb{R}_{++}^{n}$ | | a vector of real positive numbers\n",
    "| $S^Q$     | Base Pool Share     | The Pool value share of the base asset (HDX), i.e. claims on $Q$.|  $\\mathbb{R}_{+}$ | | HDX; a real positive number if there exists at least one risk asset in the pool\n",
    "| $\\mathbf{\\vec{W}}$     | Asset Weights     | Asset Weights are non-normalized values of each risk asset in the pool used in the Uniswap/Balancer mechanisms. |  $\\mathbb{R}_{++}^{n}$ | | a vector of real positive numbers\n",
    "| $W^Q$     | Base Pool Weight     | The non-normalized Pool value weight of the base asset (HDX).|  $\\mathbb{R}_{+}$ | | a real positive number\n",
    "| $\\mathbf{{P}}$     | Price    | The Price is a (n+1)x(n+1) Matrix listing all spot prices for all risk assets present in the Liquidity pool. Its components $p_{i,j}$ are the prices of the i-th asset denoted in the j-th asset.| $\\mathbb{R}_{++}^{n\\times n}$ | | f.e: ETH/HDX; depending on the component $p_{ij}$ of the matrix the unit is currency$_i$ / currency$_j$ where for the above example $i$ is ETH and $j$ is HDX. |\n",
    "| $\\vec{p}^Q$     | Asset Base Price    | The Asset Base Price is a vector listing the spot prices of all risk assets in the pool in terms of the base asset HDX. | $\\mathbb{R}^n_{++}$ | | A real number representing the rate of exchange between a risk asset and HDX, e.g. ETH/HDX. |\n",
    "\n",
    "\n",
    "Notice that $H$, $Q$ and $S^Q$ represent the Base side of the Omnipool and are tracked separately in the Hydra World whereas the other variables representing the Risk side of the Omnipool are encoded in $\\mathbf{\\vec{R}}$ , $\\mathbf{\\vec{S}}$  are tracked by the `pool` variable"
   ]
  },
  {
   "cell_type": "markdown",
   "metadata": {},
   "source": [
    "## Hydra World\n",
    "### Base Asset side of the Omnipool\n",
    "### Quantities of the base asset in the pool and in the system, and the base-shares\n",
    "\n",
    "The following command lines create three plots that show: (for the base asset)\n",
    "- on the left: the quantity of base asset in the pool `Hydra_Q` \n",
    "- center: the total quantity of base asset in the system `Hydra_H` \n",
    "- on the right: the quantity of base asset shares `Hydra_Sq`\n",
    "\n",
    "over the simulation steps"
   ]
  },
  {
   "cell_type": "code",
   "execution_count": 15,
   "metadata": {},
   "outputs": [
    {
     "data": {
      "image/png": "[encoded data removed]",
      "text/plain": [
       "<Figure size 1440x432 with 3 Axes>"
      ]
     },
     "metadata": {
      "needs_background": "light"
     },
     "output_type": "display_data"
    }
   ],
   "source": [
    "plt.figure(figsize=(20,6))\n",
    "ax = plt.subplot(131)\n",
    "hydra.astype(float).plot(ax=ax, y=['Hydra_Q'])\n",
    "plt.title('Hydra Q in OmniPool')\n",
    "\n",
    "ax = plt.subplot(132) \n",
    "hydra.astype(float).plot(ax=ax, y=['Hydra_H'])\n",
    "plt.title('Hydra H Total')\n",
    "\n",
    "ax = plt.subplot(133)\n",
    "hydra.astype(float).plot(ax=ax, y=['Hydra_Sq'])\n",
    "plt.title('Hydra Sq Shares in OmniPool')\n",
    "plt.show()"
   ]
  },
  {
   "cell_type": "markdown",
   "metadata": {},
   "source": [
    "## Hydra World\n",
    "### Risk Asset side of the Omnipool\n",
    "### Quantities of the i-th risk asset, i-Shares and the price for i\n",
    "\n",
    "The following command line creates three plots for the Hydra Omnipool (for the i-th asset on the risk side)\n",
    "\n",
    "- the asset index can be set individually to `i`, `j`, etc.\n"
   ]
  },
  {
   "cell_type": "code",
   "execution_count": 16,
   "metadata": {},
   "outputs": [
    {
     "data": {
      "image/png": "[encoded data removed]",
      "text/plain": [
       "<Figure size 1440x432 with 4 Axes>"
      ]
     },
     "metadata": {
      "needs_background": "light"
     },
     "output_type": "display_data"
    }
   ],
   "source": [
    "hydra_pool_plot(rdf,'Asset i Reserve and Shares', rdf.last_valid_index(),str('i'))"
   ]
  },
  {
   "cell_type": "markdown",
   "metadata": {},
   "source": [
    "### Quantities of the j-th risk asset, j-Shares and the price for j\n",
    "\n",
    "The following command line creates three plots for the Hydra Omnipool \n",
    "\n",
    "- the asset index can be set individually to `i`, `j`, etc.\n"
   ]
  },
  {
   "cell_type": "code",
   "execution_count": 17,
   "metadata": {},
   "outputs": [
    {
     "data": {
      "image/png": "[encoded data removed]",
      "text/plain": [
       "<Figure size 1440x432 with 4 Axes>"
      ]
     },
     "metadata": {
      "needs_background": "light"
     },
     "output_type": "display_data"
    }
   ],
   "source": [
    "hydra_pool_plot(rdf,'Asset j Reserve and Shares', rdf.last_valid_index(),str('j'))"
   ]
  },
  {
   "cell_type": "markdown",
   "metadata": {},
   "source": [
    "### Quantities of the k-th risk asset, k-Shares and the price for k\n",
    "\n",
    "The following command line creates three plots for the Hydra Omnipool \n",
    "\n",
    "- the asset index can be set individually to `i`, `j`, etc."
   ]
  },
  {
   "cell_type": "code",
   "execution_count": 18,
   "metadata": {},
   "outputs": [
    {
     "ename": "KeyError",
     "evalue": "'k'",
     "output_type": "error",
     "traceback": [
      "\u001b[1;31m---------------------------------------------------------------------------\u001b[0m",
      "\u001b[1;31mKeyError\u001b[0m                                  Traceback (most recent call last)",
      "\u001b[1;32m<ipython-input-18-6eb6c6c6f64d>\u001b[0m in \u001b[0;36m<module>\u001b[1;34m\u001b[0m\n\u001b[1;32m----> 1\u001b[1;33m \u001b[0mhydra_pool_plot\u001b[0m\u001b[1;33m(\u001b[0m\u001b[0mrdf\u001b[0m\u001b[1;33m,\u001b[0m\u001b[1;34m'Asset k Reserve and Shares'\u001b[0m\u001b[1;33m,\u001b[0m \u001b[0mrdf\u001b[0m\u001b[1;33m.\u001b[0m\u001b[0mlast_valid_index\u001b[0m\u001b[1;33m(\u001b[0m\u001b[1;33m)\u001b[0m\u001b[1;33m,\u001b[0m\u001b[0mstr\u001b[0m\u001b[1;33m(\u001b[0m\u001b[1;34m'k'\u001b[0m\u001b[1;33m)\u001b[0m\u001b[1;33m)\u001b[0m\u001b[1;33m\u001b[0m\u001b[1;33m\u001b[0m\u001b[0m\n\u001b[0m",
      "\u001b[1;32m~\\Documents\\GitHub\\hydra\\model\\plot_utils.py\u001b[0m in \u001b[0;36mhydra_pool_plot\u001b[1;34m(experiments, test_title, T, asset_id)\u001b[0m\n\u001b[0;32m     23\u001b[0m     \u001b[1;32mfor\u001b[0m \u001b[0mi\u001b[0m \u001b[1;32min\u001b[0m \u001b[0mrange\u001b[0m \u001b[1;33m(\u001b[0m\u001b[0mdf\u001b[0m\u001b[1;33m.\u001b[0m\u001b[0msubstep\u001b[0m\u001b[1;33m.\u001b[0m\u001b[0mmax\u001b[0m\u001b[1;33m(\u001b[0m\u001b[1;33m)\u001b[0m\u001b[1;33m,\u001b[0m\u001b[0mT\u001b[0m\u001b[1;33m+\u001b[0m\u001b[0mdf\u001b[0m\u001b[1;33m.\u001b[0m\u001b[0msubstep\u001b[0m\u001b[1;33m.\u001b[0m\u001b[0mmax\u001b[0m\u001b[1;33m(\u001b[0m\u001b[1;33m)\u001b[0m\u001b[1;33m,\u001b[0m\u001b[0mdf\u001b[0m\u001b[1;33m.\u001b[0m\u001b[0msubstep\u001b[0m\u001b[1;33m.\u001b[0m\u001b[0mmax\u001b[0m\u001b[1;33m(\u001b[0m\u001b[1;33m)\u001b[0m\u001b[1;33m)\u001b[0m\u001b[1;33m:\u001b[0m\u001b[1;33m\u001b[0m\u001b[1;33m\u001b[0m\u001b[0m\n\u001b[0;32m     24\u001b[0m         \u001b[0masset_R_list\u001b[0m \u001b[1;33m=\u001b[0m \u001b[1;33m[\u001b[0m\u001b[1;33m]\u001b[0m\u001b[1;33m\u001b[0m\u001b[1;33m\u001b[0m\u001b[0m\n\u001b[1;32m---> 25\u001b[1;33m         \u001b[0masset_R_list\u001b[0m\u001b[1;33m.\u001b[0m\u001b[0mappend\u001b[0m\u001b[1;33m(\u001b[0m\u001b[0mdf\u001b[0m\u001b[1;33m.\u001b[0m\u001b[0mpool\u001b[0m\u001b[1;33m[\u001b[0m\u001b[0mi\u001b[0m\u001b[1;33m]\u001b[0m\u001b[1;33m.\u001b[0m\u001b[0mpool\u001b[0m\u001b[1;33m[\u001b[0m\u001b[0masset_id\u001b[0m\u001b[1;33m]\u001b[0m\u001b[1;33m[\u001b[0m\u001b[1;34m'R'\u001b[0m\u001b[1;33m]\u001b[0m\u001b[1;33m)\u001b[0m\u001b[1;33m\u001b[0m\u001b[1;33m\u001b[0m\u001b[0m\n\u001b[0m\u001b[0;32m     26\u001b[0m         \u001b[0masset_R\u001b[0m\u001b[1;33m.\u001b[0m\u001b[0mappend\u001b[0m\u001b[1;33m(\u001b[0m\u001b[0masset_R_list\u001b[0m\u001b[1;33m)\u001b[0m\u001b[1;33m\u001b[0m\u001b[1;33m\u001b[0m\u001b[0m\n\u001b[0;32m     27\u001b[0m \u001b[1;33m\u001b[0m\u001b[0m\n",
      "\u001b[1;31mKeyError\u001b[0m: 'k'"
     ]
    }
   ],
   "source": [
    "hydra_pool_plot(rdf,'Asset k Reserve and Shares', rdf.last_valid_index(),str('k'))"
   ]
  },
  {
   "cell_type": "markdown",
   "metadata": {},
   "source": [
    "### Price comparison for assets on the risk side of the Omnipool\n",
    "\n",
    "The following command lines create a plots for the Hydra Omnipool prices:\n",
    "- Asset Base Prices\n",
    "- Share to Reserve Ratio Base Prices\n",
    "- Relative Asset Prices `i` to `j`\n",
    "- Relative Asset Prices `i` to `k`\n",
    "- Relative Asset Prices `j` to `k`\n",
    "\n",
    "    "
   ]
  },
  {
   "cell_type": "code",
   "execution_count": null,
   "metadata": {
    "tags": []
   },
   "outputs": [],
   "source": [
    "hydra_pool_price_plot(rdf,'Asset Base Price', rdf.last_valid_index(),['i', 'j','k'])"
   ]
  },
  {
   "cell_type": "code",
   "execution_count": null,
   "metadata": {},
   "outputs": [],
   "source": [
    "relative_value_plot(rdf,'Asset Relative Value Change', rdf.last_valid_index(),['i', 'j','k'])"
   ]
  },
  {
   "cell_type": "code",
   "execution_count": null,
   "metadata": {},
   "outputs": [],
   "source": [
    "relative_liq_plot(rdf,'Asset Relative Value Change', rdf.last_valid_index(),['i', 'j','k'])"
   ]
  },
  {
   "cell_type": "code",
   "execution_count": null,
   "metadata": {},
   "outputs": [],
   "source": [
    "trade_liq_plot(rdf,'Share to Reserve Ratio Base Price', rdf.last_valid_index(),['i', 'j','k'])"
   ]
  },
  {
   "cell_type": "code",
   "execution_count": null,
   "metadata": {},
   "outputs": [],
   "source": [
    "rel_price_plot(rdf,'Relative Asset Prices', rdf.last_valid_index(),['i', 'j'])"
   ]
  },
  {
   "cell_type": "code",
   "execution_count": null,
   "metadata": {},
   "outputs": [],
   "source": [
    "rel_price_plot(rdf,'Relative Asset Prices', rdf.last_valid_index(),['i', 'k'])"
   ]
  },
  {
   "cell_type": "code",
   "execution_count": null,
   "metadata": {},
   "outputs": [],
   "source": [
    "rel_price_plot(rdf,'Relative Asset Prices', rdf.last_valid_index(),['j', 'k'])"
   ]
  },
  {
   "cell_type": "markdown",
   "metadata": {},
   "source": [
    "\n",
    "# Agents and their Local State Variables\n",
    "\n",
    "The following section tracks the development for the agent states.\n",
    "As every agent is defined to be responsible for a different action and all agent states are shown this section can be used to assess \n",
    "- the intentional changes in the local states directly affected by the actions, and\n",
    "- the unintentional changes in local states of other agents who are indirectly affected\n",
    "\n",
    "All agents carry the following local states:\n",
    "\n",
    "| Symbol | Name | Definition  | Domain |   | Unit\n",
    "| -------- | -------- | -------- | -------- | -------- | --------|\n",
    "| $\\mathbf{r}^j$     | Reserve Assets     | Reserve Assets are quantities of privately held risk assets by liquidity provider agent $j$ which are not (yet) related to the Liquidity Pool. |  $\\mathbb{R}_{+}^{n}$| | BTC, ETH, DOT,...; an amount in real non-negative numbers denoted in the respective currency unit\n",
    "| $h^j$     | Base Asset     | Total Base Asset (HDX) amount of $H$ held by agent $j$. |  $\\mathbb{R}_{+}$| | a real non-negative amount of HDX |\n",
    "| $\\mathbf{s}^j$     | Risk Asset Shares     | Risk Asset Share as value of liquidity provider agent $j$'s contribution of risk asset(s) to the Liquidity Pool, minted and distributed (as a claim) to agent $j$ at the time of introduction into the Pool.| $\\mathbb{R}_{+}^{n}$  | |a vector of amounts in real non-negative numbers\n",
    "| $s^{qj}$     | Base Asset Share     | Base Asset (HDX) share as value of liquidity provider agent $j$'s contribution of HDX to the Liquidity Pool,  minted and distributed to agent $j$ (as a claim) at the time of introduction into the Pool.| $\\mathbb{R}_{+}$  | |a real non-negative number\n",
    "\n",
    "To locate specific values in the dataframe the commands\n",
    "- `first_valid_index()`\n",
    "- `first_valid_index()*x`\n",
    "- `last_valid_index()`\n",
    "\n",
    "can be used.\n"
   ]
  },
  {
   "cell_type": "markdown",
   "metadata": {},
   "source": [
    "## Hydra World\n",
    "\n",
    "Results for the copy of the agents going through the Hydra world are saved in `hydra_agents`\n"
   ]
  },
  {
   "cell_type": "code",
   "execution_count": null,
   "metadata": {},
   "outputs": [],
   "source": [
    "rdf['hydra_agents'][rdf.first_valid_index()]"
   ]
  },
  {
   "cell_type": "code",
   "execution_count": null,
   "metadata": {},
   "outputs": [],
   "source": [
    "rdf['hydra_agents'][rdf.first_valid_index()*10]"
   ]
  },
  {
   "cell_type": "markdown",
   "metadata": {},
   "source": [
    "## Uniswap world\n",
    "\n",
    "Results for the copy of the agents going through the Hydra world are saved in `uni_agents`"
   ]
  },
  {
   "cell_type": "code",
   "execution_count": null,
   "metadata": {},
   "outputs": [],
   "source": [
    "rdf['uni_agents'][rdf.first_valid_index()]"
   ]
  },
  {
   "cell_type": "code",
   "execution_count": null,
   "metadata": {},
   "outputs": [],
   "source": [
    "rdf['uni_agents'][rdf.first_valid_index()*10]"
   ]
  },
  {
   "cell_type": "markdown",
   "metadata": {},
   "source": [
    "## Agent Token Holdings - Uniswap World\n",
    "\n",
    "\n",
    "The following command line creates eight plots, one for each agent individually, showing his token holdings \n"
   ]
  },
  {
   "cell_type": "code",
   "execution_count": null,
   "metadata": {},
   "outputs": [],
   "source": [
    "agent_plot(rdf,'Uniswap Token Holding for Agent ', len(rdf['timestep'])) #,4,'j')"
   ]
  },
  {
   "cell_type": "markdown",
   "metadata": {},
   "source": [
    "## Agent Values - Uniswap World\n",
    "\n",
    "The following command line creates eight plots, one for each agents showing his values. These are the token holdings multiplied by price.\n",
    "  \n",
    "\n"
   ]
  },
  {
   "cell_type": "code",
   "execution_count": null,
   "metadata": {
    "tags": []
   },
   "outputs": [],
   "source": [
    "agent_value_plot(rdf,'Uniswap Value of S, R, and H in H equivalent', len(rdf['timestep'])) #,2, 'i')"
   ]
  },
  {
   "cell_type": "markdown",
   "metadata": {},
   "source": [
    "## Agent Token Holdings - Hydra World\n",
    "\n",
    "The following command line creates eight plots, one for each agents indivudially, showing his token holdings\n"
   ]
  },
  {
   "cell_type": "code",
   "execution_count": null,
   "metadata": {},
   "outputs": [],
   "source": [
    "hydra_agent_plot(rdf,'Hydra Token Holdings for Agent ', len(rdf['timestep']))"
   ]
  },
  {
   "cell_type": "markdown",
   "metadata": {},
   "source": [
    "## Agent Values - Hydra World\n",
    "\n",
    "The following command line creates eight plots, one for each agents showing his values. These are the token holdings multiplied by price.\n"
   ]
  },
  {
   "cell_type": "code",
   "execution_count": null,
   "metadata": {},
   "outputs": [],
   "source": [
    "hydra_agent_value_plot(rdf,'Hydra Omnipool Value of Si, Ri, and H in H equivalent', len(rdf['timestep'])) #,2, 'i')"
   ]
  },
  {
   "cell_type": "code",
   "execution_count": null,
   "metadata": {},
   "outputs": [],
   "source": [
    "hydra_agent_value_plot_rev(rdf,'Hydra Omnipool Value of Si, Ri, and H in H equivalent', len(rdf['timestep'])) #,2, 'i')"
   ]
  },
  {
   "cell_type": "code",
   "execution_count": null,
   "metadata": {},
   "outputs": [],
   "source": [
    "rdf['hydra_agents'][rdf.last_valid_index()]"
   ]
  },
  {
   "cell_type": "code",
   "execution_count": null,
   "metadata": {},
   "outputs": [],
   "source": [
    "final_holdngs = rdf['hydra_agents'][rdf.last_valid_index()]"
   ]
  },
  {
   "cell_type": "code",
   "execution_count": null,
   "metadata": {},
   "outputs": [],
   "source": [
    "rdf['pool'][rdf.last_valid_index()].pool['i']['P']"
   ]
  },
  {
   "cell_type": "code",
   "execution_count": null,
   "metadata": {},
   "outputs": [],
   "source": [
    "a = final_holdngs['r_i_out']*rdf['pool'][rdf.last_valid_index()].pool['i']['P']"
   ]
  },
  {
   "cell_type": "code",
   "execution_count": null,
   "metadata": {},
   "outputs": [],
   "source": [
    "b = final_holdngs['r_j_out']*rdf['pool'][rdf.last_valid_index()].pool['j']['P']"
   ]
  },
  {
   "cell_type": "code",
   "execution_count": null,
   "metadata": {},
   "outputs": [],
   "source": [
    "c = final_holdngs['h']"
   ]
  },
  {
   "cell_type": "code",
   "execution_count": null,
   "metadata": {},
   "outputs": [],
   "source": [
    "a+b+c"
   ]
  },
  {
   "cell_type": "markdown",
   "metadata": {},
   "source": [
    "### Impermanent Loss (IL) calculation\n",
    "\n",
    "Impermanent loss is defined as \n",
    "\n",
    "$$\n",
    "IL = \\frac{\\delta Pool Value}{\\delta Hold Value} - 1\n",
    "$$\n"
   ]
  },
  {
   "cell_type": "code",
   "execution_count": null,
   "metadata": {},
   "outputs": [],
   "source": [
    "IL_plot(rdf,'Impermanent Loss in Uniswap Instances Over Fixed Windows of ', 30)"
   ]
  },
  {
   "cell_type": "code",
   "execution_count": null,
   "metadata": {},
   "outputs": [],
   "source": []
  }
 ],
 "metadata": {
  "kernelspec": {
   "display_name": "Python 3",
   "language": "python",
   "name": "python3"
  },
  "language_info": {
   "codemirror_mode": {
    "name": "ipython",
    "version": 3
   },
   "file_extension": ".py",
   "mimetype": "text/x-python",
   "name": "python",
   "nbconvert_exporter": "python",
   "pygments_lexer": "ipython3",
   "version": "3.8.5"
  }
 },
 "nbformat": 4,
 "nbformat_minor": 4
}
