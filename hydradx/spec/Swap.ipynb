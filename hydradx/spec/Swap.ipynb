{
 "cells": [
  {
   "cell_type": "markdown",
   "id": "3a019cad-b7a2-4bf9-b81e-5f28141864b5",
   "metadata": {},
   "source": [
    "# Swap\n",
    "Agent $\\alpha$ swaps asset $i$ with the protocol for asset $j$."
   ]
  },
  {
   "cell_type": "markdown",
   "id": "cbd1fc94-6088-4675-8c62-888cba86554f",
   "metadata": {},
   "source": [
    "## Sell\n",
    "Agent $\\alpha$ sells asset $i$ in quantity $\\Delta R_i$ for asset $j$."
   ]
  },
  {
   "cell_type": "markdown",
   "id": "51648369-2057-4905-a247-9c16ae6d58d9",
   "metadata": {},
   "source": [
    "### Constraints"
   ]
  },
  {
   "cell_type": "markdown",
   "id": "c6ee0aad-6886-461e-9f21-b0f42cf1e867",
   "metadata": {},
   "source": [
    "The swap will keep the swap invariant for assets $i$ and $j$, $R_iQ_i$ and $R_jQ_j$, constant, in the case that fees are set to $0$."
   ]
  },
  {
   "cell_type": "markdown",
   "id": "ba781d91-49f5-4073-b5ae-511c7d1ce160",
   "metadata": {},
   "source": [
    "## Updating AMM state"
   ]
  },
  {
   "cell_type": "markdown",
   "id": "9aa49408-fdd1-4bec-9022-5f052152cfaf",
   "metadata": {},
   "source": [
    "### Calculating swaps"
   ]
  },
  {
   "cell_type": "markdown",
   "id": "9731de03-4924-4f6b-a6ce-bdb5fdcf91a4",
   "metadata": {},
   "source": [
    "#### Case 1: Asset $j$ bought in quantity $-\\Delta R_j$ with asset $i$"
   ]
  },
  {
   "cell_type": "markdown",
   "id": "4554c820-71a3-4981-92ea-3442640e4537",
   "metadata": {},
   "source": [
    "$$\n",
    "\\begin{align}\n",
    "\\tilde{\\Delta Q_j} &= Q_j\\frac{- \\Delta R_j}{R_j(1 - f_A) + \\Delta R_j}\\\\\n",
    "\\tilde{\\Delta Q_i} &= -\\frac{\\tilde{\\Delta Q_j}}{1 - f_P}\\\\\n",
    "\\Delta R_i &= R_i\\frac{- \\tilde{\\Delta Q_i}}{Q_i + \\tilde{\\Delta Q_i}}\n",
    "\\end{align}\n",
    "$$\n",
    "\n",
    "Now that the correct $\\Delta R_i$ is computed, we can treat this trade as a \"sell\" trade of asset $i$ in quantity $\\Delta R_i$."
   ]
  },
  {
   "cell_type": "markdown",
   "id": "e804ecc1-eec1-47c5-8ced-66a0dbf9bd51",
   "metadata": {},
   "source": [
    "#### Case 2: Asset $i$ sold in quantity $\\Delta R_i$ for asset $j$"
   ]
  },
  {
   "cell_type": "markdown",
   "id": "18d8bacc-8771-4746-b4c7-251223447d2f",
   "metadata": {},
   "source": [
    "Asset $i$ is sold for asset $j$ in a series of trades, with \n",
    "$$\n",
    "\\begin{align}\n",
    "\\Delta Q_i &= Q_i\\frac{- \\Delta R_i}{R_i + \\Delta R_i}\\\\\n",
    "\\Delta Q_j' &= -\\Delta Q_i (1 - f_P)\\\\\n",
    "\\Delta R_j' &= R_j\\frac{- \\Delta Q_j'}{Q_j + \\Delta Q_j'}\\\\\n",
    "\\Delta R_j &= \\Delta R_j'(1 - f_A)\n",
    "\\end{align}\n",
    "$$"
   ]
  },
  {
   "cell_type": "markdown",
   "id": "788f40f3-75e0-4adf-a473-17d9f5f03bc7",
   "metadata": {},
   "source": [
    "### Fee accounting"
   ]
  },
  {
   "cell_type": "markdown",
   "id": "826aedb1-dcd5-4b35-8f81-7cc5ca6faad2",
   "metadata": {},
   "source": [
    "The LRNA fee amount is $-\\Delta Q_i f_P$, and it is burned until $L$ is brought up to $0$, at which point fees are moved to the LRNA side of the HDX sub-pool in Omnipool.\n",
    "$$\n",
    "\\begin{align}\n",
    "\\Delta L &= min(-\\Delta Q_i f_P, -L)\\\\\n",
    "\\Delta Q_H &= -\\Delta Q_i f_P - \\Delta L\n",
    "\\end{align}\n",
    "$$\n",
    "where $Q_H$ is the LRNA side of the HDX sub-pool.\n",
    "\n"
   ]
  },
  {
   "cell_type": "markdown",
   "id": "e4ce191c-569b-424f-b494-1ffefd0b2116",
   "metadata": {},
   "source": [
    "## Direct calculation (updating pool state)\n",
    "### $\\Delta R_i > 0$ provided\n",
    "$$\n",
    "\\begin{align}\n",
    "\\Delta Q_i &= Q_i \\frac{-\\Delta R_i}{R_i + \\Delta R_i}\\\\\n",
    "\\Delta Q_j &= -\\Delta Q_i(1 - f_P)\\\\\n",
    "\\Delta R_j &= R_j \\frac{-\\Delta Q_j}{Q_j + \\Delta Q_j}(1 - f_A)\\\\\n",
    "\\Delta L &= min(-\\Delta Q_i f_P, -L)\\\\\n",
    "\\Delta Q_H &= -\\Delta Q_i f_P - \\Delta L\n",
    "\\end{align}\n",
    "$$"
   ]
  },
  {
   "cell_type": "markdown",
   "id": "549adee6-8c99-4801-be86-10c77b584467",
   "metadata": {},
   "source": [
    "### $\\Delta R_j < 0$ provided\n",
    "$$\n",
    "\\begin{align}\n",
    "\\Delta Q_j &= Q_j\\frac{-\\Delta R_j}{R_j(1 - f_A) + \\Delta R_j}\\\\\n",
    "\\Delta Q_i &= -\\frac{\\Delta Q_j}{1 - f_P}\\\\\n",
    "\\Delta R_i &= R_i\\frac{-\\Delta Q_i}{Q_i + \\Delta Q_i}\\\\\n",
    "\\Delta L &= min(-\\Delta Q_i f_P, -L)\\\\\n",
    "\\Delta Q_H &= -\\Delta Q_i f_P - \\Delta L\n",
    "\\end{align}\n",
    "$$"
   ]
  },
  {
   "cell_type": "markdown",
   "id": "7ac04084-09e9-4e27-bdea-d4deed673ce3",
   "metadata": {},
   "source": [
    "## Updating agent state"
   ]
  },
  {
   "cell_type": "markdown",
   "id": "d7fa9187-309b-4fec-babe-7a101b56e4f2",
   "metadata": {},
   "source": [
    "We have\n",
    "$$\n",
    "\\Delta r^\\alpha_i = -\\Delta R_i\\\\\n",
    "\\Delta r^\\alpha_j = -\\Delta R_j\n",
    "$$"
   ]
  },
  {
   "cell_type": "markdown",
   "id": "561cfd32-9d31-4387-a955-30e4a76ba24b",
   "metadata": {},
   "source": [
    "## Fee calculation"
   ]
  },
  {
   "cell_type": "markdown",
   "id": "62014f46-6327-44b0-93e5-3c8eccbfa9e8",
   "metadata": {},
   "source": [
    "In other swap implementations, we calculate overall fee paid by the user in the asset not specified. Here we derive this for Omnipool. We calculate it as the difference between the amount out (in) when the amount in (out) is specified, between the existing fees and feeless case."
   ]
  },
  {
   "cell_type": "markdown",
   "id": "21a4ffa2-779e-4559-8e2f-c5389d72dd19",
   "metadata": {},
   "source": [
    "### $\\Delta R_i > 0$ provided\n",
    "We use a $0$ superscript to indicate feeless quantitie, i.e. the value of variables if both asset and protocol fees were zero.\n",
    "$$\n",
    "\\begin{align}\n",
    "fee &= \\Delta R_j - \\Delta R_j^0\\\\\n",
    "&= R_j \\frac{-\\Delta Q_j}{Q_j + \\Delta Q_j}(1 - f_A) - R_j \\frac{-\\Delta Q_j^0}{Q_j + \\Delta Q_j^0}\\\\\n",
    "&= R_j \\frac{\\Delta Q_i(1 - f_P)}{Q_j - \\Delta Q_i(1 - f_P)}(1 - f_A) - R_j \\frac{\\Delta Q_i}{Q_j - \\Delta Q_i}\\\\\n",
    "&= R_j \\left[\\frac{\\Delta Q_i(1 - f_P)(1 - f_A)(Q_j - \\Delta Q_i)}{(Q_j - \\Delta Q_i(1 - f_P))(Q_j - \\Delta Q_i)} - \\frac{\\Delta Q_i(Q_j - \\Delta Q_i(1 - f_P))}{(Q_j - \\Delta Q_i)(Q_j - \\Delta Q_i(1 - f_P))}\\right]\\\\\n",
    "&= R_j \\left[\\frac{\\Delta Q_i(1 - f_P)(Q_j - \\Delta Q_i - f_A Q_j + f_A \\Delta Q_i) - \\Delta Q_i(Q_j - \\Delta Q_i(1 - f_P))}{(Q_j - \\Delta Q_i)(Q_j - \\Delta Q_i(1 - f_P))}\\right]\\\\\n",
    "&= R_j \\left[\\frac{\\Delta Q_i(1 - f_P)(Q_j - f_A Q_j + f_A \\Delta Q_i) - \\Delta Q_i Q_j}{(Q_j - \\Delta Q_i)(Q_j - \\Delta Q_i(1 - f_P))}\\right]\\\\\n",
    "&= R_j \\left[\\frac{\\Delta Q_i(-f_A Q_j + f_A \\Delta Q_i - f_P(Q_j - f_A Q_j + f_A \\Delta Q_i))}{(Q_j - \\Delta Q_i)(Q_j - \\Delta Q_i(1 - f_P))}\\right]\\\\\n",
    "&= R_j \\left[\\frac{\\Delta Q_i(-f_A Q_j + f_A \\Delta Q_i - f_PQ_j + f_P f_A Q_j -f_P f_A \\Delta Q_i)}{(Q_j - \\Delta Q_i)(Q_j - \\Delta Q_i(1 - f_P))}\\right]\\\\\n",
    "&= R_j \\left[\\frac{\\Delta Q_i(f_A (\\Delta Q_i - Q_j) - f_PQ_j + f_P f_A (Q_j -\\Delta Q_i))}{(Q_j - \\Delta Q_i)(Q_j - \\Delta Q_i(1 - f_P))}\\right]\\\\\n",
    "&= R_j \\Delta Q_i\\left[\\frac{-f_A - \\frac{f_PQ_j}{Q_j - \\Delta Q_i} + f_P f_A}{Q_j - \\Delta Q_i(1 - f_P)}\\right]\\\\\n",
    "&= R_j \\Delta Q_i\\left[\\frac{- \\frac{f_PQ_j}{Q_j - \\Delta Q_i} - (1 - f_P) f_A}{Q_j - \\Delta Q_i(1 - f_P)}\\right]\\\\\n",
    "&= R_j Q_i \\frac{-\\Delta R_i}{R_i + \\Delta R_i}\\left[\\frac{- \\frac{f_PQ_j}{Q_j - Q_i \\frac{-\\Delta R_i}{R_i + \\Delta R_i}} - (1 - f_P) f_A}{Q_j - Q_i \\frac{-\\Delta R_i}{R_i + \\Delta R_i}(1 - f_P)}\\right]\\\\\n",
    "&= R_j Q_i \\frac{-\\Delta R_i}{R_i + \\Delta R_i}\\left[\\frac{- \\frac{f_PQ_j(R_i + \\Delta R_i)}{Q_j(R_i + \\Delta R_i) + Q_i \\Delta R_i} - (R_i + \\Delta R_i)(1 - f_P) f_A}{Q_j(R_i + \\Delta R_i) + Q_i \\Delta R_i(1 - f_P)}\\right]\\\\\n",
    "&= -R_j Q_i \\Delta R_i\\left[\\frac{- \\frac{f_PQ_j}{Q_j(R_i + \\Delta R_i) + Q_i \\Delta R_i} - (1 - f_P) f_A}{Q_j(R_i + \\Delta R_i) + Q_i \\Delta R_i(1 - f_P)}\\right]\\\\\n",
    "&= R_j \\frac{Q_i \\Delta R_i}{Q_j(R_i + \\Delta R_i) + Q_i \\Delta R_i(1 - f_P)}\\left[ \\frac{f_PQ_j}{Q_j(R_i + \\Delta R_i) + Q_i \\Delta R_i} + (1 - f_P) f_A\\right]\\\\\n",
    "\\end{align}\n",
    "$$"
   ]
  },
  {
   "cell_type": "markdown",
   "id": "7ed602cb-22fd-4225-9a1b-269e6ee73f7e",
   "metadata": {},
   "source": [
    "## $\\Delta R_j < 0$ provided"
   ]
  },
  {
   "cell_type": "markdown",
   "id": "22d10d00-dd24-4dc4-8e49-9b36b1e7166f",
   "metadata": {},
   "source": [
    "$$fee = \\frac{Q_j R_i \\Delta R_j}{\\left(Q_i + \\frac{Q_j \\Delta R_j}{R_j + \\Delta R_j}\\right) \\left(R_j + \\Delta R_j\\right)} - \\frac{Q_j R_i \\Delta R_j}{\\left(1 - f_P\\right) \\left(Q_i + \\frac{Q_j \\Delta R_j}{\\left(1 - f_P\\right) \\left(R_j \\left(1 - f_A\\right) + \\Delta R_j\\right)}\\right) \\left(R_j \\left(1 - f_A\\right) + \\Delta R_j\\right)}$$"
   ]
  },
  {
   "cell_type": "code",
   "execution_count": null,
   "id": "9d6949a9-6f7e-44a8-bb4d-e3a9de9adaec",
   "metadata": {},
   "outputs": [],
   "source": []
  }
 ],
 "metadata": {
  "kernelspec": {
   "display_name": "Python 3 (ipykernel)",
   "language": "python",
   "name": "python3"
  },
  "language_info": {
   "codemirror_mode": {
    "name": "ipython",
    "version": 3
   },
   "file_extension": ".py",
   "mimetype": "text/x-python",
   "name": "python",
   "nbconvert_exporter": "python",
   "pygments_lexer": "ipython3",
   "version": "3.8.10"
  }
 },
 "nbformat": 4,
 "nbformat_minor": 5
}
