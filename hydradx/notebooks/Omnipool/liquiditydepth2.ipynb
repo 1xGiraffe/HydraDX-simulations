{
 "cells": [
  {
   "cell_type": "code",
   "execution_count": 1,
   "id": "initial_id",
   "metadata": {
    "collapsed": true,
    "ExecuteTime": {
     "end_time": "2024-02-08T16:39:03.352064754Z",
     "start_time": "2024-02-08T16:39:02.406395456Z"
    }
   },
   "outputs": [],
   "source": [
    "import copy\n",
    "\n",
    "from hydradx.model.processing import get_omnipool_data, get_binance_orderbook, get_kraken_orderbook, get_omnipool, load_omnipool, save_omnipool\n",
    "from hydradx.model.amm.omnipool_amm import OmnipoolState\n",
    "from hydradx.model.amm.centralized_market import CentralizedMarket\n",
    "from hydradx.model.amm.agents import Agent\n",
    "\n",
    "import matplotlib.pyplot as plt\n",
    "\n",
    "from pprint import pprint\n",
    "from mpmath import mpf, mp\n",
    "mp.dps = 50\n",
    "\n",
    "from hydradxapi import HydraDX\n"
   ]
  },
  {
   "cell_type": "code",
   "execution_count": 2,
   "outputs": [],
   "source": [
    "\n",
    "RPC=\"wss://rpc.hydradx.cloud\"\n",
    "            \n",
    "# asset_list, asset_map, tokens, fees = get_omnipool_data(RPC, archive=False)\n",
    "\n"
   ],
   "metadata": {
    "collapsed": false,
    "ExecuteTime": {
     "end_time": "2024-02-08T16:39:03.357383016Z",
     "start_time": "2024-02-08T16:39:03.353636655Z"
    }
   },
   "id": "c6164b8fd95ca03b"
  },
  {
   "cell_type": "code",
   "outputs": [],
   "source": [
    "# pprint(asset_list)"
   ],
   "metadata": {
    "collapsed": false,
    "ExecuteTime": {
     "end_time": "2024-02-08T16:39:03.368292217Z",
     "start_time": "2024-02-08T16:39:03.356577728Z"
    }
   },
   "id": "e387ec45e7c27216",
   "execution_count": 3
  },
  {
   "cell_type": "code",
   "outputs": [],
   "source": [
    "get_live_markets = True\n",
    "\n",
    "if get_live_markets:\n",
    "    init_omnipool = get_omnipool()\n",
    "else:\n",
    "    init_omnipool = load_omnipool()\n",
    "omnipool = copy.deepcopy(init_omnipool)"
   ],
   "metadata": {
    "collapsed": false,
    "ExecuteTime": {
     "end_time": "2024-02-08T16:39:28.069755726Z",
     "start_time": "2024-02-08T16:39:03.369637275Z"
    }
   },
   "id": "1dc196947eeb66c",
   "execution_count": 4
  },
  {
   "cell_type": "code",
   "outputs": [],
   "source": [
    "# save = True\n",
    "# if save:\n",
    "#     save_omnipool(omnipool)"
   ],
   "metadata": {
    "collapsed": false,
    "ExecuteTime": {
     "end_time": "2024-02-08T16:39:28.084333895Z",
     "start_time": "2024-02-08T16:39:28.079166075Z"
    }
   },
   "id": "80ec5315aa926742",
   "execution_count": 5
  },
  {
   "cell_type": "code",
   "outputs": [
    {
     "name": "stdout",
     "output_type": "stream",
     "text": [
      "Omnipool: omnipool\n",
      "********************************\n",
      "tvl cap: inf\n",
      "LRNA imbalance: 0.0\n",
      "lrna fee:\n",
      "\n",
      "    4-Pool: 0.05%\n",
      "    HDX: 0.1%\n",
      "    WETH: 0.05%\n",
      "    2-Pool101: 0.05%\n",
      "    GLMR: 0.05%\n",
      "    BNC: 0.05%\n",
      "    vDOT: 0.05%\n",
      "    CFG: 0.05%\n",
      "    2-Pool102: 0.05%\n",
      "    DOT: 0.05059999999999999%\n",
      "    PHA: 0.05%\n",
      "    ZTG: 0.05%\n",
      "    INTR: 0.0503%\n",
      "    ASTR: 0.05%\n",
      "\n",
      "asset fee:\n",
      "\n",
      "    4-Pool: 0.2569%\n",
      "    HDX: 0.25%\n",
      "    WETH: 0.25%\n",
      "    2-Pool101: 0.25%\n",
      "    GLMR: 0.262%\n",
      "    BNC: 0.25%\n",
      "    vDOT: 0.25%\n",
      "    CFG: 0.3485%\n",
      "    2-Pool102: 0.2908%\n",
      "    DOT: 0.3156%\n",
      "    PHA: 0.25%\n",
      "    ZTG: 0.25%\n",
      "    INTR: 0.25%\n",
      "    ASTR: 0.25%\n",
      "\n",
      "asset pools: (\n",
      "\n",
      "    *4-Pool*\n",
      "    asset quantity: 1579316.0233407225\n",
      "    lrna quantity: 39783.674606756475\n",
      "    USD price: 1.008592839092\n",
      "    tvl: $1592886.8318046862\n",
      "    weight: 39783.674606756475/575248.3725987811 (0.06915912586945192)\n",
      "    weight cap: 1\n",
      "    total shares: 1579316.0233407225\n",
      "    protocol shares: 1579316.0233407225\n",
      "\n",
      "    *HDX*\n",
      "    asset quantity: 49587424.30497615\n",
      "    lrna quantity: 43467.295906987536\n",
      "    USD price: 0.035097089326\n",
      "    tvl: $1740374.2602660286\n",
      "    weight: 43467.295906987536/575248.3725987811 (0.07556265776227532)\n",
      "    weight cap: 1\n",
      "    total shares: 49587424.30497615\n",
      "    protocol shares: 49587424.30497615\n",
      "\n",
      "    *WETH*\n",
      "    asset quantity: 1097.583696296076\n",
      "    lrna quantity: 66476.94144668\n",
      "    USD price: 2425.009309968975\n",
      "    tvl: $2661650.681988143\n",
      "    weight: 66476.94144668/575248.3725987811 (0.11556215473736892)\n",
      "    weight cap: 1\n",
      "    total shares: 1097.5836962960757\n",
      "    protocol shares: 1097.5836962960757\n",
      "\n",
      "    *2-Pool101*\n",
      "    asset quantity: 53.800146002063\n",
      "    lrna quantity: 60457.44171761543\n",
      "    USD price: 44993.143790125425\n",
      "    tvl: $2420637.7050005817\n",
      "    weight: 60457.44171761543/575248.3725987811 (0.10509797958139157)\n",
      "    weight cap: 1\n",
      "    total shares: 53.80014600206344\n",
      "    protocol shares: 53.80014600206344\n",
      "\n",
      "    *GLMR*\n",
      "    asset quantity: 690973.8362588404\n",
      "    lrna quantity: 6690.832913131399\n",
      "    USD price: 0.387702507082\n",
      "    tvl: $267892.2886455136\n",
      "    weight: 6690.832913131399/575248.3725987811 (0.011631207026113673)\n",
      "    weight cap: 1\n",
      "    total shares: 690973.8362588404\n",
      "    protocol shares: 690973.8362588404\n",
      "\n",
      "    *BNC*\n",
      "    asset quantity: 564778.7672962573\n",
      "    lrna quantity: 10544.822703924667\n",
      "    USD price: 0.747551210097\n",
      "    tvl: $422201.0509291693\n",
      "    weight: 10544.822703924667/575248.3725987811 (0.01833090401679306)\n",
      "    weight cap: 1\n",
      "    total shares: 564778.7672962573\n",
      "    protocol shares: 564778.7672962573\n",
      "\n",
      "    *vDOT*\n",
      "    asset quantity: 245232.5285811055\n",
      "    lrna quantity: 53713.52783733237\n",
      "    USD price: 8.769718012477\n",
      "    tvl: $2150620.1231429377\n",
      "    weight: 53713.52783733237/575248.3725987811 (0.09337449768814206)\n",
      "    weight cap: 1\n",
      "    total shares: 245232.5285811055\n",
      "    protocol shares: 245232.5285811055\n",
      "\n",
      "    *CFG*\n",
      "    asset quantity: 1002829.2000587007\n",
      "    lrna quantity: 13481.150696596565\n",
      "    USD price: 0.538245019875\n",
      "    tvl: $539767.8227173192\n",
      "    weight: 13481.150696596565/575248.3725987811 (0.02343535651512268)\n",
      "    weight cap: 1\n",
      "    total shares: 1002829.2000587007\n",
      "    protocol shares: 1002829.2000587007\n",
      "\n",
      "    *2-Pool102*\n",
      "    asset quantity: 4463032.472660727\n",
      "    lrna quantity: 111499.82264079765\n",
      "    USD price: 1.000285924607\n",
      "    tvl: $4464308.56346592\n",
      "    weight: 111499.82264079765/575248.3725987811 (0.19382901013188178)\n",
      "    weight cap: 1\n",
      "    total shares: 4463032.472660727\n",
      "    protocol shares: 4463032.472660727\n",
      "\n",
      "    *DOT*\n",
      "    asset quantity: 689978.4656414785\n",
      "    lrna quantity: 120526.63592936788\n",
      "    USD price: 6.994030571608\n",
      "    tvl: $4825730.482447762\n",
      "    weight: 120526.63592936788/575248.3725987811 (0.20952103764304203)\n",
      "    weight cap: 1\n",
      "    total shares: 689978.4656414785\n",
      "    protocol shares: 689978.4656414785\n",
      "\n",
      "    *PHA*\n",
      "    asset quantity: 1170915.989145525\n",
      "    lrna quantity: 3041.647545637009\n",
      "    USD price: 0.1040071461\n",
      "    tvl: $121783.63035408015\n",
      "    weight: 3041.647545637009/575248.3725987811 (0.005287537854120048)\n",
      "    weight cap: 1\n",
      "    total shares: 1170915.989145525\n",
      "    protocol shares: 1170915.989145525\n",
      "\n",
      "    *ZTG*\n",
      "    asset quantity: 1992391.924156925\n",
      "    lrna quantity: 7393.792072130061\n",
      "    USD price: 0.148584151447\n",
      "    tvl: $296037.8634003227\n",
      "    weight: 7393.792072130061/575248.3725987811 (0.01285321684393015)\n",
      "    weight cap: 1\n",
      "    total shares: 1992391.924156925\n",
      "    protocol shares: 1992391.924156925\n",
      "\n",
      "    *INTR*\n",
      "    asset quantity: 14936523.620828468\n",
      "    lrna quantity: 25795.595206159644\n",
      "    USD price: 0.069147431237\n",
      "    tvl: $1032822.2399918169\n",
      "    weight: 25795.595206159644/575248.3725987811 (0.044842534868240844)\n",
      "    weight cap: 1\n",
      "    total shares: 14936523.620828468\n",
      "    protocol shares: 14936523.620828468\n",
      "\n",
      "    *ASTR*\n",
      "    asset quantity: 2759526.8351247166\n",
      "    lrna quantity: 12375.191375664584\n",
      "    USD price: 0.179554928349\n",
      "    tvl: $495486.6431571732\n",
      "    weight: 12375.191375664584/575248.3725987811 (0.02151277946212621)\n",
      "    weight cap: 1\n",
      "    total shares: 2759526.8351247166\n",
      "    protocol shares: 2759526.8351247166\n",
      "\n",
      ")\n",
      "sub pools: (\n",
      "\n",
      "    Stable Swap Pool: 4-Pool\n",
      "    ********************************\n",
      "    trade fee: 0.0004\n",
      "    shares: 1652351.487991546\n",
      "    amplification constant: 320.0\n",
      "    tokens: (\n",
      "    \n",
      "        USDT10\n",
      "        quantity: 509593.498578\n",
      "        weight: 0.3083957230639677\n",
      "    \n",
      "        DAI\n",
      "        quantity: 357091.690266024\n",
      "        weight: 0.21610469977938443\n",
      "    \n",
      "        USDC21\n",
      "        quantity: 376504.47741\n",
      "        weight: 0.22785292762110407\n",
      "    \n",
      "        USDT23\n",
      "        quantity: 409211.649546\n",
      "        weight: 0.24764664953554383\n",
      "    \n",
      "    )\n",
      "    error message:none)\n",
      "(\n",
      "Stable Swap Pool: 2-Pool101\n",
      "    ********************************\n",
      "    trade fee: 0.0004\n",
      "    shares: 53.8498969251\n",
      "    amplification constant: 5.0\n",
      "    tokens: (\n",
      "    \n",
      "        iBTC\n",
      "        quantity: 27.04991537\n",
      "        weight: 0.502319751625478\n",
      "    \n",
      "        WBTC\n",
      "        quantity: 26.80007815\n",
      "        weight: 0.497680248374522\n",
      "    \n",
      "    )\n",
      "    error message:none)\n",
      "(\n",
      "Stable Swap Pool: 2-Pool102\n",
      "    ********************************\n",
      "    trade fee: 0.0004\n",
      "    shares: 4483461.10654441\n",
      "    amplification constant: 100.0\n",
      "    tokens: (\n",
      "    \n",
      "        USDT10\n",
      "        quantity: 2307310.083845\n",
      "        weight: 0.514624806263463\n",
      "    \n",
      "        USDC22\n",
      "        quantity: 2176170.027807\n",
      "        weight: 0.48537519373653704\n",
      "    \n",
      "    )\n",
      "    error message:none\n",
      ")\n",
      "oracles: (\n",
      "    name: price\n",
      "    length: 19\n",
      "\n",
      ")\n",
      "\n",
      "error message: None\n"
     ]
    }
   ],
   "source": [
    "pprint(omnipool)\n",
    "for tkn in omnipool.sub_pools[\"2-Pool102\"].asset_list:\n",
    "    omnipool.sub_pools[\"2-Pool102\"].liquidity[tkn] *= 10\n",
    "omnipool.lrna[\"2-Pool102\"] *= 10"
   ],
   "metadata": {
    "collapsed": false,
    "ExecuteTime": {
     "end_time": "2024-02-08T16:39:28.108351433Z",
     "start_time": "2024-02-08T16:39:28.093555486Z"
    }
   },
   "id": "2dc3324520a36a3c",
   "execution_count": 6
  },
  {
   "cell_type": "code",
   "execution_count": 7,
   "outputs": [],
   "source": [
    "cex_asset_tkn = \"DOT\"\n",
    "cex_denom_tkn = \"USD\"\n",
    "dex_asset_tkn = \"DOT\"\n",
    "dex_denom_tkn = \"USDT10\"\n",
    "one_hop = False\n",
    "cex_fee_list = [0.0, 0.001, 0.0016, 0.002, 0.0026]\n",
    "cex_dict = {}\n",
    "for cex_fee in cex_fee_list:\n",
    "    try:\n",
    "        kraken_ob = get_kraken_orderbook((cex_asset_tkn, cex_denom_tkn), archive=False)\n",
    "        cex = CentralizedMarket(\n",
    "            order_book={(cex_asset_tkn, cex_denom_tkn): kraken_ob},\n",
    "            asset_list=[cex_asset_tkn, cex_denom_tkn],\n",
    "            trade_fee=cex_fee\n",
    "        )\n",
    "        one_hop = True\n",
    "    except:  # orderbook doesn't exist? try going through USD\n",
    "        asset_ob = get_kraken_orderbook((cex_asset_tkn, \"USD\"), archive=False)\n",
    "        denom_ob = get_kraken_orderbook((cex_denom_tkn, \"USD\"), archive=False)\n",
    "        cex = CentralizedMarket(\n",
    "            order_book={(cex_asset_tkn, \"USD\"): asset_ob, (cex_denom_tkn, \"USD\"): denom_ob},\n",
    "            asset_list=[cex_asset_tkn, cex_denom_tkn, \"USD\"],\n",
    "            trade_fee=cex_fee\n",
    "        )\n",
    "    cex_dict[cex_fee] = cex\n",
    "cex = cex_dict[0.0]"
   ],
   "metadata": {
    "collapsed": false,
    "ExecuteTime": {
     "end_time": "2024-02-08T16:39:28.981709668Z",
     "start_time": "2024-02-08T16:39:28.278461080Z"
    }
   },
   "id": "de40e2fc88fe157a"
  },
  {
   "cell_type": "code",
   "execution_count": 8,
   "outputs": [
    {
     "name": "stdout",
     "output_type": "stream",
     "text": [
      "{'4-Pool': 1579316.0233407225, 'HDX': 49587424.30497615, 'WETH': 1097.5836962960757, '2-Pool101': 53.80014600206344, 'GLMR': 690973.8362588404, 'BNC': 564778.7672962573, 'vDOT': 245232.5285811055, 'CFG': 1002829.2000587007, '2-Pool102': 4463032.472660727, 'DOT': 1189978.4656414785, 'PHA': 1170915.989145525, 'ZTG': 1992391.924156925, 'INTR': 14936523.620828468, 'ASTR': 2759526.8351247166}\n",
      "{'USDT10': 23073100.83845, 'USDC22': 21761700.278070003}\n",
      "10.002859246068699\n",
      "0.24982973644895926\n",
      "0.17468173563549302\n",
      "6.994030571608117\n",
      "6.994030571608116\n"
     ]
    }
   ],
   "source": [
    "from hydradx.model.amm.omnipool_amm import lrna_price\n",
    "\n",
    "if one_hop:\n",
    "    cex_spot = (cex.order_book[(cex_asset_tkn, cex_denom_tkn)].bids[0][0] + cex.order_book[(cex_asset_tkn, cex_denom_tkn)].asks[0][0]) / 2\n",
    "else:\n",
    "    cex_asset_spot = (cex.order_book[(cex_asset_tkn, \"USD\")].bids[0][0] + cex.order_book[(cex_asset_tkn, \"USD\")].asks[0][0]) / 2\n",
    "    cex_denom_spot = (cex.order_book[(cex_denom_tkn, \"USD\")].bids[0][0] + cex.order_book[(cex_denom_tkn, \"USD\")].asks[0][0]) / 2\n",
    "    cex_spot = cex_asset_spot / cex_denom_spot\n",
    "\n",
    "\n",
    "# dex_denom_data = tokens[dex_denom_tkn]\n",
    "# dex_denom_scale = mpf(1)\n",
    "# overall_scale = mpf(1)\n",
    "# dex_denom_lrna = dex_denom_data['LRNA'] * dex_denom_scale * overall_scale\n",
    "# dot_liquidity = tokens[dex_asset_tkn]['liquidity'] * overall_scale\n",
    "# dot_lrna = tokens[dex_asset_tkn]['LRNA'] * overall_scale\n",
    "# dex_denom_liquidity = cex_spot * dex_denom_lrna * dot_liquidity / dot_lrna\n",
    "# dex_denom_data_up = {'LRNA': dex_denom_lrna, 'liquidity': dex_denom_liquidity}\n",
    "# hdx_data = {'LRNA': tokens['HDX']['LRNA'] * overall_scale, 'liquidity': tokens['HDX']['liquidity'] * overall_scale}\n",
    "# dot_data = {'LRNA': dot_lrna, 'liquidity': dot_liquidity}\n",
    "\n",
    "# op_state = OmnipoolState(\n",
    "#     # tokens={dex_denom_tkn: dex_denom_data_up, dex_asset_tkn: dot_data, \"HDX\": hdx_data,\n",
    "#     #         \"USD\": {\"LRNA\": mpf(10000), \"liquidity\": mpf(10000)}},\n",
    "#     tokens=tokens,\n",
    "#     preferred_stablecoin=\"USDT\",\n",
    "#     lrna_fee=0.0000,\n",
    "#     asset_fee=0.0000\n",
    "# )\n",
    "op_state = omnipool.copy()\n",
    "\n",
    "protocol_agent = Agent(holdings={\"DOT\": mpf(500000)})\n",
    "op_state.add_liquidity(protocol_agent, 500000, \"DOT\")\n",
    "\n",
    "# protocol_agent = Agent(holdings={\"DOT\": mpf(500000)})\n",
    "# op_state.add_liquidity(protocol_agent, 500000, \"DOT\")\n",
    "\n",
    "\n",
    "op_state.asset_fee = 0.0025\n",
    "op_state.lrna_fee = 0.0005\n",
    "\n",
    "op_state.asset_fee = 0.00\n",
    "op_state.lrna_fee = 0.00\n",
    "\n",
    "    \n",
    "# pprint(tokens)\n",
    "print(op_state.liquidity)    \n",
    "print(op_state.sub_pools[\"2-Pool102\"].liquidity)\n",
    "print(op_state.sub_pools[\"2-Pool102\"].share_price(\"USDT10\"))\n",
    "print(lrna_price(op_state, \"2-Pool102\"))\n",
    "print(lrna_price(op_state, \"DOT\"))\n",
    "print(op_state.sub_pools[\"2-Pool102\"].share_price(\"USDT10\") / lrna_price(op_state, \"2-Pool102\") * lrna_price(op_state, \"DOT\"))\n",
    "print(op_state.usd_price(op_state, \"DOT\"))\n",
    "    "
   ],
   "metadata": {
    "collapsed": false,
    "ExecuteTime": {
     "end_time": "2024-02-08T16:39:28.993015575Z",
     "start_time": "2024-02-08T16:39:28.989221376Z"
    }
   },
   "id": "a9a6349276b30b04"
  },
  {
   "cell_type": "code",
   "execution_count": 9,
   "outputs": [
    {
     "name": "stdout",
     "output_type": "stream",
     "text": [
      "6.994030571608116\n",
      "6.98315\n"
     ]
    }
   ],
   "source": [
    "op_spot = op_state.price(op_state, dex_asset_tkn, dex_denom_tkn, denom_pool_id=\"2-Pool102\")\n",
    "pprint(op_spot)\n",
    "pprint(cex_spot)\n",
    "# pprint((cex.order_book[(cex_asset_tkn, cex_denom_tkn)].bids[0][0],cex.order_book[(cex_asset_tkn, cex_denom_tkn)].asks[0][0]))\n",
    "# pprint((cex.order_book[(cex_asset_tkn, cex_denom_tkn)].asks[0][0] - cex.order_book[(cex_asset_tkn, cex_denom_tkn)].bids[0][0])/cex.order_book[(cex_asset_tkn, cex_denom_tkn)].bids[0][0])"
   ],
   "metadata": {
    "collapsed": false,
    "ExecuteTime": {
     "end_time": "2024-02-08T16:39:29.029762304Z",
     "start_time": "2024-02-08T16:39:28.992345033Z"
    }
   },
   "id": "6ec44c5cafc0d74b"
  },
  {
   "cell_type": "code",
   "execution_count": 10,
   "outputs": [
    {
     "data": {
      "text/plain": "<Figure size 432x288 with 1 Axes>",
      "image/png": "[encoded data removed]"
     },
     "metadata": {
      "needs_background": "light"
     },
     "output_type": "display_data"
    },
    {
     "data": {
      "text/plain": "<Figure size 432x288 with 1 Axes>",
      "image/png": "[encoded data removed]"
     },
     "metadata": {
      "needs_background": "light"
     },
     "output_type": "display_data"
    },
    {
     "data": {
      "text/plain": "<Figure size 432x288 with 1 Axes>",
      "image/png": "[encoded data removed]"
     },
     "metadata": {
      "needs_background": "light"
     },
     "output_type": "display_data"
    },
    {
     "data": {
      "text/plain": "<Figure size 432x288 with 1 Axes>",
      "image/png": "[encoded data removed]"
     },
     "metadata": {
      "needs_background": "light"
     },
     "output_type": "display_data"
    },
    {
     "data": {
      "text/plain": "<Figure size 432x288 with 1 Axes>",
      "image/png": "[encoded data removed]"
     },
     "metadata": {
      "needs_background": "light"
     },
     "output_type": "display_data"
    },
    {
     "data": {
      "text/plain": "<Figure size 432x288 with 1 Axes>",
      "image/png": "[encoded data removed]"
     },
     "metadata": {
      "needs_background": "light"
     },
     "output_type": "display_data"
    },
    {
     "data": {
      "text/plain": "<Figure size 432x288 with 1 Axes>",
      "image/png": "[encoded data removed]"
     },
     "metadata": {
      "needs_background": "light"
     },
     "output_type": "display_data"
    }
   ],
   "source": [
    "asset_spot = omnipool.price(omnipool, dex_denom_tkn, \"USDT10\", denom_pool_id=\"2-Pool102\")\n",
    "asset_spot = 1\n",
    "init_price = omnipool.price(omnipool, dex_asset_tkn, dex_denom_tkn, denom_pool_id=\"2-Pool102\")\n",
    "dollar_step_size = 20\n",
    "iters = 1500\n",
    "max_amt = dollar_step_size * iters\n",
    "\n",
    "holdings = {\n",
    "    cex_denom_tkn: mpf(max_amt * 2),\n",
    "    dex_denom_tkn: mpf(max_amt * 2),\n",
    "    cex_asset_tkn: mpf(max_amt * 2 / init_price),\n",
    "    dex_asset_tkn: mpf(max_amt * 2 / init_price),\n",
    "    \"USD\": mpf(max_amt * 2 * asset_spot)\n",
    "}\n",
    "for tkn in [cex_asset_tkn, cex_denom_tkn, dex_asset_tkn, dex_denom_tkn, \"USD\"]:\n",
    "    if tkn not in holdings:\n",
    "        holdings[tkn] = mpf(10000000)\n",
    "agent = Agent(holdings=holdings)\n",
    "\n",
    "trade_size_list = [dollar_step_size/asset_spot*i for i in range(1, iters)]\n",
    "dot_out_cex = []\n",
    "dot_out_dex = []\n",
    "dot_in_cex = []\n",
    "dot_in_dex = []\n",
    "slip_up_dex = []\n",
    "slip_up_cex = []\n",
    "slip_down_dex = []\n",
    "slip_down_cex = []\n",
    "slip_avg_dex = []\n",
    "slip_avg_cex = []\n",
    "for trade_size in trade_size_list:\n",
    "    temp_op_state = op_state.copy()\n",
    "    temp_agent1 = agent.copy()\n",
    "    temp_op_state.swap(temp_agent1, tkn_buy=dex_asset_tkn, tkn_sell=dex_denom_tkn, sell_quantity=trade_size, tkn_sell_subpool_id=\"2-Pool102\")\n",
    "    dot_out_dex.append(temp_agent1.holdings[dex_asset_tkn] - agent.holdings[dex_asset_tkn])\n",
    "    exec_price_dex = trade_size / (temp_agent1.holdings[dex_asset_tkn] - agent.holdings[dex_asset_tkn])\n",
    "    slip_up_dex.append((abs(exec_price_dex) - op_spot) / op_spot) \n",
    "\n",
    "\n",
    "    temp_cex_state = cex.copy()\n",
    "    temp_agent2 = agent.copy()\n",
    "    if one_hop:\n",
    "        temp_cex_state.swap(temp_agent2, tkn_buy=cex_asset_tkn, tkn_sell=cex_denom_tkn, sell_quantity=trade_size)\n",
    "    else:\n",
    "        temp_cex_state.swap(temp_agent2, tkn_buy=\"USD\", tkn_sell=cex_denom_tkn, sell_quantity=trade_size)\n",
    "        sell_amt_usd = temp_agent2.holdings[\"USD\"] - agent.holdings[\"USD\"]\n",
    "        temp_cex_state.swap(temp_agent2, tkn_buy=cex_asset_tkn, tkn_sell=\"USD\", sell_quantity=sell_amt_usd)\n",
    "    dot_out_cex.append(temp_agent2.holdings[cex_asset_tkn] - agent.holdings[cex_asset_tkn])\n",
    "    exec_price_cex = trade_size / (temp_agent2.holdings[cex_asset_tkn] - agent.holdings[cex_asset_tkn])\n",
    "    slip_up_cex.append((abs(exec_price_cex) - cex_spot) / cex_spot)\n",
    "    # pprint((slip_up_dex[-1], slip_up_cex[-1]))\n",
    "\n",
    "    temp_op_state = op_state.copy()\n",
    "    temp_agent1 = agent.copy()\n",
    "    temp_op_state.swap(temp_agent1, tkn_sell=dex_asset_tkn, tkn_buy=dex_denom_tkn, buy_quantity=trade_size, tkn_buy_subpool_id=\"2-Pool102\")\n",
    "    dot_in_dex.append(temp_agent1.holdings[dex_asset_tkn] - agent.holdings[dex_asset_tkn])\n",
    "    exec_price_dex = trade_size / (temp_agent1.holdings[dex_asset_tkn] - agent.holdings[dex_asset_tkn])\n",
    "    slip_down_dex.append((abs(exec_price_dex) - op_spot) / op_spot) \n",
    "    \n",
    "    temp_cex_state = cex.copy()\n",
    "    temp_agent2 = agent.copy()\n",
    "    if one_hop:\n",
    "        temp_cex_state.swap(temp_agent2, tkn_sell=cex_asset_tkn, tkn_buy=cex_denom_tkn, buy_quantity=trade_size)\n",
    "    else:\n",
    "        temp_cex_state.swap(temp_agent2, tkn_sell=\"USD\", tkn_buy=cex_denom_tkn, buy_quantity=trade_size)\n",
    "        sell_amt_usd = temp_agent2.holdings[\"USD\"] - agent.holdings[\"USD\"]\n",
    "        temp_cex_state.swap(temp_agent2, tkn_sell=cex_asset_tkn, tkn_buy=\"USD\", buy_quantity=sell_amt_usd)\n",
    "    dot_in_cex.append(temp_agent2.holdings[cex_asset_tkn] - agent.holdings[cex_asset_tkn])\n",
    "    exec_price_cex = trade_size / (temp_agent2.holdings[cex_asset_tkn] - agent.holdings[cex_asset_tkn])\n",
    "    slip_down_cex.append((abs(exec_price_cex) - cex_spot) / cex_spot)\n",
    "    \n",
    "    slip_avg_dex.append((abs(slip_up_dex[-1]) + abs(slip_down_dex[-1])) / 2)\n",
    "    slip_avg_cex.append((abs(slip_up_cex[-1]) + abs(slip_down_cex[-1])) / 2)\n",
    "    # pprint((slip_up_dex[-1], slip_up_cex[-1]))\n",
    "    \n",
    "plt.plot(trade_size_list, dot_out_dex, label=\"DEX\")\n",
    "plt.plot(trade_size_list, dot_out_cex, label=\"CEX\")\n",
    "plt.legend()\n",
    "plt.title(\"DOT Out\")\n",
    "plt.show()\n",
    "\n",
    "diffs = [dot_out_dex[i] - dot_out_cex[i] for i in range(len(dot_out_dex))]\n",
    "plt.plot(trade_size_list, diffs, label=\"DEX - CEX\")\n",
    "plt.title(\"DOT Out DEX - CEX\")\n",
    "plt.show()\n",
    "\n",
    "plt.plot(trade_size_list, slip_up_dex, label=\"DEX\")\n",
    "plt.plot(trade_size_list, slip_up_cex, label=\"CEX\")\n",
    "plt.legend()\n",
    "plt.title(\"Slippage Up\")\n",
    "plt.show()\n",
    "\n",
    "plt.plot(trade_size_list, dot_in_dex, label=\"DEX\")\n",
    "plt.plot(trade_size_list, dot_in_cex, label=\"CEX\")\n",
    "plt.legend()\n",
    "plt.title(\"DOT In\")\n",
    "plt.show()\n",
    "\n",
    "diffs2 = [dot_in_cex[i] - dot_in_dex[i] for i in range(len(dot_in_dex))]\n",
    "plt.plot(trade_size_list, diffs2, label=\"DEX - CEX\")\n",
    "plt.title(\"DOT In DEX - CEX\")\n",
    "plt.show()\n",
    "\n",
    "plt.plot(trade_size_list, slip_down_dex, label=\"DEX\")\n",
    "plt.plot(trade_size_list, slip_down_cex, label=\"CEX\")\n",
    "plt.legend()\n",
    "plt.title(\"Slippage Down\")\n",
    "plt.show()\n",
    "\n",
    "plt.plot(trade_size_list, slip_avg_dex, label=\"DEX\")\n",
    "plt.plot(trade_size_list, slip_avg_cex, label=\"CEX\")\n",
    "plt.legend()\n",
    "plt.title(\"Slippage Average\")\n",
    "plt.show()\n",
    "\n",
    "# print(cex.order_book)"
   ],
   "metadata": {
    "collapsed": false,
    "ExecuteTime": {
     "end_time": "2024-02-08T16:39:33.694759613Z",
     "start_time": "2024-02-08T16:39:29.007935528Z"
    }
   },
   "id": "fe94206ea0bd98b6"
  },
  {
   "cell_type": "code",
   "execution_count": 11,
   "outputs": [
    {
     "name": "stdout",
     "output_type": "stream",
     "text": [
      "4290.3561314867010878515429794788360595703125\n"
     ]
    }
   ],
   "source": [
    "print(dot_out_cex[-1])"
   ],
   "metadata": {
    "collapsed": false,
    "ExecuteTime": {
     "end_time": "2024-02-08T16:39:33.744913818Z",
     "start_time": "2024-02-08T16:39:33.699882870Z"
    }
   },
   "id": "e7cb0770715b0a42"
  },
  {
   "cell_type": "code",
   "execution_count": 12,
   "outputs": [
    {
     "name": "stdout",
     "output_type": "stream",
     "text": [
      "4267.4324307316192061989568173885345458984375\n"
     ]
    }
   ],
   "source": [
    "print(dot_out_dex[-1])"
   ],
   "metadata": {
    "collapsed": false,
    "ExecuteTime": {
     "end_time": "2024-02-08T16:39:33.745931189Z",
     "start_time": "2024-02-08T16:39:33.744667657Z"
    }
   },
   "id": "b2622529def29c27"
  },
  {
   "cell_type": "code",
   "execution_count": 12,
   "outputs": [],
   "source": [],
   "metadata": {
    "collapsed": false,
    "ExecuteTime": {
     "end_time": "2024-02-08T16:39:33.746694063Z",
     "start_time": "2024-02-08T16:39:33.744930574Z"
    }
   },
   "id": "7fe45be545dd47a8"
  }
 ],
 "metadata": {
  "kernelspec": {
   "display_name": "Python 3",
   "language": "python",
   "name": "python3"
  },
  "language_info": {
   "codemirror_mode": {
    "name": "ipython",
    "version": 2
   },
   "file_extension": ".py",
   "mimetype": "text/x-python",
   "name": "python",
   "nbconvert_exporter": "python",
   "pygments_lexer": "ipython2",
   "version": "2.7.6"
  }
 },
 "nbformat": 4,
 "nbformat_minor": 5
}
