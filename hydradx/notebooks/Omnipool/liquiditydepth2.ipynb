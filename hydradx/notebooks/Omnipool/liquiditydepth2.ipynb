{
 "cells": [
  {
   "cell_type": "code",
   "execution_count": 1,
   "id": "initial_id",
   "metadata": {
    "collapsed": true,
    "ExecuteTime": {
     "end_time": "2024-01-31T22:58:36.367597177Z",
     "start_time": "2024-01-31T22:58:35.613156003Z"
    }
   },
   "outputs": [],
   "source": [
    "from hydradx.model.processing import get_omnipool_data, get_binance_orderbook, get_kraken_orderbook, get_omnipool, load_omnipool, save_omnipool\n",
    "from hydradx.model.amm.omnipool_amm import OmnipoolState\n",
    "from hydradx.model.amm.centralized_market import CentralizedMarket\n",
    "from hydradx.model.amm.agents import Agent\n",
    "\n",
    "import matplotlib.pyplot as plt\n",
    "\n",
    "from pprint import pprint\n",
    "from mpmath import mpf, mp\n",
    "mp.dps = 50\n",
    "\n",
    "from hydradxapi import HydraDX\n"
   ]
  },
  {
   "cell_type": "code",
   "execution_count": 2,
   "outputs": [],
   "source": [
    "\n",
    "RPC=\"wss://rpc.hydradx.cloud\"\n",
    "            \n",
    "# asset_list, asset_map, tokens, fees = get_omnipool_data(RPC, archive=False)\n",
    "\n"
   ],
   "metadata": {
    "collapsed": false,
    "ExecuteTime": {
     "end_time": "2024-01-31T22:58:36.373705884Z",
     "start_time": "2024-01-31T22:58:36.369548704Z"
    }
   },
   "id": "c6164b8fd95ca03b"
  },
  {
   "cell_type": "code",
   "outputs": [],
   "source": [
    "# pprint(asset_list)"
   ],
   "metadata": {
    "collapsed": false,
    "ExecuteTime": {
     "end_time": "2024-01-31T22:58:36.386535126Z",
     "start_time": "2024-01-31T22:58:36.372904609Z"
    }
   },
   "id": "e387ec45e7c27216",
   "execution_count": 3
  },
  {
   "cell_type": "code",
   "outputs": [
    {
     "name": "stdout",
     "output_type": "stream",
     "text": [
      "Omnipool: omnipool\n",
      "********************************\n",
      "tvl cap: inf\n",
      "LRNA imbalance: 0.0\n",
      "lrna fee:\n",
      "\n",
      "    4-Pool: 0.0519%\n",
      "    HDX: 0.05%\n",
      "    USDT10: 0.05%\n",
      "    WETH: 0.05%\n",
      "    2-Pool: 0.05%\n",
      "    GLMR: 0.05%\n",
      "    BNC: 0.05%\n",
      "    vDOT: 0.0509%\n",
      "    CFG: 0.05%\n",
      "    DOT: 0.05%\n",
      "    PHA: 0.05%\n",
      "    ZTG: 0.05%\n",
      "    INTR: 0.05%\n",
      "    ASTR: 0.05%\n",
      "\n",
      "asset fee:\n",
      "\n",
      "    4-Pool: 0.2511%\n",
      "    HDX: 0.288%\n",
      "    USDT10: 0.25%\n",
      "    WETH: 0.25%\n",
      "    2-Pool: 0.25%\n",
      "    GLMR: 1.098%\n",
      "    BNC: 2.2422%\n",
      "    vDOT: 0.25%\n",
      "    CFG: 0.25%\n",
      "    DOT: 0.2778%\n",
      "    PHA: 0.25%\n",
      "    ZTG: 0.25%\n",
      "    INTR: 0.25%\n",
      "    ASTR: 0.3388%\n",
      "\n",
      "asset pools: (\n",
      "\n",
      "    *4-Pool*\n",
      "    asset quantity: 1553832.3831947728\n",
      "    lrna quantity: 40362.74760875586\n",
      "    USD price: 1.005508322882\n",
      "    tvl: $1562391.3936663629\n",
      "    weight: 40362.74760875586/533570.1750774072 (0.0756465587734552)\n",
      "    weight cap: 1\n",
      "    total shares: 1553832.3831947728\n",
      "    protocol shares: 1553832.3831947728\n",
      "\n",
      "    *HDX*\n",
      "    asset quantity: 48975980.33937926\n",
      "    lrna quantity: 44044.18269588679\n",
      "    USD price: 0.034810842417\n",
      "    tvl: $1704895.13380389\n",
      "    weight: 44044.18269588679/533570.1750774072 (0.08254618558748551)\n",
      "    weight cap: 1\n",
      "    total shares: 48975980.33937926\n",
      "    protocol shares: 48975980.33937926\n",
      "\n",
      "    *USDT10*\n",
      "    asset quantity: 2707740.702887\n",
      "    lrna quantity: 69951.64913454563\n",
      "    USD price: 1.0\n",
      "    tvl: $2707740.702887\n",
      "    weight: 69951.64913454563/533570.1750774072 (0.1311011229673725)\n",
      "    weight cap: 1\n",
      "    total shares: 2707740.702887\n",
      "    protocol shares: 2707740.702887\n",
      "\n",
      "    *WETH*\n",
      "    asset quantity: 1112.602749126459\n",
      "    lrna quantity: 65692.98598942948\n",
      "    USD price: 2285.535596393312\n",
      "    tvl: $2542893.1877735783\n",
      "    weight: 65692.98598942948/533570.1750774072 (0.12311967395834884)\n",
      "    weight cap: 1\n",
      "    total shares: 1112.6027491264585\n",
      "    protocol shares: 1112.6027491264585\n",
      "\n",
      "    *2-Pool*\n",
      "    asset quantity: 54.159359329325\n",
      "    lrna quantity: 59815.14380112081\n",
      "    USD price: 42751.04633936702\n",
      "    tvl: $2315369.2803983935\n",
      "    weight: 59815.14380112081/533570.1750774072 (0.11210361184907532)\n",
      "    weight cap: 1\n",
      "    total shares: 54.1593593293248\n",
      "    protocol shares: 54.1593593293248\n",
      "\n",
      "    *GLMR*\n",
      "    asset quantity: 653838.718408855\n",
      "    lrna quantity: 6023.401798146519\n",
      "    USD price: 0.356599159626\n",
      "    tvl: $233158.33751558364\n",
      "    weight: 6023.401798146519/533570.1750774072 (0.011288865231780767)\n",
      "    weight cap: 1\n",
      "    total shares: 653838.718408855\n",
      "    protocol shares: 653838.718408855\n",
      "\n",
      "    *BNC*\n",
      "    asset quantity: 575968.7671081127\n",
      "    lrna quantity: 9003.81482220174\n",
      "    USD price: 0.605113352897\n",
      "    tvl: $348526.3918287363\n",
      "    weight: 9003.81482220174/533570.1750774072 (0.016874659122196104)\n",
      "    weight cap: 1\n",
      "    total shares: 575968.7671081127\n",
      "    protocol shares: 575968.7671081127\n",
      "\n",
      "    *vDOT*\n",
      "    asset quantity: 229724.160459049\n",
      "    lrna quantity: 49507.6790812381\n",
      "    USD price: 8.342092666299\n",
      "    tvl: $1916380.2342371529\n",
      "    weight: 49507.6790812381/533570.1750774072 (0.09278569416676227)\n",
      "    weight cap: 1\n",
      "    total shares: 229724.160459049\n",
      "    protocol shares: 229724.160459049\n",
      "\n",
      "    *CFG*\n",
      "    asset quantity: 1028763.3564301317\n",
      "    lrna quantity: 13065.63129930022\n",
      "    USD price: 0.491613757305\n",
      "    tvl: $505754.21903181355\n",
      "    weight: 13065.63129930022/533570.1750774072 (0.0244871844596725)\n",
      "    weight cap: 1\n",
      "    total shares: 1028763.3564301317\n",
      "    protocol shares: 1028763.3564301317\n",
      "\n",
      "    *DOT*\n",
      "    asset quantity: 733721.7435869717\n",
      "    lrna quantity: 126434.51606830442\n",
      "    USD price: 6.670269435502\n",
      "    tvl: $4894121.720411275\n",
      "    weight: 126434.51606830442/533570.1750774072 (0.23695948906807257)\n",
      "    weight cap: 1\n",
      "    total shares: 733721.7435869717\n",
      "    protocol shares: 733721.7435869717\n",
      "\n",
      "    *PHA*\n",
      "    asset quantity: 1169613.1951447497\n",
      "    lrna quantity: 3065.759222775347\n",
      "    USD price: 0.101462346045\n",
      "    tvl: $118671.69874427495\n",
      "    weight: 3065.759222775347/533570.1750774072 (0.005745746981323656)\n",
      "    weight cap: 1\n",
      "    total shares: 1169613.1951447497\n",
      "    protocol shares: 1169613.1951447497\n",
      "\n",
      "    *ZTG*\n",
      "    asset quantity: 2097955.5692162756\n",
      "    lrna quantity: 6918.421450864179\n",
      "    USD price: 0.127649713333\n",
      "    tvl: $267803.42699569085\n",
      "    weight: 6918.421450864179/533570.1750774072 (0.012966282176211397)\n",
      "    weight cap: 1\n",
      "    total shares: 2097955.5692162756\n",
      "    protocol shares: 2097955.5692162756\n",
      "\n",
      "    *INTR*\n",
      "    asset quantity: 14355418.918363446\n",
      "    lrna quantity: 27091.997121703185\n",
      "    USD price: 0.073052362583\n",
      "    tvl: $1048697.2678490472\n",
      "    weight: 27091.997121703185/533570.1750774072 (0.05077494655276195)\n",
      "    weight cap: 1\n",
      "    total shares: 14355418.918363446\n",
      "    protocol shares: 14355418.918363446\n",
      "\n",
      "    *ASTR*\n",
      "    asset quantity: 2755680.9221255924\n",
      "    lrna quantity: 12592.244983134859\n",
      "    USD price: 0.176881882033\n",
      "    tvl: $487430.0277892992\n",
      "    weight: 12592.244983134859/533570.1750774072 (0.023599979105481395)\n",
      "    weight cap: 1\n",
      "    total shares: 2755680.9221255924\n",
      "    protocol shares: 2755680.9221255924\n",
      "\n",
      ")\n",
      "sub pools: (\n",
      "\n",
      "    Stable Swap Pool: 4-Pool\n",
      "    ********************************\n",
      "    trade fee: 0.0004\n",
      "    shares: 1620802.8228034135\n",
      "    amplification constant: 320.0\n",
      "    tokens: (\n",
      "    \n",
      "        USDT10\n",
      "        quantity: 373993.56693\n",
      "        weight: 0.2307379711530947\n",
      "    \n",
      "        DAI\n",
      "        quantity: 338817.7583597765\n",
      "        weight: 0.20903600774824785\n",
      "    \n",
      "        USDC\n",
      "        quantity: 502331.182921\n",
      "        weight: 0.30991676927913525\n",
      "    \n",
      "        USDT23\n",
      "        quantity: 405715.840595\n",
      "        weight: 0.2503092518195222\n",
      "    \n",
      "    )\n",
      "    error message:none)\n",
      "(\n",
      "Stable Swap Pool: 2-Pool\n",
      "    ********************************\n",
      "    trade fee: 0.0004\n",
      "    shares: 54.2133099176\n",
      "    amplification constant: 5.0\n",
      "    tokens: (\n",
      "    \n",
      "        iBTC\n",
      "        quantity: 27.3228297\n",
      "        weight: 0.5039848169542814\n",
      "    \n",
      "        WBTC\n",
      "        quantity: 26.89076718\n",
      "        weight: 0.4960151830457187\n",
      "    \n",
      "    )\n",
      "    error message:none\n",
      ")\n",
      "oracles: (\n",
      "    name: price\n",
      "    length: 19\n",
      "\n",
      ")\n",
      "\n",
      "error message: None\n"
     ]
    }
   ],
   "source": [
    "get_live_markets = True\n",
    "\n",
    "if get_live_markets:\n",
    "    omnipool = get_omnipool()\n",
    "else:\n",
    "    omnipool = load_omnipool()\n",
    "pprint(omnipool)"
   ],
   "metadata": {
    "collapsed": false,
    "ExecuteTime": {
     "end_time": "2024-01-31T22:58:58.089927021Z",
     "start_time": "2024-01-31T22:58:36.387885914Z"
    }
   },
   "id": "1dc196947eeb66c",
   "execution_count": 4
  },
  {
   "cell_type": "code",
   "outputs": [],
   "source": [
    "# save = True\n",
    "# if save:\n",
    "#     save_omnipool(omnipool)"
   ],
   "metadata": {
    "collapsed": false,
    "ExecuteTime": {
     "end_time": "2024-01-31T22:58:58.146789018Z",
     "start_time": "2024-01-31T22:58:58.092397564Z"
    }
   },
   "id": "80ec5315aa926742",
   "execution_count": 5
  },
  {
   "cell_type": "code",
   "outputs": [],
   "source": [],
   "metadata": {
    "collapsed": false,
    "ExecuteTime": {
     "end_time": "2024-01-31T22:58:58.147343866Z",
     "start_time": "2024-01-31T22:58:58.136411116Z"
    }
   },
   "id": "2dc3324520a36a3c",
   "execution_count": 5
  },
  {
   "cell_type": "code",
   "execution_count": 6,
   "outputs": [],
   "source": [
    "cex_asset_tkn = \"INTR\"\n",
    "cex_denom_tkn = \"USD\"\n",
    "dex_asset_tkn = \"INTR\"\n",
    "dex_denom_tkn = \"USDT\"\n",
    "one_hop = False\n",
    "try:\n",
    "    kraken_ob = get_kraken_orderbook((cex_asset_tkn, cex_denom_tkn), archive=False)\n",
    "    cex = CentralizedMarket(\n",
    "        order_book={(cex_asset_tkn, cex_denom_tkn): kraken_ob},\n",
    "        asset_list=[cex_asset_tkn, cex_denom_tkn],\n",
    "        trade_fee=0.001\n",
    "    )\n",
    "    one_hop = True\n",
    "except:  # orderbook doesn't exist? try going through USD\n",
    "    asset_ob = get_kraken_orderbook((cex_asset_tkn, \"USD\"), archive=False)\n",
    "    denom_ob = get_kraken_orderbook((cex_denom_tkn, \"USD\"), archive=False)\n",
    "    cex = CentralizedMarket(\n",
    "        order_book={(cex_asset_tkn, \"USD\"): asset_ob, (cex_denom_tkn, \"USD\"): denom_ob},\n",
    "        asset_list=[cex_asset_tkn, cex_denom_tkn, \"USD\"],\n",
    "        trade_fee=0.001\n",
    "    )\n",
    "    "
   ],
   "metadata": {
    "collapsed": false,
    "ExecuteTime": {
     "end_time": "2024-01-31T22:58:58.613264844Z",
     "start_time": "2024-01-31T22:58:58.136544642Z"
    }
   },
   "id": "de40e2fc88fe157a"
  },
  {
   "cell_type": "code",
   "execution_count": 7,
   "outputs": [
    {
     "name": "stdout",
     "output_type": "stream",
     "text": [
      "{'4-Pool': 1553832.3831947728, 'HDX': 48975980.33937926, 'USDT10': 2707740.702887, 'WETH': 1112.6027491264585, '2-Pool': 54.1593593293248, 'GLMR': 1253838.7184088551, 'BNC': 575968.7671081127, 'vDOT': 229724.160459049, 'CFG': 1028763.3564301317, 'DOT': 733721.7435869717, 'PHA': 1169613.1951447497, 'ZTG': 2097955.5692162756, 'INTR': 14355418.918363446, 'ASTR': 2755680.9221255924}\n"
     ]
    }
   ],
   "source": [
    "if one_hop:\n",
    "    cex_spot = (cex.order_book[(cex_asset_tkn, cex_denom_tkn)].bids[0][0] + cex.order_book[(cex_asset_tkn, cex_denom_tkn)].asks[0][0]) / 2\n",
    "else:\n",
    "    cex_asset_spot = (cex.order_book[(cex_asset_tkn, \"USD\")].bids[0][0] + cex.order_book[(cex_asset_tkn, \"USD\")].asks[0][0]) / 2\n",
    "    cex_denom_spot = (cex.order_book[(cex_denom_tkn, \"USD\")].bids[0][0] + cex.order_book[(cex_denom_tkn, \"USD\")].asks[0][0]) / 2\n",
    "    cex_spot = cex_asset_spot / cex_denom_spot\n",
    "\n",
    "\n",
    "# dex_denom_data = tokens[dex_denom_tkn]\n",
    "# dex_denom_scale = mpf(1)\n",
    "# overall_scale = mpf(1)\n",
    "# dex_denom_lrna = dex_denom_data['LRNA'] * dex_denom_scale * overall_scale\n",
    "# dot_liquidity = tokens[dex_asset_tkn]['liquidity'] * overall_scale\n",
    "# dot_lrna = tokens[dex_asset_tkn]['LRNA'] * overall_scale\n",
    "# dex_denom_liquidity = cex_spot * dex_denom_lrna * dot_liquidity / dot_lrna\n",
    "# dex_denom_data_up = {'LRNA': dex_denom_lrna, 'liquidity': dex_denom_liquidity}\n",
    "# hdx_data = {'LRNA': tokens['HDX']['LRNA'] * overall_scale, 'liquidity': tokens['HDX']['liquidity'] * overall_scale}\n",
    "# dot_data = {'LRNA': dot_lrna, 'liquidity': dot_liquidity}\n",
    "\n",
    "# op_state = OmnipoolState(\n",
    "#     # tokens={dex_denom_tkn: dex_denom_data_up, dex_asset_tkn: dot_data, \"HDX\": hdx_data,\n",
    "#     #         \"USD\": {\"LRNA\": mpf(10000), \"liquidity\": mpf(10000)}},\n",
    "#     tokens=tokens,\n",
    "#     preferred_stablecoin=\"USDT\",\n",
    "#     lrna_fee=0.0000,\n",
    "#     asset_fee=0.0000\n",
    "# )\n",
    "op_state = omnipool\n",
    "\n",
    "# protocol_agent = Agent(holdings={\"DOT\": mpf(500000)})\n",
    "# op_state.add_liquidity(protocol_agent, 500000, \"DOT\")\n",
    "\n",
    "protocol_agent = Agent(holdings={\"GLMR\": mpf(600000)})\n",
    "op_state.add_liquidity(protocol_agent, 600000, \"GLMR\")\n",
    "\n",
    "\n",
    "# op_state.asset_fee = 0\n",
    "# op_state.lrna_fee = 0\n",
    "\n",
    "    \n",
    "# pprint(tokens)\n",
    "print(op_state.liquidity)"
   ],
   "metadata": {
    "collapsed": false,
    "ExecuteTime": {
     "end_time": "2024-01-31T22:58:58.640055631Z",
     "start_time": "2024-01-31T22:58:58.632546751Z"
    }
   },
   "id": "a9a6349276b30b04"
  },
  {
   "cell_type": "code",
   "execution_count": 8,
   "outputs": [
    {
     "name": "stdout",
     "output_type": "stream",
     "text": [
      "0\n",
      "0.07205\n"
     ]
    }
   ],
   "source": [
    "op_spot = op_state.price(op_state, dex_asset_tkn, dex_denom_tkn)\n",
    "pprint(op_spot)\n",
    "pprint(cex_spot)\n",
    "# pprint((cex.order_book[(cex_asset_tkn, cex_denom_tkn)].bids[0][0],cex.order_book[(cex_asset_tkn, cex_denom_tkn)].asks[0][0]))\n",
    "# pprint((cex.order_book[(cex_asset_tkn, cex_denom_tkn)].asks[0][0] - cex.order_book[(cex_asset_tkn, cex_denom_tkn)].bids[0][0])/cex.order_book[(cex_asset_tkn, cex_denom_tkn)].bids[0][0])"
   ],
   "metadata": {
    "collapsed": false,
    "ExecuteTime": {
     "end_time": "2024-01-31T22:58:58.679624739Z",
     "start_time": "2024-01-31T22:58:58.635698009Z"
    }
   },
   "id": "6ec44c5cafc0d74b"
  },
  {
   "cell_type": "code",
   "execution_count": 9,
   "outputs": [
    {
     "ename": "ZeroDivisionError",
     "evalue": "division by zero",
     "output_type": "error",
     "traceback": [
      "\u001B[0;31m---------------------------------------------------------------------------\u001B[0m",
      "\u001B[0;31mZeroDivisionError\u001B[0m                         Traceback (most recent call last)",
      "Input \u001B[0;32mIn [9]\u001B[0m, in \u001B[0;36m<cell line: 9>\u001B[0;34m()\u001B[0m\n\u001B[1;32m      7\u001B[0m asset_spot \u001B[38;5;241m=\u001B[39m omnipool\u001B[38;5;241m.\u001B[39mprice(omnipool, dex_denom_tkn, \u001B[38;5;124m\"\u001B[39m\u001B[38;5;124mUSDT10\u001B[39m\u001B[38;5;124m\"\u001B[39m)\n\u001B[1;32m      8\u001B[0m dollar_step_size \u001B[38;5;241m=\u001B[39m \u001B[38;5;241m2\u001B[39m\n\u001B[0;32m----> 9\u001B[0m trade_size_list \u001B[38;5;241m=\u001B[39m [dollar_step_size\u001B[38;5;241m/\u001B[39masset_spot\u001B[38;5;241m*\u001B[39mi \u001B[38;5;28;01mfor\u001B[39;00m i \u001B[38;5;129;01min\u001B[39;00m \u001B[38;5;28mrange\u001B[39m(\u001B[38;5;241m1\u001B[39m, \u001B[38;5;241m1500\u001B[39m)]\n\u001B[1;32m     10\u001B[0m dot_out_cex \u001B[38;5;241m=\u001B[39m []\n\u001B[1;32m     11\u001B[0m dot_out_dex \u001B[38;5;241m=\u001B[39m []\n",
      "Input \u001B[0;32mIn [9]\u001B[0m, in \u001B[0;36m<listcomp>\u001B[0;34m(.0)\u001B[0m\n\u001B[1;32m      7\u001B[0m asset_spot \u001B[38;5;241m=\u001B[39m omnipool\u001B[38;5;241m.\u001B[39mprice(omnipool, dex_denom_tkn, \u001B[38;5;124m\"\u001B[39m\u001B[38;5;124mUSDT10\u001B[39m\u001B[38;5;124m\"\u001B[39m)\n\u001B[1;32m      8\u001B[0m dollar_step_size \u001B[38;5;241m=\u001B[39m \u001B[38;5;241m2\u001B[39m\n\u001B[0;32m----> 9\u001B[0m trade_size_list \u001B[38;5;241m=\u001B[39m [\u001B[43mdollar_step_size\u001B[49m\u001B[38;5;241;43m/\u001B[39;49m\u001B[43masset_spot\u001B[49m\u001B[38;5;241m*\u001B[39mi \u001B[38;5;28;01mfor\u001B[39;00m i \u001B[38;5;129;01min\u001B[39;00m \u001B[38;5;28mrange\u001B[39m(\u001B[38;5;241m1\u001B[39m, \u001B[38;5;241m1500\u001B[39m)]\n\u001B[1;32m     10\u001B[0m dot_out_cex \u001B[38;5;241m=\u001B[39m []\n\u001B[1;32m     11\u001B[0m dot_out_dex \u001B[38;5;241m=\u001B[39m []\n",
      "\u001B[0;31mZeroDivisionError\u001B[0m: division by zero"
     ]
    }
   ],
   "source": [
    "holdings = {}\n",
    "for tkn in [cex_asset_tkn, cex_denom_tkn, dex_asset_tkn, dex_denom_tkn, \"USD\"]:\n",
    "    if tkn not in holdings:\n",
    "        holdings[tkn] = mpf(10000000)\n",
    "agent = Agent(holdings=holdings)\n",
    "\n",
    "asset_spot = omnipool.price(omnipool, dex_denom_tkn, \"USDT10\")\n",
    "dollar_step_size = 2\n",
    "trade_size_list = [dollar_step_size/asset_spot*i for i in range(1, 1500)]\n",
    "dot_out_cex = []\n",
    "dot_out_dex = []\n",
    "for trade_size in trade_size_list:\n",
    "    temp_op_state = op_state.copy()\n",
    "    temp_cex_state = cex.copy()\n",
    "    temp_agent1 = agent.copy()\n",
    "    temp_agent2 = agent.copy()\n",
    "    temp_op_state.swap(temp_agent1, tkn_buy=dex_asset_tkn, tkn_sell=dex_denom_tkn, sell_quantity=trade_size)\n",
    "    if one_hop:\n",
    "        temp_cex_state.swap(temp_agent2, tkn_buy=cex_asset_tkn, tkn_sell=cex_denom_tkn, sell_quantity=trade_size)\n",
    "    else:\n",
    "        temp_cex_state.swap(temp_agent2, tkn_buy=\"USD\", tkn_sell=cex_denom_tkn, sell_quantity=trade_size)\n",
    "        sell_amt_usd = temp_agent2.holdings[\"USD\"] - agent.holdings[\"USD\"]\n",
    "        temp_cex_state.swap(temp_agent2, tkn_buy=cex_asset_tkn, tkn_sell=\"USD\", sell_quantity=sell_amt_usd)\n",
    "    dot_out_dex.append(temp_agent1.holdings[dex_asset_tkn] - agent.holdings[dex_asset_tkn])\n",
    "    dot_out_cex.append(temp_agent2.holdings[cex_asset_tkn] - agent.holdings[cex_asset_tkn])\n",
    "    # pprint(trade_size)\n",
    "    # pprint(temp_op_state.price(temp_op_state, \"DOT\", \"USDT\"))\n",
    "    \n",
    "pprint(\"DEX\")\n",
    "plt.plot(trade_size_list, dot_out_dex, label=\"DEX\")\n",
    "# pprint(dot_out_dex)\n",
    "\n",
    "pprint(\"CEX\")\n",
    "# pprint(dot_out_cex)\n",
    "plt.plot(trade_size_list, dot_out_cex, label=\"CEX\")\n",
    "plt.legend()\n",
    "plt.show()\n",
    "\n",
    "diffs = [dot_out_dex[i] - dot_out_cex[i] for i in range(len(dot_out_dex))]\n",
    "plt.plot(trade_size_list, diffs, label=\"DEX - CEX\")\n",
    "plt.show()\n",
    "\n",
    "print(cex.order_book)"
   ],
   "metadata": {
    "collapsed": false,
    "ExecuteTime": {
     "end_time": "2024-01-31T22:58:59.004220885Z",
     "start_time": "2024-01-31T22:58:58.676425354Z"
    }
   },
   "id": "fe94206ea0bd98b6"
  },
  {
   "cell_type": "code",
   "execution_count": null,
   "outputs": [],
   "source": [
    "print(dot_out_cex[-1])"
   ],
   "metadata": {
    "collapsed": false,
    "ExecuteTime": {
     "end_time": "2024-01-31T22:58:59.005590578Z",
     "start_time": "2024-01-31T22:58:59.005571717Z"
    }
   },
   "id": "e7cb0770715b0a42"
  },
  {
   "cell_type": "code",
   "execution_count": null,
   "outputs": [],
   "source": [
    "print(dot_out_dex[-1])"
   ],
   "metadata": {
    "collapsed": false,
    "ExecuteTime": {
     "end_time": "2024-01-31T22:58:59.052965027Z",
     "start_time": "2024-01-31T22:58:59.052380156Z"
    }
   },
   "id": "b2622529def29c27"
  },
  {
   "cell_type": "code",
   "execution_count": null,
   "outputs": [],
   "source": [],
   "metadata": {
    "collapsed": false,
    "ExecuteTime": {
     "start_time": "2024-01-31T22:58:59.052499385Z"
    }
   },
   "id": "7fe45be545dd47a8"
  }
 ],
 "metadata": {
  "kernelspec": {
   "display_name": "Python 3",
   "language": "python",
   "name": "python3"
  },
  "language_info": {
   "codemirror_mode": {
    "name": "ipython",
    "version": 2
   },
   "file_extension": ".py",
   "mimetype": "text/x-python",
   "name": "python",
   "nbconvert_exporter": "python",
   "pygments_lexer": "ipython2",
   "version": "2.7.6"
  }
 },
 "nbformat": 4,
 "nbformat_minor": 5
}
