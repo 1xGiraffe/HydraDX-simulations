{
 "cells": [
  {
   "cell_type": "code",
   "execution_count": 1,
   "id": "initial_id",
   "metadata": {
    "collapsed": true,
    "ExecuteTime": {
     "end_time": "2024-02-05T17:27:24.237510467Z",
     "start_time": "2024-02-05T17:27:23.414541138Z"
    }
   },
   "outputs": [],
   "source": [
    "from hydradx.model.processing import get_omnipool_data, get_binance_orderbook, get_kraken_orderbook, get_omnipool, load_omnipool, save_omnipool\n",
    "from hydradx.model.amm.omnipool_amm import OmnipoolState\n",
    "from hydradx.model.amm.centralized_market import CentralizedMarket\n",
    "from hydradx.model.amm.agents import Agent\n",
    "\n",
    "import matplotlib.pyplot as plt\n",
    "\n",
    "from pprint import pprint\n",
    "from mpmath import mpf, mp\n",
    "mp.dps = 50\n",
    "\n",
    "from hydradxapi import HydraDX\n"
   ]
  },
  {
   "cell_type": "code",
   "execution_count": 2,
   "outputs": [],
   "source": [
    "\n",
    "RPC=\"wss://rpc.hydradx.cloud\"\n",
    "            \n",
    "# asset_list, asset_map, tokens, fees = get_omnipool_data(RPC, archive=False)\n",
    "\n"
   ],
   "metadata": {
    "collapsed": false,
    "ExecuteTime": {
     "end_time": "2024-02-05T17:27:24.247658415Z",
     "start_time": "2024-02-05T17:27:24.237046604Z"
    }
   },
   "id": "c6164b8fd95ca03b"
  },
  {
   "cell_type": "code",
   "outputs": [],
   "source": [
    "# pprint(asset_list)"
   ],
   "metadata": {
    "collapsed": false,
    "ExecuteTime": {
     "end_time": "2024-02-05T17:27:24.749729968Z",
     "start_time": "2024-02-05T17:27:24.744536185Z"
    }
   },
   "id": "e387ec45e7c27216",
   "execution_count": 3
  },
  {
   "cell_type": "code",
   "outputs": [
    {
     "ename": "ZeroDivisionError",
     "evalue": "float division by zero",
     "output_type": "error",
     "traceback": [
      "\u001B[0;31m---------------------------------------------------------------------------\u001B[0m",
      "\u001B[0;31mZeroDivisionError\u001B[0m                         Traceback (most recent call last)",
      "Input \u001B[0;32mIn [4]\u001B[0m, in \u001B[0;36m<cell line: 7>\u001B[0;34m()\u001B[0m\n\u001B[1;32m      5\u001B[0m \u001B[38;5;28;01melse\u001B[39;00m:\n\u001B[1;32m      6\u001B[0m     omnipool \u001B[38;5;241m=\u001B[39m load_omnipool()\n\u001B[0;32m----> 7\u001B[0m \u001B[43mpprint\u001B[49m\u001B[43m(\u001B[49m\u001B[43momnipool\u001B[49m\u001B[43m)\u001B[49m\n",
      "File \u001B[0;32m/usr/lib/python3.9/pprint.py:53\u001B[0m, in \u001B[0;36mpprint\u001B[0;34m(object, stream, indent, width, depth, compact, sort_dicts)\u001B[0m\n\u001B[1;32m     49\u001B[0m \u001B[38;5;124;03m\"\"\"Pretty-print a Python object to a stream [default is sys.stdout].\"\"\"\u001B[39;00m\n\u001B[1;32m     50\u001B[0m printer \u001B[38;5;241m=\u001B[39m PrettyPrinter(\n\u001B[1;32m     51\u001B[0m     stream\u001B[38;5;241m=\u001B[39mstream, indent\u001B[38;5;241m=\u001B[39mindent, width\u001B[38;5;241m=\u001B[39mwidth, depth\u001B[38;5;241m=\u001B[39mdepth,\n\u001B[1;32m     52\u001B[0m     compact\u001B[38;5;241m=\u001B[39mcompact, sort_dicts\u001B[38;5;241m=\u001B[39msort_dicts)\n\u001B[0;32m---> 53\u001B[0m \u001B[43mprinter\u001B[49m\u001B[38;5;241;43m.\u001B[39;49m\u001B[43mpprint\u001B[49m\u001B[43m(\u001B[49m\u001B[38;5;28;43mobject\u001B[39;49m\u001B[43m)\u001B[49m\n",
      "File \u001B[0;32m/usr/lib/python3.9/pprint.py:148\u001B[0m, in \u001B[0;36mPrettyPrinter.pprint\u001B[0;34m(self, object)\u001B[0m\n\u001B[1;32m    147\u001B[0m \u001B[38;5;28;01mdef\u001B[39;00m \u001B[38;5;21mpprint\u001B[39m(\u001B[38;5;28mself\u001B[39m, \u001B[38;5;28mobject\u001B[39m):\n\u001B[0;32m--> 148\u001B[0m     \u001B[38;5;28;43mself\u001B[39;49m\u001B[38;5;241;43m.\u001B[39;49m\u001B[43m_format\u001B[49m\u001B[43m(\u001B[49m\u001B[38;5;28;43mobject\u001B[39;49m\u001B[43m,\u001B[49m\u001B[43m \u001B[49m\u001B[38;5;28;43mself\u001B[39;49m\u001B[38;5;241;43m.\u001B[39;49m\u001B[43m_stream\u001B[49m\u001B[43m,\u001B[49m\u001B[43m \u001B[49m\u001B[38;5;241;43m0\u001B[39;49m\u001B[43m,\u001B[49m\u001B[43m \u001B[49m\u001B[38;5;241;43m0\u001B[39;49m\u001B[43m,\u001B[49m\u001B[43m \u001B[49m\u001B[43m{\u001B[49m\u001B[43m}\u001B[49m\u001B[43m,\u001B[49m\u001B[43m \u001B[49m\u001B[38;5;241;43m0\u001B[39;49m\u001B[43m)\u001B[49m\n\u001B[1;32m    149\u001B[0m     \u001B[38;5;28mself\u001B[39m\u001B[38;5;241m.\u001B[39m_stream\u001B[38;5;241m.\u001B[39mwrite(\u001B[38;5;124m\"\u001B[39m\u001B[38;5;130;01m\\n\u001B[39;00m\u001B[38;5;124m\"\u001B[39m)\n",
      "File \u001B[0;32m/usr/lib/python3.9/pprint.py:170\u001B[0m, in \u001B[0;36mPrettyPrinter._format\u001B[0;34m(self, object, stream, indent, allowance, context, level)\u001B[0m\n\u001B[1;32m    168\u001B[0m     \u001B[38;5;28mself\u001B[39m\u001B[38;5;241m.\u001B[39m_readable \u001B[38;5;241m=\u001B[39m \u001B[38;5;28;01mFalse\u001B[39;00m\n\u001B[1;32m    169\u001B[0m     \u001B[38;5;28;01mreturn\u001B[39;00m\n\u001B[0;32m--> 170\u001B[0m rep \u001B[38;5;241m=\u001B[39m \u001B[38;5;28;43mself\u001B[39;49m\u001B[38;5;241;43m.\u001B[39;49m\u001B[43m_repr\u001B[49m\u001B[43m(\u001B[49m\u001B[38;5;28;43mobject\u001B[39;49m\u001B[43m,\u001B[49m\u001B[43m \u001B[49m\u001B[43mcontext\u001B[49m\u001B[43m,\u001B[49m\u001B[43m \u001B[49m\u001B[43mlevel\u001B[49m\u001B[43m)\u001B[49m\n\u001B[1;32m    171\u001B[0m max_width \u001B[38;5;241m=\u001B[39m \u001B[38;5;28mself\u001B[39m\u001B[38;5;241m.\u001B[39m_width \u001B[38;5;241m-\u001B[39m indent \u001B[38;5;241m-\u001B[39m allowance\n\u001B[1;32m    172\u001B[0m \u001B[38;5;28;01mif\u001B[39;00m \u001B[38;5;28mlen\u001B[39m(rep) \u001B[38;5;241m>\u001B[39m max_width:\n",
      "File \u001B[0;32m/usr/lib/python3.9/pprint.py:431\u001B[0m, in \u001B[0;36mPrettyPrinter._repr\u001B[0;34m(self, object, context, level)\u001B[0m\n\u001B[1;32m    430\u001B[0m \u001B[38;5;28;01mdef\u001B[39;00m \u001B[38;5;21m_repr\u001B[39m(\u001B[38;5;28mself\u001B[39m, \u001B[38;5;28mobject\u001B[39m, context, level):\n\u001B[0;32m--> 431\u001B[0m     \u001B[38;5;28mrepr\u001B[39m, readable, recursive \u001B[38;5;241m=\u001B[39m \u001B[38;5;28;43mself\u001B[39;49m\u001B[38;5;241;43m.\u001B[39;49m\u001B[43mformat\u001B[49m\u001B[43m(\u001B[49m\u001B[38;5;28;43mobject\u001B[39;49m\u001B[43m,\u001B[49m\u001B[43m \u001B[49m\u001B[43mcontext\u001B[49m\u001B[38;5;241;43m.\u001B[39;49m\u001B[43mcopy\u001B[49m\u001B[43m(\u001B[49m\u001B[43m)\u001B[49m\u001B[43m,\u001B[49m\n\u001B[1;32m    432\u001B[0m \u001B[43m                                            \u001B[49m\u001B[38;5;28;43mself\u001B[39;49m\u001B[38;5;241;43m.\u001B[39;49m\u001B[43m_depth\u001B[49m\u001B[43m,\u001B[49m\u001B[43m \u001B[49m\u001B[43mlevel\u001B[49m\u001B[43m)\u001B[49m\n\u001B[1;32m    433\u001B[0m     \u001B[38;5;28;01mif\u001B[39;00m \u001B[38;5;129;01mnot\u001B[39;00m readable:\n\u001B[1;32m    434\u001B[0m         \u001B[38;5;28mself\u001B[39m\u001B[38;5;241m.\u001B[39m_readable \u001B[38;5;241m=\u001B[39m \u001B[38;5;28;01mFalse\u001B[39;00m\n",
      "File \u001B[0;32m/usr/lib/python3.9/pprint.py:444\u001B[0m, in \u001B[0;36mPrettyPrinter.format\u001B[0;34m(self, object, context, maxlevels, level)\u001B[0m\n\u001B[1;32m    439\u001B[0m \u001B[38;5;28;01mdef\u001B[39;00m \u001B[38;5;21mformat\u001B[39m(\u001B[38;5;28mself\u001B[39m, \u001B[38;5;28mobject\u001B[39m, context, maxlevels, level):\n\u001B[1;32m    440\u001B[0m     \u001B[38;5;124;03m\"\"\"Format object for a specific context, returning a string\u001B[39;00m\n\u001B[1;32m    441\u001B[0m \u001B[38;5;124;03m    and flags indicating whether the representation is 'readable'\u001B[39;00m\n\u001B[1;32m    442\u001B[0m \u001B[38;5;124;03m    and whether the object represents a recursive construct.\u001B[39;00m\n\u001B[1;32m    443\u001B[0m \u001B[38;5;124;03m    \"\"\"\u001B[39;00m\n\u001B[0;32m--> 444\u001B[0m     \u001B[38;5;28;01mreturn\u001B[39;00m \u001B[43m_safe_repr\u001B[49m\u001B[43m(\u001B[49m\u001B[38;5;28;43mobject\u001B[39;49m\u001B[43m,\u001B[49m\u001B[43m \u001B[49m\u001B[43mcontext\u001B[49m\u001B[43m,\u001B[49m\u001B[43m \u001B[49m\u001B[43mmaxlevels\u001B[49m\u001B[43m,\u001B[49m\u001B[43m \u001B[49m\u001B[43mlevel\u001B[49m\u001B[43m,\u001B[49m\u001B[43m \u001B[49m\u001B[38;5;28;43mself\u001B[39;49m\u001B[38;5;241;43m.\u001B[39;49m\u001B[43m_sort_dicts\u001B[49m\u001B[43m)\u001B[49m\n",
      "File \u001B[0;32m/usr/lib/python3.9/pprint.py:596\u001B[0m, in \u001B[0;36m_safe_repr\u001B[0;34m(object, context, maxlevels, level, sort_dicts)\u001B[0m\n\u001B[1;32m    593\u001B[0m     \u001B[38;5;28;01mdel\u001B[39;00m context[objid]\n\u001B[1;32m    594\u001B[0m     \u001B[38;5;28;01mreturn\u001B[39;00m \u001B[38;5;28mformat\u001B[39m \u001B[38;5;241m%\u001B[39m \u001B[38;5;124m\"\u001B[39m\u001B[38;5;124m, \u001B[39m\u001B[38;5;124m\"\u001B[39m\u001B[38;5;241m.\u001B[39mjoin(components), readable, recursive\n\u001B[0;32m--> 596\u001B[0m rep \u001B[38;5;241m=\u001B[39m \u001B[38;5;28;43mrepr\u001B[39;49m\u001B[43m(\u001B[49m\u001B[38;5;28;43mobject\u001B[39;49m\u001B[43m)\u001B[49m\n\u001B[1;32m    597\u001B[0m \u001B[38;5;28;01mreturn\u001B[39;00m rep, (rep \u001B[38;5;129;01mand\u001B[39;00m \u001B[38;5;129;01mnot\u001B[39;00m rep\u001B[38;5;241m.\u001B[39mstartswith(\u001B[38;5;124m'\u001B[39m\u001B[38;5;124m<\u001B[39m\u001B[38;5;124m'\u001B[39m)), \u001B[38;5;28;01mFalse\u001B[39;00m\n",
      "File \u001B[0;32m~/PycharmProjects/HydraDX-simulations/hydradx/model/amm/omnipool_amm.py:264\u001B[0m, in \u001B[0;36mOmnipoolState.__repr__\u001B[0;34m(self)\u001B[0m\n\u001B[1;32m    262\u001B[0m liquidity \u001B[38;5;241m=\u001B[39m {tkn: \u001B[38;5;28mround\u001B[39m(\u001B[38;5;28mself\u001B[39m\u001B[38;5;241m.\u001B[39mliquidity[tkn], precision) \u001B[38;5;28;01mfor\u001B[39;00m tkn \u001B[38;5;129;01min\u001B[39;00m \u001B[38;5;28mself\u001B[39m\u001B[38;5;241m.\u001B[39mliquidity}\n\u001B[1;32m    263\u001B[0m weight_cap \u001B[38;5;241m=\u001B[39m {tkn: \u001B[38;5;28mround\u001B[39m(\u001B[38;5;28mself\u001B[39m\u001B[38;5;241m.\u001B[39mweight_cap[tkn], precision) \u001B[38;5;28;01mfor\u001B[39;00m tkn \u001B[38;5;129;01min\u001B[39;00m \u001B[38;5;28mself\u001B[39m\u001B[38;5;241m.\u001B[39mweight_cap}\n\u001B[0;32m--> 264\u001B[0m prices \u001B[38;5;241m=\u001B[39m {tkn: \u001B[38;5;28mround\u001B[39m(usd_price(\u001B[38;5;28mself\u001B[39m, tkn), precision) \u001B[38;5;28;01mfor\u001B[39;00m tkn \u001B[38;5;129;01min\u001B[39;00m \u001B[38;5;28mself\u001B[39m\u001B[38;5;241m.\u001B[39masset_list}\n\u001B[1;32m    265\u001B[0m newline \u001B[38;5;241m=\u001B[39m \u001B[38;5;124m'\u001B[39m\u001B[38;5;130;01m\\n\u001B[39;00m\u001B[38;5;124m'\u001B[39m\n\u001B[1;32m    266\u001B[0m \u001B[38;5;28;01mreturn\u001B[39;00m (\n\u001B[1;32m    267\u001B[0m     \u001B[38;5;124mf\u001B[39m\u001B[38;5;124m'\u001B[39m\u001B[38;5;124mOmnipool: \u001B[39m\u001B[38;5;132;01m{\u001B[39;00m\u001B[38;5;28mself\u001B[39m\u001B[38;5;241m.\u001B[39munique_id\u001B[38;5;132;01m}\u001B[39;00m\u001B[38;5;130;01m\\n\u001B[39;00m\u001B[38;5;124m'\u001B[39m\n\u001B[1;32m    268\u001B[0m     \u001B[38;5;124mf\u001B[39m\u001B[38;5;124m'\u001B[39m\u001B[38;5;124m********************************\u001B[39m\u001B[38;5;130;01m\\n\u001B[39;00m\u001B[38;5;124m'\u001B[39m\n\u001B[0;32m   (...)\u001B[0m\n\u001B[1;32m    296\u001B[0m     \u001B[38;5;28;01mfor\u001B[39;00m name, oracle \u001B[38;5;129;01min\u001B[39;00m \u001B[38;5;28mself\u001B[39m\u001B[38;5;241m.\u001B[39moracles\u001B[38;5;241m.\u001B[39mitems()\n\u001B[1;32m    297\u001B[0m ]) \u001B[38;5;241m+\u001B[39m \u001B[38;5;124mf\u001B[39m\u001B[38;5;124m'\u001B[39m\u001B[38;5;130;01m\\n\u001B[39;00m\u001B[38;5;124m)\u001B[39m\u001B[38;5;130;01m\\n\u001B[39;00m\u001B[38;5;130;01m\\n\u001B[39;00m\u001B[38;5;124merror message: \u001B[39m\u001B[38;5;132;01m{\u001B[39;00m\u001B[38;5;28mself\u001B[39m\u001B[38;5;241m.\u001B[39mfail \u001B[38;5;129;01mor\u001B[39;00m \u001B[38;5;124m\"\u001B[39m\u001B[38;5;124mNone\u001B[39m\u001B[38;5;124m\"\u001B[39m\u001B[38;5;132;01m}\u001B[39;00m\u001B[38;5;124m'\u001B[39m\n",
      "File \u001B[0;32m~/PycharmProjects/HydraDX-simulations/hydradx/model/amm/omnipool_amm.py:264\u001B[0m, in \u001B[0;36m<dictcomp>\u001B[0;34m(.0)\u001B[0m\n\u001B[1;32m    262\u001B[0m liquidity \u001B[38;5;241m=\u001B[39m {tkn: \u001B[38;5;28mround\u001B[39m(\u001B[38;5;28mself\u001B[39m\u001B[38;5;241m.\u001B[39mliquidity[tkn], precision) \u001B[38;5;28;01mfor\u001B[39;00m tkn \u001B[38;5;129;01min\u001B[39;00m \u001B[38;5;28mself\u001B[39m\u001B[38;5;241m.\u001B[39mliquidity}\n\u001B[1;32m    263\u001B[0m weight_cap \u001B[38;5;241m=\u001B[39m {tkn: \u001B[38;5;28mround\u001B[39m(\u001B[38;5;28mself\u001B[39m\u001B[38;5;241m.\u001B[39mweight_cap[tkn], precision) \u001B[38;5;28;01mfor\u001B[39;00m tkn \u001B[38;5;129;01min\u001B[39;00m \u001B[38;5;28mself\u001B[39m\u001B[38;5;241m.\u001B[39mweight_cap}\n\u001B[0;32m--> 264\u001B[0m prices \u001B[38;5;241m=\u001B[39m {tkn: \u001B[38;5;28mround\u001B[39m(\u001B[43musd_price\u001B[49m\u001B[43m(\u001B[49m\u001B[38;5;28;43mself\u001B[39;49m\u001B[43m,\u001B[49m\u001B[43m \u001B[49m\u001B[43mtkn\u001B[49m\u001B[43m)\u001B[49m, precision) \u001B[38;5;28;01mfor\u001B[39;00m tkn \u001B[38;5;129;01min\u001B[39;00m \u001B[38;5;28mself\u001B[39m\u001B[38;5;241m.\u001B[39masset_list}\n\u001B[1;32m    265\u001B[0m newline \u001B[38;5;241m=\u001B[39m \u001B[38;5;124m'\u001B[39m\u001B[38;5;130;01m\\n\u001B[39;00m\u001B[38;5;124m'\u001B[39m\n\u001B[1;32m    266\u001B[0m \u001B[38;5;28;01mreturn\u001B[39;00m (\n\u001B[1;32m    267\u001B[0m     \u001B[38;5;124mf\u001B[39m\u001B[38;5;124m'\u001B[39m\u001B[38;5;124mOmnipool: \u001B[39m\u001B[38;5;132;01m{\u001B[39;00m\u001B[38;5;28mself\u001B[39m\u001B[38;5;241m.\u001B[39munique_id\u001B[38;5;132;01m}\u001B[39;00m\u001B[38;5;130;01m\\n\u001B[39;00m\u001B[38;5;124m'\u001B[39m\n\u001B[1;32m    268\u001B[0m     \u001B[38;5;124mf\u001B[39m\u001B[38;5;124m'\u001B[39m\u001B[38;5;124m********************************\u001B[39m\u001B[38;5;130;01m\\n\u001B[39;00m\u001B[38;5;124m'\u001B[39m\n\u001B[0;32m   (...)\u001B[0m\n\u001B[1;32m    296\u001B[0m     \u001B[38;5;28;01mfor\u001B[39;00m name, oracle \u001B[38;5;129;01min\u001B[39;00m \u001B[38;5;28mself\u001B[39m\u001B[38;5;241m.\u001B[39moracles\u001B[38;5;241m.\u001B[39mitems()\n\u001B[1;32m    297\u001B[0m ]) \u001B[38;5;241m+\u001B[39m \u001B[38;5;124mf\u001B[39m\u001B[38;5;124m'\u001B[39m\u001B[38;5;130;01m\\n\u001B[39;00m\u001B[38;5;124m)\u001B[39m\u001B[38;5;130;01m\\n\u001B[39;00m\u001B[38;5;130;01m\\n\u001B[39;00m\u001B[38;5;124merror message: \u001B[39m\u001B[38;5;132;01m{\u001B[39;00m\u001B[38;5;28mself\u001B[39m\u001B[38;5;241m.\u001B[39mfail \u001B[38;5;129;01mor\u001B[39;00m \u001B[38;5;124m\"\u001B[39m\u001B[38;5;124mNone\u001B[39m\u001B[38;5;124m\"\u001B[39m\u001B[38;5;132;01m}\u001B[39;00m\u001B[38;5;124m'\u001B[39m\n",
      "File \u001B[0;32m~/PycharmProjects/HydraDX-simulations/hydradx/model/amm/omnipool_amm.py:1175\u001B[0m, in \u001B[0;36musd_price\u001B[0;34m(state, tkn)\u001B[0m\n\u001B[1;32m   1173\u001B[0m     \u001B[38;5;28;01mreturn\u001B[39;00m \u001B[38;5;241m1\u001B[39m \u001B[38;5;241m/\u001B[39m state\u001B[38;5;241m.\u001B[39mlrna_price(state, state\u001B[38;5;241m.\u001B[39mstablecoin)\n\u001B[1;32m   1174\u001B[0m \u001B[38;5;28;01melse\u001B[39;00m:\n\u001B[0;32m-> 1175\u001B[0m     \u001B[38;5;28;01mreturn\u001B[39;00m \u001B[43mprice\u001B[49m\u001B[43m(\u001B[49m\u001B[43mstate\u001B[49m\u001B[43m,\u001B[49m\u001B[43m \u001B[49m\u001B[43mtkn\u001B[49m\u001B[43m)\u001B[49m\u001B[43m \u001B[49m\u001B[38;5;241;43m/\u001B[39;49m\u001B[43m \u001B[49m\u001B[43mprice\u001B[49m\u001B[43m(\u001B[49m\u001B[43mstate\u001B[49m\u001B[43m,\u001B[49m\u001B[43m \u001B[49m\u001B[43mstate\u001B[49m\u001B[38;5;241;43m.\u001B[39;49m\u001B[43mstablecoin\u001B[49m\u001B[43m)\u001B[49m\n",
      "\u001B[0;31mZeroDivisionError\u001B[0m: float division by zero"
     ]
    }
   ],
   "source": [
    "get_live_markets = True\n",
    "\n",
    "if get_live_markets:\n",
    "    omnipool = get_omnipool()\n",
    "else:\n",
    "    omnipool = load_omnipool()\n",
    "pprint(omnipool)"
   ],
   "metadata": {
    "collapsed": false,
    "ExecuteTime": {
     "end_time": "2024-02-05T17:28:58.281513730Z",
     "start_time": "2024-02-05T17:27:27.368497235Z"
    }
   },
   "id": "1dc196947eeb66c",
   "execution_count": 4
  },
  {
   "cell_type": "code",
   "outputs": [],
   "source": [
    "# save = True\n",
    "# if save:\n",
    "#     save_omnipool(omnipool)"
   ],
   "metadata": {
    "collapsed": false,
    "ExecuteTime": {
     "end_time": "2024-02-05T17:07:43.997233216Z",
     "start_time": "2024-02-05T17:07:43.991299379Z"
    }
   },
   "id": "80ec5315aa926742",
   "execution_count": null
  },
  {
   "cell_type": "code",
   "outputs": [],
   "source": [],
   "metadata": {
    "collapsed": false,
    "ExecuteTime": {
     "start_time": "2024-02-05T17:07:43.993804630Z"
    }
   },
   "id": "2dc3324520a36a3c",
   "execution_count": null
  },
  {
   "cell_type": "code",
   "execution_count": null,
   "outputs": [],
   "source": [
    "cex_asset_tkn = \"INTR\"\n",
    "cex_denom_tkn = \"USD\"\n",
    "dex_asset_tkn = \"INTR\"\n",
    "dex_denom_tkn = \"USDT\"\n",
    "one_hop = False\n",
    "try:\n",
    "    kraken_ob = get_kraken_orderbook((cex_asset_tkn, cex_denom_tkn), archive=False)\n",
    "    cex = CentralizedMarket(\n",
    "        order_book={(cex_asset_tkn, cex_denom_tkn): kraken_ob},\n",
    "        asset_list=[cex_asset_tkn, cex_denom_tkn],\n",
    "        trade_fee=0.001\n",
    "    )\n",
    "    one_hop = True\n",
    "except:  # orderbook doesn't exist? try going through USD\n",
    "    asset_ob = get_kraken_orderbook((cex_asset_tkn, \"USD\"), archive=False)\n",
    "    denom_ob = get_kraken_orderbook((cex_denom_tkn, \"USD\"), archive=False)\n",
    "    cex = CentralizedMarket(\n",
    "        order_book={(cex_asset_tkn, \"USD\"): asset_ob, (cex_denom_tkn, \"USD\"): denom_ob},\n",
    "        asset_list=[cex_asset_tkn, cex_denom_tkn, \"USD\"],\n",
    "        trade_fee=0.001\n",
    "    )\n",
    "    "
   ],
   "metadata": {
    "collapsed": false,
    "ExecuteTime": {
     "start_time": "2024-02-05T17:07:43.996326996Z"
    }
   },
   "id": "de40e2fc88fe157a"
  },
  {
   "cell_type": "code",
   "execution_count": null,
   "outputs": [],
   "source": [
    "if one_hop:\n",
    "    cex_spot = (cex.order_book[(cex_asset_tkn, cex_denom_tkn)].bids[0][0] + cex.order_book[(cex_asset_tkn, cex_denom_tkn)].asks[0][0]) / 2\n",
    "else:\n",
    "    cex_asset_spot = (cex.order_book[(cex_asset_tkn, \"USD\")].bids[0][0] + cex.order_book[(cex_asset_tkn, \"USD\")].asks[0][0]) / 2\n",
    "    cex_denom_spot = (cex.order_book[(cex_denom_tkn, \"USD\")].bids[0][0] + cex.order_book[(cex_denom_tkn, \"USD\")].asks[0][0]) / 2\n",
    "    cex_spot = cex_asset_spot / cex_denom_spot\n",
    "\n",
    "\n",
    "# dex_denom_data = tokens[dex_denom_tkn]\n",
    "# dex_denom_scale = mpf(1)\n",
    "# overall_scale = mpf(1)\n",
    "# dex_denom_lrna = dex_denom_data['LRNA'] * dex_denom_scale * overall_scale\n",
    "# dot_liquidity = tokens[dex_asset_tkn]['liquidity'] * overall_scale\n",
    "# dot_lrna = tokens[dex_asset_tkn]['LRNA'] * overall_scale\n",
    "# dex_denom_liquidity = cex_spot * dex_denom_lrna * dot_liquidity / dot_lrna\n",
    "# dex_denom_data_up = {'LRNA': dex_denom_lrna, 'liquidity': dex_denom_liquidity}\n",
    "# hdx_data = {'LRNA': tokens['HDX']['LRNA'] * overall_scale, 'liquidity': tokens['HDX']['liquidity'] * overall_scale}\n",
    "# dot_data = {'LRNA': dot_lrna, 'liquidity': dot_liquidity}\n",
    "\n",
    "# op_state = OmnipoolState(\n",
    "#     # tokens={dex_denom_tkn: dex_denom_data_up, dex_asset_tkn: dot_data, \"HDX\": hdx_data,\n",
    "#     #         \"USD\": {\"LRNA\": mpf(10000), \"liquidity\": mpf(10000)}},\n",
    "#     tokens=tokens,\n",
    "#     preferred_stablecoin=\"USDT\",\n",
    "#     lrna_fee=0.0000,\n",
    "#     asset_fee=0.0000\n",
    "# )\n",
    "op_state = omnipool\n",
    "\n",
    "# protocol_agent = Agent(holdings={\"DOT\": mpf(500000)})\n",
    "# op_state.add_liquidity(protocol_agent, 500000, \"DOT\")\n",
    "\n",
    "protocol_agent = Agent(holdings={\"GLMR\": mpf(600000)})\n",
    "op_state.add_liquidity(protocol_agent, 600000, \"GLMR\")\n",
    "\n",
    "\n",
    "# op_state.asset_fee = 0\n",
    "# op_state.lrna_fee = 0\n",
    "\n",
    "    \n",
    "# pprint(tokens)\n",
    "print(op_state.liquidity)"
   ],
   "metadata": {
    "collapsed": false,
    "ExecuteTime": {
     "end_time": "2024-02-05T17:07:43.999867484Z",
     "start_time": "2024-02-05T17:07:43.998803416Z"
    }
   },
   "id": "a9a6349276b30b04"
  },
  {
   "cell_type": "code",
   "execution_count": null,
   "outputs": [],
   "source": [
    "op_spot = op_state.price(op_state, dex_asset_tkn, dex_denom_tkn)\n",
    "pprint(op_spot)\n",
    "pprint(cex_spot)\n",
    "# pprint((cex.order_book[(cex_asset_tkn, cex_denom_tkn)].bids[0][0],cex.order_book[(cex_asset_tkn, cex_denom_tkn)].asks[0][0]))\n",
    "# pprint((cex.order_book[(cex_asset_tkn, cex_denom_tkn)].asks[0][0] - cex.order_book[(cex_asset_tkn, cex_denom_tkn)].bids[0][0])/cex.order_book[(cex_asset_tkn, cex_denom_tkn)].bids[0][0])"
   ],
   "metadata": {
    "collapsed": false,
    "ExecuteTime": {
     "end_time": "2024-02-05T17:07:44.022683718Z",
     "start_time": "2024-02-05T17:07:44.001386714Z"
    }
   },
   "id": "6ec44c5cafc0d74b"
  },
  {
   "cell_type": "code",
   "execution_count": null,
   "outputs": [],
   "source": [
    "holdings = {}\n",
    "for tkn in [cex_asset_tkn, cex_denom_tkn, dex_asset_tkn, dex_denom_tkn, \"USD\"]:\n",
    "    if tkn not in holdings:\n",
    "        holdings[tkn] = mpf(10000000)\n",
    "agent = Agent(holdings=holdings)\n",
    "\n",
    "asset_spot = omnipool.price(omnipool, dex_denom_tkn, \"USDT10\")\n",
    "dollar_step_size = 2\n",
    "trade_size_list = [dollar_step_size/asset_spot*i for i in range(1, 1500)]\n",
    "dot_out_cex = []\n",
    "dot_out_dex = []\n",
    "for trade_size in trade_size_list:\n",
    "    temp_op_state = op_state.copy()\n",
    "    temp_cex_state = cex.copy()\n",
    "    temp_agent1 = agent.copy()\n",
    "    temp_agent2 = agent.copy()\n",
    "    temp_op_state.swap(temp_agent1, tkn_buy=dex_asset_tkn, tkn_sell=dex_denom_tkn, sell_quantity=trade_size)\n",
    "    if one_hop:\n",
    "        temp_cex_state.swap(temp_agent2, tkn_buy=cex_asset_tkn, tkn_sell=cex_denom_tkn, sell_quantity=trade_size)\n",
    "    else:\n",
    "        temp_cex_state.swap(temp_agent2, tkn_buy=\"USD\", tkn_sell=cex_denom_tkn, sell_quantity=trade_size)\n",
    "        sell_amt_usd = temp_agent2.holdings[\"USD\"] - agent.holdings[\"USD\"]\n",
    "        temp_cex_state.swap(temp_agent2, tkn_buy=cex_asset_tkn, tkn_sell=\"USD\", sell_quantity=sell_amt_usd)\n",
    "    dot_out_dex.append(temp_agent1.holdings[dex_asset_tkn] - agent.holdings[dex_asset_tkn])\n",
    "    dot_out_cex.append(temp_agent2.holdings[cex_asset_tkn] - agent.holdings[cex_asset_tkn])\n",
    "    # pprint(trade_size)\n",
    "    # pprint(temp_op_state.price(temp_op_state, \"DOT\", \"USDT\"))\n",
    "    \n",
    "pprint(\"DEX\")\n",
    "plt.plot(trade_size_list, dot_out_dex, label=\"DEX\")\n",
    "# pprint(dot_out_dex)\n",
    "\n",
    "pprint(\"CEX\")\n",
    "# pprint(dot_out_cex)\n",
    "plt.plot(trade_size_list, dot_out_cex, label=\"CEX\")\n",
    "plt.legend()\n",
    "plt.show()\n",
    "\n",
    "diffs = [dot_out_dex[i] - dot_out_cex[i] for i in range(len(dot_out_dex))]\n",
    "plt.plot(trade_size_list, diffs, label=\"DEX - CEX\")\n",
    "plt.show()\n",
    "\n",
    "print(cex.order_book)"
   ],
   "metadata": {
    "collapsed": false,
    "ExecuteTime": {
     "start_time": "2024-02-05T17:07:44.040948017Z"
    }
   },
   "id": "fe94206ea0bd98b6"
  },
  {
   "cell_type": "code",
   "execution_count": null,
   "outputs": [],
   "source": [
    "print(dot_out_cex[-1])"
   ],
   "metadata": {
    "collapsed": false,
    "ExecuteTime": {
     "start_time": "2024-02-05T17:07:44.041324265Z"
    }
   },
   "id": "e7cb0770715b0a42"
  },
  {
   "cell_type": "code",
   "execution_count": null,
   "outputs": [],
   "source": [
    "print(dot_out_dex[-1])"
   ],
   "metadata": {
    "collapsed": false,
    "ExecuteTime": {
     "start_time": "2024-02-05T17:07:44.041580654Z"
    }
   },
   "id": "b2622529def29c27"
  },
  {
   "cell_type": "code",
   "execution_count": null,
   "outputs": [],
   "source": [],
   "metadata": {
    "collapsed": false,
    "ExecuteTime": {
     "start_time": "2024-02-05T17:07:44.041794150Z"
    }
   },
   "id": "7fe45be545dd47a8"
  }
 ],
 "metadata": {
  "kernelspec": {
   "display_name": "Python 3",
   "language": "python",
   "name": "python3"
  },
  "language_info": {
   "codemirror_mode": {
    "name": "ipython",
    "version": 2
   },
   "file_extension": ".py",
   "mimetype": "text/x-python",
   "name": "python",
   "nbconvert_exporter": "python",
   "pygments_lexer": "ipython2",
   "version": "2.7.6"
  }
 },
 "nbformat": 4,
 "nbformat_minor": 5
}
