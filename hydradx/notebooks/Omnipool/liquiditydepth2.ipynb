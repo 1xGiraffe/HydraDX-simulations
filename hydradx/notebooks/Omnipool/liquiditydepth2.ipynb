{
 "cells": [
  {
   "cell_type": "code",
   "execution_count": 1,
   "id": "initial_id",
   "metadata": {
    "collapsed": true,
    "ExecuteTime": {
     "end_time": "2024-02-07T22:40:20.889987539Z",
     "start_time": "2024-02-07T22:40:20.082041836Z"
    }
   },
   "outputs": [],
   "source": [
    "import copy\n",
    "\n",
    "from hydradx.model.processing import get_omnipool_data, get_binance_orderbook, get_kraken_orderbook, get_omnipool, load_omnipool, save_omnipool\n",
    "from hydradx.model.amm.omnipool_amm import OmnipoolState\n",
    "from hydradx.model.amm.centralized_market import CentralizedMarket\n",
    "from hydradx.model.amm.agents import Agent\n",
    "\n",
    "import matplotlib.pyplot as plt\n",
    "\n",
    "from pprint import pprint\n",
    "from mpmath import mpf, mp\n",
    "mp.dps = 50\n",
    "\n",
    "from hydradxapi import HydraDX\n"
   ]
  },
  {
   "cell_type": "code",
   "execution_count": 2,
   "outputs": [],
   "source": [
    "\n",
    "RPC=\"wss://rpc.hydradx.cloud\"\n",
    "            \n",
    "# asset_list, asset_map, tokens, fees = get_omnipool_data(RPC, archive=False)\n",
    "\n"
   ],
   "metadata": {
    "collapsed": false,
    "ExecuteTime": {
     "end_time": "2024-02-07T22:40:20.890563755Z",
     "start_time": "2024-02-07T22:40:20.889874821Z"
    }
   },
   "id": "c6164b8fd95ca03b"
  },
  {
   "cell_type": "code",
   "outputs": [],
   "source": [
    "# pprint(asset_list)"
   ],
   "metadata": {
    "collapsed": false,
    "ExecuteTime": {
     "end_time": "2024-02-07T22:40:20.891323342Z",
     "start_time": "2024-02-07T22:40:20.890010056Z"
    }
   },
   "id": "e387ec45e7c27216",
   "execution_count": 3
  },
  {
   "cell_type": "code",
   "outputs": [],
   "source": [
    "get_live_markets = True\n",
    "\n",
    "if get_live_markets:\n",
    "    init_omnipool = get_omnipool()\n",
    "else:\n",
    "    init_omnipool = load_omnipool()\n",
    "omnipool = copy.deepcopy(init_omnipool)"
   ],
   "metadata": {
    "collapsed": false,
    "ExecuteTime": {
     "end_time": "2024-02-07T22:40:47.036335235Z",
     "start_time": "2024-02-07T22:40:20.890081915Z"
    }
   },
   "id": "1dc196947eeb66c",
   "execution_count": 4
  },
  {
   "cell_type": "code",
   "outputs": [],
   "source": [
    "# save = True\n",
    "# if save:\n",
    "#     save_omnipool(omnipool)"
   ],
   "metadata": {
    "collapsed": false,
    "ExecuteTime": {
     "end_time": "2024-02-07T22:40:47.053955424Z",
     "start_time": "2024-02-07T22:40:47.048049236Z"
    }
   },
   "id": "80ec5315aa926742",
   "execution_count": 5
  },
  {
   "cell_type": "code",
   "outputs": [
    {
     "name": "stdout",
     "output_type": "stream",
     "text": [
      "Omnipool: omnipool\n",
      "********************************\n",
      "tvl cap: inf\n",
      "LRNA imbalance: 0.0\n",
      "lrna fee:\n",
      "\n",
      "    4-Pool: 0.05%\n",
      "    HDX: 0.05%\n",
      "    WETH: 0.05%\n",
      "    2-Pool101: 0.05%\n",
      "    GLMR: 0.0574%\n",
      "    BNC: 0.05%\n",
      "    vDOT: 0.05%\n",
      "    CFG: 0.05%\n",
      "    2-Pool102: 0.05%\n",
      "    DOT: 0.05070000000000001%\n",
      "    PHA: 0.0504%\n",
      "    ZTG: 0.05%\n",
      "    INTR: 0.05%\n",
      "    ASTR: 0.05%\n",
      "\n",
      "asset fee:\n",
      "\n",
      "    4-Pool: 0.25%\n",
      "    HDX: 0.25%\n",
      "    WETH: 0.25%\n",
      "    2-Pool101: 0.25%\n",
      "    GLMR: 0.25%\n",
      "    BNC: 0.25%\n",
      "    vDOT: 0.25%\n",
      "    CFG: 0.25%\n",
      "    2-Pool102: 0.25%\n",
      "    DOT: 0.25%\n",
      "    PHA: 0.25%\n",
      "    ZTG: 0.25%\n",
      "    INTR: 0.25%\n",
      "    ASTR: 0.25%\n",
      "\n",
      "asset pools: (\n",
      "\n",
      "    *4-Pool*\n",
      "    asset quantity: 1580094.455026511\n",
      "    lrna quantity: 39762.8766400311\n",
      "    USD price: 1.00979074409\n",
      "    tvl: $1595564.7554733574\n",
      "    weight: 39762.8766400311/574822.1924940231 (0.06917421971394144)\n",
      "    weight cap: 1\n",
      "    total shares: 1580094.455026511\n",
      "    protocol shares: 1580094.455026511\n",
      "\n",
      "    *HDX*\n",
      "    asset quantity: 47695931.94990654\n",
      "    lrna quantity: 45191.09193198113\n",
      "    USD price: 0.038019651775\n",
      "    tvl: $1813382.7238101226\n",
      "    weight: 45191.09193198113/574822.1924940231 (0.07861751428890947)\n",
      "    weight cap: 1\n",
      "    total shares: 47695931.94990654\n",
      "    protocol shares: 47695931.94990654\n",
      "\n",
      "    *WETH*\n",
      "    asset quantity: 1097.589689269097\n",
      "    lrna quantity: 66476.55722014674\n",
      "    USD price: 2430.329394377201\n",
      "    tvl: $2667504.484796026\n",
      "    weight: 66476.55722014674/574822.1924940231 (0.11564716548559136)\n",
      "    weight cap: 1\n",
      "    total shares: 1097.5896892690973\n",
      "    protocol shares: 1097.5896892690973\n",
      "\n",
      "    *2-Pool101*\n",
      "    asset quantity: 54.498788788357\n",
      "    lrna quantity: 59681.42972348411\n",
      "    USD price: 43942.92956565074\n",
      "    tvl: $2394836.437140047\n",
      "    weight: 59681.42972348411/574822.1924940231 (0.10382589695178594)\n",
      "    weight cap: 1\n",
      "    total shares: 54.49878878835698\n",
      "    protocol shares: 54.49878878835698\n",
      "\n",
      "    *GLMR*\n",
      "    asset quantity: 697767.8952627216\n",
      "    lrna quantity: 6625.485846123149\n",
      "    USD price: 0.381016151336\n",
      "    tvl: $265860.8379786831\n",
      "    weight: 6625.485846123149/574822.1924940231 (0.011526148316189165)\n",
      "    weight cap: 1\n",
      "    total shares: 697767.8952627216\n",
      "    protocol shares: 697767.8952627216\n",
      "\n",
      "    *BNC*\n",
      "    asset quantity: 558768.0907040257\n",
      "    lrna quantity: 10538.434659011846\n",
      "    USD price: 0.756800044229\n",
      "    tvl: $422875.7157587037\n",
      "    weight: 10538.434659011846/574822.1924940231 (0.018333381690237058)\n",
      "    weight cap: 1\n",
      "    total shares: 558768.0907040257\n",
      "    protocol shares: 558768.0907040257\n",
      "\n",
      "    *vDOT*\n",
      "    asset quantity: 244679.8063051653\n",
      "    lrna quantity: 53186.46466464216\n",
      "    USD price: 8.722473008211\n",
      "    tvl: $2134213.0061509996\n",
      "    weight: 53186.46466464216/574822.1924940231 (0.09252681152388734)\n",
      "    weight cap: 1\n",
      "    total shares: 244679.8063051653\n",
      "    protocol shares: 244679.8063051653\n",
      "\n",
      "    *CFG*\n",
      "    asset quantity: 1010792.6849990106\n",
      "    lrna quantity: 13203.11077439797\n",
      "    USD price: 0.524144237493\n",
      "    tvl: $529801.1611421349\n",
      "    weight: 13203.11077439797/574822.1924940231 (0.022969034506327368)\n",
      "    weight cap: 1\n",
      "    total shares: 1010792.6849990106\n",
      "    protocol shares: 1010792.6849990106\n",
      "\n",
      "    *2-Pool102*\n",
      "    asset quantity: 4498527.352522399\n",
      "    lrna quantity: 112146.03865857255\n",
      "    USD price: 1.000345933088\n",
      "    tvl: $4500083.541979649\n",
      "    weight: 112146.03865857255/574822.1924940231 (0.19509691887850802)\n",
      "    weight cap: 1\n",
      "    total shares: 4498527.352522399\n",
      "    protocol shares: 4498527.352522399\n",
      "\n",
      "    *DOT*\n",
      "    asset quantity: 691433.7759268528\n",
      "    lrna quantity: 119332.21885219052\n",
      "    USD price: 6.925382482025\n",
      "    tvl: $4788443.359284068\n",
      "    weight: 119332.21885219052/574822.1924940231 (0.20759848942928785)\n",
      "    weight cap: 1\n",
      "    total shares: 691433.7759268528\n",
      "    protocol shares: 691433.7759268528\n",
      "\n",
      "    *PHA*\n",
      "    asset quantity: 1162256.6083991965\n",
      "    lrna quantity: 3014.795658788861\n",
      "    USD price: 0.104086042365\n",
      "    tvl: $120974.69058048076\n",
      "    weight: 3014.795658788861/574822.1924940231 (0.005244744719594675)\n",
      "    weight cap: 1\n",
      "    total shares: 1162256.6083991965\n",
      "    protocol shares: 1162256.6083991965\n",
      "\n",
      "    *ZTG*\n",
      "    asset quantity: 1964752.318242498\n",
      "    lrna quantity: 7497.365555993278\n",
      "    USD price: 0.153121972687\n",
      "    tvl: $300846.75081076904\n",
      "    weight: 7497.365555993278/574822.1924940231 (0.013042929890135085)\n",
      "    weight cap: 1\n",
      "    total shares: 1964752.318242498\n",
      "    protocol shares: 1964752.318242498\n",
      "\n",
      "    *INTR*\n",
      "    asset quantity: 14723456.411642117\n",
      "    lrna quantity: 25816.80300487989\n",
      "    USD price: 0.070360566046\n",
      "    tvl: $1035950.7272699374\n",
      "    weight: 25816.80300487989/574822.1924940231 (0.04491267620142959)\n",
      "    weight cap: 1\n",
      "    total shares: 14723456.411642117\n",
      "    protocol shares: 14723456.411642117\n",
      "\n",
      "    *ASTR*\n",
      "    asset quantity: 2735333.139503274\n",
      "    lrna quantity: 12349.519303779936\n",
      "    USD price: 0.181165903794\n",
      "    tvl: $495549.10039661883\n",
      "    weight: 12349.519303779936/574822.1924940231 (0.02148406840417586)\n",
      "    weight cap: 1\n",
      "    total shares: 2735333.139503274\n",
      "    protocol shares: 2735333.139503274\n",
      "\n",
      ")\n",
      "sub pools: (\n",
      "\n",
      "    Stable Swap Pool: 4-Pool\n",
      "    ********************************\n",
      "    trade fee: 0.0004\n",
      "    shares: 1652728.701426415\n",
      "    amplification constant: 320.0\n",
      "    tokens: (\n",
      "    \n",
      "        USDT10\n",
      "        quantity: 514597.671293\n",
      "        weight: 0.31135218339970383\n",
      "    \n",
      "        DAI\n",
      "        quantity: 357051.690266024\n",
      "        weight: 0.2160305604795176\n",
      "    \n",
      "        USDC21\n",
      "        quantity: 371914.238253\n",
      "        weight: 0.22502299675502704\n",
      "    \n",
      "        USDT23\n",
      "        quantity: 409219.642862\n",
      "        weight: 0.2475942593657514\n",
      "    \n",
      "    )\n",
      "    error message:none)\n",
      "(\n",
      "Stable Swap Pool: 2-Pool101\n",
      "    ********************************\n",
      "    trade fee: 0.0004\n",
      "    shares: 54.5194506024\n",
      "    amplification constant: 5.0\n",
      "    tokens: (\n",
      "    \n",
      "        iBTC\n",
      "        quantity: 27.51612855\n",
      "        weight: 0.5046992529479897\n",
      "    \n",
      "        WBTC\n",
      "        quantity: 27.0037234\n",
      "        weight: 0.4953007470520102\n",
      "    \n",
      "    )\n",
      "    error message:none)\n",
      "(\n",
      "Stable Swap Pool: 2-Pool102\n",
      "    ********************************\n",
      "    trade fee: 0.0004\n",
      "    shares: 4518881.1199297095\n",
      "    amplification constant: 100.0\n",
      "    tokens: (\n",
      "    \n",
      "        USDT10\n",
      "        quantity: 2339598.595029\n",
      "        weight: 0.5177352408005874\n",
      "    \n",
      "        USDC22\n",
      "        quantity: 2179310.705816\n",
      "        weight: 0.4822647591994126\n",
      "    \n",
      "    )\n",
      "    error message:none\n",
      ")\n",
      "oracles: (\n",
      "    name: price\n",
      "    length: 19\n",
      "\n",
      ")\n",
      "\n",
      "error message: None\n"
     ]
    }
   ],
   "source": [
    "pprint(omnipool)\n",
    "for tkn in omnipool.sub_pools[\"2-Pool102\"].asset_list:\n",
    "    omnipool.sub_pools[\"2-Pool102\"].liquidity[tkn] *= 10\n",
    "omnipool.lrna[\"2-Pool102\"] *= 10"
   ],
   "metadata": {
    "collapsed": false,
    "ExecuteTime": {
     "end_time": "2024-02-07T22:40:47.084658848Z",
     "start_time": "2024-02-07T22:40:47.056380047Z"
    }
   },
   "id": "2dc3324520a36a3c",
   "execution_count": 6
  },
  {
   "cell_type": "code",
   "execution_count": 7,
   "outputs": [],
   "source": [
    "cex_asset_tkn = \"DOT\"\n",
    "cex_denom_tkn = \"USD\"\n",
    "dex_asset_tkn = \"DOT\"\n",
    "dex_denom_tkn = \"USDT10\"\n",
    "one_hop = False\n",
    "cex_fee_list = [0.0, 0.001, 0.0016, 0.002, 0.0026]\n",
    "cex_dict = {}\n",
    "for cex_fee in cex_fee_list:\n",
    "    try:\n",
    "        kraken_ob = get_kraken_orderbook((cex_asset_tkn, cex_denom_tkn), archive=False)\n",
    "        cex = CentralizedMarket(\n",
    "            order_book={(cex_asset_tkn, cex_denom_tkn): kraken_ob},\n",
    "            asset_list=[cex_asset_tkn, cex_denom_tkn],\n",
    "            trade_fee=cex_fee\n",
    "        )\n",
    "        one_hop = True\n",
    "    except:  # orderbook doesn't exist? try going through USD\n",
    "        asset_ob = get_kraken_orderbook((cex_asset_tkn, \"USD\"), archive=False)\n",
    "        denom_ob = get_kraken_orderbook((cex_denom_tkn, \"USD\"), archive=False)\n",
    "        cex = CentralizedMarket(\n",
    "            order_book={(cex_asset_tkn, \"USD\"): asset_ob, (cex_denom_tkn, \"USD\"): denom_ob},\n",
    "            asset_list=[cex_asset_tkn, cex_denom_tkn, \"USD\"],\n",
    "            trade_fee=cex_fee\n",
    "        )\n",
    "    cex_dict = {cex_fee: cex}\n",
    "cex = cex_dict[0.0026]"
   ],
   "metadata": {
    "collapsed": false,
    "ExecuteTime": {
     "end_time": "2024-02-07T22:40:48.039837628Z",
     "start_time": "2024-02-07T22:40:47.208204580Z"
    }
   },
   "id": "de40e2fc88fe157a"
  },
  {
   "cell_type": "code",
   "execution_count": 8,
   "outputs": [
    {
     "name": "stdout",
     "output_type": "stream",
     "text": [
      "{'4-Pool': 1580094.455026511, 'HDX': 47695931.94990654, 'WETH': 1097.5896892690973, '2-Pool101': 54.49878878835698, 'GLMR': 697767.8952627216, 'BNC': 558768.0907040257, 'vDOT': 244679.8063051653, 'CFG': 1010792.6849990106, '2-Pool102': 4498527.352522399, 'DOT': 1191433.7759268528, 'PHA': 1162256.6083991965, 'ZTG': 1964752.318242498, 'INTR': 14723456.411642117, 'ASTR': 2735333.139503274}\n",
      "{'USDT10': 23395985.950290002, 'USDC22': 21793107.05816}\n",
      "10.003459330877197\n",
      "0.24929500227600127\n",
      "0.17258662073924305\n",
      "6.925382482024772\n",
      "6.925382482024772\n"
     ]
    }
   ],
   "source": [
    "from hydradx.model.amm.omnipool_amm import lrna_price\n",
    "\n",
    "if one_hop:\n",
    "    cex_spot = (cex.order_book[(cex_asset_tkn, cex_denom_tkn)].bids[0][0] + cex.order_book[(cex_asset_tkn, cex_denom_tkn)].asks[0][0]) / 2\n",
    "else:\n",
    "    cex_asset_spot = (cex.order_book[(cex_asset_tkn, \"USD\")].bids[0][0] + cex.order_book[(cex_asset_tkn, \"USD\")].asks[0][0]) / 2\n",
    "    cex_denom_spot = (cex.order_book[(cex_denom_tkn, \"USD\")].bids[0][0] + cex.order_book[(cex_denom_tkn, \"USD\")].asks[0][0]) / 2\n",
    "    cex_spot = cex_asset_spot / cex_denom_spot\n",
    "\n",
    "\n",
    "# dex_denom_data = tokens[dex_denom_tkn]\n",
    "# dex_denom_scale = mpf(1)\n",
    "# overall_scale = mpf(1)\n",
    "# dex_denom_lrna = dex_denom_data['LRNA'] * dex_denom_scale * overall_scale\n",
    "# dot_liquidity = tokens[dex_asset_tkn]['liquidity'] * overall_scale\n",
    "# dot_lrna = tokens[dex_asset_tkn]['LRNA'] * overall_scale\n",
    "# dex_denom_liquidity = cex_spot * dex_denom_lrna * dot_liquidity / dot_lrna\n",
    "# dex_denom_data_up = {'LRNA': dex_denom_lrna, 'liquidity': dex_denom_liquidity}\n",
    "# hdx_data = {'LRNA': tokens['HDX']['LRNA'] * overall_scale, 'liquidity': tokens['HDX']['liquidity'] * overall_scale}\n",
    "# dot_data = {'LRNA': dot_lrna, 'liquidity': dot_liquidity}\n",
    "\n",
    "# op_state = OmnipoolState(\n",
    "#     # tokens={dex_denom_tkn: dex_denom_data_up, dex_asset_tkn: dot_data, \"HDX\": hdx_data,\n",
    "#     #         \"USD\": {\"LRNA\": mpf(10000), \"liquidity\": mpf(10000)}},\n",
    "#     tokens=tokens,\n",
    "#     preferred_stablecoin=\"USDT\",\n",
    "#     lrna_fee=0.0000,\n",
    "#     asset_fee=0.0000\n",
    "# )\n",
    "op_state = omnipool.copy()\n",
    "\n",
    "protocol_agent = Agent(holdings={\"DOT\": mpf(500000)})\n",
    "op_state.add_liquidity(protocol_agent, 500000, \"DOT\")\n",
    "\n",
    "# protocol_agent = Agent(holdings={\"DOT\": mpf(500000)})\n",
    "# op_state.add_liquidity(protocol_agent, 500000, \"DOT\")\n",
    "\n",
    "\n",
    "op_state.asset_fee = 0.0025\n",
    "op_state.lrna_fee = 0.0005\n",
    "\n",
    "op_state.asset_fee = 0.00\n",
    "op_state.lrna_fee = 0.00\n",
    "\n",
    "    \n",
    "# pprint(tokens)\n",
    "print(op_state.liquidity)    \n",
    "print(op_state.sub_pools[\"2-Pool102\"].liquidity)\n",
    "print(op_state.sub_pools[\"2-Pool102\"].share_price(\"USDT10\"))\n",
    "print(lrna_price(op_state, \"2-Pool102\"))\n",
    "print(lrna_price(op_state, \"DOT\"))\n",
    "print(op_state.sub_pools[\"2-Pool102\"].share_price(\"USDT10\") / lrna_price(op_state, \"2-Pool102\") * lrna_price(op_state, \"DOT\"))\n",
    "print(op_state.usd_price(op_state, \"DOT\"))\n",
    "    "
   ],
   "metadata": {
    "collapsed": false,
    "ExecuteTime": {
     "end_time": "2024-02-07T22:40:48.054805435Z",
     "start_time": "2024-02-07T22:40:48.050232721Z"
    }
   },
   "id": "a9a6349276b30b04"
  },
  {
   "cell_type": "code",
   "execution_count": 9,
   "outputs": [
    {
     "name": "stdout",
     "output_type": "stream",
     "text": [
      "6.925382482024772\n",
      "6.93395\n"
     ]
    }
   ],
   "source": [
    "op_spot = op_state.price(op_state, dex_asset_tkn, dex_denom_tkn, denom_pool_id=\"2-Pool102\")\n",
    "pprint(op_spot)\n",
    "pprint(cex_spot)\n",
    "# pprint((cex.order_book[(cex_asset_tkn, cex_denom_tkn)].bids[0][0],cex.order_book[(cex_asset_tkn, cex_denom_tkn)].asks[0][0]))\n",
    "# pprint((cex.order_book[(cex_asset_tkn, cex_denom_tkn)].asks[0][0] - cex.order_book[(cex_asset_tkn, cex_denom_tkn)].bids[0][0])/cex.order_book[(cex_asset_tkn, cex_denom_tkn)].bids[0][0])"
   ],
   "metadata": {
    "collapsed": false,
    "ExecuteTime": {
     "end_time": "2024-02-07T22:40:48.094064019Z",
     "start_time": "2024-02-07T22:40:48.053540293Z"
    }
   },
   "id": "6ec44c5cafc0d74b"
  },
  {
   "cell_type": "code",
   "execution_count": 10,
   "outputs": [
    {
     "data": {
      "text/plain": "<Figure size 432x288 with 1 Axes>",
      "image/png": "[encoded data removed]"
     },
     "metadata": {
      "needs_background": "light"
     },
     "output_type": "display_data"
    },
    {
     "data": {
      "text/plain": "<Figure size 432x288 with 1 Axes>",
      "image/png": "[encoded data removed]"
     },
     "metadata": {
      "needs_background": "light"
     },
     "output_type": "display_data"
    },
    {
     "data": {
      "text/plain": "<Figure size 432x288 with 1 Axes>",
      "image/png": "[encoded data removed]"
     },
     "metadata": {
      "needs_background": "light"
     },
     "output_type": "display_data"
    },
    {
     "data": {
      "text/plain": "<Figure size 432x288 with 1 Axes>",
      "image/png": "[encoded data removed]"
     },
     "metadata": {
      "needs_background": "light"
     },
     "output_type": "display_data"
    },
    {
     "data": {
      "text/plain": "<Figure size 432x288 with 1 Axes>",
      "image/png": "[encoded data removed]"
     },
     "metadata": {
      "needs_background": "light"
     },
     "output_type": "display_data"
    },
    {
     "data": {
      "text/plain": "<Figure size 432x288 with 1 Axes>",
      "image/png": "[encoded data removed]"
     },
     "metadata": {
      "needs_background": "light"
     },
     "output_type": "display_data"
    },
    {
     "data": {
      "text/plain": "<Figure size 432x288 with 1 Axes>",
      "image/png": "[encoded data removed]"
     },
     "metadata": {
      "needs_background": "light"
     },
     "output_type": "display_data"
    }
   ],
   "source": [
    "asset_spot = omnipool.price(omnipool, dex_denom_tkn, \"USDT10\", denom_pool_id=\"2-Pool102\")\n",
    "asset_spot = 1\n",
    "init_price = omnipool.price(omnipool, dex_asset_tkn, dex_denom_tkn, denom_pool_id=\"2-Pool102\")\n",
    "dollar_step_size = 20\n",
    "iters = 1500\n",
    "max_amt = dollar_step_size * iters\n",
    "\n",
    "holdings = {\n",
    "    cex_denom_tkn: mpf(max_amt * 2),\n",
    "    dex_denom_tkn: mpf(max_amt * 2),\n",
    "    cex_asset_tkn: mpf(max_amt * 2 / init_price),\n",
    "    dex_asset_tkn: mpf(max_amt * 2 / init_price),\n",
    "    \"USD\": mpf(max_amt * 2 * asset_spot)\n",
    "}\n",
    "for tkn in [cex_asset_tkn, cex_denom_tkn, dex_asset_tkn, dex_denom_tkn, \"USD\"]:\n",
    "    if tkn not in holdings:\n",
    "        holdings[tkn] = mpf(10000000)\n",
    "agent = Agent(holdings=holdings)\n",
    "\n",
    "trade_size_list = [dollar_step_size/asset_spot*i for i in range(1, iters)]\n",
    "dot_out_cex = []\n",
    "dot_out_dex = []\n",
    "dot_in_cex = []\n",
    "dot_in_dex = []\n",
    "slip_up_dex = []\n",
    "slip_up_cex = []\n",
    "slip_down_dex = []\n",
    "slip_down_cex = []\n",
    "slip_avg_dex = []\n",
    "slip_avg_cex = []\n",
    "for trade_size in trade_size_list:\n",
    "    temp_op_state = op_state.copy()\n",
    "    temp_agent1 = agent.copy()\n",
    "    temp_op_state.swap(temp_agent1, tkn_buy=dex_asset_tkn, tkn_sell=dex_denom_tkn, sell_quantity=trade_size, tkn_sell_subpool_id=\"2-Pool102\")\n",
    "    dot_out_dex.append(temp_agent1.holdings[dex_asset_tkn] - agent.holdings[dex_asset_tkn])\n",
    "    exec_price_dex = trade_size / (temp_agent1.holdings[dex_asset_tkn] - agent.holdings[dex_asset_tkn])\n",
    "    slip_up_dex.append((abs(exec_price_dex) - op_spot) / op_spot) \n",
    "\n",
    "\n",
    "    temp_cex_state = cex.copy()\n",
    "    temp_agent2 = agent.copy()\n",
    "    if one_hop:\n",
    "        temp_cex_state.swap(temp_agent2, tkn_buy=cex_asset_tkn, tkn_sell=cex_denom_tkn, sell_quantity=trade_size)\n",
    "    else:\n",
    "        temp_cex_state.swap(temp_agent2, tkn_buy=\"USD\", tkn_sell=cex_denom_tkn, sell_quantity=trade_size)\n",
    "        sell_amt_usd = temp_agent2.holdings[\"USD\"] - agent.holdings[\"USD\"]\n",
    "        temp_cex_state.swap(temp_agent2, tkn_buy=cex_asset_tkn, tkn_sell=\"USD\", sell_quantity=sell_amt_usd)\n",
    "    dot_out_cex.append(temp_agent2.holdings[cex_asset_tkn] - agent.holdings[cex_asset_tkn])\n",
    "    exec_price_cex = trade_size / (temp_agent2.holdings[cex_asset_tkn] - agent.holdings[cex_asset_tkn])\n",
    "    slip_up_cex.append((abs(exec_price_cex) - cex_spot) / cex_spot)\n",
    "    # pprint((slip_up_dex[-1], slip_up_cex[-1]))\n",
    "\n",
    "    temp_op_state = op_state.copy()\n",
    "    temp_agent1 = agent.copy()\n",
    "    temp_op_state.swap(temp_agent1, tkn_sell=dex_asset_tkn, tkn_buy=dex_denom_tkn, buy_quantity=trade_size, tkn_buy_subpool_id=\"2-Pool102\")\n",
    "    dot_in_dex.append(temp_agent1.holdings[dex_asset_tkn] - agent.holdings[dex_asset_tkn])\n",
    "    exec_price_dex = trade_size / (temp_agent1.holdings[dex_asset_tkn] - agent.holdings[dex_asset_tkn])\n",
    "    slip_down_dex.append((abs(exec_price_dex) - op_spot) / op_spot) \n",
    "    \n",
    "    temp_cex_state = cex.copy()\n",
    "    temp_agent2 = agent.copy()\n",
    "    if one_hop:\n",
    "        temp_cex_state.swap(temp_agent2, tkn_sell=cex_asset_tkn, tkn_buy=cex_denom_tkn, buy_quantity=trade_size)\n",
    "    else:\n",
    "        temp_cex_state.swap(temp_agent2, tkn_sell=\"USD\", tkn_buy=cex_denom_tkn, buy_quantity=trade_size)\n",
    "        sell_amt_usd = temp_agent2.holdings[\"USD\"] - agent.holdings[\"USD\"]\n",
    "        temp_cex_state.swap(temp_agent2, tkn_sell=cex_asset_tkn, tkn_buy=\"USD\", buy_quantity=sell_amt_usd)\n",
    "    dot_in_cex.append(temp_agent2.holdings[cex_asset_tkn] - agent.holdings[cex_asset_tkn])\n",
    "    exec_price_cex = trade_size / (temp_agent2.holdings[cex_asset_tkn] - agent.holdings[cex_asset_tkn])\n",
    "    slip_down_cex.append((abs(exec_price_cex) - cex_spot) / cex_spot)\n",
    "    \n",
    "    slip_avg_dex.append((abs(slip_up_dex[-1]) + abs(slip_down_dex[-1])) / 2)\n",
    "    slip_avg_cex.append((abs(slip_up_cex[-1]) + abs(slip_down_cex[-1])) / 2)\n",
    "    # pprint((slip_up_dex[-1], slip_up_cex[-1]))\n",
    "    \n",
    "plt.plot(trade_size_list, dot_out_dex, label=\"DEX\")\n",
    "plt.plot(trade_size_list, dot_out_cex, label=\"CEX\")\n",
    "plt.legend()\n",
    "plt.title(\"DOT Out\")\n",
    "plt.show()\n",
    "\n",
    "diffs = [dot_out_dex[i] - dot_out_cex[i] for i in range(len(dot_out_dex))]\n",
    "plt.plot(trade_size_list, diffs, label=\"DEX - CEX\")\n",
    "plt.title(\"DOT Out DEX - CEX\")\n",
    "plt.show()\n",
    "\n",
    "plt.plot(trade_size_list, slip_up_dex, label=\"DEX\")\n",
    "plt.plot(trade_size_list, slip_up_cex, label=\"CEX\")\n",
    "plt.legend()\n",
    "plt.title(\"Slippage Up\")\n",
    "plt.show()\n",
    "\n",
    "plt.plot(trade_size_list, dot_in_dex, label=\"DEX\")\n",
    "plt.plot(trade_size_list, dot_in_cex, label=\"CEX\")\n",
    "plt.legend()\n",
    "plt.title(\"DOT In\")\n",
    "plt.show()\n",
    "\n",
    "diffs2 = [dot_in_cex[i] - dot_in_dex[i] for i in range(len(dot_in_dex))]\n",
    "plt.plot(trade_size_list, diffs2, label=\"DEX - CEX\")\n",
    "plt.title(\"DOT In DEX - CEX\")\n",
    "plt.show()\n",
    "\n",
    "plt.plot(trade_size_list, slip_down_dex, label=\"DEX\")\n",
    "plt.plot(trade_size_list, slip_down_cex, label=\"CEX\")\n",
    "plt.legend()\n",
    "plt.title(\"Slippage Down\")\n",
    "plt.show()\n",
    "\n",
    "plt.plot(trade_size_list, slip_avg_dex, label=\"DEX\")\n",
    "plt.plot(trade_size_list, slip_avg_cex, label=\"CEX\")\n",
    "plt.legend()\n",
    "plt.title(\"Slippage Average\")\n",
    "plt.show()\n",
    "\n",
    "# print(cex.order_book)"
   ],
   "metadata": {
    "collapsed": false,
    "ExecuteTime": {
     "end_time": "2024-02-07T22:40:52.420190390Z",
     "start_time": "2024-02-07T22:40:48.093863258Z"
    }
   },
   "id": "fe94206ea0bd98b6"
  },
  {
   "cell_type": "code",
   "execution_count": 11,
   "outputs": [
    {
     "name": "stdout",
     "output_type": "stream",
     "text": [
      "4312.185812638772404170595109462738037109375\n"
     ]
    }
   ],
   "source": [
    "print(dot_out_cex[-1])"
   ],
   "metadata": {
    "collapsed": false,
    "ExecuteTime": {
     "end_time": "2024-02-07T22:40:52.466060568Z",
     "start_time": "2024-02-07T22:40:52.422272142Z"
    }
   },
   "id": "e7cb0770715b0a42"
  },
  {
   "cell_type": "code",
   "execution_count": 12,
   "outputs": [
    {
     "name": "stdout",
     "output_type": "stream",
     "text": [
      "4309.6278034295073666726239025592803955078125\n"
     ]
    }
   ],
   "source": [
    "print(dot_out_dex[-1])"
   ],
   "metadata": {
    "collapsed": false,
    "ExecuteTime": {
     "end_time": "2024-02-07T22:40:52.466512209Z",
     "start_time": "2024-02-07T22:40:52.465874821Z"
    }
   },
   "id": "b2622529def29c27"
  },
  {
   "cell_type": "code",
   "execution_count": 12,
   "outputs": [],
   "source": [],
   "metadata": {
    "collapsed": false,
    "ExecuteTime": {
     "end_time": "2024-02-07T22:40:52.467089407Z",
     "start_time": "2024-02-07T22:40:52.465966729Z"
    }
   },
   "id": "7fe45be545dd47a8"
  }
 ],
 "metadata": {
  "kernelspec": {
   "display_name": "Python 3",
   "language": "python",
   "name": "python3"
  },
  "language_info": {
   "codemirror_mode": {
    "name": "ipython",
    "version": 2
   },
   "file_extension": ".py",
   "mimetype": "text/x-python",
   "name": "python",
   "nbconvert_exporter": "python",
   "pygments_lexer": "ipython2",
   "version": "2.7.6"
  }
 },
 "nbformat": 4,
 "nbformat_minor": 5
}
