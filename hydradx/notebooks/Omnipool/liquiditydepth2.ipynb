{
 "cells": [
  {
   "cell_type": "code",
   "execution_count": 1,
   "id": "initial_id",
   "metadata": {
    "collapsed": true,
    "ExecuteTime": {
     "end_time": "2024-02-07T18:02:07.016076742Z",
     "start_time": "2024-02-07T18:02:06.231337306Z"
    }
   },
   "outputs": [],
   "source": [
    "from hydradx.model.processing import get_omnipool_data, get_binance_orderbook, get_kraken_orderbook, get_omnipool, load_omnipool, save_omnipool\n",
    "from hydradx.model.amm.omnipool_amm import OmnipoolState\n",
    "from hydradx.model.amm.centralized_market import CentralizedMarket\n",
    "from hydradx.model.amm.agents import Agent\n",
    "\n",
    "import matplotlib.pyplot as plt\n",
    "\n",
    "from pprint import pprint\n",
    "from mpmath import mpf, mp\n",
    "mp.dps = 50\n",
    "\n",
    "from hydradxapi import HydraDX\n"
   ]
  },
  {
   "cell_type": "code",
   "execution_count": 2,
   "outputs": [],
   "source": [
    "\n",
    "RPC=\"wss://rpc.hydradx.cloud\"\n",
    "            \n",
    "# asset_list, asset_map, tokens, fees = get_omnipool_data(RPC, archive=False)\n",
    "\n"
   ],
   "metadata": {
    "collapsed": false,
    "ExecuteTime": {
     "end_time": "2024-02-07T18:02:07.020033490Z",
     "start_time": "2024-02-07T18:02:07.017581323Z"
    }
   },
   "id": "c6164b8fd95ca03b"
  },
  {
   "cell_type": "code",
   "outputs": [],
   "source": [
    "# pprint(asset_list)"
   ],
   "metadata": {
    "collapsed": false,
    "ExecuteTime": {
     "end_time": "2024-02-07T18:02:07.032446568Z",
     "start_time": "2024-02-07T18:02:07.020310402Z"
    }
   },
   "id": "e387ec45e7c27216",
   "execution_count": 3
  },
  {
   "cell_type": "code",
   "outputs": [
    {
     "name": "stdout",
     "output_type": "stream",
     "text": [
      "Omnipool: omnipool\n",
      "********************************\n",
      "tvl cap: inf\n",
      "LRNA imbalance: 0.0\n",
      "lrna fee:\n",
      "\n",
      "    4-Pool: 0.05%\n",
      "    HDX: 0.05%\n",
      "    WETH: 0.05%\n",
      "    2-Pool101: 0.05%\n",
      "    GLMR: 0.05%\n",
      "    BNC: 0.05%\n",
      "    vDOT: 0.05%\n",
      "    CFG: 0.05%\n",
      "    2-Pool102: 0.05%\n",
      "    DOT: 0.05%\n",
      "    PHA: 0.05%\n",
      "    ZTG: 0.05%\n",
      "    INTR: 0.05%\n",
      "    ASTR: 0.05%\n",
      "\n",
      "asset fee:\n",
      "\n",
      "    4-Pool: 0.25%\n",
      "    HDX: 0.7667%\n",
      "    WETH: 0.25%\n",
      "    2-Pool101: 0.25%\n",
      "    GLMR: 0.25%\n",
      "    BNC: 0.25%\n",
      "    vDOT: 0.25%\n",
      "    CFG: 0.25%\n",
      "    2-Pool102: 0.25%\n",
      "    DOT: 0.25%\n",
      "    PHA: 0.25%\n",
      "    ZTG: 0.25%\n",
      "    INTR: 0.25%\n",
      "    ASTR: 0.25%\n",
      "\n",
      "asset pools: (\n",
      "\n",
      "    *4-Pool*\n",
      "    asset quantity: 1573705.2928776364\n",
      "    lrna quantity: 39924.24122416011\n",
      "    USD price: 1.000567624438\n",
      "    tvl: $1574598.566459492\n",
      "    weight: 39924.24122416011/574604.8585043465 (0.06948121066723997)\n",
      "    weight cap: 1\n",
      "    total shares: 1573705.2928776364\n",
      "    protocol shares: 1573705.2928776364\n",
      "\n",
      "    *HDX*\n",
      "    asset quantity: 47875923.527265646\n",
      "    lrna quantity: 45021.19409356584\n",
      "    USD price: 0.037087966819\n",
      "    tvl: $1775620.6631955758\n",
      "    weight: 45021.19409356584/574604.8585043465 (0.0783515722626374)\n",
      "    weight cap: 1\n",
      "    total shares: 47875923.527265646\n",
      "    protocol shares: 47875923.527265646\n",
      "\n",
      "    *WETH*\n",
      "    asset quantity: 1097.626989448107\n",
      "    lrna quantity: 66474.29519273152\n",
      "    USD price: 2388.537943765635\n",
      "    tvl: $2621723.7123980457\n",
      "    weight: 66474.29519273152/574604.8585043465 (0.11568697028730168)\n",
      "    weight cap: 1\n",
      "    total shares: 1097.626989448107\n",
      "    protocol shares: 1097.626989448107\n",
      "\n",
      "    *2-Pool101*\n",
      "    asset quantity: 54.494873791815\n",
      "    lrna quantity: 59685.716812272105\n",
      "    USD price: 43196.43874798712\n",
      "    tvl: $2353984.4778274293\n",
      "    weight: 59685.716812272105/574604.8585043465 (0.10387262817030397)\n",
      "    weight cap: 1\n",
      "    total shares: 54.49487379181509\n",
      "    protocol shares: 54.49487379181509\n",
      "\n",
      "    *GLMR*\n",
      "    asset quantity: 692733.57698674\n",
      "    lrna quantity: 6644.885067518109\n",
      "    USD price: 0.378315744508\n",
      "    tvl: $262072.0189234407\n",
      "    weight: 6644.885067518109/574604.8585043465 (0.0115642688521887)\n",
      "    weight cap: 1\n",
      "    total shares: 692733.57698674\n",
      "    protocol shares: 692733.57698674\n",
      "\n",
      "    *BNC*\n",
      "    asset quantity: 566163.1677507104\n",
      "    lrna quantity: 10400.141015510486\n",
      "    USD price: 0.72448733223\n",
      "    tvl: $410178.0430103561\n",
      "    weight: 10400.141015510486/574604.8585043465 (0.01809963988571429)\n",
      "    weight cap: 1\n",
      "    total shares: 566163.1677507104\n",
      "    protocol shares: 566163.1677507104\n",
      "\n",
      "    *vDOT*\n",
      "    asset quantity: 244752.4564469301\n",
      "    lrna quantity: 53099.426406422754\n",
      "    USD price: 8.556495991656\n",
      "    tvl: $2094223.4125360884\n",
      "    weight: 53099.426406422754/574604.8585043465 (0.09241033315422462)\n",
      "    weight cap: 1\n",
      "    total shares: 244752.4564469301\n",
      "    protocol shares: 244752.4564469301\n",
      "\n",
      "    *CFG*\n",
      "    asset quantity: 1018555.447679851\n",
      "    lrna quantity: 13102.58186270316\n",
      "    USD price: 0.507347338718\n",
      "    tvl: $516761.3957167838\n",
      "    weight: 13102.58186270316/574604.8585043465 (0.022802769013837095)\n",
      "    weight cap: 1\n",
      "    total shares: 1018555.447679851\n",
      "    protocol shares: 1018555.447679851\n",
      "\n",
      "    *2-Pool102*\n",
      "    asset quantity: 4476463.490967692\n",
      "    lrna quantity: 112690.97546242618\n",
      "    USD price: 0.992858303186\n",
      "    tvl: $4444493.945915711\n",
      "    weight: 112690.97546242618/574604.8585043465 (0.19611907869305592)\n",
      "    weight cap: 1\n",
      "    total shares: 4476463.490967692\n",
      "    protocol shares: 4476463.490967692\n",
      "\n",
      "    *DOT*\n",
      "    asset quantity: 689083.8915721454\n",
      "    lrna quantity: 119406.65166974704\n",
      "    USD price: 6.834230201925\n",
      "    tvl: $4709357.943442467\n",
      "    weight: 119406.65166974704/574604.8585043465 (0.2078065472341352)\n",
      "    weight cap: 1\n",
      "    total shares: 689083.8915721454\n",
      "    protocol shares: 689083.8915721454\n",
      "\n",
      "    *PHA*\n",
      "    asset quantity: 1160236.0275251633\n",
      "    lrna quantity: 3020.046002945351\n",
      "    USD price: 0.102659794877\n",
      "    tvl: $119109.59259513159\n",
      "    weight: 3020.046002945351/574604.8585043465 (0.005255865762789242)\n",
      "    weight cap: 1\n",
      "    total shares: 1160236.0275251633\n",
      "    protocol shares: 1160236.0275251633\n",
      "\n",
      "    *ZTG*\n",
      "    asset quantity: 1961804.1095551646\n",
      "    lrna quantity: 7508.623294746598\n",
      "    USD price: 0.150951647485\n",
      "    tvl: $296137.56237996137\n",
      "    weight: 7508.623294746598/574604.8585043465 (0.0130674552844732)\n",
      "    weight cap: 1\n",
      "    total shares: 1961804.1095551646\n",
      "    protocol shares: 1961804.1095551646\n",
      "\n",
      "    *INTR*\n",
      "    asset quantity: 15017270.547587436\n",
      "    lrna quantity: 25310.87862314926\n",
      "    USD price: 0.066473630238\n",
      "    tvl: $998252.4895607317\n",
      "    weight: 25310.87862314926/574604.8585043465 (0.04404919006259638)\n",
      "    weight cap: 1\n",
      "    total shares: 15017270.547587436\n",
      "    protocol shares: 15017270.547587436\n",
      "\n",
      "    *ASTR*\n",
      "    asset quantity: 2742898.438438591\n",
      "    lrna quantity: 12315.201776447915\n",
      "    USD price: 0.177078153788\n",
      "    tvl: $485707.39150627947\n",
      "    weight: 12315.201776447915/574604.8585043465 (0.021432470669502282)\n",
      "    weight cap: 1\n",
      "    total shares: 2742898.438438591\n",
      "    protocol shares: 2742898.438438591\n",
      "\n",
      ")\n",
      "sub pools: (\n",
      "\n",
      "    Stable Swap Pool: 4-Pool\n",
      "    ********************************\n",
      "    trade fee: 0.0004\n",
      "    shares: 1646281.423823739\n",
      "    amplification constant: 320.0\n",
      "    tokens: (\n",
      "    \n",
      "        USDT10\n",
      "        quantity: 495452.542452\n",
      "        weight: 0.30094533023189474\n",
      "    \n",
      "        DAI\n",
      "        quantity: 357051.690266024\n",
      "        weight: 0.21687856985288342\n",
      "    \n",
      "        USDC21\n",
      "        quantity: 384596.876665\n",
      "        weight: 0.2336099305925289\n",
      "    \n",
      "        USDT23\n",
      "        quantity: 409219.642862\n",
      "        weight: 0.24856616932269304\n",
      "    \n",
      "    )\n",
      "    error message:none)\n",
      "(\n",
      "Stable Swap Pool: 2-Pool101\n",
      "    ********************************\n",
      "    trade fee: 0.0004\n",
      "    shares: 54.5155346549\n",
      "    amplification constant: 5.0\n",
      "    tokens: (\n",
      "    \n",
      "        iBTC\n",
      "        quantity: 27.51220651\n",
      "        weight: 0.5046636195222154\n",
      "    \n",
      "        WBTC\n",
      "        quantity: 27.0037234\n",
      "        weight: 0.49533638047778467\n",
      "    \n",
      "    )\n",
      "    error message:none)\n",
      "(\n",
      "Stable Swap Pool: 2-Pool102\n",
      "    ********************************\n",
      "    trade fee: 0.0004\n",
      "    shares: 4496358.304156072\n",
      "    amplification constant: 100.0\n",
      "    tokens: (\n",
      "    \n",
      "        USDT10\n",
      "        quantity: 2392543.918605\n",
      "        weight: 0.5320961435233088\n",
      "    \n",
      "        USDC22\n",
      "        quantity: 2103906.48369\n",
      "        weight: 0.4679038564766912\n",
      "    \n",
      "    )\n",
      "    error message:none\n",
      ")\n",
      "oracles: (\n",
      "    name: price\n",
      "    length: 19\n",
      "\n",
      ")\n",
      "\n",
      "error message: None\n"
     ]
    }
   ],
   "source": [
    "get_live_markets = True\n",
    "\n",
    "if get_live_markets:\n",
    "    omnipool = get_omnipool()\n",
    "else:\n",
    "    omnipool = load_omnipool()\n",
    "pprint(omnipool)"
   ],
   "metadata": {
    "collapsed": false,
    "ExecuteTime": {
     "end_time": "2024-02-07T18:02:35.970697436Z",
     "start_time": "2024-02-07T18:02:07.033024341Z"
    }
   },
   "id": "1dc196947eeb66c",
   "execution_count": 4
  },
  {
   "cell_type": "code",
   "outputs": [],
   "source": [
    "# save = True\n",
    "# if save:\n",
    "#     save_omnipool(omnipool)"
   ],
   "metadata": {
    "collapsed": false,
    "ExecuteTime": {
     "end_time": "2024-02-07T18:02:36.047836842Z",
     "start_time": "2024-02-07T18:02:35.974000213Z"
    }
   },
   "id": "80ec5315aa926742",
   "execution_count": 5
  },
  {
   "cell_type": "code",
   "outputs": [],
   "source": [],
   "metadata": {
    "collapsed": false,
    "ExecuteTime": {
     "end_time": "2024-02-07T18:02:36.048484985Z",
     "start_time": "2024-02-07T18:02:36.021939961Z"
    }
   },
   "id": "2dc3324520a36a3c",
   "execution_count": 5
  },
  {
   "cell_type": "code",
   "execution_count": 6,
   "outputs": [],
   "source": [
    "cex_asset_tkn = \"DOT\"\n",
    "cex_denom_tkn = \"USD\"\n",
    "dex_asset_tkn = \"DOT\"\n",
    "dex_denom_tkn = \"USDT10\"\n",
    "one_hop = False\n",
    "try:\n",
    "    kraken_ob = get_kraken_orderbook((cex_asset_tkn, cex_denom_tkn), archive=False)\n",
    "    cex = CentralizedMarket(\n",
    "        order_book={(cex_asset_tkn, cex_denom_tkn): kraken_ob},\n",
    "        asset_list=[cex_asset_tkn, cex_denom_tkn],\n",
    "        trade_fee=0.001\n",
    "    )\n",
    "    one_hop = True\n",
    "except:  # orderbook doesn't exist? try going through USD\n",
    "    asset_ob = get_kraken_orderbook((cex_asset_tkn, \"USD\"), archive=False)\n",
    "    denom_ob = get_kraken_orderbook((cex_denom_tkn, \"USD\"), archive=False)\n",
    "    cex = CentralizedMarket(\n",
    "        order_book={(cex_asset_tkn, \"USD\"): asset_ob, (cex_denom_tkn, \"USD\"): denom_ob},\n",
    "        asset_list=[cex_asset_tkn, cex_denom_tkn, \"USD\"],\n",
    "        trade_fee=0.0026\n",
    "    )\n",
    "    "
   ],
   "metadata": {
    "collapsed": false,
    "ExecuteTime": {
     "end_time": "2024-02-07T18:02:36.475329951Z",
     "start_time": "2024-02-07T18:02:36.022118292Z"
    }
   },
   "id": "de40e2fc88fe157a"
  },
  {
   "cell_type": "code",
   "execution_count": 7,
   "outputs": [
    {
     "name": "stdout",
     "output_type": "stream",
     "text": [
      "{'4-Pool': 1573705.2928776364, 'HDX': 47875923.527265646, 'WETH': 1097.626989448107, '2-Pool101': 54.49487379181509, 'GLMR': 692733.57698674, 'BNC': 566163.1677507104, 'vDOT': 244752.4564469301, 'CFG': 1018555.447679851, '2-Pool102': 4476463.490967692, 'DOT': 1189083.8915721453, 'PHA': 1160236.0275251633, 'ZTG': 1961804.1095551646, 'INTR': 15017270.547587436, 'ASTR': 2742898.438438591}\n"
     ]
    }
   ],
   "source": [
    "if one_hop:\n",
    "    cex_spot = (cex.order_book[(cex_asset_tkn, cex_denom_tkn)].bids[0][0] + cex.order_book[(cex_asset_tkn, cex_denom_tkn)].asks[0][0]) / 2\n",
    "else:\n",
    "    cex_asset_spot = (cex.order_book[(cex_asset_tkn, \"USD\")].bids[0][0] + cex.order_book[(cex_asset_tkn, \"USD\")].asks[0][0]) / 2\n",
    "    cex_denom_spot = (cex.order_book[(cex_denom_tkn, \"USD\")].bids[0][0] + cex.order_book[(cex_denom_tkn, \"USD\")].asks[0][0]) / 2\n",
    "    cex_spot = cex_asset_spot / cex_denom_spot\n",
    "\n",
    "\n",
    "# dex_denom_data = tokens[dex_denom_tkn]\n",
    "# dex_denom_scale = mpf(1)\n",
    "# overall_scale = mpf(1)\n",
    "# dex_denom_lrna = dex_denom_data['LRNA'] * dex_denom_scale * overall_scale\n",
    "# dot_liquidity = tokens[dex_asset_tkn]['liquidity'] * overall_scale\n",
    "# dot_lrna = tokens[dex_asset_tkn]['LRNA'] * overall_scale\n",
    "# dex_denom_liquidity = cex_spot * dex_denom_lrna * dot_liquidity / dot_lrna\n",
    "# dex_denom_data_up = {'LRNA': dex_denom_lrna, 'liquidity': dex_denom_liquidity}\n",
    "# hdx_data = {'LRNA': tokens['HDX']['LRNA'] * overall_scale, 'liquidity': tokens['HDX']['liquidity'] * overall_scale}\n",
    "# dot_data = {'LRNA': dot_lrna, 'liquidity': dot_liquidity}\n",
    "\n",
    "# op_state = OmnipoolState(\n",
    "#     # tokens={dex_denom_tkn: dex_denom_data_up, dex_asset_tkn: dot_data, \"HDX\": hdx_data,\n",
    "#     #         \"USD\": {\"LRNA\": mpf(10000), \"liquidity\": mpf(10000)}},\n",
    "#     tokens=tokens,\n",
    "#     preferred_stablecoin=\"USDT\",\n",
    "#     lrna_fee=0.0000,\n",
    "#     asset_fee=0.0000\n",
    "# )\n",
    "op_state = omnipool\n",
    "\n",
    "protocol_agent = Agent(holdings={\"DOT\": mpf(500000)})\n",
    "op_state.add_liquidity(protocol_agent, 500000, \"DOT\")\n",
    "\n",
    "# protocol_agent = Agent(holdings={\"DOT\": mpf(500000)})\n",
    "# op_state.add_liquidity(protocol_agent, 500000, \"DOT\")\n",
    "\n",
    "\n",
    "op_state.asset_fee = 0.0025\n",
    "op_state.lrna_fee = 0.0005\n",
    "\n",
    "    \n",
    "# pprint(tokens)\n",
    "print(op_state.liquidity)"
   ],
   "metadata": {
    "collapsed": false,
    "ExecuteTime": {
     "end_time": "2024-02-07T18:02:36.518625719Z",
     "start_time": "2024-02-07T18:02:36.517864110Z"
    }
   },
   "id": "a9a6349276b30b04"
  },
  {
   "cell_type": "code",
   "execution_count": 8,
   "outputs": [
    {
     "name": "stdout",
     "output_type": "stream",
     "text": [
      "6.834230201925144\n",
      "6.88885\n"
     ]
    }
   ],
   "source": [
    "op_spot = op_state.price(op_state, dex_asset_tkn, dex_denom_tkn)\n",
    "pprint(op_spot)\n",
    "pprint(cex_spot)\n",
    "# pprint((cex.order_book[(cex_asset_tkn, cex_denom_tkn)].bids[0][0],cex.order_book[(cex_asset_tkn, cex_denom_tkn)].asks[0][0]))\n",
    "# pprint((cex.order_book[(cex_asset_tkn, cex_denom_tkn)].asks[0][0] - cex.order_book[(cex_asset_tkn, cex_denom_tkn)].bids[0][0])/cex.order_book[(cex_asset_tkn, cex_denom_tkn)].bids[0][0])"
   ],
   "metadata": {
    "collapsed": false,
    "ExecuteTime": {
     "end_time": "2024-02-07T18:02:36.519175051Z",
     "start_time": "2024-02-07T18:02:36.518041776Z"
    }
   },
   "id": "6ec44c5cafc0d74b"
  },
  {
   "cell_type": "code",
   "execution_count": 9,
   "outputs": [
    {
     "name": "stdout",
     "output_type": "stream",
     "text": [
      "'DEX'\n",
      "'CEX'\n"
     ]
    },
    {
     "data": {
      "text/plain": "<Figure size 432x288 with 1 Axes>",
      "image/png": "[encoded data removed]"
     },
     "metadata": {
      "needs_background": "light"
     },
     "output_type": "display_data"
    },
    {
     "data": {
      "text/plain": "<Figure size 432x288 with 1 Axes>",
      "image/png": "[encoded data removed]"
     },
     "metadata": {
      "needs_background": "light"
     },
     "output_type": "display_data"
    },
    {
     "name": "stdout",
     "output_type": "stream",
     "text": [
      "{('DOT', 'USD'): OrderBook(bids=SortedList([[6.8888, 1909.082], [6.8886, 627.362], [6.8885, 46.478], [6.8884, 194.456], [6.8883, 198.375], [6.888, 194.162], [6.8877, 29.0], [6.8876, 54.375], [6.8874, 95.169], [6.8873, 241.866], [6.8868, 484.829], [6.8867, 54.375], [6.8866, 14.258], [6.8865, 332.188], [6.8861, 509.676], [6.8858, 29.1], [6.8856, 54.375], [6.8854, 244.826], [6.8853, 1121.045], [6.8852, 728.7], [6.885, 640.0], [6.8841, 726.2], [6.884, 54.375], [6.8839, 26.0], [6.8834, 726.38], [6.8832, 54.375], [6.8817, 73.311], [6.8816, 54.375], [6.8814, 1453.173], [6.8809, 54.375], [6.8808, 1064.802], [6.8802, 3626.852], [6.8801, 54.375], [6.88, 436.047], [6.8795, 354.531], [6.8785, 54.375], [6.8783, 257.654], [6.8778, 54.375], [6.8769, 251.74], [6.8767, 54.375], [6.876, 1194.65], [6.8757, 54.375], [6.8752, 1423.738], [6.8748, 1312.985], [6.8744, 2140.998], [6.8741, 54.375], [6.8711, 205.729], [6.871, 423.777], [6.8694, 54.375], [6.8689, 3.279], [6.868, 54.375], [6.8618, 54.375], [6.8604, 12.687], [6.8603, 55.086], [6.8602, 27003.518], [6.8598, 54.375], [6.8593, 725.5], [6.8589, 54.375], [6.8576, 1250.249], [6.8538, 634.448], [6.852, 92.895], [6.8517, 54.375], [6.8481, 120.335], [6.8477, 54.375], [6.8474, 8.811], [6.8468, 5.125], [6.8464, 54.375], [6.8458, 169.528], [6.8453, 1250.249], [6.8386, 219.094], [6.8381, 54.375], [6.8365, 30.762], [6.8358, 54.375], [6.825, 35.935], [6.8198, 1.2], [6.818, 6268.145], [6.8179, 2.311], [6.8153, 30.858], [6.8144, 841.989], [6.8105, 982.05], [6.8103, 3229.888], [6.8102, 1.947], [6.8, 3.677], [6.7942, 30.954], [6.7867, 8.914], [6.783, 634.913], [6.782, 425.729], [6.7805, 2.324], [6.7731, 31.05], [6.7717, 107.802], [6.7716, 125.525], [6.7695, 4.615], [6.7686, 4.029], [6.7645, 24.752], [6.7569, 25.753], [6.7542, 14.682], [6.7521, 31.147], [6.7505, 7.529], [6.75, 5.668], [6.746, 7.445]]), asks=SortedList([[6.8889, 1.953], [6.89, 100.0], [6.8916, 5.869], [6.8937, 404.652], [6.8939, 5.287], [6.8942, 2.823], [6.8944, 362.619], [6.8949, 7.399], [6.8952, 7.399], [6.896, 2.247], [6.8962, 1132.348], [6.8967, 100.0], [6.897, 1.225], [6.8972, 27.7], [6.8974, 575.67], [6.8979, 1.2], [6.898, 362.425], [6.8987, 332.188], [6.899, 510.138], [6.8991, 31.4], [6.8992, 724.728], [6.8995, 2.201], [6.8998, 3.0], [6.8999, 61.046], [6.9, 140652.964], [6.9007, 77.465], [6.901, 30.654], [6.9011, 22.5], [6.9031, 509.676], [6.9035, 618.394], [6.9036, 1448.527], [6.9058, 169.839], [6.9075, 1064.802], [6.908, 1383.9], [6.9081, 354.531], [6.9084, 1358.51], [6.9086, 251.74], [6.9092, 1258.13], [6.9103, 325.998], [6.9109, 600.0], [6.9129, 2140.998], [6.9131, 265.42], [6.9132, 3.052], [6.9134, 257.654], [6.9136, 11.11], [6.9151, 2.298], [6.9155, 625.917], [6.9162, 8.732], [6.9168, 151.302], [6.9185, 11.162], [6.9224, 1243.079], [6.923, 31.791], [6.9273, 3166.2], [6.928, 1.3], [6.9297, 1250.249], [6.9302, 8.825], [6.9311, 398.13], [6.932, 73.0], [6.9328, 14.641], [6.9378, 102.804], [6.9391, 1481.031], [6.9393, 1.2], [6.94, 24381.682], [6.9418, 12.029], [6.9439, 30.465], [6.948, 696.525], [6.9497, 21.755], [6.95, 15.0], [6.9501, 3.7], [6.9523, 8.018], [6.9532, 2.285], [6.9541, 1.927], [6.9595, 6.226], [6.9609, 190.451], [6.9612, 108.173], [6.9617, 7.365], [6.9627, 1.6], [6.9656, 30.37], [6.969, 3.624], [6.9692, 168.595], [6.9695, 200.0], [6.9711, 7.325], [6.9763, 10.519], [6.9786, 1.26], [6.9802, 14.442], [6.9809, 1.2], [6.9812, 21.36], [6.9872, 30.276], [6.988, 91.617], [6.9888, 500.0], [6.9912, 76.462], [6.9914, 33.112], [6.9916, 2.273], [6.9922, 217.39], [6.9925, 434.361], [6.9926, 398.13], [6.9939, 1.6], [6.9949, 3.963], [6.995, 49.976], [6.9962, 5.113]]))}\n"
     ]
    }
   ],
   "source": [
    "holdings = {}\n",
    "for tkn in [cex_asset_tkn, cex_denom_tkn, dex_asset_tkn, dex_denom_tkn, \"USD\"]:\n",
    "    if tkn not in holdings:\n",
    "        holdings[tkn] = mpf(10000000)\n",
    "agent = Agent(holdings=holdings)\n",
    "\n",
    "asset_spot = omnipool.price(omnipool, dex_denom_tkn, \"USDT10\")\n",
    "dollar_step_size = 5\n",
    "trade_size_list = [dollar_step_size/asset_spot*i for i in range(1, 1500)]\n",
    "dot_out_cex = []\n",
    "dot_out_dex = []\n",
    "for trade_size in trade_size_list:\n",
    "    temp_op_state = op_state.copy()\n",
    "    temp_cex_state = cex.copy()\n",
    "    temp_agent1 = agent.copy()\n",
    "    temp_agent2 = agent.copy()\n",
    "    temp_op_state.swap(temp_agent1, tkn_buy=dex_asset_tkn, tkn_sell=dex_denom_tkn, sell_quantity=trade_size)\n",
    "    if one_hop:\n",
    "        temp_cex_state.swap(temp_agent2, tkn_buy=cex_asset_tkn, tkn_sell=cex_denom_tkn, sell_quantity=trade_size)\n",
    "    else:\n",
    "        temp_cex_state.swap(temp_agent2, tkn_buy=\"USD\", tkn_sell=cex_denom_tkn, sell_quantity=trade_size)\n",
    "        sell_amt_usd = temp_agent2.holdings[\"USD\"] - agent.holdings[\"USD\"]\n",
    "        temp_cex_state.swap(temp_agent2, tkn_buy=cex_asset_tkn, tkn_sell=\"USD\", sell_quantity=sell_amt_usd)\n",
    "    dot_out_dex.append(temp_agent1.holdings[dex_asset_tkn] - agent.holdings[dex_asset_tkn])\n",
    "    dot_out_cex.append(temp_agent2.holdings[cex_asset_tkn] - agent.holdings[cex_asset_tkn])\n",
    "    # pprint(trade_size)\n",
    "    # pprint(temp_op_state.price(temp_op_state, \"DOT\", \"USDT\"))\n",
    "    \n",
    "pprint(\"DEX\")\n",
    "plt.plot(trade_size_list, dot_out_dex, label=\"DEX\")\n",
    "# pprint(dot_out_dex)\n",
    "\n",
    "pprint(\"CEX\")\n",
    "# pprint(dot_out_cex)\n",
    "plt.plot(trade_size_list, dot_out_cex, label=\"CEX\")\n",
    "plt.legend()\n",
    "plt.show()\n",
    "\n",
    "diffs = [dot_out_dex[i] - dot_out_cex[i] for i in range(len(dot_out_dex))]\n",
    "plt.plot(trade_size_list, diffs, label=\"DEX - CEX\")\n",
    "plt.show()\n",
    "\n",
    "print(cex.order_book)"
   ],
   "metadata": {
    "collapsed": false,
    "ExecuteTime": {
     "end_time": "2024-02-07T18:02:38.423796448Z",
     "start_time": "2024-02-07T18:02:36.518124905Z"
    }
   },
   "id": "fe94206ea0bd98b6"
  },
  {
   "cell_type": "code",
   "execution_count": 10,
   "outputs": [
    {
     "name": "stdout",
     "output_type": "stream",
     "text": [
      "1086.085941779530685380450449883937835693359375\n"
     ]
    }
   ],
   "source": [
    "print(dot_out_cex[-1])"
   ],
   "metadata": {
    "collapsed": false,
    "ExecuteTime": {
     "end_time": "2024-02-07T18:02:38.424458275Z",
     "start_time": "2024-02-07T18:02:38.414841248Z"
    }
   },
   "id": "e7cb0770715b0a42"
  },
  {
   "cell_type": "code",
   "execution_count": 11,
   "outputs": [
    {
     "name": "stdout",
     "output_type": "stream",
     "text": [
      "1087.00032890351940295659005641937255859375\n"
     ]
    }
   ],
   "source": [
    "print(dot_out_dex[-1])"
   ],
   "metadata": {
    "collapsed": false,
    "ExecuteTime": {
     "end_time": "2024-02-07T18:02:38.483154189Z",
     "start_time": "2024-02-07T18:02:38.418522336Z"
    }
   },
   "id": "b2622529def29c27"
  },
  {
   "cell_type": "code",
   "execution_count": 11,
   "outputs": [],
   "source": [],
   "metadata": {
    "collapsed": false,
    "ExecuteTime": {
     "end_time": "2024-02-07T18:02:38.483813013Z",
     "start_time": "2024-02-07T18:02:38.469881499Z"
    }
   },
   "id": "7fe45be545dd47a8"
  }
 ],
 "metadata": {
  "kernelspec": {
   "display_name": "Python 3",
   "language": "python",
   "name": "python3"
  },
  "language_info": {
   "codemirror_mode": {
    "name": "ipython",
    "version": 2
   },
   "file_extension": ".py",
   "mimetype": "text/x-python",
   "name": "python",
   "nbconvert_exporter": "python",
   "pygments_lexer": "ipython2",
   "version": "2.7.6"
  }
 },
 "nbformat": 4,
 "nbformat_minor": 5
}
