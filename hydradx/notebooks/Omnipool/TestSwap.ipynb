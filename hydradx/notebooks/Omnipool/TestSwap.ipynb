{
 "cells": [
  {
   "cell_type": "code",
   "execution_count": 1,
   "id": "6b8e2d21-c455-4b2b-a1c4-0c2cce0fb286",
   "metadata": {},
   "outputs": [
    {
     "name": "stdout",
     "output_type": "stream",
     "text": [
      "Starting simulation...\n"
     ]
    },
    {
     "ename": "AttributeError",
     "evalue": "'GlobalState' object has no attribute 'external_market'",
     "output_type": "error",
     "traceback": [
      "\u001b[1;31m---------------------------------------------------------------------------\u001b[0m",
      "\u001b[1;31mAttributeError\u001b[0m                            Traceback (most recent call last)",
      "Input \u001b[1;32mIn [1]\u001b[0m, in \u001b[0;36m<cell line: 57>\u001b[1;34m()\u001b[0m\n\u001b[0;32m     26\u001b[0m     \u001b[38;5;28;01mreturn\u001b[39;00m price_dict[\u001b[38;5;124m'\u001b[39m\u001b[38;5;124mLRNA\u001b[39m\u001b[38;5;124m'\u001b[39m] \u001b[38;5;241m/\u001b[39m price_dict[asset]\n\u001b[0;32m     28\u001b[0m initial_state \u001b[38;5;241m=\u001b[39m GlobalState(\n\u001b[0;32m     29\u001b[0m     pools\u001b[38;5;241m=\u001b[39m{\n\u001b[0;32m     30\u001b[0m         \u001b[38;5;124m'\u001b[39m\u001b[38;5;124momnipool\u001b[39m\u001b[38;5;124m'\u001b[39m: OmnipoolState(\n\u001b[1;32m   (...)\u001b[0m\n\u001b[0;32m     54\u001b[0m     }\n\u001b[0;32m     55\u001b[0m )\n\u001b[1;32m---> 57\u001b[0m events \u001b[38;5;241m=\u001b[39m \u001b[43mrun\u001b[49m\u001b[38;5;241;43m.\u001b[39;49m\u001b[43mrun\u001b[49m\u001b[43m(\u001b[49m\u001b[43minitial_state\u001b[49m\u001b[43m,\u001b[49m\u001b[43m \u001b[49m\u001b[43mtime_steps\u001b[49m\u001b[38;5;241;43m=\u001b[39;49m\u001b[38;5;241;43m5000\u001b[39;49m\u001b[43m)\u001b[49m\n\u001b[0;32m     59\u001b[0m events \u001b[38;5;241m=\u001b[39m processing\u001b[38;5;241m.\u001b[39mpostprocessing(events)\n",
      "File \u001b[1;32m~\\PycharmProjects\\HydraDX-simulations-main\\hydradx\\notebooks\\Omnipool\\../..\\model\\run.py:23\u001b[0m, in \u001b[0;36mrun\u001b[1;34m(initial_state, time_steps, silent, use_cadcad)\u001b[0m\n\u001b[0;32m     21\u001b[0m     \u001b[38;5;28mprint\u001b[39m(\u001b[38;5;124m'\u001b[39m\u001b[38;5;124mStarting simulation...\u001b[39m\u001b[38;5;124m'\u001b[39m)\n\u001b[0;32m     22\u001b[0m \u001b[38;5;28;01mfor\u001b[39;00m i \u001b[38;5;129;01min\u001b[39;00m \u001b[38;5;28mrange\u001b[39m(time_steps):\n\u001b[1;32m---> 23\u001b[0m     new_global_state \u001b[38;5;241m=\u001b[39m \u001b[43mevents\u001b[49m\u001b[43m[\u001b[49m\u001b[38;5;241;43m-\u001b[39;49m\u001b[38;5;241;43m1\u001b[39;49m\u001b[43m]\u001b[49m\u001b[43m[\u001b[49m\u001b[38;5;124;43m'\u001b[39;49m\u001b[38;5;124;43mstate\u001b[39;49m\u001b[38;5;124;43m'\u001b[39;49m\u001b[43m]\u001b[49m\u001b[38;5;241;43m.\u001b[39;49m\u001b[43mcopy\u001b[49m\u001b[43m(\u001b[49m\u001b[43m)\u001b[49m\n\u001b[0;32m     25\u001b[0m     \u001b[38;5;66;03m# market evolutions\u001b[39;00m\n\u001b[0;32m     26\u001b[0m     new_global_state\u001b[38;5;241m.\u001b[39mevolve()\n",
      "File \u001b[1;32m~\\PycharmProjects\\HydraDX-simulations-main\\hydradx\\notebooks\\Omnipool\\../..\\model\\amm\\global_state.py:67\u001b[0m, in \u001b[0;36mGlobalState.copy\u001b[1;34m(self)\u001b[0m\n\u001b[0;32m     66\u001b[0m \u001b[38;5;28;01mdef\u001b[39;00m \u001b[38;5;21mcopy\u001b[39m(\u001b[38;5;28mself\u001b[39m):\n\u001b[1;32m---> 67\u001b[0m     \u001b[38;5;28;01mreturn\u001b[39;00m \u001b[43mGlobalState\u001b[49m\u001b[43m(\u001b[49m\n\u001b[0;32m     68\u001b[0m \u001b[43m        \u001b[49m\u001b[43magents\u001b[49m\u001b[38;5;241;43m=\u001b[39;49m\u001b[43m{\u001b[49m\u001b[43magent_id\u001b[49m\u001b[43m:\u001b[49m\u001b[43m \u001b[49m\u001b[38;5;28;43mself\u001b[39;49m\u001b[38;5;241;43m.\u001b[39;49m\u001b[43magents\u001b[49m\u001b[43m[\u001b[49m\u001b[43magent_id\u001b[49m\u001b[43m]\u001b[49m\u001b[38;5;241;43m.\u001b[39;49m\u001b[43mcopy\u001b[49m\u001b[43m(\u001b[49m\u001b[43m)\u001b[49m\u001b[43m \u001b[49m\u001b[38;5;28;43;01mfor\u001b[39;49;00m\u001b[43m \u001b[49m\u001b[43magent_id\u001b[49m\u001b[43m \u001b[49m\u001b[38;5;129;43;01min\u001b[39;49;00m\u001b[43m \u001b[49m\u001b[38;5;28;43mself\u001b[39;49m\u001b[38;5;241;43m.\u001b[39;49m\u001b[43magents\u001b[49m\u001b[43m}\u001b[49m\u001b[43m,\u001b[49m\n\u001b[0;32m     69\u001b[0m \u001b[43m        \u001b[49m\u001b[43mpools\u001b[49m\u001b[38;5;241;43m=\u001b[39;49m\u001b[43m{\u001b[49m\u001b[43mpool_id\u001b[49m\u001b[43m:\u001b[49m\u001b[43m \u001b[49m\u001b[38;5;28;43mself\u001b[39;49m\u001b[38;5;241;43m.\u001b[39;49m\u001b[43mpools\u001b[49m\u001b[43m[\u001b[49m\u001b[43mpool_id\u001b[49m\u001b[43m]\u001b[49m\u001b[38;5;241;43m.\u001b[39;49m\u001b[43mcopy\u001b[49m\u001b[43m(\u001b[49m\u001b[43m)\u001b[49m\u001b[43m \u001b[49m\u001b[38;5;28;43;01mfor\u001b[39;49;00m\u001b[43m \u001b[49m\u001b[43mpool_id\u001b[49m\u001b[43m \u001b[49m\u001b[38;5;129;43;01min\u001b[39;49;00m\u001b[43m \u001b[49m\u001b[38;5;28;43mself\u001b[39;49m\u001b[38;5;241;43m.\u001b[39;49m\u001b[43mpools\u001b[49m\u001b[43m}\u001b[49m\u001b[43m,\u001b[49m\n\u001b[0;32m     70\u001b[0m \u001b[43m        \u001b[49m\u001b[43mexternal_market\u001b[49m\u001b[38;5;241;43m=\u001b[39;49m\u001b[43mcopy\u001b[49m\u001b[38;5;241;43m.\u001b[39;49m\u001b[43mcopy\u001b[49m\u001b[43m(\u001b[49m\u001b[38;5;28;43mself\u001b[39;49m\u001b[38;5;241;43m.\u001b[39;49m\u001b[43mexternal_market\u001b[49m\u001b[43m)\u001b[49m\u001b[43m,\u001b[49m\n\u001b[0;32m     71\u001b[0m \u001b[43m        \u001b[49m\u001b[43mevolve_function\u001b[49m\u001b[38;5;241;43m=\u001b[39;49m\u001b[43mcopy\u001b[49m\u001b[38;5;241;43m.\u001b[39;49m\u001b[43mcopy\u001b[49m\u001b[43m(\u001b[49m\u001b[38;5;28;43mself\u001b[39;49m\u001b[38;5;241;43m.\u001b[39;49m\u001b[43m_evolve_function\u001b[49m\u001b[43m)\u001b[49m\n\u001b[0;32m     72\u001b[0m \u001b[43m    \u001b[49m\u001b[43m)\u001b[49m\n",
      "File \u001b[1;32m~\\PycharmProjects\\HydraDX-simulations-main\\hydradx\\notebooks\\Omnipool\\../..\\model\\amm\\global_state.py:21\u001b[0m, in \u001b[0;36mGlobalState.__init__\u001b[1;34m(self, agents, pools, external_market, evolve_function)\u001b[0m\n\u001b[0;32m     16\u001b[0m     \u001b[38;5;28mself\u001b[39m\u001b[38;5;241m.\u001b[39mexternal_market \u001b[38;5;241m=\u001b[39m {}\n\u001b[0;32m     17\u001b[0m \u001b[38;5;66;03m# get a list of all assets contained in any member of the state\u001b[39;00m\n\u001b[0;32m     18\u001b[0m \u001b[38;5;28mself\u001b[39m\u001b[38;5;241m.\u001b[39masset_list \u001b[38;5;241m=\u001b[39m \u001b[38;5;28mlist\u001b[39m(\u001b[38;5;28mset\u001b[39m(\n\u001b[0;32m     19\u001b[0m     [asset \u001b[38;5;28;01mfor\u001b[39;00m pool \u001b[38;5;129;01min\u001b[39;00m pools\u001b[38;5;241m.\u001b[39mvalues() \u001b[38;5;28;01mfor\u001b[39;00m asset \u001b[38;5;129;01min\u001b[39;00m pool\u001b[38;5;241m.\u001b[39mliquidity\u001b[38;5;241m.\u001b[39mkeys()]\n\u001b[0;32m     20\u001b[0m     \u001b[38;5;241m+\u001b[39m [asset \u001b[38;5;28;01mfor\u001b[39;00m agent \u001b[38;5;129;01min\u001b[39;00m agents\u001b[38;5;241m.\u001b[39mvalues() \u001b[38;5;28;01mfor\u001b[39;00m asset \u001b[38;5;129;01min\u001b[39;00m agent\u001b[38;5;241m.\u001b[39masset_list]\n\u001b[1;32m---> 21\u001b[0m     \u001b[38;5;241m+\u001b[39m \u001b[38;5;28mlist\u001b[39m(\u001b[38;5;28;43mself\u001b[39;49m\u001b[38;5;241;43m.\u001b[39;49m\u001b[43mexternal_market\u001b[49m\u001b[38;5;241m.\u001b[39mkeys())\n\u001b[0;32m     22\u001b[0m ))\n\u001b[0;32m     23\u001b[0m \u001b[38;5;28mself\u001b[39m\u001b[38;5;241m.\u001b[39magents \u001b[38;5;241m=\u001b[39m agents\n\u001b[0;32m     24\u001b[0m \u001b[38;5;28;01mfor\u001b[39;00m agent_name \u001b[38;5;129;01min\u001b[39;00m \u001b[38;5;28mself\u001b[39m\u001b[38;5;241m.\u001b[39magents:\n",
      "\u001b[1;31mAttributeError\u001b[0m: 'GlobalState' object has no attribute 'external_market'"
     ]
    }
   ],
   "source": [
    "import pandas as pd\n",
    "import random\n",
    "import sys\n",
    "sys.path.append('../..')\n",
    "\n",
    "from model import run\n",
    "from model import plot_utils as pu\n",
    "from model import processing\n",
    "from model.amm.omnipool_amm import OmnipoolState\n",
    "from model.amm.agents import Agent\n",
    "from model.amm.trade_strategies import random_swaps\n",
    "from model.amm.global_state import GlobalState\n",
    "\n",
    "# same seed, same parameters = same simulation result\n",
    "random.seed(42)\n",
    "\n",
    "price_dict = {\n",
    "    'HDX': 0.05,\n",
    "    'USD': 1,\n",
    "    'LRNA': 0.5,\n",
    "    'R1': 2,\n",
    "    'R2': 2/3\n",
    "}\n",
    "\n",
    "def lrna_price(asset: str):\n",
    "    return price_dict['LRNA'] / price_dict[asset]\n",
    "\n",
    "initial_state = GlobalState(\n",
    "    pools={\n",
    "        'omnipool': OmnipoolState(\n",
    "            tokens={\n",
    "                'HDX': {'liquidity': 1000000, 'LRNA_price': lrna_price('HDX')},\n",
    "                'USD': {'liquidity': 1000000, 'LRNA_price': lrna_price('USD')},\n",
    "                'R1': {'liquidity': 1000000, 'LRNA_price': lrna_price('R1')},\n",
    "                'R2': {'liquidity': 3000000, 'LRNA_price': lrna_price('R2')},\n",
    "            },\n",
    "            lrna_fee=0,\n",
    "            asset_fee=0\n",
    "        )\n",
    "    },\n",
    "    agents = {\n",
    "        'Trader': Agent(\n",
    "            holdings={'HDX': 10000, 'USD': 1000000, 'R1': 1000000, 'R2': 3000000},\n",
    "            trade_strategy=random_swaps(\n",
    "                pool_id='omnipool', \n",
    "                amount={\n",
    "                    'R1': 100 * lrna_price('R1'), \n",
    "                    'R2': 100  * lrna_price('R2'), \n",
    "                    'HDX': 100 * lrna_price('HDX'), \n",
    "                    'USD': 100 * lrna_price('USD')\n",
    "                }\n",
    "            )\n",
    "        )\n",
    "    }\n",
    ")\n",
    "\n",
    "events = run.run(initial_state, time_steps=5000)\n",
    "\n",
    "events = processing.postprocessing(events)"
   ]
  },
  {
   "cell_type": "code",
   "execution_count": null,
   "id": "fbb48ae7-cc78-4709-90ca-a7921c37fa5d",
   "metadata": {},
   "outputs": [],
   "source": [
    "pu.plot(events, pool='omnipool', prop='liquidity')\n",
    "pu.plot(events, pool='omnipool', prop='lrna')"
   ]
  },
  {
   "cell_type": "code",
   "execution_count": null,
   "id": "b7829a3e-d082-4092-9414-efd05f4b87c6",
   "metadata": {},
   "outputs": [],
   "source": [
    "pu.plot(events, agent='Trader', prop='holdings')"
   ]
  },
  {
   "cell_type": "code",
   "execution_count": null,
   "id": "1113f935-a9a3-4382-992b-fff4c9010c22",
   "metadata": {},
   "outputs": [],
   "source": []
  }
 ],
 "metadata": {
  "kernelspec": {
   "display_name": "Python 3 (ipykernel)",
   "language": "python",
   "name": "python3"
  },
  "language_info": {
   "codemirror_mode": {
    "name": "ipython",
    "version": 3
   },
   "file_extension": ".py",
   "mimetype": "text/x-python",
   "name": "python",
   "nbconvert_exporter": "python",
   "pygments_lexer": "ipython3",
   "version": "3.9.7"
  }
 },
 "nbformat": 4,
 "nbformat_minor": 5
}
