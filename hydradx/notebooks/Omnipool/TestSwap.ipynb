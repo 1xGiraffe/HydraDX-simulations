{
 "cells": [
  {
   "cell_type": "code",
   "execution_count": 1,
   "id": "6b8e2d21-c455-4b2b-a1c4-0c2cce0fb286",
   "metadata": {},
   "outputs": [
    {
     "ename": "SyntaxError",
     "evalue": "invalid syntax (trade_strategies.py, line 262)",
     "output_type": "error",
     "traceback": [
      "Traceback \u001b[1;36m(most recent call last)\u001b[0m:\n",
      "  File \u001b[0;32m~\\PycharmProjects\\HydraDX-simulations\\venv\\lib\\site-packages\\IPython\\core\\interactiveshell.py:3369\u001b[0m in \u001b[0;35mrun_code\u001b[0m\n    exec(code_obj, self.user_global_ns, self.user_ns)\n",
      "\u001b[1;36m  Input \u001b[1;32mIn [1]\u001b[1;36m in \u001b[1;35m<cell line: 11>\u001b[1;36m\u001b[0m\n\u001b[1;33m    from model.amm.trade_strategies import random_swaps\u001b[0m\n",
      "\u001b[1;36m  File \u001b[1;32m~\\PycharmProjects\\HydraDX-simulations\\hydradx\\notebooks\\Omnipool\\../..\\model\\amm\\trade_strategies.py:262\u001b[1;36m\u001b[0m\n\u001b[1;33m    quantity=current_weight/)\u001b[0m\n\u001b[1;37m                            ^\u001b[0m\n\u001b[1;31mSyntaxError\u001b[0m\u001b[1;31m:\u001b[0m invalid syntax\n"
     ]
    }
   ],
   "source": [
    "import pandas as pd\n",
    "import random\n",
    "import sys\n",
    "sys.path.append('../..')\n",
    "\n",
    "from model import run\n",
    "from model import plot_utils as pu\n",
    "from model import processing\n",
    "from model.amm.omnipool_amm import OmnipoolState\n",
    "from model.amm.agents import Agent\n",
    "from model.amm.trade_strategies import random_swaps\n",
    "from model.amm.global_state import GlobalState\n",
    "\n",
    "# same seed, same parameters = same simulation result\n",
    "random.seed(42)\n",
    "\n",
    "price_dict = {\n",
    "    'HDX': 0.05,\n",
    "    'USD': 1,\n",
    "    'LRNA': 0.5,\n",
    "    'R1': 2,\n",
    "    'R2': 2/3\n",
    "}\n",
    "\n",
    "def lrna_price(asset: str):\n",
    "    return price_dict['LRNA'] / price_dict[asset]\n",
    "\n",
    "initial_state = GlobalState(\n",
    "    pools={\n",
    "        'omnipool': OmnipoolState(\n",
    "            tokens={\n",
    "                'HDX': {'liquidity': 1000000, 'LRNA_price': lrna_price('HDX')},\n",
    "                'USD': {'liquidity': 1000000, 'LRNA_price': lrna_price('USD')},\n",
    "                'R1': {'liquidity': 1000000, 'LRNA_price': lrna_price('R1')},\n",
    "                'R2': {'liquidity': 3000000, 'LRNA_price': lrna_price('R2')},\n",
    "            },\n",
    "            lrna_fee=0,\n",
    "            asset_fee=0\n",
    "        )\n",
    "    },\n",
    "    agents = {\n",
    "        'Trader': Agent(\n",
    "            holdings={'HDX': 10000, 'USD': 1000000, 'R1': 1000000, 'R2': 3000000},\n",
    "            trade_strategy=random_swaps(\n",
    "                pool_id='omnipool', \n",
    "                amount={\n",
    "                    'R1': 100 * lrna_price('R1'), \n",
    "                    'R2': 100  * lrna_price('R2'), \n",
    "                    'HDX': 100 * lrna_price('HDX'), \n",
    "                    'USD': 100 * lrna_price('USD')\n",
    "                }\n",
    "            )\n",
    "        )\n",
    "    }\n",
    ")\n",
    "\n",
    "events = run.run(initial_state, time_steps=5000)\n",
    "\n",
    "events = processing.postprocessing(events)"
   ]
  },
  {
   "cell_type": "code",
   "execution_count": null,
   "id": "fbb48ae7-cc78-4709-90ca-a7921c37fa5d",
   "metadata": {},
   "outputs": [],
   "source": [
    "pu.plot(events, pool='omnipool', prop='liquidity')\n",
    "pu.plot(events, pool='omnipool', prop='lrna')"
   ]
  },
  {
   "cell_type": "code",
   "execution_count": null,
   "id": "b7829a3e-d082-4092-9414-efd05f4b87c6",
   "metadata": {},
   "outputs": [],
   "source": [
    "pu.plot(events, agent='Trader', prop='holdings')"
   ]
  },
  {
   "cell_type": "code",
   "execution_count": null,
   "id": "1113f935-a9a3-4382-992b-fff4c9010c22",
   "metadata": {},
   "outputs": [],
   "source": []
  }
 ],
 "metadata": {
  "kernelspec": {
   "display_name": "Python 3 (ipykernel)",
   "language": "python",
   "name": "python3"
  },
  "language_info": {
   "codemirror_mode": {
    "name": "ipython",
    "version": 3
   },
   "file_extension": ".py",
   "mimetype": "text/x-python",
   "name": "python",
   "nbconvert_exporter": "python",
   "pygments_lexer": "ipython3",
   "version": "3.9.7"
  }
 },
 "nbformat": 4,
 "nbformat_minor": 5
}
