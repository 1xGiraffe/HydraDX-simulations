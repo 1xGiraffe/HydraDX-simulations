{
 "cells": [
  {
   "cell_type": "code",
   "execution_count": 1,
   "id": "1a6eff6a",
   "metadata": {
    "collapsed": false,
    "jupyter": {
     "outputs_hidden": false
    }
   },
   "outputs": [
    {
     "name": "stdout",
     "output_type": "stream",
     "text": [
      "[{'DOT': 5.47, 'ETH': 1294.57, 'BTC': 17165.39, 'DOGE': 0.10677}, {'DOT': 5.47, 'ETH': 1294.09, 'BTC': 17162.31, 'DOGE': 0.1067}, {'DOT': 5.47, 'ETH': 1294.09, 'BTC': 17160.06, 'DOGE': 0.1067}, {'DOT': 5.47, 'ETH': 1294.83, 'BTC': 17163.71, 'DOGE': 0.10679}, {'DOT': 5.48, 'ETH': 1295.5, 'BTC': 17172.45, 'DOGE': 0.10683}, {'DOT': 5.48, 'ETH': 1295.47, 'BTC': 17177.28, 'DOGE': 0.10685}, {'DOT': 5.48, 'ETH': 1295.57, 'BTC': 17177.43, 'DOGE': 0.1071}, {'DOT': 5.48, 'ETH': 1295.86, 'BTC': 17178.67, 'DOGE': 0.10723}, {'DOT': 5.48, 'ETH': 1295.57, 'BTC': 17175.19, 'DOGE': 0.10722}, {'DOT': 5.48, 'ETH': 1295.8, 'BTC': 17176.2, 'DOGE': 0.10761}]\n"
     ]
    }
   ],
   "source": [
    "import sys\n",
    "import os\n",
    "import glob\n",
    "sys.path.append('../..')\n",
    "\n",
    "from model import processing\n",
    "price_list = processing.import_binance_prices(assets=['DOT', 'ETH', 'BTC', 'DOGE'], start_date='Dec 1 2022', days=30)\n",
    "print(price_list[0:10])"
   ]
  },
  {
   "cell_type": "code",
   "execution_count": 3,
   "id": "7b7a5477-8fec-499a-ae74-1800448bedb7",
   "metadata": {
    "collapsed": false,
    "jupyter": {
     "outputs_hidden": false
    }
   },
   "outputs": [
    {
     "name": "stdout",
     "output_type": "stream",
     "text": [
      "Running with 215859 time steps\n",
      "Starting simulation...\n",
      "Execution time: 57.967 seconds.\n",
      "lrna fee = 0.0, asset fee = 0.0, trade volume = 84318081906.89557\n",
      "returns = 873520.7628771176\n",
      "Starting simulation...\n",
      "Execution time: 40.085 seconds.\n",
      "lrna fee = 0.00017361111111111112, asset fee = 0.0008680555555555556, trade volume = 101404179631.16115\n",
      "returns = 1186706.5707607765\n",
      "Starting simulation...\n",
      "Execution time: 40.155 seconds.\n",
      "lrna fee = 0.0006944444444444445, asset fee = 0.0034722222222222225, trade volume = 231798472380.7887\n",
      "returns = 1639491.0584163982\n",
      "Starting simulation...\n",
      "Execution time: 26.973 seconds.\n",
      "lrna fee = 0.0015625, asset fee = 0.0078125, trade volume = 6506697120.837462\n",
      "returns = 1091335.722539513\n",
      "Starting simulation...\n",
      "Execution time: 25.123 seconds.\n",
      "lrna fee = 0.002777777777777778, asset fee = 0.01388888888888889, trade volume = 259764280.696361\n",
      "returns = 900867.316083179\n",
      "Starting simulation...\n",
      "Execution time: 27.202 seconds.\n",
      "lrna fee = 0.004340277777777778, asset fee = 0.021701388888888888, trade volume = 157131484.00395444\n",
      "returns = 899796.0756198731\n",
      "Starting simulation...\n",
      "Execution time: 28.533 seconds.\n",
      "lrna fee = 0.00625, asset fee = 0.03125, trade volume = 108863463.43932278\n",
      "returns = 898741.4840865391\n",
      "Starting simulation...\n",
      "Execution time: 28.229 seconds.\n",
      "lrna fee = 0.008506944444444445, asset fee = 0.042534722222222224, trade volume = 81521444.34392177\n",
      "returns = 895747.634309588\n",
      "Starting simulation...\n",
      "Execution time: 23.992 seconds.\n",
      "lrna fee = 0.011111111111111112, asset fee = 0.05555555555555556, trade volume = 59464526.71483328\n",
      "returns = 896140.6211950142\n",
      "Starting simulation...\n",
      "Execution time: 24.008 seconds.\n",
      "lrna fee = 0.014062499999999999, asset fee = 0.0703125, trade volume = 80654515.99327809\n",
      "returns = 910951.6477561477\n",
      "Starting simulation...\n",
      "Execution time: 24.866 seconds.\n",
      "lrna fee = 0.017361111111111112, asset fee = 0.08680555555555555, trade volume = 70946211.6954954\n",
      "returns = 904787.0762637488\n",
      "Starting simulation...\n",
      "Execution time: 23.256 seconds.\n",
      "lrna fee = 0.021006944444444446, asset fee = 0.10503472222222224, trade volume = 63393135.21203293\n",
      "returns = 914482.4729602163\n",
      "Starting simulation...\n",
      "Execution time: 24.201 seconds.\n",
      "lrna fee = 0.025, asset fee = 0.125, trade volume = 79039562.83410777\n",
      "returns = 921400.2300271369\n",
      "Starting simulation...\n",
      "Execution time: 25.506 seconds.\n",
      "lrna fee = 0.02934027777777778, asset fee = 0.1467013888888889, trade volume = 66140847.307336666\n",
      "returns = 923489.0459066908\n",
      "Starting simulation...\n",
      "Execution time: 24.093 seconds.\n",
      "lrna fee = 0.03402777777777778, asset fee = 0.1701388888888889, trade volume = 60157394.01751689\n",
      "returns = 910817.0895620021\n",
      "Starting simulation...\n",
      "Execution time: 23.962 seconds.\n",
      "lrna fee = 0.0390625, asset fee = 0.1953125, trade volume = 58196891.16187752\n",
      "returns = 919999.7384082351\n",
      "Starting simulation...\n",
      "Execution time: 24.144 seconds.\n",
      "lrna fee = 0.044444444444444446, asset fee = 0.22222222222222224, trade volume = 53419306.313844904\n",
      "returns = 897221.4695138255\n",
      "Starting simulation...\n",
      "Execution time: 23.345 seconds.\n",
      "lrna fee = 0.05017361111111111, asset fee = 0.2508680555555556, trade volume = 71756249.69327275\n",
      "returns = 948339.943888351\n",
      "Starting simulation...\n",
      "Execution time: 23.938 seconds.\n",
      "lrna fee = 0.056249999999999994, asset fee = 0.28125, trade volume = 56162769.72844208\n",
      "returns = 922172.0291546788\n",
      "Starting simulation...\n",
      "Execution time: 22.944 seconds.\n",
      "lrna fee = 0.06267361111111111, asset fee = 0.3133680555555556, trade volume = 78177308.28116146\n",
      "returns = 948972.0380118183\n",
      "Starting simulation...\n",
      "Execution time: 22.716 seconds.\n",
      "lrna fee = 0.06944444444444445, asset fee = 0.3472222222222222, trade volume = 70677344.35998641\n",
      "returns = 954265.6477128547\n",
      "Starting simulation...\n",
      "Execution time: 24.515 seconds.\n",
      "lrna fee = 0.0765625, asset fee = 0.3828125, trade volume = 77709498.01278085\n",
      "returns = 927383.5176987015\n",
      "Starting simulation...\n",
      "Execution time: 31.408 seconds.\n",
      "lrna fee = 0.08402777777777778, asset fee = 0.42013888888888895, trade volume = 72326487.04389183\n",
      "returns = 916003.9434819748\n",
      "Starting simulation...\n",
      "Execution time: 25.121 seconds.\n",
      "lrna fee = 0.09184027777777778, asset fee = 0.45920138888888895, trade volume = 79782993.51285145\n",
      "returns = 934584.4023488052\n",
      "Starting simulation...\n",
      "Execution time: 24.968 seconds.\n",
      "lrna fee = 0.1, asset fee = 0.5, trade volume = 82757261.44981268\n",
      "returns = 963539.3226962981\n"
     ]
    }
   ],
   "source": [
    "from pprint import pprint\n",
    "import pandas as pd\n",
    "import random\n",
    "import sys\n",
    "from matplotlib import pyplot as plt\n",
    "sys.path.append('../..')\n",
    "\n",
    "from model import run\n",
    "from model import plot_utils as pu\n",
    "from model import processing\n",
    "from model.amm.omnipool_amm import OmnipoolState, price, usd_price, dynamicadd_asset_fee, dynamicadd_lrna_fee, cash_out_omnipool\n",
    "from model.amm.agents import Agent\n",
    "from model.amm.trade_strategies import omnipool_arbitrage, invest_all, back_and_forth, extra_trade_volume, price_sensitive_trading\n",
    "from model.amm.global_state import GlobalState, fluctuate_prices, historical_prices\n",
    "\n",
    "assets = {\n",
    "    'HDX': {'usd price': 0.05, 'weight': 0.10},\n",
    "    'USD': {'usd price': 1, 'weight': 0.20},\n",
    "    'DOT': {'usd price': price_list[0]['DOT'], 'weight': 0.20},\n",
    "    'DOGE': {'usd price': price_list[0]['DOGE'], 'weight': 0.10},\n",
    "    'ETH': {'usd price': price_list[0]['ETH'], 'weight': 0.20},\n",
    "    'BTC': {'usd price': price_list[0]['BTC'], 'weight': 0.20}\n",
    "}\n",
    "\n",
    "lrna_price_usd = 0.07\n",
    "initial_omnipool_tvl = 10000000\n",
    "liquidity = {}\n",
    "lrna = {}\n",
    "\n",
    "for tkn, info in assets.items():\n",
    "    liquidity[tkn] = initial_omnipool_tvl * info['weight'] / info['usd price']\n",
    "    lrna[tkn] = initial_omnipool_tvl * info['weight'] / lrna_price_usd\n",
    "\n",
    "initial_state = GlobalState(\n",
    "    pools={\n",
    "        'omnipool': OmnipoolState(\n",
    "            tokens={\n",
    "                tkn: {'liquidity': liquidity[tkn], 'LRNA': lrna[tkn]} for tkn in assets\n",
    "            },\n",
    "            # oracles={'fee_raise': 50},  # , 'fee_lower': 7200},\n",
    "            lrna_fee=0,\n",
    "            asset_fee=0,\n",
    "        )\n",
    "    },\n",
    "    agents = {\n",
    "        'Trader': Agent(\n",
    "            holdings={'HDX': 1000000000, 'USD': 1000000000, 'ETH': 1000000000, 'BTC': 3000000000, 'DOGE': 3000000000, 'DOT': 1000000000, 'LRNA': 1000000000},\n",
    "            trade_strategy=omnipool_arbitrage(\n",
    "                pool_id='omnipool',\n",
    "                arb_precision=3\n",
    "            )\n",
    "        ),\n",
    "        'LP': Agent(\n",
    "            holdings={tkn: liquidity[tkn] / 10 for tkn in assets},\n",
    "            trade_strategy=invest_all('omnipool')\n",
    "        )\n",
    "    },\n",
    "    evolve_function=historical_prices(price_list),\n",
    "    external_market={tkn: assets[tkn]['usd price'] for tkn in assets},\n",
    "    archive_all = False\n",
    ")\n",
    "time_steps = len(price_list)-1\n",
    "print(f'Running with {time_steps} time steps')\n",
    "\n",
    "test_results = []\n",
    "\n",
    "def pass_along(min_value, max_value, steps, current):\n",
    "    return min_value + min(max_value - min_value, 1) * current ** 2 / (steps - 1 or 1) ** 2\n",
    "\n",
    "trade_volume=10\n",
    "for fee in [pass_along(0.0, 0.1, 25, i) for i in range(25)]:\n",
    "    random.seed(42)\n",
    "    test_state = initial_state.copy()\n",
    "    test_state.pools['omnipool'].lrna_fee = fee\n",
    "    test_state.pools['omnipool'].asset_fee = fee * 5\n",
    "    test_state.agents['Trader'].trade_strategy += extra_trade_volume('omnipool', percent_of_arb=50, percent_of_pool=1 / initial_omnipool_tvl * trade_volume )\n",
    "    events = run.run(test_state, time_steps=time_steps)\n",
    "    # print(events[-1])\n",
    "    LP_returns = cash_out_omnipool(events[-1].pools['omnipool'], events[-1].agents['LP'], events[-1].external_market)\n",
    "    total_volume=[sum(event.pools['omnipool'].volume_in.values()) + sum(event.pools['omnipool'].volume_out.values()) for event in events]\n",
    "    test_results.append((trade_volume, fee, LP_returns, total_volume))\n",
    "    print(f'lrna fee = {fee}, asset fee = {fee * 5}, trade volume = {sum(total_volume)}')\n",
    "    print(f'returns = {LP_returns}')\n",
    "    \n",
    "# events = processing.postprocessing(events, optional_params=['withdraw_val'])"
   ]
  },
  {
   "cell_type": "code",
   "execution_count": 4,
   "id": "5d56aa62-8257-473c-9a5d-b62a03cbbea4",
   "metadata": {
    "collapsed": false,
    "jupyter": {
     "outputs_hidden": false
    }
   },
   "outputs": [],
   "source": [
    "# lines = []\n",
    "# with open('./output/test_results_static_fees_dec.txt', 'r') as file:\n",
    "#     data = file.readlines()\n",
    "#     lines = [float(line [10: 20]) for line in list(filter(lambda line: line[0] == 'r', data))]\n",
    "    \n",
    "# print(len(lines))\n",
    "# print(lines)\n",
    "# test_results = [lines[i * 10: i * 10 + 10] for i in range(10)]"
   ]
  },
  {
   "cell_type": "code",
   "execution_count": 5,
   "id": "162e906b-4c20-4317-8653-d29c47cb6bf3",
   "metadata": {
    "collapsed": false,
    "jupyter": {
     "outputs_hidden": false
    }
   },
   "outputs": [],
   "source": [
    "# print(test_results[0])"
   ]
  },
  {
   "cell_type": "code",
   "execution_count": 7,
   "id": "5c32f3bd-03c6-4608-87cb-39eccf0e1ab3",
   "metadata": {
    "collapsed": false,
    "jupyter": {
     "outputs_hidden": false
    }
   },
   "outputs": [
    {
     "data": {
      "text/plain": [
       "[<matplotlib.lines.Line2D at 0x1ef81505460>]"
      ]
     },
     "execution_count": 7,
     "metadata": {},
     "output_type": "execute_result"
    },
    {
     "data": {
      "image/png": "[encoded data removed]",
      "text/plain": [
       "<Figure size 1440x360 with 1 Axes>"
      ]
     },
     "metadata": {
      "needs_background": "light"
     },
     "output_type": "display_data"
    }
   ],
   "source": [
    "colors = pu.color_gradient(25)\n",
    "plt.figure(figsize=(20, 5))\n",
    "plt.plot([result[1] * 5 for result in test_results], [result[2] for result in test_results])"
   ]
  },
  {
   "cell_type": "code",
   "execution_count": null,
   "id": "f6aa51dc-9144-4a93-a4b4-2cdf63896095",
   "metadata": {
    "collapsed": false,
    "jupyter": {
     "outputs_hidden": false
    }
   },
   "outputs": [],
   "source": [
    "for tkn in initial_state.pools['omnipool'].asset_list:\n",
    "    ax=pu.plot(events[::20], asset=tkn)\n",
    "    pu.plot(events[::20], pool='omnipool', prop='usd_price', key=tkn, subplot=ax)"
   ]
  },
  {
   "cell_type": "code",
   "execution_count": null,
   "id": "ed2bd647-7c09-4956-8402-4e55858b6492",
   "metadata": {
    "collapsed": false,
    "jupyter": {
     "outputs_hidden": false
    }
   },
   "outputs": [],
   "source": [
    "plt.figure(figsize=(20, 5))\n",
    "from model.amm.omnipool_amm import cash_out_omnipool\n",
    "plt.plot(range(len(events[::20])), [cash_out_omnipool(event.pools['omnipool'], event.agents['LP'], event.external_market) for event in events[::20]])"
   ]
  },
  {
   "cell_type": "code",
   "execution_count": null,
   "id": "65df809c-e15f-4180-ae2b-737e87b374ec",
   "metadata": {
    "collapsed": false,
    "jupyter": {
     "outputs_hidden": false
    }
   },
   "outputs": [],
   "source": [
    "import copy\n",
    "ordered_results = copy.copy(test_results)\n",
    "ordered_results.sort(key=lambda x: x[2])\n",
    "pprint([result[:3] for result in ordered_results])"
   ]
  },
  {
   "cell_type": "code",
   "execution_count": null,
   "id": "4118ee78",
   "metadata": {
    "collapsed": false,
    "jupyter": {
     "outputs_hidden": false
    }
   },
   "outputs": [],
   "source": [
    "basic_state = initial_state.copy()\n",
    "basic_state.pools['omnipool'].asset_fee=0.025\n",
    "basic_state.pools['omnipool'].lrna_fee=0.005\n",
    "\n",
    "basic_events = run.run(basic_state, time_steps=time_steps)\n"
   ]
  },
  {
   "cell_type": "code",
   "execution_count": null,
   "id": "d0549ecd-ecca-40a3-9e88-aca9fdd464d5",
   "metadata": {
    "collapsed": false,
    "jupyter": {
     "outputs_hidden": false
    }
   },
   "outputs": [],
   "source": [
    "ax=pu.plot(basic_events[::20], asset='ETH')\n",
    "pu.plot(basic_events[::20], pool='omnipool', prop='usd_price', key='ETH', subplot=ax)"
   ]
  },
  {
   "cell_type": "code",
   "execution_count": null,
   "id": "54e99aa8-f324-4fc6-b432-39aa4a0b9216",
   "metadata": {
    "collapsed": false,
    "jupyter": {
     "outputs_hidden": false
    }
   },
   "outputs": [],
   "source": [
    "plt.figure(figsize=(20, 5))\n",
    "LP_holdings = [cash_out_omnipool(event.pools['omnipool'], event.agents['LP'], event.external_market) for event in basic_events[::20]]\n",
    "\n",
    "\n",
    "plt.plot(range(len(LP_holdings)), LP_holdings)\n"
   ]
  },
  {
   "cell_type": "code",
   "execution_count": null,
   "id": "0e6a2057-8fb5-4be3-8759-b14728f80f4a",
   "metadata": {
    "collapsed": false,
    "jupyter": {
     "outputs_hidden": false
    }
   },
   "outputs": [],
   "source": [
    "print([result[1] for result in test_results])\n",
    "plt.figure(figsize=(20, 5))\n",
    "plt.plot([result[1] for result in test_results], [sum(result[3]) * result[1] for result in test_results])\n",
    "# plt.yscale('log')"
   ]
  },
  {
   "cell_type": "code",
   "execution_count": null,
   "id": "4e194fca-e1e3-4115-9800-85982ed787a7",
   "metadata": {
    "collapsed": false,
    "jupyter": {
     "outputs_hidden": false
    }
   },
   "outputs": [],
   "source": [
    "plt.figure(figsize=(20, 5))\n",
    "LP_holdings1 = [cash_out_omnipool(event.pools['omnipool'], event.agents['LP'], event.external_market) for event in events[::20]]\n",
    "LP_holdings2 = [cash_out_omnipool(event.pools['omnipool'], event.agents['LP'], event.external_market) for event in events2[::20]]\n",
    "LP_holdings3 = [cash_out_omnipool(event.pools['omnipool'], event.agents['LP'], event.external_market) for event in events3[::20]]\n",
    "\n",
    "plt.plot(range(len(LP_holdings1)), LP_holdings1)\n",
    "plt.plot(range(len(LP_holdings2)), LP_holdings2)\n",
    "plt.plot(range(len(LP_holdings2)), LP_holdings3)\n",
    "plt.title('basic fees (blue) vs best tested parameters (orange) vs worst tested parameters (green)')"
   ]
  },
  {
   "cell_type": "code",
   "execution_count": null,
   "id": "a4e7f468-ebbd-4d3e-b7d9-ba8fa40d61d6",
   "metadata": {
    "collapsed": false,
    "jupyter": {
     "outputs_hidden": false
    }
   },
   "outputs": [],
   "source": [
    "print(test_results[1])\n",
    "\n"
   ]
  },
  {
   "cell_type": "code",
   "execution_count": null,
   "id": "3c764e4e-5a32-48b6-af6a-542b2928421e",
   "metadata": {
    "collapsed": false,
    "jupyter": {
     "outputs_hidden": false
    }
   },
   "outputs": [],
   "source": [
    "random.seed(42)\n",
    "basic_state2 = initial_state.copy()\n",
    "basic_state2.pools['omnipool'].asset_fee=0.0025\n",
    "basic_state2.pools['omnipool'].lrna_fee=0.0005\n",
    "\n",
    "events4=run.run(basic_state2, time_steps=time_steps)\n",
    "LP_holdings4 = [cash_out_omnipool(event.pools['omnipool'], event.agents['LP'], event.external_market) for event in events4[::20]]\n"
   ]
  },
  {
   "cell_type": "code",
   "execution_count": null,
   "id": "ad103b58-0f77-40de-9fa1-3e1bab7b6d3e",
   "metadata": {
    "collapsed": false,
    "jupyter": {
     "outputs_hidden": false
    }
   },
   "outputs": [],
   "source": [
    "random.seed(42)\n",
    "basic_state3 = initial_state.copy()\n",
    "basic_state3.pools['omnipool'].asset_fee=0.0025\n",
    "basic_state3.pools['omnipool'].lrna_fee=0.0005\n",
    "\n",
    "events5=run.run(basic_state3, time_steps=time_steps)\n",
    "LP_holdings5 = [cash_out_omnipool(event.pools['omnipool'], event.agents['LP'], event.external_market) for event in events5[::20]]\n"
   ]
  },
  {
   "cell_type": "code",
   "execution_count": null,
   "id": "0f7c8e1b-be71-4907-b3d7-8faa79bb964b",
   "metadata": {},
   "outputs": [],
   "source": [
    "\n",
    "print(LP_holdings1[-1])\n",
    "print(LP_holdings2[-1])\n",
    "print(LP_holdings3[-1])\n",
    "print(LP_holdings4[-1])\n",
    "print(LP_holdings5[-1])\n"
   ]
  },
  {
   "cell_type": "code",
   "execution_count": null,
   "id": "cb1658cb-5c08-4174-97e3-0bf8682d6e02",
   "metadata": {},
   "outputs": [],
   "source": [
    "# print(events[0], events[1000])"
   ]
  },
  {
   "cell_type": "code",
   "execution_count": null,
   "id": "4d1d563e-f6d0-4c9b-a107-baea1b2f727a",
   "metadata": {},
   "outputs": [],
   "source": [
    "print(winning_state, losing_state)"
   ]
  },
  {
   "cell_type": "code",
   "execution_count": null,
   "id": "c17704e2-c722-4da8-8bf9-c1151ec2d317",
   "metadata": {},
   "outputs": [],
   "source": [
    "pu.plot(events, asset='DOGE')"
   ]
  },
  {
   "cell_type": "code",
   "execution_count": null,
   "id": "3d8d486c-2244-4b91-9dcc-9f2707f64cee",
   "metadata": {},
   "outputs": [],
   "source": [
    "ax = pu.plot(events, pool='omnipool', oracle='fee_raise', prop='volume_in', key='DOT')\n",
    "pu.plot(events2, pool='omnipool', oracle='fee_raise', prop='volume_in', key='DOT', subplot=ax)"
   ]
  },
  {
   "cell_type": "code",
   "execution_count": null,
   "id": "966d9b25-940e-4f7f-a245-cd64d6969b10",
   "metadata": {},
   "outputs": [],
   "source": [
    "print(test_results[0])\n",
    "print(test_results[-1])"
   ]
  },
  {
   "cell_type": "code",
   "execution_count": null,
   "id": "c43c1e42-7fb5-42d6-b91d-5e9a43194584",
   "metadata": {},
   "outputs": [],
   "source": [
    "volume_out_usd = [event.pools['omnipool'].oracles['fee_raise'].price['USD'] for event in events3]\n",
    "plt.plot(range(len(volume_out_usd)), volume_out_usd)"
   ]
  },
  {
   "cell_type": "code",
   "execution_count": null,
   "id": "7f1a61cc-a144-47a0-8241-f9df2cbc269f",
   "metadata": {},
   "outputs": [],
   "source": [
    "reverse_price_list = list(reversed(processing.import_binance_prices(assets=['DOT', 'ETH', 'BTC', 'DOGE'], start_date='Nov 1 2022', days=30)))\n",
    "reverse_basic_state = initial_state.copy()\n",
    "reverse_basic_state._evolve_function=historical_prices(reverse_price_list)\n",
    "reverse_basic_events = run.run(reverse_basic_state, time_steps = time_steps)\n",
    "\n",
    "reverse_state = reverse_basic_state.copy()\n",
    "reverse_state.pools['omnipool'].lrna_fee = dynamicadd_lrna_fee(\n",
    "    minimum=0.0005,\n",
    "    amplification=test_results[-1].lrna_amp,\n",
    "    raise_oracle_name='fee_raise',\n",
    "    decay=test_results[-1].lrna_decay,\n",
    "    fee_max=test_results[-1].lrna_max,\n",
    ")\n",
    "reverse_state.pools['omnipool'].asset_fee = dynamicadd_asset_fee(\n",
    "    minimum=0.0025,\n",
    "    amplification=test_results[-1].asset_amp,\n",
    "    raise_oracle_name='fee_raise',\n",
    "    decay=test_results[-1].asset_decay,\n",
    "    fee_max=test_results[-1].asset_max,\n",
    ")\n",
    "reverse_state.pools['omnipool'].oracles['fee_raise'].decay_factor = 2 / (test_results[-1].oracle_length + 1)\n",
    "reverse_events = run.run(reverse_state, time_steps = time_steps)\n",
    "\n",
    "worst_reverse_state = reverse_state.copy()\n",
    "worst_reverse_state.pools['omnipool'].lrna_fee = dynamicadd_lrna_fee(\n",
    "    minimum=0.0005,\n",
    "    amplification=test_results[0].lrna_amp,\n",
    "    raise_oracle_name='fee_raise',\n",
    "    decay=test_results[0].lrna_decay,\n",
    "    fee_max=test_results[0].lrna_max,\n",
    ")\n",
    "worst_reverse_state.pools['omnipool'].asset_fee = dynamicadd_asset_fee(\n",
    "    minimum=0.0025,\n",
    "    amplification=test_results[0].asset_amp,\n",
    "    raise_oracle_name='fee_raise',\n",
    "    decay=test_results[0].asset_decay,\n",
    "    fee_max=test_results[0].asset_max,\n",
    ")\n",
    "worst_reverse_state.pools['omnipool'].oracles['fee_raise'].decay_factor = 2 / (test_results[-1].oracle_length + 1)\n",
    "worst_reverse_events = run.run(worst_reverse_state, time_steps = time_steps)\n"
   ]
  },
  {
   "cell_type": "code",
   "execution_count": null,
   "id": "bde65c92-af1f-4a2e-8462-7bf17687dbd5",
   "metadata": {},
   "outputs": [],
   "source": [
    "reverse_LP_holdings = [cash_out_omnipool(event.pools['omnipool'], event.agents['LP'], event.external_market) for event in reverse_events[::20]]\n",
    "worst_reverse_LP_holdings = [cash_out_omnipool(event.pools['omnipool'], event.agents['LP'], event.external_market) for event in worst_reverse_events[::20]]\n",
    "reverse_basic_LP_holdings = [cash_out_omnipool(event.pools['omnipool'], event.agents['LP'], event.external_market) for event in reverse_basic_events[::20]]\n",
    "plt.figure(figsize=(20, 5))\n",
    "plt.plot(range(len(reverse_LP_holdings)), reverse_basic_LP_holdings)\n",
    "plt.plot(range(len(reverse_LP_holdings)), reverse_LP_holdings)\n",
    "plt.plot(range(len(reverse_LP_holdings)), worst_reverse_LP_holdings)\n",
    "plt.title('basic fees (blue) vs best tested parameters (orange) vs worst tested parameters (green) with price movement reversed')"
   ]
  },
  {
   "cell_type": "code",
   "execution_count": null,
   "id": "617ac272-17c2-42a7-ba05-d8951b7c0f9a",
   "metadata": {},
   "outputs": [],
   "source": [
    "plt.figure(figsize=(20, 5))\n",
    "plt.plot(range(len(price_list)), [price_list[i]['ETH'] for i in range(len(price_list))])\n",
    "plt.plot(range(len(price_list)), [reverse_price_list[i]['ETH'] for i in range(len(price_list))])\n",
    "plt.title('two different, opposite price runs')"
   ]
  },
  {
   "cell_type": "code",
   "execution_count": null,
   "id": "31c91b19-c357-459e-b0ff-d7468c11a63e",
   "metadata": {},
   "outputs": [],
   "source": [
    "pu.plot(reverse_events, asset='ETH')"
   ]
  },
  {
   "cell_type": "code",
   "execution_count": null,
   "id": "3774e505-2459-46f3-8453-8d4e17d75b82",
   "metadata": {},
   "outputs": [],
   "source": [
    "pu.plot(reverse_events[::100], agent='Trader', prop='holdings', key='ETH')"
   ]
  },
  {
   "cell_type": "code",
   "execution_count": null,
   "id": "bc4991cc-9573-4e2d-8e8e-765a1c762b85",
   "metadata": {},
   "outputs": [],
   "source": [
    "oracle = [event.pools['omnipool'].oracles['fee_raise'].volume_in['ETH'] for event in reverse_events][:100]\n",
    "plt.plot(range(len(oracle)), oracle)"
   ]
  },
  {
   "cell_type": "code",
   "execution_count": null,
   "id": "f1a471c7-edc4-49b8-896e-aee31c0e7222",
   "metadata": {},
   "outputs": [],
   "source": [
    "pu.plot(reverse_events[::20], pool='omnipool', prop='last_fee')\n",
    "pu.plot(reverse_events[::20], pool='omnipool', prop='last_lrna_fee')\n",
    "\n",
    "pu.plot(events2[::20], pool='omnipool', prop='last_fee')\n",
    "pu.plot(events2[::20], pool='omnipool', prop='last_lrna_fee')\n"
   ]
  },
  {
   "cell_type": "code",
   "execution_count": null,
   "id": "c60f5b14-e336-485a-b474-67d6a27e1402",
   "metadata": {},
   "outputs": [],
   "source": [
    "print('hi')\n"
   ]
  },
  {
   "cell_type": "code",
   "execution_count": null,
   "id": "d6b66541-b5be-45c6-b75e-cb68854081b7",
   "metadata": {},
   "outputs": [],
   "source": []
  },
  {
   "cell_type": "code",
   "execution_count": null,
   "id": "d6b6fffe-9ca7-4720-9fcd-fd26a3816824",
   "metadata": {},
   "outputs": [],
   "source": [
    "print(events2[0])\n"
   ]
  },
  {
   "cell_type": "code",
   "execution_count": null,
   "id": "17a8e2d0-0308-4db5-8065-454bbf07d8af",
   "metadata": {},
   "outputs": [],
   "source": [
    "no_archive_state = basic_state.copy()\n",
    "no_archive_state.archive_all = True\n",
    "short_events_1 = run.run(no_archive_state, time_steps = 1)\n",
    "short_events_2 = run.run(no_archive_state, time_steps = 1)\n",
    "short_events_3 = run.run(no_archive_state, time_steps = 1)\n",
    "short_events_4 = run.run(no_archive_state, time_steps = 1)\n"
   ]
  },
  {
   "cell_type": "code",
   "execution_count": null,
   "id": "a1594f43-bf55-48a1-bef6-ab917e9b3a50",
   "metadata": {},
   "outputs": [],
   "source": [
    "print(repr(short_events_1[0]) == repr(short_events_2[0]))\n",
    "print(short_events_1[0])\n",
    "print(short_events_2[0])\n",
    "# state1 = repr(short_events_1[0])\n",
    "# state2 = repr(short_events_2[0])\n",
    "# for i, char in enumerate(state1):\n",
    "#     if char != state2[i]:\n",
    "#         print(char)\n"
   ]
  },
  {
   "cell_type": "code",
   "execution_count": null,
   "id": "f278ba9c-ad40-4c6e-868d-4ac5f0f13f15",
   "metadata": {},
   "outputs": [],
   "source": []
  }
 ],
 "metadata": {
  "kernelspec": {
   "display_name": "Python 3 (ipykernel)",
   "language": "python",
   "name": "python3"
  },
  "language_info": {
   "codemirror_mode": {
    "name": "ipython",
    "version": 3
   },
   "file_extension": ".py",
   "mimetype": "text/x-python",
   "name": "python",
   "nbconvert_exporter": "python",
   "pygments_lexer": "ipython3",
   "version": "3.9.7"
  }
 },
 "nbformat": 4,
 "nbformat_minor": 5
}
