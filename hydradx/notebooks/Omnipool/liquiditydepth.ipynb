{
 "cells": [
  {
   "cell_type": "code",
   "execution_count": 33,
   "id": "initial_id",
   "metadata": {
    "collapsed": true,
    "ExecuteTime": {
     "end_time": "2023-12-11T09:48:42.013734069Z",
     "start_time": "2023-12-11T09:48:41.989457945Z"
    }
   },
   "outputs": [],
   "source": [
    "from hydradx.model.processing import get_omnipool_data, get_binance_orderbook\n",
    "from hydradx.model.amm.omnipool_amm import OmnipoolState\n",
    "from hydradx.model.amm.centralized_market import CentralizedMarket\n",
    "from hydradx.model.amm.agents import Agent\n",
    "\n",
    "\n",
    "from pprint import pprint\n",
    "\n",
    "from hydradxapi import HydraDX\n"
   ]
  },
  {
   "cell_type": "code",
   "execution_count": 34,
   "outputs": [],
   "source": [
    "\n",
    "RPC=\"wss://rpc.hydradx.cloud\"\n",
    "            \n",
    "asset_list, asset_map, tokens, fees = get_omnipool_data(RPC, archive=False)\n",
    "\n"
   ],
   "metadata": {
    "collapsed": false,
    "ExecuteTime": {
     "end_time": "2023-12-11T09:49:02.643324859Z",
     "start_time": "2023-12-11T09:48:42.014386726Z"
    }
   },
   "id": "c6164b8fd95ca03b"
  },
  {
   "cell_type": "code",
   "execution_count": 35,
   "outputs": [
    {
     "name": "stdout",
     "output_type": "stream",
     "text": [
      "OrderBook(bids=SortedList([[6.721, 737.16], [6.72, 1126.65], [6.719, 576.37], [6.718, 2154.57], [6.717, 2919.88], [6.716, 2167.22], [6.715, 2216.47], [6.714, 7141.17], [6.713, 1082.04], [6.712, 1408.45], [6.711, 3885.65], [6.71, 1072.23], [6.709, 2500.47], [6.708, 6917.97], [6.707, 2889.95], [6.706, 2822.65], [6.705, 2146.52], [6.704, 2615.42], [6.703, 9520.52], [6.702, 640.44], [6.701, 454.05], [6.7, 4491.26], [6.699, 1377.04], [6.698, 3.17], [6.697, 11.23], [6.696, 5312.36], [6.695, 50.77], [6.694, 1460.37], [6.693, 20.52], [6.692, 7.06], [6.691, 12.85], [6.69, 19.87], [6.688, 311.41], [6.687, 285.68], [6.686, 4.44], [6.685, 27.87], [6.684, 14.87], [6.682, 5.89], [6.681, 464.22], [6.68, 49.15], [6.679, 2.62], [6.678, 12.68], [6.677, 2796.73], [6.676, 11.15], [6.675, 39.19], [6.674, 56.03], [6.673, 260.23], [6.672, 9.89], [6.671, 2.32], [6.67, 78.83], [6.669, 4.54], [6.668, 205.32], [6.667, 1164.66], [6.666, 75.6], [6.664, 32.48], [6.662, 6.23], [6.661, 4.24], [6.66, 82.78], [6.659, 741.85], [6.658, 57.47], [6.657, 7.73], [6.656, 475.95], [6.655, 913.61], [6.654, 6.02], [6.653, 26.65], [6.652, 57.94], [6.651, 20.35], [6.65, 633.94], [6.649, 23.95], [6.648, 1407.81], [6.647, 4.22], [6.646, 1.13], [6.645, 13.73], [6.644, 66.89], [6.643, 155.85], [6.642, 31.39], [6.641, 8.24], [6.64, 3638.75], [6.639, 12.6], [6.638, 6.67], [6.637, 12.16], [6.636, 22.19], [6.635, 6.54], [6.634, 1.19], [6.633, 155.78], [6.632, 23.8], [6.631, 361.49], [6.63, 28.4], [6.628, 17.06], [6.627, 13.88], [6.626, 5.68], [6.625, 19.55], [6.624, 7.48], [6.623, 1.93], [6.622, 84.89], [6.621, 7.28], [6.62, 130.31], [6.619, 5.54], [6.618, 29.99], [6.617, 10.94]]), asks=SortedList([[6.722, 169.22], [6.723, 1098.0], [6.724, 658.57], [6.725, 1069.48], [6.726, 2777.72], [6.727, 2198.8], [6.728, 2893.8], [6.729, 1453.87], [6.73, 2836.53], [6.731, 4261.19], [6.732, 973.12], [6.733, 881.99], [6.734, 182.57], [6.735, 1392.69], [6.736, 235.25], [6.737, 227.8], [6.738, 5251.98], [6.739, 4068.77], [6.74, 2940.33], [6.741, 1150.45], [6.742, 775.73], [6.743, 343.94], [6.744, 782.41], [6.745, 2172.62], [6.746, 488.72], [6.747, 631.69], [6.748, 838.14], [6.749, 6.2], [6.75, 8.68], [6.751, 468.43], [6.752, 165.66], [6.753, 749.81], [6.754, 568.75], [6.755, 293.47], [6.756, 853.47], [6.757, 96.39], [6.758, 7184.96], [6.76, 122.07], [6.761, 75.92], [6.762, 1.19], [6.763, 10.94], [6.764, 164.14], [6.765, 394.28], [6.766, 505.01], [6.767, 8.36], [6.769, 209.11], [6.77, 35.77], [6.771, 60.67], [6.772, 1359.97], [6.773, 50.35], [6.774, 3.21], [6.775, 18.52], [6.776, 4.61], [6.777, 50.0], [6.778, 3.07], [6.779, 5.76], [6.78, 42.5], [6.781, 22.24], [6.782, 13.76], [6.783, 80.41], [6.784, 128.95], [6.785, 15.58], [6.786, 22.7], [6.787, 46.35], [6.788, 120.8], [6.789, 11.56], [6.79, 90.98], [6.791, 12.02], [6.792, 4.36], [6.793, 1.44], [6.794, 2.39], [6.795, 70.92], [6.797, 151.7], [6.798, 5.83], [6.799, 62.28], [6.8, 266.07], [6.801, 111.7], [6.802, 5.57], [6.803, 94.7], [6.804, 137.64], [6.805, 264.41], [6.806, 41.65], [6.807, 51.32], [6.808, 34.46], [6.809, 14.16], [6.81, 42.25], [6.811, 2.5], [6.812, 5.1], [6.813, 75.38], [6.814, 6.54], [6.815, 113.1], [6.816, 66.48], [6.817, 933.46], [6.818, 405.81], [6.819, 1.51], [6.82, 1514.6], [6.821, 17.14], [6.822, 9.67], [6.823, 12.51], [6.824, 24.66]]))\n"
     ]
    }
   ],
   "source": [
    "binance_ob = get_binance_orderbook((\"DOT\", \"USDT\"), archive=False)\n",
    "pprint(binance_ob)\n",
    "cex = CentralizedMarket(\n",
    "    order_book={('DOT', 'USDT'): binance_ob},\n",
    "    asset_list=[\"DOT\", \"USDT\"]\n",
    ")"
   ],
   "metadata": {
    "collapsed": false,
    "ExecuteTime": {
     "end_time": "2023-12-11T09:49:03.051182910Z",
     "start_time": "2023-12-11T09:49:02.655995460Z"
    }
   },
   "id": "de40e2fc88fe157a"
  },
  {
   "cell_type": "code",
   "execution_count": 36,
   "outputs": [
    {
     "name": "stdout",
     "output_type": "stream",
     "text": [
      "Omnipool: omnipool\n",
      "********************************\n",
      "tvl cap: inf\n",
      "lrna fee:\n",
      "\n",
      "    USDT: 0%\n",
      "    DOT: 0%\n",
      "    HDX: 0%\n",
      "\n",
      "asset fee:\n",
      "\n",
      "    USDT: 0%\n",
      "    DOT: 0%\n",
      "    HDX: 0%\n",
      "\n",
      "asset pools: (\n",
      "\n",
      "    *USDT*\n",
      "    asset quantity: 12409270.495458392\n",
      "    lrna quantity: 384617.7888660239\n",
      "    USD price: 1.0\n",
      "    tvl: $12409270.495458392\n",
      "    weight: 384617.7888660239/491586.48339881696 (0.7824010664548502)\n",
      "    weight cap: 1\n",
      "    total shares: 12409270.495458392\n",
      "    protocol shares: 12409270.495458392\n",
      "\n",
      "    *DOT*\n",
      "    asset quantity: 410871.8244283416\n",
      "    lrna quantity: 85596.43535107125\n",
      "    USD price: 6.7215\n",
      "    tvl: $2761674.9678950985\n",
      "    weight: 85596.43535107125/491586.48339881696 (0.17412284153799265)\n",
      "    weight cap: 1\n",
      "    total shares: 410871.8244283416\n",
      "    protocol shares: 410871.8244283416\n",
      "\n",
      "    *HDX*\n",
      "    asset quantity: 106629636.37322374\n",
      "    lrna quantity: 21372.25918172182\n",
      "    USD price: 0.006466799389\n",
      "    tvl: $689552.4673129818\n",
      "    weight: 21372.25918172182/491586.48339881696 (0.0434760920071572)\n",
      "    weight cap: 1\n",
      "    total shares: 106629636.37322374\n",
      "    protocol shares: 106629636.37322374\n",
      "\n",
      ")\n",
      "sub pools: (\n",
      "\n",
      "    \n",
      ")\n",
      "oracles: (\n",
      "    name: price\n",
      "    length: 19\n",
      ")\n",
      "\n",
      "error message: None\n"
     ]
    }
   ],
   "source": [
    "cex_spot = (cex.order_book[('DOT', 'USDT')].bids[0][0] + cex.order_book[('DOT', 'USDT')].asks[0][0]) / 2\n",
    "\n",
    "\n",
    "usdt_data = tokens[\"USDT\"]\n",
    "usd_scale = 5\n",
    "overall_scale = 1\n",
    "usdt_lrna = usdt_data['LRNA'] * usd_scale * overall_scale\n",
    "dot_liquidity = tokens['DOT']['liquidity'] * overall_scale\n",
    "dot_lrna = tokens['DOT']['LRNA'] * overall_scale\n",
    "usdt_liquidity = cex_spot * usdt_lrna * dot_liquidity / dot_lrna\n",
    "usdt_data_up = {'LRNA': usdt_lrna, 'liquidity': usdt_liquidity}\n",
    "hdx_data = {'LRNA': tokens['HDX']['LRNA'] * overall_scale, 'liquidity': tokens['HDX']['liquidity'] * overall_scale}\n",
    "dot_data = {'LRNA': dot_lrna, 'liquidity': dot_liquidity}\n",
    "\n",
    "op_state = OmnipoolState(\n",
    "    tokens={\"USDT\": usdt_data_up, \"DOT\": dot_data, \"HDX\": hdx_data},\n",
    "    preferred_stablecoin=\"USDT\",\n",
    ")\n",
    "\n",
    "    \n",
    "pprint(op_state)"
   ],
   "metadata": {
    "collapsed": false,
    "ExecuteTime": {
     "end_time": "2023-12-11T09:49:03.111697807Z",
     "start_time": "2023-12-11T09:49:03.066241130Z"
    }
   },
   "id": "a9a6349276b30b04"
  },
  {
   "cell_type": "code",
   "execution_count": 42,
   "outputs": [
    {
     "name": "stdout",
     "output_type": "stream",
     "text": [
      "6.721500000000001\n",
      "6.721500000000001\n",
      "(6.721, 6.722)\n",
      "0.0001487873828299857\n"
     ]
    }
   ],
   "source": [
    "op_spot = op_state.price(op_state, \"DOT\", \"USDT\")\n",
    "pprint(op_spot)\n",
    "pprint(cex_spot)\n",
    "pprint((cex.order_book[('DOT', 'USDT')].bids[0][0],cex.order_book[('DOT', 'USDT')].asks[0][0]))\n",
    "pprint((cex.order_book[('DOT', 'USDT')].asks[0][0] - cex.order_book[('DOT', 'USDT')].bids[0][0])/cex.order_book[('DOT', 'USDT')].bids[0][0])"
   ],
   "metadata": {
    "collapsed": false,
    "ExecuteTime": {
     "end_time": "2023-12-11T09:51:16.529200461Z",
     "start_time": "2023-12-11T09:51:16.506019744Z"
    }
   },
   "id": "6ec44c5cafc0d74b"
  },
  {
   "cell_type": "code",
   "execution_count": 43,
   "outputs": [
    {
     "name": "stdout",
     "output_type": "stream",
     "text": [
      "10\n",
      "6.721559510142779\n",
      "100\n",
      "6.7220951132826405\n",
      "1000\n",
      "6.72745231831225\n",
      "'DEX'\n",
      "[1.4877565614879131, 14.87697290070355, 148.71048305742443]\n",
      "'CEX'\n",
      "[1.4876524843275547, 14.876524843275547, 148.7652484383434]\n"
     ]
    }
   ],
   "source": [
    "agent = Agent(holdings={\"USDT\": 10000000, \"DOT\": 10000000})\n",
    "trade_size_list = [10, 100, 1000]\n",
    "dot_out_cex = []\n",
    "dot_out_dex = []\n",
    "for trade_size in trade_size_list:\n",
    "    temp_op_state = op_state.copy()\n",
    "    temp_cex_state = cex.copy()\n",
    "    temp_agent1 = agent.copy()\n",
    "    temp_agent2 = agent.copy()\n",
    "    temp_op_state.swap(temp_agent1, tkn_buy=\"DOT\", tkn_sell=\"USDT\", sell_quantity=trade_size)\n",
    "    temp_cex_state.swap(temp_agent2, tkn_buy=\"DOT\", tkn_sell=\"USDT\", sell_quantity=trade_size)\n",
    "    dot_out_dex.append(temp_agent1.holdings[\"DOT\"] - agent.holdings[\"DOT\"])\n",
    "    dot_out_cex.append(temp_agent2.holdings[\"DOT\"] - agent.holdings[\"DOT\"])\n",
    "    pprint(trade_size)\n",
    "    pprint(temp_op_state.price(temp_op_state, \"DOT\", \"USDT\"))\n",
    "    \n",
    "pprint(\"DEX\")\n",
    "pprint(dot_out_dex)\n",
    "pprint(\"CEX\")\n",
    "pprint(dot_out_cex)"
   ],
   "metadata": {
    "collapsed": false,
    "ExecuteTime": {
     "end_time": "2023-12-11T09:52:01.430975235Z",
     "start_time": "2023-12-11T09:52:01.416594469Z"
    }
   },
   "id": "fe94206ea0bd98b6"
  },
  {
   "cell_type": "code",
   "execution_count": 39,
   "outputs": [
    {
     "name": "stdout",
     "output_type": "stream",
     "text": [
      "Omnipool: omnipool\n",
      "********************************\n",
      "tvl cap: inf\n",
      "lrna fee:\n",
      "\n",
      "    USDT: 0%\n",
      "    DOT: 0%\n",
      "    HDX: 0%\n",
      "\n",
      "asset fee:\n",
      "\n",
      "    USDT: 0%\n",
      "    DOT: 0%\n",
      "    HDX: 0%\n",
      "\n",
      "asset pools: (\n",
      "\n",
      "    *USDT*\n",
      "    asset quantity: 12410270.495458392\n",
      "    lrna quantity: 384586.7969719305\n",
      "    USD price: 1.0\n",
      "    tvl: $12410270.495458392\n",
      "    weight: 384586.7969719305/491586.483398817 (0.782338021812371)\n",
      "    weight cap: 1\n",
      "    total shares: 12409270.495458392\n",
      "    protocol shares: 12409270.495458392\n",
      "\n",
      "    *DOT*\n",
      "    asset quantity: 410723.1139452834\n",
      "    lrna quantity: 85627.42724516468\n",
      "    USD price: 6.727452318312\n",
      "    tvl: $2763120.165095623\n",
      "    weight: 85627.42724516468/491586.483398817 (0.1741858861804717)\n",
      "    weight cap: 1\n",
      "    total shares: 410871.8244283416\n",
      "    protocol shares: 410871.8244283416\n",
      "\n",
      "    *HDX*\n",
      "    asset quantity: 106629636.37322374\n",
      "    lrna quantity: 21372.25918172182\n",
      "    USD price: 0.006467841684\n",
      "    tvl: $689663.6068439202\n",
      "    weight: 21372.25918172182/491586.483398817 (0.04347609200715719)\n",
      "    weight cap: 1\n",
      "    total shares: 106629636.37322374\n",
      "    protocol shares: 106629636.37322374\n",
      "\n",
      ")\n",
      "sub pools: (\n",
      "\n",
      "    \n",
      ")\n",
      "oracles: (\n",
      "    name: price\n",
      "    length: 19\n",
      ")\n",
      "\n",
      "error message: None\n"
     ]
    }
   ],
   "source": [
    "pprint(temp_op_state)"
   ],
   "metadata": {
    "collapsed": false,
    "ExecuteTime": {
     "end_time": "2023-12-11T09:49:03.149999639Z",
     "start_time": "2023-12-11T09:49:03.093118600Z"
    }
   },
   "id": "6246b6285aeb50a1"
  },
  {
   "cell_type": "code",
   "execution_count": 39,
   "outputs": [],
   "source": [],
   "metadata": {
    "collapsed": false,
    "ExecuteTime": {
     "end_time": "2023-12-11T09:49:03.150416565Z",
     "start_time": "2023-12-11T09:49:03.140359330Z"
    }
   },
   "id": "eef56818ac22446a"
  }
 ],
 "metadata": {
  "kernelspec": {
   "display_name": "Python 3",
   "language": "python",
   "name": "python3"
  },
  "language_info": {
   "codemirror_mode": {
    "name": "ipython",
    "version": 2
   },
   "file_extension": ".py",
   "mimetype": "text/x-python",
   "name": "python",
   "nbconvert_exporter": "python",
   "pygments_lexer": "ipython2",
   "version": "2.7.6"
  }
 },
 "nbformat": 4,
 "nbformat_minor": 5
}
