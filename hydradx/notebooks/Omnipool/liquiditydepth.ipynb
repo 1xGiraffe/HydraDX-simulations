{
 "cells": [
  {
   "cell_type": "code",
   "execution_count": 143,
   "id": "initial_id",
   "metadata": {
    "collapsed": true,
    "ExecuteTime": {
     "end_time": "2023-12-13T15:11:04.521006020Z",
     "start_time": "2023-12-13T15:11:04.449430665Z"
    }
   },
   "outputs": [],
   "source": [
    "from hydradx.model.processing import get_omnipool_data, get_binance_orderbook\n",
    "from hydradx.model.amm.omnipool_amm import OmnipoolState\n",
    "from hydradx.model.amm.centralized_market import CentralizedMarket\n",
    "from hydradx.model.amm.agents import Agent\n",
    "\n",
    "import matplotlib.pyplot as plt\n",
    "\n",
    "from pprint import pprint\n",
    "from mpmath import mpf, mp\n",
    "mp.dps = 50\n",
    "\n",
    "from hydradxapi import HydraDX\n"
   ]
  },
  {
   "cell_type": "code",
   "execution_count": 144,
   "outputs": [],
   "source": [
    "\n",
    "RPC=\"wss://rpc.hydradx.cloud\"\n",
    "            \n",
    "asset_list, asset_map, tokens, fees = get_omnipool_data(RPC, archive=False)\n",
    "\n"
   ],
   "metadata": {
    "collapsed": false,
    "ExecuteTime": {
     "end_time": "2023-12-13T15:11:12.360128686Z",
     "start_time": "2023-12-13T15:11:04.477955018Z"
    }
   },
   "id": "c6164b8fd95ca03b"
  },
  {
   "cell_type": "code",
   "execution_count": 145,
   "outputs": [
    {
     "name": "stdout",
     "output_type": "stream",
     "text": [
      "OrderBook(bids=SortedList([[7.029, 73.98], [7.027, 542.58], [7.026, 846.07], [7.025, 579.93], [7.024, 1488.63], [7.023, 1192.21], [7.022, 565.85], [7.021, 430.21], [7.02, 817.85], [7.019, 231.49], [7.018, 2202.59], [7.017, 1604.83], [7.016, 35.66], [7.015, 2478.63], [7.014, 487.81], [7.013, 347.97], [7.012, 459.87], [7.011, 714.72], [7.01, 559.97], [7.009, 1282.93], [7.008, 1.11], [7.007, 740.14], [7.006, 517.5], [7.005, 3332.62], [7.004, 72.43], [7.003, 1034.79], [7.001, 2171.18], [7.0, 2206.68], [6.999, 829.28], [6.998, 118.4], [6.997, 73.76], [6.996, 445.96], [6.995, 3439.63], [6.994, 428.91], [6.993, 3936.46], [6.992, 98.14], [6.991, 106.05], [6.99, 3800.41], [6.989, 1013.01], [6.988, 276.14], [6.987, 260.57], [6.986, 478.84], [6.985, 453.85], [6.984, 313.21], [6.983, 3.05], [6.982, 73.5], [6.981, 37.03], [6.98, 976.21], [6.979, 7060.47], [6.978, 0.83], [6.977, 1.99], [6.976, 4.91], [6.975, 12.14], [6.974, 3.29], [6.972, 1.2], [6.971, 4072.19], [6.97, 602.79], [6.969, 2173.62], [6.968, 1443.38], [6.967, 1.04], [6.966, 20.54], [6.965, 3.52], [6.964, 152.62], [6.963, 30.88], [6.962, 21.7], [6.961, 11.49], [6.96, 25.16], [6.959, 20.87], [6.958, 3.73], [6.957, 6.4], [6.956, 31.93], [6.955, 2734.19], [6.954, 9.86], [6.953, 12.91], [6.952, 5.92], [6.951, 1.12], [6.95, 27.31], [6.949, 161.25], [6.948, 5.36], [6.947, 8.75], [6.946, 65.86], [6.945, 28.86], [6.944, 515.0], [6.943, 1.89], [6.942, 267.43], [6.941, 12.23], [6.94, 30.35], [6.939, 3.88], [6.938, 7.87], [6.937, 489.52], [6.936, 12.17], [6.935, 67.8], [6.934, 82.29], [6.933, 7.62], [6.932, 4.09], [6.931, 4.3], [6.93, 20.4], [6.929, 2.9], [6.928, 424.98], [6.927, 6.41]]), asks=SortedList([[7.03, 342.64], [7.031, 286.97], [7.032, 126.07], [7.033, 102.54], [7.034, 1481.43], [7.035, 2192.23], [7.036, 343.86], [7.037, 558.28], [7.038, 833.34], [7.039, 2037.01], [7.04, 3073.51], [7.041, 656.87], [7.042, 330.73], [7.043, 34.42], [7.044, 586.2], [7.045, 657.38], [7.046, 4075.96], [7.047, 308.57], [7.048, 726.57], [7.049, 1097.94], [7.05, 4553.81], [7.051, 1507.14], [7.052, 88.72], [7.053, 1301.43], [7.054, 329.14], [7.055, 1551.74], [7.056, 140.77], [7.057, 417.72], [7.058, 1399.28], [7.059, 3.06], [7.06, 228.84], [7.061, 9.59], [7.062, 1860.76], [7.063, 34.9], [7.064, 81.71], [7.065, 2192.85], [7.066, 14.8], [7.067, 536.34], [7.068, 127.0], [7.069, 3365.32], [7.07, 30.14], [7.071, 12.89], [7.072, 18.4], [7.073, 5.93], [7.074, 49.5], [7.075, 19.54], [7.076, 111.71], [7.077, 313.12], [7.078, 50.97], [7.079, 80.58], [7.08, 95.88], [7.081, 23.14], [7.082, 38.86], [7.083, 34.43], [7.084, 11.14], [7.085, 17.64], [7.086, 539.73], [7.087, 337.38], [7.088, 1.54], [7.089, 173.31], [7.09, 63.75], [7.091, 30.01], [7.092, 7.03], [7.093, 80.36], [7.094, 68.49], [7.095, 2485.89], [7.096, 3.15], [7.097, 83.86], [7.098, 3.1], [7.099, 11.87], [7.1, 2870.84], [7.101, 14.22], [7.102, 4.71], [7.103, 474.89], [7.104, 100.23], [7.105, 418.48], [7.106, 49.29], [7.107, 6.15], [7.108, 38.42], [7.109, 174.18], [7.11, 313.55], [7.111, 14.96], [7.112, 491.78], [7.113, 17.79], [7.114, 16.88], [7.115, 12.26], [7.116, 6.22], [7.117, 65.36], [7.118, 31.6], [7.119, 6.9], [7.12, 1505.05], [7.121, 29.94], [7.122, 2677.0], [7.123, 27.18], [7.124, 79.28], [7.125, 18.94], [7.126, 522.58], [7.127, 4.29], [7.128, 2.45], [7.129, 1.91]]))\n"
     ]
    }
   ],
   "source": [
    "binance_ob = get_binance_orderbook((\"DOT\", \"USDT\"), archive=False)\n",
    "pprint(binance_ob)\n",
    "cex = CentralizedMarket(\n",
    "    order_book={('DOT', 'USDT'): binance_ob},\n",
    "    asset_list=[\"DOT\", \"USDT\"],\n",
    "    trade_fee=0.001\n",
    ")"
   ],
   "metadata": {
    "collapsed": false,
    "ExecuteTime": {
     "end_time": "2023-12-13T15:11:12.780329116Z",
     "start_time": "2023-12-13T15:11:12.374890895Z"
    }
   },
   "id": "de40e2fc88fe157a"
  },
  {
   "cell_type": "code",
   "execution_count": 146,
   "outputs": [
    {
     "name": "stdout",
     "output_type": "stream",
     "text": [
      "Omnipool: omnipool\n",
      "********************************\n",
      "tvl cap: inf\n",
      "lrna fee:\n",
      "\n",
      "    USDT: 0.05%\n",
      "    DOT: 0.05%\n",
      "    HDX: 0.05%\n",
      "\n",
      "asset fee:\n",
      "\n",
      "    USDT: 0.25%\n",
      "    DOT: 0.25%\n",
      "    HDX: 0.25%\n",
      "\n",
      "asset pools: (\n",
      "\n",
      "    *USDT*\n",
      "    asset quantity: 12623096434.035534\n",
      "    lrna quantity: 381443691.710241\n",
      "    USD price: 1.0\n",
      "    tvl: $12623096434.035534\n",
      "    weight: 381443691.710241/490069968.07049704 (0.7783453722170749)\n",
      "    weight cap: 1\n",
      "    total shares: 12623096434.035533555408904888334468644433538528744\n",
      "    protocol shares: 12623096434.035533555408904888334468644433538528744\n",
      "\n",
      "    *DOT*\n",
      "    asset quantity: 407426705.27699757\n",
      "    lrna quantity: 86544298.92600611\n",
      "    USD price: 7.0295\n",
      "    tvl: $2864006024.744655\n",
      "    weight: 86544298.92600611/490069968.07049704 (0.1765958017520401)\n",
      "    weight cap: 1\n",
      "    total shares: 407426705.2769975853152573108673095703125\n",
      "    protocol shares: 407426705.2769975853152573108673095703125\n",
      "\n",
      "    *HDX*\n",
      "    asset quantity: 102431787000.54106\n",
      "    lrna quantity: 22081977.434249897\n",
      "    USD price: 0.007134091504\n",
      "    tvl: $730757741.3509216\n",
      "    weight: 22081977.434249897/490069968.07049704 (0.045058826030885006)\n",
      "    weight cap: 1\n",
      "    total shares: 102431787000.5410611629486083984375\n",
      "    protocol shares: 102431787000.5410611629486083984375\n",
      "\n",
      ")\n",
      "sub pools: (\n",
      "\n",
      "    \n",
      ")\n",
      "oracles: (\n",
      "    name: price\n",
      "    length: 19\n",
      ")\n",
      "\n",
      "error message: None\n",
      "{'USDT': mpf('12623096434.035533555408904888334468644433538528743676'), 'DOT': mpf('407426705.2769975853152573108673095703125'), 'HDX': mpf('102431787000.5410611629486083984375')}\n"
     ]
    }
   ],
   "source": [
    "cex_spot = (cex.order_book[('DOT', 'USDT')].bids[0][0] + cex.order_book[('DOT', 'USDT')].asks[0][0]) / 2\n",
    "\n",
    "\n",
    "usdt_data = tokens[\"USDT\"]\n",
    "usd_scale = mpf(5)\n",
    "overall_scale = mpf(1000)\n",
    "usdt_lrna = usdt_data['LRNA'] * usd_scale * overall_scale\n",
    "dot_liquidity = tokens['DOT']['liquidity'] * overall_scale\n",
    "dot_lrna = tokens['DOT']['LRNA'] * overall_scale\n",
    "usdt_liquidity = cex_spot * usdt_lrna * dot_liquidity / dot_lrna\n",
    "usdt_data_up = {'LRNA': usdt_lrna, 'liquidity': usdt_liquidity}\n",
    "hdx_data = {'LRNA': tokens['HDX']['LRNA'] * overall_scale, 'liquidity': tokens['HDX']['liquidity'] * overall_scale}\n",
    "dot_data = {'LRNA': dot_lrna, 'liquidity': dot_liquidity}\n",
    "\n",
    "op_state = OmnipoolState(\n",
    "    tokens={\"USDT\": usdt_data_up, \"DOT\": dot_data, \"HDX\": hdx_data},\n",
    "    preferred_stablecoin=\"USDT\",\n",
    "    lrna_fee=0.0005,\n",
    "    asset_fee=0.0025\n",
    ")\n",
    "\n",
    "    \n",
    "pprint(op_state)\n",
    "print(op_state.liquidity)"
   ],
   "metadata": {
    "collapsed": false,
    "ExecuteTime": {
     "end_time": "2023-12-13T15:11:12.787818898Z",
     "start_time": "2023-12-13T15:11:12.783529254Z"
    }
   },
   "id": "a9a6349276b30b04"
  },
  {
   "cell_type": "code",
   "execution_count": 147,
   "outputs": [
    {
     "name": "stdout",
     "output_type": "stream",
     "text": [
      "mpf('7.0295000000000005258016244624741375446319580078125')\n",
      "7.0295000000000005\n",
      "(7.029, 7.03)\n",
      "0.00014226774790159822\n"
     ]
    }
   ],
   "source": [
    "op_spot = op_state.price(op_state, \"DOT\", \"USDT\")\n",
    "pprint(op_spot)\n",
    "pprint(cex_spot)\n",
    "pprint((cex.order_book[('DOT', 'USDT')].bids[0][0],cex.order_book[('DOT', 'USDT')].asks[0][0]))\n",
    "pprint((cex.order_book[('DOT', 'USDT')].asks[0][0] - cex.order_book[('DOT', 'USDT')].bids[0][0])/cex.order_book[('DOT', 'USDT')].bids[0][0])"
   ],
   "metadata": {
    "collapsed": false,
    "ExecuteTime": {
     "end_time": "2023-12-13T15:11:12.811203371Z",
     "start_time": "2023-12-13T15:11:12.788606412Z"
    }
   },
   "id": "6ec44c5cafc0d74b"
  },
  {
   "cell_type": "code",
   "execution_count": 148,
   "outputs": [
    {
     "name": "stdout",
     "output_type": "stream",
     "text": [
      "'DEX'\n",
      "'CEX'\n"
     ]
    },
    {
     "data": {
      "text/plain": "<Figure size 432x288 with 1 Axes>",
      "image/png": "[encoded data removed]"
     },
     "metadata": {
      "needs_background": "light"
     },
     "output_type": "display_data"
    },
    {
     "data": {
      "text/plain": "<Figure size 432x288 with 1 Axes>",
      "image/png": "[encoded data removed]"
     },
     "metadata": {
      "needs_background": "light"
     },
     "output_type": "display_data"
    },
    {
     "name": "stdout",
     "output_type": "stream",
     "text": [
      "{('DOT', 'USDT'): OrderBook(bids=SortedList([[7.029, 73.98], [7.027, 542.58], [7.026, 846.07], [7.025, 579.93], [7.024, 1488.63], [7.023, 1192.21], [7.022, 565.85], [7.021, 430.21], [7.02, 817.85], [7.019, 231.49], [7.018, 2202.59], [7.017, 1604.83], [7.016, 35.66], [7.015, 2478.63], [7.014, 487.81], [7.013, 347.97], [7.012, 459.87], [7.011, 714.72], [7.01, 559.97], [7.009, 1282.93], [7.008, 1.11], [7.007, 740.14], [7.006, 517.5], [7.005, 3332.62], [7.004, 72.43], [7.003, 1034.79], [7.001, 2171.18], [7.0, 2206.68], [6.999, 829.28], [6.998, 118.4], [6.997, 73.76], [6.996, 445.96], [6.995, 3439.63], [6.994, 428.91], [6.993, 3936.46], [6.992, 98.14], [6.991, 106.05], [6.99, 3800.41], [6.989, 1013.01], [6.988, 276.14], [6.987, 260.57], [6.986, 478.84], [6.985, 453.85], [6.984, 313.21], [6.983, 3.05], [6.982, 73.5], [6.981, 37.03], [6.98, 976.21], [6.979, 7060.47], [6.978, 0.83], [6.977, 1.99], [6.976, 4.91], [6.975, 12.14], [6.974, 3.29], [6.972, 1.2], [6.971, 4072.19], [6.97, 602.79], [6.969, 2173.62], [6.968, 1443.38], [6.967, 1.04], [6.966, 20.54], [6.965, 3.52], [6.964, 152.62], [6.963, 30.88], [6.962, 21.7], [6.961, 11.49], [6.96, 25.16], [6.959, 20.87], [6.958, 3.73], [6.957, 6.4], [6.956, 31.93], [6.955, 2734.19], [6.954, 9.86], [6.953, 12.91], [6.952, 5.92], [6.951, 1.12], [6.95, 27.31], [6.949, 161.25], [6.948, 5.36], [6.947, 8.75], [6.946, 65.86], [6.945, 28.86], [6.944, 515.0], [6.943, 1.89], [6.942, 267.43], [6.941, 12.23], [6.94, 30.35], [6.939, 3.88], [6.938, 7.87], [6.937, 489.52], [6.936, 12.17], [6.935, 67.8], [6.934, 82.29], [6.933, 7.62], [6.932, 4.09], [6.931, 4.3], [6.93, 20.4], [6.929, 2.9], [6.928, 424.98], [6.927, 6.41]]), asks=SortedList([[7.03, 342.64], [7.031, 286.97], [7.032, 126.07], [7.033, 102.54], [7.034, 1481.43], [7.035, 2192.23], [7.036, 343.86], [7.037, 558.28], [7.038, 833.34], [7.039, 2037.01], [7.04, 3073.51], [7.041, 656.87], [7.042, 330.73], [7.043, 34.42], [7.044, 586.2], [7.045, 657.38], [7.046, 4075.96], [7.047, 308.57], [7.048, 726.57], [7.049, 1097.94], [7.05, 4553.81], [7.051, 1507.14], [7.052, 88.72], [7.053, 1301.43], [7.054, 329.14], [7.055, 1551.74], [7.056, 140.77], [7.057, 417.72], [7.058, 1399.28], [7.059, 3.06], [7.06, 228.84], [7.061, 9.59], [7.062, 1860.76], [7.063, 34.9], [7.064, 81.71], [7.065, 2192.85], [7.066, 14.8], [7.067, 536.34], [7.068, 127.0], [7.069, 3365.32], [7.07, 30.14], [7.071, 12.89], [7.072, 18.4], [7.073, 5.93], [7.074, 49.5], [7.075, 19.54], [7.076, 111.71], [7.077, 313.12], [7.078, 50.97], [7.079, 80.58], [7.08, 95.88], [7.081, 23.14], [7.082, 38.86], [7.083, 34.43], [7.084, 11.14], [7.085, 17.64], [7.086, 539.73], [7.087, 337.38], [7.088, 1.54], [7.089, 173.31], [7.09, 63.75], [7.091, 30.01], [7.092, 7.03], [7.093, 80.36], [7.094, 68.49], [7.095, 2485.89], [7.096, 3.15], [7.097, 83.86], [7.098, 3.1], [7.099, 11.87], [7.1, 2870.84], [7.101, 14.22], [7.102, 4.71], [7.103, 474.89], [7.104, 100.23], [7.105, 418.48], [7.106, 49.29], [7.107, 6.15], [7.108, 38.42], [7.109, 174.18], [7.11, 313.55], [7.111, 14.96], [7.112, 491.78], [7.113, 17.79], [7.114, 16.88], [7.115, 12.26], [7.116, 6.22], [7.117, 65.36], [7.118, 31.6], [7.119, 6.9], [7.12, 1505.05], [7.121, 29.94], [7.122, 2677.0], [7.123, 27.18], [7.124, 79.28], [7.125, 18.94], [7.126, 522.58], [7.127, 4.29], [7.128, 2.45], [7.129, 1.91]]))}\n"
     ]
    }
   ],
   "source": [
    "agent = Agent(holdings={\"USDT\": mpf(10000000), \"DOT\": mpf(10000000)})\n",
    "trade_size_list = [1000*i for i in range(1, 335)]\n",
    "dot_out_cex = []\n",
    "dot_out_dex = []\n",
    "for trade_size in trade_size_list:\n",
    "    temp_op_state = op_state.copy()\n",
    "    temp_cex_state = cex.copy()\n",
    "    temp_agent1 = agent.copy()\n",
    "    temp_agent2 = agent.copy()\n",
    "    temp_op_state.swap(temp_agent1, tkn_buy=\"DOT\", tkn_sell=\"USDT\", sell_quantity=trade_size)\n",
    "    temp_cex_state.swap(temp_agent2, tkn_buy=\"DOT\", tkn_sell=\"USDT\", sell_quantity=trade_size)\n",
    "    dot_out_dex.append(temp_agent1.holdings[\"DOT\"] - agent.holdings[\"DOT\"])\n",
    "    dot_out_cex.append(temp_agent2.holdings[\"DOT\"] - agent.holdings[\"DOT\"])\n",
    "    # pprint(trade_size)\n",
    "    # pprint(temp_op_state.price(temp_op_state, \"DOT\", \"USDT\"))\n",
    "    \n",
    "pprint(\"DEX\")\n",
    "plt.plot(trade_size_list, dot_out_dex, label=\"DEX\")\n",
    "# pprint(dot_out_dex)\n",
    "\n",
    "pprint(\"CEX\")\n",
    "# pprint(dot_out_cex)\n",
    "plt.plot(trade_size_list, dot_out_cex, label=\"CEX\")\n",
    "plt.show()\n",
    "\n",
    "diffs = [dot_out_dex[i] - dot_out_cex[i] for i in range(len(dot_out_dex))]\n",
    "plt.plot(trade_size_list, diffs, label=\"DEX - CEX\")\n",
    "plt.show()\n",
    "\n",
    "print(cex.order_book)"
   ],
   "metadata": {
    "collapsed": false,
    "ExecuteTime": {
     "end_time": "2023-12-13T15:11:13.396761797Z",
     "start_time": "2023-12-13T15:11:12.799495277Z"
    }
   },
   "id": "fe94206ea0bd98b6"
  },
  {
   "cell_type": "code",
   "execution_count": 149,
   "outputs": [
    {
     "name": "stdout",
     "output_type": "stream",
     "text": [
      "([6.927, 6.41], [7.129, 1.91])\n"
     ]
    }
   ],
   "source": [
    "print((cex.order_book[('DOT', 'USDT')].bids[-1],cex.order_book[('DOT', 'USDT')].asks[-1]))"
   ],
   "metadata": {
    "collapsed": false,
    "ExecuteTime": {
     "end_time": "2023-12-13T15:11:13.406960072Z",
     "start_time": "2023-12-13T15:11:13.398877159Z"
    }
   },
   "id": "6246b6285aeb50a1"
  },
  {
   "cell_type": "code",
   "execution_count": 150,
   "outputs": [
    {
     "name": "stdout",
     "output_type": "stream",
     "text": [
      "47283.3461864339260500855743885040283203125\n"
     ]
    }
   ],
   "source": [
    "print(dot_out_cex[-1])"
   ],
   "metadata": {
    "collapsed": false,
    "ExecuteTime": {
     "end_time": "2023-12-13T15:11:13.457471468Z",
     "start_time": "2023-12-13T15:11:13.406732537Z"
    }
   },
   "id": "e7cb0770715b0a42"
  },
  {
   "cell_type": "code",
   "execution_count": 150,
   "outputs": [],
   "source": [],
   "metadata": {
    "collapsed": false,
    "ExecuteTime": {
     "end_time": "2023-12-13T15:11:13.467799893Z",
     "start_time": "2023-12-13T15:11:13.422882105Z"
    }
   },
   "id": "b2622529def29c27"
  },
  {
   "cell_type": "code",
   "execution_count": 150,
   "outputs": [],
   "source": [],
   "metadata": {
    "collapsed": false,
    "ExecuteTime": {
     "end_time": "2023-12-13T15:11:13.468218535Z",
     "start_time": "2023-12-13T15:11:13.466502334Z"
    }
   },
   "id": "7fe45be545dd47a8"
  }
 ],
 "metadata": {
  "kernelspec": {
   "display_name": "Python 3",
   "language": "python",
   "name": "python3"
  },
  "language_info": {
   "codemirror_mode": {
    "name": "ipython",
    "version": 2
   },
   "file_extension": ".py",
   "mimetype": "text/x-python",
   "name": "python",
   "nbconvert_exporter": "python",
   "pygments_lexer": "ipython2",
   "version": "2.7.6"
  }
 },
 "nbformat": 4,
 "nbformat_minor": 5
}
