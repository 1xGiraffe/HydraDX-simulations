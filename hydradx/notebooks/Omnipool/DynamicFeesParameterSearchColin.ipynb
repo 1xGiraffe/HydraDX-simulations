{
 "cells": [
  {
   "cell_type": "code",
   "execution_count": 1,
   "id": "1a6eff6a",
   "metadata": {
    "collapsed": false,
    "jupyter": {
     "outputs_hidden": false
    }
   },
   "outputs": [
    {
     "name": "stdout",
     "output_type": "stream",
     "text": [
      "[{'DOT': 5.47, 'ETH': 1294.57, 'BTC': 17165.39, 'DOGE': 0.10677}, {'DOT': 5.47, 'ETH': 1294.09, 'BTC': 17162.31, 'DOGE': 0.1067}, {'DOT': 5.47, 'ETH': 1294.09, 'BTC': 17160.06, 'DOGE': 0.1067}, {'DOT': 5.47, 'ETH': 1294.83, 'BTC': 17163.71, 'DOGE': 0.10679}, {'DOT': 5.48, 'ETH': 1295.5, 'BTC': 17172.45, 'DOGE': 0.10683}, {'DOT': 5.48, 'ETH': 1295.47, 'BTC': 17177.28, 'DOGE': 0.10685}, {'DOT': 5.48, 'ETH': 1295.57, 'BTC': 17177.43, 'DOGE': 0.1071}, {'DOT': 5.48, 'ETH': 1295.86, 'BTC': 17178.67, 'DOGE': 0.10723}, {'DOT': 5.48, 'ETH': 1295.57, 'BTC': 17175.19, 'DOGE': 0.10722}, {'DOT': 5.48, 'ETH': 1295.8, 'BTC': 17176.2, 'DOGE': 0.10761}]\n"
     ]
    }
   ],
   "source": [
    "import sys\n",
    "import os\n",
    "import glob\n",
    "sys.path.append('../..')\n",
    "\n",
    "from model import processing\n",
    "price_list = processing.import_binance_prices(assets=['DOT', 'ETH', 'BTC', 'DOGE'], start_date='Dec 1 2022', days=30)\n",
    "print(price_list[0:10])"
   ]
  },
  {
   "cell_type": "code",
   "execution_count": 2,
   "id": "eb1e2219-3e2b-4d95-a16a-0fda81d589e4",
   "metadata": {
    "collapsed": false,
    "jupyter": {
     "outputs_hidden": false
    }
   },
   "outputs": [
    {
     "name": "stdout",
     "output_type": "stream",
     "text": [
      "trying 10 total parameter combinations...\n"
     ]
    }
   ],
   "source": [
    "from pprint import pprint\n",
    "import pandas as pd\n",
    "import random\n",
    "import sys\n",
    "from matplotlib import pyplot as plt\n",
    "sys.path.append('../..')\n",
    "\n",
    "from model import run\n",
    "from model import plot_utils as pu\n",
    "from model import processing\n",
    "from model.amm.omnipool_amm import OmnipoolState, dynamicadd_asset_fee, dynamicadd_lrna_fee, cash_out_omnipool\n",
    "from model.amm.agents import Agent\n",
    "from model.amm.trade_strategies import omnipool_arbitrage, invest_all, extra_trade_volume, random_swaps, steady_swaps\n",
    "from model.amm.global_state import GlobalState, fluctuate_prices, historical_prices\n",
    "\n",
    "# same seed, same parameters = same simulation result\n",
    "random.seed(42)\n",
    "\n",
    "# parameter_ranges = {\n",
    "#     'lrna_amp': (0.1, 2, 1),\n",
    "#     'lrna_decay': (0.000005, 0.00005, 1),\n",
    "#     'lrna_max': (0.1, 0.4, 1),\n",
    "#     'asset_amp': (0.1, 2, 1),\n",
    "#     'asset_decay': (0.000005, 0.0001, 1),\n",
    "#     'asset_max': (0.3, 0.5, 1),\n",
    "#     'oracle_length': (5, 500, 1)\n",
    "# }\n",
    "\n",
    "# parameter_ranges = {\n",
    "#     'lrna_amp': (1, 2, 1),\n",
    "#     'lrna_decay': (0.0000007, 0.00005, 1),\n",
    "#     'lrna_max': (0.4, 0.4, 1),\n",
    "#     'asset_amp': (1, 2, 1),\n",
    "#     'asset_decay': (0.0000007, 0.0001, 1),\n",
    "#     'asset_max': (0.4, 0.5, 1),\n",
    "#     'oracle_length': (5, 500, 1)\n",
    "# }\n",
    "#\n",
    "# parameters = {\n",
    "#     'lrna_amp': [0.2/5 * (i + 1) for i in range(10)],\n",
    "#     'lrna_decay': [0.000002 * (i + 1) for i in range(10)],\n",
    "#     'lrna_max': [0.1]*10,\n",
    "#     'asset_amp': [0.2 * (i + 1) for i in range(10)],\n",
    "#     'asset_decay': [0.00001 * (i + 1) for i in range(10)],\n",
    "#     'asset_max': [0.4]*10,\n",
    "#     'oracle_length': [5]*10\n",
    "# }\n",
    "#\n",
    "# n = 10\n",
    "# parameters = {\n",
    "#     'lrna_amp': [.02]*n,\n",
    "#     'lrna_decay': [0.000002 * (i + 1) for i in range(n)],\n",
    "#     'lrna_max': [0.1]*n,\n",
    "#     'asset_amp': [0.1]*n,\n",
    "#     'asset_decay': [0.00001 * (i + 1) for i in range(n)],\n",
    "#     'asset_max': [0.4]*n,\n",
    "#     'oracle_length': [5]*n\n",
    "# }\n",
    "\n",
    "# so far, decay / amp = 0.0005 seems to work well\n",
    "# i.e. decay = 0.0005 * amp\n",
    "# lrna vars = asset vars / 5 (but we haven't tested anything else)\n",
    "# lrna amp of 0.02 and asset amp of 0.1 worked best initially but we will re-test...\n",
    "# after retesting it looks like lrna amp of 0.06 and asset amp of 0.3 work well\n",
    "\n",
    "n = 10\n",
    "parameters = {\n",
    "    'lrna_amp': [0.01 * (i + 1) for i in range(n)],\n",
    "    'lrna_max': [0.1]*n,\n",
    "    'asset_max': [0.4]*n,\n",
    "    'oracle_length': [5]*n\n",
    "}\n",
    "parameters['lrna_decay'] = [0.0005 * i for i in parameters['lrna_amp']]\n",
    "parameters['asset_amp'] = [0.36 - i for i in parameters['lrna_amp']]\n",
    "parameters['asset_decay'] = [0.0005 * i for i in parameters['asset_amp']]\n",
    "\n",
    "static_asset_fees = [0.0025, 0.05, 0.40]\n",
    "static_lrna_fees = [0.0005, 0.01, 0.10]\n",
    "\n",
    "\n",
    "def pass_along(min_value, max_value, steps, current):\n",
    "    return min_value + (max_value - min_value) * current ** 2 / (steps - 1) ** 2 if steps > 1 else min_value\n",
    "\n",
    "# result_key = []\n",
    "# for a in range(parameter_ranges['lrna_amp'][2]):\n",
    "#     for b in range(parameter_ranges['lrna_decay'][2]):\n",
    "#         for c in range(parameter_ranges['lrna_max'][2]):\n",
    "#             for d in range(parameter_ranges['asset_amp'][2]):\n",
    "#                 for e in range(parameter_ranges['asset_decay'][2]):\n",
    "#                     for f in range(parameter_ranges['asset_max'][2]):\n",
    "#                         for g in range(parameter_ranges['oracle_length'][2]):\n",
    "#                             result_key.append ((\n",
    "#                                 pass_along(*parameter_ranges['lrna_amp'], a),\n",
    "#                                 pass_along(*parameter_ranges['lrna_decay'], b),\n",
    "#                                 pass_along(*parameter_ranges['lrna_max'], c),\n",
    "#                                 pass_along(*parameter_ranges['asset_amp'], d),\n",
    "#                                 pass_along(*parameter_ranges['asset_decay'], e),\n",
    "#                                 pass_along(*parameter_ranges['asset_max'], f),\n",
    "#                                 pass_along(*parameter_ranges['oracle_length'], g)\n",
    "#                             ))\n",
    "#\n",
    "\n",
    "result_key = []\n",
    "for i in range(n):\n",
    "    result_key.append ((\n",
    "        parameters['lrna_amp'][i],\n",
    "        parameters['lrna_decay'][i],\n",
    "        parameters['lrna_max'][i],\n",
    "        parameters['asset_amp'][i],\n",
    "        parameters['asset_decay'][i],\n",
    "        parameters['asset_max'][i],\n",
    "        parameters['oracle_length'][i]\n",
    "    ))\n",
    "\n",
    "random.shuffle(result_key)\n",
    "print (f'trying {len(result_key)} total parameter combinations...')"
   ]
  },
  {
   "cell_type": "code",
   "execution_count": 3,
   "id": "7b7a5477-8fec-499a-ae74-1800448bedb7",
   "metadata": {
    "collapsed": false,
    "jupyter": {
     "outputs_hidden": false
    }
   },
   "outputs": [
    {
     "name": "stdout",
     "output_type": "stream",
     "text": [
      "Running with 215859 time steps\n",
      "Starting simulation...\n",
      "Execution time: 28.036 seconds.\n",
      "0\n",
      "0.0025\n",
      "returns = 874443.543413572\n",
      "Starting simulation...\n",
      "Execution time: 27.836 seconds.\n",
      "1\n",
      "0.05\n",
      "returns = 881094.7195689799\n",
      "Starting simulation...\n",
      "Execution time: 24.404 seconds.\n",
      "2\n",
      "0.4\n",
      "returns = 900791.3733381669\n"
     ]
    }
   ],
   "source": [
    "from hydradx.model.amm.trade_strategies import back_and_forth\n",
    "\n",
    "assets = {\n",
    "    'HDX': {'usd price': 0.05, 'weight': 0.10},\n",
    "    'USD': {'usd price': 1, 'weight': 0.20},\n",
    "    'DOT': {'usd price': price_list[0]['DOT'], 'weight': 0.20},\n",
    "    'DOGE': {'usd price': price_list[0]['DOGE'], 'weight': 0.10},\n",
    "    'ETH': {'usd price': price_list[0]['ETH'], 'weight': 0.20},\n",
    "    'BTC': {'usd price': price_list[0]['BTC'], 'weight': 0.20}\n",
    "}\n",
    "\n",
    "lrna_price_usd = 0.07\n",
    "initial_omnipool_tvl = 10000000\n",
    "liquidity = {}\n",
    "lrna = {}\n",
    "\n",
    "for tkn, info in assets.items():\n",
    "    liquidity[tkn] = initial_omnipool_tvl * info['weight'] / info['usd price']\n",
    "    lrna[tkn] = initial_omnipool_tvl * info['weight'] / lrna_price_usd\n",
    "\n",
    "initial_state = GlobalState(\n",
    "    pools={\n",
    "        'omnipool': OmnipoolState(\n",
    "            tokens={\n",
    "                tkn: {'liquidity': liquidity[tkn], 'LRNA': lrna[tkn]} for tkn in assets\n",
    "            },\n",
    "            oracles={'fee_raise': 50},  # , 'fee_lower': 7200},\n",
    "            # lrna_fee=dynamicadd_lrna_fee(\n",
    "            #     minimum=0.0005,\n",
    "            #     amplification=1,\n",
    "            #     raise_oracle_name='fee_raise',\n",
    "            #     decay=0.00001,\n",
    "            #     fee_max=0.1,\n",
    "            # ),\n",
    "            # asset_fee=dynamicadd_asset_fee(\n",
    "            #     minimum=0.0025,\n",
    "            #     amplification=0.2,\n",
    "            #     raise_oracle_name='fee_raise',\n",
    "            #     decay=0.00005,\n",
    "            #     fee_max=0.4,\n",
    "            # ),\n",
    "            lrna_fee=static_lrna_fees[0],\n",
    "            asset_fee=static_asset_fees[0],\n",
    "        )\n",
    "    },\n",
    "    agents = {\n",
    "        'Trader': Agent(\n",
    "            holdings={'HDX': 1000000000, 'USD': 1000000000, 'ETH': 1000000000, 'BTC': 3000000000, 'DOGE': 3000000000, 'DOT': 1000000000, 'LRNA': 1000000000},\n",
    "            trade_strategy=back_and_forth(pool_id='omnipool', slippage=0.000003)\n",
    "        ),\n",
    "        'Trader2': Agent(\n",
    "            holdings={'HDX': 1000000000, 'USD': 1000000000, 'ETH': 1000000000, 'BTC': 3000000000, 'DOGE': 3000000000, 'DOT': 1000000000, 'LRNA': 1000000000},\n",
    "            trade_strategy=omnipool_arbitrage(\n",
    "                pool_id='omnipool',\n",
    "                arb_precision=3\n",
    "            )\n",
    "            # +\n",
    "            # extra_trade_volume('omnipool', percent_of_arb=50)\n",
    "        ),\n",
    "\n",
    "        'LP': Agent(\n",
    "            holdings={tkn: liquidity[tkn] / 10 for tkn in assets},\n",
    "            trade_strategy=invest_all('omnipool')\n",
    "        )\n",
    "    },\n",
    "    evolve_function=historical_prices(price_list),\n",
    "    external_market={tkn: assets[tkn]['usd price'] for tkn in assets},\n",
    "    archive_all = False\n",
    ")\n",
    "time_steps = len(price_list)-1\n",
    "print(f'Running with {time_steps} time steps')\n",
    "\n",
    "class FeeParams:\n",
    "    def __init__(self, lrna_amp: float, lrna_decay: float, lrna_max: float, asset_amp: float, asset_decay: float, asset_max: float, oracle_length: float, holdings: float):\n",
    "        self.lrna_amp = lrna_amp\n",
    "        self.lrna_decay = lrna_decay\n",
    "        self.lrna_max = lrna_max\n",
    "        self.asset_amp = asset_amp\n",
    "        self.asset_decay = asset_decay\n",
    "        self.asset_max = asset_max\n",
    "        self.oracle_length = oracle_length\n",
    "        self.holdings = holdings\n",
    "        \n",
    "    def __repr__(self):\n",
    "        return (\n",
    "            f'lrna fee amplification: {self.lrna_amp}\\n'\n",
    "            f'lrna fee decay: {self.lrna_decay}\\n'\n",
    "            f'lrna fee max: {self.lrna_max}\\n'\n",
    "            f'asset fee amplification: {self.asset_amp}\\n'\n",
    "            f'asset fee decay: {self.asset_decay}\\n'\n",
    "            f'asset fee max: {self.asset_max}\\n'\n",
    "            f'oracle length: {self.oracle_length}\\n'\n",
    "            f'LP final holdings: {self.holdings}\\n'\n",
    "        )\n",
    "    \n",
    "    def csv(self):\n",
    "        return ', '.join([\n",
    "            str(self.lrna_amp), \n",
    "            str(self.lrna_decay), \n",
    "            str(self.lrna_max), \n",
    "            str(self.asset_amp), \n",
    "            str(self.asset_decay), \n",
    "            str(self.asset_max), \n",
    "            str(self.oracle_length),\n",
    "            str(self.holdings)\n",
    "        ])\n",
    "    \n",
    "# load existing results\n",
    "test_results = []\n",
    "\n",
    "# path = './output/dynamic_fees_comparison_results.csv'\n",
    "path = './output/dynamic_fees_comparison_results_colin.csv'\n",
    "# if os.path.exists(path):\n",
    "#     # pick up where we left off\n",
    "#     with open(path, 'r') as file:\n",
    "#         data = [FeeParams(*[float(num) for num in line.split(',')]) for line in file.readlines()]\n",
    "#         test_results = data\n",
    "#\n",
    "#     print ('last result (from file) \\n', test_results[-1])\n",
    "#     # print ('next up:', FeeParams(*result_key[len(test_results)], 0))\n",
    "\n",
    "\n",
    "# for key in result_key[len(test_results):]:\n",
    "for i in range(len(static_asset_fees)):\n",
    "    random.seed(42)\n",
    "    test_state = initial_state.copy()\n",
    "    # test_state.pools['omnipool'].lrna_fee = dynamicadd_lrna_fee(\n",
    "    #     minimum=0.0005,\n",
    "    #     amplification=key[0],\n",
    "    #     raise_oracle_name='fee_raise',\n",
    "    #     decay=key[1],\n",
    "    #     fee_max=key[2],\n",
    "    # )\n",
    "    #\n",
    "    # test_state.pools['omnipool'].asset_fee = dynamicadd_asset_fee(\n",
    "    #     minimum=0.0025,\n",
    "    #     amplification=key[3],\n",
    "    #     raise_oracle_name='fee_raise',\n",
    "    #     decay=key[4],\n",
    "    #     fee_max=key[5],\n",
    "    # )\n",
    "    # test_state.pools['omnipool'].oracles['fee_raise'].decay_factor = 2 / (key[6] + 1)\n",
    "\n",
    "    test_state.pools['omnipool'].lrna_fee = static_lrna_fees[i]\n",
    "    test_state.pools['omnipool'].asset_fee = static_asset_fees[i]\n",
    "\n",
    "    events = run.run(test_state, time_steps=time_steps)\n",
    "    # print(events[-1])\n",
    "    LP_returns = cash_out_omnipool(events[-1].pools['omnipool'], events[-1].agents['LP'], events[-1].external_market)\n",
    "    # test_results.append(FeeParams(*key, LP_returns))\n",
    "    # print(key)\n",
    "    print(i)\n",
    "    print(static_asset_fees[i])\n",
    "    print(f'returns = {LP_returns}')\n",
    "    \n",
    "# events = processing.postprocessing(events, optional_params=['withdraw_val'])"
   ]
  },
  {
   "cell_type": "code",
   "execution_count": 4,
   "id": "c021d9e9-4e47-4862-9380-20aefedf0be9",
   "metadata": {
    "collapsed": false,
    "jupyter": {
     "outputs_hidden": false
    }
   },
   "outputs": [],
   "source": [
    "test_results.sort(key=lambda x: x.holdings)\n",
    "# ensure no duplicates\n",
    "if len(set([\n",
    "    (result.lrna_max, result.lrna_decay, result.lrna_amp, result.asset_amp, result.asset_max, result.asset_decay, result.oracle_length) \n",
    "    for result in test_results\n",
    "])) != len(test_results):\n",
    "    raise\n",
    "with open(path, 'w') as file:\n",
    "    file.write('\\n'.join([feeParam.csv() for feeParam in test_results]))\n"
   ]
  },
  {
   "cell_type": "code",
   "execution_count": 5,
   "id": "05784bc3-0d2f-438b-b421-2a0d65558de2",
   "metadata": {
    "collapsed": false,
    "jupyter": {
     "outputs_hidden": false
    }
   },
   "outputs": [
    {
     "name": "stdout",
     "output_type": "stream",
     "text": [
      "0\n"
     ]
    },
    {
     "ename": "IndexError",
     "evalue": "list index out of range",
     "output_type": "error",
     "traceback": [
      "\u001B[0;31m---------------------------------------------------------------------------\u001B[0m",
      "\u001B[0;31mIndexError\u001B[0m                                Traceback (most recent call last)",
      "Input \u001B[0;32mIn [5]\u001B[0m, in \u001B[0;36m<cell line: 2>\u001B[0;34m()\u001B[0m\n\u001B[1;32m      1\u001B[0m \u001B[38;5;28mprint\u001B[39m(\u001B[38;5;28mlen\u001B[39m(test_results))\n\u001B[0;32m----> 2\u001B[0m \u001B[38;5;28mprint\u001B[39m(\u001B[43mtest_results\u001B[49m\u001B[43m[\u001B[49m\u001B[38;5;241;43m-\u001B[39;49m\u001B[38;5;241;43m1\u001B[39;49m\u001B[43m]\u001B[49m)\n\u001B[1;32m      3\u001B[0m \u001B[38;5;28mprint\u001B[39m(test_results[\u001B[38;5;241m0\u001B[39m])\n",
      "\u001B[0;31mIndexError\u001B[0m: list index out of range"
     ]
    }
   ],
   "source": [
    "print(len(test_results))\n",
    "print(test_results[-1])\n",
    "print(test_results[0])"
   ]
  },
  {
   "cell_type": "code",
   "execution_count": 6,
   "id": "4118ee78",
   "metadata": {
    "collapsed": false,
    "jupyter": {
     "outputs_hidden": false
    }
   },
   "outputs": [
    {
     "name": "stdout",
     "output_type": "stream",
     "text": [
      "Starting simulation...\n"
     ]
    },
    {
     "ename": "KeyboardInterrupt",
     "evalue": "",
     "output_type": "error",
     "traceback": [
      "\u001B[0;31m---------------------------------------------------------------------------\u001B[0m",
      "\u001B[0;31mKeyboardInterrupt\u001B[0m                         Traceback (most recent call last)",
      "Input \u001B[0;32mIn [6]\u001B[0m, in \u001B[0;36m<cell line: 5>\u001B[0;34m()\u001B[0m\n\u001B[1;32m      2\u001B[0m basic_state\u001B[38;5;241m.\u001B[39mpools[\u001B[38;5;124m'\u001B[39m\u001B[38;5;124momnipool\u001B[39m\u001B[38;5;124m'\u001B[39m]\u001B[38;5;241m.\u001B[39masset_fee\u001B[38;5;241m=\u001B[39m\u001B[38;5;241m0.0025\u001B[39m\n\u001B[1;32m      3\u001B[0m basic_state\u001B[38;5;241m.\u001B[39mpools[\u001B[38;5;124m'\u001B[39m\u001B[38;5;124momnipool\u001B[39m\u001B[38;5;124m'\u001B[39m]\u001B[38;5;241m.\u001B[39mlrna_fee\u001B[38;5;241m=\u001B[39m\u001B[38;5;241m0.0005\u001B[39m\n\u001B[0;32m----> 5\u001B[0m events \u001B[38;5;241m=\u001B[39m \u001B[43mrun\u001B[49m\u001B[38;5;241;43m.\u001B[39;49m\u001B[43mrun\u001B[49m\u001B[43m(\u001B[49m\u001B[43mbasic_state\u001B[49m\u001B[43m,\u001B[49m\u001B[43m \u001B[49m\u001B[43mtime_steps\u001B[49m\u001B[38;5;241;43m=\u001B[39;49m\u001B[43mtime_steps\u001B[49m\u001B[43m)\u001B[49m\n",
      "File \u001B[0;32m~/PycharmProjects/HydraDX-simulations/hydradx/notebooks/Omnipool/../../model/run.py:37\u001B[0m, in \u001B[0;36mrun\u001B[0;34m(initial_state, time_steps, silent, use_cadcad)\u001B[0m\n\u001B[1;32m     35\u001B[0m     \u001B[38;5;28;01mfor\u001B[39;00m agent_id, agent \u001B[38;5;129;01min\u001B[39;00m agents\u001B[38;5;241m.\u001B[39mitems():\n\u001B[1;32m     36\u001B[0m         \u001B[38;5;28;01mif\u001B[39;00m agent\u001B[38;5;241m.\u001B[39mtrade_strategy:\n\u001B[0;32m---> 37\u001B[0m             new_global_state \u001B[38;5;241m=\u001B[39m \u001B[43magent\u001B[49m\u001B[38;5;241;43m.\u001B[39;49m\u001B[43mtrade_strategy\u001B[49m\u001B[38;5;241;43m.\u001B[39;49m\u001B[43mexecute\u001B[49m\u001B[43m(\u001B[49m\u001B[43mnew_global_state\u001B[49m\u001B[43m,\u001B[49m\u001B[43m \u001B[49m\u001B[43magent\u001B[49m\u001B[38;5;241;43m.\u001B[39;49m\u001B[43munique_id\u001B[49m\u001B[43m)\u001B[49m\n\u001B[1;32m     39\u001B[0m     events[new_global_state\u001B[38;5;241m.\u001B[39mtime_step \u001B[38;5;241m-\u001B[39m \u001B[38;5;241m1\u001B[39m] \u001B[38;5;241m=\u001B[39m new_global_state\u001B[38;5;241m.\u001B[39marchive()\n\u001B[1;32m     41\u001B[0m \u001B[38;5;28;01mif\u001B[39;00m \u001B[38;5;129;01mnot\u001B[39;00m silent:\n",
      "File \u001B[0;32m~/PycharmProjects/HydraDX-simulations/hydradx/model/amm/trade_strategies.py:28\u001B[0m, in \u001B[0;36mTradeStrategy.execute\u001B[0;34m(self, state, agent_id)\u001B[0m\n\u001B[1;32m     26\u001B[0m \u001B[38;5;28;01melif\u001B[39;00m \u001B[38;5;28mself\u001B[39m\u001B[38;5;241m.\u001B[39mrun_once:\n\u001B[1;32m     27\u001B[0m     \u001B[38;5;28mself\u001B[39m\u001B[38;5;241m.\u001B[39mdone \u001B[38;5;241m=\u001B[39m \u001B[38;5;28;01mTrue\u001B[39;00m\n\u001B[0;32m---> 28\u001B[0m \u001B[38;5;28;01mreturn\u001B[39;00m \u001B[38;5;28;43mself\u001B[39;49m\u001B[38;5;241;43m.\u001B[39;49m\u001B[43mfunction\u001B[49m\u001B[43m(\u001B[49m\u001B[43mstate\u001B[49m\u001B[43m,\u001B[49m\u001B[43m \u001B[49m\u001B[43magent_id\u001B[49m\u001B[43m)\u001B[49m\n",
      "File \u001B[0;32m~/PycharmProjects/HydraDX-simulations/hydradx/model/amm/trade_strategies.py:138\u001B[0m, in \u001B[0;36mback_and_forth.<locals>.strategy\u001B[0;34m(state, agent_id)\u001B[0m\n\u001B[1;32m    136\u001B[0m     dr \u001B[38;5;241m=\u001B[39m percentage \u001B[38;5;241m/\u001B[39m \u001B[38;5;241m2\u001B[39m \u001B[38;5;241m*\u001B[39m omnipool\u001B[38;5;241m.\u001B[39mliquidity[asset]\n\u001B[1;32m    137\u001B[0m \u001B[38;5;28;01melif\u001B[39;00m slippage \u001B[38;5;129;01mis\u001B[39;00m \u001B[38;5;129;01mnot\u001B[39;00m \u001B[38;5;28;01mNone\u001B[39;00m:\n\u001B[0;32m--> 138\u001B[0m     f \u001B[38;5;241m=\u001B[39m \u001B[43momnipool\u001B[49m\u001B[38;5;241;43m.\u001B[39;49m\u001B[43mlast_fee\u001B[49m\u001B[43m[\u001B[49m\u001B[43masset\u001B[49m\u001B[43m]\u001B[49m \u001B[38;5;241m+\u001B[39m omnipool\u001B[38;5;241m.\u001B[39mlast_lrna_fee[asset]\n\u001B[1;32m    139\u001B[0m     \u001B[38;5;28;01mif\u001B[39;00m f \u001B[38;5;241m>\u001B[39m\u001B[38;5;241m=\u001B[39m slippage:\n\u001B[1;32m    140\u001B[0m         \u001B[38;5;28;01mcontinue\u001B[39;00m\n",
      "\u001B[0;31mKeyboardInterrupt\u001B[0m: "
     ]
    }
   ],
   "source": [
    "basic_state = initial_state.copy()\n",
    "basic_state.pools['omnipool'].asset_fee=0.0025\n",
    "basic_state.pools['omnipool'].lrna_fee=0.0005\n",
    "\n",
    "events = run.run(basic_state, time_steps=time_steps)\n",
    "\n"
   ]
  },
  {
   "cell_type": "code",
   "execution_count": null,
   "id": "d0549ecd-ecca-40a3-9e88-aca9fdd464d5",
   "metadata": {
    "collapsed": false,
    "jupyter": {
     "outputs_hidden": false
    }
   },
   "outputs": [],
   "source": [
    "winning_state = initial_state.copy()\n",
    "winning_state.pools['omnipool'].lrna_fee = dynamicadd_lrna_fee(\n",
    "    minimum=0.0005,\n",
    "    amplification=test_results[-1].lrna_amp,\n",
    "    raise_oracle_name='fee_raise',\n",
    "    decay=test_results[-1].lrna_decay,\n",
    "    fee_max=test_results[-1].lrna_max,\n",
    ")\n",
    "winning_state.pools['omnipool'].asset_fee = dynamicadd_asset_fee(\n",
    "    minimum=0.0025,\n",
    "    amplification=test_results[-1].asset_amp,\n",
    "    raise_oracle_name='fee_raise',\n",
    "    decay=test_results[-1].asset_decay,\n",
    "    fee_max=test_results[-1].asset_max,\n",
    ")\n",
    "winning_state.pools['omnipool'].oracles['fee_raise'].decay_factor = 2 / (test_results[-1].oracle_length + 1)\n",
    "events2 = run.run(winning_state, time_steps=time_steps)"
   ]
  },
  {
   "cell_type": "code",
   "execution_count": null,
   "id": "19f5343d-f801-4f91-a60b-db9e722740d0",
   "metadata": {
    "collapsed": false,
    "jupyter": {
     "outputs_hidden": false
    }
   },
   "outputs": [],
   "source": [
    "losing_state = initial_state.copy()\n",
    "losing_state.pools['omnipool'].lrna_fee = dynamicadd_lrna_fee(\n",
    "    minimum=0.0005,\n",
    "    amplification=test_results[0].lrna_amp,\n",
    "    raise_oracle_name='fee_raise',\n",
    "    decay=test_results[0].lrna_decay,\n",
    "    fee_max=test_results[0].lrna_max,\n",
    ")\n",
    "losing_state.pools['omnipool'].asset_fee = dynamicadd_asset_fee(\n",
    "    minimum=0.0025,\n",
    "    amplification=test_results[0].asset_amp,\n",
    "    raise_oracle_name='fee_raise',\n",
    "    decay=test_results[0].asset_decay,\n",
    "    fee_max=test_results[0].asset_max,\n",
    ")\n",
    "losing_state.pools['omnipool'].oracles['fee_raise'].decay_factor = 2 / (test_results[0].oracle_length + 1)\n",
    "events3 = run.run(losing_state, time_steps=time_steps)"
   ]
  },
  {
   "cell_type": "code",
   "execution_count": null,
   "id": "4e194fca-e1e3-4115-9800-85982ed787a7",
   "metadata": {
    "collapsed": false,
    "jupyter": {
     "outputs_hidden": false
    }
   },
   "outputs": [],
   "source": [
    "plt.figure(figsize=(20, 5))\n",
    "LP_holdings1 = [cash_out_omnipool(event.pools['omnipool'], event.agents['LP'], event.external_market) for event in events[::20]]\n",
    "LP_holdings2 = [cash_out_omnipool(event.pools['omnipool'], event.agents['LP'], event.external_market) for event in events2[::20]]\n",
    "LP_holdings3 = [cash_out_omnipool(event.pools['omnipool'], event.agents['LP'], event.external_market) for event in events3[::20]]\n",
    "\n",
    "plt.plot(range(len(LP_holdings1)), LP_holdings1)\n",
    "plt.plot(range(len(LP_holdings2)), LP_holdings2)\n",
    "plt.plot(range(len(LP_holdings2)), LP_holdings3)\n",
    "plt.title('basic fees (blue) vs best tested parameters (orange) vs worst tested parameters (green)')"
   ]
  },
  {
   "cell_type": "code",
   "execution_count": null,
   "id": "a4e7f468-ebbd-4d3e-b7d9-ba8fa40d61d6",
   "metadata": {
    "collapsed": false,
    "jupyter": {
     "outputs_hidden": false
    }
   },
   "outputs": [],
   "source": [
    "print(LP_holdings1[-1])\n",
    "print(LP_holdings2[-1])\n",
    "print(LP_holdings3[-1])\n"
   ]
  },
  {
   "cell_type": "code",
   "execution_count": null,
   "id": "3c764e4e-5a32-48b6-af6a-542b2928421e",
   "metadata": {
    "collapsed": false,
    "jupyter": {
     "outputs_hidden": false
    }
   },
   "outputs": [],
   "source": [
    "random.seed(42)\n",
    "basic_state2 = initial_state.copy()\n",
    "basic_state2.pools['omnipool'].asset_fee=0.0025\n",
    "basic_state2.pools['omnipool'].lrna_fee=0.0005\n",
    "\n",
    "events4=run.run(basic_state2, time_steps=time_steps)\n",
    "LP_holdings4 = [cash_out_omnipool(event.pools['omnipool'], event.agents['LP'], event.external_market) for event in events4[::20]]\n"
   ]
  },
  {
   "cell_type": "code",
   "execution_count": null,
   "id": "ad103b58-0f77-40de-9fa1-3e1bab7b6d3e",
   "metadata": {
    "collapsed": false,
    "jupyter": {
     "outputs_hidden": false
    }
   },
   "outputs": [],
   "source": [
    "random.seed(42)\n",
    "basic_state3 = initial_state.copy()\n",
    "basic_state3.pools['omnipool'].asset_fee=0.0025\n",
    "basic_state3.pools['omnipool'].lrna_fee=0.0005\n",
    "\n",
    "events5=run.run(basic_state3, time_steps=time_steps)\n",
    "LP_holdings5 = [cash_out_omnipool(event.pools['omnipool'], event.agents['LP'], event.external_market) for event in events5[::20]]\n"
   ]
  },
  {
   "cell_type": "code",
   "execution_count": null,
   "id": "0f7c8e1b-be71-4907-b3d7-8faa79bb964b",
   "metadata": {},
   "outputs": [],
   "source": [
    "\n",
    "print(LP_holdings1[-1])\n",
    "print(LP_holdings2[-1])\n",
    "print(LP_holdings3[-1])\n",
    "print(LP_holdings4[-1])\n",
    "print(LP_holdings5[-1])\n"
   ]
  },
  {
   "cell_type": "code",
   "execution_count": null,
   "id": "cb1658cb-5c08-4174-97e3-0bf8682d6e02",
   "metadata": {},
   "outputs": [],
   "source": [
    "# print(events[0], events[1000])"
   ]
  },
  {
   "cell_type": "code",
   "execution_count": null,
   "id": "4d1d563e-f6d0-4c9b-a107-baea1b2f727a",
   "metadata": {},
   "outputs": [],
   "source": [
    "print(winning_state, losing_state)"
   ]
  },
  {
   "cell_type": "code",
   "execution_count": null,
   "id": "c17704e2-c722-4da8-8bf9-c1151ec2d317",
   "metadata": {},
   "outputs": [],
   "source": [
    "pu.plot(events, asset='DOGE')"
   ]
  },
  {
   "cell_type": "code",
   "execution_count": null,
   "id": "3d8d486c-2244-4b91-9dcc-9f2707f64cee",
   "metadata": {},
   "outputs": [],
   "source": [
    "ax = pu.plot(events, pool='omnipool', oracle='fee_raise', prop='volume_in', key='DOT')\n",
    "pu.plot(events2, pool='omnipool', oracle='fee_raise', prop='volume_in', key='DOT', subplot=ax)"
   ]
  },
  {
   "cell_type": "code",
   "execution_count": null,
   "id": "966d9b25-940e-4f7f-a245-cd64d6969b10",
   "metadata": {},
   "outputs": [],
   "source": [
    "print(test_results[0])\n",
    "print(test_results[-1])"
   ]
  },
  {
   "cell_type": "code",
   "execution_count": null,
   "id": "c43c1e42-7fb5-42d6-b91d-5e9a43194584",
   "metadata": {},
   "outputs": [],
   "source": [
    "volume_out_usd = [event.pools['omnipool'].oracles['fee_raise'].price['USD'] for event in events3]\n",
    "plt.plot(range(len(volume_out_usd)), volume_out_usd)"
   ]
  },
  {
   "cell_type": "code",
   "execution_count": null,
   "id": "7f1a61cc-a144-47a0-8241-f9df2cbc269f",
   "metadata": {},
   "outputs": [],
   "source": [
    "reverse_price_list = list(reversed(processing.import_binance_prices(assets=['DOT', 'ETH', 'BTC', 'DOGE'], start_date='Nov 1 2022', days=30)))\n",
    "reverse_basic_state = initial_state.copy()\n",
    "reverse_basic_state._evolve_function=historical_prices(reverse_price_list)\n",
    "reverse_basic_events = run.run(reverse_basic_state, time_steps = time_steps)\n",
    "\n",
    "reverse_state = reverse_basic_state.copy()\n",
    "reverse_state.pools['omnipool'].lrna_fee = dynamicadd_lrna_fee(\n",
    "    minimum=0.0005,\n",
    "    amplification=test_results[-1].lrna_amp,\n",
    "    raise_oracle_name='fee_raise',\n",
    "    decay=test_results[-1].lrna_decay,\n",
    "    fee_max=test_results[-1].lrna_max,\n",
    ")\n",
    "reverse_state.pools['omnipool'].asset_fee = dynamicadd_asset_fee(\n",
    "    minimum=0.0025,\n",
    "    amplification=test_results[-1].asset_amp,\n",
    "    raise_oracle_name='fee_raise',\n",
    "    decay=test_results[-1].asset_decay,\n",
    "    fee_max=test_results[-1].asset_max,\n",
    ")\n",
    "reverse_state.pools['omnipool'].oracles['fee_raise'].decay_factor = 2 / (test_results[-1].oracle_length + 1)\n",
    "reverse_events = run.run(reverse_state, time_steps = time_steps)\n",
    "\n",
    "worst_reverse_state = reverse_state.copy()\n",
    "worst_reverse_state.pools['omnipool'].lrna_fee = dynamicadd_lrna_fee(\n",
    "    minimum=0.0005,\n",
    "    amplification=test_results[0].lrna_amp,\n",
    "    raise_oracle_name='fee_raise',\n",
    "    decay=test_results[0].lrna_decay,\n",
    "    fee_max=test_results[0].lrna_max,\n",
    ")\n",
    "worst_reverse_state.pools['omnipool'].asset_fee = dynamicadd_asset_fee(\n",
    "    minimum=0.0025,\n",
    "    amplification=test_results[0].asset_amp,\n",
    "    raise_oracle_name='fee_raise',\n",
    "    decay=test_results[0].asset_decay,\n",
    "    fee_max=test_results[0].asset_max,\n",
    ")\n",
    "worst_reverse_state.pools['omnipool'].oracles['fee_raise'].decay_factor = 2 / (test_results[-1].oracle_length + 1)\n",
    "worst_reverse_events = run.run(worst_reverse_state, time_steps = time_steps)\n"
   ]
  },
  {
   "cell_type": "code",
   "execution_count": null,
   "id": "bde65c92-af1f-4a2e-8462-7bf17687dbd5",
   "metadata": {},
   "outputs": [],
   "source": [
    "reverse_LP_holdings = [cash_out_omnipool(event.pools['omnipool'], event.agents['LP'], event.external_market) for event in reverse_events[::20]]\n",
    "worst_reverse_LP_holdings = [cash_out_omnipool(event.pools['omnipool'], event.agents['LP'], event.external_market) for event in worst_reverse_events[::20]]\n",
    "reverse_basic_LP_holdings = [cash_out_omnipool(event.pools['omnipool'], event.agents['LP'], event.external_market) for event in reverse_basic_events[::20]]\n",
    "plt.figure(figsize=(20, 5))\n",
    "plt.plot(range(len(reverse_LP_holdings)), reverse_basic_LP_holdings)\n",
    "plt.plot(range(len(reverse_LP_holdings)), reverse_LP_holdings)\n",
    "plt.plot(range(len(reverse_LP_holdings)), worst_reverse_LP_holdings)\n",
    "plt.title('basic fees (blue) vs best tested parameters (orange) vs worst tested parameters (green) with price movement reversed')"
   ]
  },
  {
   "cell_type": "code",
   "execution_count": null,
   "id": "617ac272-17c2-42a7-ba05-d8951b7c0f9a",
   "metadata": {},
   "outputs": [],
   "source": [
    "plt.figure(figsize=(20, 5))\n",
    "plt.plot(range(len(price_list)), [price_list[i]['ETH'] for i in range(len(price_list))])\n",
    "plt.plot(range(len(price_list)), [reverse_price_list[i]['ETH'] for i in range(len(price_list))])\n",
    "plt.title('two different, opposite price runs')"
   ]
  },
  {
   "cell_type": "code",
   "execution_count": null,
   "id": "31c91b19-c357-459e-b0ff-d7468c11a63e",
   "metadata": {},
   "outputs": [],
   "source": [
    "pu.plot(reverse_events, asset='ETH')"
   ]
  },
  {
   "cell_type": "code",
   "execution_count": null,
   "id": "3774e505-2459-46f3-8453-8d4e17d75b82",
   "metadata": {},
   "outputs": [],
   "source": [
    "pu.plot(reverse_events[::100], agent='Trader', prop='holdings', key='ETH')"
   ]
  },
  {
   "cell_type": "code",
   "execution_count": null,
   "id": "bc4991cc-9573-4e2d-8e8e-765a1c762b85",
   "metadata": {},
   "outputs": [],
   "source": [
    "oracle = [event.pools['omnipool'].oracles['fee_raise'].volume_in['ETH'] for event in reverse_events][:100]\n",
    "plt.plot(range(len(oracle)), oracle)"
   ]
  },
  {
   "cell_type": "code",
   "execution_count": null,
   "id": "f1a471c7-edc4-49b8-896e-aee31c0e7222",
   "metadata": {},
   "outputs": [],
   "source": [
    "pu.plot(reverse_events[::20], pool='omnipool', prop='last_fee')\n",
    "pu.plot(reverse_events[::20], pool='omnipool', prop='last_lrna_fee')\n",
    "\n",
    "pu.plot(events2[::20], pool='omnipool', prop='last_fee')\n",
    "pu.plot(events2[::20], pool='omnipool', prop='last_lrna_fee')\n"
   ]
  },
  {
   "cell_type": "code",
   "execution_count": null,
   "id": "c60f5b14-e336-485a-b474-67d6a27e1402",
   "metadata": {},
   "outputs": [],
   "source": [
    "pu.plot(events[::20], pool='omnipool', oracle='fee_raise', prop='liquidity', key='HDX')"
   ]
  },
  {
   "cell_type": "code",
   "execution_count": null,
   "id": "d6b66541-b5be-45c6-b75e-cb68854081b7",
   "metadata": {},
   "outputs": [],
   "source": []
  }
 ],
 "metadata": {
  "kernelspec": {
   "display_name": "Python 3 (ipykernel)",
   "language": "python",
   "name": "python3"
  },
  "language_info": {
   "codemirror_mode": {
    "name": "ipython",
    "version": 3
   },
   "file_extension": ".py",
   "mimetype": "text/x-python",
   "name": "python",
   "nbconvert_exporter": "python",
   "pygments_lexer": "ipython3",
   "version": "3.9.7"
  }
 },
 "nbformat": 4,
 "nbformat_minor": 5
}
