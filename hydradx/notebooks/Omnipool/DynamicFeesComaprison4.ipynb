{
 "cells": [
  {
   "cell_type": "code",
   "execution_count": 1,
   "id": "612e9357-6f7e-4777-b5fd-8ff1bc810cf3",
   "metadata": {
    "collapsed": false,
    "jupyter": {
     "outputs_hidden": false
    }
   },
   "outputs": [],
   "source": [
    "import copy\n",
    "import sys\n",
    "import os\n",
    "import glob\n",
    "import time\n",
    "sys.path.append('../..')\n",
    "\n",
    "from model import processing\n",
    "\n",
    "start_time = time.time()\n",
    "price_dict = processing.import_binance_prices(['DOT', 'ETH', 'SOL', 'BTC'], start_date='Nov 6 2022', days=4)\n",
    "stop_time = time.time()\n",
    "print(f'load time: {round(stop_time - start_time, 3)} seconds')  \n",
    "# we want about .000002 * TVL in volume every block"
   ]
  },
  {
   "cell_type": "code",
   "execution_count": 7,
   "id": "90f5651a-758d-442c-ac21-5f1de08a6db1",
   "metadata": {
    "collapsed": false,
    "jupyter": {
     "outputs_hidden": false
    }
   },
   "outputs": [
    {
     "name": "stdout",
     "output_type": "stream",
     "text": [
      "{'DOT': 7.03, 'ETH': 1627.28, 'SOL': 36.9, 'BTC': 21300.12} {'DOT': 7.02, 'ETH': 1626.28, 'SOL': 36.84, 'BTC': 21296.04}\n"
     ]
    }
   ],
   "source": [
    "price_data = [{tkn: price_dict[tkn][i] for tkn in ['DOT', 'ETH', 'SOL', 'BTC']} for i in range(len(price_dict[tkn]))]\n",
    "print(price_data[0], price_data[1])"
   ]
  },
  {
   "cell_type": "code",
   "execution_count": 2,
   "id": "5399ede8",
   "metadata": {
    "collapsed": false,
    "jupyter": {
     "outputs_hidden": false
    }
   },
   "outputs": [
    {
     "ename": "AttributeError",
     "evalue": "'OmnipoolState' object has no attribute 'last_fee'",
     "output_type": "error",
     "traceback": [
      "\u001b[1;31m---------------------------------------------------------------------------\u001b[0m",
      "\u001b[1;31mAttributeError\u001b[0m                            Traceback (most recent call last)",
      "Input \u001b[1;32mIn [2]\u001b[0m, in \u001b[0;36m<cell line: 42>\u001b[1;34m()\u001b[0m\n\u001b[0;32m     39\u001b[0m     liquidity[tkn] \u001b[38;5;241m=\u001b[39m initial_omnipool_tvl \u001b[38;5;241m*\u001b[39m info[\u001b[38;5;124m'\u001b[39m\u001b[38;5;124mweight\u001b[39m\u001b[38;5;124m'\u001b[39m] \u001b[38;5;241m/\u001b[39m info[\u001b[38;5;124m'\u001b[39m\u001b[38;5;124musd price\u001b[39m\u001b[38;5;124m'\u001b[39m]\n\u001b[0;32m     40\u001b[0m     lrna[tkn] \u001b[38;5;241m=\u001b[39m initial_omnipool_tvl \u001b[38;5;241m*\u001b[39m info[\u001b[38;5;124m'\u001b[39m\u001b[38;5;124mweight\u001b[39m\u001b[38;5;124m'\u001b[39m] \u001b[38;5;241m/\u001b[39m lrna_price_usd\n\u001b[0;32m     42\u001b[0m initial_state \u001b[38;5;241m=\u001b[39m GlobalState(\n\u001b[0;32m     43\u001b[0m     pools\u001b[38;5;241m=\u001b[39m{\n\u001b[1;32m---> 44\u001b[0m         \u001b[38;5;124m'\u001b[39m\u001b[38;5;124momnipool\u001b[39m\u001b[38;5;124m'\u001b[39m: \u001b[43mOmnipoolState\u001b[49m\u001b[43m(\u001b[49m\n\u001b[0;32m     45\u001b[0m \u001b[43m            \u001b[49m\u001b[43mtokens\u001b[49m\u001b[38;5;241;43m=\u001b[39;49m\u001b[43m{\u001b[49m\n\u001b[0;32m     46\u001b[0m \u001b[43m                \u001b[49m\u001b[43mtkn\u001b[49m\u001b[43m:\u001b[49m\u001b[43m \u001b[49m\u001b[43m{\u001b[49m\u001b[38;5;124;43m'\u001b[39;49m\u001b[38;5;124;43mliquidity\u001b[39;49m\u001b[38;5;124;43m'\u001b[39;49m\u001b[43m:\u001b[49m\u001b[43m \u001b[49m\u001b[43mliquidity\u001b[49m\u001b[43m[\u001b[49m\u001b[43mtkn\u001b[49m\u001b[43m]\u001b[49m\u001b[43m,\u001b[49m\u001b[43m \u001b[49m\u001b[38;5;124;43m'\u001b[39;49m\u001b[38;5;124;43mLRNA\u001b[39;49m\u001b[38;5;124;43m'\u001b[39;49m\u001b[43m:\u001b[49m\u001b[43m \u001b[49m\u001b[43mlrna\u001b[49m\u001b[43m[\u001b[49m\u001b[43mtkn\u001b[49m\u001b[43m]\u001b[49m\u001b[43m}\u001b[49m\u001b[43m \u001b[49m\u001b[38;5;28;43;01mfor\u001b[39;49;00m\u001b[43m \u001b[49m\u001b[43mtkn\u001b[49m\u001b[43m \u001b[49m\u001b[38;5;129;43;01min\u001b[39;49;00m\u001b[43m \u001b[49m\u001b[43massets\u001b[49m\n\u001b[0;32m     47\u001b[0m \u001b[43m            \u001b[49m\u001b[43m}\u001b[49m\u001b[43m,\u001b[49m\n\u001b[0;32m     48\u001b[0m \u001b[43m            \u001b[49m\u001b[43moracles\u001b[49m\u001b[38;5;241;43m=\u001b[39;49m\u001b[43m{\u001b[49m\u001b[38;5;124;43m'\u001b[39;49m\u001b[38;5;124;43mfee_raise\u001b[39;49m\u001b[38;5;124;43m'\u001b[39;49m\u001b[43m:\u001b[49m\u001b[43m \u001b[49m\u001b[38;5;241;43m50\u001b[39;49m\u001b[43m}\u001b[49m\u001b[43m,\u001b[49m\u001b[43m  \u001b[49m\u001b[38;5;66;43;03m# , 'fee_lower': 7200},\u001b[39;49;00m\n\u001b[0;32m     49\u001b[0m \u001b[43m            \u001b[49m\u001b[43mlrna_fee\u001b[49m\u001b[38;5;241;43m=\u001b[39;49m\u001b[43mdynamicadd_lrna_fee\u001b[49m\u001b[43m(\u001b[49m\n\u001b[0;32m     50\u001b[0m \u001b[43m                \u001b[49m\u001b[43mminimum\u001b[49m\u001b[38;5;241;43m=\u001b[39;49m\u001b[38;5;241;43m0.0005\u001b[39;49m\u001b[43m,\u001b[49m\n\u001b[0;32m     51\u001b[0m \u001b[43m                \u001b[49m\u001b[43mamplification\u001b[49m\u001b[38;5;241;43m=\u001b[39;49m\u001b[38;5;241;43m1\u001b[39;49m\u001b[43m,\u001b[49m\n\u001b[0;32m     52\u001b[0m \u001b[43m                \u001b[49m\u001b[43mraise_oracle_name\u001b[49m\u001b[38;5;241;43m=\u001b[39;49m\u001b[38;5;124;43m'\u001b[39;49m\u001b[38;5;124;43mfee_raise\u001b[39;49m\u001b[38;5;124;43m'\u001b[39;49m\u001b[43m,\u001b[49m\n\u001b[0;32m     53\u001b[0m \u001b[43m                \u001b[49m\u001b[43mdecay\u001b[49m\u001b[38;5;241;43m=\u001b[39;49m\u001b[38;5;241;43m0.00001\u001b[39;49m\u001b[43m,\u001b[49m\n\u001b[0;32m     54\u001b[0m \u001b[43m                \u001b[49m\u001b[43mfee_max\u001b[49m\u001b[38;5;241;43m=\u001b[39;49m\u001b[38;5;241;43m0.1\u001b[39;49m\u001b[43m,\u001b[49m\n\u001b[0;32m     55\u001b[0m \u001b[43m            \u001b[49m\u001b[43m)\u001b[49m\u001b[43m,\u001b[49m\n\u001b[0;32m     56\u001b[0m \u001b[43m            \u001b[49m\u001b[43masset_fee\u001b[49m\u001b[38;5;241;43m=\u001b[39;49m\u001b[43mdynamicadd_asset_fee\u001b[49m\u001b[43m(\u001b[49m\n\u001b[0;32m     57\u001b[0m \u001b[43m                \u001b[49m\u001b[43mminimum\u001b[49m\u001b[38;5;241;43m=\u001b[39;49m\u001b[38;5;241;43m0.0025\u001b[39;49m\u001b[43m,\u001b[49m\n\u001b[0;32m     58\u001b[0m \u001b[43m                \u001b[49m\u001b[43mamplification\u001b[49m\u001b[38;5;241;43m=\u001b[39;49m\u001b[38;5;241;43m0.2\u001b[39;49m\u001b[43m,\u001b[49m\n\u001b[0;32m     59\u001b[0m \u001b[43m                \u001b[49m\u001b[43mraise_oracle_name\u001b[49m\u001b[38;5;241;43m=\u001b[39;49m\u001b[38;5;124;43m'\u001b[39;49m\u001b[38;5;124;43mfee_raise\u001b[39;49m\u001b[38;5;124;43m'\u001b[39;49m\u001b[43m,\u001b[49m\n\u001b[0;32m     60\u001b[0m \u001b[43m                \u001b[49m\u001b[43mdecay\u001b[49m\u001b[38;5;241;43m=\u001b[39;49m\u001b[38;5;241;43m0.00005\u001b[39;49m\u001b[43m,\u001b[49m\n\u001b[0;32m     61\u001b[0m \u001b[43m                \u001b[49m\u001b[43mfee_max\u001b[49m\u001b[38;5;241;43m=\u001b[39;49m\u001b[38;5;241;43m0.4\u001b[39;49m\u001b[43m,\u001b[49m\n\u001b[0;32m     62\u001b[0m \u001b[43m            \u001b[49m\u001b[43m)\u001b[49m\u001b[43m,\u001b[49m\n\u001b[0;32m     63\u001b[0m \u001b[43m        \u001b[49m\u001b[43m)\u001b[49m\n\u001b[0;32m     64\u001b[0m     },\n\u001b[0;32m     65\u001b[0m     agents \u001b[38;5;241m=\u001b[39m {\n\u001b[0;32m     66\u001b[0m         \u001b[38;5;124m'\u001b[39m\u001b[38;5;124mArbitrageur\u001b[39m\u001b[38;5;124m'\u001b[39m: Agent(\n\u001b[0;32m     67\u001b[0m             holdings\u001b[38;5;241m=\u001b[39m{\u001b[38;5;124m'\u001b[39m\u001b[38;5;124mHDX\u001b[39m\u001b[38;5;124m'\u001b[39m: \u001b[38;5;241m1000000000\u001b[39m, \u001b[38;5;124m'\u001b[39m\u001b[38;5;124mUSD\u001b[39m\u001b[38;5;124m'\u001b[39m: \u001b[38;5;241m1000000000\u001b[39m, \u001b[38;5;124m'\u001b[39m\u001b[38;5;124mR1\u001b[39m\u001b[38;5;124m'\u001b[39m: \u001b[38;5;241m1000000000\u001b[39m, \u001b[38;5;124m'\u001b[39m\u001b[38;5;124mR2\u001b[39m\u001b[38;5;124m'\u001b[39m: \u001b[38;5;241m3000000000\u001b[39m, \u001b[38;5;124m'\u001b[39m\u001b[38;5;124mDOT\u001b[39m\u001b[38;5;124m'\u001b[39m: \u001b[38;5;241m1000000000\u001b[39m, \u001b[38;5;124m'\u001b[39m\u001b[38;5;124mLRNA\u001b[39m\u001b[38;5;124m'\u001b[39m: \u001b[38;5;241m1000000000\u001b[39m, \u001b[38;5;124m'\u001b[39m\u001b[38;5;124mAUSD\u001b[39m\u001b[38;5;124m'\u001b[39m: \u001b[38;5;241m1000000000\u001b[39m, \u001b[38;5;124m'\u001b[39m\u001b[38;5;124mETH\u001b[39m\u001b[38;5;124m'\u001b[39m: \u001b[38;5;241m1000000000\u001b[39m, \u001b[38;5;124m'\u001b[39m\u001b[38;5;124mSOL\u001b[39m\u001b[38;5;124m'\u001b[39m: \u001b[38;5;241m1000000000\u001b[39m, \u001b[38;5;124m'\u001b[39m\u001b[38;5;124mBTC\u001b[39m\u001b[38;5;124m'\u001b[39m: \u001b[38;5;241m1000000000\u001b[39m},\n\u001b[0;32m     68\u001b[0m             trade_strategy\u001b[38;5;241m=\u001b[39momnipool_arbitrage(\n\u001b[0;32m     69\u001b[0m                 pool_id\u001b[38;5;241m=\u001b[39m\u001b[38;5;124m'\u001b[39m\u001b[38;5;124momnipool\u001b[39m\u001b[38;5;124m'\u001b[39m,\n\u001b[0;32m     70\u001b[0m                 arb_precision\u001b[38;5;241m=\u001b[39m\u001b[38;5;241m3\u001b[39m,\n\u001b[0;32m     71\u001b[0m                 \u001b[38;5;66;03m# skip_assets=['HDX']\u001b[39;00m\n\u001b[0;32m     72\u001b[0m             )\n\u001b[0;32m     73\u001b[0m         ),\n\u001b[0;32m     74\u001b[0m         \u001b[38;5;124m'\u001b[39m\u001b[38;5;124mTrader\u001b[39m\u001b[38;5;124m'\u001b[39m: Agent(\n\u001b[0;32m     75\u001b[0m             holdings\u001b[38;5;241m=\u001b[39m{\u001b[38;5;124m'\u001b[39m\u001b[38;5;124mHDX\u001b[39m\u001b[38;5;124m'\u001b[39m: \u001b[38;5;241m1000000000\u001b[39m, \u001b[38;5;124m'\u001b[39m\u001b[38;5;124mUSD\u001b[39m\u001b[38;5;124m'\u001b[39m: \u001b[38;5;241m1000000000\u001b[39m, \u001b[38;5;124m'\u001b[39m\u001b[38;5;124mR1\u001b[39m\u001b[38;5;124m'\u001b[39m: \u001b[38;5;241m1000000000\u001b[39m, \u001b[38;5;124m'\u001b[39m\u001b[38;5;124mR2\u001b[39m\u001b[38;5;124m'\u001b[39m: \u001b[38;5;241m3000000000\u001b[39m, \u001b[38;5;124m'\u001b[39m\u001b[38;5;124mDOT\u001b[39m\u001b[38;5;124m'\u001b[39m: \u001b[38;5;241m1000000000\u001b[39m, \u001b[38;5;124m'\u001b[39m\u001b[38;5;124mLRNA\u001b[39m\u001b[38;5;124m'\u001b[39m: \u001b[38;5;241m1000000000\u001b[39m, \u001b[38;5;124m'\u001b[39m\u001b[38;5;124mAUSD\u001b[39m\u001b[38;5;124m'\u001b[39m: \u001b[38;5;241m1000000000\u001b[39m, \u001b[38;5;124m'\u001b[39m\u001b[38;5;124mETH\u001b[39m\u001b[38;5;124m'\u001b[39m: \u001b[38;5;241m1000000000\u001b[39m, \u001b[38;5;124m'\u001b[39m\u001b[38;5;124mSOL\u001b[39m\u001b[38;5;124m'\u001b[39m: \u001b[38;5;241m1000000000\u001b[39m, \u001b[38;5;124m'\u001b[39m\u001b[38;5;124mBTC\u001b[39m\u001b[38;5;124m'\u001b[39m: \u001b[38;5;241m1000000000\u001b[39m},\n\u001b[0;32m     76\u001b[0m             trade_strategy\u001b[38;5;241m=\u001b[39mback_and_forth(\n\u001b[0;32m     77\u001b[0m                 pool_id\u001b[38;5;241m=\u001b[39m\u001b[38;5;124m'\u001b[39m\u001b[38;5;124momnipool\u001b[39m\u001b[38;5;124m'\u001b[39m,\n\u001b[0;32m     78\u001b[0m                 percentage\u001b[38;5;241m=\u001b[39m\u001b[38;5;241m0.000014\u001b[39m\n\u001b[0;32m     79\u001b[0m             )\n\u001b[0;32m     80\u001b[0m         ),\n\u001b[0;32m     81\u001b[0m         \u001b[38;5;124m'\u001b[39m\u001b[38;5;124mLP\u001b[39m\u001b[38;5;124m'\u001b[39m: Agent(\n\u001b[0;32m     82\u001b[0m             holdings\u001b[38;5;241m=\u001b[39m{tkn: liquidity[tkn] \u001b[38;5;241m/\u001b[39m \u001b[38;5;241m10\u001b[39m \u001b[38;5;28;01mfor\u001b[39;00m tkn \u001b[38;5;129;01min\u001b[39;00m assets},\n\u001b[0;32m     83\u001b[0m             trade_strategy\u001b[38;5;241m=\u001b[39minvest_all(\u001b[38;5;124m'\u001b[39m\u001b[38;5;124momnipool\u001b[39m\u001b[38;5;124m'\u001b[39m)\n\u001b[0;32m     84\u001b[0m         ),\n\u001b[0;32m     85\u001b[0m         \u001b[38;5;124m'\u001b[39m\u001b[38;5;124mLPDOT\u001b[39m\u001b[38;5;124m'\u001b[39m: Agent(\n\u001b[0;32m     86\u001b[0m             holdings\u001b[38;5;241m=\u001b[39m{\u001b[38;5;124m'\u001b[39m\u001b[38;5;124mDOT\u001b[39m\u001b[38;5;124m'\u001b[39m: liquidity[\u001b[38;5;124m'\u001b[39m\u001b[38;5;124mDOT\u001b[39m\u001b[38;5;124m'\u001b[39m] \u001b[38;5;241m/\u001b[39m \u001b[38;5;241m10\u001b[39m},\n\u001b[0;32m     87\u001b[0m             trade_strategy\u001b[38;5;241m=\u001b[39minvest_all(\u001b[38;5;124m'\u001b[39m\u001b[38;5;124momnipool\u001b[39m\u001b[38;5;124m'\u001b[39m)\n\u001b[0;32m     88\u001b[0m         ),\n\u001b[0;32m     89\u001b[0m         \u001b[38;5;124m'\u001b[39m\u001b[38;5;124mLPUSD\u001b[39m\u001b[38;5;124m'\u001b[39m: Agent(\n\u001b[0;32m     90\u001b[0m             holdings\u001b[38;5;241m=\u001b[39m{\u001b[38;5;124m'\u001b[39m\u001b[38;5;124mUSD\u001b[39m\u001b[38;5;124m'\u001b[39m: liquidity[\u001b[38;5;124m'\u001b[39m\u001b[38;5;124mUSD\u001b[39m\u001b[38;5;124m'\u001b[39m] \u001b[38;5;241m/\u001b[39m \u001b[38;5;241m10\u001b[39m},\n\u001b[0;32m     91\u001b[0m             trade_strategy\u001b[38;5;241m=\u001b[39minvest_all(\u001b[38;5;124m'\u001b[39m\u001b[38;5;124momnipool\u001b[39m\u001b[38;5;124m'\u001b[39m)\n\u001b[0;32m     92\u001b[0m         ),\n\u001b[0;32m     93\u001b[0m         \u001b[38;5;124m'\u001b[39m\u001b[38;5;124mLPETH\u001b[39m\u001b[38;5;124m'\u001b[39m: Agent(\n\u001b[0;32m     94\u001b[0m             holdings\u001b[38;5;241m=\u001b[39m{\u001b[38;5;124m'\u001b[39m\u001b[38;5;124mETH\u001b[39m\u001b[38;5;124m'\u001b[39m: liquidity[\u001b[38;5;124m'\u001b[39m\u001b[38;5;124mETH\u001b[39m\u001b[38;5;124m'\u001b[39m] \u001b[38;5;241m/\u001b[39m \u001b[38;5;241m10\u001b[39m},\n\u001b[0;32m     95\u001b[0m             trade_strategy\u001b[38;5;241m=\u001b[39minvest_all(\u001b[38;5;124m'\u001b[39m\u001b[38;5;124momnipool\u001b[39m\u001b[38;5;124m'\u001b[39m)\n\u001b[0;32m     96\u001b[0m         )\n\u001b[0;32m     97\u001b[0m     },\n\u001b[0;32m     98\u001b[0m     evolve_function\u001b[38;5;241m=\u001b[39mhistorical_prices(price_list),\n\u001b[0;32m     99\u001b[0m     external_market\u001b[38;5;241m=\u001b[39m{tkn: assets[tkn][\u001b[38;5;124m'\u001b[39m\u001b[38;5;124musd price\u001b[39m\u001b[38;5;124m'\u001b[39m] \u001b[38;5;28;01mfor\u001b[39;00m tkn \u001b[38;5;129;01min\u001b[39;00m assets},\n\u001b[0;32m    100\u001b[0m     archive_all\u001b[38;5;241m=\u001b[39m\u001b[38;5;28;01mFalse\u001b[39;00m,\n\u001b[0;32m    101\u001b[0m )\n\u001b[0;32m    103\u001b[0m \u001b[38;5;66;03m# import cProfile, pstats\u001b[39;00m\n\u001b[0;32m    104\u001b[0m \u001b[38;5;66;03m# profiler = cProfile.Profile()\u001b[39;00m\n\u001b[0;32m    105\u001b[0m \u001b[38;5;66;03m# profiler.enable()\u001b[39;00m\n\u001b[0;32m    107\u001b[0m time_steps \u001b[38;5;241m=\u001b[39m \u001b[38;5;28mlen\u001b[39m(price_dict[\u001b[38;5;124m'\u001b[39m\u001b[38;5;124mETH\u001b[39m\u001b[38;5;124m'\u001b[39m])\u001b[38;5;241m-\u001b[39m\u001b[38;5;241m1\u001b[39m\n",
      "File \u001b[1;32m~\\PycharmProjects\\HydraDX-simulations\\hydradx\\notebooks\\Omnipool\\../..\\model\\amm\\omnipool_amm.py:94\u001b[0m, in \u001b[0;36mOmnipoolState.__init__\u001b[1;34m(self, tokens, tvl_cap, preferred_stablecoin, asset_fee, lrna_fee, oracles, trade_limit_per_block, update_function)\u001b[0m\n\u001b[0;32m     91\u001b[0m \u001b[38;5;28mself\u001b[39m\u001b[38;5;241m.\u001b[39mupdate()\n\u001b[0;32m     93\u001b[0m \u001b[38;5;66;03m# record these for analysis later\u001b[39;00m\n\u001b[1;32m---> 94\u001b[0m \u001b[38;5;28mself\u001b[39m\u001b[38;5;241m.\u001b[39mlast_fee \u001b[38;5;241m=\u001b[39m {tkn: \u001b[38;5;28mself\u001b[39m\u001b[38;5;241m.\u001b[39masset_fee[tkn]\u001b[38;5;241m.\u001b[39mcompute(tkn, \u001b[38;5;241m1\u001b[39m) \u001b[38;5;28;01mfor\u001b[39;00m tkn \u001b[38;5;129;01min\u001b[39;00m \u001b[38;5;28mself\u001b[39m\u001b[38;5;241m.\u001b[39masset_list}\n\u001b[0;32m     95\u001b[0m \u001b[38;5;28mself\u001b[39m\u001b[38;5;241m.\u001b[39mlast_lrna_fee \u001b[38;5;241m=\u001b[39m {tkn: \u001b[38;5;28mself\u001b[39m\u001b[38;5;241m.\u001b[39mlrna_fee[tkn]\u001b[38;5;241m.\u001b[39mcompute(tkn, \u001b[38;5;241m1\u001b[39m) \u001b[38;5;28;01mfor\u001b[39;00m tkn \u001b[38;5;129;01min\u001b[39;00m \u001b[38;5;28mself\u001b[39m\u001b[38;5;241m.\u001b[39masset_list}\n",
      "File \u001b[1;32m~\\PycharmProjects\\HydraDX-simulations\\hydradx\\notebooks\\Omnipool\\../..\\model\\amm\\omnipool_amm.py:94\u001b[0m, in \u001b[0;36m<dictcomp>\u001b[1;34m(.0)\u001b[0m\n\u001b[0;32m     91\u001b[0m \u001b[38;5;28mself\u001b[39m\u001b[38;5;241m.\u001b[39mupdate()\n\u001b[0;32m     93\u001b[0m \u001b[38;5;66;03m# record these for analysis later\u001b[39;00m\n\u001b[1;32m---> 94\u001b[0m \u001b[38;5;28mself\u001b[39m\u001b[38;5;241m.\u001b[39mlast_fee \u001b[38;5;241m=\u001b[39m {tkn: \u001b[38;5;28;43mself\u001b[39;49m\u001b[38;5;241;43m.\u001b[39;49m\u001b[43masset_fee\u001b[49m\u001b[43m[\u001b[49m\u001b[43mtkn\u001b[49m\u001b[43m]\u001b[49m\u001b[38;5;241;43m.\u001b[39;49m\u001b[43mcompute\u001b[49m\u001b[43m(\u001b[49m\u001b[43mtkn\u001b[49m\u001b[43m,\u001b[49m\u001b[43m \u001b[49m\u001b[38;5;241;43m1\u001b[39;49m\u001b[43m)\u001b[49m \u001b[38;5;28;01mfor\u001b[39;00m tkn \u001b[38;5;129;01min\u001b[39;00m \u001b[38;5;28mself\u001b[39m\u001b[38;5;241m.\u001b[39masset_list}\n\u001b[0;32m     95\u001b[0m \u001b[38;5;28mself\u001b[39m\u001b[38;5;241m.\u001b[39mlast_lrna_fee \u001b[38;5;241m=\u001b[39m {tkn: \u001b[38;5;28mself\u001b[39m\u001b[38;5;241m.\u001b[39mlrna_fee[tkn]\u001b[38;5;241m.\u001b[39mcompute(tkn, \u001b[38;5;241m1\u001b[39m) \u001b[38;5;28;01mfor\u001b[39;00m tkn \u001b[38;5;129;01min\u001b[39;00m \u001b[38;5;28mself\u001b[39m\u001b[38;5;241m.\u001b[39masset_list}\n",
      "File \u001b[1;32m~\\PycharmProjects\\HydraDX-simulations\\hydradx\\notebooks\\Omnipool\\../..\\model\\amm\\amm.py:20\u001b[0m, in \u001b[0;36mFeeMechanism.compute\u001b[1;34m(self, tkn, delta_tkn)\u001b[0m\n\u001b[0;32m     19\u001b[0m \u001b[38;5;28;01mdef\u001b[39;00m \u001b[38;5;21mcompute\u001b[39m(\u001b[38;5;28mself\u001b[39m, tkn: \u001b[38;5;28mstr\u001b[39m \u001b[38;5;241m=\u001b[39m \u001b[38;5;124m'\u001b[39m\u001b[38;5;124m'\u001b[39m, delta_tkn: \u001b[38;5;28mfloat\u001b[39m \u001b[38;5;241m=\u001b[39m \u001b[38;5;241m0\u001b[39m) \u001b[38;5;241m-\u001b[39m\u001b[38;5;241m>\u001b[39m \u001b[38;5;28mfloat\u001b[39m:\n\u001b[1;32m---> 20\u001b[0m     \u001b[38;5;28;01mreturn\u001b[39;00m \u001b[38;5;28;43mself\u001b[39;49m\u001b[38;5;241;43m.\u001b[39;49m\u001b[43mfee_function\u001b[49m\u001b[43m(\u001b[49m\n\u001b[0;32m     21\u001b[0m \u001b[43m        \u001b[49m\u001b[43mexchange\u001b[49m\u001b[38;5;241;43m=\u001b[39;49m\u001b[38;5;28;43mself\u001b[39;49m\u001b[38;5;241;43m.\u001b[39;49m\u001b[43mexchange\u001b[49m\u001b[43m,\u001b[49m\n\u001b[0;32m     22\u001b[0m \u001b[43m        \u001b[49m\u001b[43mtkn\u001b[49m\u001b[38;5;241;43m=\u001b[39;49m\u001b[43mtkn\u001b[49m\u001b[43m \u001b[49m\u001b[38;5;129;43;01mor\u001b[39;49;00m\u001b[43m \u001b[49m\u001b[38;5;28;43mself\u001b[39;49m\u001b[38;5;241;43m.\u001b[39;49m\u001b[43mtkn\u001b[49m\u001b[43m,\u001b[49m\n\u001b[0;32m     23\u001b[0m \u001b[43m        \u001b[49m\u001b[43mdelta_tkn\u001b[49m\u001b[38;5;241;43m=\u001b[39;49m\u001b[43mdelta_tkn\u001b[49m\n\u001b[0;32m     24\u001b[0m \u001b[43m    \u001b[49m\u001b[43m)\u001b[49m\n",
      "File \u001b[1;32m~\\PycharmProjects\\HydraDX-simulations\\hydradx\\notebooks\\Omnipool\\../..\\model\\amm\\omnipool_amm.py:1162\u001b[0m, in \u001b[0;36mdynamicadd_asset_fee.<locals>.Fee.fee_function\u001b[1;34m(self, exchange, tkn, delta_tkn)\u001b[0m\n\u001b[0;32m   1154\u001b[0m \u001b[38;5;66;03m# # with liquidity fraction\u001b[39;00m\n\u001b[0;32m   1155\u001b[0m \u001b[38;5;66;03m# if x >= 0:\u001b[39;00m\n\u001b[0;32m   1156\u001b[0m \u001b[38;5;66;03m#     fee_adj = max(frac - 1, 0) * amplification * x - decay\u001b[39;00m\n\u001b[0;32m   1157\u001b[0m \u001b[38;5;66;03m# else:\u001b[39;00m\n\u001b[0;32m   1158\u001b[0m \u001b[38;5;66;03m#     fee_adj = amplification * x - decay\u001b[39;00m\n\u001b[0;32m   1160\u001b[0m fee_adj \u001b[38;5;241m=\u001b[39m amplification \u001b[38;5;241m*\u001b[39m x \u001b[38;5;241m-\u001b[39m decay\n\u001b[1;32m-> 1162\u001b[0m previous_fee \u001b[38;5;241m=\u001b[39m \u001b[43mexchange\u001b[49m\u001b[38;5;241;43m.\u001b[39;49m\u001b[43mlast_fee\u001b[49m[tkn]\n\u001b[0;32m   1164\u001b[0m fee \u001b[38;5;241m=\u001b[39m \u001b[38;5;28mmin\u001b[39m(\u001b[38;5;28mmax\u001b[39m(previous_fee \u001b[38;5;241m+\u001b[39m fee_adj, minimum), fee_max)\n\u001b[0;32m   1165\u001b[0m \u001b[38;5;66;03m# exchange.last_mult[tkn] = mult\u001b[39;00m\n",
      "\u001b[1;31mAttributeError\u001b[0m: 'OmnipoolState' object has no attribute 'last_fee'"
     ]
    }
   ],
   "source": [
    "from pprint import pprint\n",
    "import pandas as pd\n",
    "import random\n",
    "import sys\n",
    "from matplotlib import pyplot as plt\n",
    "sys.path.append('../..')\n",
    "\n",
    "from model import run\n",
    "from model import plot_utils as pu\n",
    "from model import processing\n",
    "from model.amm.omnipool_amm import OmnipoolState, dynamic_asset_fee, dynamic_lrna_fee, dynamicmult_lrna_fee, dynamicmult_asset_fee, dynamicadd_asset_fee, dynamicadd_lrna_fee\n",
    "from model.amm import omnipool_amm as oamm\n",
    "\n",
    "from model.amm.agents import Agent\n",
    "from model.amm.trade_strategies import omnipool_arbitrage, invest_all, back_and_forth\n",
    "from model.amm.global_state import GlobalState, fluctuate_prices, historical_prices, cash_out_omnipool\n",
    "\n",
    "# same seed, same parameters = same simulation result\n",
    "random.seed(42)\n",
    "\n",
    "assets = {}\n",
    "omnipool_assets = ['HDX', 'USD', 'AUSD', 'ETH', 'DOT']\n",
    "\n",
    "assets = {\n",
    "    'HDX': {'usd price': 0.005, 'weight': 0.10},\n",
    "    'USD': {'usd price': 1, 'weight': 0.30},\n",
    "    'BTC': {'usd price': price_dict['BTC'][0], 'weight': 0.10},\n",
    "    'ETH': {'usd price': price_dict['ETH'][0], 'weight': 0.10},\n",
    "    'DOT': {'usd price': price_dict['DOT'][0], 'weight': 0.30},\n",
    "    'SOL': {'usd price': price_dict['SOL'][0], 'weight': 0.10},\n",
    "}\n",
    "\n",
    "lrna_price_usd = 22\n",
    "initial_omnipool_tvl = 10000000\n",
    "liquidity = {}\n",
    "lrna = {}\n",
    "\n",
    "for tkn, info in assets.items():\n",
    "    liquidity[tkn] = initial_omnipool_tvl * info['weight'] / info['usd price']\n",
    "    lrna[tkn] = initial_omnipool_tvl * info['weight'] / lrna_price_usd\n",
    "\n",
    "initial_state = GlobalState(\n",
    "    pools={\n",
    "        'omnipool': OmnipoolState(\n",
    "            tokens={\n",
    "                tkn: {'liquidity': liquidity[tkn], 'LRNA': lrna[tkn]} for tkn in assets\n",
    "            },\n",
    "            oracles={'fee_raise': 50},  # , 'fee_lower': 7200},\n",
    "            lrna_fee=dynamicadd_lrna_fee(\n",
    "                minimum=0.0005,\n",
    "                amplification=1,\n",
    "                raise_oracle_name='fee_raise',\n",
    "                decay=0.00001,\n",
    "                fee_max=0.1,\n",
    "            ),\n",
    "            asset_fee=dynamicadd_asset_fee(\n",
    "                minimum=0.0025,\n",
    "                amplification=0.2,\n",
    "                raise_oracle_name='fee_raise',\n",
    "                decay=0.00005,\n",
    "                fee_max=0.4,\n",
    "            ),\n",
    "        )\n",
    "    },\n",
    "    agents = {\n",
    "        'Arbitrageur': Agent(\n",
    "            holdings={'HDX': 1000000000, 'USD': 1000000000, 'R1': 1000000000, 'R2': 3000000000, 'DOT': 1000000000, 'LRNA': 1000000000, 'AUSD': 1000000000, 'ETH': 1000000000, 'SOL': 1000000000, 'BTC': 1000000000},\n",
    "            trade_strategy=omnipool_arbitrage(\n",
    "                pool_id='omnipool',\n",
    "                arb_precision=3,\n",
    "                # skip_assets=['HDX']\n",
    "            )\n",
    "        ),\n",
    "        'Trader': Agent(\n",
    "            holdings={'HDX': 1000000000, 'USD': 1000000000, 'R1': 1000000000, 'R2': 3000000000, 'DOT': 1000000000, 'LRNA': 1000000000, 'AUSD': 1000000000, 'ETH': 1000000000, 'SOL': 1000000000, 'BTC': 1000000000},\n",
    "            trade_strategy=back_and_forth(\n",
    "                pool_id='omnipool',\n",
    "                percentage=0.000014\n",
    "            )\n",
    "        ),\n",
    "        'LP': Agent(\n",
    "            holdings={tkn: liquidity[tkn] / 10 for tkn in assets},\n",
    "            trade_strategy=invest_all('omnipool')\n",
    "        ),\n",
    "        'LPDOT': Agent(\n",
    "            holdings={'DOT': liquidity['DOT'] / 10},\n",
    "            trade_strategy=invest_all('omnipool')\n",
    "        ),\n",
    "        'LPUSD': Agent(\n",
    "            holdings={'USD': liquidity['USD'] / 10},\n",
    "            trade_strategy=invest_all('omnipool')\n",
    "        ),\n",
    "        'LPETH': Agent(\n",
    "            holdings={'ETH': liquidity['ETH'] / 10},\n",
    "            trade_strategy=invest_all('omnipool')\n",
    "        )\n",
    "    },\n",
    "    evolve_function=historical_prices(price_list),\n",
    "    external_market={tkn: assets[tkn]['usd price'] for tkn in assets},\n",
    "    archive_all=False,\n",
    ")\n",
    "\n",
    "# import cProfile, pstats\n",
    "# profiler = cProfile.Profile()\n",
    "# profiler.enable()\n",
    "\n",
    "time_steps = len(price_dict['ETH'])-1\n",
    "print(f'Running with {time_steps} time steps')\n",
    "events = run.run(initial_state, time_steps=time_steps)\n",
    "# events = processing.postprocessing(events, optional_params=['withdraw_val'])\n",
    "\n",
    "# profiler.disable()\n",
    "# stats = pstats.Stats(profiler)\n",
    "# stats.dump_stats('profile-data2')"
   ]
  },
  {
   "cell_type": "code",
   "execution_count": null,
   "id": "63d43e67",
   "metadata": {
    "collapsed": false,
    "jupyter": {
     "outputs_hidden": false
    }
   },
   "outputs": [],
   "source": [
    "print(type(events[0].pools))"
   ]
  },
  {
   "cell_type": "code",
   "execution_count": null,
   "id": "fbb48ae7-cc78-4709-90ca-a7921c37fa5d",
   "metadata": {},
   "outputs": [],
   "source": [
    "\n",
    "usd_index = -1\n",
    "for i in range(len(initial_state.pools['omnipool'].asset_list)):\n",
    "    if initial_state.pools['omnipool'].asset_list[i] == \"USD\":\n",
    "        usd_index = i\n",
    "        break\n",
    "\n",
    "# get USD fees\n",
    "USD_fees = [None]*len(events)\n",
    "USD_lrna_fees = [None]*len(events)\n",
    "for i in range(len(events)):\n",
    "    op = events[i].pools['omnipool']\n",
    "    USD_fees[i] = op.last_fee['USD']\n",
    "    USD_lrna_fees[i] = op.last_lrna_fee['USD']\n",
    "\n",
    "\n",
    "for tkn in initial_state.pools['omnipool'].asset_list:\n",
    "    prices = [None]*len(events)\n",
    "    last_fees = [None]*len(events)\n",
    "    last_lrna_fees = [None]*len(events)\n",
    "    buy_prices = [None]*len(events)\n",
    "    sell_prices = [None]*len(events)\n",
    "    market_prices = [None]*len(events)\n",
    "    for i in range(len(events)):\n",
    "        op = events[i].pools['omnipool']\n",
    "        market_prices[i] = events[i].external_market[tkn]\n",
    "        prices[i] = oamm.usd_price(op, tkn)\n",
    "        last_fees[i] = op.last_fee[tkn]\n",
    "        last_lrna_fees[i] = op.last_lrna_fee[tkn]\n",
    "        buy_prices[i] = prices[i] / (1 - last_fees[i]) / (1 - USD_lrna_fees[i])\n",
    "        sell_prices[i] = prices[i] * (1 - USD_fees[i]) * (1 - last_lrna_fees[i])\n",
    "\n",
    "    ax = pu.plot(prices)\n",
    "    ax = pu.plot(buy_prices, subplot=ax)\n",
    "    ax = pu.plot(sell_prices, subplot=ax)\n",
    "    # pprint(tkn)\n",
    "    pu.plot(market_prices, subplot=ax)\n",
    "    plt.title(tkn)\n"
   ]
  },
  {
   "cell_type": "code",
   "execution_count": null,
   "id": "c6ebbc15",
   "metadata": {
    "collapsed": false,
    "jupyter": {
     "outputs_hidden": false
    }
   },
   "outputs": [],
   "source": [
    "market = events[0].external_market\n",
    "print(market)"
   ]
  },
  {
   "cell_type": "code",
   "execution_count": null,
   "id": "f876a82b",
   "metadata": {
    "collapsed": false,
    "jupyter": {
     "outputs_hidden": false
    }
   },
   "outputs": [],
   "source": []
  },
  {
   "cell_type": "code",
   "execution_count": null,
   "id": "4118ee78",
   "metadata": {
    "collapsed": false,
    "jupyter": {
     "outputs_hidden": false
    }
   },
   "outputs": [],
   "source": [
    "\n",
    "print(\":::FEES:::\")\n",
    "\n",
    "for tkn in initial_state.pools['omnipool'].asset_list:\n",
    "    last_fee = [events[i].pools['omnipool'].last_fee[tkn] for i in range(100,len(events))]\n",
    "    pu.plot(last_fee)\n",
    "    plt.title(tkn)"
   ]
  },
  {
   "cell_type": "code",
   "execution_count": null,
   "id": "1276439d",
   "metadata": {
    "collapsed": false,
    "jupyter": {
     "outputs_hidden": false
    }
   },
   "outputs": [],
   "source": [
    "for tkn in initial_state.pools['omnipool'].asset_list:\n",
    "    last_lrna_fee = [events[i].pools['omnipool'].last_lrna_fee[tkn] for i in range(100,len(events))]\n",
    "    pu.plot(last_fee)\n",
    "    plt.title(tkn)"
   ]
  },
  {
   "cell_type": "code",
   "execution_count": null,
   "id": "8dccbfb3",
   "metadata": {
    "collapsed": false,
    "jupyter": {
     "outputs_hidden": false
    }
   },
   "outputs": [],
   "source": [
    "basic_state = initial_state.copy()\n",
    "basic_state.pools['omnipool'].lrna_fee = 0.0005\n",
    "basic_state.pools['omnipool'].asset_fee = 0.0025\n",
    "\n",
    "events2 = run.run(basic_state, time_steps=time_steps)\n",
    "# events2 = processing.postprocessing(events2, optional_params=['withdraw_val'])\n",
    "\n",
    "# print(events2[-1])\n",
    "# feeless_arbitrageur = events2[-1]['state'].agents['Arbitrageur']"
   ]
  },
  {
   "cell_type": "code",
   "execution_count": null,
   "id": "b3a56a24",
   "metadata": {
    "collapsed": false,
    "jupyter": {
     "outputs_hidden": false
    }
   },
   "outputs": [],
   "source": [
    "lrna_prices = [1/oamm.price(event.pools['omnipool'], \"USD\") for event in events[100:]]\n",
    "lrna_prices2 = [1/oamm.price(event.pools['omnipool'], \"USD\") for event in events2[100:]]\n",
    "ax = pu.plot(lrna_prices)\n",
    "pu.plot(lrna_prices2, subplot=ax)"
   ]
  },
  {
   "cell_type": "code",
   "execution_count": null,
   "id": "f426e645",
   "metadata": {
    "collapsed": false,
    "jupyter": {
     "outputs_hidden": false
    }
   },
   "outputs": [],
   "source": [
    "usd_index = -1\n",
    "for i in range(len(initial_state.pools['omnipool'].asset_list)):\n",
    "    if initial_state.pools['omnipool'].asset_list[i] == \"USD\":\n",
    "        usd_index = i\n",
    "        break\n",
    "\n",
    "# get USD fees\n",
    "USD_fees = [None]*len(events2)\n",
    "USD_lrna_fees = [None]*len(events2)\n",
    "for i in range(len(events2)):\n",
    "    op = events2[i].pools['omnipool']\n",
    "    USD_fees[i] = op.last_fee['USD']\n",
    "    USD_lrna_fees[i] = op.last_lrna_fee['USD']\n",
    "\n",
    "\n",
    "for tkn in initial_state.pools['omnipool'].asset_list:\n",
    "    prices = [None]*len(events2)\n",
    "    last_fees = [None]*len(events2)\n",
    "    last_lrna_fees = [None]*len(events2)\n",
    "    buy_prices = [None]*len(events2)\n",
    "    sell_prices = [None]*len(events2)\n",
    "    market_prices = [None]*len(events2)\n",
    "    for i in range(len(events2)):\n",
    "        op = events2[i].pools['omnipool']\n",
    "        market_prices[i] = events2[i].external_market[tkn]\n",
    "        prices[i] = oamm.usd_price(op, tkn)\n",
    "        last_fees[i] = op.last_fee[tkn]\n",
    "        last_lrna_fees[i] = op.last_lrna_fee[tkn]\n",
    "        buy_prices[i] = prices[i] / (1 - last_fees[i]) / (1 - USD_lrna_fees[i])\n",
    "        sell_prices[i] = prices[i] * (1 - USD_fees[i]) * (1 - last_lrna_fees[i])\n",
    "\n",
    "    ax = pu.plot(prices)\n",
    "    ax = pu.plot(buy_prices, subplot=ax)\n",
    "    ax = pu.plot(sell_prices, subplot=ax)\n",
    "    pu.plot(market_prices, subplot=ax)\n",
    "    plt.title(tkn)\n"
   ]
  },
  {
   "cell_type": "code",
   "execution_count": null,
   "id": "450ab333",
   "metadata": {
    "collapsed": false,
    "jupyter": {
     "outputs_hidden": false
    }
   },
   "outputs": [],
   "source": [
    "basic_state = initial_state.copy()\n",
    "basic_state.pools['omnipool'].lrna_fee = 0.0000\n",
    "basic_state.pools['omnipool'].asset_fee = 0.0000\n",
    "\n",
    "events3 = run.run(basic_state, time_steps=time_steps)"
   ]
  },
  {
   "cell_type": "code",
   "execution_count": null,
   "id": "ce141570",
   "metadata": {
    "collapsed": false,
    "jupyter": {
     "outputs_hidden": false
    }
   },
   "outputs": [],
   "source": [
    "usd_index = -1\n",
    "for i in range(len(initial_state.pools['omnipool'].asset_list)):\n",
    "    if initial_state.pools['omnipool'].asset_list[i] == \"USD\":\n",
    "        usd_index = i\n",
    "        break\n",
    "\n",
    "# get USD fees\n",
    "USD_fees = [None]*len(events3)\n",
    "USD_lrna_fees = [None]*len(events3)\n",
    "for i in range(len(events3)):\n",
    "    op = events3[i].pools['omnipool']\n",
    "    USD_fees[i] = op.last_fee['USD']\n",
    "    USD_lrna_fees[i] = op.last_lrna_fee['USD']\n",
    "\n",
    "\n",
    "for tkn in initial_state.pools['omnipool'].asset_list:\n",
    "    prices = [None]*len(events3)\n",
    "    last_fees = [None]*len(events3)\n",
    "    last_lrna_fees = [None]*len(events3)\n",
    "    buy_prices = [None]*len(events3)\n",
    "    sell_prices = [None]*len(events3)\n",
    "    market_prices = [None]*len(events3)\n",
    "    for i in range(len(events3)):\n",
    "        op = events3[i].pools['omnipool']\n",
    "        market_prices[i] = events3[i].external_market[tkn]\n",
    "        prices[i] = oamm.usd_price(op, tkn)\n",
    "        last_fees[i] = op.last_fee[tkn]\n",
    "        last_lrna_fees[i] = op.last_lrna_fee[tkn]\n",
    "        buy_prices[i] = prices[i] / (1 - last_fees[i]) / (1 - USD_lrna_fees[i])\n",
    "        sell_prices[i] = prices[i] * (1 - USD_fees[i]) * (1 - last_lrna_fees[i])\n",
    "\n",
    "    ax = pu.plot(prices)\n",
    "    ax = pu.plot(buy_prices, subplot=ax)\n",
    "    ax = pu.plot(sell_prices, subplot=ax)\n",
    "    pu.plot(market_prices, subplot=ax)\n",
    "    plt.title(tkn)\n"
   ]
  },
  {
   "cell_type": "code",
   "execution_count": null,
   "id": "a35d45a4",
   "metadata": {
    "collapsed": false,
    "jupyter": {
     "outputs_hidden": false
    }
   },
   "outputs": [],
   "source": [
    "LP_AMT = {tkn: liquidity[tkn]/10 for tkn in ['ETH', 'DOT', 'USD']}\n",
    "\n",
    "LP_cashout_dynamic = {}\n",
    "LP_cashout_static = {}\n",
    "LP_cashout_zero = {}\n",
    "LP_profit_dynamic = {}\n",
    "LP_profit_static = {}\n",
    "LP_profit_zero = {}\n",
    "LP_HOLD = {}\n",
    "\n",
    "real_market_prices = [e.external_market for e in events]\n",
    "n = len(events)\n",
    "\n",
    "for tkn in ['ETH', 'DOT', 'USD']:\n",
    "    LP_HOLD[tkn] = [LP_AMT[tkn] * p_dict[tkn] for p_dict in real_market_prices]\n",
    "\n",
    "    LP_cashout_dynamic[tkn] = [cash_out_omnipool(e.pools['omnipool'], e.agents['LP' + tkn], e.external_market) for e in events]\n",
    "    LP_cashout_static[tkn] = [cash_out_omnipool(e.pools['omnipool'], e.agents['LP' + tkn], e.external_market) for e in events2]\n",
    "    LP_cashout_zero[tkn] = [cash_out_omnipool(e.pools['omnipool'], e.agents['LP' + tkn], e.external_market) for e in events3]\n",
    "\n",
    "    LP_profit_dynamic[tkn] = [(LP_cashout_dynamic[tkn][i] - LP_HOLD[tkn][i])/LP_HOLD[tkn][i] for i in range(n)]\n",
    "    LP_profit_static[tkn] = [(LP_cashout_static[tkn][i] - LP_HOLD[tkn][i])/LP_HOLD[tkn][i] for i in range(n)]\n",
    "    LP_profit_zero[tkn] = [(LP_cashout_zero[tkn][i] - LP_HOLD[tkn][i])/LP_HOLD[tkn][i] for i in range(n)]\n",
    "\n",
    "    ax = pu.plot(LP_profit_dynamic[tkn])\n",
    "    ax = pu.plot(LP_profit_static[tkn], subplot=ax)\n",
    "    pu.plot(LP_profit_zero[tkn], subplot=ax)\n",
    "    plt.title(tkn)"
   ]
  },
  {
   "cell_type": "code",
   "execution_count": null,
   "id": "12fc2b1a",
   "metadata": {
    "collapsed": false,
    "jupyter": {
     "outputs_hidden": false
    }
   },
   "outputs": [],
   "source": []
  }
 ],
 "metadata": {
  "kernelspec": {
   "display_name": "Python 3 (ipykernel)",
   "language": "python",
   "name": "python3"
  },
  "language_info": {
   "codemirror_mode": {
    "name": "ipython",
    "version": 3
   },
   "file_extension": ".py",
   "mimetype": "text/x-python",
   "name": "python",
   "nbconvert_exporter": "python",
   "pygments_lexer": "ipython3",
   "version": "3.9.7"
  }
 },
 "nbformat": 4,
 "nbformat_minor": 5
}
