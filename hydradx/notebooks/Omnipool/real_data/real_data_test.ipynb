{
 "cells": [
  {
   "cell_type": "code",
   "execution_count": 1,
   "metadata": {
    "collapsed": true
   },
   "outputs": [
    {
     "name": "stdout",
     "output_type": "stream",
     "text": [
      "[{'amount_in': 5100.0,\n",
      "  'amount_out': 6.6970616296,\n",
      "  'asset_in': 'HDX',\n",
      "  'asset_out': 'DOT',\n",
      "  'block_no': 1900287,\n",
      "  'fee': 1560001755092,\n",
      "  'id': '0001900287-000002-ea2db',\n",
      "  'limit_amount': 6.6300910134,\n",
      "  'success': True,\n",
      "  'tip': 0,\n",
      "  'tx_no': 2,\n",
      "  'type': 'sell',\n",
      "  'who': '0x6a3ead3a429f0f8d6d17efedbd57e0dd432b3bf6b739bee70976803d1e313119'},\n",
      " {'amount_in': 668.5429634704999,\n",
      "  'amount_out': 100.0,\n",
      "  'asset_in': 'DAI',\n",
      "  'asset_out': 'DOT',\n",
      "  'block_no': 1900334,\n",
      "  'fee': 1570001755689,\n",
      "  'id': '0001900334-000002-1797a',\n",
      "  'limit_amount': 670.5485923609114,\n",
      "  'success': True,\n",
      "  'tip': 0,\n",
      "  'tx_no': 2,\n",
      "  'type': 'buy',\n",
      "  'who': '0xc8c25eb1ff050a4cd727c3db2af34066ef0992fc2732176647b0dc7cea55f540'},\n",
      " {'amount_in': 100.0,\n",
      "  'amount_out': 75732.40042241868,\n",
      "  'asset_in': 'DOT',\n",
      "  'asset_out': 'HDX',\n",
      "  'block_no': 1900427,\n",
      "  'fee': 1560001755092,\n",
      "  'id': '0001900427-000002-d7e82',\n",
      "  'limit_amount': 75353.73842030659,\n",
      "  'success': True,\n",
      "  'tip': 0,\n",
      "  'tx_no': 2,\n",
      "  'type': 'sell',\n",
      "  'who': '0xfe935dc86df5b8bb2cb629cb27e9b2cef24bbd134a3f44645b72f5917505c94b'},\n",
      " {'amount_in': 486.2479336194,\n",
      "  'amount_out': 72.7084104026,\n",
      "  'asset_in': 'DAI',\n",
      "  'asset_out': 'DOT',\n",
      "  'block_no': 1900428,\n",
      "  'fee': 1570001755092,\n",
      "  'id': '0001900428-000002-ea6ec',\n",
      "  'limit_amount': 69.4814039905,\n",
      "  'success': True,\n",
      "  'tip': 0,\n",
      "  'tx_no': 2,\n",
      "  'type': 'sell',\n",
      "  'who': '0xceba54427482d5deaf3d4e2560d37d90c8b5ffc0210ea29591c153f1d0c90b0d'},\n",
      " {'amount_in': 673.4667412427416,\n",
      "  'amount_out': 100.0,\n",
      "  'asset_in': 'DAI',\n",
      "  'asset_out': 'DOT',\n",
      "  'block_no': 1900521,\n",
      "  'fee': 1570001755689,\n",
      "  'id': '0001900521-000002-7a67f',\n",
      "  'limit_amount': 675.4871414664698,\n",
      "  'success': True,\n",
      "  'tip': 0,\n",
      "  'tx_no': 2,\n",
      "  'type': 'buy',\n",
      "  'who': '0xc8c25eb1ff050a4cd727c3db2af34066ef0992fc2732176647b0dc7cea55f540'}]\n"
     ]
    }
   ],
   "source": [
    "import sys\n",
    "from pprint import pprint\n",
    "sys.path.append('../../..')\n",
    "from model import processing\n",
    "\n",
    "txs = processing.import_tx_data()\n",
    "pprint(txs[0:5])\n",
    "# for tx in txs:\n",
    "#     if tx['name'] in ['remove_liquidity', 'add_liquidity'] and tx['args']['position_id'] == 1147:\n",
    "#         pprint(tx)"
   ]
  },
  {
   "cell_type": "code",
   "execution_count": 1,
   "outputs": [],
   "source": [],
   "metadata": {
    "collapsed": false
   }
  }
 ],
 "metadata": {
  "kernelspec": {
   "display_name": "Python 3",
   "language": "python",
   "name": "python3"
  },
  "language_info": {
   "codemirror_mode": {
    "name": "ipython",
    "version": 2
   },
   "file_extension": ".py",
   "mimetype": "text/x-python",
   "name": "python",
   "nbconvert_exporter": "python",
   "pygments_lexer": "ipython2",
   "version": "2.7.6"
  }
 },
 "nbformat": 4,
 "nbformat_minor": 0
}
