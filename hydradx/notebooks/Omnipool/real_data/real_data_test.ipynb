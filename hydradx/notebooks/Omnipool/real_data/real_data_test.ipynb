{
 "cells": [
  {
   "cell_type": "code",
   "execution_count": 1,
   "metadata": {
    "collapsed": true
   },
   "outputs": [
    {
     "name": "stdout",
     "output_type": "stream",
     "text": [
      "[{'args': {'amount_in': 1.5,\n",
      "           'amount_out': 714.189967340137,\n",
      "           'asset_in': 'DOT',\n",
      "           'asset_out': 'HDX',\n",
      "           'limit_amount': 692.764268319933},\n",
      "  'block_number': 1844005,\n",
      "  'fee': 1570001755092.0,\n",
      "  'name': 'sell',\n",
      "  'success': True,\n",
      "  'tip': 0.0,\n",
      "  'tx_id': '0001844005-000004-2df16',\n",
      "  'who': '0xdae3f7258eaae0ad7c9651c6bde22d99ca72652efa0b8d556b80d846d1ad7f58'},\n",
      " {'args': {'amount_in': 10000.0,\n",
      "           'amount_out': 20.8388652508,\n",
      "           'asset_in': 'HDX',\n",
      "           'asset_out': 'DOT',\n",
      "           'limit_amount': 20.6304765983},\n",
      "  'block_number': 1844021,\n",
      "  'fee': 1560001755092.0,\n",
      "  'name': 'sell',\n",
      "  'success': True,\n",
      "  'tip': 0.0,\n",
      "  'tx_id': '0001844021-000003-39bb1',\n",
      "  'who': '0x94f98502913403181918fc9137afa8a7e95b8cab901427fe51439f3e4943b90b'},\n",
      " {'args': {'amount_in': 1.5,\n",
      "           'amount_out': 716.807142604731,\n",
      "           'asset_in': 'DOT',\n",
      "           'asset_out': 'HDX',\n",
      "           'limit_amount': 695.30292832659},\n",
      "  'block_number': 1844029,\n",
      "  'fee': 1570001755092.0,\n",
      "  'name': 'sell',\n",
      "  'success': True,\n",
      "  'tip': 0.0,\n",
      "  'tx_id': '0001844029-000002-5344b',\n",
      "  'who': '0xdae3f7258eaae0ad7c9651c6bde22d99ca72652efa0b8d556b80d846d1ad7f58'},\n",
      " {'args': {'amount_in': 71.767023687005,\n",
      "           'amount_out': 1.0,\n",
      "           'asset_in': 'HDX',\n",
      "           'asset_out': 'DAI',\n",
      "           'limit_amount': 79.661396292575},\n",
      "  'block_number': 1844042,\n",
      "  'fee': 1560001755689.0,\n",
      "  'name': 'buy',\n",
      "  'success': True,\n",
      "  'tip': 0.0,\n",
      "  'tx_id': '0001844042-000002-d2816',\n",
      "  'who': '0xcc041548bb19fae27df1961bc68cfd5c1dfc58b7e79861e19524286c2f8d7977'},\n",
      " {'args': {'amount_in': 1.5,\n",
      "           'amount_out': 716.615820572094,\n",
      "           'asset_in': 'DOT',\n",
      "           'asset_out': 'HDX',\n",
      "           'limit_amount': 695.117345954932},\n",
      "  'block_number': 1844054,\n",
      "  'fee': 1570001755092.0,\n",
      "  'name': 'sell',\n",
      "  'success': True,\n",
      "  'tip': 0.0,\n",
      "  'tx_id': '0001844054-000002-689a4',\n",
      "  'who': '0xdae3f7258eaae0ad7c9651c6bde22d99ca72652efa0b8d556b80d846d1ad7f58'}]\n"
     ]
    }
   ],
   "source": [
    "import sys\n",
    "sys.path.append('../../..')\n",
    "from model import processing\n",
    "\n",
    "processing.get_trade_list()"
   ]
  }
 ],
 "metadata": {
  "kernelspec": {
   "display_name": "Python 3",
   "language": "python",
   "name": "python3"
  },
  "language_info": {
   "codemirror_mode": {
    "name": "ipython",
    "version": 2
   },
   "file_extension": ".py",
   "mimetype": "text/x-python",
   "name": "python",
   "nbconvert_exporter": "python",
   "pygments_lexer": "ipython2",
   "version": "2.7.6"
  }
 },
 "nbformat": 4,
 "nbformat_minor": 0
}
