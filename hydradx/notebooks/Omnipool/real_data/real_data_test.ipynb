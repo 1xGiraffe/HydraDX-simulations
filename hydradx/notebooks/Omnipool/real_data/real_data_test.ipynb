{
 "cells": [
  {
   "cell_type": "code",
   "execution_count": 1,
   "metadata": {
    "collapsed": true
   },
   "outputs": [
    {
     "name": "stdout",
     "output_type": "stream",
     "text": [
      "[{'args': {'amount': 14.78,\n",
      "           'asset_in': 'DOT',\n",
      "           'asset_out': 'HDX',\n",
      "           'limit_amount': 12608.389963999663},\n",
      "  'block_number': '0002059755',\n",
      "  'name': 'sell',\n",
      "  'success': True,\n",
      "  'tx_id': '000002'},\n",
      " {'args': {'amount': 97111.0,\n",
      "           'asset_in': 'DOT',\n",
      "           'asset_out': 'HDX',\n",
      "           'limit_amount': 113.3897517508},\n",
      "  'block_number': '0002059664',\n",
      "  'name': 'buy',\n",
      "  'success': True,\n",
      "  'tx_id': '000002'},\n",
      " {'args': {'amount': 6.3769639634,\n",
      "           'asset_in': 'DOT',\n",
      "           'asset_out': 'HDX',\n",
      "           'limit_amount': 5480.539812374234},\n",
      "  'block_number': '0002059613',\n",
      "  'name': 'sell',\n",
      "  'success': True,\n",
      "  'tx_id': '000002'},\n",
      " {'args': {'amount': 0.9482,\n",
      "           'asset_in': 'LRNA',\n",
      "           'asset_out': 'HDX',\n",
      "           'limit_amount': 3156.385990097458},\n",
      "  'block_number': '0002059532',\n",
      "  'name': 'sell',\n",
      "  'success': True,\n",
      "  'tx_id': '000002'},\n",
      " {'args': {'amount': 27.6323,\n",
      "           'asset_in': 'DOT',\n",
      "           'asset_out': 'HDX',\n",
      "           'limit_amount': 23775.506932187724},\n",
      "  'block_number': '0002059519',\n",
      "  'name': 'sell',\n",
      "  'success': True,\n",
      "  'tx_id': '000002'}]\n"
     ]
    }
   ],
   "source": [
    "import sys\n",
    "sys.path.append('../../..')\n",
    "from model import processing\n",
    "\n",
    "processing.get_trade_list()"
   ]
  }
 ],
 "metadata": {
  "kernelspec": {
   "display_name": "Python 3",
   "language": "python",
   "name": "python3"
  },
  "language_info": {
   "codemirror_mode": {
    "name": "ipython",
    "version": 2
   },
   "file_extension": ".py",
   "mimetype": "text/x-python",
   "name": "python",
   "nbconvert_exporter": "python",
   "pygments_lexer": "ipython2",
   "version": "2.7.6"
  }
 },
 "nbformat": 4,
 "nbformat_minor": 0
}
