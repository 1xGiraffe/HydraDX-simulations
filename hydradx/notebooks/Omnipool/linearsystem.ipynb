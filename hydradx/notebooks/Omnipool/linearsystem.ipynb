{
 "cells": [
  {
   "cell_type": "code",
   "execution_count": 5,
   "metadata": {
    "collapsed": true
   },
   "outputs": [
    {
     "name": "stdout",
     "output_type": "stream",
     "text": [
      "init prices\n",
      "[1.0, 0.5, 0.6666666666666666]\n",
      "[[1, 1, 1], [200000.0, -100000.0, 0], [173205.08075688774, 0, -100000.0]]\n",
      "post swap prices\n",
      "[1.0, 2.0, 0.5000000000000001]\n",
      "market prices\n",
      "[1, 2, 0.5]\n"
     ]
    }
   ],
   "source": [
    "import math\n",
    "from pprint import pprint\n",
    "import numpy as np\n",
    "\n",
    "def get_mat(prices: list[float], reserves: list[int], lrna: list[int]):\n",
    "    mat = [[1]*len(prices)]\n",
    "    for i in range(1, len(prices)):\n",
    "        row = [0]*len(prices)\n",
    "        row[0] = math.sqrt(prices[i] * reserves[i] * lrna[i])\n",
    "        row[i] = -math.sqrt(reserves[0] * lrna[0])\n",
    "        mat.append(row)\n",
    "    return mat\n",
    "\n",
    "def calc_new_reserve(new_reserve_B, old_reserve_A, old_reserve_B):\n",
    "    return old_reserve_A * old_reserve_B / new_reserve_B\n",
    "\n",
    "# def get_new_state(prices, reserves, lrna):\n",
    "#\n",
    "#     mat = get_mat(prices, reserves, lrna)\n",
    "#\n",
    "#     pprint(mat)\n",
    "#\n",
    "#\n",
    "#     A = np.array(mat)\n",
    "#     # pprint(np.linalg.det(A))\n",
    "#     B = np.array([sum(lrna)] + [0]*(len(prices)-1))\n",
    "#     X = np.linalg.solve(A,B)\n",
    "#\n",
    "#     new_r = [calc_new_reserve(X[i], reserves[i], lrna[i]) for i in range(len(prices))]\n",
    "#     new_q = []\n",
    "#\n",
    "#     print(\"post swap prices\")\n",
    "#     print([(reserves[0] + dr[0]) / (lrna[0] + X[0]) * (lrna[i] + X[i]) / (reserves[i] + dr[i]) for i in range(len(lrna))])\n",
    "#     return dr\n",
    "\n",
    "def get_dr_list(prices, reserves, lrna):\n",
    "\n",
    "    mat = get_mat(prices, reserves, lrna)\n",
    "\n",
    "    pprint(mat)\n",
    "\n",
    "\n",
    "    A = np.array(mat)\n",
    "    # pprint(np.linalg.det(A))\n",
    "    B = np.array([sum(lrna)] + [0]*(len(prices)-1))\n",
    "    X = np.linalg.solve(A,B)\n",
    "\n",
    "    dr = [calc_new_reserve(X[i], reserves[i], lrna[i]) - reserves[i] for i in range(len(prices))]\n",
    "\n",
    "    print(\"post swap prices\")\n",
    "    print([(reserves[0] + dr[0]) / (X[0]) * (X[i]) / (reserves[i] + dr[i]) for i in range(len(lrna))])\n",
    "    return dr\n",
    "\n",
    "prices = [1, 2, 0.5]\n",
    "reserves = [1000000, 2000000, 3000000]\n",
    "lrna = [10000, 10000, 20000]\n",
    "print(\"init prices\")\n",
    "print([reserves[0]/lrna[0] * lrna[i] / reserves[i] for i in range(len(lrna))])\n",
    "dr_list = get_dr_list(prices, reserves, lrna)\n",
    "print(\"market prices\")\n",
    "print(prices)\n",
    "\n"
   ]
  }
 ],
 "metadata": {
  "kernelspec": {
   "display_name": "Python 3",
   "language": "python",
   "name": "python3"
  },
  "language_info": {
   "codemirror_mode": {
    "name": "ipython",
    "version": 2
   },
   "file_extension": ".py",
   "mimetype": "text/x-python",
   "name": "python",
   "nbconvert_exporter": "python",
   "pygments_lexer": "ipython2",
   "version": "2.7.6"
  }
 },
 "nbformat": 4,
 "nbformat_minor": 0
}
