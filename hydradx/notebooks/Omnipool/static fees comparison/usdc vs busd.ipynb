{
 "cells": [
  {
   "cell_type": "code",
   "execution_count": 1,
   "id": "1a6eff6a",
   "metadata": {
    "collapsed": false,
    "jupyter": {
     "outputs_hidden": false
    }
   },
   "outputs": [
    {
     "name": "stdout",
     "output_type": "stream",
     "text": [
      "Downloading USDCBUSD-1s-2022-07-23\n",
      "Downloading USDCBUSD-1s-2022-07-24\n",
      "Downloading USDCBUSD-1s-2022-07-25\n",
      "Downloading USDCBUSD-1s-2022-07-26\n",
      "Downloading USDCBUSD-1s-2022-07-27\n",
      "Downloading USDCBUSD-1s-2022-07-28\n",
      "Downloading USDCBUSD-1s-2022-07-29\n",
      "Downloading USDCBUSD-1s-2022-07-30\n",
      "Downloading USDCBUSD-1s-2022-07-31\n",
      "Downloading USDCBUSD-1s-2022-08-01\n",
      "Downloading USDCBUSD-1s-2022-08-02\n",
      "Downloading USDCBUSD-1s-2022-08-03\n",
      "Downloading USDCBUSD-1s-2022-08-04\n",
      "Downloading USDCBUSD-1s-2022-08-05\n",
      "Downloading USDCBUSD-1s-2022-08-06\n",
      "Downloading USDCBUSD-1s-2022-08-07\n",
      "Downloading USDCBUSD-1s-2022-08-08\n",
      "Downloading USDCBUSD-1s-2022-08-09\n",
      "Downloading USDCBUSD-1s-2022-08-10\n",
      "Downloading USDCBUSD-1s-2022-08-11\n",
      "Downloading USDCBUSD-1s-2022-08-12\n",
      "Downloading USDCBUSD-1s-2022-08-13\n",
      "Downloading USDCBUSD-1s-2022-08-14\n",
      "Downloading USDCBUSD-1s-2022-08-15\n",
      "Downloading USDCBUSD-1s-2022-08-16\n",
      "Downloading USDCBUSD-1s-2022-08-17\n",
      "Downloading USDCBUSD-1s-2022-08-18\n",
      "Downloading USDCBUSD-1s-2022-08-19\n",
      "Downloading USDCBUSD-1s-2022-08-20\n",
      "Downloading USDCBUSD-1s-2022-08-21\n",
      "Downloading USDCBUSD-1s-2022-08-22\n",
      "Downloading USDCBUSD-1s-2022-08-23\n",
      "Downloading USDCBUSD-1s-2022-08-24\n",
      "Downloading USDCBUSD-1s-2022-08-25\n",
      "Downloading USDCBUSD-1s-2022-08-26\n",
      "Downloading USDCBUSD-1s-2022-08-27\n",
      "Downloading USDCBUSD-1s-2022-08-28\n",
      "Downloading USDCBUSD-1s-2022-08-29\n",
      "Downloading USDCBUSD-1s-2022-08-30\n",
      "Downloading USDCBUSD-1s-2022-08-31\n",
      "Downloading USDCBUSD-1s-2022-09-01\n",
      "Downloading USDCBUSD-1s-2022-09-02\n",
      "Downloading USDCBUSD-1s-2022-09-03\n",
      "Downloading USDCBUSD-1s-2022-09-04\n",
      "Downloading USDCBUSD-1s-2022-09-05\n",
      "Downloading USDCBUSD-1s-2022-09-06\n",
      "Downloading USDCBUSD-1s-2022-09-07\n",
      "Downloading USDCBUSD-1s-2022-09-08\n",
      "Downloading USDCBUSD-1s-2022-09-09\n",
      "Downloading USDCBUSD-1s-2022-09-10\n",
      "Downloading USDCBUSD-1s-2022-09-11\n",
      "Downloading USDCBUSD-1s-2022-09-12\n",
      "Downloading USDCBUSD-1s-2022-09-13\n",
      "Downloading USDCBUSD-1s-2022-09-14\n",
      "Downloading USDCBUSD-1s-2022-09-15\n",
      "Downloading USDCBUSD-1s-2022-09-16\n",
      "Downloading USDCBUSD-1s-2022-09-17\n",
      "Downloading USDCBUSD-1s-2022-09-18\n",
      "Downloading USDCBUSD-1s-2022-09-19\n",
      "Downloading USDCBUSD-1s-2022-09-20\n",
      "Downloading USDCBUSD-1s-2022-09-21\n",
      "Downloading USDCBUSD-1s-2022-09-22\n",
      "Downloading USDCBUSD-1s-2022-09-23\n",
      "Downloading USDCBUSD-1s-2022-09-24\n",
      "Downloading USDCBUSD-1s-2022-09-25\n",
      "Downloading USDCBUSD-1s-2022-09-26\n",
      "Downloading USDCBUSD-1s-2022-09-27\n"
     ]
    },
    {
     "ename": "BadZipFile",
     "evalue": "File is not a zip file",
     "output_type": "error",
     "traceback": [
      "\u001b[1;31m---------------------------------------------------------------------------\u001b[0m",
      "\u001b[1;31mBadZipFile\u001b[0m                                Traceback (most recent call last)",
      "Input \u001b[1;32mIn [1]\u001b[0m, in \u001b[0;36m<cell line: 7>\u001b[1;34m()\u001b[0m\n\u001b[0;32m      4\u001b[0m sys\u001b[38;5;241m.\u001b[39mpath\u001b[38;5;241m.\u001b[39mappend(\u001b[38;5;124m'\u001b[39m\u001b[38;5;124m../../..\u001b[39m\u001b[38;5;124m'\u001b[39m)\n\u001b[0;32m      6\u001b[0m \u001b[38;5;28;01mfrom\u001b[39;00m \u001b[38;5;21;01mmodel\u001b[39;00m \u001b[38;5;28;01mimport\u001b[39;00m processing\n\u001b[1;32m----> 7\u001b[0m price_list \u001b[38;5;241m=\u001b[39m \u001b[43mprocessing\u001b[49m\u001b[38;5;241;43m.\u001b[39;49m\u001b[43mimport_binance_prices\u001b[49m\u001b[43m(\u001b[49m\u001b[43massets\u001b[49m\u001b[38;5;241;43m=\u001b[39;49m\u001b[43m[\u001b[49m\u001b[38;5;124;43m'\u001b[39;49m\u001b[38;5;124;43mUSDC\u001b[39;49m\u001b[38;5;124;43m'\u001b[39;49m\u001b[43m]\u001b[49m\u001b[43m,\u001b[49m\u001b[43m \u001b[49m\u001b[43mstart_date\u001b[49m\u001b[38;5;241;43m=\u001b[39;49m\u001b[38;5;124;43m'\u001b[39;49m\u001b[38;5;124;43mJul 23 2022\u001b[39;49m\u001b[38;5;124;43m'\u001b[39;49m\u001b[43m,\u001b[49m\u001b[43m \u001b[49m\u001b[43mdays\u001b[49m\u001b[38;5;241;43m=\u001b[39;49m\u001b[38;5;241;43m200\u001b[39;49m\u001b[43m)\u001b[49m\n\u001b[0;32m      8\u001b[0m \u001b[38;5;28mprint\u001b[39m(price_list[\u001b[38;5;241m0\u001b[39m:\u001b[38;5;241m10\u001b[39m])\n",
      "File \u001b[1;32m~\\PycharmProjects\\HydraDX-simulations\\hydradx\\notebooks\\Omnipool\\static fees comparison\\../../..\\model\\processing.py:126\u001b[0m, in \u001b[0;36mimport_binance_prices\u001b[1;34m(assets, start_date, days, interval, return_as_dict)\u001b[0m\n\u001b[0;32m    124\u001b[0m \u001b[38;5;28;01mwith\u001b[39;00m \u001b[38;5;28mopen\u001b[39m(\u001b[38;5;124mf\u001b[39m\u001b[38;5;124m'\u001b[39m\u001b[38;5;124m./data/\u001b[39m\u001b[38;5;132;01m{\u001b[39;00mfile\u001b[38;5;132;01m}\u001b[39;00m\u001b[38;5;124m.zip\u001b[39m\u001b[38;5;124m'\u001b[39m, \u001b[38;5;124m'\u001b[39m\u001b[38;5;124mwb\u001b[39m\u001b[38;5;124m'\u001b[39m) \u001b[38;5;28;01mas\u001b[39;00m f:\n\u001b[0;32m    125\u001b[0m     f\u001b[38;5;241m.\u001b[39mwrite(response\u001b[38;5;241m.\u001b[39mcontent)\n\u001b[1;32m--> 126\u001b[0m \u001b[38;5;28;01mwith\u001b[39;00m \u001b[43mZipFile\u001b[49m\u001b[43m(\u001b[49m\u001b[38;5;124;43mf\u001b[39;49m\u001b[38;5;124;43m\"\u001b[39;49m\u001b[38;5;124;43m./data/\u001b[39;49m\u001b[38;5;132;43;01m{\u001b[39;49;00m\u001b[43mfile\u001b[49m\u001b[38;5;132;43;01m}\u001b[39;49;00m\u001b[38;5;124;43m.zip\u001b[39;49m\u001b[38;5;124;43m\"\u001b[39;49m\u001b[43m,\u001b[49m\u001b[43m \u001b[49m\u001b[38;5;124;43m'\u001b[39;49m\u001b[38;5;124;43mr\u001b[39;49m\u001b[38;5;124;43m'\u001b[39;49m\u001b[43m)\u001b[49m \u001b[38;5;28;01mas\u001b[39;00m zipObj:\n\u001b[0;32m    127\u001b[0m     zipObj\u001b[38;5;241m.\u001b[39mextractall(path\u001b[38;5;241m=\u001b[39m\u001b[38;5;124m'\u001b[39m\u001b[38;5;124m./data\u001b[39m\u001b[38;5;124m'\u001b[39m)\n\u001b[0;32m    128\u001b[0m os\u001b[38;5;241m.\u001b[39mremove(\u001b[38;5;124mf\u001b[39m\u001b[38;5;124m\"\u001b[39m\u001b[38;5;124m./data/\u001b[39m\u001b[38;5;132;01m{\u001b[39;00mfile\u001b[38;5;132;01m}\u001b[39;00m\u001b[38;5;124m.zip\u001b[39m\u001b[38;5;124m\"\u001b[39m)\n",
      "File \u001b[1;32m~\\AppData\\Local\\Programs\\Python\\Python39\\lib\\zipfile.py:1257\u001b[0m, in \u001b[0;36mZipFile.__init__\u001b[1;34m(self, file, mode, compression, allowZip64, compresslevel, strict_timestamps)\u001b[0m\n\u001b[0;32m   1255\u001b[0m \u001b[38;5;28;01mtry\u001b[39;00m:\n\u001b[0;32m   1256\u001b[0m     \u001b[38;5;28;01mif\u001b[39;00m mode \u001b[38;5;241m==\u001b[39m \u001b[38;5;124m'\u001b[39m\u001b[38;5;124mr\u001b[39m\u001b[38;5;124m'\u001b[39m:\n\u001b[1;32m-> 1257\u001b[0m         \u001b[38;5;28;43mself\u001b[39;49m\u001b[38;5;241;43m.\u001b[39;49m\u001b[43m_RealGetContents\u001b[49m\u001b[43m(\u001b[49m\u001b[43m)\u001b[49m\n\u001b[0;32m   1258\u001b[0m     \u001b[38;5;28;01melif\u001b[39;00m mode \u001b[38;5;129;01min\u001b[39;00m (\u001b[38;5;124m'\u001b[39m\u001b[38;5;124mw\u001b[39m\u001b[38;5;124m'\u001b[39m, \u001b[38;5;124m'\u001b[39m\u001b[38;5;124mx\u001b[39m\u001b[38;5;124m'\u001b[39m):\n\u001b[0;32m   1259\u001b[0m         \u001b[38;5;66;03m# set the modified flag so central directory gets written\u001b[39;00m\n\u001b[0;32m   1260\u001b[0m         \u001b[38;5;66;03m# even if no files are added to the archive\u001b[39;00m\n\u001b[0;32m   1261\u001b[0m         \u001b[38;5;28mself\u001b[39m\u001b[38;5;241m.\u001b[39m_didModify \u001b[38;5;241m=\u001b[39m \u001b[38;5;28;01mTrue\u001b[39;00m\n",
      "File \u001b[1;32m~\\AppData\\Local\\Programs\\Python\\Python39\\lib\\zipfile.py:1324\u001b[0m, in \u001b[0;36mZipFile._RealGetContents\u001b[1;34m(self)\u001b[0m\n\u001b[0;32m   1322\u001b[0m     \u001b[38;5;28;01mraise\u001b[39;00m BadZipFile(\u001b[38;5;124m\"\u001b[39m\u001b[38;5;124mFile is not a zip file\u001b[39m\u001b[38;5;124m\"\u001b[39m)\n\u001b[0;32m   1323\u001b[0m \u001b[38;5;28;01mif\u001b[39;00m \u001b[38;5;129;01mnot\u001b[39;00m endrec:\n\u001b[1;32m-> 1324\u001b[0m     \u001b[38;5;28;01mraise\u001b[39;00m BadZipFile(\u001b[38;5;124m\"\u001b[39m\u001b[38;5;124mFile is not a zip file\u001b[39m\u001b[38;5;124m\"\u001b[39m)\n\u001b[0;32m   1325\u001b[0m \u001b[38;5;28;01mif\u001b[39;00m \u001b[38;5;28mself\u001b[39m\u001b[38;5;241m.\u001b[39mdebug \u001b[38;5;241m>\u001b[39m \u001b[38;5;241m1\u001b[39m:\n\u001b[0;32m   1326\u001b[0m     \u001b[38;5;28mprint\u001b[39m(endrec)\n",
      "\u001b[1;31mBadZipFile\u001b[0m: File is not a zip file"
     ]
    }
   ],
   "source": [
    "import sys\n",
    "import os\n",
    "import glob\n",
    "sys.path.append('../../..')\n",
    "\n",
    "from model import processing\n",
    "price_list = processing.import_binance_prices(assets=['USDC'], start_date='Jul 23 2022', days=200)\n",
    "print(price_list[0:10])"
   ]
  },
  {
   "cell_type": "code",
   "execution_count": null,
   "id": "7b7a5477-8fec-499a-ae74-1800448bedb7",
   "metadata": {
    "collapsed": false,
    "jupyter": {
     "outputs_hidden": false
    }
   },
   "outputs": [],
   "source": [
    "from pprint import pprint\n",
    "import pandas as pd\n",
    "import random\n",
    "import sys\n",
    "from matplotlib import pyplot as plt\n",
    "sys.path.append('../..')\n",
    "\n",
    "from model import run\n",
    "from model import plot_utils as pu\n",
    "from model import processing\n",
    "from model.amm.omnipool_amm import OmnipoolState, price, usd_price, dynamicadd_asset_fee, dynamicadd_lrna_fee, cash_out_omnipool\n",
    "from model.amm.agents import Agent\n",
    "from model.amm.trade_strategies import omnipool_arbitrage, invest_all, back_and_forth, extra_trade_volume, price_sensitive_trading\n",
    "from model.amm.global_state import GlobalState, fluctuate_prices, historical_prices\n",
    "\n",
    "assets = {\n",
    "    'USDC': {'usd price': price_list[0]['USDC'], 'weight': 0.9},\n",
    "    'HDX': {'usd price': 1, 'weight': 0.1}\n",
    "}\n",
    "\n",
    "lrna_price_usd = 0.07\n",
    "initial_omnipool_tvl = 10000000\n",
    "liquidity = {}\n",
    "lrna = {}\n",
    "\n",
    "for tkn, info in assets.items():\n",
    "    liquidity[tkn] = initial_omnipool_tvl * info['weight'] / info['usd price']\n",
    "    lrna[tkn] = initial_omnipool_tvl * info['weight'] / lrna_price_usd\n",
    "\n",
    "initial_state = GlobalState(\n",
    "    pools={\n",
    "        'omnipool': OmnipoolState(\n",
    "            tokens={\n",
    "                tkn: {'liquidity': liquidity[tkn], 'LRNA': lrna[tkn]} for tkn in assets\n",
    "            },\n",
    "            preferred_stablecoin='USDC',\n",
    "            # oracles={'fee_raise': 50},  # , 'fee_lower': 7200},\n",
    "            lrna_fee=0,\n",
    "            asset_fee=0,\n",
    "        )\n",
    "    },\n",
    "    agents = {},\n",
    "    evolve_function=historical_prices(price_list),\n",
    "    external_market={tkn: assets[tkn]['usd price'] for tkn in assets},\n",
    "    archive_all = False\n",
    ")\n",
    "time_steps = len(price_list)-1\n",
    "print(f'Running with {time_steps} time steps')\n",
    "\n",
    "events= run.run(initial_state, time_steps)\n"
   ]
  },
  {
   "cell_type": "code",
   "execution_count": null,
   "id": "5d56aa62-8257-473c-9a5d-b62a03cbbea4",
   "metadata": {
    "collapsed": false,
    "jupyter": {
     "outputs_hidden": false
    }
   },
   "outputs": [],
   "source": [
    "# lines = []\n",
    "# with open('./output/test_results_static_fees_dec.txt', 'r') as file:\n",
    "#     data = file.readlines()\n",
    "#     lines = [float(line [10: 20]) for line in list(filter(lambda line: line[0] == 'r', data))]\n",
    "    \n",
    "# print(len(lines))\n",
    "# print(lines)\n",
    "# test_results = [lines[i * 10: i * 10 + 10] for i in range(10)]"
   ]
  },
  {
   "cell_type": "code",
   "execution_count": null,
   "id": "162e906b-4c20-4317-8653-d29c47cb6bf3",
   "metadata": {
    "collapsed": false,
    "jupyter": {
     "outputs_hidden": false
    }
   },
   "outputs": [],
   "source": [
    "# print(test_results[0])"
   ]
  },
  {
   "cell_type": "code",
   "execution_count": null,
   "id": "5c32f3bd-03c6-4608-87cb-39eccf0e1ab3",
   "metadata": {
    "collapsed": false,
    "jupyter": {
     "outputs_hidden": false
    }
   },
   "outputs": [],
   "source": [
    "pu.plot(events[100000:200000], asset='USDC')"
   ]
  },
  {
   "cell_type": "code",
   "execution_count": null,
   "id": "f6aa51dc-9144-4a93-a4b4-2cdf63896095",
   "metadata": {
    "collapsed": false,
    "jupyter": {
     "outputs_hidden": false
    }
   },
   "outputs": [],
   "source": [
    "for tkn in initial_state.pools['omnipool'].asset_list:\n",
    "    ax=pu.plot(events[::20], asset=tkn)\n",
    "    pu.plot(events[::20], pool='omnipool', prop='usd_price', key=tkn, subplot=ax)"
   ]
  },
  {
   "cell_type": "code",
   "execution_count": null,
   "id": "ed2bd647-7c09-4956-8402-4e55858b6492",
   "metadata": {
    "collapsed": false,
    "jupyter": {
     "outputs_hidden": false
    }
   },
   "outputs": [],
   "source": [
    "plt.figure(figsize=(20, 5))\n",
    "from model.amm.omnipool_amm import cash_out_omnipool\n",
    "plt.plot(range(len(events[::20])), [cash_out_omnipool(event.pools['omnipool'], event.agents['LP'], event.external_market) for event in events[::20]])"
   ]
  },
  {
   "cell_type": "code",
   "execution_count": null,
   "id": "65df809c-e15f-4180-ae2b-737e87b374ec",
   "metadata": {
    "collapsed": false,
    "jupyter": {
     "outputs_hidden": false
    }
   },
   "outputs": [],
   "source": [
    "import copy\n",
    "ordered_results = copy.copy(test_results)\n",
    "ordered_results.sort(key=lambda x: x[2])\n",
    "pprint([result[:3] for result in ordered_results])"
   ]
  },
  {
   "cell_type": "code",
   "execution_count": null,
   "id": "4118ee78",
   "metadata": {
    "collapsed": false,
    "jupyter": {
     "outputs_hidden": false
    }
   },
   "outputs": [],
   "source": [
    "basic_state = initial_state.copy()\n",
    "basic_state.pools['omnipool'].asset_fee=0.025\n",
    "basic_state.pools['omnipool'].lrna_fee=0.005\n",
    "\n",
    "basic_events = run.run(basic_state, time_steps=time_steps)\n"
   ]
  },
  {
   "cell_type": "code",
   "execution_count": null,
   "id": "d0549ecd-ecca-40a3-9e88-aca9fdd464d5",
   "metadata": {
    "collapsed": false,
    "jupyter": {
     "outputs_hidden": false
    }
   },
   "outputs": [],
   "source": [
    "ax=pu.plot(basic_events[::20], asset='ETH')\n",
    "pu.plot(basic_events[::20], pool='omnipool', prop='usd_price', key='ETH', subplot=ax)"
   ]
  },
  {
   "cell_type": "code",
   "execution_count": null,
   "id": "54e99aa8-f324-4fc6-b432-39aa4a0b9216",
   "metadata": {
    "collapsed": false,
    "jupyter": {
     "outputs_hidden": false
    }
   },
   "outputs": [],
   "source": [
    "plt.figure(figsize=(20, 5))\n",
    "LP_holdings = [cash_out_omnipool(event.pools['omnipool'], event.agents['LP'], event.external_market) for event in basic_events[::20]]\n",
    "\n",
    "\n",
    "plt.plot(range(len(LP_holdings)), LP_holdings)\n"
   ]
  },
  {
   "cell_type": "code",
   "execution_count": null,
   "id": "0e6a2057-8fb5-4be3-8759-b14728f80f4a",
   "metadata": {
    "collapsed": false,
    "jupyter": {
     "outputs_hidden": false
    }
   },
   "outputs": [],
   "source": [
    "print([result[1] for result in test_results])\n",
    "plt.figure(figsize=(20, 5))\n",
    "plt.plot([result[1] for result in test_results], [sum(result[3]) * result[1] for result in test_results])\n",
    "# plt.yscale('log')"
   ]
  },
  {
   "cell_type": "code",
   "execution_count": null,
   "id": "4e194fca-e1e3-4115-9800-85982ed787a7",
   "metadata": {
    "collapsed": false,
    "jupyter": {
     "outputs_hidden": false
    }
   },
   "outputs": [],
   "source": [
    "plt.figure(figsize=(20, 5))\n",
    "LP_holdings1 = [cash_out_omnipool(event.pools['omnipool'], event.agents['LP'], event.external_market) for event in events[::20]]\n",
    "LP_holdings2 = [cash_out_omnipool(event.pools['omnipool'], event.agents['LP'], event.external_market) for event in events2[::20]]\n",
    "LP_holdings3 = [cash_out_omnipool(event.pools['omnipool'], event.agents['LP'], event.external_market) for event in events3[::20]]\n",
    "\n",
    "plt.plot(range(len(LP_holdings1)), LP_holdings1)\n",
    "plt.plot(range(len(LP_holdings2)), LP_holdings2)\n",
    "plt.plot(range(len(LP_holdings2)), LP_holdings3)\n",
    "plt.title('basic fees (blue) vs best tested parameters (orange) vs worst tested parameters (green)')"
   ]
  },
  {
   "cell_type": "code",
   "execution_count": null,
   "id": "a4e7f468-ebbd-4d3e-b7d9-ba8fa40d61d6",
   "metadata": {
    "collapsed": false,
    "jupyter": {
     "outputs_hidden": false
    }
   },
   "outputs": [],
   "source": [
    "print(test_results[1])\n",
    "\n"
   ]
  },
  {
   "cell_type": "code",
   "execution_count": null,
   "id": "3c764e4e-5a32-48b6-af6a-542b2928421e",
   "metadata": {
    "collapsed": false,
    "jupyter": {
     "outputs_hidden": false
    }
   },
   "outputs": [],
   "source": [
    "random.seed(42)\n",
    "basic_state2 = initial_state.copy()\n",
    "basic_state2.pools['omnipool'].asset_fee=0.0025\n",
    "basic_state2.pools['omnipool'].lrna_fee=0.0005\n",
    "\n",
    "events4=run.run(basic_state2, time_steps=time_steps)\n",
    "LP_holdings4 = [cash_out_omnipool(event.pools['omnipool'], event.agents['LP'], event.external_market) for event in events4[::20]]\n"
   ]
  },
  {
   "cell_type": "code",
   "execution_count": null,
   "id": "ad103b58-0f77-40de-9fa1-3e1bab7b6d3e",
   "metadata": {
    "collapsed": false,
    "jupyter": {
     "outputs_hidden": false
    }
   },
   "outputs": [],
   "source": [
    "random.seed(42)\n",
    "basic_state3 = initial_state.copy()\n",
    "basic_state3.pools['omnipool'].asset_fee=0.0025\n",
    "basic_state3.pools['omnipool'].lrna_fee=0.0005\n",
    "\n",
    "events5=run.run(basic_state3, time_steps=time_steps)\n",
    "LP_holdings5 = [cash_out_omnipool(event.pools['omnipool'], event.agents['LP'], event.external_market) for event in events5[::20]]\n"
   ]
  },
  {
   "cell_type": "code",
   "execution_count": null,
   "id": "0f7c8e1b-be71-4907-b3d7-8faa79bb964b",
   "metadata": {},
   "outputs": [],
   "source": [
    "\n",
    "print(LP_holdings1[-1])\n",
    "print(LP_holdings2[-1])\n",
    "print(LP_holdings3[-1])\n",
    "print(LP_holdings4[-1])\n",
    "print(LP_holdings5[-1])\n"
   ]
  },
  {
   "cell_type": "code",
   "execution_count": null,
   "id": "cb1658cb-5c08-4174-97e3-0bf8682d6e02",
   "metadata": {},
   "outputs": [],
   "source": [
    "# print(events[0], events[1000])"
   ]
  },
  {
   "cell_type": "code",
   "execution_count": null,
   "id": "4d1d563e-f6d0-4c9b-a107-baea1b2f727a",
   "metadata": {},
   "outputs": [],
   "source": [
    "print(winning_state, losing_state)"
   ]
  },
  {
   "cell_type": "code",
   "execution_count": null,
   "id": "c17704e2-c722-4da8-8bf9-c1151ec2d317",
   "metadata": {},
   "outputs": [],
   "source": [
    "pu.plot(events, asset='DOGE')"
   ]
  },
  {
   "cell_type": "code",
   "execution_count": null,
   "id": "3d8d486c-2244-4b91-9dcc-9f2707f64cee",
   "metadata": {},
   "outputs": [],
   "source": [
    "ax = pu.plot(events, pool='omnipool', oracle='fee_raise', prop='volume_in', key='DOT')\n",
    "pu.plot(events2, pool='omnipool', oracle='fee_raise', prop='volume_in', key='DOT', subplot=ax)"
   ]
  },
  {
   "cell_type": "code",
   "execution_count": null,
   "id": "966d9b25-940e-4f7f-a245-cd64d6969b10",
   "metadata": {},
   "outputs": [],
   "source": [
    "print(test_results[0])\n",
    "print(test_results[-1])"
   ]
  },
  {
   "cell_type": "code",
   "execution_count": null,
   "id": "c43c1e42-7fb5-42d6-b91d-5e9a43194584",
   "metadata": {},
   "outputs": [],
   "source": [
    "volume_out_usd = [event.pools['omnipool'].oracles['fee_raise'].price['USD'] for event in events3]\n",
    "plt.plot(range(len(volume_out_usd)), volume_out_usd)"
   ]
  },
  {
   "cell_type": "code",
   "execution_count": null,
   "id": "7f1a61cc-a144-47a0-8241-f9df2cbc269f",
   "metadata": {},
   "outputs": [],
   "source": [
    "reverse_price_list = list(reversed(processing.import_binance_prices(assets=['DOT', 'ETH', 'BTC', 'DOGE'], start_date='Nov 1 2022', days=30)))\n",
    "reverse_basic_state = initial_state.copy()\n",
    "reverse_basic_state._evolve_function=historical_prices(reverse_price_list)\n",
    "reverse_basic_events = run.run(reverse_basic_state, time_steps = time_steps)\n",
    "\n",
    "reverse_state = reverse_basic_state.copy()\n",
    "reverse_state.pools['omnipool'].lrna_fee = dynamicadd_lrna_fee(\n",
    "    minimum=0.0005,\n",
    "    amplification=test_results[-1].lrna_amp,\n",
    "    raise_oracle_name='fee_raise',\n",
    "    decay=test_results[-1].lrna_decay,\n",
    "    fee_max=test_results[-1].lrna_max,\n",
    ")\n",
    "reverse_state.pools['omnipool'].asset_fee = dynamicadd_asset_fee(\n",
    "    minimum=0.0025,\n",
    "    amplification=test_results[-1].asset_amp,\n",
    "    raise_oracle_name='fee_raise',\n",
    "    decay=test_results[-1].asset_decay,\n",
    "    fee_max=test_results[-1].asset_max,\n",
    ")\n",
    "reverse_state.pools['omnipool'].oracles['fee_raise'].decay_factor = 2 / (test_results[-1].oracle_length + 1)\n",
    "reverse_events = run.run(reverse_state, time_steps = time_steps)\n",
    "\n",
    "worst_reverse_state = reverse_state.copy()\n",
    "worst_reverse_state.pools['omnipool'].lrna_fee = dynamicadd_lrna_fee(\n",
    "    minimum=0.0005,\n",
    "    amplification=test_results[0].lrna_amp,\n",
    "    raise_oracle_name='fee_raise',\n",
    "    decay=test_results[0].lrna_decay,\n",
    "    fee_max=test_results[0].lrna_max,\n",
    ")\n",
    "worst_reverse_state.pools['omnipool'].asset_fee = dynamicadd_asset_fee(\n",
    "    minimum=0.0025,\n",
    "    amplification=test_results[0].asset_amp,\n",
    "    raise_oracle_name='fee_raise',\n",
    "    decay=test_results[0].asset_decay,\n",
    "    fee_max=test_results[0].asset_max,\n",
    ")\n",
    "worst_reverse_state.pools['omnipool'].oracles['fee_raise'].decay_factor = 2 / (test_results[-1].oracle_length + 1)\n",
    "worst_reverse_events = run.run(worst_reverse_state, time_steps = time_steps)\n"
   ]
  },
  {
   "cell_type": "code",
   "execution_count": null,
   "id": "bde65c92-af1f-4a2e-8462-7bf17687dbd5",
   "metadata": {},
   "outputs": [],
   "source": [
    "reverse_LP_holdings = [cash_out_omnipool(event.pools['omnipool'], event.agents['LP'], event.external_market) for event in reverse_events[::20]]\n",
    "worst_reverse_LP_holdings = [cash_out_omnipool(event.pools['omnipool'], event.agents['LP'], event.external_market) for event in worst_reverse_events[::20]]\n",
    "reverse_basic_LP_holdings = [cash_out_omnipool(event.pools['omnipool'], event.agents['LP'], event.external_market) for event in reverse_basic_events[::20]]\n",
    "plt.figure(figsize=(20, 5))\n",
    "plt.plot(range(len(reverse_LP_holdings)), reverse_basic_LP_holdings)\n",
    "plt.plot(range(len(reverse_LP_holdings)), reverse_LP_holdings)\n",
    "plt.plot(range(len(reverse_LP_holdings)), worst_reverse_LP_holdings)\n",
    "plt.title('basic fees (blue) vs best tested parameters (orange) vs worst tested parameters (green) with price movement reversed')"
   ]
  },
  {
   "cell_type": "code",
   "execution_count": null,
   "id": "617ac272-17c2-42a7-ba05-d8951b7c0f9a",
   "metadata": {},
   "outputs": [],
   "source": [
    "plt.figure(figsize=(20, 5))\n",
    "plt.plot(range(len(price_list)), [price_list[i]['ETH'] for i in range(len(price_list))])\n",
    "plt.plot(range(len(price_list)), [reverse_price_list[i]['ETH'] for i in range(len(price_list))])\n",
    "plt.title('two different, opposite price runs')"
   ]
  },
  {
   "cell_type": "code",
   "execution_count": null,
   "id": "31c91b19-c357-459e-b0ff-d7468c11a63e",
   "metadata": {},
   "outputs": [],
   "source": [
    "pu.plot(reverse_events, asset='ETH')"
   ]
  },
  {
   "cell_type": "code",
   "execution_count": null,
   "id": "3774e505-2459-46f3-8453-8d4e17d75b82",
   "metadata": {},
   "outputs": [],
   "source": [
    "pu.plot(reverse_events[::100], agent='Trader', prop='holdings', key='ETH')"
   ]
  },
  {
   "cell_type": "code",
   "execution_count": null,
   "id": "bc4991cc-9573-4e2d-8e8e-765a1c762b85",
   "metadata": {},
   "outputs": [],
   "source": [
    "oracle = [event.pools['omnipool'].oracles['fee_raise'].volume_in['ETH'] for event in reverse_events][:100]\n",
    "plt.plot(range(len(oracle)), oracle)"
   ]
  },
  {
   "cell_type": "code",
   "execution_count": null,
   "id": "f1a471c7-edc4-49b8-896e-aee31c0e7222",
   "metadata": {},
   "outputs": [],
   "source": [
    "pu.plot(reverse_events[::20], pool='omnipool', prop='last_fee')\n",
    "pu.plot(reverse_events[::20], pool='omnipool', prop='last_lrna_fee')\n",
    "\n",
    "pu.plot(events2[::20], pool='omnipool', prop='last_fee')\n",
    "pu.plot(events2[::20], pool='omnipool', prop='last_lrna_fee')\n"
   ]
  },
  {
   "cell_type": "code",
   "execution_count": null,
   "id": "c60f5b14-e336-485a-b474-67d6a27e1402",
   "metadata": {},
   "outputs": [],
   "source": [
    "print('hi')\n"
   ]
  },
  {
   "cell_type": "code",
   "execution_count": null,
   "id": "d6b66541-b5be-45c6-b75e-cb68854081b7",
   "metadata": {},
   "outputs": [],
   "source": []
  },
  {
   "cell_type": "code",
   "execution_count": null,
   "id": "d6b6fffe-9ca7-4720-9fcd-fd26a3816824",
   "metadata": {},
   "outputs": [],
   "source": [
    "print(events2[0])\n"
   ]
  },
  {
   "cell_type": "code",
   "execution_count": null,
   "id": "17a8e2d0-0308-4db5-8065-454bbf07d8af",
   "metadata": {},
   "outputs": [],
   "source": [
    "no_archive_state = basic_state.copy()\n",
    "no_archive_state.archive_all = True\n",
    "short_events_1 = run.run(no_archive_state, time_steps = 1)\n",
    "short_events_2 = run.run(no_archive_state, time_steps = 1)\n",
    "short_events_3 = run.run(no_archive_state, time_steps = 1)\n",
    "short_events_4 = run.run(no_archive_state, time_steps = 1)\n"
   ]
  },
  {
   "cell_type": "code",
   "execution_count": null,
   "id": "a1594f43-bf55-48a1-bef6-ab917e9b3a50",
   "metadata": {},
   "outputs": [],
   "source": [
    "print(repr(short_events_1[0]) == repr(short_events_2[0]))\n",
    "print(short_events_1[0])\n",
    "print(short_events_2[0])\n",
    "# state1 = repr(short_events_1[0])\n",
    "# state2 = repr(short_events_2[0])\n",
    "# for i, char in enumerate(state1):\n",
    "#     if char != state2[i]:\n",
    "#         print(char)\n"
   ]
  },
  {
   "cell_type": "code",
   "execution_count": null,
   "id": "f278ba9c-ad40-4c6e-868d-4ac5f0f13f15",
   "metadata": {},
   "outputs": [],
   "source": []
  }
 ],
 "metadata": {
  "kernelspec": {
   "display_name": "Python 3 (ipykernel)",
   "language": "python",
   "name": "python3"
  },
  "language_info": {
   "codemirror_mode": {
    "name": "ipython",
    "version": 3
   },
   "file_extension": ".py",
   "mimetype": "text/x-python",
   "name": "python",
   "nbconvert_exporter": "python",
   "pygments_lexer": "ipython3",
   "version": "3.9.7"
  }
 },
 "nbformat": 4,
 "nbformat_minor": 5
}
