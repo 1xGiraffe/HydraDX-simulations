{
 "cells": [
  {
   "cell_type": "code",
   "execution_count": 7,
   "id": "ef285018-9781-40d0-8d5a-8f25c627a80b",
   "metadata": {
    "collapsed": false,
    "jupyter": {
     "outputs_hidden": false
    }
   },
   "outputs": [
    {
     "data": {
      "image/png": "[encoded data removed]",
      "text/plain": [
       "<Figure size 1440x360 with 1 Axes>"
      ]
     },
     "metadata": {
      "needs_background": "light"
     },
     "output_type": "display_data"
    },
    {
     "data": {
      "image/png": "[encoded data removed]",
      "text/plain": [
       "<Figure size 1440x360 with 1 Axes>"
      ]
     },
     "metadata": {
      "needs_background": "light"
     },
     "output_type": "display_data"
    }
   ],
   "source": [
    "import sys\n",
    "import os\n",
    "import glob\n",
    "sys.path.append('../../..')\n",
    "\n",
    "from model import processing\n",
    "# price_list = processing.import_binance_prices(assets=['USDC'], start_date='Jul 23 2022', days=200)\n",
    "# print(price_list[0:10])\n",
    "\n",
    "from pprint import pprint\n",
    "import pandas as pd\n",
    "import random\n",
    "import sys\n",
    "from matplotlib import pyplot as plt\n",
    "sys.path.append('../..')\n",
    "\n",
    "from model import run\n",
    "from model import plot_utils as pu\n",
    "from model import processing\n",
    "from model.amm.omnipool_amm import OmnipoolState, price, usd_price, dynamicadd_asset_fee, dynamicadd_lrna_fee, cash_out_omnipool\n",
    "from model.amm.agents import Agent\n",
    "from model.amm.trade_strategies import omnipool_arbitrage, invest_all, back_and_forth, trade_to_slippage, price_sensitive_trading\n",
    "from model.amm.global_state import GlobalState, fluctuate_prices, historical_prices\n",
    "\n",
    "assets = {\n",
    "    'USDC': {'usd price': 1, 'weight': 0.5},\n",
    "    'HDX': {'usd price': 0.5, 'weight': 0.5}\n",
    "}\n",
    "\n",
    "lrna_price_usd = 0.07\n",
    "initial_omnipool_tvl = 10000000\n",
    "liquidity = {}\n",
    "lrna = {}\n",
    "\n",
    "for tkn, info in assets.items():\n",
    "    liquidity[tkn] = initial_omnipool_tvl * info['weight'] / info['usd price']\n",
    "    lrna[tkn] = initial_omnipool_tvl * info['weight'] / lrna_price_usd\n",
    "\n",
    "states = [\n",
    "    GlobalState(\n",
    "        pools={\n",
    "            'omnipool': OmnipoolState(\n",
    "                tokens={\n",
    "                    tkn: {'liquidity': liquidity[tkn], 'LRNA': lrna[tkn]} for tkn in assets\n",
    "                },\n",
    "                preferred_stablecoin='USDC',\n",
    "                # oracles={'fee_raise': 50},  # , 'fee_lower': 7200},\n",
    "                lrna_fee=0,\n",
    "                asset_fee=0,\n",
    "            )\n",
    "        },\n",
    "        agents={\n",
    "            'Trader': Agent(\n",
    "                holdings={tkn: 1000000000 for tkn in list(assets.keys()) + ['LRNA']},\n",
    "                trade_strategy=trade_to_slippage(pool_id='omnipool', slippage=0.005, trade_chance=1)\n",
    "            ),\n",
    "        },\n",
    "        external_market={tkn: assets[tkn]['usd price'] for tkn in assets},\n",
    "        archive_all = False\n",
    "    ),\n",
    "    GlobalState(\n",
    "        pools={\n",
    "            'omnipool': OmnipoolState(\n",
    "                tokens={\n",
    "                    tkn: {'liquidity': liquidity[tkn], 'LRNA': lrna[tkn]} for tkn in assets\n",
    "                },\n",
    "                preferred_stablecoin='USDC',\n",
    "                # oracles={'fee_raise': 50},  # , 'fee_lower': 7200},\n",
    "                lrna_fee=0,\n",
    "                asset_fee=0,\n",
    "            )\n",
    "        },\n",
    "        agents={\n",
    "            'Trader': Agent(\n",
    "                holdings={tkn: 1000000000 for tkn in list(assets.keys()) + ['LRNA']},\n",
    "                trade_strategy=price_sensitive_trading(pool_id='omnipool', max_volume_usd=10, price_sensitivity=10, trade_frequency=1)\n",
    "            ),\n",
    "        },\n",
    "        external_market={tkn: assets[tkn]['usd price'] for tkn in assets},\n",
    "        archive_all = False\n",
    "    )\n",
    "]\n",
    "\n",
    "trade_volume = {}\n",
    "for state in states:\n",
    "    trade_volume[state] = []\n",
    "    for i in range(100):\n",
    "        state.pools['omnipool'].lrna_fee = i / 1000 + 0.001\n",
    "        state.pools['omnipool'].asset_fee = i / 200 + 0.001\n",
    "        events = run.run(state.copy(), time_steps=2, silent=True)\n",
    "        trade_volume[state].append(\n",
    "            sum([state.external_market[tkn] * volume for tkn, volume in events[-1].pools['omnipool'].volume_in.items()]) \n",
    "            + sum([state.external_market[tkn] * volume for tkn, volume in events[-1].pools['omnipool'].volume_out.items()])\n",
    "        )\n",
    "\n",
    "for state in states:\n",
    "    plt.figure(figsize=(20, 5))\n",
    "    plt.plot([i / 200 + 0.001 for i in range(100)], trade_volume[state])\n"
   ]
  },
  {
   "cell_type": "code",
   "execution_count": null,
   "id": "011fedd4-90b8-4c31-8d54-3f6901d246fd",
   "metadata": {},
   "outputs": [],
   "source": []
  }
 ],
 "metadata": {
  "kernelspec": {
   "display_name": "Python 3 (ipykernel)",
   "language": "python",
   "name": "python3"
  },
  "language_info": {
   "codemirror_mode": {
    "name": "ipython",
    "version": 3
   },
   "file_extension": ".py",
   "mimetype": "text/x-python",
   "name": "python",
   "nbconvert_exporter": "python",
   "pygments_lexer": "ipython3",
   "version": "3.9.7"
  }
 },
 "nbformat": 4,
 "nbformat_minor": 5
}
