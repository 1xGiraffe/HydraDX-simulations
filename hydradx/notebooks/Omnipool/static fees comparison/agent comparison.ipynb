{
 "cells": [
  {
   "cell_type": "code",
   "execution_count": 1,
   "id": "e32c0807-4e94-4c66-980a-53b1679afb17",
   "metadata": {
    "collapsed": false,
    "jupyter": {
     "outputs_hidden": false
    }
   },
   "outputs": [],
   "source": [
    "import sys\n",
    "import os\n",
    "import glob\n",
    "sys.path.append('../../..')\n",
    "\n",
    "from model import processing\n",
    "# price_list = processing.import_binance_prices(assets=['USDC'], start_date='Jul 23 2022', days=200)\n",
    "# print(price_list[0:10])\n",
    "\n",
    "from pprint import pprint\n",
    "import pandas as pd\n",
    "import random\n",
    "import sys\n",
    "from matplotlib import pyplot as plt\n",
    "sys.path.append('../..')\n",
    "\n",
    "from model import run\n",
    "from model import plot_utils as pu\n",
    "from model import processing\n",
    "from model.amm.omnipool_amm import OmnipoolState, price, usd_price, dynamicadd_asset_fee, dynamicadd_lrna_fee, cash_out_omnipool\n",
    "from model.amm.agents import Agent\n",
    "from model.amm.trade_strategies import omnipool_arbitrage, invest_all, back_and_forth, trade_to_slippage, price_sensitive_trading\n",
    "from model.amm.global_state import GlobalState, fluctuate_prices, historical_prices\n",
    "\n",
    "assets = {\n",
    "    'USDC': {'usd price': 1, 'weight': 0.5},\n",
    "    'HDX': {'usd price': 0.5, 'weight': 0.5}\n",
    "}\n",
    "\n",
    "lrna_price_usd = 0.07\n",
    "initial_omnipool_tvl = 10000000\n",
    "liquidity = {}\n",
    "lrna = {}\n",
    "\n",
    "for tkn, info in assets.items():\n",
    "    liquidity[tkn] = initial_omnipool_tvl * info['weight'] / info['usd price']\n",
    "    lrna[tkn] = initial_omnipool_tvl * info['weight'] / lrna_price_usd\n",
    "\n",
    "states = [\n",
    "    # GlobalState(\n",
    "    #     pools={\n",
    "    #         'omnipool': OmnipoolState(\n",
    "    #             tokens={\n",
    "    #                 tkn: {'liquidity': liquidity[tkn], 'LRNA': lrna[tkn]} for tkn in assets\n",
    "    #             },\n",
    "    #             preferred_stablecoin='USDC',\n",
    "    #             # oracles={'fee_raise': 50},  # , 'fee_lower': 7200},\n",
    "    #             lrna_fee=0,\n",
    "    #             asset_fee=0,\n",
    "    #         )\n",
    "    #     },\n",
    "    #     agents={\n",
    "    #         'Trader': Agent(\n",
    "    #             holdings={tkn: 1000000000 for tkn in list(assets.keys()) + ['LRNA']},\n",
    "    #             trade_strategy=trade_to_slippage(pool_id='omnipool', slippage=0.01, trade_chance=1/5000)\n",
    "    #         ),\n",
    "    #     },\n",
    "    #     external_market={tkn: assets[tkn]['usd price'] for tkn in assets},\n",
    "    #     archive_all = False\n",
    "    # ),\n",
    "    GlobalState(\n",
    "        pools={\n",
    "            'omnipool': OmnipoolState(\n",
    "                tokens={\n",
    "                    tkn: {'liquidity': liquidity[tkn], 'LRNA': lrna[tkn]} for tkn in assets\n",
    "                },\n",
    "                preferred_stablecoin='USDC',\n",
    "                # oracles={'fee_raise': 50},  # , 'fee_lower': 7200},\n",
    "                lrna_fee=0,\n",
    "                asset_fee=0,\n",
    "            )\n",
    "        },\n",
    "        agents={\n",
    "            'Trader': Agent(\n",
    "                holdings={tkn: 1000000000 for tkn in list(assets.keys()) + ['LRNA']},\n",
    "                trade_strategy=price_sensitive_trading(pool_id='omnipool', max_volume_usd=10, price_sensitivity=25, trade_frequency=1)\n",
    "            ),\n",
    "        },\n",
    "        external_market={tkn: assets[tkn]['usd price'] for tkn in assets},\n",
    "        archive_all = False\n",
    "    ),\n",
    "        GlobalState(\n",
    "        pools={\n",
    "            'omnipool': OmnipoolState(\n",
    "                tokens={\n",
    "                    tkn: {'liquidity': liquidity[tkn], 'LRNA': lrna[tkn]} for tkn in assets\n",
    "                },\n",
    "                preferred_stablecoin='USDC',\n",
    "                # oracles={'fee_raise': 50},  # , 'fee_lower': 7200},\n",
    "                lrna_fee=0,\n",
    "                asset_fee=0,\n",
    "            )\n",
    "        },\n",
    "        agents={\n",
    "            'Trader': Agent(\n",
    "                holdings={tkn: 1000000000 for tkn in list(assets.keys()) + ['LRNA']},\n",
    "                trade_strategy=price_sensitive_trading(pool_id='omnipool', max_volume_usd=10, price_sensitivity=50, trade_frequency=1)\n",
    "            ),\n",
    "        },\n",
    "        external_market={tkn: assets[tkn]['usd price'] for tkn in assets},\n",
    "        archive_all = False\n",
    "    )\n",
    "]\n",
    "\n",
    "trade_volume = {}\n",
    "fees = [i / 1000 - 0.01 for i in range(100)]\n",
    "for state in states:\n",
    "    trade_volume[state] = []\n",
    "    for fee in fees:\n",
    "        state.pools['omnipool'].lrna_fee = fee / 5\n",
    "        state.pools['omnipool'].asset_fee = fee\n",
    "        events = run.run(state.copy(), time_steps=1, silent=True)\n",
    "        trade_volume[state].append(\n",
    "            sum([sum([state.external_market[tkn] * volume for tkn, volume in event.pools['omnipool'].volume_in.items()]) for event in events]) \n",
    "            + sum([sum([state.external_market[tkn] * volume for tkn, volume in event.pools['omnipool'].volume_out.items()]) for event in events])\n",
    "        )\n",
    "del events"
   ]
  },
  {
   "cell_type": "code",
   "execution_count": 2,
   "id": "4b9bde93-a7f4-4b6e-831b-c3c89432c08e",
   "metadata": {
    "collapsed": false,
    "jupyter": {
     "outputs_hidden": false
    }
   },
   "outputs": [
    {
     "data": {
      "image/png": "[encoded data removed]",
      "text/plain": [
       "<Figure size 1440x360 with 1 Axes>"
      ]
     },
     "metadata": {
      "needs_background": "light"
     },
     "output_type": "display_data"
    },
    {
     "data": {
      "image/png": "[encoded data removed]",
      "text/plain": [
       "<Figure size 1440x360 with 1 Axes>"
      ]
     },
     "metadata": {
      "needs_background": "light"
     },
     "output_type": "display_data"
    }
   ],
   "source": [
    "for state in states:\n",
    "    plt.figure(figsize=(20, 5))\n",
    "    plt.plot(fees, trade_volume[state])"
   ]
  },
  {
   "cell_type": "code",
   "execution_count": 3,
   "id": "011fedd4-90b8-4c31-8d54-3f6901d246fd",
   "metadata": {},
   "outputs": [
    {
     "name": "stdout",
     "output_type": "stream",
     "text": [
      "318.72715276572853\n",
      "617.3162978133187\n"
     ]
    }
   ],
   "source": [
    "for state in states:\n",
    "    print(trade_volume[state][0])"
   ]
  },
  {
   "cell_type": "code",
   "execution_count": null,
   "id": "d4cca93e-8248-435f-8a24-10eee51b84e4",
   "metadata": {},
   "outputs": [],
   "source": []
  }
 ],
 "metadata": {
  "kernelspec": {
   "display_name": "Python 3 (ipykernel)",
   "language": "python",
   "name": "python3"
  },
  "language_info": {
   "codemirror_mode": {
    "name": "ipython",
    "version": 3
   },
   "file_extension": ".py",
   "mimetype": "text/x-python",
   "name": "python",
   "nbconvert_exporter": "python",
   "pygments_lexer": "ipython3",
   "version": "3.9.7"
  }
 },
 "nbformat": 4,
 "nbformat_minor": 5
}
