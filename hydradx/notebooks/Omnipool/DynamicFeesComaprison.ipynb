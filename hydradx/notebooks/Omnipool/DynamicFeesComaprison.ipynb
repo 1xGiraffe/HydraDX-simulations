{
 "cells": [
  {
   "cell_type": "code",
   "execution_count": 1,
   "id": "1a6eff6a",
   "metadata": {
    "collapsed": false,
    "jupyter": {
     "outputs_hidden": false
    }
   },
   "outputs": [
    {
     "name": "stdout",
     "output_type": "stream",
     "text": [
      "['FTTBUSD-1s-2022-11-07.csv', 'FTTBUSD-1s-2022-11-08.csv', 'FTTBUSD-1s-2022-11-09.csv']\n",
      "[{'DOT': 22.26}, {'DOT': 22.41}, {'DOT': 22.27}, {'DOT': 22.08}, {'DOT': 22.19}, {'DOT': 22.35}, {'DOT': 22.55}, {'DOT': 22.68}, {'DOT': 22.54}, {'DOT': 22.51}]\n"
     ]
    }
   ],
   "source": [
    "import sys\n",
    "import os\n",
    "import glob\n",
    "sys.path.append('../..')\n",
    "\n",
    "from model import processing\n",
    "\n",
    "prefix = 'FTTBUSD'\n",
    "tick = '1s'\n",
    "\n",
    "path = 'input/'\n",
    "extension = 'csv'\n",
    "os.chdir(path)\n",
    "result = glob.glob(prefix + '-' + tick + '-' + '*.{}'.format(extension))\n",
    "os.chdir('..')\n",
    "\n",
    "# input_filename = 'input/DOTBUSD-1s-2022-11-22.csv'\n",
    "print(result)\n",
    "# input_filename = 'input/test.csv'\n",
    "output_filename = 'output/' + prefix + \"-\" + tick + \"-output.csv\"\n",
    "\n",
    "price_data = processing.import_binance_prices(path, result)[::1200]\n",
    "# price_data2 = processing.de_freq(price_data, 180)\n",
    "# price_list = [None]*len(price_data)\n",
    "final_price = price_data[-1]\n",
    "price_data.extend([final_price] * 100)\n",
    "price_list = [{'DOT':data.price} for data in price_data]\n",
    "print(price_list[0:10])\n",
    "\n",
    "# prefix = 'BTCBUSD'\n",
    "# tick = '1s'\n",
    "\n",
    "# path = 'input/'\n",
    "# extension = 'csv'\n",
    "# os.chdir(path)\n",
    "# result = glob.glob(prefix + '-' + tick + '-' + '*.{}'.format(extension))\n",
    "# os.chdir('..')\n",
    "\n",
    "# # input_filename = 'input/DOTBUSD-1s-2022-11-22.csv'\n",
    "# print(result)\n",
    "# # input_filename = 'input/test.csv'\n",
    "# output_filename = 'output/' + prefix + \"-\" + tick + \"-output.csv\"\n",
    "\n",
    "# price_data = processing.import_binance_prices(path, result)[::1200]\n",
    "# # price_data2 = processing.de_freq(price_data, 180)\n",
    "# # price_list = [None]*len(price_data)\n",
    "# final_price = price_data[-1]\n",
    "# price_data.extend([final_price] * 100)\n",
    "# price_list = [{'DOT':data.price} for data in price_data]\n",
    "# print(price_list[0:10])"
   ]
  },
  {
   "cell_type": "code",
   "execution_count": 2,
   "id": "5399ede8",
   "metadata": {
    "collapsed": false,
    "jupyter": {
     "outputs_hidden": false
    }
   },
   "outputs": [
    {
     "name": "stdout",
     "output_type": "stream",
     "text": [
      "Running with 5000 time steps\n",
      "Starting simulation...\n"
     ]
    },
    {
     "ename": "IndexError",
     "evalue": "list index out of range",
     "output_type": "error",
     "traceback": [
      "\u001b[1;31m---------------------------------------------------------------------------\u001b[0m",
      "\u001b[1;31mIndexError\u001b[0m                                Traceback (most recent call last)",
      "Input \u001b[1;32mIn [2]\u001b[0m, in \u001b[0;36m<cell line: 82>\u001b[1;34m()\u001b[0m\n\u001b[0;32m     80\u001b[0m time_steps \u001b[38;5;241m=\u001b[39m \u001b[38;5;241m5000\u001b[39m  \u001b[38;5;66;03m# len(price_list)-1\u001b[39;00m\n\u001b[0;32m     81\u001b[0m \u001b[38;5;28mprint\u001b[39m(\u001b[38;5;124mf\u001b[39m\u001b[38;5;124m'\u001b[39m\u001b[38;5;124mRunning with \u001b[39m\u001b[38;5;132;01m{\u001b[39;00mtime_steps\u001b[38;5;132;01m}\u001b[39;00m\u001b[38;5;124m time steps\u001b[39m\u001b[38;5;124m'\u001b[39m)\n\u001b[1;32m---> 82\u001b[0m events \u001b[38;5;241m=\u001b[39m \u001b[43mrun\u001b[49m\u001b[38;5;241;43m.\u001b[39;49m\u001b[43mrun\u001b[49m\u001b[43m(\u001b[49m\u001b[43minitial_state\u001b[49m\u001b[43m,\u001b[49m\u001b[43m \u001b[49m\u001b[43mtime_steps\u001b[49m\u001b[38;5;241;43m=\u001b[39;49m\u001b[43mtime_steps\u001b[49m\u001b[43m)\u001b[49m\n",
      "File \u001b[1;32m~\\PycharmProjects\\HydraDX-simulations\\hydradx\\notebooks\\Omnipool\\../..\\model\\run.py:28\u001b[0m, in \u001b[0;36mrun\u001b[1;34m(initial_state, time_steps, silent, use_cadcad)\u001b[0m\n\u001b[0;32m     23\u001b[0m     \u001b[38;5;28mprint\u001b[39m(\u001b[38;5;124m'\u001b[39m\u001b[38;5;124mStarting simulation...\u001b[39m\u001b[38;5;124m'\u001b[39m)\n\u001b[0;32m     25\u001b[0m \u001b[38;5;28;01mfor\u001b[39;00m i \u001b[38;5;129;01min\u001b[39;00m \u001b[38;5;28mrange\u001b[39m(time_steps):\n\u001b[0;32m     26\u001b[0m \n\u001b[0;32m     27\u001b[0m     \u001b[38;5;66;03m# market evolutions\u001b[39;00m\n\u001b[1;32m---> 28\u001b[0m     \u001b[43mnew_global_state\u001b[49m\u001b[38;5;241;43m.\u001b[39;49m\u001b[43mevolve\u001b[49m\u001b[43m(\u001b[49m\u001b[43m)\u001b[49m\n\u001b[0;32m     30\u001b[0m     \u001b[38;5;66;03m# agent actions\u001b[39;00m\n\u001b[0;32m     31\u001b[0m     agents \u001b[38;5;241m=\u001b[39m new_global_state\u001b[38;5;241m.\u001b[39magents\n",
      "File \u001b[1;32m~\\PycharmProjects\\HydraDX-simulations\\hydradx\\notebooks\\Omnipool\\../..\\model\\amm\\global_state.py:100\u001b[0m, in \u001b[0;36mGlobalState.evolve\u001b[1;34m(self)\u001b[0m\n\u001b[0;32m     98\u001b[0m     pool\u001b[38;5;241m.\u001b[39mupdate()\n\u001b[0;32m     99\u001b[0m \u001b[38;5;28;01mif\u001b[39;00m \u001b[38;5;28mself\u001b[39m\u001b[38;5;241m.\u001b[39m_evolve_function:\n\u001b[1;32m--> 100\u001b[0m     \u001b[38;5;28;01mreturn\u001b[39;00m \u001b[38;5;28;43mself\u001b[39;49m\u001b[38;5;241;43m.\u001b[39;49m\u001b[43m_evolve_function\u001b[49m\u001b[43m(\u001b[49m\u001b[38;5;28;43mself\u001b[39;49m\u001b[43m)\u001b[49m\n",
      "File \u001b[1;32m~\\PycharmProjects\\HydraDX-simulations\\hydradx\\notebooks\\Omnipool\\../..\\model\\amm\\global_state.py:275\u001b[0m, in \u001b[0;36mhistorical_prices.<locals>.transform\u001b[1;34m(state)\u001b[0m\n\u001b[0;32m    274\u001b[0m \u001b[38;5;28;01mdef\u001b[39;00m \u001b[38;5;21mtransform\u001b[39m(state: GlobalState) \u001b[38;5;241m-\u001b[39m\u001b[38;5;241m>\u001b[39m GlobalState:\n\u001b[1;32m--> 275\u001b[0m     new_prices \u001b[38;5;241m=\u001b[39m \u001b[43mprice_list\u001b[49m\u001b[43m[\u001b[49m\u001b[43mstate\u001b[49m\u001b[38;5;241;43m.\u001b[39;49m\u001b[43mtime_step\u001b[49m\u001b[43m]\u001b[49m\n\u001b[0;32m    276\u001b[0m     \u001b[38;5;28;01mfor\u001b[39;00m tkn \u001b[38;5;129;01min\u001b[39;00m new_prices:\n\u001b[0;32m    277\u001b[0m         state\u001b[38;5;241m.\u001b[39mexternal_market[tkn] \u001b[38;5;241m=\u001b[39m new_prices[tkn]\n",
      "\u001b[1;31mIndexError\u001b[0m: list index out of range"
     ]
    }
   ],
   "source": [
    "from pprint import pprint\n",
    "import pandas as pd\n",
    "import random\n",
    "import sys\n",
    "from matplotlib import pyplot as plt\n",
    "sys.path.append('../..')\n",
    "\n",
    "from model import run\n",
    "from model import plot_utils as pu\n",
    "from model import processing\n",
    "from model.amm.omnipool_amm import OmnipoolState, dynamic_fee\n",
    "from model.amm.agents import Agent\n",
    "from model.amm.trade_strategies import omnipool_arbitrage, invest_all\n",
    "from model.amm.global_state import GlobalState, fluctuate_prices, historical_prices\n",
    "\n",
    "# same seed, same parameters = same simulation result\n",
    "random.seed(42)\n",
    "\n",
    "assets = {\n",
    "    'HDX': {'usd price': 0.05, 'weight': 0.10},\n",
    "    'USD': {'usd price': 1, 'weight': 0.20},\n",
    "    'AUSD': {'usd price': 1, 'weight': 0.10},\n",
    "    'ETH': {'usd price': 2500, 'weight': 0.40},\n",
    "    'DOT': {'usd price': price_list[0]['DOT'], 'weight': 0.20}\n",
    "}\n",
    "\n",
    "lrna_price_usd = 0.07\n",
    "initial_omnipool_tvl = 10000000\n",
    "liquidity = {}\n",
    "lrna = {}\n",
    "\n",
    "for tkn, info in assets.items():\n",
    "    liquidity[tkn] = initial_omnipool_tvl * info['weight'] / info['usd price']\n",
    "    lrna[tkn] = initial_omnipool_tvl * info['weight'] / lrna_price_usd\n",
    "\n",
    "initial_state = GlobalState(\n",
    "    pools={\n",
    "        'omnipool': OmnipoolState(\n",
    "            tokens={\n",
    "                tkn: {'liquidity': liquidity[tkn], 'LRNA': lrna[tkn]} for tkn in assets\n",
    "            },\n",
    "            lrna_fee=dynamic_fee(\n",
    "                minimum=0.0025, \n",
    "                decay=0, \n",
    "                amplification=20, \n",
    "                raise_oracle_name='fee_raise'\n",
    "            ),\n",
    "            oracles={'fee_raise': 50},  # , 'fee_lower': 7200},\n",
    "            asset_fee=dynamic_fee(\n",
    "                minimum=0.0025,\n",
    "                decay=0, \n",
    "                amplification=20, \n",
    "                raise_oracle_name='fee_raise'\n",
    "            ),\n",
    "        )\n",
    "    },\n",
    "    agents = {\n",
    "        'Arbitrageur': Agent(\n",
    "            holdings={'HDX': 1000000000, 'USD': 1000000000, 'R1': 1000000000, 'R2': 3000000000, 'DOT': 1000000000, 'LRNA': 1000000000},\n",
    "            trade_strategy=omnipool_arbitrage(\n",
    "                pool_id='omnipool'\n",
    "            )\n",
    "        ),\n",
    "        'LP': Agent(\n",
    "            holdings={tkn: liquidity[tkn] / 10 for tkn in assets},\n",
    "            trade_strategy=invest_all('omnipool')\n",
    "        )\n",
    "    },\n",
    "    evolve_function=historical_prices(price_list),\n",
    "    # evolve_function=fluctuate_prices(volatility={tkn: 1 for tkn in assets}),\n",
    "    external_market={tkn: assets[tkn]['usd price'] for tkn in assets},\n",
    "    # save_data = {\n",
    "    #     'prices': pu.Datastream(asset='all'),\n",
    "    #     # 'pool_val': pu.Datastream(pool='omnipool', prop='pool_val'),\n",
    "    #     'asset_fee': pu.Datastream(pool='omnipool', prop='asset_fee', key='all'),\n",
    "    #     'lrna_fee': pu.Datastream(pool='omnipool', prop='lrna_fee', key='all'),\n",
    "    #     'LP returns': pu.Datastream(agent='LP', prop='cash_out')\n",
    "    # }\n",
    ")\n",
    "time_steps = 5000  # len(price_list)-1\n",
    "print(f'Running with {time_steps} time steps')\n",
    "events = run.run(initial_state, time_steps=time_steps)\n",
    "# events = processing.postprocessing(events, optional_params=['withdraw_val'])"
   ]
  },
  {
   "cell_type": "code",
   "execution_count": null,
   "id": "fbb48ae7-cc78-4709-90ca-a7921c37fa5d",
   "metadata": {},
   "outputs": [],
   "source": [
    "pu.plot(events, asset='all')"
   ]
  },
  {
   "cell_type": "code",
   "execution_count": null,
   "id": "4118ee78",
   "metadata": {
    "collapsed": false,
    "jupyter": {
     "outputs_hidden": false
    }
   },
   "outputs": [],
   "source": [
    "# print(events[0])\n",
    "# dynamic_mult = [events[i]['state'].pools['omnipool'].last_mult for i in range(len(events))]\n",
    "# plt.plot(range(len(dynamic_mult)), dynamic_mult)\n",
    "# print(initial_state.pools['omnipool'].asset_list)\n",
    "print(\":::FEES:::\")\n",
    "# asset_fee = pu.get_datastream(events, pool='omnipool', prop='asset_fee', key='all')  # {tkn: [event['asset_fee'][tkn] for event in events[10:]] for tkn in assets}\n",
    "# lrna_fee = pu.get_datastream(events, pool='omnipool', prop='lrna_fee', key='all')  # {tkn: [event['lrna_fee'][tkn] for event in events[10:]] for tkn in assets}\n",
    "# print(lrna_fee['HDX'][1])\n",
    "for tkn in initial_state.pools['omnipool'].asset_list:\n",
    "    # print(tkn)\n",
    "    # plt.figure(figsize=(20, 5))\n",
    "    ax = pu.plot(events[10:], pool='omnipool', prop='lrna_fee', key=tkn)\n",
    "    pu.plot(events[10:], pool='omnipool', prop='asset_fee', key=tkn, subplot=ax)\n",
    "    # plt.title(tkn)"
   ]
  },
  {
   "cell_type": "code",
   "execution_count": null,
   "id": "8dccbfb3",
   "metadata": {
    "collapsed": false,
    "jupyter": {
     "outputs_hidden": false
    }
   },
   "outputs": [],
   "source": [
    "basic_state = initial_state.copy()\n",
    "basic_state.pools['omnipool']._lrna_fee = 0.0025\n",
    "basic_state.pools['omnipool']._asset_fee = 0.0025\n",
    "\n",
    "events2 = run.run(basic_state, time_steps=time_steps)\n",
    "# events2 = processing.postprocessing(events2, optional_params=['withdraw_val'])\n",
    "\n",
    "# print(events2[-1])\n",
    "# feeless_arbitrageur = events2[-1]['state'].agents['Arbitrageur']"
   ]
  },
  {
   "cell_type": "code",
   "execution_count": null,
   "id": "0f7c8e1b-be71-4907-b3d7-8faa79bb964b",
   "metadata": {},
   "outputs": [],
   "source": [
    "# lp_with_fees = pu.get_datastream(events, 'LP returns')\n",
    "# lp_no_fees = pu.get_datastream(events2, 'LP returns')\n",
    "ax = pu.plot(events, agent='LP', prop='cash_out')\n",
    "pu.plot(events2, agent='LP', prop='cash_out', subplot=ax)\n",
    "plt.title('LP with dynamic fees (blue) vs 0.25% flat (orange)')"
   ]
  },
  {
   "cell_type": "code",
   "execution_count": null,
   "id": "cb1658cb-5c08-4174-97e3-0bf8682d6e02",
   "metadata": {},
   "outputs": [],
   "source": [
    "# print(events[0], events[1000])"
   ]
  },
  {
   "cell_type": "code",
   "execution_count": null,
   "id": "4d1d563e-f6d0-4c9b-a107-baea1b2f727a",
   "metadata": {},
   "outputs": [],
   "source": []
  }
 ],
 "metadata": {
  "kernelspec": {
   "display_name": "Python 3 (ipykernel)",
   "language": "python",
   "name": "python3"
  },
  "language_info": {
   "codemirror_mode": {
    "name": "ipython",
    "version": 3
   },
   "file_extension": ".py",
   "mimetype": "text/x-python",
   "name": "python",
   "nbconvert_exporter": "python",
   "pygments_lexer": "ipython3",
   "version": "3.9.7"
  }
 },
 "nbformat": 4,
 "nbformat_minor": 5
}
