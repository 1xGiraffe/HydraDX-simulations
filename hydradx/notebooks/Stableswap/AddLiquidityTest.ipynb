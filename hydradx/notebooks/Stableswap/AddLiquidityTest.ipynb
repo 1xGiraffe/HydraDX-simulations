{
 "cells": [
  {
   "cell_type": "markdown",
   "metadata": {},
   "source": [
    "<H1>Relationship between IL and price change in a stableswap pool</H1>\n",
    "Here we investigate the impermanent loss experienced by an LP in a stableswap pool when one of the assets depegs (its value deviates from 1USD). Because the assets in a stableswap pool are expected to remain stable, the pool is optimized to give a better execution price, with less slippage, at the expense of being more vulnerable to impermanent loss in the event of a price change. For the sake of simplicity, the LP both deposits and withdraws a proportional amount of each token (so that these trades don't induce further price changes). Note that the general dynamics and scale of the impermanent loss will hold regardless of which asset the LP chooses to deposit or withdraw.\n",
    "<br><br>\n",
    "An important parameter of the stableswap pool is its amplification, which affect the shape of the price curve. At an amplification of 0, the stableswap pool behaves identically to an XYK pool, whereas at an amplification of infinity, the price of each asset remains at exactly 1 until the pool runs out of liquidity. At an intermediate value, the price remains stable at a wider range of balances than it would in an XYK pool, but hits a 'cliff' when the balance shifts too far in either direction. Higher values give a more stable price but a steeper cliff, and are more appropriate when there is high confidence in the stability of the underlying assets. Here we will graph the IL dynamics for a range of amplification values."
   ]
  },
  {
   "cell_type": "code",
   "execution_count": 1,
   "metadata": {
    "ExecuteTime": {
     "end_time": "2023-07-06T20:00:31.614450927Z",
     "start_time": "2023-07-06T20:00:30.645499714Z"
    },
    "tags": []
   },
   "outputs": [],
   "source": [
    "import sys\n",
    "import os\n",
    "import glob\n",
    "import random\n",
    "import copy\n",
    "from IPython.display import display, Markdown\n",
    "sys.path.append('../..')\n",
    "\n",
    "from model import processing\n",
    "from matplotlib import pyplot as plt\n",
    "\n",
    "from model import run\n",
    "from model import plot_utils as pu\n",
    "from model.amm.omnipool_amm import OmnipoolState, cash_out_omnipool, value_assets, usd_price, lrna_price\n",
    "from model.amm.stableswap_amm import StableSwapPoolState\n",
    "from model.amm.agents import Agent\n",
    "from model.amm.trade_strategies import omnipool_arbitrage, invest_all, price_sensitive_trading\n",
    "from model.amm.global_state import GlobalState, fluctuate_prices, historical_prices\n",
    "\n",
    "# same seed, same parameters = same simulation result\n",
    "random.seed(42)\n",
    "# price_list = processing.import_binance_prices(['BTC', 'ETH', 'DOT'], start_date='Jan 1 2023', days = 120)\n",
    "\n",
    "assets = {\n",
    "    'USDA': {'usd price': 1, 'weight': 0.25},\n",
    "    'USDB': {'usd price': 1, 'weight': 0.25},\n",
    "    'USDC': {'usd price': 1, 'weight': 0.25},\n",
    "    'USDD': {'usd price': 1, 'weight': 0.25},\n",
    "}\n",
    "\n",
    "assert sum([t['weight'] for t in assets.values()]) == 1\n",
    "\n",
    "initial_tvl = 1000000\n",
    "\n",
    "initial_state = StableSwapPoolState(\n",
    "    tokens={\n",
    "        tkn: initial_tvl * assets[tkn]['weight'] for tkn in assets\n",
    "    },\n",
    "    unique_id='stableswap',\n",
    "    amplification=100,\n",
    "    trade_fee=0.003\n",
    ")\n",
    "\n",
    "initial_agent = Agent(\n",
    "    holdings={'USDA': 5000}\n",
    ")\n"
   ]
  },
  {
   "cell_type": "code",
   "execution_count": 9,
   "metadata": {
    "ExecuteTime": {
     "end_time": "2023-07-06T20:00:31.857764207Z",
     "start_time": "2023-07-06T20:00:31.681435289Z"
    },
    "tags": []
   },
   "outputs": [
    {
     "name": "stdout",
     "output_type": "stream",
     "text": [
      "Agent adds liquidity: 5000 USDA. Trade fee = 0.003\n",
      "Agent receives: 4996.244215616607 stableswap shares. Effective fee = 0.07499994312618607%\n"
     ]
    }
   ],
   "source": [
    "print(f\"Agent adds liquidity: {initial_agent.holdings['USDA']} USDA. Trade fee = {initial_state.trade_fee}\")\n",
    "test_agent = initial_agent.copy()\n",
    "test_pool = initial_state.copy().add_liquidity(\n",
    "    agent=test_agent,\n",
    "    tkn_add='USDA',\n",
    "    quantity=initial_agent.holdings['USDA']\n",
    ")\n",
    "no_fee_agent = initial_agent.copy()\n",
    "no_fee_state = initial_state.copy()\n",
    "no_fee_state.trade_fee = 0\n",
    "no_fee_state.add_liquidity(\n",
    "    agent=no_fee_agent,\n",
    "    tkn_add='USDA',\n",
    "    quantity=initial_agent.holdings['USDA']\n",
    ")\n",
    "print(f\"Agent receives: {test_agent.holdings['stableswap']} stableswap shares. Effective fee = {(1 - test_agent.holdings['stableswap'] / no_fee_agent.holdings['stableswap']) * 100}%\")"
   ]
  },
  {
   "cell_type": "code",
   "execution_count": null,
   "metadata": {},
   "outputs": [],
   "source": []
  }
 ],
 "metadata": {
  "kernelspec": {
   "display_name": "Python 3 (ipykernel)",
   "language": "python",
   "name": "python3"
  },
  "language_info": {
   "codemirror_mode": {
    "name": "ipython",
    "version": 3
   },
   "file_extension": ".py",
   "mimetype": "text/x-python",
   "name": "python",
   "nbconvert_exporter": "python",
   "pygments_lexer": "ipython3",
   "version": "3.9.7"
  }
 },
 "nbformat": 4,
 "nbformat_minor": 4
}
