{
 "cells": [
  {
   "cell_type": "code",
   "execution_count": 1,
   "id": "6b8e2d21-c455-4b2b-a1c4-0c2cce0fb286",
   "metadata": {},
   "outputs": [
    {
     "ename": "ImportError",
     "evalue": "cannot import name 'Agent' from 'model' (unknown location)",
     "output_type": "error",
     "traceback": [
      "\u001b[1;31m---------------------------------------------------------------------------\u001b[0m",
      "\u001b[1;31mImportError\u001b[0m                               Traceback (most recent call last)",
      "Input \u001b[1;32mIn [1]\u001b[0m, in \u001b[0;36m<cell line: 8>\u001b[1;34m()\u001b[0m\n\u001b[0;32m      5\u001b[0m sys\u001b[38;5;241m.\u001b[39mpath\u001b[38;5;241m.\u001b[39mappend(\u001b[38;5;124m'\u001b[39m\u001b[38;5;124m../..\u001b[39m\u001b[38;5;124m'\u001b[39m)\n\u001b[0;32m      7\u001b[0m \u001b[38;5;28;01mfrom\u001b[39;00m \u001b[38;5;21;01mmodel\u001b[39;00m\u001b[38;5;21;01m.\u001b[39;00m\u001b[38;5;21;01mamm\u001b[39;00m \u001b[38;5;28;01mimport\u001b[39;00m stableswap_amm \u001b[38;5;28;01mas\u001b[39;00m stableswap\n\u001b[1;32m----> 8\u001b[0m \u001b[38;5;28;01mfrom\u001b[39;00m \u001b[38;5;21;01mmodel\u001b[39;00m \u001b[38;5;28;01mimport\u001b[39;00m Agent\n\u001b[0;32m     10\u001b[0m initial_state \u001b[38;5;241m=\u001b[39m stableswap\u001b[38;5;241m.\u001b[39mStableSwapPoolState(\n\u001b[0;32m     11\u001b[0m     tokens\u001b[38;5;241m=\u001b[39m{\n\u001b[0;32m     12\u001b[0m         \u001b[38;5;124m'\u001b[39m\u001b[38;5;124mUSDA\u001b[39m\u001b[38;5;124m'\u001b[39m: \u001b[38;5;241m1000000\u001b[39m,\n\u001b[1;32m   (...)\u001b[0m\n\u001b[0;32m     17\u001b[0m     unique_id\u001b[38;5;241m=\u001b[39m\u001b[38;5;124m'\u001b[39m\u001b[38;5;124mtest_pool\u001b[39m\u001b[38;5;124m'\u001b[39m\n\u001b[0;32m     18\u001b[0m )\n\u001b[0;32m     19\u001b[0m initial_agent \u001b[38;5;241m=\u001b[39m Agent(\n\u001b[0;32m     20\u001b[0m     holdings\u001b[38;5;241m=\u001b[39m{\u001b[38;5;124m'\u001b[39m\u001b[38;5;124mUSDA\u001b[39m\u001b[38;5;124m'\u001b[39m: \u001b[38;5;241m100000\u001b[39m}\n\u001b[0;32m     21\u001b[0m )\n",
      "\u001b[1;31mImportError\u001b[0m: cannot import name 'Agent' from 'model' (unknown location)"
     ]
    }
   ],
   "source": [
    "import pandas as pd\n",
    "import random\n",
    "import sys\n",
    "from matplotlib import pyplot as plt\n",
    "sys.path.append('../..')\n",
    "\n",
    "from model.amm import stableswap_amm as stableswap\n",
    "from model.amm.agents import Agent\n",
    "\n",
    "initial_state = stableswap.StableSwapPoolState(\n",
    "    tokens={\n",
    "        'USDA': 1000000,\n",
    "        'USDB': 1000000,\n",
    "        'USDC': 1000000,\n",
    "        'USDD': 1000000,\n",
    "    }, amplification=100, trade_fee=0.003,\n",
    "    unique_id='test_pool'\n",
    ")\n",
    "initial_agent = Agent(\n",
    "    holdings={'USDA': 100000}\n",
    ")\n",
    "\n",
    "test_state, test_agent = stableswap.execute_add_liquidity(\n",
    "    state=initial_state.copy(),\n",
    "    agent=initial_agent.copy(),\n",
    "    quantity=initial_agent.holdings['USDA'],\n",
    "    tkn_add='USDA',\n",
    ")\n",
    "\n",
    "curve_state, curve_agent = stableswap.execute_remove_shares_curve_style(\n",
    "    state=test_state.copy(),\n",
    "    agent=test_agent.copy(),\n",
    "    shares_removed=test_agent.holdings['test_pool'],\n",
    "    tkn_remove='USDB'\n",
    ")\n",
    "\n",
    "print(curve_state)\n",
    "print(curve_agent)\n"
   ]
  },
  {
   "cell_type": "code",
   "execution_count": null,
   "id": "7db03c63-719d-4127-be3c-9643e0f7b3e4",
   "metadata": {},
   "outputs": [],
   "source": []
  }
 ],
 "metadata": {
  "kernelspec": {
   "display_name": "Python 3 (ipykernel)",
   "language": "python",
   "name": "python3"
  },
  "language_info": {
   "codemirror_mode": {
    "name": "ipython",
    "version": 3
   },
   "file_extension": ".py",
   "mimetype": "text/x-python",
   "name": "python",
   "nbconvert_exporter": "python",
   "pygments_lexer": "ipython3",
   "version": "3.9.7"
  }
 },
 "nbformat": 4,
 "nbformat_minor": 5
}
