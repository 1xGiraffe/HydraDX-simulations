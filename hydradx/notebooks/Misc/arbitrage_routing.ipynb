{
 "cells": [
  {
   "cell_type": "code",
   "execution_count": 1,
   "id": "initial_id",
   "metadata": {
    "ExecuteTime": {
     "end_time": "2023-11-10T20:17:54.313541137Z",
     "start_time": "2023-11-10T20:17:54.163474988Z"
    },
    "tags": []
   },
   "outputs": [],
   "source": [
    "import sys\n",
    "sys.path.append('../../..')\n",
    "from hydradx.model.amm.omnipool_amm import OmnipoolState\n",
    "from hydradx.model.amm.agents import Agent\n",
    "from hydradx.model.processing import get_kraken_orderbook, get_omnipool_data, get_orderbooks_from_file, get_binance_orderbook\n",
    "from hydradx.model.processing import get_omnipool_data_from_file, get_centralized_market\n",
    "from hydradx.model.amm.centralized_market import CentralizedMarket\n",
    "import hydradx.model.amm.arbitrage_agent as arb\n",
    "\n",
    "from pprint import pprint\n",
    "\n",
    "import json\n"
   ]
  },
  {
   "cell_type": "markdown",
   "id": "fc7e81433023f150",
   "metadata": {},
   "source": [
    "Set `get_live_markets = True` to get live markets from Kraken. Set to `False` to use order books from file."
   ]
  },
  {
   "cell_type": "code",
   "execution_count": 2,
   "id": "18db74c8acc41caf",
   "metadata": {
    "ExecuteTime": {
     "end_time": "2023-11-10T20:17:54.359267578Z",
     "start_time": "2023-11-10T20:17:54.315248140Z"
    },
    "collapsed": false,
    "jupyter": {
     "outputs_hidden": false
    }
   },
   "outputs": [],
   "source": [
    "get_live_markets = True"
   ]
  },
  {
   "cell_type": "code",
   "execution_count": 3,
   "id": "9dc03998f1523a18",
   "metadata": {
    "ExecuteTime": {
     "end_time": "2023-11-10T20:17:54.359521609Z",
     "start_time": "2023-11-10T20:17:54.359125558Z"
    },
    "collapsed": false,
    "jupyter": {
     "outputs_hidden": false
    }
   },
   "outputs": [],
   "source": [
    "# 2: Acala DAI\n",
    "# 3: Acala WBTC\n",
    "# 4: Acala WETH\n",
    "# 5: DOT\n",
    "# 9: ASTR\n",
    "# 10: native USDT\n",
    "# 11: iBTC\n",
    "# 12: ZTG\n",
    "# 13: CFG\n",
    "# 14: BNC\n",
    "# 15: vDOT\n",
    "# 16: GLMR\n",
    "# 17: INTR\n",
    "# 18: Wormhole DAI\n",
    "# 19: Wormhole WBTC\n",
    "# 20: Wormhole WETH\n",
    "# 100: 4-Pool"
   ]
  },
  {
   "cell_type": "code",
   "execution_count": 4,
   "id": "87fa4f41a9babfe6",
   "metadata": {
    "ExecuteTime": {
     "end_time": "2023-11-10T20:17:54.360191796Z",
     "start_time": "2023-11-10T20:17:54.359385083Z"
    },
    "collapsed": false,
    "jupyter": {
     "outputs_hidden": false
    }
   },
   "outputs": [
    {
     "name": "stdout",
     "output_type": "stream",
     "text": [
      "loading omnipool...\n"
     ]
    }
   ],
   "source": [
    "# load Omnipool\n",
    "print('loading omnipool...')\n",
    "RPC=\"wss://rpc.hydradx.cloud\"\n",
    "            \n",
    "if get_live_markets:\n",
    "    asset_list, asset_map, tokens, fees = get_omnipool_data(RPC, archive=False)\n",
    "else:\n",
    "    asset_list, asset_map, tokens, fees = get_omnipool_data_from_file(\"archive/\")\n",
    "    \n",
    "# pprint(tokens)\n",
    "init_state = OmnipoolState(\n",
    "    tokens=tokens,\n",
    "    lrna_fee={asset: fees[asset]['protocol_fee'] for asset in asset_list},\n",
    "    asset_fee={asset: fees[asset]['asset_fee'] for asset in asset_list},\n",
    "    preferred_stablecoin='USDT',\n",
    ")"
   ]
  },
  {
   "cell_type": "code",
   "execution_count": 5,
   "id": "30c3ae5c6fb4044d",
   "metadata": {
    "ExecuteTime": {
     "end_time": "2023-11-10T20:17:54.407205490Z",
     "start_time": "2023-11-10T20:17:54.359590277Z"
    },
    "collapsed": false,
    "jupyter": {
     "outputs_hidden": false
    }
   },
   "outputs": [
    {
     "name": "stdout",
     "output_type": "stream",
     "text": [
      "loading centralized markets...\n"
     ]
    }
   ],
   "source": [
    "# load centralized markets\n",
    "print('loading centralized markets...')\n",
    "# arb_file = \"arbconfig.txt\"\n",
    "arb_file = \"arbconfig2.txt\"\n",
    "\n",
    "with open('config/' + arb_file, 'r') as json_file:\n",
    "    cfg = json.load(json_file)\n",
    "\n",
    "for d in cfg:\n",
    "    d['tkns'] = tuple(d['tkns'])\n",
    "    d['tkn_ids'] = tuple(d['tkn_ids'])\n",
    "    d['order_book'] = tuple(d['order_book'])\n",
    "    d['tkn_pair'] = (asset_map[d['tkn_ids'][0]], asset_map[d['tkn_ids'][1]])\n",
    "\n",
    "cex_fees = {\n",
    "    'kraken': 0.0016,\n",
    "    'binance': 0.0010\n",
    "}\n",
    "\n",
    "cex_dict = {}\n",
    "for exchange in ('kraken', 'binance'):\n",
    "    if get_live_markets:\n",
    "        cex_dict[exchange] = get_centralized_market(\n",
    "            config=cfg, \n",
    "            exchange_name=exchange, \n",
    "            trade_fee=cex_fees[exchange],\n",
    "            archive=False\n",
    "        )\n",
    "    else:\n",
    "        cex_dict[exchange] = CentralizedMarket(\n",
    "            order_book=get_orderbooks_from_file(\"archive/\")[exchange],\n",
    "            unique_id=exchange,\n",
    "            trade_fee=cex_fees[exchange]\n",
    "        )"
   ]
  },
  {
   "cell_type": "code",
   "execution_count": 6,
   "id": "ef086a726e0e13be",
   "metadata": {
    "ExecuteTime": {
     "end_time": "2023-11-10T20:17:54.667621521Z",
     "start_time": "2023-11-10T20:17:54.407184743Z"
    },
    "collapsed": false,
    "jupyter": {
     "outputs_hidden": false
    }
   },
   "outputs": [
    {
     "name": "stdout",
     "output_type": "stream",
     "text": [
      "calculating arbitrage...\n"
     ]
    }
   ],
   "source": [
    "print('calculating arbitrage...')\n",
    "cex_dict1 = {exchange: cex_dict[exchange].copy() for exchange in cex_dict}\n",
    "op_state1 = init_state.copy()\n",
    "all_swaps1 = arb.get_arb_swaps_simple(op_state1, cex_dict1, cfg)\n",
    "\n",
    "# pprint(all_swaps1)\n",
    "# pprint(len(all_swaps1))\n",
    "\n",
    "cex_dict2 = {exchange: cex_dict[exchange].copy() for exchange in cex_dict}\n",
    "op_state2 = init_state.copy()\n",
    "all_swaps2 = arb.get_arb_swaps(op_state2, cex_dict2, cfg)\n",
    "# print(\"strategy 2\")\n",
    "# pprint(all_swaps2)\n",
    "# pprint(len(all_swaps2))\n",
    "# print(cfg)"
   ]
  },
  {
   "cell_type": "code",
   "execution_count": 7,
   "id": "8d4817129c26f839",
   "metadata": {
    "ExecuteTime": {
     "end_time": "2023-11-10T20:17:54.703592628Z",
     "start_time": "2023-11-10T20:17:54.691980873Z"
    },
    "collapsed": false,
    "jupyter": {
     "outputs_hidden": false
    }
   },
   "outputs": [
    {
     "name": "stdout",
     "output_type": "stream",
     "text": [
      "strategy 1 profit\n",
      "{'4-Pool': 0, 'HDX': 0.0, 'USD': 50.34396779537201, 'ETH': 0.0, 'GLMR': 0.0, 'BTC': 6.9141387939453125e-06, 'BNC': 0, 'vDOT': 0, 'CFG': 0.0, 'DOT': 0, 'ZTG': 0, 'INTR': 0, 'ASTR': 0}\n",
      "strategy 1 profit at Binance spot\n",
      "50.59956338644028\n",
      "strategy 2 profit\n",
      "{'4-Pool': 0, 'HDX': 0.0, 'USD': 60.01203787326813, 'ETH': 0, 'GLMR': 0.0, 'BTC': 0.0, 'BNC': 0, 'vDOT': 0, 'CFG': 0.0, 'DOT': 0, 'ZTG': 0, 'INTR': 0, 'ASTR': 0}\n",
      "strategy 2 profit at Binance spot\n",
      "60.01203787326813\n",
      "strategy 3 profit\n",
      "{'4-Pool': 0, 'HDX': 0.0, 'USD': 67.78563404083252, 'ETH': 0, 'GLMR': 0.0, 'BTC': 2.384185791015625e-07, 'BNC': 0, 'vDOT': 0, 'CFG': 0.0, 'DOT': 0, 'ZTG': 0, 'INTR': 0, 'ASTR': 0}\n",
      "strategy 3 profit at Binance spot\n",
      "67.79444768190383\n"
     ]
    }
   ],
   "source": [
    "state1 = init_state.copy()\n",
    "state2 = init_state.copy()\n",
    "holdings = {asset: 1000000000 for asset in asset_list}\n",
    "for exchange in cex_dict:\n",
    "    for asset in cex_dict[exchange].asset_list:\n",
    "        if asset not in holdings:\n",
    "            holdings[asset] = 1000000000\n",
    "init_agent = Agent(holdings=holdings, unique_id='bot')\n",
    "agent1 = init_agent.copy()\n",
    "agent2 = init_agent.copy()\n",
    "cex_dict1 = {exchange: cex_dict[exchange].copy() for exchange in cex_dict}\n",
    "cex_dict2 = {exchange: cex_dict[exchange].copy() for exchange in cex_dict}\n",
    "\n",
    "arb.execute_arb(state1, cex_dict1, agent1, all_swaps1)\n",
    "arb.execute_arb(state2, cex_dict2, agent2, all_swaps2)\n",
    "\n",
    "asset_map = {\n",
    "    'WETH': 'ETH',\n",
    "    'XETH': 'ETH',\n",
    "    'XXBT': 'BTC',\n",
    "    'WBTC': 'BTC',\n",
    "    'ZUSD': 'USD',\n",
    "    'USDT': 'USD',\n",
    "    'USDC': 'USD',\n",
    "    'DAI': 'USD',\n",
    "    'USDT001': 'USD',\n",
    "    'DAI001': 'USD',\n",
    "    'WETH001': 'ETH',\n",
    "    'WBTC001': 'BTC',\n",
    "    'iBTC': 'BTC',\n",
    "    'XBT': 'BTC',\n",
    "}\n",
    "\n",
    "profit1 = arb.calculate_profit(init_agent, agent1, asset_map)\n",
    "profit2 = arb.calculate_profit(init_agent, agent2, asset_map)\n",
    "\n",
    "print(\"strategy 1 profit\")\n",
    "print(profit1)\n",
    "print(\"strategy 1 profit at Binance spot\")\n",
    "print(cex_dict1['binance'].value_assets(profit1, asset_map))\n",
    "print(\"strategy 2 profit\")\n",
    "print(profit2)\n",
    "print(\"strategy 2 profit at Binance spot\")\n",
    "print(cex_dict2['binance'].value_assets(profit2, asset_map))\n",
    "\n",
    "# try rerouting to see if we can squeeze some more profit out of it\n",
    "agent3 = init_agent.copy()\n",
    "state3 = init_state.copy()\n",
    "cex_dict3 = {exchange: cex_dict[exchange].copy() for exchange in cex_dict}\n",
    "all_swaps3 = arb.combine_swaps(\n",
    "    dex=state3,\n",
    "    cex=cex_dict3,\n",
    "    agent=agent3,\n",
    "    all_swaps=all_swaps2,\n",
    "    asset_map=asset_map\n",
    ")\n",
    "arb.execute_arb(state3, cex_dict3, agent3, all_swaps3)\n",
    "profit3 = arb.calculate_profit(init_agent, agent3, asset_map)\n",
    "\n",
    "print(\"strategy 3 profit\")\n",
    "print(profit3)\n",
    "print(\"strategy 3 profit at Binance spot\")\n",
    "print(cex_dict3['binance'].value_assets(profit3, asset_map))\n"
   ]
  },
  {
   "cell_type": "code",
   "execution_count": null,
   "id": "9c5156eb-3fd4-4d30-8f63-252765a27b5a",
   "metadata": {},
   "outputs": [],
   "source": []
  },
  {
   "cell_type": "code",
   "execution_count": null,
   "id": "798bf870-eae8-439e-b049-8497ea7ff674",
   "metadata": {},
   "outputs": [],
   "source": []
  }
 ],
 "metadata": {
  "kernelspec": {
   "display_name": "Python 3 (ipykernel)",
   "language": "python",
   "name": "python3"
  },
  "language_info": {
   "codemirror_mode": {
    "name": "ipython",
    "version": 3
   },
   "file_extension": ".py",
   "mimetype": "text/x-python",
   "name": "python",
   "nbconvert_exporter": "python",
   "pygments_lexer": "ipython3",
   "version": "3.9.7"
  }
 },
 "nbformat": 4,
 "nbformat_minor": 5
}
