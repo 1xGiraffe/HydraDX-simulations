{
 "cells": [
  {
   "cell_type": "code",
   "execution_count": 1,
   "id": "initial_id",
   "metadata": {
    "ExecuteTime": {
     "end_time": "2023-11-10T20:17:54.313541137Z",
     "start_time": "2023-11-10T20:17:54.163474988Z"
    },
    "tags": []
   },
   "outputs": [],
   "source": [
    "import sys\n",
    "sys.path.append('../../..')\n",
    "from hydradx.model.amm.omnipool_amm import OmnipoolState\n",
    "from hydradx.model.amm.agents import Agent\n",
    "from hydradx.model.processing import get_kraken_orderbook, get_omnipool_data, get_orderbooks_from_file, get_binance_orderbook\n",
    "from hydradx.model.processing import get_omnipool_data_from_file, load_centralized_market\n",
    "from hydradx.model.amm.centralized_market import CentralizedMarket\n",
    "import hydradx.model.amm.arbitrage_agent as arb\n",
    "\n",
    "from pprint import pprint\n",
    "\n",
    "import json\n"
   ]
  },
  {
   "cell_type": "markdown",
   "id": "fc7e81433023f150",
   "metadata": {},
   "source": [
    "Set `get_live_markets = True` to get live markets from Kraken. Set to `False` to use order books from file."
   ]
  },
  {
   "cell_type": "code",
   "execution_count": 2,
   "id": "18db74c8acc41caf",
   "metadata": {
    "ExecuteTime": {
     "end_time": "2023-11-10T20:17:54.359267578Z",
     "start_time": "2023-11-10T20:17:54.315248140Z"
    },
    "collapsed": false,
    "jupyter": {
     "outputs_hidden": false
    }
   },
   "outputs": [],
   "source": [
    "get_live_markets = True"
   ]
  },
  {
   "cell_type": "code",
   "execution_count": 3,
   "id": "9dc03998f1523a18",
   "metadata": {
    "ExecuteTime": {
     "end_time": "2023-11-10T20:17:54.359521609Z",
     "start_time": "2023-11-10T20:17:54.359125558Z"
    },
    "collapsed": false,
    "jupyter": {
     "outputs_hidden": false
    }
   },
   "outputs": [],
   "source": [
    "# 2: Acala DAI\n",
    "# 3: Acala WBTC\n",
    "# 4: Acala WETH\n",
    "# 5: DOT\n",
    "# 9: ASTR\n",
    "# 10: native USDT\n",
    "# 11: iBTC\n",
    "# 12: ZTG\n",
    "# 13: CFG\n",
    "# 14: BNC\n",
    "# 15: vDOT\n",
    "# 16: GLMR\n",
    "# 17: INTR\n",
    "# 18: Wormhole DAI\n",
    "# 19: Wormhole WBTC\n",
    "# 20: Wormhole WETH\n",
    "# 100: 4-Pool"
   ]
  },
  {
   "cell_type": "code",
   "execution_count": 4,
   "id": "87fa4f41a9babfe6",
   "metadata": {
    "ExecuteTime": {
     "end_time": "2023-11-10T20:17:54.360191796Z",
     "start_time": "2023-11-10T20:17:54.359385083Z"
    },
    "collapsed": false,
    "jupyter": {
     "outputs_hidden": false
    }
   },
   "outputs": [],
   "source": [
    "# load Omnipool\n",
    "RPC=\"wss://rpc.hydradx.cloud\"\n",
    "            \n",
    "if get_live_markets:\n",
    "    asset_list, asset_map, tokens, fees = get_omnipool_data(RPC, archive=False)\n",
    "else:\n",
    "    asset_list, asset_map, tokens, fees = get_omnipool_data_from_file(\"data/input/\")\n",
    "    \n",
    "# pprint(tokens)\n",
    "init_state = OmnipoolState(\n",
    "    tokens=tokens,\n",
    "    lrna_fee={asset: fees[asset]['protocol_fee'] for asset in asset_list},\n",
    "    asset_fee={asset: fees[asset]['asset_fee'] for asset in asset_list},\n",
    "    preferred_stablecoin='USDT',\n",
    ")"
   ]
  },
  {
   "cell_type": "code",
   "execution_count": 5,
   "id": "30c3ae5c6fb4044d",
   "metadata": {
    "ExecuteTime": {
     "end_time": "2023-11-10T20:17:54.407205490Z",
     "start_time": "2023-11-10T20:17:54.359590277Z"
    },
    "collapsed": false,
    "jupyter": {
     "outputs_hidden": false
    }
   },
   "outputs": [],
   "source": [
    "# load centralized markets\n",
    "# arb_file = \"arbconfig.txt\"\n",
    "arb_file = \"arbconfig2.txt\"\n",
    "\n",
    "with open('config/' + arb_file, 'r') as json_file:\n",
    "    cfg = json.load(json_file)\n",
    "\n",
    "for d in cfg:\n",
    "    d['tkns'] = tuple(d['tkns'])\n",
    "    d['tkn_ids'] = tuple(d['tkn_ids'])\n",
    "    d['order_book'] = tuple(d['order_book'])\n",
    "    d['tkn_pair'] = (asset_map[d['tkn_ids'][0]], asset_map[d['tkn_ids'][1]])\n",
    "\n",
    "cex_fees = {\n",
    "    'kraken': 0.0016,\n",
    "    'binance': 0.0010\n",
    "}\n",
    "\n",
    "cex_dict = {}\n",
    "for exchange in ('kraken', 'binance'):\n",
    "    if get_live_markets:\n",
    "        cex_dict[exchange] = load_centralized_market(\n",
    "            config_filename=arb_file, \n",
    "            exchange_name=exchange, \n",
    "            trade_fee=cex_fees[exchange]\n",
    "        )\n",
    "    else:\n",
    "        cex_dict[exchange] = CentralizedMarket(\n",
    "            orderbook=get_orderbooks_from_file(\"data/input/\")[exchange],\n",
    "            unique_id=exchange,\n",
    "            trade_fee=cex_fees[exchange]\n",
    "        )"
   ]
  },
  {
   "cell_type": "code",
   "execution_count": 6,
   "id": "ef086a726e0e13be",
   "metadata": {
    "ExecuteTime": {
     "end_time": "2023-11-10T20:17:54.667621521Z",
     "start_time": "2023-11-10T20:17:54.407184743Z"
    },
    "collapsed": false,
    "jupyter": {
     "outputs_hidden": false
    }
   },
   "outputs": [],
   "source": [
    "cex_dict1 = {exchange: cex_dict[exchange].copy() for exchange in cex_dict}\n",
    "op_state1 = init_state.copy()\n",
    "all_swaps1 = arb.get_arb_swaps_simple(op_state1, cex_dict1, cfg)\n",
    "\n",
    "# pprint(all_swaps1)\n",
    "# pprint(len(all_swaps1))\n",
    "\n",
    "cex_dict2 = {exchange: cex_dict[exchange].copy() for exchange in cex_dict}\n",
    "op_state2 = init_state.copy()\n",
    "all_swaps2 = arb.get_arb_swaps(op_state2, cex_dict2, cfg)\n",
    "# print(\"strategy 2\")\n",
    "# pprint(all_swaps2)\n",
    "# pprint(len(all_swaps2))\n",
    "# print(cfg)"
   ]
  },
  {
   "cell_type": "code",
   "execution_count": 7,
   "id": "8d4817129c26f839",
   "metadata": {
    "ExecuteTime": {
     "end_time": "2023-11-10T20:17:54.703592628Z",
     "start_time": "2023-11-10T20:17:54.691980873Z"
    },
    "collapsed": false,
    "jupyter": {
     "outputs_hidden": false
    }
   },
   "outputs": [
    {
     "name": "stdout",
     "output_type": "stream",
     "text": [
      "strategy 1 profit\n",
      "{'4-Pool': 0, 'HDX': 0, 'USD': 34.95166027545929, 'ETH': 0.0, 'GLMR': 0, 'BTC': 0.0, 'BNC': 0, 'vDOT': 0, 'CFG': 0.0, 'DOT': 0, 'ZTG': 0, 'INTR': 0, 'ASTR': 0.0}\n",
      "strategy 1 profit at Binance spot\n",
      "34.95166027545929\n",
      "strategy 2 profit\n",
      "{'4-Pool': 0, 'HDX': 0, 'USD': 38.40719282627106, 'ETH': 0, 'GLMR': 0, 'BTC': 0.0, 'BNC': 0, 'vDOT': 0, 'CFG': 0.0, 'DOT': 0, 'ZTG': 0, 'INTR': 0, 'ASTR': 0.0}\n",
      "strategy 2 profit at Binance spot\n",
      "38.40719282627106\n",
      "[{'exchange': 'dex', 'trade': 'buy', 'buy_asset': 'iBTC', 'sell_asset': 'DAI001', 'price': 36400.0, 'amount': 0.00056, 'max_sell': 19.126320900142193}, {'exchange': 'binance', 'trade': 'sell', 'buy_asset': 'DAI', 'sell_asset': 'BTC', 'price': 36381.8, 'amount': 0.00056}, {'exchange': 'dex', 'trade': 'buy', 'buy_asset': 'iBTC', 'sell_asset': 'DAI001', 'price': 36393.0, 'amount': 0.03197532747650146, 'max_sell': 1126.769566449344}, {'exchange': 'binance', 'trade': 'sell', 'buy_asset': 'DAI', 'sell_asset': 'BTC', 'price': 36374.8035, 'amount': 0.03197532747650146}, {'exchange': 'dex', 'trade': 'buy', 'buy_asset': 'CFG', 'sell_asset': 'USDT', 'price': 0.529, 'amount': 378.051, 'max_sell': 199.0555646789074}, {'exchange': 'kraken', 'trade': 'sell', 'buy_asset': 'USD', 'sell_asset': 'CFG', 'price': 0.5287355, 'amount': 378.051}, {'exchange': 'dex', 'trade': 'buy', 'buy_asset': 'WBTC', 'sell_asset': 'DAI001', 'price': 36393.0, 'amount': 0.0005713872710111319, 'max_sell': 20.75179849308729}, {'exchange': 'binance', 'trade': 'sell', 'buy_asset': 'DAI', 'sell_asset': 'BTC', 'price': 36374.8035, 'amount': 0.0005713872710111319}, {'exchange': 'dex', 'trade': 'buy', 'buy_asset': 'CFG', 'sell_asset': 'USDT', 'price': 0.5283, 'amount': 115.79278855131531, 'max_sell': 61.030289967477316}, {'exchange': 'kraken', 'trade': 'sell', 'buy_asset': 'USD', 'sell_asset': 'CFG', 'price': 0.52803585, 'amount': 115.79278855131531}, {'exchange': 'dex', 'trade': 'sell', 'buy_asset': 'USDT', 'sell_asset': 'ASTR', 'price': 0.0632, 'amount': 405.6614542384911, 'min_buy': 25.678927885353566}, {'exchange': 'binance', 'trade': 'buy', 'buy_asset': 'ASTR', 'sell_asset': 'USDT', 'price': 0.0632316, 'amount': 405.6614542384911}, {'exchange': 'dex', 'trade': 'buy', 'buy_asset': 'CFG', 'sell_asset': 'USDT', 'price': 0.5283, 'amount': 5.37237469260041, 'max_sell': 2.8322303650975225}, {'exchange': 'kraken', 'trade': 'sell', 'buy_asset': 'USD', 'sell_asset': 'CFG', 'price': 0.52803585, 'amount': 5.37237469260041}, {'exchange': 'dex', 'trade': 'sell', 'buy_asset': 'USDT', 'sell_asset': 'ASTR', 'price': 0.0632, 'amount': 4.738907751389236, 'min_buy': 0.2999486082792282}, {'exchange': 'binance', 'trade': 'buy', 'buy_asset': 'ASTR', 'sell_asset': 'USDT', 'price': 0.0632316, 'amount': 4.738907751389236}, {'exchange': 'dex', 'trade': 'buy', 'buy_asset': 'CFG', 'sell_asset': 'USDT', 'price': 0.5283, 'amount': 0.06244490244544189, 'max_sell': 0.03292036163806915}, {'exchange': 'kraken', 'trade': 'sell', 'buy_asset': 'USD', 'sell_asset': 'CFG', 'price': 0.52803585, 'amount': 0.06244490244544189}, {'exchange': 'dex', 'trade': 'sell', 'buy_asset': 'USDT', 'sell_asset': 'ASTR', 'price': 0.0632, 'amount': 0.08940529618265175, 'min_buy': 0.005658895134925843}, {'exchange': 'binance', 'trade': 'buy', 'buy_asset': 'ASTR', 'sell_asset': 'USDT', 'price': 0.0632316, 'amount': 0.08940529618265175}]\n"
     ]
    },
    {
     "ename": "NameError",
     "evalue": "name 'asset_map_omnipool' is not defined",
     "output_type": "error",
     "traceback": [
      "\u001b[1;31m---------------------------------------------------------------------------\u001b[0m",
      "\u001b[1;31mNameError\u001b[0m                                 Traceback (most recent call last)",
      "Input \u001b[1;32mIn [7]\u001b[0m, in \u001b[0;36m<cell line: 59>\u001b[1;34m()\u001b[0m\n\u001b[0;32m     57\u001b[0m arb\u001b[38;5;241m.\u001b[39mexecute_arb(state3, cex_dict3, agent3, all_swaps3)\n\u001b[0;32m     58\u001b[0m profit3 \u001b[38;5;241m=\u001b[39m arb\u001b[38;5;241m.\u001b[39mcalculate_profit(init_agent, agent3, asset_map)\n\u001b[1;32m---> 59\u001b[0m profit3_omnipool \u001b[38;5;241m=\u001b[39m arb\u001b[38;5;241m.\u001b[39mcalculate_profit(init_agent, agent3, \u001b[43masset_map_omnipool\u001b[49m)\n\u001b[0;32m     61\u001b[0m \u001b[38;5;28mprint\u001b[39m(\u001b[38;5;124m\"\u001b[39m\u001b[38;5;124mstrategy 3 profit\u001b[39m\u001b[38;5;124m\"\u001b[39m)\n\u001b[0;32m     62\u001b[0m \u001b[38;5;28mprint\u001b[39m(profit3)\n",
      "\u001b[1;31mNameError\u001b[0m: name 'asset_map_omnipool' is not defined"
     ]
    }
   ],
   "source": [
    "state1 = init_state.copy()\n",
    "state2 = init_state.copy()\n",
    "holdings = {asset: 1000000000 for asset in asset_list}\n",
    "for exchange in cex_dict:\n",
    "    for asset in cex_dict[exchange].asset_list:\n",
    "        if asset not in holdings:\n",
    "            holdings[asset] = 1000000000\n",
    "init_agent = Agent(holdings=holdings, unique_id='bot')\n",
    "agent1 = init_agent.copy()\n",
    "agent2 = init_agent.copy()\n",
    "cex_dict1 = {exchange: cex_dict[exchange].copy() for exchange in cex_dict}\n",
    "cex_dict2 = {exchange: cex_dict[exchange].copy() for exchange in cex_dict}\n",
    "\n",
    "arb.execute_arb(state1, cex_dict1, agent1, all_swaps1)\n",
    "arb.execute_arb(state2, cex_dict2, agent2, all_swaps2)\n",
    "\n",
    "asset_map = {\n",
    "    'WETH': 'ETH',\n",
    "    'XETH': 'ETH',\n",
    "    'XXBT': 'BTC',\n",
    "    'WBTC': 'BTC',\n",
    "    'ZUSD': 'USD',\n",
    "    'USDT': 'USD',\n",
    "    'USDC': 'USD',\n",
    "    'DAI': 'USD',\n",
    "    'USDT001': 'USD',\n",
    "    'DAI001': 'USD',\n",
    "    'WETH001': 'ETH',\n",
    "    'WBTC001': 'BTC',\n",
    "    'iBTC': 'BTC',\n",
    "    'XBT': 'BTC',\n",
    "}\n",
    "\n",
    "profit1 = arb.calculate_profit(init_agent, agent1, asset_map)\n",
    "profit2 = arb.calculate_profit(init_agent, agent2, asset_map)\n",
    "\n",
    "print(\"strategy 1 profit\")\n",
    "print(profit1)\n",
    "print(\"strategy 1 profit at Binance spot\")\n",
    "print(cex_dict1['binance'].value_assets(profit1, asset_map))\n",
    "print(\"strategy 2 profit\")\n",
    "print(profit2)\n",
    "print(\"strategy 2 profit at Binance spot\")\n",
    "print(cex_dict2['binance'].value_assets(profit2, asset_map))\n",
    "\n",
    "# try rerouting to see if we can squeeze some more profit out of it\n",
    "agent3 = init_agent.copy()\n",
    "state3 = init_state.copy()\n",
    "cex_dict3 = {exchange: cex_dict[exchange].copy() for exchange in cex_dict}\n",
    "all_swaps3 = arb.combine_swaps(\n",
    "    dex=state3,\n",
    "    cex=cex_dict3,\n",
    "    agent=agent3,\n",
    "    all_swaps=all_swaps2,\n",
    "    asset_map=asset_map\n",
    ")\n",
    "arb.execute_arb(state3, cex_dict3, agent3, all_swaps3)\n",
    "profit3 = arb.calculate_profit(init_agent, agent3, asset_map)\n",
    "profit3_omnipool = arb.calculate_profit(init_agent, agent3, asset_map_omnipool)\n",
    "\n",
    "print(\"strategy 3 profit\")\n",
    "print(profit3)\n",
    "print(\"strategy 3 profit at Binance spot\")\n",
    "print(cex_dict3['binance'].value_assets(profit3, asset_map))\n"
   ]
  },
  {
   "cell_type": "code",
   "execution_count": null,
   "id": "9c5156eb-3fd4-4d30-8f63-252765a27b5a",
   "metadata": {},
   "outputs": [],
   "source": []
  }
 ],
 "metadata": {
  "kernelspec": {
   "display_name": "Python 3 (ipykernel)",
   "language": "python",
   "name": "python3"
  },
  "language_info": {
   "codemirror_mode": {
    "name": "ipython",
    "version": 3
   },
   "file_extension": ".py",
   "mimetype": "text/x-python",
   "name": "python",
   "nbconvert_exporter": "python",
   "pygments_lexer": "ipython3",
   "version": "3.9.7"
  }
 },
 "nbformat": 4,
 "nbformat_minor": 5
}
