{
 "cells": [
  {
   "cell_type": "code",
   "execution_count": 32,
   "id": "initial_id",
   "metadata": {
    "collapsed": true,
    "ExecuteTime": {
     "end_time": "2024-02-22T13:58:08.518443338Z",
     "start_time": "2024-02-22T13:58:08.492386292Z"
    }
   },
   "outputs": [],
   "source": [
    "from pprint import pprint\n",
    "import requests\n",
    "import numpy\n",
    "import math\n",
    "from hydradx.model.processing import save_latest_coingecko_prices, import_coingecko_prices\n",
    "\n",
    "import time\n",
    "import datetime\n",
    "# now = datetime.datetime.now()\n",
    "# buffer_time = 10  # in seconds\n",
    "# duration_ls = [1,7,30,90,180]  # in days\n",
    "# \n",
    "# recent = now - datetime.timedelta(seconds=buffer_time)\n",
    "# d2_unix = str(int(time.mktime(recent.timetuple())))\n",
    "# asset = 'hydradx'\n",
    "# # asset = 'interlay'\n",
    "# \n",
    "# responses = {}\n",
    "# for duration in duration_ls:\n",
    "#     past = recent - datetime.timedelta(days=duration)\n",
    "#     d1_unix = str(int(time.mktime(past.timetuple())))\n",
    "#     url = \"https://api.coingecko.com/api/v3/coins/\" + asset + \"/market_chart/range?vs_currency=usd&from=\" + d1_unix + \"&to=\" + d2_unix\n",
    "#     response = requests.get(url)\n",
    "#     responses[duration] = response\n",
    "duration_ls = [1,7,30,90,180]  # in days\n",
    "asset = 'hydradx'\n",
    "\n",
    "download = False\n",
    "if download:\n",
    "    for duration in duration_ls:\n",
    "        save_latest_coingecko_prices(asset, duration)\n",
    "responses = {}\n",
    "for duration in duration_ls:\n",
    "    responses[duration] = import_coingecko_prices(asset, duration)\n"
   ]
  },
  {
   "cell_type": "code",
   "outputs": [
    {
     "name": "stdout",
     "output_type": "stream",
     "text": [
      "{1: 0.03389905232385241,\n",
      " 7: 0.14211249399602083,\n",
      " 30: 0.4161888494015759,\n",
      " 90: 0.735653699405586,\n",
      " 180: 0.8347739263585945}\n"
     ]
    }
   ],
   "source": [
    "vols = {}\n",
    "for duration in responses:\n",
    "    response = responses[duration]\n",
    "    if 'prices' not in response:\n",
    "        raise\n",
    "    price_pairs = response['prices']\n",
    "    prices = [x[1] for x in price_pairs]\n",
    "    timestamps = [x[0] for x in price_pairs]\n",
    "    # list of pairs (timestamp, price)\n",
    "    # timestamp is in milliseconds, unix format\n",
    "    \n",
    "    # for 1Y of daily data, we can calculate 30D diffs by\n",
    "    delta = 1\n",
    "    N = (len(prices) - 1) // delta\n",
    "    price_ratios = [prices[(i+1)*delta]/prices[i*delta] for i in range(N)]\n",
    "    lns = [math.log(x) for x in price_ratios]\n",
    "    vols[duration] = numpy.std(lns)*math.sqrt(N)\n",
    "pprint(vols)\n"
   ],
   "metadata": {
    "collapsed": false,
    "ExecuteTime": {
     "end_time": "2024-02-22T13:58:08.520493312Z",
     "start_time": "2024-02-22T13:58:08.518434463Z"
    }
   },
   "id": "4819a2620e4e240a",
   "execution_count": 33
  },
  {
   "cell_type": "code",
   "outputs": [],
   "source": [],
   "metadata": {
    "collapsed": false,
    "ExecuteTime": {
     "end_time": "2024-02-22T13:58:08.564985387Z",
     "start_time": "2024-02-22T13:58:08.561045718Z"
    }
   },
   "id": "2a8663372e54e67d",
   "execution_count": 33
  }
 ],
 "metadata": {
  "kernelspec": {
   "display_name": "Python 3",
   "language": "python",
   "name": "python3"
  },
  "language_info": {
   "codemirror_mode": {
    "name": "ipython",
    "version": 2
   },
   "file_extension": ".py",
   "mimetype": "text/x-python",
   "name": "python",
   "nbconvert_exporter": "python",
   "pygments_lexer": "ipython2",
   "version": "2.7.6"
  }
 },
 "nbformat": 4,
 "nbformat_minor": 5
}
