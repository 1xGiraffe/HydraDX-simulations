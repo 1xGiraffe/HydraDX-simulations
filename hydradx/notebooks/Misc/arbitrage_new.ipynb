{
 "cells": [
  {
   "cell_type": "code",
   "execution_count": 1,
   "id": "initial_id",
   "metadata": {
    "collapsed": true,
    "ExecuteTime": {
     "end_time": "2023-10-31T17:22:26.354825783Z",
     "start_time": "2023-10-31T17:22:26.212698864Z"
    }
   },
   "outputs": [],
   "source": [
    "from hydradx.model.amm.omnipool_amm import OmnipoolState\n",
    "from hydradx.model.amm.agents import Agent\n",
    "from hydradx.model.processing import get_kraken_orderbook, get_omnipool_data\n",
    "from hydradx.model.amm.centralized_market import CentralizedMarket\n",
    "import hydradx.model.amm.arbitrage_agent as arb\n",
    "import hydradx.model.amm.arbitrage_agent_new as arb2\n",
    "\n",
    "from pprint import pprint\n",
    "\n",
    "import json\n"
   ]
  },
  {
   "cell_type": "code",
   "execution_count": 2,
   "outputs": [],
   "source": [
    "with open('config/arbconfig.txt', 'r') as json_file:\n",
    "    arb_list = json.load(json_file)\n",
    "    \n",
    "for d in arb_list:\n",
    "    d['tkns'] = tuple(d['tkns'])\n",
    "    d['tkn_ids'] = tuple(d['tkn_ids'])\n",
    "    d['order_book'] = tuple(d['order_book'])\n",
    "\n",
    "ob_objs = {}\n",
    "order_book_asset_list = []\n",
    "\n",
    "for arb_cfg in arb_list:\n",
    "    tkn_pair = arb_cfg['order_book']\n",
    "    if tkn_pair not in ob_objs:\n",
    "        order_book_url = 'https://api.kraken.com/0/public/Depth?pair=' + tkn_pair[0] + tkn_pair[1]\n",
    "        ob_objs[tkn_pair] = get_kraken_orderbook(tkn_pair, order_book_url)\n",
    "        for tkn in tkn_pair:\n",
    "            if tkn not in order_book_asset_list:\n",
    "                order_book_asset_list.append(tkn)\n"
   ],
   "metadata": {
    "collapsed": false,
    "ExecuteTime": {
     "end_time": "2023-10-31T17:22:29.524652290Z",
     "start_time": "2023-10-31T17:22:26.359170770Z"
    }
   },
   "id": "30c3ae5c6fb4044d"
  },
  {
   "cell_type": "code",
   "execution_count": 3,
   "outputs": [
    {
     "name": "stdout",
     "output_type": "stream",
     "text": [
      "{'ASTR': {'LRNA': 9270.99688691519, 'liquidity': 4558461.91251756},\n",
      " 'BNC': {'LRNA': 6527.933101450308, 'liquidity': 738947.6282724382},\n",
      " 'CFG': {'LRNA': 9419.75435990446, 'liquidity': 592573.4619929172},\n",
      " 'DAI': {'LRNA': 13000.817024566328, 'liquidity': 335561.52693695767},\n",
      " 'DAI001': {'LRNA': 31429.245331500555, 'liquidity': 810044.2687278098},\n",
      " 'DOT': {'LRNA': 71806.66123099784, 'liquidity': 420096.5614791631},\n",
      " 'GLMR': {'LRNA': 5283.431188308908, 'liquidity': 673041.463199017},\n",
      " 'HDX': {'LRNA': 19850.974136318495, 'liquidity': 115758722.44376807},\n",
      " 'USDT': {'LRNA': 85706.77128217087, 'liquidity': 2211946.625641},\n",
      " 'WBTC': {'LRNA': 50.601798806111, 'liquidity': 0.04374934},\n",
      " 'WBTC001': {'LRNA': 41666.10085543079, 'liquidity': 31.19146557},\n",
      " 'WETH': {'LRNA': 21426.4460746838, 'liquidity': 309.21785254735175},\n",
      " 'WETH001': {'LRNA': 71262.38454994914, 'liquidity': 1023.6153847544036},\n",
      " 'ZTG': {'LRNA': 4578.375407796498, 'liquidity': 3106881.31739501},\n",
      " 'iBTC': {'LRNA': 34785.41880802545, 'liquidity': 25.78131511},\n",
      " 'vDOT': {'LRNA': 21265.911724519337, 'liquidity': 103806.32869729}}\n"
     ]
    }
   ],
   "source": [
    "RPC=\"wss://hydradx-rpc.dwellir.com\"\n",
    "N = 24\n",
    "            \n",
    "asset_list, asset_map, tokens, fees = get_omnipool_data(RPC, N)\n",
    "\n",
    "pprint(tokens)\n"
   ],
   "metadata": {
    "collapsed": false,
    "ExecuteTime": {
     "end_time": "2023-10-31T17:23:15.434985056Z",
     "start_time": "2023-10-31T17:22:29.529682996Z"
    }
   },
   "id": "a026335ac28fa9d4"
  },
  {
   "cell_type": "code",
   "execution_count": 4,
   "outputs": [],
   "source": [
    "\n",
    "\n",
    "cex_fee = 0.0016\n",
    "buffer = 0.0010\n",
    "\n",
    "lrna_fee={asset: fees[asset]['protocol_fee'] for asset in asset_list}\n",
    "asset_fee={asset: fees[asset]['asset_fee'] for asset in asset_list}\n",
    "\n",
    "# lrna_fee = 0.0\n",
    "# asset_fee = 0.0\n",
    "# cex_fee = 0.0\n",
    "# buffer = 0.0\n",
    "\n",
    "\n",
    "cex = CentralizedMarket(\n",
    "    order_book=ob_objs,\n",
    "    asset_list=order_book_asset_list,\n",
    "    trade_fee=cex_fee\n",
    ")\n",
    "\n",
    "op_state = OmnipoolState(\n",
    "    tokens=tokens,\n",
    "    lrna_fee = lrna_fee,\n",
    "    asset_fee = asset_fee,\n",
    "    preferred_stablecoin='USDT',\n",
    ")\n",
    "\n",
    "init_state = op_state.copy()\n"
   ],
   "metadata": {
    "collapsed": false,
    "ExecuteTime": {
     "end_time": "2023-10-31T17:23:15.464254268Z",
     "start_time": "2023-10-31T17:23:15.450202423Z"
    }
   },
   "id": "68064af1cadd64fc"
  },
  {
   "cell_type": "code",
   "execution_count": 5,
   "outputs": [
    {
     "name": "stdout",
     "output_type": "stream",
     "text": [
      "{('ASTR', 'DAI'): ('ASTR', 'USD'),\n",
      " ('ASTR', 'DAI001'): ('ASTR', 'USD'),\n",
      " ('ASTR', 'USDT'): ('ASTR', 'USD'),\n",
      " ('BNC', 'DAI'): ('BNC', 'USD'),\n",
      " ('BNC', 'DAI001'): ('BNC', 'USD'),\n",
      " ('BNC', 'USDT'): ('BNC', 'USD'),\n",
      " ('CFG', 'DAI'): ('CFG', 'USD'),\n",
      " ('CFG', 'DAI001'): ('CFG', 'USD'),\n",
      " ('CFG', 'USDT'): ('CFG', 'USD'),\n",
      " ('DOT', 'DAI'): ('DOT', 'USD'),\n",
      " ('DOT', 'DAI001'): ('DOT', 'USD'),\n",
      " ('DOT', 'USDT'): ('DOT', 'USD'),\n",
      " ('DOT', 'WBTC001'): ('DOT', 'XBT'),\n",
      " ('DOT', 'WETH'): ('DOT', 'ETH'),\n",
      " ('DOT', 'WETH001'): ('DOT', 'ETH'),\n",
      " ('DOT', 'iBTC'): ('DOT', 'XBT'),\n",
      " ('GLMR', 'DAI'): ('GLMR', 'USD'),\n",
      " ('GLMR', 'DAI001'): ('GLMR', 'USD'),\n",
      " ('GLMR', 'USDT'): ('GLMR', 'USD'),\n",
      " ('HDX', 'DAI'): ('HDX', 'USD'),\n",
      " ('HDX', 'DAI001'): ('HDX', 'USD'),\n",
      " ('HDX', 'USDT'): ('HDX', 'USD'),\n",
      " ('WBTC001', 'DAI'): ('XXBT', 'ZUSD'),\n",
      " ('WBTC001', 'DAI001'): ('XXBT', 'ZUSD'),\n",
      " ('WBTC001', 'USDT'): ('XXBT', 'ZUSD'),\n",
      " ('WETH', 'DAI'): ('XETH', 'ZUSD'),\n",
      " ('WETH', 'DAI001'): ('XETH', 'ZUSD'),\n",
      " ('WETH', 'USDT'): ('XETH', 'ZUSD'),\n",
      " ('WETH', 'WBTC001'): ('XETH', 'XXBT'),\n",
      " ('WETH', 'iBTC'): ('XETH', 'XXBT'),\n",
      " ('WETH001', 'DAI'): ('XETH', 'ZUSD'),\n",
      " ('WETH001', 'DAI001'): ('XETH', 'ZUSD'),\n",
      " ('WETH001', 'USDT'): ('XETH', 'ZUSD'),\n",
      " ('WETH001', 'WBTC001'): ('XETH', 'XXBT'),\n",
      " ('WETH001', 'iBTC'): ('XETH', 'XXBT'),\n",
      " ('iBTC', 'DAI'): ('XXBT', 'ZUSD'),\n",
      " ('iBTC', 'DAI001'): ('XXBT', 'ZUSD'),\n",
      " ('iBTC', 'USDT'): ('XXBT', 'ZUSD')}\n"
     ]
    }
   ],
   "source": [
    "order_book_map = {}\n",
    "for i in range(len(arb_list)):\n",
    "    base_id, quote_id = arb_list[i]['tkn_ids']\n",
    "    orderbook_tkn_pair = arb_list[i]['order_book']\n",
    "    if base_id in asset_map and quote_id in asset_map:\n",
    "        tkn_pair = (asset_map[base_id], asset_map[quote_id])\n",
    "        order_book_map[tkn_pair] = orderbook_tkn_pair \n",
    "    \n",
    "pprint(order_book_map)"
   ],
   "metadata": {
    "collapsed": false,
    "ExecuteTime": {
     "end_time": "2023-10-31T17:23:15.497258196Z",
     "start_time": "2023-10-31T17:23:15.461055362Z"
    }
   },
   "id": "5c34a29fa3c15b8"
  },
  {
   "cell_type": "code",
   "execution_count": 6,
   "outputs": [
    {
     "name": "stdout",
     "output_type": "stream",
     "text": [
      "('HDX', 'USDT')\n",
      "[{'dex': {'trade': 'sell', 'buy_asset': 'USDT', 'sell_asset': 'HDX', 'price': 0.0044, 'amount': 11144.287276611329, 'min_buy': 49.14359470736981}, 'cex': {'trade': 'buy', 'buy_asset': 'HDX', 'sell_asset': 'USD', 'price': 0.0044022, 'amount': 11144.287276611329}}]\n",
      "('HDX', 'DAI')\n",
      "[{'dex': {'trade': 'sell', 'buy_asset': 'DAI', 'sell_asset': 'HDX', 'price': 0.0044, 'amount': 3239.6293021698, 'min_buy': 14.285292645275593}, 'cex': {'trade': 'buy', 'buy_asset': 'HDX', 'sell_asset': 'USD', 'price': 0.0044022, 'amount': 3239.6293021698}}]\n",
      "('WETH', 'USDT')\n",
      "[{'dex': {'trade': 'buy', 'buy_asset': 'WETH', 'sell_asset': 'USDT', 'price': 1801.91, 'amount': 0.012, 'max_sell': -27.657532707095143}, 'cex': {'trade': 'sell', 'buy_asset': 'ZUSD', 'sell_asset': 'XETH', 'price': 1801.0090450000002, 'amount': 0.012}}, {'dex': {'trade': 'buy', 'buy_asset': 'WETH', 'sell_asset': 'USDT', 'price': 1801.35, 'amount': 0.19758057403564452, 'max_sell': 327.2224709542393}, 'cex': {'trade': 'sell', 'buy_asset': 'ZUSD', 'sell_asset': 'XETH', 'price': 1800.449325, 'amount': 0.19758057403564452}}]\n",
      "('WETH', 'DAI')\n",
      "[{'dex': {'trade': 'buy', 'buy_asset': 'WETH', 'sell_asset': 'DAI', 'price': 1801.91, 'amount': 0.012, 'max_sell': 7.267286178410052}, 'cex': {'trade': 'sell', 'buy_asset': 'ZUSD', 'sell_asset': 'XETH', 'price': 1801.0090450000002, 'amount': 0.012}}, {'dex': {'trade': 'buy', 'buy_asset': 'WETH', 'sell_asset': 'DAI', 'price': 1801.35, 'amount': 0.004500093460083009, 'max_sell': 15.356177483618259}, 'cex': {'trade': 'sell', 'buy_asset': 'ZUSD', 'sell_asset': 'XETH', 'price': 1800.449325, 'amount': 0.004500093460083009}}]\n",
      "('WETH', 'DAI001')\n",
      "[{'dex': {'trade': 'buy', 'buy_asset': 'WETH', 'sell_asset': 'DAI001', 'price': 1801.91, 'amount': 0.012, 'max_sell': 21.53910021615028}, 'cex': {'trade': 'sell', 'buy_asset': 'ZUSD', 'sell_asset': 'XETH', 'price': 1801.0090450000002, 'amount': 0.012}}, {'dex': {'trade': 'buy', 'buy_asset': 'WETH', 'sell_asset': 'DAI001', 'price': 1801.35, 'amount': 0.12864973068237306, 'max_sell': 252.63313408130406}, 'cex': {'trade': 'sell', 'buy_asset': 'ZUSD', 'sell_asset': 'XETH', 'price': 1800.449325, 'amount': 0.12864973068237306}}]\n",
      "('iBTC', 'USDT')\n",
      "[{'dex': {'trade': 'sell', 'buy_asset': 'USDT', 'sell_asset': 'iBTC', 'price': 34411.1, 'amount': 0.06026840209960937, 'min_buy': 1758.1880602543356}, 'cex': {'trade': 'buy', 'buy_asset': 'XXBT', 'sell_asset': 'ZUSD', 'price': 34428.30555, 'amount': 0.06026840209960937}}]\n",
      "('iBTC', 'DAI')\n",
      "[{'dex': {'trade': 'sell', 'buy_asset': 'DAI', 'sell_asset': 'iBTC', 'price': 34411.1, 'amount': 0.0062874603271484385, 'min_buy': 201.66509081947805}, 'cex': {'trade': 'buy', 'buy_asset': 'XXBT', 'sell_asset': 'ZUSD', 'price': 34428.30555, 'amount': 0.0062874603271484385}}]\n",
      "('iBTC', 'DAI001')\n",
      "[{'dex': {'trade': 'sell', 'buy_asset': 'DAI001', 'sell_asset': 'iBTC', 'price': 34411.1, 'amount': 0.0023455810546875004, 'min_buy': -171.4814116986394}, 'cex': {'trade': 'buy', 'buy_asset': 'XXBT', 'sell_asset': 'ZUSD', 'price': 34428.30555, 'amount': 0.0023455810546875004}}]\n",
      "('DOT', 'iBTC')\n",
      "[{'dex': {'trade': 'buy', 'buy_asset': 'DOT', 'sell_asset': 'iBTC', 'price': 0.00012845, 'amount': 40.0, 'max_sell': 0.07404976272583007}, 'cex': {'trade': 'sell', 'buy_asset': 'XBT', 'sell_asset': 'DOT', 'price': 0.000128385775, 'amount': 40.0}}, {'dex': {'trade': 'buy', 'buy_asset': 'DOT', 'sell_asset': 'iBTC', 'price': 0.00012839, 'amount': 125.634765625, 'max_sell': 0.09013126480579375}, 'cex': {'trade': 'sell', 'buy_asset': 'XBT', 'sell_asset': 'DOT', 'price': 0.00012832580500000002, 'amount': 125.634765625}}]\n",
      "('WETH', 'WBTC001')\n",
      "[{'dex': {'trade': 'buy', 'buy_asset': 'WETH', 'sell_asset': 'WBTC001', 'price': 0.05235, 'amount': 0.11972760581970213, 'max_sell': 0.006250882744789123}, 'cex': {'trade': 'sell', 'buy_asset': 'XXBT', 'sell_asset': 'XETH', 'price': 0.052323825000000004, 'amount': 0.11972760581970213}}]\n",
      "('WETH', 'iBTC')\n",
      "[{'dex': {'trade': 'buy', 'buy_asset': 'WETH', 'sell_asset': 'iBTC', 'price': 0.05235, 'amount': 0.3260296325683593, 'max_sell': 0.10713388055562972}, 'cex': {'trade': 'sell', 'buy_asset': 'XXBT', 'sell_asset': 'XETH', 'price': 0.052323825000000004, 'amount': 0.3260296325683593}}]\n",
      "('WETH001', 'iBTC')\n",
      "[{'dex': {'trade': 'buy', 'buy_asset': 'WETH001', 'sell_asset': 'iBTC', 'price': 0.05235, 'amount': 0.09168806266784665, 'max_sell': 0.11192240738868713}, 'cex': {'trade': 'sell', 'buy_asset': 'XXBT', 'sell_asset': 'XETH', 'price': 0.052323825000000004, 'amount': 0.09168806266784665}}]\n",
      "16\n",
      "strategy 2\n",
      "[{'cex': {'amount': 1.2903319034576413,\n",
      "          'buy_asset': 'XXBT',\n",
      "          'price': 0.052323825000000004,\n",
      "          'sell_asset': 'XETH',\n",
      "          'trade': 'sell'},\n",
      "  'dex': {'amount': 1.2903319034576413,\n",
      "          'buy_asset': 'WETH',\n",
      "          'max_sell': 0.06695183229446411,\n",
      "          'price': 0.05235,\n",
      "          'sell_asset': 'iBTC',\n",
      "          'trade': 'buy'}},\n",
      " {'cex': {'amount': 0.6103477834935764,\n",
      "          'buy_asset': 'XXBT',\n",
      "          'price': 0.052323825000000004,\n",
      "          'sell_asset': 'XETH',\n",
      "          'trade': 'sell'},\n",
      "  'dex': {'amount': 0.6103477834935764,\n",
      "          'buy_asset': 'WETH001',\n",
      "          'max_sell': 0.09877825963497161,\n",
      "          'price': 0.05235,\n",
      "          'sell_asset': 'iBTC',\n",
      "          'trade': 'buy'}},\n",
      " {'cex': {'amount': 40.0,\n",
      "          'buy_asset': 'XBT',\n",
      "          'price': 0.000128385775,\n",
      "          'sell_asset': 'DOT',\n",
      "          'trade': 'sell'},\n",
      "  'dex': {'amount': 40.0,\n",
      "          'buy_asset': 'DOT',\n",
      "          'max_sell': 0.10390395963191985,\n",
      "          'price': 0.00012845,\n",
      "          'sell_asset': 'iBTC',\n",
      "          'trade': 'buy'}},\n",
      " {'cex': {'amount': 7734.398029937745,\n",
      "          'buy_asset': 'HDX',\n",
      "          'price': 0.0044022,\n",
      "          'sell_asset': 'USD',\n",
      "          'trade': 'buy'},\n",
      "  'dex': {'amount': 7734.398029937745,\n",
      "          'buy_asset': 'DAI',\n",
      "          'min_buy': 34.10851918876171,\n",
      "          'price': 0.0044,\n",
      "          'sell_asset': 'HDX',\n",
      "          'trade': 'sell'}},\n",
      " {'cex': {'amount': 5028.569726935147,\n",
      "          'buy_asset': 'HDX',\n",
      "          'price': 0.0044022,\n",
      "          'sell_asset': 'USD',\n",
      "          'trade': 'buy'},\n",
      "  'dex': {'amount': 5028.569726935147,\n",
      "          'buy_asset': 'USDT',\n",
      "          'min_buy': 22.173327064692977,\n",
      "          'price': 0.0044,\n",
      "          'sell_asset': 'HDX',\n",
      "          'trade': 'sell'}},\n",
      " {'cex': {'amount': 1e-18,\n",
      "          'buy_asset': 'HDX',\n",
      "          'price': 0.0044022,\n",
      "          'sell_asset': 'USD',\n",
      "          'trade': 'buy'},\n",
      "  'dex': {'amount': 1e-18,\n",
      "          'buy_asset': 'USDT',\n",
      "          'min_buy': 22.173327064692977,\n",
      "          'price': 0.0044,\n",
      "          'sell_asset': 'HDX',\n",
      "          'trade': 'sell'}}]\n",
      "6\n"
     ]
    }
   ],
   "source": [
    "cex1 = cex.copy()\n",
    "op_state1 = op_state.copy()\n",
    "all_swaps1 = arb.get_arb_swaps(op_state1, cex1, order_book_map, buffer=buffer)\n",
    "tot_swaps = 0\n",
    "for tkn_pair in all_swaps1:\n",
    "    if all_swaps1[tkn_pair]:\n",
    "        print(tkn_pair)\n",
    "        print(all_swaps1[tkn_pair])\n",
    "        tot_swaps += len(all_swaps1[tkn_pair])\n",
    "print(tot_swaps)\n",
    "\n",
    "cex2 = cex.copy()\n",
    "op_state2 = op_state.copy()\n",
    "all_swaps2 = arb2.get_arb_swaps(op_state2, cex2, order_book_map, buffer=buffer)\n",
    "print(\"strategy 2\")\n",
    "pprint(all_swaps2)\n",
    "pprint(len(all_swaps2))"
   ],
   "metadata": {
    "collapsed": false,
    "ExecuteTime": {
     "end_time": "2023-10-31T17:23:15.689260251Z",
     "start_time": "2023-10-31T17:23:15.471175126Z"
    }
   },
   "id": "ef086a726e0e13be"
  },
  {
   "cell_type": "code",
   "execution_count": 7,
   "outputs": [
    {
     "name": "stdout",
     "output_type": "stream",
     "text": [
      "strategy 1 profit\n",
      "{'HDX': 0.0, 'USD': 10.667392492294312, 'BTC': 0.00011169910430908203, 'ETH': 0.0, 'DOT': 0.0, 'ASTR': 0, 'ZTG': 0, 'CFG': 0, 'BNC': 0, 'vDOT': 0, 'GLMR': 0}\n",
      "strategy 1 profit at Omnipool spot\n",
      "13.996375439324042\n",
      "strategy 2 profit\n",
      "{'HDX': 0.0, 'USD': 0.06309187412261963, 'BTC': 0.000619053840637207, 'ETH': 0.0, 'DOT': 0.0, 'ASTR': 0, 'ZTG': 0, 'CFG': 0, 'BNC': 0, 'vDOT': 0, 'GLMR': 0}\n",
      "strategy 2 profit at Omnipool spot\n",
      "18.541887330297527\n"
     ]
    }
   ],
   "source": [
    "state1 = init_state.copy()\n",
    "state2 = init_state.copy()\n",
    "holdings = {asset: 1000000000 for asset in asset_list + order_book_asset_list}\n",
    "init_agent = Agent(holdings=holdings, unique_id='bot')\n",
    "agent1 = init_agent.copy()\n",
    "agent2 = init_agent.copy()\n",
    "cex1 = cex.copy()\n",
    "cex2 = cex.copy()\n",
    "\n",
    "arb.execute_arb(state1, cex1, agent1, all_swaps1)\n",
    "arb2.execute_arb(state2, cex2, agent2, all_swaps2)\n",
    "\n",
    "asset_map = {'WETH': 'ETH',\n",
    "             'XETH': 'ETH',\n",
    "             'XXBT': 'BTC',\n",
    "             'WBTC': 'BTC',\n",
    "             'ZUSD': 'USD',\n",
    "             'USDT': 'USD',\n",
    "             'USDC': 'USD',\n",
    "             'DAI': 'USD',\n",
    "             'USDT001': 'USD',\n",
    "             'DAI001': 'USD',\n",
    "             'WETH001': 'ETH',\n",
    "             'WBTC001': 'BTC',\n",
    "             'iBTC': 'BTC',\n",
    "             'XBT': 'BTC',}\n",
    "\n",
    "profit1 = arb.calculate_profit(init_agent, agent1, asset_map)\n",
    "profit2 = arb2.calculate_profit(init_agent, agent2, asset_map)\n",
    "\n",
    "asset_map_omnipool = {\n",
    "    'ETH': 'WETH',\n",
    "    'XETH': 'WETH',\n",
    "    'XXBT': 'WBTC',\n",
    "    'BTC': 'WBTC',\n",
    "    'ZUSD': 'USDT',\n",
    "    'USD': 'USDT',\n",
    "    'USDC': 'USDT',\n",
    "    'DAI': 'USDT',\n",
    "    'USDT001': 'USDT',\n",
    "    'DAI001': 'USDT',\n",
    "    'WETH001': 'WETH',\n",
    "    'WBTC001': 'WBTC',\n",
    "    'iBTC': 'WBTC',\n",
    "    'XBT': 'WBTC',\n",
    "}\n",
    "\n",
    "\n",
    "profit1_omnipool = arb.calculate_profit(init_agent, agent1, asset_map_omnipool)\n",
    "profit2_omnipool = arb2.calculate_profit(init_agent, agent2, asset_map_omnipool)\n",
    "\n",
    "print(\"strategy 1 profit\")\n",
    "print(profit1)\n",
    "print(\"strategy 1 profit at Omnipool spot\")\n",
    "print(sum([profit1_omnipool[asset] * state1.price(state1, asset, 'USDT') for asset in profit1_omnipool]))\n",
    "print(\"strategy 2 profit\")\n",
    "print(profit2)\n",
    "print(\"strategy 2 profit at Omnipool spot\")\n",
    "print(sum([profit2_omnipool[asset] * state2.price(state2, asset, 'USDT') for asset in profit2_omnipool]))\n",
    "            "
   ],
   "metadata": {
    "collapsed": false,
    "ExecuteTime": {
     "end_time": "2023-10-31T17:23:15.726829040Z",
     "start_time": "2023-10-31T17:23:15.709223930Z"
    }
   },
   "id": "8d4817129c26f839"
  },
  {
   "cell_type": "code",
   "execution_count": 7,
   "outputs": [],
   "source": [],
   "metadata": {
    "collapsed": false,
    "ExecuteTime": {
     "end_time": "2023-10-31T17:23:15.782049256Z",
     "start_time": "2023-10-31T17:23:15.713217950Z"
    }
   },
   "id": "6859a12bc8fb05f2"
  }
 ],
 "metadata": {
  "kernelspec": {
   "display_name": "Python 3",
   "language": "python",
   "name": "python3"
  },
  "language_info": {
   "codemirror_mode": {
    "name": "ipython",
    "version": 2
   },
   "file_extension": ".py",
   "mimetype": "text/x-python",
   "name": "python",
   "nbconvert_exporter": "python",
   "pygments_lexer": "ipython2",
   "version": "2.7.6"
  }
 },
 "nbformat": 4,
 "nbformat_minor": 5
}
