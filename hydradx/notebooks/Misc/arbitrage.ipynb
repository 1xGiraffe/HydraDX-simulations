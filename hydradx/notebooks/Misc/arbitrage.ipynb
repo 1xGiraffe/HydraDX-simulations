{
 "cells": [
  {
   "cell_type": "code",
   "execution_count": 122,
   "id": "initial_id",
   "metadata": {
    "collapsed": true,
    "ExecuteTime": {
     "end_time": "2023-10-11T16:38:55.604825417Z",
     "start_time": "2023-10-11T16:38:55.542099617Z"
    }
   },
   "outputs": [],
   "source": [
    "from hydradx.model.amm.omnipool_amm import OmnipoolState\n",
    "from hydradx.model.amm.agents import Agent\n",
    "\n",
    "\n"
   ]
  },
  {
   "cell_type": "code",
   "execution_count": 123,
   "outputs": [
    {
     "data": {
      "text/plain": "3.75"
     },
     "execution_count": 123,
     "metadata": {},
     "output_type": "execute_result"
    }
   ],
   "source": [
    "dot_usdt_order_book = {\n",
    "    'bids': [{'price': 3.80,'amount': 200},\n",
    "             {'price': 3.79,'amount': 100},\n",
    "             {'price': 3.70,'amount': 100}],\n",
    "    'asks': [{'price': 3.90,'amount': 100},\n",
    "             {'price': 4.00,'amount': 200}]\n",
    "}\n",
    "dot_usdt_order_book = {\n",
    "    'bids': [{'price': 3.60, 'amount': 200},\n",
    "             {'price': 3.59, 'amount': 100},\n",
    "             {'price': 3.50, 'amount': 100},\n",
    "             {'price': 3.40, 'amount': 2000}],\n",
    "    'asks': [{'price': 3.70, 'amount': 100},\n",
    "             {'price': 3.74, 'amount': 5000},\n",
    "             {'price': 3.80, 'amount': 200},\n",
    "             {'price': 3.90, 'amount': 2000}]\n",
    "}\n",
    "\n",
    "tokens = {\n",
    "    'USDT': {\n",
    "        'liquidity': 1000000,\n",
    "        'LRNA': 100000\n",
    "    },\n",
    "    'DOT': {\n",
    "        'liquidity': 800000,\n",
    "        'LRNA': 300000\n",
    "    },\n",
    "    'HDX': {\n",
    "        'liquidity': 200000000,\n",
    "        'LRNA': 400000\n",
    "    }\n",
    "}\n",
    "\n",
    "op_state = OmnipoolState(\n",
    "            tokens=tokens,\n",
    "            lrna_fee=0.00,\n",
    "            asset_fee=0.00,\n",
    "    preferred_stablecoin='USDT',\n",
    "        )\n",
    "\n",
    "init_state = op_state.copy()\n",
    "\n",
    "OmnipoolState.price(op_state, 'DOT', 'USDT')"
   ],
   "metadata": {
    "collapsed": false,
    "ExecuteTime": {
     "end_time": "2023-10-11T16:38:55.605246915Z",
     "start_time": "2023-10-11T16:38:55.586269911Z"
    }
   },
   "id": "68064af1cadd64fc"
  },
  {
   "cell_type": "code",
   "execution_count": 124,
   "outputs": [
    {
     "name": "stdout",
     "output_type": "stream",
     "text": [
      "sell\n",
      "sell\n",
      "4.8125937031582\n",
      "3.565824284261807\n",
      "[{'price': 3.7, 'amount': 100}]\n"
     ]
    }
   ],
   "source": [
    "\n",
    "bids = dot_usdt_order_book['bids']\n",
    "asks = dot_usdt_order_book['asks']\n",
    "bids = sorted(bids, key=lambda x: x['price'], reverse=True)\n",
    "asks = sorted(asks, key=lambda x: x['price'], reverse=False)\n",
    "\n",
    "agent = Agent(holdings={'USDT': 1000000, 'DOT': 1000000, 'HDX': 1000000}, unique_id='bot')\n",
    "\n",
    "op_spot = OmnipoolState.price(op_state, 'DOT', 'USDT')\n",
    "i = 0\n",
    "profit = 0\n",
    "bid_executed = False\n",
    "ask_executed = False\n",
    "last_profit = 0\n",
    "if op_spot < bids[i]['price']:\n",
    "    bid_executed = True\n",
    "    while i < len(bids) and op_spot < bids[i]['price']:  # spot is lower than the highest bid, so we should buy from Omnipool and sell to CEX\n",
    "        print('buy')\n",
    "        profit += last_profit\n",
    "        init_usdt = agent.holdings['USDT']\n",
    "        init_dot = agent.holdings['DOT']\n",
    "        op_state.swap(agent, tkn_buy='DOT', tkn_sell='USDT', buy_quantity=bids[i]['amount'])\n",
    "        \n",
    "        op_spot = OmnipoolState.price(op_state, 'DOT', 'USDT')\n",
    "        usdt_in = init_usdt - agent.holdings['USDT']\n",
    "        last_profit = bids[i]['price'] * bids[i]['amount'] - usdt_in\n",
    "        i += 1\n",
    "elif op_spot > asks[i]['price']:\n",
    "    ask_executed = True\n",
    "    while i < len(bids) and op_spot > asks[i]['price']:  # spot is higher than the lowest ask, so we should buy from CEX and sell to Omnipool\n",
    "        print('sell')\n",
    "        profit += last_profit\n",
    "        init_usdt = agent.holdings['USDT']\n",
    "        init_dot = agent.holdings['DOT']\n",
    "        op_state.swap(agent, tkn_buy='USDT', tkn_sell='DOT', sell_quantity=asks[i]['amount'])\n",
    "        \n",
    "        op_spot = OmnipoolState.price(op_state, 'DOT', 'USDT')\n",
    "        usdt_out = agent.holdings['USDT'] - init_usdt \n",
    "        last_profit = usdt_out - asks[i]['price'] * asks[i]['amount'] \n",
    "        i += 1\n",
    "\n",
    "swaps = []\n",
    "if bid_executed:\n",
    "    if op_spot < bids[i-1]['price']:\n",
    "        swaps = bids[0:i]\n",
    "        profit += last_profit\n",
    "    else:\n",
    "        swaps = bids[0:i-1]\n",
    "elif ask_executed:\n",
    "    if op_spot > asks[i-1]['price']:\n",
    "        swaps = asks[0:i]\n",
    "        profit += last_profit\n",
    "    else:\n",
    "        swaps = asks[0:i-1]\n",
    "    \n",
    "print(profit)\n",
    "print(op_spot)\n",
    "print(swaps)\n",
    "    \n",
    "    # def swap(\n",
    "    #         self,\n",
    "    #         agent: Agent,\n",
    "    #         tkn_buy: str, tkn_sell: str,\n",
    "    #         buy_quantity: float = 0,\n",
    "    #         sell_quantity: float = 0,\n",
    "    #         modify_imbalance: bool = True,  # this is a hack to avoid modifying the imbalance for arbitrager LRNA swaps,\n",
    "    #         # since those would not actually be executed as LRNA swaps\n",
    "    #         # note that we still apply the imbalance modification due to LRNA fee\n",
    "    #         # collection, we just don't apply the imbalance modification from\n",
    "    #         # the sale of LRNA back to the pool.\n",
    "    # ):"
   ],
   "metadata": {
    "collapsed": false,
    "ExecuteTime": {
     "end_time": "2023-10-11T16:38:55.605441590Z",
     "start_time": "2023-10-11T16:38:55.586462310Z"
    }
   },
   "id": "ef086a726e0e13be"
  },
  {
   "cell_type": "code",
   "execution_count": 124,
   "outputs": [],
   "source": [],
   "metadata": {
    "collapsed": false,
    "ExecuteTime": {
     "end_time": "2023-10-11T16:38:55.605673249Z",
     "start_time": "2023-10-11T16:38:55.586600149Z"
    }
   },
   "id": "3d544d9681f2269a"
  }
 ],
 "metadata": {
  "kernelspec": {
   "display_name": "Python 3",
   "language": "python",
   "name": "python3"
  },
  "language_info": {
   "codemirror_mode": {
    "name": "ipython",
    "version": 2
   },
   "file_extension": ".py",
   "mimetype": "text/x-python",
   "name": "python",
   "nbconvert_exporter": "python",
   "pygments_lexer": "ipython2",
   "version": "2.7.6"
  }
 },
 "nbformat": 4,
 "nbformat_minor": 5
}
