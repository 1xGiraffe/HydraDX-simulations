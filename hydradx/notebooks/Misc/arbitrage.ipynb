{
 "cells": [
  {
   "cell_type": "code",
   "execution_count": 1,
   "id": "initial_id",
   "metadata": {
    "collapsed": true,
    "ExecuteTime": {
     "end_time": "2023-10-27T20:55:41.574834503Z",
     "start_time": "2023-10-27T20:55:41.431844507Z"
    }
   },
   "outputs": [],
   "source": [
    "from hydradx.model.amm.omnipool_amm import OmnipoolState\n",
    "from hydradx.model.amm.agents import Agent\n",
    "from hydradx.model.processing import parse_kraken_orderbook, get_omnipool_data\n",
    "from hydradx.model.amm.arbitrage_agent import get_arb_swaps, calculate_profit, execute_arb\n",
    "from hydradx.model.amm.centralized_market import CentralizedMarket, OrderBook\n",
    "from hydradxapi import HydraDX\n",
    "from pprint import pprint\n",
    "import requests\n",
    "\n",
    "import json, os\n"
   ]
  },
  {
   "cell_type": "code",
   "execution_count": 2,
   "outputs": [],
   "source": [
    "with open('config/arbconfig.txt', 'r') as json_file:\n",
    "    arb_list = json.load(json_file)\n",
    "    \n",
    "for d in arb_list:\n",
    "    d['tkns'] = tuple(d['tkns'])\n",
    "    d['tkn_ids'] = tuple(d['tkn_ids'])\n",
    "    d['order_book'] = tuple(d['order_book'])\n",
    "\n",
    "order_books = {}\n",
    "for arb_cfg in arb_list:\n",
    "    tkn_pair = arb_cfg['order_book']\n",
    "    if tkn_pair not in order_books:\n",
    "        resp = requests.get('https://api.kraken.com/0/public/Depth?pair=' + tkn_pair[0] + tkn_pair[1])\n",
    "        y = resp.json()\n",
    "        order_books[tkn_pair] = y['result'][tkn_pair[0] + tkn_pair[1]]\n",
    "    \n"
   ],
   "metadata": {
    "collapsed": false,
    "ExecuteTime": {
     "end_time": "2023-10-27T20:55:44.342795089Z",
     "start_time": "2023-10-27T20:55:41.575752267Z"
    }
   },
   "id": "30c3ae5c6fb4044d"
  },
  {
   "cell_type": "code",
   "execution_count": 3,
   "outputs": [
    {
     "name": "stdout",
     "output_type": "stream",
     "text": [
      "{'ASTR': {'LRNA': 9092.61779563114, 'liquidity': 4608307.689932842},\n",
      " 'BNC': {'LRNA': 6962.163062211603, 'liquidity': 723699.5326484515},\n",
      " 'CFG': {'LRNA': 8851.608850641, 'liquidity': 602207.3975931228},\n",
      " 'DAI': {'LRNA': 13110.676857870463, 'liquidity': 332743.9021445043},\n",
      " 'DAI001': {'LRNA': 31824.663044315806, 'liquidity': 799910.0687595578},\n",
      " 'DOT': {'LRNA': 70092.3535943958, 'liquidity': 429021.7684784067},\n",
      " 'GLMR': {'LRNA': 5249.289645858949, 'liquidity': 677649.6092165004},\n",
      " 'HDX': {'LRNA': 19546.995315872802, 'liquidity': 117708827.30118537},\n",
      " 'USDT': {'LRNA': 85384.0278430586, 'liquidity': 2150586.088572},\n",
      " 'WBTC': {'LRNA': 50.601798806111, 'liquidity': 0.04374934},\n",
      " 'WBTC001': {'LRNA': 41825.898662570326, 'liquidity': 31.07199565},\n",
      " 'WETH': {'LRNA': 21611.81073019557, 'liquidity': 308.36181823539135},\n",
      " 'WETH001': {'LRNA': 71425.47037215637, 'liquidity': 1019.4586640314313},\n",
      " 'ZTG': {'LRNA': 4538.957735895216, 'liquidity': 3133789.308258377},\n",
      " 'iBTC': {'LRNA': 34924.270818218494, 'liquidity': 25.90333816},\n",
      " 'vDOT': {'LRNA': 20822.286362344537, 'liquidity': 105589.0854945154}}\n"
     ]
    }
   ],
   "source": [
    "RPC=\"wss://hydradx-rpc.dwellir.com\"\n",
    "N = 24\n",
    "            \n",
    "asset_list, asset_map, tokens, fees = get_omnipool_data(RPC, N)\n",
    "\n",
    "pprint(tokens)"
   ],
   "metadata": {
    "collapsed": false,
    "ExecuteTime": {
     "end_time": "2023-10-27T20:56:37.665204182Z",
     "start_time": "2023-10-27T20:55:44.352463815Z"
    }
   },
   "id": "a026335ac28fa9d4"
  },
  {
   "cell_type": "code",
   "execution_count": 4,
   "outputs": [],
   "source": [
    "\n",
    "ob_objs = {}\n",
    "for tkn_pair in order_books:\n",
    "    ob = parse_kraken_orderbook(order_books[tkn_pair])\n",
    "    ob_obj = OrderBook(\n",
    "        bids=[[bid['price'], bid['amount']] for bid in ob['bids']],\n",
    "        asks=[[ask['price'], ask['amount']] for ask in ob['asks']]\n",
    "    )\n",
    "    ob_objs[tkn_pair] = ob_obj\n",
    "    \n",
    "order_book_asset_list = []\n",
    "for tkn_pair in order_books:\n",
    "    for tkn in tkn_pair:\n",
    "        if tkn not in order_book_asset_list:\n",
    "            order_book_asset_list.append(tkn)\n",
    "\n",
    "cex_fee = 0.0016\n",
    "buffer = 0.0002\n",
    "\n",
    "lrna_fee={asset: fees[asset]['protocol_fee'] for asset in asset_list}\n",
    "asset_fee={asset: fees[asset]['asset_fee'] for asset in asset_list}\n",
    "\n",
    "# lrna_fee = 0.0005\n",
    "# asset_fee = 0.0025\n",
    "\n",
    "\n",
    "cex = CentralizedMarket(\n",
    "    order_book=ob_objs,\n",
    "    asset_list=order_book_asset_list,\n",
    "    trade_fee=cex_fee\n",
    ")\n",
    "\n",
    "op_state = OmnipoolState(\n",
    "    tokens=tokens,\n",
    "    lrna_fee = lrna_fee,\n",
    "    asset_fee = asset_fee,\n",
    "    preferred_stablecoin='USDT',\n",
    ")\n",
    "\n",
    "init_state = op_state.copy()\n"
   ],
   "metadata": {
    "collapsed": false,
    "ExecuteTime": {
     "end_time": "2023-10-27T20:56:37.729611919Z",
     "start_time": "2023-10-27T20:56:37.684675020Z"
    }
   },
   "id": "68064af1cadd64fc"
  },
  {
   "cell_type": "code",
   "execution_count": 5,
   "outputs": [
    {
     "name": "stdout",
     "output_type": "stream",
     "text": [
      "{('ASTR', 'DAI'): ('ASTR', 'USD'),\n",
      " ('ASTR', 'DAI001'): ('ASTR', 'USD'),\n",
      " ('ASTR', 'USDT'): ('ASTR', 'USD'),\n",
      " ('BNC', 'DAI'): ('BNC', 'USD'),\n",
      " ('BNC', 'DAI001'): ('BNC', 'USD'),\n",
      " ('BNC', 'USDT'): ('BNC', 'USD'),\n",
      " ('CFG', 'DAI'): ('CFG', 'USD'),\n",
      " ('CFG', 'DAI001'): ('CFG', 'USD'),\n",
      " ('CFG', 'USDT'): ('CFG', 'USD'),\n",
      " ('DOT', 'DAI'): ('DOT', 'USD'),\n",
      " ('DOT', 'DAI001'): ('DOT', 'USD'),\n",
      " ('DOT', 'USDT'): ('DOT', 'USD'),\n",
      " ('DOT', 'WBTC001'): ('DOT', 'XBT'),\n",
      " ('DOT', 'WETH'): ('DOT', 'ETH'),\n",
      " ('DOT', 'WETH001'): ('DOT', 'ETH'),\n",
      " ('DOT', 'iBTC'): ('DOT', 'XBT'),\n",
      " ('GLMR', 'DAI'): ('GLMR', 'USD'),\n",
      " ('GLMR', 'DAI001'): ('GLMR', 'USD'),\n",
      " ('GLMR', 'USDT'): ('GLMR', 'USD'),\n",
      " ('HDX', 'DAI'): ('HDX', 'USD'),\n",
      " ('HDX', 'DAI001'): ('HDX', 'USD'),\n",
      " ('HDX', 'USDT'): ('HDX', 'USD'),\n",
      " ('WBTC001', 'DAI'): ('XXBT', 'ZUSD'),\n",
      " ('WBTC001', 'DAI001'): ('XXBT', 'ZUSD'),\n",
      " ('WBTC001', 'USDT'): ('XXBT', 'ZUSD'),\n",
      " ('WETH', 'DAI'): ('XETH', 'ZUSD'),\n",
      " ('WETH', 'DAI001'): ('XETH', 'ZUSD'),\n",
      " ('WETH', 'USDT'): ('XETH', 'ZUSD'),\n",
      " ('WETH', 'WBTC001'): ('XETH', 'XXBT'),\n",
      " ('WETH', 'iBTC'): ('XETH', 'XXBT'),\n",
      " ('WETH001', 'DAI'): ('XETH', 'ZUSD'),\n",
      " ('WETH001', 'DAI001'): ('XETH', 'ZUSD'),\n",
      " ('WETH001', 'USDT'): ('XETH', 'ZUSD'),\n",
      " ('WETH001', 'WBTC001'): ('XETH', 'XXBT'),\n",
      " ('WETH001', 'iBTC'): ('XETH', 'XXBT'),\n",
      " ('iBTC', 'DAI'): ('XXBT', 'ZUSD'),\n",
      " ('iBTC', 'DAI001'): ('XXBT', 'ZUSD'),\n",
      " ('iBTC', 'USDT'): ('XXBT', 'ZUSD')}\n"
     ]
    }
   ],
   "source": [
    "order_book_map = {}\n",
    "for i in range(len(arb_list)):\n",
    "    base_id, quote_id = arb_list[i]['tkn_ids']\n",
    "    orderbook_tkn_pair = arb_list[i]['order_book']\n",
    "    if base_id in asset_map and quote_id in asset_map:\n",
    "        tkn_pair = (asset_map[base_id], asset_map[quote_id])\n",
    "        order_book_map[tkn_pair] = orderbook_tkn_pair \n",
    "    \n",
    "pprint(order_book_map)"
   ],
   "metadata": {
    "collapsed": false,
    "ExecuteTime": {
     "end_time": "2023-10-27T20:56:37.735929514Z",
     "start_time": "2023-10-27T20:56:37.715707585Z"
    }
   },
   "id": "5c34a29fa3c15b8"
  },
  {
   "cell_type": "code",
   "execution_count": 6,
   "outputs": [
    {
     "name": "stdout",
     "output_type": "stream",
     "text": [
      "('DOT', 'DAI001')\n",
      "[{'dex': {'trade': 'buy', 'buy_asset': 'DOT', 'sell_asset': 'DAI001', 'price': 4.1268, 'amount': 8.926295059204103, 'max_sell': 36.7719488694787}, 'cex': {'trade': 'sell', 'buy_asset': 'USD', 'sell_asset': 'DOT', 'price': 4.12638732, 'amount': 8.926295059204103}}]\n",
      "('WETH', 'USDT')\n",
      "[{'dex': {'trade': 'buy', 'buy_asset': 'WETH', 'sell_asset': 'USDT', 'price': 1780.32, 'amount': 0.4522200965881348, 'max_sell': 802.2491504041315}, 'cex': {'trade': 'sell', 'buy_asset': 'ZUSD', 'sell_asset': 'XETH', 'price': 1780.141968, 'amount': 0.4522200965881348}}]\n",
      "('WETH', 'DAI001')\n",
      "[{'dex': {'trade': 'buy', 'buy_asset': 'WETH', 'sell_asset': 'DAI001', 'price': 1780.32, 'amount': 0.24973348617553712, 'max_sell': 480.01556539280415}, 'cex': {'trade': 'sell', 'buy_asset': 'ZUSD', 'sell_asset': 'XETH', 'price': 1780.141968, 'amount': 0.24973348617553712}}]\n",
      "('WETH001', 'USDT')\n",
      "[{'dex': {'trade': 'buy', 'buy_asset': 'WETH001', 'sell_asset': 'USDT', 'price': 1780.32, 'amount': 0.9071185874938965, 'max_sell': 2411.8260893898487}, 'cex': {'trade': 'sell', 'buy_asset': 'ZUSD', 'sell_asset': 'XETH', 'price': 1780.141968, 'amount': 0.9071185874938965}}]\n",
      "('WETH001', 'DAI001')\n",
      "[{'dex': {'trade': 'buy', 'buy_asset': 'WETH001', 'sell_asset': 'DAI001', 'price': 1780.32, 'amount': 0.4876820373535157, 'max_sell': 1345.4183946729063}, 'cex': {'trade': 'sell', 'buy_asset': 'ZUSD', 'sell_asset': 'XETH', 'price': 1780.141968, 'amount': 0.4876820373535157}}]\n",
      "('WBTC001', 'USDT')\n",
      "[{'dex': {'trade': 'sell', 'buy_asset': 'USDT', 'sell_asset': 'WBTC001', 'price': 33791.6, 'amount': 0.00806341552734375, 'min_buy': -2138.2994291828513}, 'cex': {'trade': 'buy', 'buy_asset': 'XXBT', 'sell_asset': 'ZUSD', 'price': 33794.979159999995, 'amount': 0.00806341552734375}}]\n",
      "('WBTC001', 'DAI')\n",
      "[{'dex': {'trade': 'sell', 'buy_asset': 'DAI', 'sell_asset': 'WBTC001', 'price': 33791.6, 'amount': 0.020911376953124994, 'min_buy': 709.8207401819229}, 'cex': {'trade': 'buy', 'buy_asset': 'XXBT', 'sell_asset': 'ZUSD', 'price': 33794.979159999995, 'amount': 0.020911376953124994}}]\n",
      "('iBTC', 'USDT')\n",
      "[{'dex': {'trade': 'sell', 'buy_asset': 'USDT', 'sell_asset': 'iBTC', 'price': 33791.6, 'amount': 0.01950457763671875, 'min_buy': -1477.388122209692}, 'cex': {'trade': 'buy', 'buy_asset': 'XXBT', 'sell_asset': 'ZUSD', 'price': 33794.979159999995, 'amount': 0.01950457763671875}}]\n",
      "('iBTC', 'DAI')\n",
      "[{'dex': {'trade': 'sell', 'buy_asset': 'DAI', 'sell_asset': 'iBTC', 'price': 33791.6, 'amount': 0.006961486816406251, 'min_buy': 945.6912594241262}, 'cex': {'trade': 'buy', 'buy_asset': 'XXBT', 'sell_asset': 'ZUSD', 'price': 33794.979159999995, 'amount': 0.006961486816406251}}]\n",
      "('DOT', 'iBTC')\n",
      "[{'dex': {'trade': 'buy', 'buy_asset': 'DOT', 'sell_asset': 'iBTC', 'price': 0.00012217, 'amount': 8.53, 'max_sell': 0.027507790672779083}, 'cex': {'trade': 'sell', 'buy_asset': 'XBT', 'sell_asset': 'DOT', 'price': 0.000122157783, 'amount': 8.53}}, {'dex': {'trade': 'buy', 'buy_asset': 'DOT', 'sell_asset': 'iBTC', 'price': 0.00012216, 'amount': 8.531, 'max_sell': 0.028547161185741424}, 'cex': {'trade': 'sell', 'buy_asset': 'XBT', 'sell_asset': 'DOT', 'price': 0.000122147784, 'amount': 8.531}}, {'dex': {'trade': 'buy', 'buy_asset': 'DOT', 'sell_asset': 'iBTC', 'price': 0.00012214, 'amount': 56.012759765625, 'max_sell': 0.03537424458265304}, 'cex': {'trade': 'sell', 'buy_asset': 'XBT', 'sell_asset': 'DOT', 'price': 0.00012212778599999998, 'amount': 56.012759765625}}]\n",
      "('WETH', 'WBTC001')\n",
      "[{'dex': {'trade': 'buy', 'buy_asset': 'WETH', 'sell_asset': 'WBTC001', 'price': 0.05269, 'amount': 0.0687854061126709, 'max_sell': 0.032594602060317994}, 'cex': {'trade': 'sell', 'buy_asset': 'XXBT', 'sell_asset': 'XETH', 'price': 0.052684731, 'amount': 0.0687854061126709}}]\n",
      "('WETH', 'iBTC')\n",
      "[{'dex': {'trade': 'buy', 'buy_asset': 'WETH', 'sell_asset': 'iBTC', 'price': 0.05269, 'amount': 0.09172314071655273, 'max_sell': 0.0401966233253479}, 'cex': {'trade': 'sell', 'buy_asset': 'XXBT', 'sell_asset': 'XETH', 'price': 0.052684731, 'amount': 0.09172314071655273}}]\n",
      "('WETH001', 'WBTC001')\n",
      "[{'dex': {'trade': 'buy', 'buy_asset': 'WETH001', 'sell_asset': 'WBTC001', 'price': 0.05269, 'amount': 0.4881553916931153, 'max_sell': 0.0582383691072464}, 'cex': {'trade': 'sell', 'buy_asset': 'XXBT', 'sell_asset': 'XETH', 'price': 0.052684731, 'amount': 0.4881553916931153}}]\n",
      "('WETH001', 'iBTC')\n",
      "[{'dex': {'trade': 'buy', 'buy_asset': 'WETH001', 'sell_asset': 'iBTC', 'price': 0.05269, 'amount': 0.37316557693481445, 'max_sell': 0.05980326671600342}, 'cex': {'trade': 'sell', 'buy_asset': 'XXBT', 'sell_asset': 'XETH', 'price': 0.052684731, 'amount': 0.37316557693481445}}]\n",
      "('BNC', 'USDT')\n",
      "[{'dex': {'trade': 'sell', 'buy_asset': 'USDT', 'sell_asset': 'BNC', 'price': 0.238, 'amount': 532.418, 'min_buy': -1348.704953924954}, 'cex': {'trade': 'buy', 'buy_asset': 'BNC', 'sell_asset': 'USD', 'price': 0.23802379999999998, 'amount': 532.418}}, {'dex': {'trade': 'sell', 'buy_asset': 'USDT', 'sell_asset': 'BNC', 'price': 0.24, 'amount': 849.257, 'min_buy': -1143.8660836956383}, 'cex': {'trade': 'buy', 'buy_asset': 'BNC', 'sell_asset': 'USD', 'price': 0.240024, 'amount': 849.257}}]\n",
      "('BNC', 'DAI')\n",
      "[{'dex': {'trade': 'sell', 'buy_asset': 'DAI', 'sell_asset': 'BNC', 'price': 0.238, 'amount': 532.418, 'min_buy': 1073.9115092321636}, 'cex': {'trade': 'buy', 'buy_asset': 'BNC', 'sell_asset': 'USD', 'price': 0.23802379999999998, 'amount': 532.418}}, {'dex': {'trade': 'sell', 'buy_asset': 'DAI', 'sell_asset': 'BNC', 'price': 0.24, 'amount': 146.8553330936432, 'min_buy': 1109.2276061040045}, 'cex': {'trade': 'buy', 'buy_asset': 'BNC', 'sell_asset': 'USD', 'price': 0.240024, 'amount': 146.8553330936432}}]\n",
      "('BNC', 'DAI001')\n",
      "[{'dex': {'trade': 'sell', 'buy_asset': 'DAI001', 'sell_asset': 'BNC', 'price': 0.238, 'amount': 532.418, 'min_buy': -1217.220117526102}, 'cex': {'trade': 'buy', 'buy_asset': 'BNC', 'sell_asset': 'USD', 'price': 0.23802379999999998, 'amount': 532.418}}]\n"
     ]
    }
   ],
   "source": [
    "all_swaps = get_arb_swaps(op_state, cex, order_book_map, buffer=buffer)\n",
    "for tkn_pair in all_swaps:\n",
    "    if all_swaps[tkn_pair] != []:\n",
    "        print(tkn_pair)\n",
    "        print(all_swaps[tkn_pair])"
   ],
   "metadata": {
    "collapsed": false,
    "ExecuteTime": {
     "end_time": "2023-10-27T20:56:37.947443003Z",
     "start_time": "2023-10-27T20:56:37.719403980Z"
    }
   },
   "id": "ef086a726e0e13be"
  },
  {
   "cell_type": "code",
   "execution_count": 7,
   "outputs": [
    {
     "name": "stdout",
     "output_type": "stream",
     "text": [
      "{'HDX': 0, 'USD': 9.11288332939148, 'BTC': 7.62939453125e-05, 'ETH': 0.0, 'DOT': 0.0, 'ASTR': 0, 'ZTG': 0, 'CFG': 0, 'BNC': 0.0, 'vDOT': 0, 'GLMR': 0}\n"
     ]
    }
   ],
   "source": [
    "state = init_state.copy()\n",
    "holdings = {asset: 1000000000 for asset in asset_list + order_book_asset_list}\n",
    "init_agent = Agent(holdings=holdings, unique_id='bot')\n",
    "agent = init_agent.copy()\n",
    "execute_arb(state, cex, agent, all_swaps)\n",
    "\n",
    "asset_map = {'WETH': 'ETH',\n",
    "             'XETH': 'ETH',\n",
    "             'XXBT': 'BTC',\n",
    "             'WBTC': 'BTC',\n",
    "             'ZUSD': 'USD',\n",
    "             'USDT': 'USD',\n",
    "             'USDC': 'USD',\n",
    "             'DAI': 'USD',\n",
    "             'USDT001': 'USD',\n",
    "             'DAI001': 'USD',\n",
    "             'WETH001': 'ETH',\n",
    "             'WBTC001': 'BTC',\n",
    "             'iBTC': 'BTC',\n",
    "             'XBT': 'BTC',}\n",
    "\n",
    "profit = calculate_profit(init_agent, agent, asset_map)\n",
    "\n",
    "print(profit)\n",
    "            "
   ],
   "metadata": {
    "collapsed": false,
    "ExecuteTime": {
     "end_time": "2023-10-27T20:56:37.947716015Z",
     "start_time": "2023-10-27T20:56:37.943671530Z"
    }
   },
   "id": "8d4817129c26f839"
  },
  {
   "cell_type": "code",
   "execution_count": 7,
   "outputs": [],
   "source": [],
   "metadata": {
    "collapsed": false,
    "ExecuteTime": {
     "end_time": "2023-10-27T20:56:38.001535983Z",
     "start_time": "2023-10-27T20:56:37.946247736Z"
    }
   },
   "id": "fc18dce1b93bab0c"
  }
 ],
 "metadata": {
  "kernelspec": {
   "display_name": "Python 3",
   "language": "python",
   "name": "python3"
  },
  "language_info": {
   "codemirror_mode": {
    "name": "ipython",
    "version": 2
   },
   "file_extension": ".py",
   "mimetype": "text/x-python",
   "name": "python",
   "nbconvert_exporter": "python",
   "pygments_lexer": "ipython2",
   "version": "2.7.6"
  }
 },
 "nbformat": 4,
 "nbformat_minor": 5
}
