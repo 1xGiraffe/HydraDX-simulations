{
 "cells": [
  {
   "cell_type": "code",
   "execution_count": 1,
   "id": "initial_id",
   "metadata": {
    "collapsed": true,
    "ExecuteTime": {
     "end_time": "2023-10-25T21:15:09.648401845Z",
     "start_time": "2023-10-25T21:15:09.507035197Z"
    }
   },
   "outputs": [],
   "source": [
    "from hydradx.model.amm.omnipool_amm import OmnipoolState\n",
    "from hydradx.model.amm.agents import Agent\n",
    "from hydradx.model.processing import parse_kraken_orderbook\n",
    "from hydradx.model.amm.arbitrage_agent import get_arb_swaps, calculate_profit, execute_arb\n",
    "from hydradx.model.amm.centralized_market import CentralizedMarket, OrderBook\n",
    "from hydradxapi import HydraDX\n",
    "from pprint import pprint\n",
    "import requests\n",
    "\n",
    "\n",
    "\n",
    "import json, os\n"
   ]
  },
  {
   "cell_type": "code",
   "execution_count": 2,
   "outputs": [],
   "source": [
    "# tkn_pairs = ['HDXUSD', 'DOTUSD', 'XETHZUSD', 'DOTETH', 'XXBTZUSD', 'DOTXBT', 'XETHXXBT', 'ASTRUSD', 'CFGUSD', 'BNCUSD', 'GLMRUSD']\n",
    "# op_tkn_pairs = [('HDX','USDT'), ('DOT','USDT'), ('WETH','USDT'), ('DOT','WETH'), ('WBTC','USDT'), ('DOT','WBTC'), ('WETH','WBTC'), ('ASTR','USDT'), ('CFG','USDT'), ('BNC','USDT'), ('GLMR','USDT')]\n",
    "# arb_dict = {\n",
    "#     ('HDX','USDT'): 'HDXUSD',\n",
    "#     ('DOT','USDT'): 'DOTUSD',\n",
    "#     ('WETH','USDT'): 'XETHZUSD',\n",
    "#     ('DOT','WETH'): 'DOTETH',\n",
    "#     ('WBTC','USDT'): 'XXBTZUSD',\n",
    "#     ('DOT','WBTC'): 'DOTXBT',\n",
    "#     ('WETH','WBTC'): 'XETHXXBT',\n",
    "#     ('ASTR','USDT'): 'ASTRUSD',\n",
    "#     ('CFG','USDT'): 'CFGUSD',\n",
    "#     ('BNC','USDT'): 'BNCUSD',\n",
    "#     ('GLMR','USDT'): 'GLMRUSD'\n",
    "# }\n",
    "\n",
    "# TODO move to config file\n",
    "arb_list = [\n",
    "    {'tkns': ('HDX', 'USDT'), 'tkn_ids': (0, 10), 'order_book': ('HDX','USD')},\n",
    "    {'tkns': ('DOT', 'USDT'), 'tkn_ids': (5, 10), 'order_book': ('DOT','USD')},\n",
    "    {'tkns': ('WETH', 'USDT'), 'tkn_ids': (4, 10), 'order_book': ('XETH','ZUSD')},\n",
    "    {'tkns': ('DOT', 'WETH'), 'tkn_ids': (5, 4), 'order_book': ('DOT','ETH')},\n",
    "    {'tkns': ('WBTC', 'USDT'), 'tkn_ids': (3, 10), 'order_book': ('XXBT','ZUSD')},\n",
    "    {'tkns': ('DOT', 'WBTC'), 'tkn_ids': (5, 3), 'order_book': ('DOT','XBT')},\n",
    "    {'tkns': ('WETH', 'WBTC'), 'tkn_ids': (4, 3), 'order_book': ('XETH','XXBT')},\n",
    "    {'tkns': ('ASTR', 'USDT'), 'tkn_ids': (9, 10), 'order_book': ('ASTR','USD')},\n",
    "    {'tkns': ('CFG', 'USDT'), 'tkn_ids': (13, 10), 'order_book': ('CFG','USD')},\n",
    "    {'tkns': ('BNC', 'USDT'), 'tkn_ids': (14, 10), 'order_book': ('BNC','USD')},\n",
    "    {'tkns': ('GLMR', 'USDT'), 'tkn_ids': (16, 10), 'order_book': ('GLMR','USD')}\n",
    "]\n",
    "\n",
    "order_books = {}\n",
    "for arb_cfg in arb_list:\n",
    "    tkn_pair = arb_cfg['order_book']\n",
    "    if tkn_pair not in order_books:\n",
    "        resp = requests.get('https://api.kraken.com/0/public/Depth?pair=' + tkn_pair[0] + tkn_pair[1])\n",
    "        y = resp.json()\n",
    "        order_books[tkn_pair] = y['result'][tkn_pair[0] + tkn_pair[1]]\n",
    "    \n",
    "\n",
    "# f = open('data/hdxusd_orderbook.json', 'r')\n",
    "# y = json.loads(f.read())\n",
    "# f = open('data/dotusd_orderbook.json', 'r')\n",
    "# z = json.loads(f.read())\n",
    "# hdxusd_orderbook = y['result']['HDXUSD']\n",
    "# dotusd_orderbook = z['result']['DOTUSD']\n",
    "\n",
    "# pprint(hdxusd_orderbook)\n",
    "\n"
   ],
   "metadata": {
    "collapsed": false,
    "ExecuteTime": {
     "end_time": "2023-10-25T21:15:12.498640499Z",
     "start_time": "2023-10-25T21:15:09.654232600Z"
    }
   },
   "id": "30c3ae5c6fb4044d"
  },
  {
   "cell_type": "code",
   "execution_count": 3,
   "outputs": [],
   "source": [
    "def get_unique_name(ls: list[str], name: str) -> str:\n",
    "    if name not in ls:\n",
    "        return name\n",
    "    else:\n",
    "        c = 1\n",
    "        while name + str(c).zfill(3) in ls:\n",
    "            c += 1\n",
    "        return name + str(c).zfill(3)"
   ],
   "metadata": {
    "collapsed": false,
    "ExecuteTime": {
     "end_time": "2023-10-25T21:15:12.529292869Z",
     "start_time": "2023-10-25T21:15:12.507395668Z"
    }
   },
   "id": "e6904b3689225ff6"
  },
  {
   "cell_type": "code",
   "execution_count": 4,
   "outputs": [
    {
     "name": "stdout",
     "output_type": "stream",
     "text": [
      "{'ASTR': {'LRNA': 9168.686628028167, 'liquidity': 4560797.91676211},\n",
      " 'BNC': {'LRNA': 7139.95301821198, 'liquidity': 702797.3111294416},\n",
      " 'CFG': {'LRNA': 8824.522203223809, 'liquidity': 603921.8080597813},\n",
      " 'DAI': {'LRNA': 13087.906345325118, 'liquidity': 333449.16118631966},\n",
      " 'DAI001': {'LRNA': 31626.944194316842, 'liquidity': 804832.3731989582},\n",
      " 'DOT': {'LRNA': 70688.0051392197, 'liquidity': 421708.0248276837},\n",
      " 'GLMR': {'LRNA': 5361.714075194796, 'liquidity': 663370.1851263171},\n",
      " 'HDX': {'LRNA': 19189.482084954576, 'liquidity': 119900761.79399426},\n",
      " 'IBTC': {'LRNA': 35124.14259846746, 'liquidity': 25.76875101},\n",
      " 'USDT': {'LRNA': 84597.21509506422, 'liquidity': 2170044.892663},\n",
      " 'WBTC': {'LRNA': 50.601798806111, 'liquidity': 0.04374934},\n",
      " 'WBTC001': {'LRNA': 42052.70022286926, 'liquidity': 30.90413606},\n",
      " 'WETH': {'LRNA': 21609.26712492295, 'liquidity': 308.3879667597883},\n",
      " 'WETH001': {'LRNA': 71522.49491638002, 'liquidity': 1018.0452401477638},\n",
      " 'ZTG': {'LRNA': 4310.262791368341, 'liquidity': 3298178.98582005},\n",
      " 'vDOT': {'LRNA': 21080.010255229077, 'liquidity': 104592.9224107433}}\n",
      "{0: 'HDX',\n",
      " 2: 'DAI',\n",
      " 3: 'WBTC',\n",
      " 4: 'WETH',\n",
      " 5: 'DOT',\n",
      " 9: 'ASTR',\n",
      " 10: 'USDT',\n",
      " 11: 'IBTC',\n",
      " 12: 'ZTG',\n",
      " 13: 'CFG',\n",
      " 14: 'BNC',\n",
      " 15: 'vDOT',\n",
      " 16: 'GLMR',\n",
      " 18: 'DAI001',\n",
      " 19: 'WBTC001',\n",
      " 20: 'WETH001'}\n"
     ]
    }
   ],
   "source": [
    "RPC=\"wss://hydradx-rpc.dwellir.com\"\n",
    "\n",
    "chain = HydraDX(RPC) \n",
    "chain.connect()\n",
    "\n",
    "# Omnipool metadata\n",
    "# TODO: move to JSON file\n",
    "metadata = [\n",
    "    {'symbol': 'HDX', 'id': 0, 'decimals': 12},\n",
    "    {'symbol': 'LRNA', 'id': 1, 'decimals': 12},\n",
    "    {'symbol': 'DAI', 'id': 2, 'decimals': 18},\n",
    "    {'symbol': 'WBTC', 'id': 3, 'decimals': 8},\n",
    "    {'symbol': 'WETH', 'id': 4, 'decimals': 18},\n",
    "    {'symbol': 'DOT', 'id': 5, 'decimals': 10},\n",
    "    {'symbol': 'APE', 'id': 6, 'decimals': 18},\n",
    "    {'symbol': 'USDC', 'id': 7, 'decimals': 6},\n",
    "    {'symbol': 'PHA', 'id': 8, 'decimals': 12},\n",
    "    {'symbol': 'ASTR', 'id': 9, 'decimals': 18},\n",
    "    {'symbol': 'USDT', 'id': 10, 'decimals': 6},\n",
    "    {'symbol': 'IBTC', 'id': 11, 'decimals': 8},\n",
    "    {'symbol': 'ZTG', 'id': 12, 'decimals': 10},\n",
    "    {'symbol': 'CFG', 'id': 13, 'decimals': 18},\n",
    "    {'symbol': 'BNC', 'id': 14, 'decimals': 12},\n",
    "    {'symbol': 'vDOT', 'id': 15, 'decimals': 10},\n",
    "    {'symbol': 'GLMR', 'id': 16, 'decimals': 18},\n",
    "    {'symbol': 'INTR', 'id': 17, 'decimals': 10},\n",
    "    {'symbol': 'DAI', 'id': 18, 'decimals': 18},\n",
    "    {'symbol': 'WBTC', 'id': 19, 'decimals': 8},\n",
    "    {'symbol': 'WETH', 'id': 20, 'decimals': 18},\n",
    "    {'symbol': 'USDC', 'id': 21, 'decimals': 6},\n",
    "    {'symbol': 'USDC', 'id': 22, 'decimals': 6},\n",
    "    {'symbol': 'USDT', 'id': 23, 'decimals': 6},\n",
    "    ]\n",
    "\n",
    "#Asset: 0\n",
    "#\tReserve: 0\n",
    "#\tLRNA: 20220634396578953\n",
    "#\tShares: 40600077930826935893\n",
    "#\tProtocol: 3694884494247885459\n",
    "\n",
    "\n",
    "# asset_list = ['USDT','DOT','HDX','WETH','WBTC','IBTC','ASTR','CFG','BNC','GLMR','ZTG']\n",
    "# id_list = [i for i in range(len(metadata)) if metadata[i]['symbol'] in asset_list]\n",
    "# id_list = [0,5,10,4,3,11,9,13,14,16,12]\n",
    "\n",
    "# for i in id_list:\n",
    "asset_list = []\n",
    "fees = {}\n",
    "tokens = {}\n",
    "asset_map = {}\n",
    "\n",
    "for i in range(len(metadata)):\n",
    "    try:\n",
    "        state = chain.api.omnipool.asset_state(metadata[i]['id'])\n",
    "    except:\n",
    "        continue\n",
    "        \n",
    "    fee = chain.api.fees.asset_fees(metadata[i]['id'])\n",
    "\n",
    "    tkn = get_unique_name(asset_list, metadata[i]['symbol'])\n",
    "    asset_list.append(tkn)\n",
    "    asset_map[i] = tkn\n",
    "    tokens[tkn] = {\n",
    "        'liquidity': state.reserve / 10**metadata[i]['decimals'],\n",
    "        'LRNA': state.hub_reserve / 10**12\n",
    "    }\n",
    "    fees[tkn] = {\"asset_fee\": fee.asset_fee / 100, \"protocol_fee\": fee.protocol_fee / 100}\n",
    "    \n",
    "# fees = {{'asset_fee': chain.api.fees.asset_fees(i)} for i in id_list}\n",
    "# for i in range(len(metadata)):\n",
    "#     fee = chain.api.fees.asset_fees(i)\n",
    "#     fees[metadata[i]['symbol']] = {\"asset_fee\": fee.asset_fee / 100, \"protocol_fee\": fee.protocol_fee / 100}\n",
    "    \n",
    "chain.close()\n",
    "# pprint(fees)\n",
    "\n",
    "# get Omnipool data\n",
    "# tokens = {\n",
    "#     'USDT': {\n",
    "#         'liquidity': 2062772,\n",
    "#         'LRNA': 2062772\n",
    "#     },\n",
    "#     'DOT': {\n",
    "#         # 'liquidity': 389000,\n",
    "#         'liquidity': 350000,\n",
    "#         'LRNA': 1456248\n",
    "#     },\n",
    "#     'HDX': {\n",
    "#         'liquidity': 108000000,\n",
    "#         'LRNA': 494896\n",
    "#     }\n",
    "# }\n",
    "\n",
    "pprint(tokens)\n",
    "pprint(asset_map)\n"
   ],
   "metadata": {
    "collapsed": false,
    "ExecuteTime": {
     "end_time": "2023-10-25T21:15:51.008161203Z",
     "start_time": "2023-10-25T21:15:12.522246356Z"
    }
   },
   "id": "a026335ac28fa9d4"
  },
  {
   "cell_type": "code",
   "execution_count": 5,
   "outputs": [
    {
     "name": "stdout",
     "output_type": "stream",
     "text": [
      "{('ASTR', 'USD'): <hydradx.model.amm.centralized_market.OrderBook object at 0x7fe14d04db20>,\n",
      " ('BNC', 'USD'): <hydradx.model.amm.centralized_market.OrderBook object at 0x7fe14d062fa0>,\n",
      " ('CFG', 'USD'): <hydradx.model.amm.centralized_market.OrderBook object at 0x7fe14d04d2e0>,\n",
      " ('DOT', 'ETH'): <hydradx.model.amm.centralized_market.OrderBook object at 0x7fe1647f36a0>,\n",
      " ('DOT', 'USD'): <hydradx.model.amm.centralized_market.OrderBook object at 0x7fe1647f3880>,\n",
      " ('DOT', 'XBT'): <hydradx.model.amm.centralized_market.OrderBook object at 0x7fe14d04d910>,\n",
      " ('GLMR', 'USD'): <hydradx.model.amm.centralized_market.OrderBook object at 0x7fe1742ce730>,\n",
      " ('HDX', 'USD'): <hydradx.model.amm.centralized_market.OrderBook object at 0x7fe17433abb0>,\n",
      " ('XETH', 'XXBT'): <hydradx.model.amm.centralized_market.OrderBook object at 0x7fe14d04d880>,\n",
      " ('XETH', 'ZUSD'): <hydradx.model.amm.centralized_market.OrderBook object at 0x7fe1647f3730>,\n",
      " ('XXBT', 'ZUSD'): <hydradx.model.amm.centralized_market.OrderBook object at 0x7fe1647f3cd0>}\n"
     ]
    }
   ],
   "source": [
    "\n",
    "# dot_usdt_order_book = {\n",
    "#     'bids': [{'price': 3.60, 'amount': 200},\n",
    "#              {'price': 3.59, 'amount': 100},\n",
    "#              {'price': 3.50, 'amount': 100},\n",
    "#              {'price': 3.40, 'amount': 2000}],\n",
    "#     'asks': [{'price': 3.70, 'amount': 100},\n",
    "#              {'price': 3.74, 'amount': 5000},\n",
    "#              {'price': 3.80, 'amount': 200},\n",
    "#              {'price': 3.90, 'amount': 2000}]\n",
    "# }\n",
    "# \n",
    "# hdx_usdt_order_book = {\n",
    "#     'bids': [{'price': 0.03, 'amount': 2000},\n",
    "#              {'price': 0.025, 'amount': 2000},\n",
    "#              {'price': 0.02, 'amount': 2000},\n",
    "#              {'price': 0.015, 'amount': 2000}],\n",
    "#     'asks': [{'price': 0.04, 'amount': 2000},\n",
    "#              {'price': 0.05, 'amount': 2000},\n",
    "#              {'price': 0.06, 'amount': 2000},\n",
    "#              {'price': 0.07, 'amount': 2000}]\n",
    "# }\n",
    "\n",
    "# hdx_dot_order_book = {\n",
    "#     'bids': [{'price': 0.005, 'amount': 2000},\n",
    "#              {'price': 0.004, 'amount': 2000}],\n",
    "#     'asks': [{'price': 0.0052, 'amount': 2000},\n",
    "#              {'price': 0.0055, 'amount': 2000}]\n",
    "# }\n",
    "\n",
    "ob_objs = {}\n",
    "for tkn_pair in order_books:\n",
    "    ob = parse_kraken_orderbook(order_books[tkn_pair])\n",
    "    ob_obj = OrderBook(\n",
    "        bids=[[bid['price'], bid['amount']] for bid in ob['bids']],\n",
    "        asks=[[ask['price'], ask['amount']] for ask in ob['asks']]\n",
    "    )\n",
    "    ob_objs[tkn_pair] = ob_obj\n",
    "    \n",
    "order_book_asset_list = []\n",
    "for tkn_pair in order_books:\n",
    "    for tkn in tkn_pair:\n",
    "        if tkn not in order_book_asset_list:\n",
    "            order_book_asset_list.append(tkn)\n",
    "\n",
    "# order_book = {}\n",
    "# for i in range(len(arb_list)):\n",
    "#     base_id, quote_id = arb_list[i]['tkn_ids']\n",
    "#     orderbook_tkn_pair = arb_list[i]['order_book']\n",
    "#     tkn_pair = (asset_map[base_id], asset_map[quote_id])\n",
    "#     order_book[tkn_pair] = orderbook_tkn_pair \n",
    "#     \n",
    "pprint(ob_objs)\n",
    "\n",
    "# order_book = {op_tkn_pairs[i]: ob_objs[i] for i in range(len(op_tkn_pairs))}\n",
    "\n",
    "# order_book = {\n",
    "#     ('DOT','USDT'): dot_usdt_order_book_obj,\n",
    "#     ('HDX','USDT'): hdx_usdt_order_book_obj,\n",
    "#     # ('HDX','DOT'): hdx_dot_order_book\n",
    "# }\n",
    "\n",
    "\n",
    "\n",
    "lrna_fee = 0.0005\n",
    "asset_fee = 0.0025\n",
    "cex_fee = 0.0016\n",
    "buffer = 0.0002\n",
    "\n",
    "# lrna_fee = 0.0000\n",
    "# asset_fee = 0.0000\n",
    "# cex_fee = 0.0000\n",
    "# buffer = 0.0\n",
    "\n",
    "lrna_fee={asset: fees[asset]['protocol_fee'] for asset in asset_list}\n",
    "asset_fee={asset: fees[asset]['asset_fee'] for asset in asset_list}\n",
    "\n",
    "\n",
    "cex = CentralizedMarket(\n",
    "    order_book=ob_objs,\n",
    "    asset_list=order_book_asset_list,\n",
    "    trade_fee=cex_fee\n",
    ")\n",
    "\n",
    "op_state = OmnipoolState(\n",
    "    tokens=tokens,\n",
    "    lrna_fee = lrna_fee,\n",
    "    asset_fee = asset_fee,\n",
    "    preferred_stablecoin='USDT',\n",
    ")\n",
    "\n",
    "init_state = op_state.copy()\n"
   ],
   "metadata": {
    "collapsed": false,
    "ExecuteTime": {
     "end_time": "2023-10-25T21:15:51.079783568Z",
     "start_time": "2023-10-25T21:15:51.045912940Z"
    }
   },
   "id": "68064af1cadd64fc"
  },
  {
   "cell_type": "code",
   "execution_count": 6,
   "outputs": [
    {
     "name": "stdout",
     "output_type": "stream",
     "text": [
      "{('ASTR', 'USDT'): ('ASTR', 'USD'),\n",
      " ('BNC', 'USDT'): ('BNC', 'USD'),\n",
      " ('CFG', 'USDT'): ('CFG', 'USD'),\n",
      " ('DOT', 'USDT'): ('DOT', 'USD'),\n",
      " ('DOT', 'WBTC'): ('DOT', 'XBT'),\n",
      " ('DOT', 'WETH'): ('DOT', 'ETH'),\n",
      " ('GLMR', 'USDT'): ('GLMR', 'USD'),\n",
      " ('HDX', 'USDT'): ('HDX', 'USD'),\n",
      " ('WBTC', 'USDT'): ('XXBT', 'ZUSD'),\n",
      " ('WETH', 'USDT'): ('XETH', 'ZUSD'),\n",
      " ('WETH', 'WBTC'): ('XETH', 'XXBT')}\n"
     ]
    }
   ],
   "source": [
    "order_book_map = {}\n",
    "for i in range(len(arb_list)):\n",
    "    base_id, quote_id = arb_list[i]['tkn_ids']\n",
    "    orderbook_tkn_pair = arb_list[i]['order_book']\n",
    "    tkn_pair = (asset_map[base_id], asset_map[quote_id])\n",
    "    order_book_map[tkn_pair] = orderbook_tkn_pair \n",
    "    \n",
    "pprint(order_book_map)"
   ],
   "metadata": {
    "collapsed": false,
    "ExecuteTime": {
     "end_time": "2023-10-25T21:15:51.080105023Z",
     "start_time": "2023-10-25T21:15:51.052148646Z"
    }
   },
   "id": "5c34a29fa3c15b8"
  },
  {
   "cell_type": "code",
   "execution_count": 7,
   "outputs": [
    {
     "name": "stdout",
     "output_type": "stream",
     "text": [
      "('WETH', 'USDT')\n",
      "[{'dex': {'trade': 'sell', 'buy_asset': 'USDT', 'sell_asset': 'WETH', 'price': 1788.05, 'amount': 0.05355854034423828, 'min_buy': 95.94925318754912}, 'cex': {'trade': 'buy', 'buy_asset': 'XETH', 'sell_asset': 'ZUSD', 'price': 1788.228805, 'amount': 0.05355854034423828}}]\n",
      "('WBTC', 'USDT')\n",
      "[{'dex': {'trade': 'buy', 'buy_asset': 'WBTC', 'sell_asset': 'USDT', 'price': 34710.3, 'amount': 0.001, 'max_sell': -65.51124195073842}, 'cex': {'trade': 'sell', 'buy_asset': 'ZUSD', 'sell_asset': 'XXBT', 'price': 34706.82897, 'amount': 0.001}}, {'dex': {'trade': 'buy', 'buy_asset': 'WBTC', 'sell_asset': 'USDT', 'price': 34708.6, 'amount': 0.002199077033615113, 'max_sell': 6.763721615505219}, 'cex': {'trade': 'sell', 'buy_asset': 'ZUSD', 'sell_asset': 'XXBT', 'price': 34705.12914, 'amount': 0.002199077033615113}}]\n",
      "('DOT', 'WBTC')\n",
      "[{'dex': {'trade': 'sell', 'buy_asset': 'WBTC', 'sell_asset': 'DOT', 'price': 0.00012361, 'amount': 0.3606605529785156, 'min_buy': 0.003243479597568512}, 'cex': {'trade': 'buy', 'buy_asset': 'DOT', 'sell_asset': 'XBT', 'price': 0.00012362236099999998, 'amount': 0.3606605529785156}}]\n",
      "('WETH', 'WBTC')\n",
      "[{'dex': {'trade': 'sell', 'buy_asset': 'WBTC', 'sell_asset': 'WETH', 'price': 0.0515, 'amount': 0.001118013381958009, 'min_buy': 0.0033012903213500977}, 'cex': {'trade': 'buy', 'buy_asset': 'XETH', 'sell_asset': 'XXBT', 'price': 0.05150515, 'amount': 0.001118013381958009}}]\n",
      "('BNC', 'USDT')\n",
      "[{'dex': {'trade': 'sell', 'buy_asset': 'USDT', 'sell_asset': 'BNC', 'price': 0.259, 'amount': 112.08, 'min_buy': 22.350557937383652}, 'cex': {'trade': 'buy', 'buy_asset': 'BNC', 'sell_asset': 'USD', 'price': 0.25902590000000003, 'amount': 112.08}}]\n"
     ]
    }
   ],
   "source": [
    "all_swaps = get_arb_swaps(op_state, cex, order_book_map, buffer=buffer)\n",
    "for tkn_pair in all_swaps:\n",
    "    if all_swaps[tkn_pair] != []:\n",
    "        print(tkn_pair)\n",
    "        print(all_swaps[tkn_pair])"
   ],
   "metadata": {
    "collapsed": false,
    "ExecuteTime": {
     "end_time": "2023-10-25T21:15:51.147175404Z",
     "start_time": "2023-10-25T21:15:51.073217879Z"
    }
   },
   "id": "ef086a726e0e13be"
  },
  {
   "cell_type": "code",
   "execution_count": 8,
   "outputs": [
    {
     "name": "stdout",
     "output_type": "stream",
     "text": [
      "{'HDX': 0, 'USD': 8.21858024597168, 'BTC': 1.1920928955078125e-07, 'ETH': 0.0, 'DOT': 0.0, 'ASTR': 0, 'ZTG': 0, 'CFG': 0, 'BNC': 0.0, 'vDOT': 0, 'GLMR': 0}\n"
     ]
    }
   ],
   "source": [
    "state = init_state.copy()\n",
    "holdings = {asset: 1000000000 for asset in asset_list + order_book_asset_list}\n",
    "init_agent = Agent(holdings=holdings, unique_id='bot')\n",
    "agent = init_agent.copy()\n",
    "execute_arb(state, cex, agent, all_swaps)\n",
    "\n",
    "asset_map = {'WETH': 'ETH',\n",
    "             'XETH': 'ETH',\n",
    "             'XXBT': 'BTC',\n",
    "             'WBTC': 'BTC',\n",
    "             'ZUSD': 'USD',\n",
    "             'USDT': 'USD',\n",
    "             'USDC': 'USD',\n",
    "             'DAI': 'USD',\n",
    "             'USDT001': 'USD',\n",
    "             'DAI001': 'USD',\n",
    "             'WETH001': 'ETH',\n",
    "             'WBTC001': 'BTC',\n",
    "             'WETH001': 'ETH',\n",
    "             'IBTC': 'BTC',\n",
    "             'XBT': 'BTC',}\n",
    "\n",
    "profit = calculate_profit(init_agent, agent, asset_map)\n",
    "\n",
    "print(profit)\n",
    "            \n",
    "# for tkn_pair in all_swaps:\n",
    "#     print(tkn_pair)\n",
    "#     op_spot = OmnipoolState.price(state, tkn_pair[0], tkn_pair[1])\n",
    "#     buy_spot = op_spot / ((1 - lrna_fee)*(1 - asset_fee))\n",
    "#     sell_spot = op_spot * (1 - lrna_fee) * (1 - asset_fee)\n",
    "#     print((sell_spot, op_spot, buy_spot))\n",
    "    \n"
   ],
   "metadata": {
    "collapsed": false,
    "ExecuteTime": {
     "end_time": "2023-10-25T21:15:51.202896916Z",
     "start_time": "2023-10-25T21:15:51.153996964Z"
    }
   },
   "id": "8d4817129c26f839"
  },
  {
   "cell_type": "code",
   "execution_count": 8,
   "outputs": [],
   "source": [],
   "metadata": {
    "collapsed": false,
    "ExecuteTime": {
     "end_time": "2023-10-25T21:15:51.203030037Z",
     "start_time": "2023-10-25T21:15:51.197557636Z"
    }
   },
   "id": "fc18dce1b93bab0c"
  }
 ],
 "metadata": {
  "kernelspec": {
   "display_name": "Python 3",
   "language": "python",
   "name": "python3"
  },
  "language_info": {
   "codemirror_mode": {
    "name": "ipython",
    "version": 2
   },
   "file_extension": ".py",
   "mimetype": "text/x-python",
   "name": "python",
   "nbconvert_exporter": "python",
   "pygments_lexer": "ipython2",
   "version": "2.7.6"
  }
 },
 "nbformat": 4,
 "nbformat_minor": 5
}
