{
 "cells": [
  {
   "cell_type": "code",
   "execution_count": 1,
   "id": "initial_id",
   "metadata": {
    "collapsed": true,
    "ExecuteTime": {
     "end_time": "2023-10-27T20:03:56.252662473Z",
     "start_time": "2023-10-27T20:03:56.090653923Z"
    }
   },
   "outputs": [],
   "source": [
    "from hydradx.model.amm.omnipool_amm import OmnipoolState\n",
    "from hydradx.model.amm.agents import Agent\n",
    "from hydradx.model.processing import parse_kraken_orderbook\n",
    "from hydradx.model.amm.arbitrage_agent import get_arb_swaps, calculate_profit, execute_arb\n",
    "from hydradx.model.amm.centralized_market import CentralizedMarket, OrderBook\n",
    "from hydradxapi import HydraDX\n",
    "from pprint import pprint\n",
    "import requests\n",
    "\n",
    "\n",
    "\n",
    "import json, os\n"
   ]
  },
  {
   "cell_type": "code",
   "execution_count": 2,
   "outputs": [],
   "source": [
    "\n",
    "# TODO move to config file\n",
    "arb_list = [\n",
    "    {'tkns': ('HDX', 'USDT'), 'tkn_ids': (0, 10), 'order_book': ('HDX','USD')},\n",
    "    {'tkns': ('HDX', 'USDT'), 'tkn_ids': (0, 23), 'order_book': ('HDX','USD')},\n",
    "    {'tkns': ('HDX', 'USDT'), 'tkn_ids': (0, 2), 'order_book': ('HDX','USD')},\n",
    "    {'tkns': ('HDX', 'USDT'), 'tkn_ids': (0, 7), 'order_book': ('HDX','USD')},\n",
    "    {'tkns': ('HDX', 'USDT'), 'tkn_ids': (0, 18), 'order_book': ('HDX','USD')},\n",
    "    {'tkns': ('HDX', 'USDT'), 'tkn_ids': (0, 21), 'order_book': ('HDX','USD')},\n",
    "    {'tkns': ('HDX', 'USDT'), 'tkn_ids': (0, 22), 'order_book': ('HDX','USD')},\n",
    "    {'tkns': ('DOT', 'USDT'), 'tkn_ids': (5, 10), 'order_book': ('DOT','USD')},\n",
    "    {'tkns': ('DOT', 'USDT'), 'tkn_ids': (5, 23), 'order_book': ('DOT','USD')},\n",
    "    {'tkns': ('DOT', 'USDT'), 'tkn_ids': (5, 2), 'order_book': ('DOT','USD')},\n",
    "    {'tkns': ('DOT', 'USDT'), 'tkn_ids': (5, 7), 'order_book': ('DOT','USD')},\n",
    "    {'tkns': ('DOT', 'USDT'), 'tkn_ids': (5, 18), 'order_book': ('DOT','USD')},\n",
    "    {'tkns': ('DOT', 'USDT'), 'tkn_ids': (5, 21), 'order_book': ('DOT','USD')},\n",
    "    {'tkns': ('DOT', 'USDT'), 'tkn_ids': (5, 22), 'order_book': ('DOT','USD')},\n",
    "    {'tkns': ('WETH', 'USDT'), 'tkn_ids': (4, 10), 'order_book': ('XETH','ZUSD')},\n",
    "    {'tkns': ('WETH', 'USDT'), 'tkn_ids': (4, 23), 'order_book': ('XETH','ZUSD')},\n",
    "    {'tkns': ('WETH', 'USDT'), 'tkn_ids': (4, 2), 'order_book': ('XETH','ZUSD')},\n",
    "    {'tkns': ('WETH', 'USDT'), 'tkn_ids': (4, 7), 'order_book': ('XETH','ZUSD')},\n",
    "    {'tkns': ('WETH', 'USDT'), 'tkn_ids': (4, 18), 'order_book': ('XETH','ZUSD')},\n",
    "    {'tkns': ('WETH', 'USDT'), 'tkn_ids': (4, 21), 'order_book': ('XETH','ZUSD')},\n",
    "    {'tkns': ('WETH', 'USDT'), 'tkn_ids': (4, 22), 'order_book': ('XETH','ZUSD')},\n",
    "    {'tkns': ('WETH', 'USDT'), 'tkn_ids': (20, 10), 'order_book': ('XETH','ZUSD')},\n",
    "    {'tkns': ('WETH', 'USDT'), 'tkn_ids': (20, 23), 'order_book': ('XETH','ZUSD')},\n",
    "    {'tkns': ('WETH', 'USDT'), 'tkn_ids': (20, 2), 'order_book': ('XETH','ZUSD')},\n",
    "    {'tkns': ('WETH', 'USDT'), 'tkn_ids': (20, 7), 'order_book': ('XETH','ZUSD')},\n",
    "    {'tkns': ('WETH', 'USDT'), 'tkn_ids': (20, 18), 'order_book': ('XETH','ZUSD')},\n",
    "    {'tkns': ('WETH', 'USDT'), 'tkn_ids': (20, 21), 'order_book': ('XETH','ZUSD')},\n",
    "    {'tkns': ('WETH', 'USDT'), 'tkn_ids': (20, 22), 'order_book': ('XETH','ZUSD')},\n",
    "    {'tkns': ('DOT', 'WETH'), 'tkn_ids': (5, 4), 'order_book': ('DOT','ETH')},\n",
    "    {'tkns': ('DOT', 'WETH'), 'tkn_ids': (5, 20), 'order_book': ('DOT','ETH')},\n",
    "    # {'tkns': ('WBTC', 'USDT'), 'tkn_ids': (3, 10), 'order_book': ('XXBT','ZUSD')},\n",
    "    # {'tkns': ('WBTC', 'USDT'), 'tkn_ids': (3, 23), 'order_book': ('XXBT','ZUSD')},\n",
    "    # {'tkns': ('WBTC', 'USDT'), 'tkn_ids': (3, 2), 'order_book': ('XXBT','ZUSD')},\n",
    "    # {'tkns': ('WBTC', 'USDT'), 'tkn_ids': (3, 7), 'order_book': ('XXBT','ZUSD')},\n",
    "    # {'tkns': ('WBTC', 'USDT'), 'tkn_ids': (3, 18), 'order_book': ('XXBT','ZUSD')},\n",
    "    # {'tkns': ('WBTC', 'USDT'), 'tkn_ids': (3, 21), 'order_book': ('XXBT','ZUSD')},\n",
    "    # {'tkns': ('WBTC', 'USDT'), 'tkn_ids': (3, 22), 'order_book': ('XXBT','ZUSD')},\n",
    "    {'tkns': ('WBTC', 'USDT'), 'tkn_ids': (19, 10), 'order_book': ('XXBT','ZUSD')},\n",
    "    {'tkns': ('WBTC', 'USDT'), 'tkn_ids': (19, 23), 'order_book': ('XXBT','ZUSD')},\n",
    "    {'tkns': ('WBTC', 'USDT'), 'tkn_ids': (19, 2), 'order_book': ('XXBT','ZUSD')},\n",
    "    {'tkns': ('WBTC', 'USDT'), 'tkn_ids': (19, 7), 'order_book': ('XXBT','ZUSD')},\n",
    "    {'tkns': ('WBTC', 'USDT'), 'tkn_ids': (19, 18), 'order_book': ('XXBT','ZUSD')},\n",
    "    {'tkns': ('WBTC', 'USDT'), 'tkn_ids': (19, 21), 'order_book': ('XXBT','ZUSD')},\n",
    "    {'tkns': ('WBTC', 'USDT'), 'tkn_ids': (19, 22), 'order_book': ('XXBT','ZUSD')},\n",
    "    {'tkns': ('IBTC', 'USDT'), 'tkn_ids': (11, 10), 'order_book': ('XXBT','ZUSD')},\n",
    "    {'tkns': ('IBTC', 'USDT'), 'tkn_ids': (11, 23), 'order_book': ('XXBT','ZUSD')},\n",
    "    {'tkns': ('IBTC', 'USDT'), 'tkn_ids': (11, 2), 'order_book': ('XXBT','ZUSD')},\n",
    "    {'tkns': ('IBTC', 'USDT'), 'tkn_ids': (11, 7), 'order_book': ('XXBT','ZUSD')},\n",
    "    {'tkns': ('IBTC', 'USDT'), 'tkn_ids': (11, 18), 'order_book': ('XXBT','ZUSD')},\n",
    "    {'tkns': ('IBTC', 'USDT'), 'tkn_ids': (11, 21), 'order_book': ('XXBT','ZUSD')},\n",
    "    {'tkns': ('IBTC', 'USDT'), 'tkn_ids': (11, 22), 'order_book': ('XXBT','ZUSD')},\n",
    "    # {'tkns': ('DOT', 'WBTC'), 'tkn_ids': (5, 3), 'order_book': ('DOT','XBT')},\n",
    "    {'tkns': ('DOT', 'WBTC'), 'tkn_ids': (5, 19), 'order_book': ('DOT','XBT')},\n",
    "    {'tkns': ('DOT', 'IBTC'), 'tkn_ids': (5, 11), 'order_book': ('DOT','XBT')},\n",
    "    # {'tkns': ('WETH', 'WBTC'), 'tkn_ids': (4, 3), 'order_book': ('XETH','XXBT')},\n",
    "    {'tkns': ('WETH', 'WBTC'), 'tkn_ids': (4, 19), 'order_book': ('XETH','XXBT')},\n",
    "    {'tkns': ('WETH', 'IBTC'), 'tkn_ids': (4, 11), 'order_book': ('XETH','XXBT')},\n",
    "    # {'tkns': ('WETH', 'WBTC'), 'tkn_ids': (20, 3), 'order_book': ('XETH','XXBT')},\n",
    "    {'tkns': ('WETH', 'WBTC'), 'tkn_ids': (20, 19), 'order_book': ('XETH','XXBT')},\n",
    "    {'tkns': ('WETH', 'IBTC'), 'tkn_ids': (20, 11), 'order_book': ('XETH','XXBT')},\n",
    "    {'tkns': ('ASTR', 'USDT'), 'tkn_ids': (9, 10), 'order_book': ('ASTR','USD')},\n",
    "    {'tkns': ('ASTR', 'USDT'), 'tkn_ids': (9, 23), 'order_book': ('ASTR','USD')},\n",
    "    {'tkns': ('ASTR', 'USDT'), 'tkn_ids': (9, 2), 'order_book': ('ASTR','USD')},\n",
    "    {'tkns': ('ASTR', 'USDT'), 'tkn_ids': (9, 7), 'order_book': ('ASTR','USD')},\n",
    "    {'tkns': ('ASTR', 'USDT'), 'tkn_ids': (9, 18), 'order_book': ('ASTR','USD')},\n",
    "    {'tkns': ('ASTR', 'USDT'), 'tkn_ids': (9, 21), 'order_book': ('ASTR','USD')},\n",
    "    {'tkns': ('ASTR', 'USDT'), 'tkn_ids': (9, 22), 'order_book': ('ASTR','USD')},\n",
    "    {'tkns': ('CFG', 'USDT'), 'tkn_ids': (13, 10), 'order_book': ('CFG','USD')},\n",
    "    {'tkns': ('CFG', 'USDT'), 'tkn_ids': (13, 23), 'order_book': ('CFG','USD')},\n",
    "    {'tkns': ('CFG', 'USDT'), 'tkn_ids': (13, 2), 'order_book': ('CFG','USD')},\n",
    "    {'tkns': ('CFG', 'USDT'), 'tkn_ids': (13, 7), 'order_book': ('CFG','USD')},\n",
    "    {'tkns': ('CFG', 'USDT'), 'tkn_ids': (13, 18), 'order_book': ('CFG','USD')},\n",
    "    {'tkns': ('CFG', 'USDT'), 'tkn_ids': (13, 21), 'order_book': ('CFG','USD')},\n",
    "    {'tkns': ('CFG', 'USDT'), 'tkn_ids': (13, 22), 'order_book': ('CFG','USD')},\n",
    "    {'tkns': ('BNC', 'USDT'), 'tkn_ids': (14, 10), 'order_book': ('BNC','USD')},\n",
    "    {'tkns': ('BNC', 'USDT'), 'tkn_ids': (14, 23), 'order_book': ('BNC','USD')},\n",
    "    {'tkns': ('BNC', 'USDT'), 'tkn_ids': (14, 2), 'order_book': ('BNC','USD')},\n",
    "    {'tkns': ('BNC', 'USDT'), 'tkn_ids': (14, 7), 'order_book': ('BNC','USD')},\n",
    "    {'tkns': ('BNC', 'USDT'), 'tkn_ids': (14, 18), 'order_book': ('BNC','USD')},\n",
    "    {'tkns': ('BNC', 'USDT'), 'tkn_ids': (14, 21), 'order_book': ('BNC','USD')},\n",
    "    {'tkns': ('BNC', 'USDT'), 'tkn_ids': (14, 22), 'order_book': ('BNC','USD')},\n",
    "    {'tkns': ('GLMR', 'USDT'), 'tkn_ids': (16, 10), 'order_book': ('GLMR','USD')},\n",
    "    {'tkns': ('GLMR', 'USDT'), 'tkn_ids': (16, 23), 'order_book': ('GLMR','USD')},\n",
    "    {'tkns': ('GLMR', 'USDT'), 'tkn_ids': (16, 2), 'order_book': ('GLMR','USD')},\n",
    "    {'tkns': ('GLMR', 'USDT'), 'tkn_ids': (16, 7), 'order_book': ('GLMR','USD')},\n",
    "    {'tkns': ('GLMR', 'USDT'), 'tkn_ids': (16, 18), 'order_book': ('GLMR','USD')},\n",
    "    {'tkns': ('GLMR', 'USDT'), 'tkn_ids': (16, 21), 'order_book': ('GLMR','USD')},\n",
    "    {'tkns': ('GLMR', 'USDT'), 'tkn_ids': (16, 22), 'order_book': ('GLMR','USD')},\n",
    "]\n",
    "\n",
    "order_books = {}\n",
    "for arb_cfg in arb_list:\n",
    "    tkn_pair = arb_cfg['order_book']\n",
    "    if tkn_pair not in order_books:\n",
    "        resp = requests.get('https://api.kraken.com/0/public/Depth?pair=' + tkn_pair[0] + tkn_pair[1])\n",
    "        y = resp.json()\n",
    "        order_books[tkn_pair] = y['result'][tkn_pair[0] + tkn_pair[1]]\n",
    "    \n"
   ],
   "metadata": {
    "collapsed": false,
    "ExecuteTime": {
     "end_time": "2023-10-27T20:03:59.257047651Z",
     "start_time": "2023-10-27T20:03:56.253943341Z"
    }
   },
   "id": "30c3ae5c6fb4044d"
  },
  {
   "cell_type": "code",
   "execution_count": 3,
   "outputs": [],
   "source": [
    "def get_unique_name(ls: list[str], name: str) -> str:\n",
    "    if name not in ls:\n",
    "        return name\n",
    "    else:\n",
    "        c = 1\n",
    "        while name + str(c).zfill(3) in ls:\n",
    "            c += 1\n",
    "        return name + str(c).zfill(3)"
   ],
   "metadata": {
    "collapsed": false,
    "ExecuteTime": {
     "end_time": "2023-10-27T20:03:59.308977317Z",
     "start_time": "2023-10-27T20:03:59.267220751Z"
    }
   },
   "id": "e6904b3689225ff6"
  },
  {
   "cell_type": "code",
   "execution_count": 4,
   "outputs": [
    {
     "name": "stdout",
     "output_type": "stream",
     "text": [
      "{'ASTR': {'LRNA': 9082.738326360857, 'liquidity': 4613307.689932842},\n",
      " 'BNC': {'LRNA': 6960.530069554551, 'liquidity': 723868.8934341213},\n",
      " 'CFG': {'LRNA': 8851.608850641, 'liquidity': 602207.3975931228},\n",
      " 'DAI': {'LRNA': 13110.676857870463, 'liquidity': 332743.9021445043},\n",
      " 'DAI001': {'LRNA': 31824.663044315806, 'liquidity': 799910.0687595578},\n",
      " 'DOT': {'LRNA': 70081.12991599753, 'liquidity': 429429.3214752538},\n",
      " 'GLMR': {'LRNA': 5249.607197601644, 'liquidity': 677608.617803954},\n",
      " 'HDX': {'LRNA': 19546.514674768685, 'liquidity': 117711721.7149292},\n",
      " 'USDT': {'LRNA': 85426.64934008372, 'liquidity': 2149511.795668},\n",
      " 'WBTC': {'LRNA': 50.601798806111, 'liquidity': 0.04374934},\n",
      " 'WBTC001': {'LRNA': 41825.898662570326, 'liquidity': 31.07199565},\n",
      " 'WETH': {'LRNA': 21611.81073019557, 'liquidity': 308.36181823539135},\n",
      " 'WETH001': {'LRNA': 71425.47037215637, 'liquidity': 1019.4586640314313},\n",
      " 'ZTG': {'LRNA': 4538.957735895216, 'liquidity': 3133789.308258377},\n",
      " 'iBTC': {'LRNA': 34932.34492077829, 'liquidity': 25.89734278},\n",
      " 'vDOT': {'LRNA': 20822.286362344537, 'liquidity': 105589.0854945154}}\n"
     ]
    }
   ],
   "source": [
    "RPC=\"wss://hydradx-rpc.dwellir.com\"\n",
    "N = 24\n",
    "metadata = []\n",
    "with HydraDX(RPC) as chain:\n",
    "    for i in range(N):\n",
    "        try:\n",
    "            md = chain.api.registry.asset_metadata(i)\n",
    "            metadata.append({'symbol': md.symbol, 'id': md.asset_id, 'decimals': md.decimals},)\n",
    "        except:\n",
    "            continue\n",
    "\n",
    "    asset_list = []\n",
    "    fees = {}\n",
    "    tokens = {}\n",
    "    asset_map = {}\n",
    "    \n",
    "    for i in range(len(metadata)):\n",
    "        try:\n",
    "            state = chain.api.omnipool.asset_state(metadata[i]['id'])\n",
    "        except:\n",
    "            continue\n",
    "            \n",
    "        fee = chain.api.fees.asset_fees(metadata[i]['id'])\n",
    "    \n",
    "        tkn = get_unique_name(asset_list, metadata[i]['symbol'])\n",
    "        asset_list.append(tkn)\n",
    "        asset_map[i] = tkn\n",
    "        tokens[tkn] = {\n",
    "            'liquidity': state.reserve / 10**metadata[i]['decimals'],\n",
    "            'LRNA': state.hub_reserve / 10**12\n",
    "        }\n",
    "        fees[tkn] = {\"asset_fee\": fee.asset_fee / 100, \"protocol_fee\": fee.protocol_fee / 100}\n",
    "            \n",
    "\n",
    "pprint(tokens)\n"
   ],
   "metadata": {
    "collapsed": false,
    "ExecuteTime": {
     "end_time": "2023-10-27T20:04:52.087914759Z",
     "start_time": "2023-10-27T20:03:59.308822786Z"
    }
   },
   "id": "a026335ac28fa9d4"
  },
  {
   "cell_type": "code",
   "execution_count": 5,
   "outputs": [],
   "source": [
    "\n",
    "ob_objs = {}\n",
    "for tkn_pair in order_books:\n",
    "    ob = parse_kraken_orderbook(order_books[tkn_pair])\n",
    "    ob_obj = OrderBook(\n",
    "        bids=[[bid['price'], bid['amount']] for bid in ob['bids']],\n",
    "        asks=[[ask['price'], ask['amount']] for ask in ob['asks']]\n",
    "    )\n",
    "    ob_objs[tkn_pair] = ob_obj\n",
    "    \n",
    "order_book_asset_list = []\n",
    "for tkn_pair in order_books:\n",
    "    for tkn in tkn_pair:\n",
    "        if tkn not in order_book_asset_list:\n",
    "            order_book_asset_list.append(tkn)\n",
    "\n",
    "cex_fee = 0.0016\n",
    "buffer = 0.0002\n",
    "\n",
    "lrna_fee={asset: fees[asset]['protocol_fee'] for asset in asset_list}\n",
    "asset_fee={asset: fees[asset]['asset_fee'] for asset in asset_list}\n",
    "\n",
    "# lrna_fee = 0.0005\n",
    "# asset_fee = 0.0025\n",
    "\n",
    "\n",
    "cex = CentralizedMarket(\n",
    "    order_book=ob_objs,\n",
    "    asset_list=order_book_asset_list,\n",
    "    trade_fee=cex_fee\n",
    ")\n",
    "\n",
    "op_state = OmnipoolState(\n",
    "    tokens=tokens,\n",
    "    lrna_fee = lrna_fee,\n",
    "    asset_fee = asset_fee,\n",
    "    preferred_stablecoin='USDT',\n",
    ")\n",
    "\n",
    "init_state = op_state.copy()\n"
   ],
   "metadata": {
    "collapsed": false,
    "ExecuteTime": {
     "end_time": "2023-10-27T20:04:52.104648896Z",
     "start_time": "2023-10-27T20:04:52.099121573Z"
    }
   },
   "id": "68064af1cadd64fc"
  },
  {
   "cell_type": "code",
   "execution_count": 6,
   "outputs": [
    {
     "name": "stdout",
     "output_type": "stream",
     "text": [
      "{('ASTR', 'DAI'): ('ASTR', 'USD'),\n",
      " ('ASTR', 'DAI001'): ('ASTR', 'USD'),\n",
      " ('ASTR', 'USDT'): ('ASTR', 'USD'),\n",
      " ('BNC', 'DAI'): ('BNC', 'USD'),\n",
      " ('BNC', 'DAI001'): ('BNC', 'USD'),\n",
      " ('BNC', 'USDT'): ('BNC', 'USD'),\n",
      " ('CFG', 'DAI'): ('CFG', 'USD'),\n",
      " ('CFG', 'DAI001'): ('CFG', 'USD'),\n",
      " ('CFG', 'USDT'): ('CFG', 'USD'),\n",
      " ('DOT', 'DAI'): ('DOT', 'USD'),\n",
      " ('DOT', 'DAI001'): ('DOT', 'USD'),\n",
      " ('DOT', 'USDT'): ('DOT', 'USD'),\n",
      " ('DOT', 'WBTC001'): ('DOT', 'XBT'),\n",
      " ('DOT', 'WETH'): ('DOT', 'ETH'),\n",
      " ('DOT', 'WETH001'): ('DOT', 'ETH'),\n",
      " ('DOT', 'iBTC'): ('DOT', 'XBT'),\n",
      " ('GLMR', 'DAI'): ('GLMR', 'USD'),\n",
      " ('GLMR', 'DAI001'): ('GLMR', 'USD'),\n",
      " ('GLMR', 'USDT'): ('GLMR', 'USD'),\n",
      " ('HDX', 'DAI'): ('HDX', 'USD'),\n",
      " ('HDX', 'DAI001'): ('HDX', 'USD'),\n",
      " ('HDX', 'USDT'): ('HDX', 'USD'),\n",
      " ('WBTC001', 'DAI'): ('XXBT', 'ZUSD'),\n",
      " ('WBTC001', 'DAI001'): ('XXBT', 'ZUSD'),\n",
      " ('WBTC001', 'USDT'): ('XXBT', 'ZUSD'),\n",
      " ('WETH', 'DAI'): ('XETH', 'ZUSD'),\n",
      " ('WETH', 'DAI001'): ('XETH', 'ZUSD'),\n",
      " ('WETH', 'USDT'): ('XETH', 'ZUSD'),\n",
      " ('WETH', 'WBTC001'): ('XETH', 'XXBT'),\n",
      " ('WETH', 'iBTC'): ('XETH', 'XXBT'),\n",
      " ('WETH001', 'DAI'): ('XETH', 'ZUSD'),\n",
      " ('WETH001', 'DAI001'): ('XETH', 'ZUSD'),\n",
      " ('WETH001', 'USDT'): ('XETH', 'ZUSD'),\n",
      " ('WETH001', 'WBTC001'): ('XETH', 'XXBT'),\n",
      " ('WETH001', 'iBTC'): ('XETH', 'XXBT'),\n",
      " ('iBTC', 'DAI'): ('XXBT', 'ZUSD'),\n",
      " ('iBTC', 'DAI001'): ('XXBT', 'ZUSD'),\n",
      " ('iBTC', 'USDT'): ('XXBT', 'ZUSD')}\n"
     ]
    }
   ],
   "source": [
    "order_book_map = {}\n",
    "for i in range(len(arb_list)):\n",
    "    base_id, quote_id = arb_list[i]['tkn_ids']\n",
    "    orderbook_tkn_pair = arb_list[i]['order_book']\n",
    "    if base_id in asset_map and quote_id in asset_map:\n",
    "        tkn_pair = (asset_map[base_id], asset_map[quote_id])\n",
    "        order_book_map[tkn_pair] = orderbook_tkn_pair \n",
    "    \n",
    "pprint(order_book_map)"
   ],
   "metadata": {
    "collapsed": false,
    "ExecuteTime": {
     "end_time": "2023-10-27T20:04:52.145094217Z",
     "start_time": "2023-10-27T20:04:52.102478097Z"
    }
   },
   "id": "5c34a29fa3c15b8"
  },
  {
   "cell_type": "code",
   "execution_count": 7,
   "outputs": [
    {
     "name": "stdout",
     "output_type": "stream",
     "text": [
      "('DOT', 'DAI')\n",
      "[{'dex': {'trade': 'sell', 'buy_asset': 'DAI', 'sell_asset': 'DOT', 'price': 4.121, 'amount': 8.307079109191896, 'min_buy': 34.29555296037197}, 'cex': {'trade': 'buy', 'buy_asset': 'DOT', 'sell_asset': 'USD', 'price': 4.121412100000001, 'amount': 8.307079109191896}}]\n",
      "('WETH', 'USDT')\n",
      "[{'dex': {'trade': 'buy', 'buy_asset': 'WETH', 'sell_asset': 'USDT', 'price': 1775.49, 'amount': 0.081, 'max_sell': 143.3352796226382}, 'cex': {'trade': 'sell', 'buy_asset': 'ZUSD', 'sell_asset': 'XETH', 'price': 1775.312451, 'amount': 0.081}}, {'dex': {'trade': 'buy', 'buy_asset': 'WETH', 'sell_asset': 'USDT', 'price': 1775.11, 'amount': 0.13432408332824708, 'max_sell': 381.2398680690765}, 'cex': {'trade': 'sell', 'buy_asset': 'ZUSD', 'sell_asset': 'XETH', 'price': 1774.932489, 'amount': 0.13432408332824708}}]\n",
      "('WETH', 'DAI001')\n",
      "[{'dex': {'trade': 'buy', 'buy_asset': 'WETH', 'sell_asset': 'DAI001', 'price': 1775.49, 'amount': 0.081, 'max_sell': 143.39712514868975}, 'cex': {'trade': 'sell', 'buy_asset': 'ZUSD', 'sell_asset': 'XETH', 'price': 1775.312451, 'amount': 0.081}}, {'dex': {'trade': 'buy', 'buy_asset': 'WETH', 'sell_asset': 'DAI001', 'price': 1775.11, 'amount': 0.05031635284423828, 'max_sell': 232.5378357613325}, 'cex': {'trade': 'sell', 'buy_asset': 'ZUSD', 'sell_asset': 'XETH', 'price': 1774.932489, 'amount': 0.05031635284423828}}]\n",
      "('WETH001', 'USDT')\n",
      "[{'dex': {'trade': 'buy', 'buy_asset': 'WETH001', 'sell_asset': 'USDT', 'price': 1775.49, 'amount': 0.081, 'max_sell': 524.5511089998245}, 'cex': {'trade': 'sell', 'buy_asset': 'ZUSD', 'sell_asset': 'XETH', 'price': 1775.312451, 'amount': 0.081}}, {'dex': {'trade': 'buy', 'buy_asset': 'WETH001', 'sell_asset': 'USDT', 'price': 1775.11, 'amount': 0.4001045608520508, 'max_sell': 1233.0614472014547}, 'cex': {'trade': 'sell', 'buy_asset': 'ZUSD', 'sell_asset': 'XETH', 'price': 1774.932489, 'amount': 0.4001045608520508}}]\n",
      "('WETH001', 'DAI001')\n",
      "[{'dex': {'trade': 'buy', 'buy_asset': 'WETH001', 'sell_asset': 'DAI001', 'price': 1775.49, 'amount': 0.081, 'max_sell': 375.878342518723}, 'cex': {'trade': 'sell', 'buy_asset': 'ZUSD', 'sell_asset': 'XETH', 'price': 1775.312451, 'amount': 0.081}}, {'dex': {'trade': 'buy', 'buy_asset': 'WETH001', 'sell_asset': 'DAI001', 'price': 1775.11, 'amount': 0.17656771659851078, 'max_sell': 688.5961675136208}, 'cex': {'trade': 'sell', 'buy_asset': 'ZUSD', 'sell_asset': 'XETH', 'price': 1774.932489, 'amount': 0.17656771659851078}}]\n",
      "('WBTC001', 'USDT')\n",
      "[{'dex': {'trade': 'sell', 'buy_asset': 'USDT', 'sell_asset': 'WBTC001', 'price': 33708.5, 'amount': 0.011910495758056642, 'min_buy': -830.4177444504619}, 'cex': {'trade': 'buy', 'buy_asset': 'XXBT', 'sell_asset': 'ZUSD', 'price': 33711.87085, 'amount': 0.011910495758056642}}]\n",
      "('WBTC001', 'DAI')\n",
      "[{'dex': {'trade': 'sell', 'buy_asset': 'DAI', 'sell_asset': 'WBTC001', 'price': 33708.5, 'amount': 0.028387899398803713, 'min_buy': 996.498280054915}, 'cex': {'trade': 'buy', 'buy_asset': 'XXBT', 'sell_asset': 'ZUSD', 'price': 33711.87085, 'amount': 0.028387899398803713}}]\n",
      "('iBTC', 'USDT')\n",
      "[{'dex': {'trade': 'sell', 'buy_asset': 'USDT', 'sell_asset': 'iBTC', 'price': 33708.5, 'amount': 0.02601310729980469, 'min_buy': 49.18111810230017}, 'cex': {'trade': 'buy', 'buy_asset': 'XXBT', 'sell_asset': 'ZUSD', 'price': 33711.87085, 'amount': 0.02601310729980469}}]\n",
      "('iBTC', 'DAI')\n",
      "[{'dex': {'trade': 'sell', 'buy_asset': 'DAI', 'sell_asset': 'iBTC', 'price': 33708.5, 'amount': 0.00942609786987305, 'min_buy': 1315.2001710884929}, 'cex': {'trade': 'buy', 'buy_asset': 'XXBT', 'sell_asset': 'ZUSD', 'price': 33711.87085, 'amount': 0.00942609786987305}}]\n",
      "('DOT', 'WBTC001')\n",
      "[{'dex': {'trade': 'buy', 'buy_asset': 'DOT', 'sell_asset': 'WBTC001', 'price': 0.00012224, 'amount': 70.01953125, 'max_sell': 0.04884326083660126}, 'cex': {'trade': 'sell', 'buy_asset': 'XBT', 'sell_asset': 'DOT', 'price': 0.000122227776, 'amount': 70.01953125}}]\n",
      "('DOT', 'iBTC')\n",
      "[{'dex': {'trade': 'buy', 'buy_asset': 'DOT', 'sell_asset': 'iBTC', 'price': 0.00012224, 'amount': 175.68359375, 'max_sell': 0.05685540306568146}, 'cex': {'trade': 'sell', 'buy_asset': 'XBT', 'sell_asset': 'DOT', 'price': 0.000122227776, 'amount': 175.68359375}}]\n",
      "('WETH', 'WBTC001')\n",
      "[{'dex': {'trade': 'buy', 'buy_asset': 'WETH', 'sell_asset': 'WBTC001', 'price': 0.05267, 'amount': 0.1351384506225586, 'max_sell': 0.05594419535398483}, 'cex': {'trade': 'sell', 'buy_asset': 'XXBT', 'sell_asset': 'XETH', 'price': 0.052664733000000005, 'amount': 0.1351384506225586}}]\n",
      "('WETH', 'iBTC')\n",
      "[{'dex': {'trade': 'buy', 'buy_asset': 'WETH', 'sell_asset': 'iBTC', 'price': 0.05267, 'amount': 0.12088410186767579, 'max_sell': 0.06320750916004181}, 'cex': {'trade': 'sell', 'buy_asset': 'XXBT', 'sell_asset': 'XETH', 'price': 0.052664733000000005, 'amount': 0.12088410186767579}}]\n",
      "('WETH001', 'WBTC001')\n",
      "[{'dex': {'trade': 'buy', 'buy_asset': 'WETH001', 'sell_asset': 'WBTC001', 'price': 0.05267, 'amount': 0.37799031829833996, 'max_sell': 0.07579905730485915}, 'cex': {'trade': 'sell', 'buy_asset': 'XXBT', 'sell_asset': 'XETH', 'price': 0.052664733000000005, 'amount': 0.37799031829833996}}]\n",
      "('WETH001', 'iBTC')\n",
      "[{'dex': {'trade': 'buy', 'buy_asset': 'WETH001', 'sell_asset': 'iBTC', 'price': 0.05267, 'amount': 0.34293795776367186, 'max_sell': 0.08122076107263565}, 'cex': {'trade': 'sell', 'buy_asset': 'XXBT', 'sell_asset': 'XETH', 'price': 0.052664733000000005, 'amount': 0.34293795776367186}}]\n",
      "('CFG', 'USDT')\n",
      "[{'dex': {'trade': 'buy', 'buy_asset': 'CFG', 'sell_asset': 'USDT', 'price': 0.3727, 'amount': 466.102, 'max_sell': 123.87148732482194}, 'cex': {'trade': 'sell', 'buy_asset': 'USD', 'sell_asset': 'CFG', 'price': 0.37266273, 'amount': 466.102}}, {'dex': {'trade': 'buy', 'buy_asset': 'CFG', 'sell_asset': 'USDT', 'price': 0.3724, 'amount': 111.28931530952453, 'max_sell': 165.2367179090619}, 'cex': {'trade': 'sell', 'buy_asset': 'USD', 'sell_asset': 'CFG', 'price': 0.37236276, 'amount': 111.28931530952453}}]\n",
      "('CFG', 'DAI')\n",
      "[{'dex': {'trade': 'buy', 'buy_asset': 'CFG', 'sell_asset': 'DAI', 'price': 0.3727, 'amount': 50.379818416595455, 'max_sell': -1296.721232038033}, 'cex': {'trade': 'sell', 'buy_asset': 'USD', 'sell_asset': 'CFG', 'price': 0.37266273, 'amount': 50.379818416595455}}]\n",
      "('CFG', 'DAI001')\n",
      "[{'dex': {'trade': 'buy', 'buy_asset': 'CFG', 'sell_asset': 'DAI001', 'price': 0.3727, 'amount': 35.03623928070069, 'max_sell': 701.6310014595986}, 'cex': {'trade': 'sell', 'buy_asset': 'USD', 'sell_asset': 'CFG', 'price': 0.37266273, 'amount': 35.03623928070069}}]\n"
     ]
    }
   ],
   "source": [
    "all_swaps = get_arb_swaps(op_state, cex, order_book_map, buffer=buffer)\n",
    "for tkn_pair in all_swaps:\n",
    "    if all_swaps[tkn_pair] != []:\n",
    "        print(tkn_pair)\n",
    "        print(all_swaps[tkn_pair])"
   ],
   "metadata": {
    "collapsed": false,
    "ExecuteTime": {
     "end_time": "2023-10-27T20:04:52.380991915Z",
     "start_time": "2023-10-27T20:04:52.144868835Z"
    }
   },
   "id": "ef086a726e0e13be"
  },
  {
   "cell_type": "code",
   "execution_count": 8,
   "outputs": [
    {
     "name": "stdout",
     "output_type": "stream",
     "text": [
      "{'HDX': 0, 'USD': 8.508431315422058, 'BTC': 0.08130598068237305, 'ETH': 0.0, 'DOT': 0.0, 'ASTR': 0, 'iBTC': -0.08121263980865479, 'ZTG': 0, 'CFG': 0.0, 'BNC': 0, 'vDOT': 0, 'GLMR': 0}\n"
     ]
    }
   ],
   "source": [
    "state = init_state.copy()\n",
    "holdings = {asset: 1000000000 for asset in asset_list + order_book_asset_list}\n",
    "init_agent = Agent(holdings=holdings, unique_id='bot')\n",
    "agent = init_agent.copy()\n",
    "execute_arb(state, cex, agent, all_swaps)\n",
    "\n",
    "asset_map = {'WETH': 'ETH',\n",
    "             'XETH': 'ETH',\n",
    "             'XXBT': 'BTC',\n",
    "             'WBTC': 'BTC',\n",
    "             'ZUSD': 'USD',\n",
    "             'USDT': 'USD',\n",
    "             'USDC': 'USD',\n",
    "             'DAI': 'USD',\n",
    "             'USDT001': 'USD',\n",
    "             'DAI001': 'USD',\n",
    "             'WETH001': 'ETH',\n",
    "             'WBTC001': 'BTC',\n",
    "             'WETH001': 'ETH',\n",
    "             'IBTC': 'BTC',\n",
    "             'XBT': 'BTC',}\n",
    "\n",
    "profit = calculate_profit(init_agent, agent, asset_map)\n",
    "\n",
    "print(profit)\n",
    "            "
   ],
   "metadata": {
    "collapsed": false,
    "ExecuteTime": {
     "end_time": "2023-10-27T20:04:52.381249227Z",
     "start_time": "2023-10-27T20:04:52.380886848Z"
    }
   },
   "id": "8d4817129c26f839"
  },
  {
   "cell_type": "code",
   "execution_count": 8,
   "outputs": [],
   "source": [],
   "metadata": {
    "collapsed": false,
    "ExecuteTime": {
     "end_time": "2023-10-27T20:04:52.381696631Z",
     "start_time": "2023-10-27T20:04:52.381069744Z"
    }
   },
   "id": "fc18dce1b93bab0c"
  }
 ],
 "metadata": {
  "kernelspec": {
   "display_name": "Python 3",
   "language": "python",
   "name": "python3"
  },
  "language_info": {
   "codemirror_mode": {
    "name": "ipython",
    "version": 2
   },
   "file_extension": ".py",
   "mimetype": "text/x-python",
   "name": "python",
   "nbconvert_exporter": "python",
   "pygments_lexer": "ipython2",
   "version": "2.7.6"
  }
 },
 "nbformat": 4,
 "nbformat_minor": 5
}
