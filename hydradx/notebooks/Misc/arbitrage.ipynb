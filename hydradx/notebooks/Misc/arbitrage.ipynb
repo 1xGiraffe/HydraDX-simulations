{
 "cells": [
  {
   "cell_type": "code",
   "execution_count": 1,
   "id": "initial_id",
   "metadata": {
    "collapsed": true,
    "ExecuteTime": {
     "end_time": "2023-10-26T18:05:51.753368224Z",
     "start_time": "2023-10-26T18:05:51.606925768Z"
    }
   },
   "outputs": [],
   "source": [
    "from hydradx.model.amm.omnipool_amm import OmnipoolState\n",
    "from hydradx.model.amm.agents import Agent\n",
    "from hydradx.model.processing import parse_kraken_orderbook\n",
    "from hydradx.model.amm.arbitrage_agent import get_arb_swaps, calculate_profit, execute_arb\n",
    "from hydradx.model.amm.centralized_market import CentralizedMarket, OrderBook\n",
    "from hydradxapi import HydraDX\n",
    "from pprint import pprint\n",
    "import requests\n",
    "\n",
    "\n",
    "\n",
    "import json, os\n"
   ]
  },
  {
   "cell_type": "code",
   "execution_count": 2,
   "outputs": [],
   "source": [
    "\n",
    "# TODO move to config file\n",
    "arb_list = [\n",
    "    {'tkns': ('HDX', 'USDT'), 'tkn_ids': (0, 10), 'order_book': ('HDX','USD')},\n",
    "    {'tkns': ('HDX', 'USDT'), 'tkn_ids': (0, 23), 'order_book': ('HDX','USD')},\n",
    "    {'tkns': ('HDX', 'USDT'), 'tkn_ids': (0, 2), 'order_book': ('HDX','USD')},\n",
    "    {'tkns': ('HDX', 'USDT'), 'tkn_ids': (0, 7), 'order_book': ('HDX','USD')},\n",
    "    {'tkns': ('HDX', 'USDT'), 'tkn_ids': (0, 18), 'order_book': ('HDX','USD')},\n",
    "    {'tkns': ('HDX', 'USDT'), 'tkn_ids': (0, 21), 'order_book': ('HDX','USD')},\n",
    "    {'tkns': ('HDX', 'USDT'), 'tkn_ids': (0, 22), 'order_book': ('HDX','USD')},\n",
    "    {'tkns': ('DOT', 'USDT'), 'tkn_ids': (5, 10), 'order_book': ('DOT','USD')},\n",
    "    {'tkns': ('DOT', 'USDT'), 'tkn_ids': (5, 23), 'order_book': ('DOT','USD')},\n",
    "    {'tkns': ('DOT', 'USDT'), 'tkn_ids': (5, 2), 'order_book': ('DOT','USD')},\n",
    "    {'tkns': ('DOT', 'USDT'), 'tkn_ids': (5, 7), 'order_book': ('DOT','USD')},\n",
    "    {'tkns': ('DOT', 'USDT'), 'tkn_ids': (5, 18), 'order_book': ('DOT','USD')},\n",
    "    {'tkns': ('DOT', 'USDT'), 'tkn_ids': (5, 21), 'order_book': ('DOT','USD')},\n",
    "    {'tkns': ('DOT', 'USDT'), 'tkn_ids': (5, 22), 'order_book': ('DOT','USD')},\n",
    "    {'tkns': ('WETH', 'USDT'), 'tkn_ids': (4, 10), 'order_book': ('XETH','ZUSD')},\n",
    "    {'tkns': ('WETH', 'USDT'), 'tkn_ids': (4, 23), 'order_book': ('XETH','ZUSD')},\n",
    "    {'tkns': ('WETH', 'USDT'), 'tkn_ids': (4, 2), 'order_book': ('XETH','ZUSD')},\n",
    "    {'tkns': ('WETH', 'USDT'), 'tkn_ids': (4, 7), 'order_book': ('XETH','ZUSD')},\n",
    "    {'tkns': ('WETH', 'USDT'), 'tkn_ids': (4, 18), 'order_book': ('XETH','ZUSD')},\n",
    "    {'tkns': ('WETH', 'USDT'), 'tkn_ids': (4, 21), 'order_book': ('XETH','ZUSD')},\n",
    "    {'tkns': ('WETH', 'USDT'), 'tkn_ids': (4, 22), 'order_book': ('XETH','ZUSD')},\n",
    "    {'tkns': ('WETH', 'USDT'), 'tkn_ids': (20, 10), 'order_book': ('XETH','ZUSD')},\n",
    "    {'tkns': ('WETH', 'USDT'), 'tkn_ids': (20, 23), 'order_book': ('XETH','ZUSD')},\n",
    "    {'tkns': ('WETH', 'USDT'), 'tkn_ids': (20, 2), 'order_book': ('XETH','ZUSD')},\n",
    "    {'tkns': ('WETH', 'USDT'), 'tkn_ids': (20, 7), 'order_book': ('XETH','ZUSD')},\n",
    "    {'tkns': ('WETH', 'USDT'), 'tkn_ids': (20, 18), 'order_book': ('XETH','ZUSD')},\n",
    "    {'tkns': ('WETH', 'USDT'), 'tkn_ids': (20, 21), 'order_book': ('XETH','ZUSD')},\n",
    "    {'tkns': ('WETH', 'USDT'), 'tkn_ids': (20, 22), 'order_book': ('XETH','ZUSD')},\n",
    "    {'tkns': ('DOT', 'WETH'), 'tkn_ids': (5, 4), 'order_book': ('DOT','ETH')},\n",
    "    {'tkns': ('DOT', 'WETH'), 'tkn_ids': (5, 20), 'order_book': ('DOT','ETH')},\n",
    "    {'tkns': ('WBTC', 'USDT'), 'tkn_ids': (3, 10), 'order_book': ('XXBT','ZUSD')},\n",
    "    {'tkns': ('WBTC', 'USDT'), 'tkn_ids': (3, 23), 'order_book': ('XXBT','ZUSD')},\n",
    "    {'tkns': ('WBTC', 'USDT'), 'tkn_ids': (3, 2), 'order_book': ('XXBT','ZUSD')},\n",
    "    {'tkns': ('WBTC', 'USDT'), 'tkn_ids': (3, 7), 'order_book': ('XXBT','ZUSD')},\n",
    "    {'tkns': ('WBTC', 'USDT'), 'tkn_ids': (3, 18), 'order_book': ('XXBT','ZUSD')},\n",
    "    {'tkns': ('WBTC', 'USDT'), 'tkn_ids': (3, 21), 'order_book': ('XXBT','ZUSD')},\n",
    "    {'tkns': ('WBTC', 'USDT'), 'tkn_ids': (3, 22), 'order_book': ('XXBT','ZUSD')},\n",
    "    {'tkns': ('WBTC', 'USDT'), 'tkn_ids': (19, 10), 'order_book': ('XXBT','ZUSD')},\n",
    "    {'tkns': ('WBTC', 'USDT'), 'tkn_ids': (19, 23), 'order_book': ('XXBT','ZUSD')},\n",
    "    {'tkns': ('WBTC', 'USDT'), 'tkn_ids': (19, 2), 'order_book': ('XXBT','ZUSD')},\n",
    "    {'tkns': ('WBTC', 'USDT'), 'tkn_ids': (19, 7), 'order_book': ('XXBT','ZUSD')},\n",
    "    {'tkns': ('WBTC', 'USDT'), 'tkn_ids': (19, 18), 'order_book': ('XXBT','ZUSD')},\n",
    "    {'tkns': ('WBTC', 'USDT'), 'tkn_ids': (19, 21), 'order_book': ('XXBT','ZUSD')},\n",
    "    {'tkns': ('WBTC', 'USDT'), 'tkn_ids': (19, 22), 'order_book': ('XXBT','ZUSD')},\n",
    "    {'tkns': ('IBTC', 'USDT'), 'tkn_ids': (11, 10), 'order_book': ('XXBT','ZUSD')},\n",
    "    {'tkns': ('IBTC', 'USDT'), 'tkn_ids': (11, 23), 'order_book': ('XXBT','ZUSD')},\n",
    "    {'tkns': ('IBTC', 'USDT'), 'tkn_ids': (11, 2), 'order_book': ('XXBT','ZUSD')},\n",
    "    {'tkns': ('IBTC', 'USDT'), 'tkn_ids': (11, 7), 'order_book': ('XXBT','ZUSD')},\n",
    "    {'tkns': ('IBTC', 'USDT'), 'tkn_ids': (11, 18), 'order_book': ('XXBT','ZUSD')},\n",
    "    {'tkns': ('IBTC', 'USDT'), 'tkn_ids': (11, 21), 'order_book': ('XXBT','ZUSD')},\n",
    "    {'tkns': ('IBTC', 'USDT'), 'tkn_ids': (11, 22), 'order_book': ('XXBT','ZUSD')},\n",
    "    {'tkns': ('DOT', 'WBTC'), 'tkn_ids': (5, 3), 'order_book': ('DOT','XBT')},\n",
    "    {'tkns': ('DOT', 'WBTC'), 'tkn_ids': (5, 19), 'order_book': ('DOT','XBT')},\n",
    "    {'tkns': ('DOT', 'IBTC'), 'tkn_ids': (5, 11), 'order_book': ('DOT','XBT')},\n",
    "    {'tkns': ('WETH', 'WBTC'), 'tkn_ids': (4, 3), 'order_book': ('XETH','XXBT')},\n",
    "    {'tkns': ('WETH', 'WBTC'), 'tkn_ids': (4, 19), 'order_book': ('XETH','XXBT')},\n",
    "    {'tkns': ('WETH', 'IBTC'), 'tkn_ids': (4, 11), 'order_book': ('XETH','XXBT')},\n",
    "    {'tkns': ('WETH', 'WBTC'), 'tkn_ids': (20, 3), 'order_book': ('XETH','XXBT')},\n",
    "    {'tkns': ('WETH', 'WBTC'), 'tkn_ids': (20, 19), 'order_book': ('XETH','XXBT')},\n",
    "    {'tkns': ('WETH', 'IBTC'), 'tkn_ids': (20, 11), 'order_book': ('XETH','XXBT')},\n",
    "    {'tkns': ('ASTR', 'USDT'), 'tkn_ids': (9, 10), 'order_book': ('ASTR','USD')},\n",
    "    {'tkns': ('ASTR', 'USDT'), 'tkn_ids': (9, 23), 'order_book': ('ASTR','USD')},\n",
    "    {'tkns': ('ASTR', 'USDT'), 'tkn_ids': (9, 2), 'order_book': ('ASTR','USD')},\n",
    "    {'tkns': ('ASTR', 'USDT'), 'tkn_ids': (9, 7), 'order_book': ('ASTR','USD')},\n",
    "    {'tkns': ('ASTR', 'USDT'), 'tkn_ids': (9, 18), 'order_book': ('ASTR','USD')},\n",
    "    {'tkns': ('ASTR', 'USDT'), 'tkn_ids': (9, 21), 'order_book': ('ASTR','USD')},\n",
    "    {'tkns': ('ASTR', 'USDT'), 'tkn_ids': (9, 22), 'order_book': ('ASTR','USD')},\n",
    "    {'tkns': ('CFG', 'USDT'), 'tkn_ids': (13, 10), 'order_book': ('CFG','USD')},\n",
    "    {'tkns': ('CFG', 'USDT'), 'tkn_ids': (13, 23), 'order_book': ('CFG','USD')},\n",
    "    {'tkns': ('CFG', 'USDT'), 'tkn_ids': (13, 2), 'order_book': ('CFG','USD')},\n",
    "    {'tkns': ('CFG', 'USDT'), 'tkn_ids': (13, 7), 'order_book': ('CFG','USD')},\n",
    "    {'tkns': ('CFG', 'USDT'), 'tkn_ids': (13, 18), 'order_book': ('CFG','USD')},\n",
    "    {'tkns': ('CFG', 'USDT'), 'tkn_ids': (13, 21), 'order_book': ('CFG','USD')},\n",
    "    {'tkns': ('CFG', 'USDT'), 'tkn_ids': (13, 22), 'order_book': ('CFG','USD')},\n",
    "    {'tkns': ('BNC', 'USDT'), 'tkn_ids': (14, 10), 'order_book': ('BNC','USD')},\n",
    "    {'tkns': ('BNC', 'USDT'), 'tkn_ids': (14, 23), 'order_book': ('BNC','USD')},\n",
    "    {'tkns': ('BNC', 'USDT'), 'tkn_ids': (14, 2), 'order_book': ('BNC','USD')},\n",
    "    {'tkns': ('BNC', 'USDT'), 'tkn_ids': (14, 7), 'order_book': ('BNC','USD')},\n",
    "    {'tkns': ('BNC', 'USDT'), 'tkn_ids': (14, 18), 'order_book': ('BNC','USD')},\n",
    "    {'tkns': ('BNC', 'USDT'), 'tkn_ids': (14, 21), 'order_book': ('BNC','USD')},\n",
    "    {'tkns': ('BNC', 'USDT'), 'tkn_ids': (14, 22), 'order_book': ('BNC','USD')},\n",
    "    {'tkns': ('GLMR', 'USDT'), 'tkn_ids': (16, 10), 'order_book': ('GLMR','USD')},\n",
    "    {'tkns': ('GLMR', 'USDT'), 'tkn_ids': (16, 23), 'order_book': ('GLMR','USD')},\n",
    "    {'tkns': ('GLMR', 'USDT'), 'tkn_ids': (16, 2), 'order_book': ('GLMR','USD')},\n",
    "    {'tkns': ('GLMR', 'USDT'), 'tkn_ids': (16, 7), 'order_book': ('GLMR','USD')},\n",
    "    {'tkns': ('GLMR', 'USDT'), 'tkn_ids': (16, 18), 'order_book': ('GLMR','USD')},\n",
    "    {'tkns': ('GLMR', 'USDT'), 'tkn_ids': (16, 21), 'order_book': ('GLMR','USD')},\n",
    "    {'tkns': ('GLMR', 'USDT'), 'tkn_ids': (16, 22), 'order_book': ('GLMR','USD')},\n",
    "]\n",
    "\n",
    "order_books = {}\n",
    "for arb_cfg in arb_list:\n",
    "    tkn_pair = arb_cfg['order_book']\n",
    "    if tkn_pair not in order_books:\n",
    "        resp = requests.get('https://api.kraken.com/0/public/Depth?pair=' + tkn_pair[0] + tkn_pair[1])\n",
    "        y = resp.json()\n",
    "        order_books[tkn_pair] = y['result'][tkn_pair[0] + tkn_pair[1]]\n",
    "    \n"
   ],
   "metadata": {
    "collapsed": false,
    "ExecuteTime": {
     "end_time": "2023-10-26T18:05:55.295960928Z",
     "start_time": "2023-10-26T18:05:51.931143773Z"
    }
   },
   "id": "30c3ae5c6fb4044d"
  },
  {
   "cell_type": "code",
   "execution_count": 3,
   "outputs": [],
   "source": [
    "def get_unique_name(ls: list[str], name: str) -> str:\n",
    "    if name not in ls:\n",
    "        return name\n",
    "    else:\n",
    "        c = 1\n",
    "        while name + str(c).zfill(3) in ls:\n",
    "            c += 1\n",
    "        return name + str(c).zfill(3)"
   ],
   "metadata": {
    "collapsed": false,
    "ExecuteTime": {
     "end_time": "2023-10-26T18:05:55.343783274Z",
     "start_time": "2023-10-26T18:05:55.302358354Z"
    }
   },
   "id": "e6904b3689225ff6"
  },
  {
   "cell_type": "code",
   "execution_count": 4,
   "outputs": [
    {
     "name": "stdout",
     "output_type": "stream",
     "text": [
      "{'ASTR': {'LRNA': 9070.136205794708, 'liquidity': 4619062.194067259},\n",
      " 'BNC': {'LRNA': 7177.126526066703, 'liquidity': 702009.6177825137},\n",
      " 'CFG': {'LRNA': 8754.088050585202, 'liquidity': 608869.540690092},\n",
      " 'DAI': {'LRNA': 13093.225661628376, 'liquidity': 333319.219548957},\n",
      " 'DAI001': {'LRNA': 31763.67576034104, 'liquidity': 801417.0879179311},\n",
      " 'DOT': {'LRNA': 70424.25201266537, 'liquidity': 425388.7078969269},\n",
      " 'GLMR': {'LRNA': 5275.001841670168, 'liquidity': 674132.5317390229},\n",
      " 'HDX': {'LRNA': 19260.650893287304, 'liquidity': 119458785.69977124},\n",
      " 'IBTC': {'LRNA': 34886.7417368499, 'liquidity': 25.94422877},\n",
      " 'USDT': {'LRNA': 84988.84304437012, 'liquidity': 2160244.261638},\n",
      " 'WBTC': {'LRNA': 50.601798806111, 'liquidity': 0.04374934},\n",
      " 'WBTC001': {'LRNA': 41825.972240324016, 'liquidity': 31.07194099},\n",
      " 'WETH': {'LRNA': 21610.066375684895, 'liquidity': 308.38413849127414},\n",
      " 'WETH001': {'LRNA': 71503.05719657874, 'liquidity': 1018.347189139107},\n",
      " 'ZTG': {'LRNA': 4669.488754083004, 'liquidity': 3046132.400270365},\n",
      " 'vDOT': {'LRNA': 20992.46025434239, 'liquidity': 104932.8596891599}}\n"
     ]
    }
   ],
   "source": [
    "RPC=\"wss://hydradx-rpc.dwellir.com\"\n",
    "\n",
    "chain = HydraDX(RPC) \n",
    "chain.connect()\n",
    "\n",
    "# Omnipool metadata\n",
    "# TODO: move to JSON file\n",
    "metadata = [\n",
    "    {'symbol': 'HDX', 'id': 0, 'decimals': 12},\n",
    "    {'symbol': 'LRNA', 'id': 1, 'decimals': 12},\n",
    "    {'symbol': 'DAI', 'id': 2, 'decimals': 18},\n",
    "    {'symbol': 'WBTC', 'id': 3, 'decimals': 8},\n",
    "    {'symbol': 'WETH', 'id': 4, 'decimals': 18},\n",
    "    {'symbol': 'DOT', 'id': 5, 'decimals': 10},\n",
    "    {'symbol': 'APE', 'id': 6, 'decimals': 18},\n",
    "    {'symbol': 'USDC', 'id': 7, 'decimals': 6},\n",
    "    {'symbol': 'PHA', 'id': 8, 'decimals': 12},\n",
    "    {'symbol': 'ASTR', 'id': 9, 'decimals': 18},\n",
    "    {'symbol': 'USDT', 'id': 10, 'decimals': 6},\n",
    "    {'symbol': 'IBTC', 'id': 11, 'decimals': 8},\n",
    "    {'symbol': 'ZTG', 'id': 12, 'decimals': 10},\n",
    "    {'symbol': 'CFG', 'id': 13, 'decimals': 18},\n",
    "    {'symbol': 'BNC', 'id': 14, 'decimals': 12},\n",
    "    {'symbol': 'vDOT', 'id': 15, 'decimals': 10},\n",
    "    {'symbol': 'GLMR', 'id': 16, 'decimals': 18},\n",
    "    {'symbol': 'INTR', 'id': 17, 'decimals': 10},\n",
    "    {'symbol': 'DAI', 'id': 18, 'decimals': 18},\n",
    "    {'symbol': 'WBTC', 'id': 19, 'decimals': 8},\n",
    "    {'symbol': 'WETH', 'id': 20, 'decimals': 18},\n",
    "    {'symbol': 'USDC', 'id': 21, 'decimals': 6},\n",
    "    {'symbol': 'USDC', 'id': 22, 'decimals': 6},\n",
    "    {'symbol': 'USDT', 'id': 23, 'decimals': 6},\n",
    "    ]\n",
    "\n",
    "asset_list = []\n",
    "fees = {}\n",
    "tokens = {}\n",
    "asset_map = {}\n",
    "\n",
    "for i in range(len(metadata)):\n",
    "    try:\n",
    "        state = chain.api.omnipool.asset_state(metadata[i]['id'])\n",
    "    except:\n",
    "        continue\n",
    "        \n",
    "    fee = chain.api.fees.asset_fees(metadata[i]['id'])\n",
    "\n",
    "    tkn = get_unique_name(asset_list, metadata[i]['symbol'])\n",
    "    asset_list.append(tkn)\n",
    "    asset_map[i] = tkn\n",
    "    tokens[tkn] = {\n",
    "        'liquidity': state.reserve / 10**metadata[i]['decimals'],\n",
    "        'LRNA': state.hub_reserve / 10**12\n",
    "    }\n",
    "    fees[tkn] = {\"asset_fee\": fee.asset_fee / 100, \"protocol_fee\": fee.protocol_fee / 100}\n",
    "        \n",
    "chain.close()\n",
    "\n",
    "pprint(tokens)\n"
   ],
   "metadata": {
    "collapsed": false,
    "ExecuteTime": {
     "end_time": "2023-10-26T18:06:39.461863014Z",
     "start_time": "2023-10-26T18:05:55.343614999Z"
    }
   },
   "id": "a026335ac28fa9d4"
  },
  {
   "cell_type": "code",
   "execution_count": 5,
   "outputs": [],
   "source": [
    "\n",
    "ob_objs = {}\n",
    "for tkn_pair in order_books:\n",
    "    ob = parse_kraken_orderbook(order_books[tkn_pair])\n",
    "    ob_obj = OrderBook(\n",
    "        bids=[[bid['price'], bid['amount']] for bid in ob['bids']],\n",
    "        asks=[[ask['price'], ask['amount']] for ask in ob['asks']]\n",
    "    )\n",
    "    ob_objs[tkn_pair] = ob_obj\n",
    "    \n",
    "order_book_asset_list = []\n",
    "for tkn_pair in order_books:\n",
    "    for tkn in tkn_pair:\n",
    "        if tkn not in order_book_asset_list:\n",
    "            order_book_asset_list.append(tkn)\n",
    "\n",
    "cex_fee = 0.0016\n",
    "buffer = 0.0010\n",
    "\n",
    "lrna_fee={asset: fees[asset]['protocol_fee'] for asset in asset_list}\n",
    "asset_fee={asset: fees[asset]['asset_fee'] for asset in asset_list}\n",
    "\n",
    "# lrna_fee = 0.0005\n",
    "# asset_fee = 0.0025\n",
    "\n",
    "\n",
    "cex = CentralizedMarket(\n",
    "    order_book=ob_objs,\n",
    "    asset_list=order_book_asset_list,\n",
    "    trade_fee=cex_fee\n",
    ")\n",
    "\n",
    "op_state = OmnipoolState(\n",
    "    tokens=tokens,\n",
    "    lrna_fee = lrna_fee,\n",
    "    asset_fee = asset_fee,\n",
    "    preferred_stablecoin='USDT',\n",
    ")\n",
    "\n",
    "init_state = op_state.copy()\n"
   ],
   "metadata": {
    "collapsed": false,
    "ExecuteTime": {
     "end_time": "2023-10-26T18:06:39.462504977Z",
     "start_time": "2023-10-26T18:06:39.404745174Z"
    }
   },
   "id": "68064af1cadd64fc"
  },
  {
   "cell_type": "code",
   "execution_count": 6,
   "outputs": [
    {
     "name": "stdout",
     "output_type": "stream",
     "text": [
      "{('ASTR', 'DAI'): ('ASTR', 'USD'),\n",
      " ('ASTR', 'DAI001'): ('ASTR', 'USD'),\n",
      " ('ASTR', 'USDT'): ('ASTR', 'USD'),\n",
      " ('BNC', 'DAI'): ('BNC', 'USD'),\n",
      " ('BNC', 'DAI001'): ('BNC', 'USD'),\n",
      " ('BNC', 'USDT'): ('BNC', 'USD'),\n",
      " ('CFG', 'DAI'): ('CFG', 'USD'),\n",
      " ('CFG', 'DAI001'): ('CFG', 'USD'),\n",
      " ('CFG', 'USDT'): ('CFG', 'USD'),\n",
      " ('DOT', 'DAI'): ('DOT', 'USD'),\n",
      " ('DOT', 'DAI001'): ('DOT', 'USD'),\n",
      " ('DOT', 'IBTC'): ('DOT', 'XBT'),\n",
      " ('DOT', 'USDT'): ('DOT', 'USD'),\n",
      " ('DOT', 'WBTC'): ('DOT', 'XBT'),\n",
      " ('DOT', 'WBTC001'): ('DOT', 'XBT'),\n",
      " ('DOT', 'WETH'): ('DOT', 'ETH'),\n",
      " ('DOT', 'WETH001'): ('DOT', 'ETH'),\n",
      " ('GLMR', 'DAI'): ('GLMR', 'USD'),\n",
      " ('GLMR', 'DAI001'): ('GLMR', 'USD'),\n",
      " ('GLMR', 'USDT'): ('GLMR', 'USD'),\n",
      " ('HDX', 'DAI'): ('HDX', 'USD'),\n",
      " ('HDX', 'DAI001'): ('HDX', 'USD'),\n",
      " ('HDX', 'USDT'): ('HDX', 'USD'),\n",
      " ('IBTC', 'DAI'): ('XXBT', 'ZUSD'),\n",
      " ('IBTC', 'DAI001'): ('XXBT', 'ZUSD'),\n",
      " ('IBTC', 'USDT'): ('XXBT', 'ZUSD'),\n",
      " ('WBTC', 'DAI'): ('XXBT', 'ZUSD'),\n",
      " ('WBTC', 'DAI001'): ('XXBT', 'ZUSD'),\n",
      " ('WBTC', 'USDT'): ('XXBT', 'ZUSD'),\n",
      " ('WBTC001', 'DAI'): ('XXBT', 'ZUSD'),\n",
      " ('WBTC001', 'DAI001'): ('XXBT', 'ZUSD'),\n",
      " ('WBTC001', 'USDT'): ('XXBT', 'ZUSD'),\n",
      " ('WETH', 'DAI'): ('XETH', 'ZUSD'),\n",
      " ('WETH', 'DAI001'): ('XETH', 'ZUSD'),\n",
      " ('WETH', 'IBTC'): ('XETH', 'XXBT'),\n",
      " ('WETH', 'USDT'): ('XETH', 'ZUSD'),\n",
      " ('WETH', 'WBTC'): ('XETH', 'XXBT'),\n",
      " ('WETH', 'WBTC001'): ('XETH', 'XXBT'),\n",
      " ('WETH001', 'DAI'): ('XETH', 'ZUSD'),\n",
      " ('WETH001', 'DAI001'): ('XETH', 'ZUSD'),\n",
      " ('WETH001', 'IBTC'): ('XETH', 'XXBT'),\n",
      " ('WETH001', 'USDT'): ('XETH', 'ZUSD'),\n",
      " ('WETH001', 'WBTC'): ('XETH', 'XXBT'),\n",
      " ('WETH001', 'WBTC001'): ('XETH', 'XXBT')}\n"
     ]
    }
   ],
   "source": [
    "order_book_map = {}\n",
    "for i in range(len(arb_list)):\n",
    "    base_id, quote_id = arb_list[i]['tkn_ids']\n",
    "    orderbook_tkn_pair = arb_list[i]['order_book']\n",
    "    if base_id in asset_map and quote_id in asset_map:\n",
    "        tkn_pair = (asset_map[base_id], asset_map[quote_id])\n",
    "        order_book_map[tkn_pair] = orderbook_tkn_pair \n",
    "    \n",
    "pprint(order_book_map)"
   ],
   "metadata": {
    "collapsed": false,
    "ExecuteTime": {
     "end_time": "2023-10-26T18:06:39.485305290Z",
     "start_time": "2023-10-26T18:06:39.409081837Z"
    }
   },
   "id": "5c34a29fa3c15b8"
  },
  {
   "cell_type": "code",
   "execution_count": null,
   "outputs": [],
   "source": [
    "all_swaps = get_arb_swaps(op_state, cex, order_book_map, buffer=buffer)\n",
    "for tkn_pair in all_swaps:\n",
    "    if all_swaps[tkn_pair] != []:\n",
    "        print(tkn_pair)\n",
    "        print(all_swaps[tkn_pair])"
   ],
   "metadata": {
    "collapsed": false,
    "is_executing": true,
    "ExecuteTime": {
     "start_time": "2023-10-26T18:07:57.087435754Z"
    }
   },
   "id": "ef086a726e0e13be"
  },
  {
   "cell_type": "code",
   "execution_count": 32,
   "outputs": [
    {
     "name": "stdout",
     "output_type": "stream",
     "text": [
      "{'HDX': 0, 'USD': 11.619496822357178, 'BTC': 9.000301361083984e-05, 'ETH': 0.0, 'DOT': 0.0, 'ASTR': 0, 'ZTG': 0, 'CFG': 0, 'BNC': 0, 'vDOT': 0, 'GLMR': 0}\n"
     ]
    }
   ],
   "source": [
    "state = init_state.copy()\n",
    "holdings = {asset: 1000000000 for asset in asset_list + order_book_asset_list}\n",
    "init_agent = Agent(holdings=holdings, unique_id='bot')\n",
    "agent = init_agent.copy()\n",
    "execute_arb(state, cex, agent, all_swaps)\n",
    "\n",
    "asset_map = {'WETH': 'ETH',\n",
    "             'XETH': 'ETH',\n",
    "             'XXBT': 'BTC',\n",
    "             'WBTC': 'BTC',\n",
    "             'ZUSD': 'USD',\n",
    "             'USDT': 'USD',\n",
    "             'USDC': 'USD',\n",
    "             'DAI': 'USD',\n",
    "             'USDT001': 'USD',\n",
    "             'DAI001': 'USD',\n",
    "             'WETH001': 'ETH',\n",
    "             'WBTC001': 'BTC',\n",
    "             'WETH001': 'ETH',\n",
    "             'IBTC': 'BTC',\n",
    "             'XBT': 'BTC',}\n",
    "\n",
    "profit = calculate_profit(init_agent, agent, asset_map)\n",
    "\n",
    "print(profit)\n",
    "            "
   ],
   "metadata": {
    "collapsed": false,
    "ExecuteTime": {
     "end_time": "2023-10-26T17:13:03.428068410Z",
     "start_time": "2023-10-26T17:13:03.427574484Z"
    }
   },
   "id": "8d4817129c26f839"
  },
  {
   "cell_type": "code",
   "execution_count": 32,
   "outputs": [],
   "source": [],
   "metadata": {
    "collapsed": false,
    "ExecuteTime": {
     "end_time": "2023-10-26T17:13:03.428552814Z",
     "start_time": "2023-10-26T17:13:03.427839306Z"
    }
   },
   "id": "fc18dce1b93bab0c"
  }
 ],
 "metadata": {
  "kernelspec": {
   "display_name": "Python 3",
   "language": "python",
   "name": "python3"
  },
  "language_info": {
   "codemirror_mode": {
    "name": "ipython",
    "version": 2
   },
   "file_extension": ".py",
   "mimetype": "text/x-python",
   "name": "python",
   "nbconvert_exporter": "python",
   "pygments_lexer": "ipython2",
   "version": "2.7.6"
  }
 },
 "nbformat": 4,
 "nbformat_minor": 5
}
