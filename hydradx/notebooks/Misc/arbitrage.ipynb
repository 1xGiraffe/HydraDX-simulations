{
 "cells": [
  {
   "cell_type": "code",
   "execution_count": 11,
   "id": "initial_id",
   "metadata": {
    "collapsed": true,
    "ExecuteTime": {
     "end_time": "2023-10-13T21:30:52.524106738Z",
     "start_time": "2023-10-13T21:30:52.492999842Z"
    }
   },
   "outputs": [],
   "source": [
    "from hydradx.model.amm.omnipool_amm import OmnipoolState\n",
    "from hydradx.model.amm.agents import Agent\n",
    "\n",
    "import json, os\n"
   ]
  },
  {
   "cell_type": "code",
   "execution_count": 12,
   "outputs": [
    {
     "name": "stdout",
     "output_type": "stream",
     "text": [
      "{'bids': [{'price': 0.0044, 'amount': 167624.939}, {'price': 0.0043, 'amount': 131240.292}, {'price': 0.0042, 'amount': 50715.0}, {'price': 0.004, 'amount': 5153.0}, {'price': 0.0039, 'amount': 948051.366}, {'price': 0.0038, 'amount': 2038031.895}, {'price': 0.0037, 'amount': 70267.568}, {'price': 0.0036, 'amount': 141668.889}, {'price': 0.0035, 'amount': 2860.0}, {'price': 0.0034, 'amount': 1806344.952}, {'price': 0.0033, 'amount': 3030.0}, {'price': 0.0032, 'amount': 3130.0}, {'price': 0.0031, 'amount': 1691939.678}, {'price': 0.003, 'amount': 6032.703}, {'price': 0.0029, 'amount': 561659.183}, {'price': 0.0028, 'amount': 3570.0}, {'price': 0.0027, 'amount': 3700.0}, {'price': 0.0026, 'amount': 3850.0}, {'price': 0.0025, 'amount': 4000.0}, {'price': 0.0024, 'amount': 4170.0}, {'price': 0.0023, 'amount': 4350.0}, {'price': 0.0022, 'amount': 4550.0}, {'price': 0.0021, 'amount': 4760.0}, {'price': 0.002, 'amount': 5000.0}, {'price': 0.0019, 'amount': 5260.0}, {'price': 0.0018, 'amount': 5560.0}, {'price': 0.0017, 'amount': 5880.0}, {'price': 0.0016, 'amount': 6250.0}, {'price': 0.0015, 'amount': 6670.0}, {'price': 0.0014, 'amount': 7140.0}, {'price': 0.0013, 'amount': 7690.0}, {'price': 0.0012, 'amount': 8330.0}, {'price': 0.0011, 'amount': 9090.0}, {'price': 0.001, 'amount': 10000.0}, {'price': 0.0009, 'amount': 11110.0}, {'price': 0.0008, 'amount': 12500.0}, {'price': 0.0007, 'amount': 14290.0}, {'price': 0.0006, 'amount': 16670.0}, {'price': 0.0005, 'amount': 20000.0}, {'price': 0.0004, 'amount': 25000.0}, {'price': 0.0003, 'amount': 33330.0}, {'price': 0.0002, 'amount': 50000.0}, {'price': 0.0001, 'amount': 200000.0}], 'asks': [{'price': 0.0047, 'amount': 469950.454}, {'price': 0.0048, 'amount': 919909.012}, {'price': 0.0049, 'amount': 24414.966}, {'price': 0.005, 'amount': 910153.391}, {'price': 0.0051, 'amount': 50610.746}, {'price': 0.0052, 'amount': 613537.854}, {'price': 0.0054, 'amount': 49936.889}, {'price': 0.0055, 'amount': 778181.149}, {'price': 0.0056, 'amount': 49127.423}, {'price': 0.0057, 'amount': 600000.0}, {'price': 0.0059, 'amount': 104245.755}, {'price': 0.006, 'amount': 52182.628}, {'price': 0.0061, 'amount': 693107.172}, {'price': 0.0062, 'amount': 3980.488}, {'price': 0.0064, 'amount': 5993.643}, {'price': 0.0066, 'amount': 69995.903}, {'price': 0.007, 'amount': 2601.121}, {'price': 0.0072, 'amount': 5231.92}, {'price': 0.0073, 'amount': 6718.58}, {'price': 0.0074, 'amount': 12499.639}, {'price': 0.0075, 'amount': 28961.525}, {'price': 0.008, 'amount': 762912.959}, {'price': 0.0082, 'amount': 100000.0}, {'price': 0.0083, 'amount': 100000.0}, {'price': 0.0084, 'amount': 100000.0}, {'price': 0.0085, 'amount': 50000.0}, {'price': 0.0086, 'amount': 50000.0}, {'price': 0.0087, 'amount': 50000.0}, {'price': 0.0088, 'amount': 50000.0}, {'price': 0.0089, 'amount': 50000.0}, {'price': 0.009, 'amount': 150000.0}, {'price': 0.0091, 'amount': 50000.0}, {'price': 0.0092, 'amount': 103621.356}, {'price': 0.0093, 'amount': 50000.0}, {'price': 0.0094, 'amount': 50000.0}, {'price': 0.0095, 'amount': 55511.963}, {'price': 0.0096, 'amount': 50000.0}, {'price': 0.0097, 'amount': 50000.0}, {'price': 0.0098, 'amount': 50000.0}, {'price': 0.0099, 'amount': 1057317.762}, {'price': 0.01, 'amount': 330000.0}, {'price': 0.0102, 'amount': 5000.0}, {'price': 0.0105, 'amount': 5101.554}, {'price': 0.011, 'amount': 121000.0}, {'price': 0.0112, 'amount': 21255.122}, {'price': 0.012, 'amount': 1006777.786}, {'price': 0.0124, 'amount': 1161860.0}, {'price': 0.0126, 'amount': 14798.413}, {'price': 0.0127, 'amount': 33281.89}, {'price': 0.013, 'amount': 5101.554}, {'price': 0.0132, 'amount': 10627.561}, {'price': 0.0142, 'amount': 10627.561}, {'price': 0.0145, 'amount': 2000.0}, {'price': 0.0148, 'amount': 6000.0}, {'price': 0.0156, 'amount': 12006.575}, {'price': 0.0159, 'amount': 260000.0}, {'price': 0.016, 'amount': 1114472.0}, {'price': 0.0162, 'amount': 18697.748}, {'price': 0.0165, 'amount': 62809.146}, {'price': 0.0168, 'amount': 5000.0}, {'price': 0.0169, 'amount': 4253.288}, {'price': 0.017, 'amount': 200000.0}, {'price': 0.0174, 'amount': 208789.0}, {'price': 0.0175, 'amount': 200000.0}, {'price': 0.0177, 'amount': 208789.0}, {'price': 0.0178, 'amount': 43200.0}, {'price': 0.0179, 'amount': 43200.0}, {'price': 0.018, 'amount': 193200.0}, {'price': 0.0181, 'amount': 43200.0}, {'price': 0.0185, 'amount': 153000.0}, {'price': 0.0192, 'amount': 2611.459}, {'price': 0.0194, 'amount': 7500.0}, {'price': 0.0198, 'amount': 191000.0}, {'price': 0.02, 'amount': 1200.15}, {'price': 0.022, 'amount': 34314.089}, {'price': 0.0221, 'amount': 8319.997}, {'price': 0.0238, 'amount': 58121.016}, {'price': 0.025, 'amount': 359446.0}, {'price': 0.0262, 'amount': 9766.952}, {'price': 0.029, 'amount': 257660.0}, {'price': 0.03, 'amount': 1000900.113}, {'price': 0.035, 'amount': 218954.768}, {'price': 0.04, 'amount': 1296.162}, {'price': 0.042, 'amount': 1000.0}, {'price': 0.045, 'amount': 100000.0}, {'price': 0.055, 'amount': 700.0}, {'price': 0.0584, 'amount': 250.0}, {'price': 0.06, 'amount': 730.172}, {'price': 0.069, 'amount': 1000.0}, {'price': 0.074, 'amount': 164.716}, {'price': 0.08, 'amount': 674.005}, {'price': 0.085, 'amount': 100000.0}, {'price': 0.0888, 'amount': 5262.0}, {'price': 0.0897, 'amount': 14000.0}, {'price': 0.0999, 'amount': 198461.258}, {'price': 0.1, 'amount': 511888.028}, {'price': 0.12, 'amount': 28212.288}, {'price': 0.1333, 'amount': 1000.0}, {'price': 0.1975, 'amount': 1000.0}, {'price': 0.23, 'amount': 403601.832}]}\n"
     ]
    }
   ],
   "source": [
    "f = open('data/hdxusd_orderbook.json', 'r')\n",
    "y = json.loads(f.read())\n",
    "hdxusd_orderbook = y['result']['HDXUSD']\n",
    "\n",
    "f = open('data/dotusd_orderbook.json', 'r')\n",
    "y = json.loads(f.read())\n",
    "dotusd_orderbook = y['result']['DOTUSD']\n",
    "\n",
    "# print(hdxusd_orderbook)\n",
    "\n",
    "def parse_orderbook(orderbook):\n",
    "    asks = [{'price': float(ask[0]), 'amount': float(ask[1])} for ask in orderbook['asks']]\n",
    "    bids = [{'price': float(bid[0]), 'amount': float(bid[1])} for bid in orderbook['bids']]\n",
    "    return {'bids': bids, 'asks': asks}\n",
    "\n",
    "print(parse_orderbook(hdxusd_orderbook))"
   ],
   "metadata": {
    "collapsed": false,
    "ExecuteTime": {
     "end_time": "2023-10-13T21:30:52.547658901Z",
     "start_time": "2023-10-13T21:30:52.502370427Z"
    }
   },
   "id": "30c3ae5c6fb4044d"
  },
  {
   "cell_type": "code",
   "execution_count": 13,
   "outputs": [],
   "source": [
    "\n",
    "# dot_usdt_order_book = {\n",
    "#     'bids': [{'price': 3.60, 'amount': 200},\n",
    "#              {'price': 3.59, 'amount': 100},\n",
    "#              {'price': 3.50, 'amount': 100},\n",
    "#              {'price': 3.40, 'amount': 2000}],\n",
    "#     'asks': [{'price': 3.70, 'amount': 100},\n",
    "#              {'price': 3.74, 'amount': 5000},\n",
    "#              {'price': 3.80, 'amount': 200},\n",
    "#              {'price': 3.90, 'amount': 2000}]\n",
    "# }\n",
    "# \n",
    "# hdx_usdt_order_book = {\n",
    "#     'bids': [{'price': 0.03, 'amount': 2000},\n",
    "#              {'price': 0.025, 'amount': 2000},\n",
    "#              {'price': 0.02, 'amount': 2000},\n",
    "#              {'price': 0.015, 'amount': 2000}],\n",
    "#     'asks': [{'price': 0.04, 'amount': 2000},\n",
    "#              {'price': 0.05, 'amount': 2000},\n",
    "#              {'price': 0.06, 'amount': 2000},\n",
    "#              {'price': 0.07, 'amount': 2000}]\n",
    "# }\n",
    "\n",
    "# hdx_dot_order_book = {\n",
    "#     'bids': [{'price': 0.005, 'amount': 2000},\n",
    "#              {'price': 0.004, 'amount': 2000}],\n",
    "#     'asks': [{'price': 0.0052, 'amount': 2000},\n",
    "#              {'price': 0.0055, 'amount': 2000}]\n",
    "# }\n",
    "\n",
    "dot_usdt_order_book = parse_orderbook(dotusd_orderbook)\n",
    "hdx_usdt_order_book = parse_orderbook(hdxusd_orderbook)\n",
    "\n",
    "order_book = {\n",
    "    ('DOT','USDT'): dot_usdt_order_book,\n",
    "    ('HDX','USDT'): hdx_usdt_order_book,\n",
    "    # ('HDX','DOT'): hdx_dot_order_book\n",
    "}\n",
    "\n",
    "tokens = {\n",
    "    'USDT': {\n",
    "        'liquidity': 2062772,\n",
    "        'LRNA': 2062772\n",
    "    },\n",
    "    'DOT': {\n",
    "        'liquidity': 389000,\n",
    "        'LRNA': 1456248\n",
    "    },\n",
    "    'HDX': {\n",
    "        'liquidity': 108000000,\n",
    "        'LRNA': 494896\n",
    "    }\n",
    "}\n",
    "\n",
    "lrna_fee = 0.0005\n",
    "asset_fee = 0.0025\n",
    "cex_fee = 0.0016\n",
    "\n",
    "# lrna_fee = 0.0\n",
    "# asset_fee = 0.0\n",
    "# cex_fee = 0.0\n",
    "\n",
    "op_state = OmnipoolState(\n",
    "            tokens=tokens,\n",
    "            lrna_fee=lrna_fee,\n",
    "            asset_fee=asset_fee,\n",
    "    preferred_stablecoin='USDT',\n",
    "        )\n",
    "\n",
    "init_state = op_state.copy()\n",
    "\n",
    "iters = 10"
   ],
   "metadata": {
    "collapsed": false,
    "ExecuteTime": {
     "end_time": "2023-10-13T21:30:52.547828624Z",
     "start_time": "2023-10-13T21:30:52.542905945Z"
    }
   },
   "id": "68064af1cadd64fc"
  },
  {
   "cell_type": "code",
   "execution_count": 14,
   "outputs": [
    {
     "name": "stdout",
     "output_type": "stream",
     "text": [
      "3.7435681233933162\n",
      "0.00458237037037037\n",
      "{('DOT', 'USDT'): [], ('HDX', 'USDT'): []}\n"
     ]
    }
   ],
   "source": [
    "all_swaps = {}\n",
    "for tkn_pair in order_book:\n",
    "    pair_order_book = order_book[tkn_pair]\n",
    "    tkn = tkn_pair[0]\n",
    "    numeraire = tkn_pair[1]\n",
    "    bids = pair_order_book['bids']\n",
    "    asks = pair_order_book['asks']\n",
    "    bids = sorted(bids, key=lambda x: x['price'], reverse=True)\n",
    "    asks = sorted(asks, key=lambda x: x['price'], reverse=False)\n",
    "    \n",
    "    agent = Agent(holdings={'USDT': 1000000, 'DOT': 1000000, 'HDX': 1000000}, unique_id='bot')\n",
    "    \n",
    "    op_spot = OmnipoolState.price(op_state, tkn, numeraire)\n",
    "    buy_spot = op_spot / ((1 - lrna_fee)*(1 - asset_fee))\n",
    "    sell_spot = op_spot * (1 - lrna_fee) * (1 - asset_fee)\n",
    "    i = 0\n",
    "    profit = 0\n",
    "    bid_executed = False\n",
    "    ask_executed = False\n",
    "    last_profit = 0\n",
    "    if buy_spot < bids[i]['price'] * (1 - cex_fee):\n",
    "        bid_executed = True\n",
    "        test_state = op_state\n",
    "        test_agent = agent\n",
    "        while i < len(bids) and buy_spot < bids[i]['price'] * (1 - cex_fee):  # spot is lower than the highest bid, so we should buy from Omnipool and sell to CEX\n",
    "            print('buy')\n",
    "            op_state = test_state\n",
    "            agent = test_agent\n",
    "            test_state = op_state.copy()\n",
    "            test_agent = agent.copy()\n",
    "            test_state.swap(test_agent, tkn_buy=tkn, tkn_sell=numeraire, buy_quantity=bids[i]['amount'])\n",
    "            op_spot = OmnipoolState.price(test_state, tkn, numeraire)\n",
    "            buy_spot = op_spot / ((1 - lrna_fee)*(1 - asset_fee))\n",
    "            i += 1\n",
    "    elif sell_spot > asks[i]['price'] / (1 - cex_fee):\n",
    "        ask_executed = True\n",
    "        test_state = op_state\n",
    "        test_agent = agent\n",
    "        while i < len(bids) and sell_spot > asks[i]['price'] / (1 - cex_fee):  # spot is higher than the lowest ask, so we should buy from CEX and sell to Omnipool\n",
    "            print('sell')\n",
    "            op_state = test_state\n",
    "            agent = test_agent\n",
    "            test_state = op_state.copy()\n",
    "            test_agent = agent.copy()\n",
    "            test_state.swap(test_agent, tkn_buy=numeraire, tkn_sell=tkn, sell_quantity=asks[i]['amount'])\n",
    "            op_spot = OmnipoolState.price(test_state, tkn, numeraire)\n",
    "            sell_spot = op_spot * (1 - lrna_fee) * (1 - asset_fee)\n",
    "            i += 1\n",
    "    \n",
    "    swaps = []\n",
    "    if bid_executed:\n",
    "        if buy_spot < bids[i-1]['price'] * (1 - cex_fee):  # last trade can be fully executed without moving spot price too much\n",
    "            swaps = [('buy',bids[j]) for j in range(i)]\n",
    "        else:  # Use binary search to partially fill last order\n",
    "            swaps = bids[0:i-1]\n",
    "            swaps = [('buy',bids[j]) for j in range(i-1)]\n",
    "            bid = bids[i-1]\n",
    "            amt_high = bid['amount']\n",
    "            amt_low = 0\n",
    "            \n",
    "            for i in range(iters):\n",
    "                test_agent = agent.copy()\n",
    "                test_state = op_state.copy()\n",
    "                amt = amt_low + (amt_high - amt_low) / 2\n",
    "                test_state.swap(test_agent, tkn_buy=tkn, tkn_sell=numeraire, buy_quantity=amt)\n",
    "                op_spot = OmnipoolState.price(test_state, tkn, numeraire)\n",
    "                buy_spot = op_spot / ((1 - lrna_fee)*(1 - asset_fee))\n",
    "                if buy_spot > bid['price'] * (1 - cex_fee):\n",
    "                    amt_high = amt\n",
    "                elif buy_spot < bid['price'] * (1 - cex_fee):\n",
    "                    amt_low = amt\n",
    "                else:\n",
    "                    break\n",
    "                    \n",
    "            op_state.swap(agent, tkn_buy='DOT', tkn_sell=numeraire, buy_quantity=amt_low)\n",
    "            op_spot = OmnipoolState.price(op_state, tkn, numeraire)\n",
    "            swaps.append(('buy',{'price': bid['price'], 'amount': amt_low}))\n",
    "\n",
    "    \n",
    "    elif ask_executed:\n",
    "        if sell_spot > asks[i-1]['price'] / (1 - cex_fee):  # last trade can be fully executed without moving spot price too much\n",
    "            swaps = [('sell',asks[j]) for j in range(i)]\n",
    "        else:  # Use binary search to partially fill last order\n",
    "            swaps = [('sell',asks[j]) for j in range(i-1)]\n",
    "            ask = asks[i-1]\n",
    "            amt_high = ask['amount']\n",
    "            amt_low = 0\n",
    "            for i in range(iters):\n",
    "                test_agent = agent.copy()\n",
    "                test_state = op_state.copy()\n",
    "                amt = amt_low + (amt_high - amt_low) / 2\n",
    "                test_state.swap(test_agent, tkn_buy=numeraire, tkn_sell=tkn, sell_quantity=amt)\n",
    "                op_spot = OmnipoolState.price(test_state, tkn, numeraire)\n",
    "                sell_spot = op_spot * (1 - lrna_fee) * (1 - asset_fee)\n",
    "                if sell_spot < ask['price'] / (1 - cex_fee):\n",
    "                    amt_high = amt\n",
    "                elif sell_spot > ask['price'] / (1 - cex_fee):\n",
    "                    amt_low = amt\n",
    "                else:\n",
    "                    break\n",
    "                    \n",
    "            op_state.swap(agent, tkn_buy=numeraire, tkn_sell=tkn, buy_quantity=amt_low)\n",
    "            op_spot = OmnipoolState.price(op_state, tkn, numeraire)\n",
    "            swaps.append(('sell',{'price': ask['price'], 'amount': amt_low}))\n",
    "\n",
    "\n",
    "    print(op_spot)\n",
    "    all_swaps[tkn_pair] = swaps\n",
    "print(all_swaps)"
   ],
   "metadata": {
    "collapsed": false,
    "ExecuteTime": {
     "end_time": "2023-10-13T21:30:52.548042983Z",
     "start_time": "2023-10-13T21:30:52.543053747Z"
    }
   },
   "id": "ef086a726e0e13be"
  },
  {
   "cell_type": "code",
   "execution_count": 15,
   "outputs": [
    {
     "name": "stdout",
     "output_type": "stream",
     "text": [
      "{'USDT': 0, 'DOT': 0, 'HDX': 0}\n",
      "('DOT', 'USDT')\n",
      "(3.732342098483291, 3.7435681233933162, 3.7548279135992217)\n",
      "('HDX', 'USDT')\n",
      "(0.004568628987222223, 0.00458237037037037, 0.004596153084432311)\n"
     ]
    }
   ],
   "source": [
    "state = init_state.copy()\n",
    "init_agent = Agent(holdings={'USDT': 1000000, 'DOT': 1000000, 'HDX': 1000000}, unique_id='bot')\n",
    "agent = init_agent.copy()\n",
    "for tkn_pair in all_swaps:\n",
    "    swaps = all_swaps[tkn_pair]\n",
    "    \n",
    "    for swap in swaps:\n",
    "        \n",
    "        if swap[0] == 'buy':\n",
    "            # omnipool leg\n",
    "            state.swap(agent, tkn_buy=tkn_pair[0], tkn_sell=tkn_pair[1], buy_quantity=swap[1]['amount'])\n",
    "            # CEX leg\n",
    "            agent.holdings[tkn_pair[0]] -= swap[1]['amount']\n",
    "            agent.holdings[tkn_pair[1]] += swap[1]['amount'] * swap[1]['price']\n",
    "        elif swap[0] == 'sell':\n",
    "            # omnipool leg\n",
    "            state.swap(agent, tkn_buy=tkn_pair[1], tkn_sell=tkn_pair[0], sell_quantity=swap[1]['amount'])\n",
    "            # CEX leg\n",
    "            agent.holdings[tkn_pair[0]] += swap[1]['amount']\n",
    "            agent.holdings[tkn_pair[1]] -= swap[1]['amount'] * swap[1]['price']\n",
    "\n",
    "profit = {tkn: agent.holdings[tkn] - init_agent.holdings[tkn] for tkn in agent.holdings}\n",
    "print(profit)\n",
    "            \n",
    "for tkn_pair in all_swaps:\n",
    "    print(tkn_pair)\n",
    "    op_spot = OmnipoolState.price(state, tkn_pair[0], tkn_pair[1])\n",
    "    buy_spot = op_spot / ((1 - lrna_fee)*(1 - asset_fee))\n",
    "    sell_spot = op_spot * (1 - lrna_fee) * (1 - asset_fee)\n",
    "    print((sell_spot, op_spot, buy_spot))\n",
    "    \n"
   ],
   "metadata": {
    "collapsed": false,
    "ExecuteTime": {
     "end_time": "2023-10-13T21:30:52.548245598Z",
     "start_time": "2023-10-13T21:30:52.543266181Z"
    }
   },
   "id": "8d4817129c26f839"
  },
  {
   "cell_type": "code",
   "execution_count": 15,
   "outputs": [],
   "source": [],
   "metadata": {
    "collapsed": false,
    "ExecuteTime": {
     "end_time": "2023-10-13T21:30:52.548355177Z",
     "start_time": "2023-10-13T21:30:52.543355482Z"
    }
   },
   "id": "3d544d9681f2269a"
  }
 ],
 "metadata": {
  "kernelspec": {
   "display_name": "Python 3",
   "language": "python",
   "name": "python3"
  },
  "language_info": {
   "codemirror_mode": {
    "name": "ipython",
    "version": 2
   },
   "file_extension": ".py",
   "mimetype": "text/x-python",
   "name": "python",
   "nbconvert_exporter": "python",
   "pygments_lexer": "ipython2",
   "version": "2.7.6"
  }
 },
 "nbformat": 4,
 "nbformat_minor": 5
}
