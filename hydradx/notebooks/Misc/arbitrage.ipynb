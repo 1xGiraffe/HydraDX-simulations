{
 "cells": [
  {
   "cell_type": "code",
   "execution_count": 1,
   "id": "initial_id",
   "metadata": {
    "collapsed": true,
    "ExecuteTime": {
     "end_time": "2023-10-31T17:23:42.787530587Z",
     "start_time": "2023-10-31T17:23:42.625126490Z"
    }
   },
   "outputs": [],
   "source": [
    "from hydradx.model.amm.omnipool_amm import OmnipoolState\n",
    "from hydradx.model.amm.agents import Agent\n",
    "from hydradx.model.processing import get_kraken_orderbook, get_omnipool_data\n",
    "from hydradx.model.amm.arbitrage_agent import get_arb_swaps, calculate_profit, execute_arb\n",
    "from hydradx.model.amm.centralized_market import CentralizedMarket\n",
    "from pprint import pprint\n",
    "\n",
    "import json\n"
   ]
  },
  {
   "cell_type": "code",
   "execution_count": 2,
   "outputs": [],
   "source": [
    "with open('config/arbconfig.txt', 'r') as json_file:\n",
    "    arb_list = json.load(json_file)\n",
    "    \n",
    "for d in arb_list:\n",
    "    d['tkns'] = tuple(d['tkns'])\n",
    "    d['tkn_ids'] = tuple(d['tkn_ids'])\n",
    "    d['order_book'] = tuple(d['order_book'])\n",
    "\n",
    "ob_objs = {}\n",
    "order_book_asset_list = []\n",
    "\n",
    "for arb_cfg in arb_list:\n",
    "    tkn_pair = arb_cfg['order_book']\n",
    "    if tkn_pair not in ob_objs:\n",
    "        order_book_url = 'https://api.kraken.com/0/public/Depth?pair=' + tkn_pair[0] + tkn_pair[1]\n",
    "        ob_objs[tkn_pair] = get_kraken_orderbook(tkn_pair, order_book_url)\n",
    "        for tkn in tkn_pair:\n",
    "            if tkn not in order_book_asset_list:\n",
    "                order_book_asset_list.append(tkn)\n",
    "    \n"
   ],
   "metadata": {
    "collapsed": false,
    "ExecuteTime": {
     "end_time": "2023-10-31T17:23:45.676839545Z",
     "start_time": "2023-10-31T17:23:42.793505436Z"
    }
   },
   "id": "30c3ae5c6fb4044d"
  },
  {
   "cell_type": "code",
   "execution_count": 3,
   "outputs": [
    {
     "name": "stdout",
     "output_type": "stream",
     "text": [
      "{'ASTR': {'LRNA': 9270.99688691519, 'liquidity': 4558461.91251756},\n",
      " 'BNC': {'LRNA': 6527.933101450308, 'liquidity': 738947.6282724382},\n",
      " 'CFG': {'LRNA': 9419.75435990446, 'liquidity': 592573.4619929172},\n",
      " 'DAI': {'LRNA': 13000.817024566328, 'liquidity': 335561.52693695767},\n",
      " 'DAI001': {'LRNA': 31429.245331500555, 'liquidity': 810044.2687278098},\n",
      " 'DOT': {'LRNA': 71806.66123099784, 'liquidity': 420096.5614791631},\n",
      " 'GLMR': {'LRNA': 5283.431188308908, 'liquidity': 673041.463199017},\n",
      " 'HDX': {'LRNA': 19850.974136318495, 'liquidity': 115758722.44376807},\n",
      " 'USDT': {'LRNA': 85706.77128217087, 'liquidity': 2211946.625641},\n",
      " 'WBTC': {'LRNA': 50.601798806111, 'liquidity': 0.04374934},\n",
      " 'WBTC001': {'LRNA': 41666.10085543079, 'liquidity': 31.19146557},\n",
      " 'WETH': {'LRNA': 21426.4460746838, 'liquidity': 309.21785254735175},\n",
      " 'WETH001': {'LRNA': 71262.38454994914, 'liquidity': 1023.6153847544036},\n",
      " 'ZTG': {'LRNA': 4578.375407796498, 'liquidity': 3106881.31739501},\n",
      " 'iBTC': {'LRNA': 34785.41880802545, 'liquidity': 25.78131511},\n",
      " 'vDOT': {'LRNA': 21265.911724519337, 'liquidity': 103806.32869729}}\n"
     ]
    }
   ],
   "source": [
    "RPC=\"wss://hydradx-rpc.dwellir.com\"\n",
    "N = 24\n",
    "            \n",
    "asset_list, asset_map, tokens, fees = get_omnipool_data(RPC, N)\n",
    "\n",
    "pprint(tokens)"
   ],
   "metadata": {
    "collapsed": false,
    "ExecuteTime": {
     "end_time": "2023-10-31T17:24:30.318638652Z",
     "start_time": "2023-10-31T17:23:45.686694304Z"
    }
   },
   "id": "a026335ac28fa9d4"
  },
  {
   "cell_type": "code",
   "execution_count": 4,
   "outputs": [],
   "source": [
    "cex_fee = 0.0016\n",
    "buffer = 0.0002\n",
    "\n",
    "lrna_fee={asset: fees[asset]['protocol_fee'] for asset in asset_list}\n",
    "asset_fee={asset: fees[asset]['asset_fee'] for asset in asset_list}\n",
    "\n",
    "# lrna_fee = 0.0005\n",
    "# asset_fee = 0.0025\n",
    "\n",
    "\n",
    "cex = CentralizedMarket(\n",
    "    order_book=ob_objs,\n",
    "    asset_list=order_book_asset_list,\n",
    "    trade_fee=cex_fee\n",
    ")\n",
    "\n",
    "op_state = OmnipoolState(\n",
    "    tokens=tokens,\n",
    "    lrna_fee = lrna_fee,\n",
    "    asset_fee = asset_fee,\n",
    "    preferred_stablecoin='USDT',\n",
    ")\n",
    "\n",
    "init_state = op_state.copy()\n"
   ],
   "metadata": {
    "collapsed": false,
    "ExecuteTime": {
     "end_time": "2023-10-31T17:24:30.341966313Z",
     "start_time": "2023-10-31T17:24:30.318072209Z"
    }
   },
   "id": "68064af1cadd64fc"
  },
  {
   "cell_type": "code",
   "execution_count": 5,
   "outputs": [
    {
     "name": "stdout",
     "output_type": "stream",
     "text": [
      "{('ASTR', 'DAI'): ('ASTR', 'USD'),\n",
      " ('ASTR', 'DAI001'): ('ASTR', 'USD'),\n",
      " ('ASTR', 'USDT'): ('ASTR', 'USD'),\n",
      " ('BNC', 'DAI'): ('BNC', 'USD'),\n",
      " ('BNC', 'DAI001'): ('BNC', 'USD'),\n",
      " ('BNC', 'USDT'): ('BNC', 'USD'),\n",
      " ('CFG', 'DAI'): ('CFG', 'USD'),\n",
      " ('CFG', 'DAI001'): ('CFG', 'USD'),\n",
      " ('CFG', 'USDT'): ('CFG', 'USD'),\n",
      " ('DOT', 'DAI'): ('DOT', 'USD'),\n",
      " ('DOT', 'DAI001'): ('DOT', 'USD'),\n",
      " ('DOT', 'USDT'): ('DOT', 'USD'),\n",
      " ('DOT', 'WBTC001'): ('DOT', 'XBT'),\n",
      " ('DOT', 'WETH'): ('DOT', 'ETH'),\n",
      " ('DOT', 'WETH001'): ('DOT', 'ETH'),\n",
      " ('DOT', 'iBTC'): ('DOT', 'XBT'),\n",
      " ('GLMR', 'DAI'): ('GLMR', 'USD'),\n",
      " ('GLMR', 'DAI001'): ('GLMR', 'USD'),\n",
      " ('GLMR', 'USDT'): ('GLMR', 'USD'),\n",
      " ('HDX', 'DAI'): ('HDX', 'USD'),\n",
      " ('HDX', 'DAI001'): ('HDX', 'USD'),\n",
      " ('HDX', 'USDT'): ('HDX', 'USD'),\n",
      " ('WBTC001', 'DAI'): ('XXBT', 'ZUSD'),\n",
      " ('WBTC001', 'DAI001'): ('XXBT', 'ZUSD'),\n",
      " ('WBTC001', 'USDT'): ('XXBT', 'ZUSD'),\n",
      " ('WETH', 'DAI'): ('XETH', 'ZUSD'),\n",
      " ('WETH', 'DAI001'): ('XETH', 'ZUSD'),\n",
      " ('WETH', 'USDT'): ('XETH', 'ZUSD'),\n",
      " ('WETH', 'WBTC001'): ('XETH', 'XXBT'),\n",
      " ('WETH', 'iBTC'): ('XETH', 'XXBT'),\n",
      " ('WETH001', 'DAI'): ('XETH', 'ZUSD'),\n",
      " ('WETH001', 'DAI001'): ('XETH', 'ZUSD'),\n",
      " ('WETH001', 'USDT'): ('XETH', 'ZUSD'),\n",
      " ('WETH001', 'WBTC001'): ('XETH', 'XXBT'),\n",
      " ('WETH001', 'iBTC'): ('XETH', 'XXBT'),\n",
      " ('iBTC', 'DAI'): ('XXBT', 'ZUSD'),\n",
      " ('iBTC', 'DAI001'): ('XXBT', 'ZUSD'),\n",
      " ('iBTC', 'USDT'): ('XXBT', 'ZUSD')}\n"
     ]
    }
   ],
   "source": [
    "order_book_map = {}\n",
    "for i in range(len(arb_list)):\n",
    "    base_id, quote_id = arb_list[i]['tkn_ids']\n",
    "    orderbook_tkn_pair = arb_list[i]['order_book']\n",
    "    if base_id in asset_map and quote_id in asset_map:\n",
    "        tkn_pair = (asset_map[base_id], asset_map[quote_id])\n",
    "        order_book_map[tkn_pair] = orderbook_tkn_pair \n",
    "    \n",
    "pprint(order_book_map)"
   ],
   "metadata": {
    "collapsed": false,
    "ExecuteTime": {
     "end_time": "2023-10-31T17:24:30.380558332Z",
     "start_time": "2023-10-31T17:24:30.325786660Z"
    }
   },
   "id": "5c34a29fa3c15b8"
  },
  {
   "cell_type": "code",
   "execution_count": 6,
   "outputs": [
    {
     "name": "stdout",
     "output_type": "stream",
     "text": [
      "('HDX', 'USDT')\n",
      "[{'dex': {'trade': 'sell', 'buy_asset': 'USDT', 'sell_asset': 'HDX', 'price': 0.0044, 'amount': 48689.65377148439, 'min_buy': 214.70969980198146}, 'cex': {'trade': 'buy', 'buy_asset': 'HDX', 'sell_asset': 'USD', 'price': 0.00440044, 'amount': 48689.65377148439}}]\n",
      "('HDX', 'DAI')\n",
      "[{'dex': {'trade': 'sell', 'buy_asset': 'DAI', 'sell_asset': 'HDX', 'price': 0.0044, 'amount': 6680.943938049318, 'min_buy': 29.450404970526694}, 'cex': {'trade': 'buy', 'buy_asset': 'HDX', 'sell_asset': 'USD', 'price': 0.00440044, 'amount': 6680.943938049318}}]\n",
      "('WETH', 'USDT')\n",
      "[{'dex': {'trade': 'buy', 'buy_asset': 'WETH', 'sell_asset': 'USDT', 'price': 1801.89, 'amount': 0.3639261703491211, 'max_sell': 438.92361187890765}, 'cex': {'trade': 'sell', 'buy_asset': 'ZUSD', 'sell_asset': 'XETH', 'price': 1801.7098110000002, 'amount': 0.3639261703491211}}]\n",
      "('WETH', 'DAI')\n",
      "[{'dex': {'trade': 'buy', 'buy_asset': 'WETH', 'sell_asset': 'DAI', 'price': 1801.89, 'amount': 0.02762790298461914, 'max_sell': 20.229677818644046}, 'cex': {'trade': 'sell', 'buy_asset': 'ZUSD', 'sell_asset': 'XETH', 'price': 1801.7098110000002, 'amount': 0.02762790298461914}}]\n",
      "('WETH', 'DAI001')\n",
      "[{'dex': {'trade': 'buy', 'buy_asset': 'WETH', 'sell_asset': 'DAI001', 'price': 1801.89, 'amount': 0.14311465454101563, 'max_sell': 257.23724504288435}, 'cex': {'trade': 'sell', 'buy_asset': 'ZUSD', 'sell_asset': 'XETH', 'price': 1801.7098110000002, 'amount': 0.14311465454101563}}]\n",
      "('iBTC', 'USDT')\n",
      "[{'dex': {'trade': 'sell', 'buy_asset': 'USDT', 'sell_asset': 'iBTC', 'price': 34411.6, 'amount': 0.004, 'min_buy': -299.9552798401594}, 'cex': {'trade': 'buy', 'buy_asset': 'XXBT', 'sell_asset': 'ZUSD', 'price': 34415.04116, 'amount': 0.004}}, {'dex': {'trade': 'sell', 'buy_asset': 'USDT', 'sell_asset': 'iBTC', 'price': 34415.0, 'amount': 0.06352091217041016, 'min_buy': 1897.4101012781025}, 'cex': {'trade': 'buy', 'buy_asset': 'XXBT', 'sell_asset': 'ZUSD', 'price': 34418.4415, 'amount': 0.06352091217041016}}]\n",
      "('iBTC', 'DAI')\n",
      "[{'dex': {'trade': 'sell', 'buy_asset': 'DAI', 'sell_asset': 'iBTC', 'price': 34411.6, 'amount': 0.004, 'min_buy': 117.85728600683213}, 'cex': {'trade': 'buy', 'buy_asset': 'XXBT', 'sell_asset': 'ZUSD', 'price': 34415.04116, 'amount': 0.004}}, {'dex': {'trade': 'sell', 'buy_asset': 'DAI', 'sell_asset': 'iBTC', 'price': 34415.0, 'amount': 0.0028337478637695326, 'min_buy': 215.58567494652272}, 'cex': {'trade': 'buy', 'buy_asset': 'XXBT', 'sell_asset': 'ZUSD', 'price': 34418.4415, 'amount': 0.0028337478637695326}}]\n",
      "('iBTC', 'DAI001')\n",
      "[{'dex': {'trade': 'sell', 'buy_asset': 'DAI001', 'sell_asset': 'iBTC', 'price': 34411.6, 'amount': 0.003556228637695312, 'min_buy': -134.56685136008264}, 'cex': {'trade': 'buy', 'buy_asset': 'XXBT', 'sell_asset': 'ZUSD', 'price': 34415.04116, 'amount': 0.003556228637695312}}]\n",
      "('DOT', 'iBTC')\n",
      "[{'dex': {'trade': 'buy', 'buy_asset': 'DOT', 'sell_asset': 'iBTC', 'price': 0.00012839, 'amount': 172.75390625, 'max_sell': 0.10003267587423324}, 'cex': {'trade': 'sell', 'buy_asset': 'XBT', 'sell_asset': 'DOT', 'price': 0.000128377161, 'amount': 172.75390625}}]\n",
      "('WETH', 'WBTC001')\n",
      "[{'dex': {'trade': 'buy', 'buy_asset': 'WETH', 'sell_asset': 'WBTC001', 'price': 0.05235, 'amount': 0.09042908096313475, 'max_sell': 0.004723782801628113}, 'cex': {'trade': 'sell', 'buy_asset': 'XXBT', 'sell_asset': 'XETH', 'price': 0.052344765, 'amount': 0.09042908096313475}}]\n",
      "('WETH', 'iBTC')\n",
      "[{'dex': {'trade': 'buy', 'buy_asset': 'WETH', 'sell_asset': 'iBTC', 'price': 0.05235, 'amount': 0.24358964538574215, 'max_sell': 0.11274666420221328}, 'cex': {'trade': 'sell', 'buy_asset': 'XXBT', 'sell_asset': 'XETH', 'price': 0.052344765, 'amount': 0.24358964538574215}}]\n",
      "('WETH001', 'iBTC')\n",
      "[{'dex': {'trade': 'buy', 'buy_asset': 'WETH001', 'sell_asset': 'iBTC', 'price': 0.05235, 'amount': 0.15258547401428219, 'max_sell': 0.12071731745004653}, 'cex': {'trade': 'sell', 'buy_asset': 'XXBT', 'sell_asset': 'XETH', 'price': 0.052344765, 'amount': 0.15258547401428219}}]\n"
     ]
    }
   ],
   "source": [
    "all_swaps = get_arb_swaps(op_state, cex, order_book_map, buffer=buffer)\n",
    "for tkn_pair in all_swaps:\n",
    "    if all_swaps[tkn_pair] != []:\n",
    "        print(tkn_pair)\n",
    "        print(all_swaps[tkn_pair])"
   ],
   "metadata": {
    "collapsed": false,
    "ExecuteTime": {
     "end_time": "2023-10-31T17:24:30.507312377Z",
     "start_time": "2023-10-31T17:24:30.339955495Z"
    }
   },
   "id": "ef086a726e0e13be"
  },
  {
   "cell_type": "code",
   "execution_count": 7,
   "outputs": [
    {
     "name": "stdout",
     "output_type": "stream",
     "text": [
      "{'HDX': 0.0, 'USD': 10.899422883987427, 'BTC': 5.9723854064941406e-05, 'ETH': 0.0, 'DOT': 0.0, 'ASTR': 0, 'ZTG': 0, 'CFG': 0, 'BNC': 0, 'vDOT': 0, 'GLMR': 0}\n"
     ]
    }
   ],
   "source": [
    "state = init_state.copy()\n",
    "holdings = {asset: 1000000000 for asset in asset_list + order_book_asset_list}\n",
    "init_agent = Agent(holdings=holdings, unique_id='bot')\n",
    "agent = init_agent.copy()\n",
    "execute_arb(state, cex, agent, all_swaps)\n",
    "\n",
    "asset_map = {'WETH': 'ETH',\n",
    "             'XETH': 'ETH',\n",
    "             'XXBT': 'BTC',\n",
    "             'WBTC': 'BTC',\n",
    "             'ZUSD': 'USD',\n",
    "             'USDT': 'USD',\n",
    "             'USDC': 'USD',\n",
    "             'DAI': 'USD',\n",
    "             'USDT001': 'USD',\n",
    "             'DAI001': 'USD',\n",
    "             'WETH001': 'ETH',\n",
    "             'WBTC001': 'BTC',\n",
    "             'iBTC': 'BTC',\n",
    "             'XBT': 'BTC',}\n",
    "\n",
    "profit = calculate_profit(init_agent, agent, asset_map)\n",
    "\n",
    "print(profit)\n",
    "            "
   ],
   "metadata": {
    "collapsed": false,
    "ExecuteTime": {
     "end_time": "2023-10-31T17:24:30.569629362Z",
     "start_time": "2023-10-31T17:24:30.501866757Z"
    }
   },
   "id": "8d4817129c26f839"
  },
  {
   "cell_type": "code",
   "execution_count": 7,
   "outputs": [],
   "source": [],
   "metadata": {
    "collapsed": false,
    "ExecuteTime": {
     "end_time": "2023-10-31T17:24:30.569868606Z",
     "start_time": "2023-10-31T17:24:30.546738613Z"
    }
   },
   "id": "fc18dce1b93bab0c"
  }
 ],
 "metadata": {
  "kernelspec": {
   "display_name": "Python 3",
   "language": "python",
   "name": "python3"
  },
  "language_info": {
   "codemirror_mode": {
    "name": "ipython",
    "version": 2
   },
   "file_extension": ".py",
   "mimetype": "text/x-python",
   "name": "python",
   "nbconvert_exporter": "python",
   "pygments_lexer": "ipython2",
   "version": "2.7.6"
  }
 },
 "nbformat": 4,
 "nbformat_minor": 5
}
