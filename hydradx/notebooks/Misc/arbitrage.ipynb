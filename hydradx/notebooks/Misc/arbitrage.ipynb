{
 "cells": [
  {
   "cell_type": "code",
   "execution_count": 1,
   "id": "initial_id",
   "metadata": {
    "collapsed": true,
    "ExecuteTime": {
     "end_time": "2023-10-27T20:34:09.620458441Z",
     "start_time": "2023-10-27T20:34:09.460669301Z"
    }
   },
   "outputs": [],
   "source": [
    "from hydradx.model.amm.omnipool_amm import OmnipoolState\n",
    "from hydradx.model.amm.agents import Agent\n",
    "from hydradx.model.processing import parse_kraken_orderbook, get_unique_name\n",
    "from hydradx.model.amm.arbitrage_agent import get_arb_swaps, calculate_profit, execute_arb\n",
    "from hydradx.model.amm.centralized_market import CentralizedMarket, OrderBook\n",
    "from hydradxapi import HydraDX\n",
    "from pprint import pprint\n",
    "import requests\n",
    "\n",
    "import json, os\n"
   ]
  },
  {
   "cell_type": "code",
   "execution_count": 2,
   "outputs": [],
   "source": [
    "with open('config/arbconfig.txt', 'r') as json_file:\n",
    "    arb_list = json.load(json_file)\n",
    "    \n",
    "for d in arb_list:\n",
    "    d['tkns'] = tuple(d['tkns'])\n",
    "    d['tkn_ids'] = tuple(d['tkn_ids'])\n",
    "    d['order_book'] = tuple(d['order_book'])\n",
    "\n",
    "order_books = {}\n",
    "for arb_cfg in arb_list:\n",
    "    tkn_pair = arb_cfg['order_book']\n",
    "    if tkn_pair not in order_books:\n",
    "        resp = requests.get('https://api.kraken.com/0/public/Depth?pair=' + tkn_pair[0] + tkn_pair[1])\n",
    "        y = resp.json()\n",
    "        order_books[tkn_pair] = y['result'][tkn_pair[0] + tkn_pair[1]]\n",
    "    \n"
   ],
   "metadata": {
    "collapsed": false,
    "ExecuteTime": {
     "end_time": "2023-10-27T20:34:12.597366729Z",
     "start_time": "2023-10-27T20:34:09.623226749Z"
    }
   },
   "id": "30c3ae5c6fb4044d"
  },
  {
   "cell_type": "code",
   "execution_count": 3,
   "outputs": [
    {
     "name": "stdout",
     "output_type": "stream",
     "text": [
      "{'ASTR': {'LRNA': 9082.738326360857, 'liquidity': 4613307.689932842},\n",
      " 'BNC': {'LRNA': 6960.530069554551, 'liquidity': 723868.8934341213},\n",
      " 'CFG': {'LRNA': 8851.608850641, 'liquidity': 602207.3975931228},\n",
      " 'DAI': {'LRNA': 13110.676857870463, 'liquidity': 332743.9021445043},\n",
      " 'DAI001': {'LRNA': 31824.663044315806, 'liquidity': 799910.0687595578},\n",
      " 'DOT': {'LRNA': 70109.9798847654, 'liquidity': 429253.0549350427},\n",
      " 'GLMR': {'LRNA': 5249.607197601644, 'liquidity': 677608.617803954},\n",
      " 'HDX': {'LRNA': 19546.514674768685, 'liquidity': 117711721.7149292},\n",
      " 'USDT': {'LRNA': 85405.85683167279, 'liquidity': 2150035.105705},\n",
      " 'WBTC': {'LRNA': 50.601798806111, 'liquidity': 0.04374934},\n",
      " 'WBTC001': {'LRNA': 41825.898662570326, 'liquidity': 31.07199565},\n",
      " 'WETH': {'LRNA': 21611.81073019557, 'liquidity': 308.36181823539135},\n",
      " 'WETH001': {'LRNA': 71425.47037215637, 'liquidity': 1019.4586640314313},\n",
      " 'ZTG': {'LRNA': 4538.957735895216, 'liquidity': 3133789.308258377},\n",
      " 'iBTC': {'LRNA': 34924.270818218494, 'liquidity': 25.90333816},\n",
      " 'vDOT': {'LRNA': 20822.286362344537, 'liquidity': 105589.0854945154}}\n"
     ]
    }
   ],
   "source": [
    "RPC=\"wss://hydradx-rpc.dwellir.com\"\n",
    "N = 24\n",
    "metadata = []\n",
    "with HydraDX(RPC) as chain:\n",
    "    for i in range(N):\n",
    "        try:\n",
    "            md = chain.api.registry.asset_metadata(i)\n",
    "            metadata.append({'symbol': md.symbol, 'id': md.asset_id, 'decimals': md.decimals},)\n",
    "        except:\n",
    "            continue\n",
    "\n",
    "    asset_list = []\n",
    "    fees = {}\n",
    "    tokens = {}\n",
    "    asset_map = {}\n",
    "    \n",
    "    for i in range(len(metadata)):\n",
    "        try:\n",
    "            state = chain.api.omnipool.asset_state(metadata[i]['id'])\n",
    "        except:\n",
    "            continue\n",
    "            \n",
    "        fee = chain.api.fees.asset_fees(metadata[i]['id'])\n",
    "    \n",
    "        tkn = get_unique_name(asset_list, metadata[i]['symbol'])\n",
    "        asset_list.append(tkn)\n",
    "        asset_map[i] = tkn\n",
    "        tokens[tkn] = {\n",
    "            'liquidity': state.reserve / 10**metadata[i]['decimals'],\n",
    "            'LRNA': state.hub_reserve / 10**12\n",
    "        }\n",
    "        fees[tkn] = {\"asset_fee\": fee.asset_fee / 100, \"protocol_fee\": fee.protocol_fee / 100}\n",
    "            \n",
    "\n",
    "pprint(tokens)\n"
   ],
   "metadata": {
    "collapsed": false,
    "ExecuteTime": {
     "end_time": "2023-10-27T20:35:06.105867726Z",
     "start_time": "2023-10-27T20:34:12.629107628Z"
    }
   },
   "id": "a026335ac28fa9d4"
  },
  {
   "cell_type": "code",
   "execution_count": 4,
   "outputs": [],
   "source": [
    "\n",
    "ob_objs = {}\n",
    "for tkn_pair in order_books:\n",
    "    ob = parse_kraken_orderbook(order_books[tkn_pair])\n",
    "    ob_obj = OrderBook(\n",
    "        bids=[[bid['price'], bid['amount']] for bid in ob['bids']],\n",
    "        asks=[[ask['price'], ask['amount']] for ask in ob['asks']]\n",
    "    )\n",
    "    ob_objs[tkn_pair] = ob_obj\n",
    "    \n",
    "order_book_asset_list = []\n",
    "for tkn_pair in order_books:\n",
    "    for tkn in tkn_pair:\n",
    "        if tkn not in order_book_asset_list:\n",
    "            order_book_asset_list.append(tkn)\n",
    "\n",
    "cex_fee = 0.0016\n",
    "buffer = 0.0002\n",
    "\n",
    "lrna_fee={asset: fees[asset]['protocol_fee'] for asset in asset_list}\n",
    "asset_fee={asset: fees[asset]['asset_fee'] for asset in asset_list}\n",
    "\n",
    "# lrna_fee = 0.0005\n",
    "# asset_fee = 0.0025\n",
    "\n",
    "\n",
    "cex = CentralizedMarket(\n",
    "    order_book=ob_objs,\n",
    "    asset_list=order_book_asset_list,\n",
    "    trade_fee=cex_fee\n",
    ")\n",
    "\n",
    "op_state = OmnipoolState(\n",
    "    tokens=tokens,\n",
    "    lrna_fee = lrna_fee,\n",
    "    asset_fee = asset_fee,\n",
    "    preferred_stablecoin='USDT',\n",
    ")\n",
    "\n",
    "init_state = op_state.copy()\n"
   ],
   "metadata": {
    "collapsed": false,
    "ExecuteTime": {
     "end_time": "2023-10-27T20:35:06.133025972Z",
     "start_time": "2023-10-27T20:35:06.113648921Z"
    }
   },
   "id": "68064af1cadd64fc"
  },
  {
   "cell_type": "code",
   "execution_count": 5,
   "outputs": [
    {
     "name": "stdout",
     "output_type": "stream",
     "text": [
      "{('ASTR', 'DAI'): ('ASTR', 'USD'),\n",
      " ('ASTR', 'DAI001'): ('ASTR', 'USD'),\n",
      " ('ASTR', 'USDT'): ('ASTR', 'USD'),\n",
      " ('BNC', 'DAI'): ('BNC', 'USD'),\n",
      " ('BNC', 'DAI001'): ('BNC', 'USD'),\n",
      " ('BNC', 'USDT'): ('BNC', 'USD'),\n",
      " ('CFG', 'DAI'): ('CFG', 'USD'),\n",
      " ('CFG', 'DAI001'): ('CFG', 'USD'),\n",
      " ('CFG', 'USDT'): ('CFG', 'USD'),\n",
      " ('DOT', 'DAI'): ('DOT', 'USD'),\n",
      " ('DOT', 'DAI001'): ('DOT', 'USD'),\n",
      " ('DOT', 'USDT'): ('DOT', 'USD'),\n",
      " ('DOT', 'WBTC001'): ('DOT', 'XBT'),\n",
      " ('DOT', 'WETH'): ('DOT', 'ETH'),\n",
      " ('DOT', 'WETH001'): ('DOT', 'ETH'),\n",
      " ('DOT', 'iBTC'): ('DOT', 'XBT'),\n",
      " ('GLMR', 'DAI'): ('GLMR', 'USD'),\n",
      " ('GLMR', 'DAI001'): ('GLMR', 'USD'),\n",
      " ('GLMR', 'USDT'): ('GLMR', 'USD'),\n",
      " ('HDX', 'DAI'): ('HDX', 'USD'),\n",
      " ('HDX', 'DAI001'): ('HDX', 'USD'),\n",
      " ('HDX', 'USDT'): ('HDX', 'USD'),\n",
      " ('WBTC001', 'DAI'): ('XXBT', 'ZUSD'),\n",
      " ('WBTC001', 'DAI001'): ('XXBT', 'ZUSD'),\n",
      " ('WBTC001', 'USDT'): ('XXBT', 'ZUSD'),\n",
      " ('WETH', 'DAI'): ('XETH', 'ZUSD'),\n",
      " ('WETH', 'DAI001'): ('XETH', 'ZUSD'),\n",
      " ('WETH', 'USDT'): ('XETH', 'ZUSD'),\n",
      " ('WETH', 'WBTC001'): ('XETH', 'XXBT'),\n",
      " ('WETH', 'iBTC'): ('XETH', 'XXBT'),\n",
      " ('WETH001', 'DAI'): ('XETH', 'ZUSD'),\n",
      " ('WETH001', 'DAI001'): ('XETH', 'ZUSD'),\n",
      " ('WETH001', 'USDT'): ('XETH', 'ZUSD'),\n",
      " ('WETH001', 'WBTC001'): ('XETH', 'XXBT'),\n",
      " ('WETH001', 'iBTC'): ('XETH', 'XXBT'),\n",
      " ('iBTC', 'DAI'): ('XXBT', 'ZUSD'),\n",
      " ('iBTC', 'DAI001'): ('XXBT', 'ZUSD'),\n",
      " ('iBTC', 'USDT'): ('XXBT', 'ZUSD')}\n"
     ]
    }
   ],
   "source": [
    "order_book_map = {}\n",
    "for i in range(len(arb_list)):\n",
    "    base_id, quote_id = arb_list[i]['tkn_ids']\n",
    "    orderbook_tkn_pair = arb_list[i]['order_book']\n",
    "    if base_id in asset_map and quote_id in asset_map:\n",
    "        tkn_pair = (asset_map[base_id], asset_map[quote_id])\n",
    "        order_book_map[tkn_pair] = orderbook_tkn_pair \n",
    "    \n",
    "pprint(order_book_map)"
   ],
   "metadata": {
    "collapsed": false,
    "ExecuteTime": {
     "end_time": "2023-10-27T20:35:06.157214950Z",
     "start_time": "2023-10-27T20:35:06.117237506Z"
    }
   },
   "id": "5c34a29fa3c15b8"
  },
  {
   "cell_type": "code",
   "execution_count": 6,
   "outputs": [
    {
     "name": "stdout",
     "output_type": "stream",
     "text": [
      "('DOT', 'DAI001')\n",
      "[{'dex': {'trade': 'buy', 'buy_asset': 'DOT', 'sell_asset': 'DAI001', 'price': 4.1282, 'amount': 50.54401397705078, 'max_sell': 208.2223218772769}, 'cex': {'trade': 'sell', 'buy_asset': 'USD', 'sell_asset': 'DOT', 'price': 4.1277871799999994, 'amount': 50.54401397705078}}]\n",
      "('WETH', 'USDT')\n",
      "[{'dex': {'trade': 'buy', 'buy_asset': 'WETH', 'sell_asset': 'USDT', 'price': 1779.66, 'amount': 0.4696312236785889, 'max_sell': 832.769665953803}, 'cex': {'trade': 'sell', 'buy_asset': 'ZUSD', 'sell_asset': 'XETH', 'price': 1779.482034, 'amount': 0.4696312236785889}}]\n",
      "('WETH', 'DAI001')\n",
      "[{'dex': {'trade': 'buy', 'buy_asset': 'WETH', 'sell_asset': 'DAI001', 'price': 1779.66, 'amount': 0.166425256729126, 'max_sell': 503.63024120613335}, 'cex': {'trade': 'sell', 'buy_asset': 'ZUSD', 'sell_asset': 'XETH', 'price': 1779.482034, 'amount': 0.166425256729126}}]\n",
      "('WETH001', 'USDT')\n",
      "[{'dex': {'trade': 'buy', 'buy_asset': 'WETH001', 'sell_asset': 'USDT', 'price': 1779.66, 'amount': 0.9383322429656984, 'max_sell': 2497.0208556018115}, 'cex': {'trade': 'sell', 'buy_asset': 'ZUSD', 'sell_asset': 'XETH', 'price': 1779.482034, 'amount': 0.9383322429656984}}]\n",
      "('WETH001', 'DAI001')\n",
      "[{'dex': {'trade': 'buy', 'buy_asset': 'WETH001', 'sell_asset': 'DAI001', 'price': 1779.66, 'amount': 0.4110232639312744, 'max_sell': 1232.9091626111149}, 'cex': {'trade': 'sell', 'buy_asset': 'ZUSD', 'sell_asset': 'XETH', 'price': 1779.482034, 'amount': 0.4110232639312744}}]\n",
      "('WBTC001', 'USDT')\n",
      "[{'dex': {'trade': 'sell', 'buy_asset': 'USDT', 'sell_asset': 'WBTC001', 'price': 33780.2, 'amount': 0.007075176239013672, 'min_buy': -2257.0331917975545}, 'cex': {'trade': 'buy', 'buy_asset': 'XXBT', 'sell_asset': 'ZUSD', 'price': 33783.57801999999, 'amount': 0.007075176239013672}}]\n",
      "('WBTC001', 'DAI')\n",
      "[{'dex': {'trade': 'sell', 'buy_asset': 'DAI', 'sell_asset': 'WBTC001', 'price': 33780.2, 'amount': 0.022403621673583986, 'min_buy': 760.3696273488164}, 'cex': {'trade': 'buy', 'buy_asset': 'XXBT', 'sell_asset': 'ZUSD', 'price': 33783.57801999999, 'amount': 0.022403621673583986}}]\n",
      "('iBTC', 'USDT')\n",
      "[{'dex': {'trade': 'sell', 'buy_asset': 'USDT', 'sell_asset': 'iBTC', 'price': 33780.2, 'amount': 0.01892096710205078, 'min_buy': -1616.1341436904193}, 'cex': {'trade': 'buy', 'buy_asset': 'XXBT', 'sell_asset': 'ZUSD', 'price': 33783.57801999999, 'amount': 0.01892096710205078}}]\n",
      "('iBTC', 'DAI')\n",
      "[{'dex': {'trade': 'sell', 'buy_asset': 'DAI', 'sell_asset': 'iBTC', 'price': 33780.2, 'amount': 0.007236667633056641, 'min_buy': 1005.4906816395879}, 'cex': {'trade': 'buy', 'buy_asset': 'XXBT', 'sell_asset': 'ZUSD', 'price': 33783.57801999999, 'amount': 0.007236667633056641}}]\n",
      "('DOT', 'WBTC001')\n",
      "[{'dex': {'trade': 'buy', 'buy_asset': 'DOT', 'sell_asset': 'WBTC001', 'price': 0.00012221, 'amount': 16.0, 'max_sell': 0.031433506691455844}, 'cex': {'trade': 'sell', 'buy_asset': 'XBT', 'sell_asset': 'DOT', 'price': 0.000122197779, 'amount': 16.0}}]\n",
      "('DOT', 'iBTC')\n",
      "[{'dex': {'trade': 'buy', 'buy_asset': 'DOT', 'sell_asset': 'iBTC', 'price': 0.00012221, 'amount': 16.0, 'max_sell': 0.02810938090085983}, 'cex': {'trade': 'sell', 'buy_asset': 'XBT', 'sell_asset': 'DOT', 'price': 0.000122197779, 'amount': 16.0}}, {'dex': {'trade': 'buy', 'buy_asset': 'DOT', 'sell_asset': 'iBTC', 'price': 0.0001222, 'amount': 94.69289062499999, 'max_sell': 0.03965345149040222}, 'cex': {'trade': 'sell', 'buy_asset': 'XBT', 'sell_asset': 'DOT', 'price': 0.00012218778, 'amount': 94.69289062499999}}]\n",
      "('WETH', 'WBTC001')\n",
      "[{'dex': {'trade': 'buy', 'buy_asset': 'WETH', 'sell_asset': 'WBTC001', 'price': 0.0527, 'amount': 0.11538720703125, 'max_sell': 0.03750055487155914}, 'cex': {'trade': 'sell', 'buy_asset': 'XXBT', 'sell_asset': 'XETH', 'price': 0.052694729999999995, 'amount': 0.11538720703125}}]\n",
      "('WETH', 'iBTC')\n",
      "[{'dex': {'trade': 'buy', 'buy_asset': 'WETH', 'sell_asset': 'iBTC', 'price': 0.0527, 'amount': 0.09035154724121094, 'max_sell': 0.04440465517044068}, 'cex': {'trade': 'sell', 'buy_asset': 'XXBT', 'sell_asset': 'XETH', 'price': 0.052694729999999995, 'amount': 0.09035154724121094}}]\n",
      "('WETH001', 'WBTC001')\n",
      "[{'dex': {'trade': 'buy', 'buy_asset': 'WETH001', 'sell_asset': 'WBTC001', 'price': 0.0527, 'amount': 0.4813661041259766, 'max_sell': 0.06279285778999329}, 'cex': {'trade': 'sell', 'buy_asset': 'XXBT', 'sell_asset': 'XETH', 'price': 0.052694729999999995, 'amount': 0.4813661041259766}}]\n",
      "('WETH001', 'iBTC')\n",
      "[{'dex': {'trade': 'buy', 'buy_asset': 'WETH001', 'sell_asset': 'iBTC', 'price': 0.0527, 'amount': 0.3678795013427734, 'max_sell': 0.06373756666183472}, 'cex': {'trade': 'sell', 'buy_asset': 'XXBT', 'sell_asset': 'XETH', 'price': 0.052694729999999995, 'amount': 0.3678795013427734}}]\n",
      "('CFG', 'USDT')\n",
      "[{'dex': {'trade': 'sell', 'buy_asset': 'USDT', 'sell_asset': 'CFG', 'price': 0.3667, 'amount': 409.134, 'min_buy': -1465.0987886362552}, 'cex': {'trade': 'buy', 'buy_asset': 'CFG', 'sell_asset': 'USD', 'price': 0.36673667000000004, 'amount': 409.134}}, {'dex': {'trade': 'sell', 'buy_asset': 'USDT', 'sell_asset': 'CFG', 'price': 0.3668, 'amount': 294.33, 'min_buy': -1356.5842054937125}, 'cex': {'trade': 'buy', 'buy_asset': 'CFG', 'sell_asset': 'USD', 'price': 0.36683668, 'amount': 294.33}}, {'dex': {'trade': 'sell', 'buy_asset': 'USDT', 'sell_asset': 'CFG', 'price': 0.367, 'amount': 166.26, 'min_buy': -1295.338557075262}, 'cex': {'trade': 'buy', 'buy_asset': 'CFG', 'sell_asset': 'USD', 'price': 0.3670367, 'amount': 166.26}}, {'dex': {'trade': 'sell', 'buy_asset': 'USDT', 'sell_asset': 'CFG', 'price': 0.3673, 'amount': 249.76748571395876, 'min_buy': -1203.4010303128123}, 'cex': {'trade': 'buy', 'buy_asset': 'CFG', 'sell_asset': 'USD', 'price': 0.36733673, 'amount': 249.76748571395876}}]\n",
      "('CFG', 'DAI')\n",
      "[{'dex': {'trade': 'sell', 'buy_asset': 'DAI', 'sell_asset': 'CFG', 'price': 0.3667, 'amount': 409.134, 'min_buy': 1155.99242368809}, 'cex': {'trade': 'buy', 'buy_asset': 'CFG', 'sell_asset': 'USD', 'price': 0.36673667000000004, 'amount': 409.134}}, {'dex': {'trade': 'sell', 'buy_asset': 'DAI', 'sell_asset': 'CFG', 'price': 0.3668, 'amount': 7.296384830474853, 'min_buy': 1158.6733409342767}, 'cex': {'trade': 'buy', 'buy_asset': 'CFG', 'sell_asset': 'USD', 'price': 0.36683668, 'amount': 7.296384830474853}}]\n",
      "('CFG', 'DAI001')\n",
      "[{'dex': {'trade': 'sell', 'buy_asset': 'DAI001', 'sell_asset': 'CFG', 'price': 0.3667, 'amount': 153.66013871383666, 'min_buy': -1176.2013074342608}, 'cex': {'trade': 'buy', 'buy_asset': 'CFG', 'sell_asset': 'USD', 'price': 0.36673667000000004, 'amount': 153.66013871383666}}]\n",
      "('BNC', 'USDT')\n",
      "[{'dex': {'trade': 'sell', 'buy_asset': 'USDT', 'sell_asset': 'BNC', 'price': 0.237, 'amount': 209.343, 'min_buy': -1152.8509045660614}, 'cex': {'trade': 'buy', 'buy_asset': 'BNC', 'sell_asset': 'USD', 'price': 0.23702369999999998, 'amount': 209.343}}, {'dex': {'trade': 'sell', 'buy_asset': 'USDT', 'sell_asset': 'BNC', 'price': 0.238, 'amount': 532.418, 'min_buy': -1024.4300607246996}, 'cex': {'trade': 'buy', 'buy_asset': 'BNC', 'sell_asset': 'USD', 'price': 0.23802379999999998, 'amount': 532.418}}, {'dex': {'trade': 'sell', 'buy_asset': 'USDT', 'sell_asset': 'BNC', 'price': 0.24, 'amount': 849.257, 'min_buy': -820.0085085883499}, 'cex': {'trade': 'buy', 'buy_asset': 'BNC', 'sell_asset': 'USD', 'price': 0.240024, 'amount': 849.257}}]\n",
      "('BNC', 'DAI')\n",
      "[{'dex': {'trade': 'sell', 'buy_asset': 'DAI', 'sell_asset': 'BNC', 'price': 0.237, 'amount': 209.343, 'min_buy': 1208.996437174487}, 'cex': {'trade': 'buy', 'buy_asset': 'BNC', 'sell_asset': 'USD', 'price': 0.23702369999999998, 'amount': 209.343}}, {'dex': {'trade': 'sell', 'buy_asset': 'DAI', 'sell_asset': 'BNC', 'price': 0.238, 'amount': 532.418, 'min_buy': 1336.7826500282406}, 'cex': {'trade': 'buy', 'buy_asset': 'BNC', 'sell_asset': 'USD', 'price': 0.23802379999999998, 'amount': 532.418}}]\n",
      "('BNC', 'DAI001')\n",
      "[{'dex': {'trade': 'sell', 'buy_asset': 'DAI001', 'sell_asset': 'BNC', 'price': 0.237, 'amount': 209.343, 'min_buy': -1125.9645917391301}, 'cex': {'trade': 'buy', 'buy_asset': 'BNC', 'sell_asset': 'USD', 'price': 0.23702369999999998, 'amount': 209.343}}, {'dex': {'trade': 'sell', 'buy_asset': 'DAI001', 'sell_asset': 'BNC', 'price': 0.238, 'amount': 532.418, 'min_buy': -998.3572884142042}, 'cex': {'trade': 'buy', 'buy_asset': 'BNC', 'sell_asset': 'USD', 'price': 0.23802379999999998, 'amount': 532.418}}]\n"
     ]
    }
   ],
   "source": [
    "all_swaps = get_arb_swaps(op_state, cex, order_book_map, buffer=buffer)\n",
    "for tkn_pair in all_swaps:\n",
    "    if all_swaps[tkn_pair] != []:\n",
    "        print(tkn_pair)\n",
    "        print(all_swaps[tkn_pair])"
   ],
   "metadata": {
    "collapsed": false,
    "ExecuteTime": {
     "end_time": "2023-10-27T20:35:06.378425829Z",
     "start_time": "2023-10-27T20:35:06.133261623Z"
    }
   },
   "id": "ef086a726e0e13be"
  },
  {
   "cell_type": "code",
   "execution_count": 7,
   "outputs": [
    {
     "name": "stdout",
     "output_type": "stream",
     "text": [
      "{'HDX': 0, 'USD': 8.142181992530823, 'BTC': 8.487701416015625e-05, 'ETH': 0.0, 'DOT': 0.0, 'ASTR': 0, 'ZTG': 0, 'CFG': 0.0, 'BNC': 0.0, 'vDOT': 0, 'GLMR': 0}\n"
     ]
    }
   ],
   "source": [
    "state = init_state.copy()\n",
    "holdings = {asset: 1000000000 for asset in asset_list + order_book_asset_list}\n",
    "init_agent = Agent(holdings=holdings, unique_id='bot')\n",
    "agent = init_agent.copy()\n",
    "execute_arb(state, cex, agent, all_swaps)\n",
    "\n",
    "asset_map = {'WETH': 'ETH',\n",
    "             'XETH': 'ETH',\n",
    "             'XXBT': 'BTC',\n",
    "             'WBTC': 'BTC',\n",
    "             'ZUSD': 'USD',\n",
    "             'USDT': 'USD',\n",
    "             'USDC': 'USD',\n",
    "             'DAI': 'USD',\n",
    "             'USDT001': 'USD',\n",
    "             'DAI001': 'USD',\n",
    "             'WETH001': 'ETH',\n",
    "             'WBTC001': 'BTC',\n",
    "             'iBTC': 'BTC',\n",
    "             'XBT': 'BTC',}\n",
    "\n",
    "profit = calculate_profit(init_agent, agent, asset_map)\n",
    "\n",
    "print(profit)\n",
    "            "
   ],
   "metadata": {
    "collapsed": false,
    "ExecuteTime": {
     "end_time": "2023-10-27T20:35:06.429997974Z",
     "start_time": "2023-10-27T20:35:06.385862138Z"
    }
   },
   "id": "8d4817129c26f839"
  },
  {
   "cell_type": "code",
   "execution_count": 7,
   "outputs": [],
   "source": [],
   "metadata": {
    "collapsed": false,
    "ExecuteTime": {
     "end_time": "2023-10-27T20:35:06.430414507Z",
     "start_time": "2023-10-27T20:35:06.429321708Z"
    }
   },
   "id": "fc18dce1b93bab0c"
  }
 ],
 "metadata": {
  "kernelspec": {
   "display_name": "Python 3",
   "language": "python",
   "name": "python3"
  },
  "language_info": {
   "codemirror_mode": {
    "name": "ipython",
    "version": 2
   },
   "file_extension": ".py",
   "mimetype": "text/x-python",
   "name": "python",
   "nbconvert_exporter": "python",
   "pygments_lexer": "ipython2",
   "version": "2.7.6"
  }
 },
 "nbformat": 4,
 "nbformat_minor": 5
}
