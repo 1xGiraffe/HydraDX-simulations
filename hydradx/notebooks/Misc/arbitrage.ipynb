{
 "cells": [
  {
   "cell_type": "code",
   "execution_count": 57,
   "id": "initial_id",
   "metadata": {
    "collapsed": true,
    "ExecuteTime": {
     "end_time": "2023-10-23T18:19:52.544991964Z",
     "start_time": "2023-10-23T18:19:52.538043258Z"
    }
   },
   "outputs": [],
   "source": [
    "from hydradx.model.amm.omnipool_amm import OmnipoolState\n",
    "from hydradx.model.amm.agents import Agent\n",
    "from hydradx.model.processing import parse_kraken_orderbook\n",
    "from hydradx.model.amm.arbitrage_agent import get_arb_swaps, calculate_profit, execute_arb\n",
    "from hydradx.model.amm.centralized_market import CentralizedMarket, OrderBook\n",
    "from hydradxapi import HydraDX\n",
    "from pprint import pprint\n",
    "import requests\n",
    "\n",
    "\n",
    "\n",
    "import json, os\n"
   ]
  },
  {
   "cell_type": "code",
   "execution_count": 58,
   "outputs": [],
   "source": [
    "tkn_pairs = ['HDXUSD', 'DOTUSD', 'XETHZUSD', 'DOTETH', 'XXBTZUSD', 'DOTXBT', 'XETHXXBT', 'ASTRUSD', 'CFGUSD', 'BNCUSD', 'GLMRUSD']\n",
    "op_tkn_pairs = [('HDX','USDT'), ('DOT','USDT'), ('WETH','USDT'), ('DOT','WETH'), ('WBTC','USDT'), ('DOT','WBTC'), ('WETH','WBTC'), ('ASTR','USDT'), ('CFG','USDT'), ('BNC','USDT'), ('GLMR','USDT')]\n",
    "order_books = {}\n",
    "for tkn_pair in tkn_pairs:\n",
    "    resp = requests.get('https://api.kraken.com/0/public/Depth?pair=' + tkn_pair)\n",
    "    y = resp.json()\n",
    "    order_books[tkn_pair] = y['result'][tkn_pair]\n",
    "    \n",
    "\n",
    "# f = open('data/hdxusd_orderbook.json', 'r')\n",
    "# y = json.loads(f.read())\n",
    "# f = open('data/dotusd_orderbook.json', 'r')\n",
    "# z = json.loads(f.read())\n",
    "# hdxusd_orderbook = y['result']['HDXUSD']\n",
    "# dotusd_orderbook = z['result']['DOTUSD']\n",
    "\n",
    "# pprint(hdxusd_orderbook)\n",
    "\n"
   ],
   "metadata": {
    "collapsed": false,
    "ExecuteTime": {
     "end_time": "2023-10-23T18:19:55.567689205Z",
     "start_time": "2023-10-23T18:19:52.542987732Z"
    }
   },
   "id": "30c3ae5c6fb4044d"
  },
  {
   "cell_type": "code",
   "execution_count": 59,
   "outputs": [
    {
     "name": "stdout",
     "output_type": "stream",
     "text": [
      "{'asset_fee': 2500, 'protocol_fee': 500, 'timestamp': 3675543}\n",
      "{'asset_fee': 2500, 'protocol_fee': 500, 'timestamp': 3675894}\n",
      "{'asset_fee': 3128, 'protocol_fee': 500, 'timestamp': 3675902}\n",
      "{'asset_fee': 2500, 'protocol_fee': 1000, 'timestamp': 3675899}\n",
      "{'asset_fee': 2500, 'protocol_fee': 500, 'timestamp': 3570908}\n",
      "{'asset_fee': 2500, 'protocol_fee': 500, 'timestamp': 3675819}\n",
      "{'asset_fee': 2500, 'protocol_fee': 500, 'timestamp': 3675876}\n",
      "{'asset_fee': 2500, 'protocol_fee': 632, 'timestamp': 3675547}\n",
      "{'asset_fee': 2500, 'protocol_fee': 500, 'timestamp': 3675720}\n",
      "{'asset_fee': 2500, 'protocol_fee': 500, 'timestamp': 3675603}\n",
      "{'asset_fee': 2500, 'protocol_fee': 500, 'timestamp': 3661023}\n",
      "{'ASTR': {'asset_fee': 0.0025, 'protocol_fee': 0.0005},\n",
      " 'BNC': {'asset_fee': 0.0025, 'protocol_fee': 0.0005},\n",
      " 'CFG': {'asset_fee': 0.0025, 'protocol_fee': 0.0006320000000000001},\n",
      " 'DOT': {'asset_fee': 0.0025, 'protocol_fee': 0.0005},\n",
      " 'GLMR': {'asset_fee': 0.0025, 'protocol_fee': 0.0005},\n",
      " 'HDX': {'asset_fee': 0.0025, 'protocol_fee': 0.0005},\n",
      " 'IBTC': {'asset_fee': 0.0025, 'protocol_fee': 0.0005},\n",
      " 'USDT': {'asset_fee': 0.003128, 'protocol_fee': 0.0005},\n",
      " 'WBTC': {'asset_fee': 0.0025, 'protocol_fee': 0.0005},\n",
      " 'WETH': {'asset_fee': 0.0025, 'protocol_fee': 0.001},\n",
      " 'ZTG': {'asset_fee': 0.0025, 'protocol_fee': 0.0005}}\n",
      "{'ASTR': {'LRNA': 8642.707214711143, 'liquidity': 4830115.881433145},\n",
      " 'BNC': {'LRNA': 6877.218910584976, 'liquidity': 729516.1674976709},\n",
      " 'CFG': {'LRNA': 8373.107500274855, 'liquidity': 608119.1865857167},\n",
      " 'DOT': {'LRNA': 65154.05267194146, 'liquidity': 382453.073489184},\n",
      " 'GLMR': {'LRNA': 5101.928533000058, 'liquidity': 697192.7842881122},\n",
      " 'HDX': {'LRNA': 20270.93082233077, 'liquidity': 113523331.07041067},\n",
      " 'IBTC': {'LRNA': 33846.69594879447, 'liquidity': 26.73757274},\n",
      " 'USDT': {'LRNA': 86617.7421689662, 'liquidity': 2120382.341006},\n",
      " 'WBTC': {'LRNA': 116.802089087576, 'liquidity': 0.10098466},\n",
      " 'WETH': {'LRNA': 21131.1963318093, 'liquidity': 318.6398390908558},\n",
      " 'ZTG': {'LRNA': 4234.710486891801, 'liquidity': 3356788.9911448443}}\n"
     ]
    }
   ],
   "source": [
    "RPC=\"wss://hydradx-rpc.dwellir.com\"\n",
    "\n",
    "chain = HydraDX(RPC) \n",
    "chain.connect()\n",
    "\n",
    "# Omnipool metadata\n",
    "metadata = [\n",
    "    {'symbol': 'HDX', 'id': 0, 'decimals': 12},\n",
    "    {'symbol': 'LRNA', 'id': 1, 'decimals': 12},\n",
    "    {'symbol': 'DAI', 'id': 2, 'decimals': 18},\n",
    "    {'symbol': 'WBTC', 'id': 3, 'decimals': 8},\n",
    "    {'symbol': 'WETH', 'id': 4, 'decimals': 18},\n",
    "    {'symbol': 'DOT', 'id': 5, 'decimals': 10},\n",
    "    {'symbol': 'APE', 'id': 6, 'decimals': 18},\n",
    "    {'symbol': 'USDC', 'id': 7, 'decimals': 6},\n",
    "    {'symbol': 'PHA', 'id': 8, 'decimals': 12},\n",
    "    {'symbol': 'ASTR', 'id': 9, 'decimals': 18},\n",
    "    {'symbol': 'USDT', 'id': 10, 'decimals': 6},\n",
    "    {'symbol': 'IBTC', 'id': 11, 'decimals': 8},\n",
    "    {'symbol': 'ZTG', 'id': 12, 'decimals': 10},\n",
    "    {'symbol': 'CFG', 'id': 13, 'decimals': 18},\n",
    "    {'symbol': 'BNC', 'id': 14, 'decimals': 12},\n",
    "    {'symbol': 'vDOT', 'id': 15, 'decimals': 10},\n",
    "    {'symbol': 'GLMR', 'id': 16, 'decimals': 18},\n",
    "    {'symbol': 'INTR', 'id': 17, 'decimals': 10},\n",
    "    {'symbol': 'DAI', 'id': 18, 'decimals': 18},\n",
    "    {'symbol': 'WBTC', 'id': 19, 'decimals': 8},\n",
    "    {'symbol': 'WETH', 'id': 20, 'decimals': 18},\n",
    "    {'symbol': 'USDC', 'id': 21, 'decimals': 6},\n",
    "    {'symbol': 'USDC', 'id': 22, 'decimals': 6},\n",
    "    {'symbol': 'USDT', 'id': 23, 'decimals': 6},\n",
    "    ]\n",
    "\n",
    "#Asset: 0\n",
    "#\tReserve: 0\n",
    "#\tLRNA: 20220634396578953\n",
    "#\tShares: 40600077930826935893\n",
    "#\tProtocol: 3694884494247885459\n",
    "\n",
    "tokens = {}\n",
    "\n",
    "asset_list = ['USDT','DOT','HDX','WETH','WBTC','IBTC','ASTR','CFG','BNC','GLMR','ZTG']\n",
    "# id_list = [i for i in range(len(metadata)) if metadata[i]['symbol'] in asset_list]\n",
    "id_list = [0,5,10,4,3,11,9,13,14,16,12]\n",
    "\n",
    "for i in id_list:\n",
    "    try:\n",
    "        state = chain.api.omnipool.asset_state(i)\n",
    "    except:\n",
    "        continue\n",
    "    tokens[metadata[i]['symbol']] = {\n",
    "        'liquidity': state.reserve / 10**metadata[i]['decimals'],\n",
    "        'LRNA': state.hub_reserve / 10**12\n",
    "    }\n",
    "    \n",
    "# fees = {{'asset_fee': chain.api.fees.asset_fees(i)} for i in id_list}\n",
    "fees = {}\n",
    "for i in id_list:\n",
    "    fee = chain.api.fees.asset_fees(i)\n",
    "    fees[metadata[i]['symbol']] = {\"asset_fee\": fee.asset_fee / 100, \"protocol_fee\": fee.protocol_fee / 100}\n",
    "    \n",
    "chain.close()\n",
    "pprint(fees)\n",
    "\n",
    "# get Omnipool data\n",
    "# tokens = {\n",
    "#     'USDT': {\n",
    "#         'liquidity': 2062772,\n",
    "#         'LRNA': 2062772\n",
    "#     },\n",
    "#     'DOT': {\n",
    "#         # 'liquidity': 389000,\n",
    "#         'liquidity': 350000,\n",
    "#         'LRNA': 1456248\n",
    "#     },\n",
    "#     'HDX': {\n",
    "#         'liquidity': 108000000,\n",
    "#         'LRNA': 494896\n",
    "#     }\n",
    "# }\n",
    "\n",
    "pprint(tokens)\n"
   ],
   "metadata": {
    "collapsed": false,
    "ExecuteTime": {
     "end_time": "2023-10-23T18:20:12.517895505Z",
     "start_time": "2023-10-23T18:19:55.588954896Z"
    }
   },
   "id": "a026335ac28fa9d4"
  },
  {
   "cell_type": "code",
   "execution_count": 60,
   "outputs": [],
   "source": [
    "\n",
    "# dot_usdt_order_book = {\n",
    "#     'bids': [{'price': 3.60, 'amount': 200},\n",
    "#              {'price': 3.59, 'amount': 100},\n",
    "#              {'price': 3.50, 'amount': 100},\n",
    "#              {'price': 3.40, 'amount': 2000}],\n",
    "#     'asks': [{'price': 3.70, 'amount': 100},\n",
    "#              {'price': 3.74, 'amount': 5000},\n",
    "#              {'price': 3.80, 'amount': 200},\n",
    "#              {'price': 3.90, 'amount': 2000}]\n",
    "# }\n",
    "# \n",
    "# hdx_usdt_order_book = {\n",
    "#     'bids': [{'price': 0.03, 'amount': 2000},\n",
    "#              {'price': 0.025, 'amount': 2000},\n",
    "#              {'price': 0.02, 'amount': 2000},\n",
    "#              {'price': 0.015, 'amount': 2000}],\n",
    "#     'asks': [{'price': 0.04, 'amount': 2000},\n",
    "#              {'price': 0.05, 'amount': 2000},\n",
    "#              {'price': 0.06, 'amount': 2000},\n",
    "#              {'price': 0.07, 'amount': 2000}]\n",
    "# }\n",
    "\n",
    "# hdx_dot_order_book = {\n",
    "#     'bids': [{'price': 0.005, 'amount': 2000},\n",
    "#              {'price': 0.004, 'amount': 2000}],\n",
    "#     'asks': [{'price': 0.0052, 'amount': 2000},\n",
    "#              {'price': 0.0055, 'amount': 2000}]\n",
    "# }\n",
    "\n",
    "ob_objs = []\n",
    "for tkn_pair in order_books:\n",
    "    ob = parse_kraken_orderbook(order_books[tkn_pair])\n",
    "    ob_obj = OrderBook(\n",
    "        bids=[[bid['price'], bid['amount']] for bid in ob['bids']],\n",
    "        asks=[[ask['price'], ask['amount']] for ask in ob['asks']]\n",
    "    )\n",
    "    ob_objs.append(ob_obj)\n",
    "\n",
    "order_book = {op_tkn_pairs[i]: ob_objs[i] for i in range(len(op_tkn_pairs))}\n",
    "# order_book = {\n",
    "#     ('DOT','USDT'): dot_usdt_order_book_obj,\n",
    "#     ('HDX','USDT'): hdx_usdt_order_book_obj,\n",
    "#     # ('HDX','DOT'): hdx_dot_order_book\n",
    "# }\n",
    "\n",
    "\n",
    "\n",
    "lrna_fee = 0.0005\n",
    "asset_fee = 0.0025\n",
    "cex_fee = 0.0016\n",
    "buffer = 0.0002\n",
    "# \n",
    "# lrna_fee = 0.0001\n",
    "# asset_fee = 0.0001\n",
    "# cex_fee = 0.0001\n",
    "# buffer = 0.0\n",
    "\n",
    "lrna_fee={asset: fees[asset]['protocol_fee'] for asset in asset_list}\n",
    "asset_fee={asset: fees[asset]['asset_fee'] for asset in asset_list}\n",
    "\n",
    "\n",
    "cex = CentralizedMarket(\n",
    "    order_book=order_book,\n",
    "    asset_list=asset_list,\n",
    "    trade_fee=cex_fee\n",
    ")\n",
    "\n",
    "op_state = OmnipoolState(\n",
    "    tokens=tokens,\n",
    "    lrna_fee = lrna_fee,\n",
    "    asset_fee = asset_fee,\n",
    "    preferred_stablecoin='USDT',\n",
    ")\n",
    "\n",
    "init_state = op_state.copy()\n"
   ],
   "metadata": {
    "collapsed": false,
    "ExecuteTime": {
     "end_time": "2023-10-23T18:20:12.561600608Z",
     "start_time": "2023-10-23T18:20:12.539284592Z"
    }
   },
   "id": "68064af1cadd64fc"
  },
  {
   "cell_type": "code",
   "execution_count": 61,
   "outputs": [
    {
     "name": "stdout",
     "output_type": "stream",
     "text": [
      "('DOT', 'USDT')\n",
      "[{'dex': {'trade': 'sell', 'price': 4.1328, 'amount': 463.4395193510055, 'min_buy': 1922.626831104827}, 'cex': {'trade': 'buy', 'price': 4.13321328, 'amount': 463.4395193510055}}]\n",
      "('WETH', 'USDT')\n",
      "[{'dex': {'trade': 'buy', 'price': 1692.8, 'amount': 4.922901124954224, 'max_sell': 8159.427602597749}, 'cex': {'trade': 'sell', 'price': 1692.6307199999999, 'amount': 4.922901124954224}}]\n",
      "('DOT', 'WETH')\n",
      "[{'dex': {'trade': 'sell', 'price': 0.002443, 'amount': 540.7639668216707, 'min_buy': 1.3308470836758615}, 'cex': {'trade': 'buy', 'price': 0.0024432443, 'amount': 540.7639668216707}}]\n",
      "('WBTC', 'USDT')\n",
      "[{'dex': {'trade': 'buy', 'price': 31063.0, 'amount': 0.004045160936336519, 'max_sell': 120.40939588814973}, 'cex': {'trade': 'sell', 'price': 31059.8937, 'amount': 0.004045160936336519}}]\n",
      "('DOT', 'WBTC')\n",
      "[{'dex': {'trade': 'sell', 'price': 0.00013311, 'amount': 3.3468284378051756, 'min_buy': 0.00044830130338668824}, 'cex': {'trade': 'buy', 'price': 0.000133123311, 'amount': 3.3468284378051756}}]\n"
     ]
    }
   ],
   "source": [
    "all_swaps = get_arb_swaps(op_state, cex, buffer=buffer)\n",
    "for tkn_pair in all_swaps:\n",
    "    if all_swaps[tkn_pair] != []:\n",
    "        print(tkn_pair)\n",
    "        print(all_swaps[tkn_pair])"
   ],
   "metadata": {
    "collapsed": false,
    "ExecuteTime": {
     "end_time": "2023-10-23T18:20:12.624580187Z",
     "start_time": "2023-10-23T18:20:12.546198065Z"
    }
   },
   "id": "ef086a726e0e13be"
  },
  {
   "cell_type": "code",
   "execution_count": 62,
   "outputs": [
    {
     "name": "stdout",
     "output_type": "stream",
     "text": [
      "{'USDT': 171.04500579833984, 'DOT': 0.0, 'HDX': 0, 'WETH': 0.007776737213134766, 'WBTC': 2.1457672119140625e-06, 'IBTC': 0, 'ASTR': 0, 'CFG': 0, 'BNC': 0, 'GLMR': 0, 'ZTG': 0}\n"
     ]
    }
   ],
   "source": [
    "state = init_state.copy()\n",
    "init_agent = Agent(holdings={asset: 1000000000 for asset in asset_list}, unique_id='bot')\n",
    "agent = init_agent.copy()\n",
    "execute_arb(state, cex, agent, all_swaps)\n",
    "\n",
    "profit = calculate_profit(init_agent, agent)\n",
    "\n",
    "print(profit)\n",
    "            \n",
    "# for tkn_pair in all_swaps:\n",
    "#     print(tkn_pair)\n",
    "#     op_spot = OmnipoolState.price(state, tkn_pair[0], tkn_pair[1])\n",
    "#     buy_spot = op_spot / ((1 - lrna_fee)*(1 - asset_fee))\n",
    "#     sell_spot = op_spot * (1 - lrna_fee) * (1 - asset_fee)\n",
    "#     print((sell_spot, op_spot, buy_spot))\n",
    "    \n"
   ],
   "metadata": {
    "collapsed": false,
    "ExecuteTime": {
     "end_time": "2023-10-23T18:20:12.624983594Z",
     "start_time": "2023-10-23T18:20:12.617363953Z"
    }
   },
   "id": "8d4817129c26f839"
  }
 ],
 "metadata": {
  "kernelspec": {
   "display_name": "Python 3",
   "language": "python",
   "name": "python3"
  },
  "language_info": {
   "codemirror_mode": {
    "name": "ipython",
    "version": 2
   },
   "file_extension": ".py",
   "mimetype": "text/x-python",
   "name": "python",
   "nbconvert_exporter": "python",
   "pygments_lexer": "ipython2",
   "version": "2.7.6"
  }
 },
 "nbformat": 4,
 "nbformat_minor": 5
}
