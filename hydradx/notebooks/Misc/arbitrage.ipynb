{
 "cells": [
  {
   "cell_type": "code",
   "execution_count": 1,
   "id": "initial_id",
   "metadata": {
    "collapsed": true,
    "ExecuteTime": {
     "end_time": "2023-10-16T16:47:14.358332358Z",
     "start_time": "2023-10-16T16:47:14.316984238Z"
    }
   },
   "outputs": [],
   "source": [
    "from hydradx.model.amm.omnipool_amm import OmnipoolState\n",
    "from hydradx.model.amm.agents import Agent\n",
    "from hydradx.model.processing import parse_kraken_orderbook\n",
    "from hydradx.model.amm.arbitrage_agent import get_arb_swaps, calculate_profit, execute_arb\n",
    "\n",
    "\n",
    "import json, os\n"
   ]
  },
  {
   "cell_type": "code",
   "execution_count": 2,
   "outputs": [],
   "source": [
    "f = open('data/hdxusd_orderbook.json', 'r')\n",
    "y = json.loads(f.read())\n",
    "hdxusd_orderbook = y['result']['HDXUSD']\n",
    "\n",
    "f = open('data/dotusd_orderbook.json', 'r')\n",
    "y = json.loads(f.read())\n",
    "dotusd_orderbook = y['result']['DOTUSD']\n",
    "\n"
   ],
   "metadata": {
    "collapsed": false,
    "ExecuteTime": {
     "end_time": "2023-10-16T16:47:14.364058119Z",
     "start_time": "2023-10-16T16:47:14.361485957Z"
    }
   },
   "id": "30c3ae5c6fb4044d"
  },
  {
   "cell_type": "code",
   "execution_count": 3,
   "outputs": [],
   "source": [
    "\n",
    "# dot_usdt_order_book = {\n",
    "#     'bids': [{'price': 3.60, 'amount': 200},\n",
    "#              {'price': 3.59, 'amount': 100},\n",
    "#              {'price': 3.50, 'amount': 100},\n",
    "#              {'price': 3.40, 'amount': 2000}],\n",
    "#     'asks': [{'price': 3.70, 'amount': 100},\n",
    "#              {'price': 3.74, 'amount': 5000},\n",
    "#              {'price': 3.80, 'amount': 200},\n",
    "#              {'price': 3.90, 'amount': 2000}]\n",
    "# }\n",
    "# \n",
    "# hdx_usdt_order_book = {\n",
    "#     'bids': [{'price': 0.03, 'amount': 2000},\n",
    "#              {'price': 0.025, 'amount': 2000},\n",
    "#              {'price': 0.02, 'amount': 2000},\n",
    "#              {'price': 0.015, 'amount': 2000}],\n",
    "#     'asks': [{'price': 0.04, 'amount': 2000},\n",
    "#              {'price': 0.05, 'amount': 2000},\n",
    "#              {'price': 0.06, 'amount': 2000},\n",
    "#              {'price': 0.07, 'amount': 2000}]\n",
    "# }\n",
    "\n",
    "# hdx_dot_order_book = {\n",
    "#     'bids': [{'price': 0.005, 'amount': 2000},\n",
    "#              {'price': 0.004, 'amount': 2000}],\n",
    "#     'asks': [{'price': 0.0052, 'amount': 2000},\n",
    "#              {'price': 0.0055, 'amount': 2000}]\n",
    "# }\n",
    "\n",
    "dot_usdt_order_book = parse_kraken_orderbook(dotusd_orderbook)\n",
    "hdx_usdt_order_book = parse_kraken_orderbook(hdxusd_orderbook)\n",
    "\n",
    "order_book = {\n",
    "    ('DOT','USDT'): dot_usdt_order_book,\n",
    "    ('HDX','USDT'): hdx_usdt_order_book,\n",
    "    # ('HDX','DOT'): hdx_dot_order_book\n",
    "}\n",
    "\n",
    "tokens = {\n",
    "    'USDT': {\n",
    "        'liquidity': 2062772,\n",
    "        'LRNA': 2062772\n",
    "    },\n",
    "    'DOT': {\n",
    "        # 'liquidity': 389000,\n",
    "        'liquidity': 350000,\n",
    "        'LRNA': 1456248\n",
    "    },\n",
    "    'HDX': {\n",
    "        'liquidity': 108000000,\n",
    "        'LRNA': 494896\n",
    "    }\n",
    "}\n",
    "\n",
    "lrna_fee = 0.0005\n",
    "asset_fee = 0.0025\n",
    "cex_fee = 0.0016\n",
    "\n",
    "# lrna_fee = 0.0\n",
    "# asset_fee = 0.0\n",
    "# cex_fee = 0.0\n",
    "\n",
    "op_state = OmnipoolState(\n",
    "            tokens=tokens,\n",
    "            lrna_fee=lrna_fee,\n",
    "            asset_fee=asset_fee,\n",
    "    preferred_stablecoin='USDT',\n",
    "        )\n",
    "\n",
    "\n",
    "\n",
    "init_state = op_state.copy()\n"
   ],
   "metadata": {
    "collapsed": false,
    "ExecuteTime": {
     "end_time": "2023-10-16T16:47:14.411820115Z",
     "start_time": "2023-10-16T16:47:14.366521677Z"
    }
   },
   "id": "68064af1cadd64fc"
  },
  {
   "cell_type": "code",
   "execution_count": 4,
   "outputs": [
    {
     "name": "stdout",
     "output_type": "stream",
     "text": [
      "sell\n",
      "sell\n",
      "sell\n",
      "sell\n",
      "sell\n",
      "sell\n",
      "sell\n",
      "sell\n",
      "sell\n",
      "sell\n",
      "3.7876558182200677\n",
      "0.004410362380802018\n",
      "{('DOT', 'USDT'): [('sell', {'price': 3.7398, 'amount': 14.061}), ('sell', {'price': 3.7406, 'amount': 93.629}), ('sell', {'price': 3.7407, 'amount': 43.0}), ('sell', {'price': 3.7408, 'amount': 40.0}), ('sell', {'price': 3.741, 'amount': 390.018}), ('sell', {'price': 3.7417, 'amount': 3957.426}), ('sell', {'price': 3.7418, 'amount': 3334.869}), ('sell', {'price': 3.7429, 'amount': 374.508}), ('sell', {'price': 3.743, 'amount': 1347.0}), ('sell', {'price': 3.7432, 'amount': 1054.44140625})], ('HDX', 'USDT'): []}\n"
     ]
    }
   ],
   "source": [
    "all_swaps = get_arb_swaps(op_state, order_book, lrna_fee, asset_fee, cex_fee)\n",
    "print(all_swaps)"
   ],
   "metadata": {
    "collapsed": false,
    "ExecuteTime": {
     "end_time": "2023-10-16T16:47:14.412876895Z",
     "start_time": "2023-10-16T16:47:14.411512339Z"
    }
   },
   "id": "ef086a726e0e13be"
  },
  {
   "cell_type": "code",
   "execution_count": 5,
   "outputs": [
    {
     "name": "stdout",
     "output_type": "stream",
     "text": [
      "{'USDT': 2146.992296691402, 'DOT': 0.0, 'HDX': 0}\n"
     ]
    }
   ],
   "source": [
    "state = init_state.copy()\n",
    "init_agent = Agent(holdings={'USDT': 1000000, 'DOT': 1000000, 'HDX': 1000000}, unique_id='bot')\n",
    "agent = init_agent.copy()\n",
    "execute_arb(state, agent, all_swaps, lrna_fee, asset_fee, cex_fee)\n",
    "\n",
    "profit = calculate_profit(init_agent, agent)\n",
    "\n",
    "print(profit)\n",
    "            \n",
    "# for tkn_pair in all_swaps:\n",
    "#     print(tkn_pair)\n",
    "#     op_spot = OmnipoolState.price(state, tkn_pair[0], tkn_pair[1])\n",
    "#     buy_spot = op_spot / ((1 - lrna_fee)*(1 - asset_fee))\n",
    "#     sell_spot = op_spot * (1 - lrna_fee) * (1 - asset_fee)\n",
    "#     print((sell_spot, op_spot, buy_spot))\n",
    "    \n"
   ],
   "metadata": {
    "collapsed": false,
    "ExecuteTime": {
     "end_time": "2023-10-16T16:47:14.414385817Z",
     "start_time": "2023-10-16T16:47:14.412089445Z"
    }
   },
   "id": "8d4817129c26f839"
  },
  {
   "cell_type": "code",
   "execution_count": 5,
   "outputs": [],
   "source": [],
   "metadata": {
    "collapsed": false,
    "ExecuteTime": {
     "end_time": "2023-10-16T16:47:14.415621364Z",
     "start_time": "2023-10-16T16:47:14.412418752Z"
    }
   },
   "id": "3d544d9681f2269a"
  }
 ],
 "metadata": {
  "kernelspec": {
   "display_name": "Python 3",
   "language": "python",
   "name": "python3"
  },
  "language_info": {
   "codemirror_mode": {
    "name": "ipython",
    "version": 2
   },
   "file_extension": ".py",
   "mimetype": "text/x-python",
   "name": "python",
   "nbconvert_exporter": "python",
   "pygments_lexer": "ipython2",
   "version": "2.7.6"
  }
 },
 "nbformat": 4,
 "nbformat_minor": 5
}
