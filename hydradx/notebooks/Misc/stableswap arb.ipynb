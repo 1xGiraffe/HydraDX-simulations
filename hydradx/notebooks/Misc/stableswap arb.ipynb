{
 "cells": [
  {
   "cell_type": "code",
   "execution_count": 1,
   "id": "initial_id",
   "metadata": {
    "ExecuteTime": {
     "end_time": "2023-11-10T20:17:54.313541137Z",
     "start_time": "2023-11-10T20:17:54.163474988Z"
    },
    "tags": []
   },
   "outputs": [],
   "source": [
    "import sys\n",
    "sys.path.append('../../..')\n",
    "from hydradx.model.amm.omnipool_amm import OmnipoolState\n",
    "from hydradx.model.amm.agents import Agent\n",
    "from hydradx.model.processing import get_kraken_orderbook, get_omnipool_data, get_stableswap_data, get_orderbooks_from_file, get_binance_orderbook\n",
    "from hydradx.model.processing import get_omnipool_data_from_file, get_centralized_market, load_stableswap_data, save_stableswap_data\n",
    "from hydradx.model.amm.stableswap_amm import StableSwapPoolState \n",
    "from hydradx.model.amm.centralized_market import CentralizedMarket\n",
    "import hydradx.model.amm.arbitrage_agent_general as arb\n",
    "\n",
    "from pprint import pprint\n",
    "\n",
    "import json"
   ]
  },
  {
   "cell_type": "markdown",
   "id": "fc7e81433023f150",
   "metadata": {},
   "source": [
    "Set `get_live_markets = True` to get live markets from Kraken. Set to `False` to use order books from file."
   ]
  },
  {
   "cell_type": "code",
   "execution_count": 2,
   "id": "18db74c8acc41caf",
   "metadata": {
    "ExecuteTime": {
     "end_time": "2023-11-10T20:17:54.359267578Z",
     "start_time": "2023-11-10T20:17:54.315248140Z"
    },
    "collapsed": false,
    "jupyter": {
     "outputs_hidden": false
    }
   },
   "outputs": [],
   "source": [
    "get_live_markets = True\n",
    "archive_data = False"
   ]
  },
  {
   "cell_type": "code",
   "execution_count": 3,
   "id": "9dc03998f1523a18",
   "metadata": {
    "ExecuteTime": {
     "end_time": "2023-11-10T20:17:54.359521609Z",
     "start_time": "2023-11-10T20:17:54.359125558Z"
    },
    "collapsed": false,
    "jupyter": {
     "outputs_hidden": false
    }
   },
   "outputs": [],
   "source": [
    "# 2: Acala DAI\n",
    "# 3: Acala WBTC\n",
    "# 4: Acala WETH\n",
    "# 5: DOT\n",
    "# 9: ASTR\n",
    "# 10: native USDT\n",
    "# 11: iBTC\n",
    "# 12: ZTG\n",
    "# 13: CFG\n",
    "# 14: BNC\n",
    "# 15: vDOT\n",
    "# 16: GLMR\n",
    "# 17: INTR\n",
    "# 18: Wormhole DAI\n",
    "# 19: Wormhole WBTC\n",
    "# 20: Wormhole WETH\n",
    "# 100: 4-Pool"
   ]
  },
  {
   "cell_type": "code",
   "execution_count": 13,
   "id": "c2780d4c-c243-4d94-9a5f-ac33711d147b",
   "metadata": {
    "ExecuteTime": {
     "end_time": "2023-11-10T20:17:54.360191796Z",
     "start_time": "2023-11-10T20:17:54.359385083Z"
    },
    "collapsed": false,
    "jupyter": {
     "outputs_hidden": false
    }
   },
   "outputs": [
    {
     "name": "stdout",
     "output_type": "stream",
     "text": [
      "loading omnipool...\n"
     ]
    }
   ],
   "source": [
    "exchanges = {}\n",
    "# load Omnipool\n",
    "print('loading omnipool...')\n",
    "RPC=\"wss://rpc.hydradx.cloud\"\n",
    "            \n",
    "if get_live_markets:\n",
    "    asset_list, asset_map, tokens, fees = get_omnipool_data(RPC, archive=archive_data)\n",
    "else:\n",
    "    asset_list, asset_map, tokens, fees = get_omnipool_data_from_file(\"archive/\")\n",
    "    \n",
    "# pprint(tokens)\n",
    "omnipool = OmnipoolState(\n",
    "    tokens=tokens,\n",
    "    lrna_fee={asset: fees[asset]['protocol_fee'] for asset in asset_list},\n",
    "    asset_fee={asset: fees[asset]['asset_fee'] for asset in asset_list},\n",
    "    preferred_stablecoin='USDT',\n",
    ")\n",
    "exchanges['omnipool'] = omnipool"
   ]
  },
  {
   "cell_type": "code",
   "execution_count": 14,
   "id": "33a79b42-1aa1-4397-bc0e-9bd85e26d2f9",
   "metadata": {
    "ExecuteTime": {
     "end_time": "2023-11-10T20:17:54.360191796Z",
     "start_time": "2023-11-10T20:17:54.359385083Z"
    },
    "collapsed": false,
    "jupyter": {
     "outputs_hidden": false
    }
   },
   "outputs": [
    {
     "name": "stdout",
     "output_type": "stream",
     "text": [
      "loading 4pool\n"
     ]
    }
   ],
   "source": [
    "# load stableswap pool\n",
    "print('loading 4pool')\n",
    "\n",
    "if get_live_markets:\n",
    "    fourpool = get_stableswap_data()  # path='./archive' is default\n",
    "    if archive_data:\n",
    "        save_stableswap_data(fourpool)\n",
    "else:\n",
    "    fourpool = load_stableswap_data()\n",
    "exchanges['4pool'] = fourpool"
   ]
  },
  {
   "cell_type": "code",
   "execution_count": 15,
   "id": "30c3ae5c6fb4044d",
   "metadata": {
    "ExecuteTime": {
     "end_time": "2023-11-10T20:17:54.407205490Z",
     "start_time": "2023-11-10T20:17:54.359590277Z"
    },
    "collapsed": false,
    "jupyter": {
     "outputs_hidden": false
    }
   },
   "outputs": [
    {
     "name": "stdout",
     "output_type": "stream",
     "text": [
      "loading centralized markets...\n"
     ]
    }
   ],
   "source": [
    "# load centralized markets\n",
    "print('loading centralized markets...')\n",
    "# arb_file = \"arbconfig.txt\"\n",
    "arb_files = [\"arbconfig3-refactor.txt\", \"arbconfig-stableswap.txt\"]\n",
    "\n",
    "cfg = []\n",
    "for arb_file in arb_files:\n",
    "    with open('config/' + arb_file, 'r') as json_file:\n",
    "        cfg += json.load(json_file)\n",
    "\n",
    "for d in cfg:\n",
    "    for ex in d['exchanges']:\n",
    "        d['exchanges'][ex] = tuple(d['exchanges'][ex])\n",
    "\n",
    "# pprint(cfg)\n",
    "    \n",
    "for exchange, trade_fee in {'kraken': 0.0016, 'binance': 0.0010}.items():\n",
    "    if get_live_markets:\n",
    "        exchanges[exchange] = get_centralized_market(\n",
    "            config=cfg, \n",
    "            exchange_name=exchange, \n",
    "            trade_fee=trade_fee,\n",
    "            archive=archive_data\n",
    "        )\n",
    "    else:\n",
    "        exchanges[exchange] = CentralizedMarket(\n",
    "            order_book=get_orderbooks_from_file(\"archive/\")[exchange],\n",
    "            unique_id=exchange,\n",
    "            trade_fee=trade_fee\n",
    "        )"
   ]
  },
  {
   "cell_type": "code",
   "execution_count": 16,
   "id": "ef086a726e0e13be",
   "metadata": {
    "ExecuteTime": {
     "end_time": "2023-11-10T20:17:54.667621521Z",
     "start_time": "2023-11-10T20:17:54.407184743Z"
    },
    "collapsed": false,
    "jupyter": {
     "outputs_hidden": false
    }
   },
   "outputs": [
    {
     "name": "stdout",
     "output_type": "stream",
     "text": [
      "calculating arbitrage...\n"
     ]
    }
   ],
   "source": [
    "print('calculating arbitrage...')\n",
    "all_swaps = arb.get_arb_swaps(exchanges, cfg)"
   ]
  },
  {
   "cell_type": "code",
   "execution_count": 17,
   "id": "8d4817129c26f839",
   "metadata": {
    "ExecuteTime": {
     "end_time": "2023-11-10T20:17:54.703592628Z",
     "start_time": "2023-11-10T20:17:54.691980873Z"
    },
    "collapsed": false,
    "jupyter": {
     "outputs_hidden": false
    }
   },
   "outputs": [
    {
     "name": "stdout",
     "output_type": "stream",
     "text": [
      "per-token profit\n",
      "{'4-Pool': 0, 'HDX': 0, 'USD': 19.608704775571823, 'ETH': 0, 'GLMR': 0, 'BTC': 0.0, 'BNC': 0, 'vDOT': 0, 'CFG': 0.0, 'DOT': 0, 'PHA': 0, 'ZTG': 0, 'INTR': 0, 'ASTR': 0}\n",
      "total profit at Binance spot\n",
      "19.608704775571823\n",
      "strategy 2 profit\n",
      "{'4-Pool': 0, 'HDX': 0, 'USD': -9.716901570558548, 'ETH': 0, 'GLMR': 0, 'BTC': 3.68952751159668e-05, 'BNC': 0, 'vDOT': 0, 'CFG': 0.0, 'DOT': 0, 'PHA': 0, 'ZTG': 0, 'INTR': 0, 'ASTR': 0}\n",
      "total at Binance spot\n",
      "-8.126534183477593\n"
     ]
    }
   ],
   "source": [
    "test_exchanges = {ex_name: ex.copy() for ex_name, ex in exchanges.items()}\n",
    "init_agent = Agent(\n",
    "    holdings={tkn: 100000000 for tkn in [tkn for ex in exchanges.values() for tkn in ex.asset_list]}\n",
    ")\n",
    "test_agent = init_agent.copy()\n",
    "arb.execute_arb(exchanges, test_agent, all_swaps)\n",
    "\n",
    "equivalency_map = {\n",
    "    'WETH': 'ETH',\n",
    "    'XETH': 'ETH',\n",
    "    'XXBT': 'BTC',\n",
    "    'WBTC': 'BTC',\n",
    "    'ZUSD': 'USD',\n",
    "    'USDT': 'USD',\n",
    "    'USDT10': 'USD',\n",
    "    'USDT23': 'USD',\n",
    "    'USDC': 'USD',\n",
    "    'DAI': 'USD',\n",
    "    'iBTC': 'BTC',\n",
    "    'XBT': 'BTC',\n",
    "}\n",
    "\n",
    "profit = arb.calculate_profit(init_agent, test_agent, equivalency_map)\n",
    "\n",
    "print(\"per-token profit\")\n",
    "print(profit)\n",
    "print(\"total profit at Binance spot\")\n",
    "print(exchanges['binance'].value_assets(profit, equivalency_map))\n",
    "\n",
    "# try rerouting to see if we can squeeze some more profit out of it\n",
    "agent_2 = init_agent.copy()\n",
    "test_ex_2 = {ex_name: ex.copy() for ex_name, ex in exchanges.items()}\n",
    "all_swaps_2 = arb.combine_swaps(\n",
    "    exchanges=test_ex_2,\n",
    "    agent=agent_2,\n",
    "    swaps=all_swaps,\n",
    "    equivalency_map=equivalency_map\n",
    ")\n",
    "arb.execute_arb(test_ex_2, agent_2, all_swaps_2)\n",
    "profit_2 = arb.calculate_profit(init_agent, agent_2, equivalency_map)\n",
    "\n",
    "print(\"strategy 2 profit\")\n",
    "print(profit_2)\n",
    "print(\"total at Binance spot\")\n",
    "print(exchanges['binance'].value_assets(profit_2, equivalency_map))\n"
   ]
  },
  {
   "cell_type": "code",
   "execution_count": null,
   "id": "9c5156eb-3fd4-4d30-8f63-252765a27b5a",
   "metadata": {},
   "outputs": [],
   "source": [
    "exchanges['4pool']\n"
   ]
  },
  {
   "cell_type": "code",
   "execution_count": 25,
   "id": "4c0352fe-a087-4fde-8ffa-7f936351962a",
   "metadata": {},
   "outputs": [
    {
     "name": "stdout",
     "output_type": "stream",
     "text": [
      "[{'amount': 0.078915013671875,\n",
      "  'buy_asset': 'BTC',\n",
      "  'exchange': 'binance',\n",
      "  'price': 43126.442445,\n",
      "  'sell_asset': 'USDT',\n",
      "  'trade': 'buy'},\n",
      " {'amount': 0.078915013671875,\n",
      "  'buy_asset': 'USDT',\n",
      "  'exchange': 'omnipool',\n",
      "  'min_buy': 3421.339453409553,\n",
      "  'sell_asset': 'iBTC',\n",
      "  'trade': 'sell'},\n",
      " {'amount': 396.068,\n",
      "  'buy_asset': 'CFG',\n",
      "  'exchange': 'omnipool',\n",
      "  'max_sell': 249.07333614903686,\n",
      "  'sell_asset': 'USDT',\n",
      "  'trade': 'buy'},\n",
      " {'amount': 396.068,\n",
      "  'buy_asset': 'USD',\n",
      "  'exchange': 'kraken',\n",
      "  'price': 0.6308844,\n",
      "  'sell_asset': 'CFG',\n",
      "  'trade': 'sell'},\n",
      " {'amount': 313.8125354960937,\n",
      "  'buy_asset': 'CFG',\n",
      "  'exchange': 'omnipool',\n",
      "  'max_sell': 197.54348556518553,\n",
      "  'sell_asset': 'USDT',\n",
      "  'trade': 'buy'},\n",
      " {'amount': 313.8125354960937,\n",
      "  'buy_asset': 'USD',\n",
      "  'exchange': 'kraken',\n",
      "  'price': 0.63078445,\n",
      "  'sell_asset': 'CFG',\n",
      "  'trade': 'sell'},\n",
      " {'amount': 0.009008288982391357,\n",
      "  'buy_asset': 'BTC',\n",
      "  'exchange': 'binance',\n",
      "  'price': 43126.442445,\n",
      "  'sell_asset': 'USDT',\n",
      "  'trade': 'buy'},\n",
      " {'amount': 0.009008288982391357,\n",
      "  'buy_asset': 'USDT',\n",
      "  'exchange': 'omnipool',\n",
      "  'min_buy': 389.0719096400738,\n",
      "  'sell_asset': 'WBTC',\n",
      "  'trade': 'sell'},\n",
      " {'amount': 103.17646108940892,\n",
      "  'buy_asset': 'CFG',\n",
      "  'exchange': 'omnipool',\n",
      "  'max_sell': 64.96847431075572,\n",
      "  'sell_asset': 'USDT',\n",
      "  'trade': 'buy'},\n",
      " {'amount': 103.17646108940892,\n",
      "  'buy_asset': 'USD',\n",
      "  'exchange': 'kraken',\n",
      "  'price': 0.63078445,\n",
      "  'sell_asset': 'CFG',\n",
      "  'trade': 'sell'}]\n",
      "===================================\n",
      "[{'amount': 3272.1827204078436,\n",
      "  'buy_asset': 'USDT',\n",
      "  'exchange': 'omnipool',\n",
      "  'sell_asset': 'iBTC',\n",
      "  'trade': 'buy'},\n",
      " {'amount': 196.42943145165165,\n",
      "  'buy_asset': 'CFG',\n",
      "  'exchange': 'omnipool',\n",
      "  'sell_asset': 'iBTC',\n",
      "  'trade': 'buy'},\n",
      " {'amount': 616.6275651305914,\n",
      "  'buy_asset': 'CFG',\n",
      "  'exchange': 'omnipool',\n",
      "  'sell_asset': 'WBTC',\n",
      "  'trade': 'buy'},\n",
      " {'amount': 511.8183853775263,\n",
      "  'buy_asset': 'USD',\n",
      "  'exchange': 'kraken',\n",
      "  'sell_asset': 'CFG',\n",
      "  'trade': 'buy'},\n",
      " {'amount': 0.08792330265425971,\n",
      "  'buy_asset': 'BTC',\n",
      "  'exchange': 'binance',\n",
      "  'sell_asset': 'USDT',\n",
      "  'trade': 'buy'}]\n"
     ]
    }
   ],
   "source": [
    "pprint(arb.flatten_swaps(all_swaps))\n",
    "print('===================================')\n",
    "pprint(all_swaps_2)"
   ]
  },
  {
   "cell_type": "code",
   "execution_count": null,
   "id": "aeec1239-8434-4941-b5dc-fe322b6f4a04",
   "metadata": {},
   "outputs": [],
   "source": []
  }
 ],
 "metadata": {
  "kernelspec": {
   "display_name": "Python 3 (ipykernel)",
   "language": "python",
   "name": "python3"
  },
  "language_info": {
   "codemirror_mode": {
    "name": "ipython",
    "version": 3
   },
   "file_extension": ".py",
   "mimetype": "text/x-python",
   "name": "python",
   "nbconvert_exporter": "python",
   "pygments_lexer": "ipython3",
   "version": "3.9.7"
  }
 },
 "nbformat": 4,
 "nbformat_minor": 5
}
