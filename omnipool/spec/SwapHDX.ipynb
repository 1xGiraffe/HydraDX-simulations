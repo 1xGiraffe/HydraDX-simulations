{
 "cells": [
  {
   "cell_type": "markdown",
   "id": "3a019cad-b7a2-4bf9-b81e-5f28141864b5",
   "metadata": {},
   "source": [
    "# Swap HDX\n",
    "Agent $\\alpha$ swaps asset $i$ with the protocol for HDX."
   ]
  },
  {
   "cell_type": "markdown",
   "id": "51648369-2057-4905-a247-9c16ae6d58d9",
   "metadata": {},
   "source": [
    "## Constraints"
   ]
  },
  {
   "cell_type": "markdown",
   "id": "c6ee0aad-6886-461e-9f21-b0f42cf1e867",
   "metadata": {},
   "source": [
    "The swap will keep the swap invariant for asset $i$, $R_iQ_i$, constant."
   ]
  },
  {
   "cell_type": "markdown",
   "id": "ab3ff94e-e3e4-4b85-b3ab-053478d26eb2",
   "metadata": {},
   "source": [
    "## Requirements"
   ]
  },
  {
   "cell_type": "markdown",
   "id": "2734124e-af66-4b57-8592-47eccd58af50",
   "metadata": {},
   "source": [
    "#### Case 1: Asset $i$ sold\n",
    "$$\n",
    "\\Delta R_i \\leq r_i^\\alpha\n",
    "$$\n",
    "#### Case 2: HDX sold\n",
    "$$\n",
    "\\Delta Q_i \\leq q^\\alpha\n",
    "$$"
   ]
  },
  {
   "cell_type": "markdown",
   "id": "ba781d91-49f5-4073-b5ae-511c7d1ce160",
   "metadata": {},
   "source": [
    "## Updating AMM state"
   ]
  },
  {
   "cell_type": "markdown",
   "id": "e804ecc1-eec1-47c5-8ced-66a0dbf9bd51",
   "metadata": {},
   "source": [
    "### Case 1: Asset $i$ sold"
   ]
  },
  {
   "cell_type": "markdown",
   "id": "18d8bacc-8771-4746-b4c7-251223447d2f",
   "metadata": {},
   "source": [
    "$$\n",
    "\\Delta Q_i = \\left(Q_i^{-a} + R_i^{-a} - (R_i + \\Delta R_i)^{-a}\\right)^{-\\frac{1}{a}}\n",
    "$$"
   ]
  },
  {
   "cell_type": "markdown",
   "id": "9731de03-4924-4f6b-a6ce-bdb5fdcf91a4",
   "metadata": {},
   "source": [
    "### Case 2: HDX sold"
   ]
  },
  {
   "cell_type": "markdown",
   "id": "4554c820-71a3-4981-92ea-3442640e4537",
   "metadata": {},
   "source": [
    "$$\n",
    "\\Delta R_i = \\left(R_i^{-a} + Q_i^{-a} - (Q_i + \\Delta Q_i)^{-a}\\right)^{-\\frac{1}{a}}\n",
    "$$"
   ]
  },
  {
   "cell_type": "markdown",
   "id": "7ac04084-09e9-4e27-bdea-d4deed673ce3",
   "metadata": {},
   "source": [
    "## Updating agent state"
   ]
  },
  {
   "cell_type": "markdown",
   "id": "f4785c6e-09ca-46a7-b73e-2376ce742456",
   "metadata": {},
   "source": [
    "### Case 1: HDX bought from pool\n",
    "In this case, the HDX fee is sent to treasury.\n",
    "$$\n",
    "\\Delta q^\\alpha = - \\Delta Q_i\\left(1 - f_Q\\right)\\\\\n",
    "\\Delta r_i^\\alpha = - \\Delta R_i\\\\\n",
    "\\Delta A_i = - \\Delta Q_i f_Q\n",
    "$$"
   ]
  },
  {
   "cell_type": "markdown",
   "id": "c620dd9f-a49e-49e3-bac9-176de2e5385e",
   "metadata": {},
   "source": [
    "### Case 2: HDX sold to pool\n",
    "In this case, we distribute the fee (collected in $i$) to the LPs of asset $i$.\n",
    "$$\n",
    "\\Delta q^\\alpha = - \\Delta Q_i\\\\\n",
    "\\Delta r_i^\\alpha = - \\Delta R_i\\left(1 - f_R\\right)\\\\\n",
    "\\Delta A_i = - \\Delta R_i f_R \\frac{B_i}{S_i}\\\\\n",
    "\\Delta r_i^\\beta = - \\Delta R_i f_R \\frac{s^\\beta_i}{S_i}\n",
    "$$\n",
    "Note that $\\beta$ stands in for *all agents*, particularly all liquidity providers of asset $i$."
   ]
  },
  {
   "cell_type": "code",
   "execution_count": null,
   "id": "b2e739d5-22a0-4a72-a479-1337339b5d04",
   "metadata": {},
   "outputs": [],
   "source": []
  }
 ],
 "metadata": {
  "kernelspec": {
   "display_name": "Python 3",
   "language": "python",
   "name": "python3"
  },
  "language_info": {
   "codemirror_mode": {
    "name": "ipython",
    "version": 3
   },
   "file_extension": ".py",
   "mimetype": "text/x-python",
   "name": "python",
   "nbconvert_exporter": "python",
   "pygments_lexer": "ipython3",
   "version": "3.9.5"
  }
 },
 "nbformat": 4,
 "nbformat_minor": 5
}
