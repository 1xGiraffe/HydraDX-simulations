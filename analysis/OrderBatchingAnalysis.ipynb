{
 "cells": [
  {
   "cell_type": "code",
   "execution_count": 1,
   "id": "faf9b536-c0d4-489b-b4f2-390f0c846957",
   "metadata": {
    "tags": []
   },
   "outputs": [],
   "source": [
    "import copy\n",
    "import pytest\n",
    "import random\n",
    "import matplotlib.pylab as plt\n",
    "import numpy as np\n",
    "\n",
    "\n",
    "AMM = {'USDT': (100000, 100000), 'DAI': (100000, 100000), 'ETH': (100000, 25), 'DOT': (100000, 3000)}\n",
    "tokens = list(AMM.keys())\n",
    "init_spot_prices = {}\n",
    "for k in AMM:\n",
    "    init_spot_prices[k] = AMM[k][0]/AMM[k][1]\n",
    "trades = []\n",
    "max_trade_vol = 0.01\n",
    "repeats = 100\n",
    "\n",
    "for t1 in tokens:\n",
    "    for t2 in tokens:\n",
    "        if t2 != t1:\n",
    "            for i in range(repeats):\n",
    "                trades.append({\n",
    "                    'trade': 'buy', 'asset_spec': t1, 'asset_unspec': t2, 'asset_amount': random.random()*AMM[t1][1]*max_trade_vol\n",
    "                })\n",
    "                trades.append({\n",
    "                    'trade': 'sell', 'asset_spec': t1, 'asset_unspec': t2, 'asset_amount': random.random()*AMM[t1][1]*max_trade_vol\n",
    "                })\n",
    "\n",
    "#trades = []\n",
    "#t1 = 'ETH'\n",
    "#t2 = 'DAI'\n",
    "#trades.append({\n",
    "#    'trade': 'buy', 'asset_spec': t1, 'asset_unspec': t2, 'asset_amount': random.random()*AMM[t1][1]*max_trade_vol\n",
    "#})\n",
    "#trades.append({\n",
    "#    'trade': 'sell', 'asset_spec': t1, 'asset_unspec': t2, 'asset_amount': random.random()*AMM[t1][1]*max_trade_vol\n",
    "#})\n",
    "\n",
    "random.shuffle(trades)"
   ]
  },
  {
   "cell_type": "code",
   "execution_count": 2,
   "id": "1cce3f38-5cab-4cb5-aa13-431b00410bac",
   "metadata": {},
   "outputs": [],
   "source": [
    "\n",
    "\n",
    "# xyk equation\n",
    "def delta_x_given_delta_y(x, y, delta_y):\n",
    "    return -x*delta_y/(y + delta_y)\n",
    "\n",
    "def calc_invariant(AMM, asset):\n",
    "    return AMM[asset][0] * AMM[asset][1]\n",
    "\n",
    "def execute_LHDX_trade(trade, AMM):\n",
    "    new_AMM = copy.deepcopy(AMM)\n",
    "    if trade['asset_spec'] == 'LHDX':\n",
    "        Qj, Rj = AMM[trade['asset_unspec']]\n",
    "        delta_Qj = trade['asset_amount'] * (1 if trade['trade'] == 'sell' else -1)\n",
    "        assert delta_Qj + Qj > 0\n",
    "        delta_Rj = delta_x_given_delta_y(Rj, Qj, delta_Qj)\n",
    "        new_AMM[trade['asset_unspec']] = (Qj + delta_Qj, Rj + delta_Rj)\n",
    "        assert calc_invariant(new_AMM, trade['asset_unspec']) == pytest.approx(calc_invariant(AMM, trade['asset_unspec']))\n",
    "    elif trade['asset_unspec'] == 'LHDX':\n",
    "        Qi, Ri = AMM[trade['asset_spec']]\n",
    "        delta_Ri = trade['asset_amount'] * (1 if trade['trade'] == 'sell' else -1)\n",
    "        assert delta_Ri + Ri > 0\n",
    "        delta_Qi = delta_x_given_delta_y(Qi, Ri, delta_Ri)\n",
    "        new_AMM[trade['asset_spec']] = (Qi + delta_Qi, Ri + delta_Ri)\n",
    "        assert calc_invariant(new_AMM, trade['asset_spec']) == pytest.approx(calc_invariant(AMM, trade['asset_spec']))\n",
    "    else:\n",
    "        raise\n",
    "    return new_AMM\n",
    "\n",
    "def execute_trade(trade, AMM):\n",
    "    new_AMM = copy.deepcopy(AMM)\n",
    "    if 'LHDX' in [trade['asset_spec'], trade['asset_unspec']]:\n",
    "        new_AMM = execute_LHDX_trade(trade, AMM)\n",
    "    else:\n",
    "        trade1 = copy.deepcopy(trade)\n",
    "        trade1['asset_unspec'] = 'LHDX'\n",
    "        new_AMM = execute_LHDX_trade(trade1, AMM)\n",
    "        delta_Q = abs(AMM[trade['asset_spec']][0] - new_AMM[trade['asset_spec']][0])\n",
    "        trade2 = copy.deepcopy(trade)\n",
    "        trade2['asset_spec'] = 'LHDX'\n",
    "        trade2['asset_amount'] = delta_Q\n",
    "        new_AMM = execute_LHDX_trade(trade2, new_AMM)\n",
    "    return new_AMM, {\n",
    "        trade['asset_spec']: trade['asset_amount'] * (1 if trade['trade'] == 'buy' else -1),\n",
    "        trade['asset_unspec']: AMM[trade['asset_unspec']][1] - new_AMM[trade['asset_unspec']][1]}\n",
    "\n",
    "def get_slippage(trade, trade_deltas, init_spot_prices):\n",
    "    if trade['trade'] == 'buy':\n",
    "        asset_out_amt = trade['asset_amount']\n",
    "        asset_out = trade['asset_spec']\n",
    "        asset_in_amt = abs(trade_deltas[trade['asset_unspec']])\n",
    "        asset_in = trade['asset_unspec']\n",
    "        slippage = asset_out_amt/(asset_in_amt * init_spot_prices[asset_in]/init_spot_prices[asset_out]) - 1\n",
    "    else:\n",
    "        asset_out_amt = abs(trade_deltas[trade['asset_unspec']])\n",
    "        asset_out = trade['asset_unspec']\n",
    "        asset_in_amt = trade['asset_amount']\n",
    "        asset_in = trade['asset_spec']\n",
    "        slippage = asset_out_amt/(asset_in_amt * init_spot_prices[asset_in]/init_spot_prices[asset_out]) - 1\n",
    "    return slippage\n",
    "\n",
    "def get_exec_price(trade_deltas, numeraire_tkn, other_tkn):\n",
    "    return -trade_deltas[numeraire_tkn]/trade_deltas[other_tkn] if numeraire_tkn < other_tkn else -trade_deltas[other_tkn]/trade_deltas[numeraire_tkn]\n",
    "\n",
    "def get_price_key(trade):\n",
    "    return (trade['asset_unspec'], trade['asset_spec']) if trade['asset_unspec'] < trade['asset_spec'] else (trade['asset_spec'], trade['asset_unspec'])\n",
    "\n",
    "def get_deltas_from_prices(trade, exec_prices):\n",
    "    trade_deltas = {}\n",
    "    i = tokens.index(trade['asset_spec'])\n",
    "    j = tokens.index(trade['asset_unspec'])\n",
    "    Pji = exec_prices[i]/exec_prices[j]\n",
    "\n",
    "    if trade['trade'] == 'buy':\n",
    "        trade_deltas[trade['asset_spec']] = trade['asset_amount']\n",
    "        trade_deltas[trade['asset_unspec']] = -Pji * trade['asset_amount']\n",
    "    else:\n",
    "        trade_deltas[trade['asset_spec']] = -trade['asset_amount']\n",
    "        trade_deltas[trade['asset_unspec']] = trade['asset_amount'] *Pji\n",
    "    return trade_deltas\n",
    "    \n",
    "\n"
   ]
  },
  {
   "cell_type": "markdown",
   "id": "df9da57e-bcef-4557-8356-f0ecca59360a",
   "metadata": {},
   "source": [
    "## No order batching"
   ]
  },
  {
   "cell_type": "code",
   "execution_count": 3,
   "id": "d4a8ce42-e330-4811-a7a6-0c9e1361d6e6",
   "metadata": {},
   "outputs": [],
   "source": [
    "trade_results = []\n",
    "all_slippage = []\n",
    "exec_prices = {}\n",
    "for trade in trades:\n",
    "    AMM, trade_deltas = execute_trade(trade, AMM)\n",
    "    slippage = get_slippage(trade, trade_deltas, init_spot_prices)\n",
    "    trade_results.append((trade, trade_deltas, slippage))\n",
    "    all_slippage.append(slippage)\n",
    "    key = get_price_key(trade)\n",
    "    if key not in exec_prices:\n",
    "        exec_prices[key] = []\n",
    "    exec_prices[key].append(get_exec_price(trade_deltas, trade['asset_spec'], trade['asset_unspec']))\n",
    "\n",
    "    \n"
   ]
  },
  {
   "cell_type": "markdown",
   "id": "8898e30b-bf3e-4695-b454-71e7fe8499c0",
   "metadata": {},
   "source": [
    "## Full order batching"
   ]
  },
  {
   "cell_type": "code",
   "execution_count": 4,
   "id": "526e151d-785f-441b-9731-287fd2064a93",
   "metadata": {},
   "outputs": [
    {
     "name": "stdout",
     "output_type": "stream",
     "text": [
      "[0.9588071105464517, 1.0612154071809705, 3773.3623552656786, 33.86637515225351]\n"
     ]
    }
   ],
   "source": [
    "full_tokens = ['LHDX'] + tokens\n",
    "n = len(tokens)\n",
    "delta_K = [[0]*n for i in range(n)]\n",
    "delta_K0i = [0]*n\n",
    "delta_Ki0 = [0]*n\n",
    "for trade in trades:\n",
    "    if trade['asset_spec'] != 'LHDX':\n",
    "        j = tokens.index(trade['asset_spec'])\n",
    "    if trade['asset_unspec'] != 'LHDX':\n",
    "        i = tokens.index(trade['asset_unspec'])\n",
    "    if 'LHDX' not in (trade['asset_spec'], trade['asset_unspec']):\n",
    "        delta_K[i][j] += trade['asset_amount']\n",
    "    elif trade['asset_spec'] == 'LHDX':\n",
    "        delta_K0i[i] += trade['asset_amount']\n",
    "    else:\n",
    "        delta_Ki0[j] += trade['asset_amount']\n",
    "\n",
    "M = [None]*n\n",
    "for i in range(n):\n",
    "    Mi = [None]*n\n",
    "    for j in range(n):\n",
    "        delta_Kj = sum([delta_K[ij][j] for ij in range(n)]) + delta_Ki0[j]\n",
    "        Mi[j] = -delta_K[i][j]/(AMM[tokens[j]][1] + delta_Kj) if i != j else 1\n",
    "    M[i] = Mi\n",
    "A = np.array(M)\n",
    "inv_A = np.linalg.inv(A)\n",
    "\n",
    "Q = np.array([AMM[tkn][0] for tkn in tokens])\n",
    "X = inv_A.dot(Q)\n",
    "P = [X[i] / (AMM[tokens[i]][1] + sum([delta_K[ij][i] for ij in range(n)])) for i in range(n)]\n",
    "print(P)\n",
    "\n",
    "batched_slippage = []\n",
    "for trade in trades:\n",
    "    trade_deltas = get_deltas_from_prices(trade, P)\n",
    "    slippage = get_slippage(trade, trade_deltas, init_spot_prices)\n",
    "    batched_slippage.append(slippage)\n",
    "\n",
    "\n"
   ]
  },
  {
   "cell_type": "markdown",
   "id": "4fe2804f-74fb-41ab-b7ea-ab6ebf603fd2",
   "metadata": {},
   "source": [
    "## Pairwise order batching"
   ]
  },
  {
   "cell_type": "code",
   "execution_count": null,
   "id": "469e2f69-6897-46ce-b247-bb99e6953d15",
   "metadata": {},
   "outputs": [],
   "source": []
  },
  {
   "cell_type": "code",
   "execution_count": 5,
   "id": "0d243b1e-5e2e-4e1d-a254-f2996f983351",
   "metadata": {},
   "outputs": [
    {
     "name": "stdout",
     "output_type": "stream",
     "text": [
      "('DOT', 'ETH')\n",
      "111.41913884499665\n"
     ]
    },
    {
     "data": {
      "image/png": "[encoded data removed]",
      "text/plain": [
       "<Figure size 432x288 with 1 Axes>"
      ]
     },
     "metadata": {
      "needs_background": "light"
     },
     "output_type": "display_data"
    },
    {
     "name": "stdout",
     "output_type": "stream",
     "text": [
      "('ETH', 'USDT')\n",
      "0.0002540988699928192\n"
     ]
    },
    {
     "data": {
      "image/png": "[encoded data removed]",
      "text/plain": [
       "<Figure size 432x288 with 1 Axes>"
      ]
     },
     "metadata": {
      "needs_background": "light"
     },
     "output_type": "display_data"
    },
    {
     "name": "stdout",
     "output_type": "stream",
     "text": [
      "('DAI', 'USDT')\n",
      "0.9034990484103903\n"
     ]
    },
    {
     "data": {
      "image/png": "[encoded data removed]",
      "text/plain": [
       "<Figure size 432x288 with 1 Axes>"
      ]
     },
     "metadata": {
      "needs_background": "light"
     },
     "output_type": "display_data"
    },
    {
     "name": "stdout",
     "output_type": "stream",
     "text": [
      "('DAI', 'ETH')\n",
      "3555.698805098673\n"
     ]
    },
    {
     "data": {
      "image/png": "[encoded data removed]",
      "text/plain": [
       "<Figure size 432x288 with 1 Axes>"
      ]
     },
     "metadata": {
      "needs_background": "light"
     },
     "output_type": "display_data"
    },
    {
     "name": "stdout",
     "output_type": "stream",
     "text": [
      "('DOT', 'USDT')\n",
      "0.028311477276086676\n"
     ]
    },
    {
     "data": {
      "image/png": "[encoded data removed]",
      "text/plain": [
       "<Figure size 432x288 with 1 Axes>"
      ]
     },
     "metadata": {
      "needs_background": "light"
     },
     "output_type": "display_data"
    },
    {
     "name": "stdout",
     "output_type": "stream",
     "text": [
      "('DAI', 'DOT')\n",
      "31.912818946171058\n"
     ]
    },
    {
     "data": {
      "image/png": "[encoded data removed]",
      "text/plain": [
       "<Figure size 432x288 with 1 Axes>"
      ]
     },
     "metadata": {
      "needs_background": "light"
     },
     "output_type": "display_data"
    },
    {
     "name": "stdout",
     "output_type": "stream",
     "text": [
      "{'USDT': (90910.16447199322, 109998.70100422809), 'DAI': (113936.59287947642, 87768.1151180125), 'ETH': (90182.3403678446, 27.721613675169074), 'DOT': (104970.90228068571, 2857.9348512963998)}\n",
      "[0.8264658004324874, 1.2981547196983543, 3253.1418056887187, 36.72963441873751]\n"
     ]
    }
   ],
   "source": [
    "for key in exec_prices:\n",
    "    print(key)\n",
    "    tkn1 = key[0]\n",
    "    tkn2 = key[1]\n",
    "    i = tokens.index(tkn1)\n",
    "    j = tokens.index(tkn2)\n",
    "    batch_price = P[j]/P[i]\n",
    "    print(batch_price)\n",
    "    plt.hist(exec_prices[key])\n",
    "    plt.show()\n",
    "    \n",
    "    \n",
    "print(AMM)\n",
    "P = [AMM[tkn][0]/AMM[tkn][1] for tkn in AMM]\n",
    "print(P)\n"
   ]
  },
  {
   "cell_type": "code",
   "execution_count": 6,
   "id": "f2d5e3a6-bf8d-47af-a7c5-29f462fcb289",
   "metadata": {},
   "outputs": [
    {
     "data": {
      "image/png": "[encoded data removed]",
      "text/plain": [
       "<Figure size 432x288 with 1 Axes>"
      ]
     },
     "metadata": {
      "needs_background": "light"
     },
     "output_type": "display_data"
    }
   ],
   "source": [
    "plt.hist(all_slippage)\n",
    "plt.show()"
   ]
  },
  {
   "cell_type": "code",
   "execution_count": 7,
   "id": "4591b3dc-4ada-4392-b1c2-435cc69bfaaf",
   "metadata": {},
   "outputs": [
    {
     "data": {
      "image/png": "[encoded data removed]",
      "text/plain": [
       "<Figure size 432x288 with 1 Axes>"
      ]
     },
     "metadata": {
      "needs_background": "light"
     },
     "output_type": "display_data"
    }
   ],
   "source": [
    "plt.hist(batched_slippage)\n",
    "plt.show()"
   ]
  },
  {
   "cell_type": "code",
   "execution_count": null,
   "id": "a911d9f8-e508-4ea6-abdd-44b489842129",
   "metadata": {},
   "outputs": [],
   "source": []
  }
 ],
 "metadata": {
  "kernelspec": {
   "display_name": "Python 3",
   "language": "python",
   "name": "python3"
  },
  "language_info": {
   "codemirror_mode": {
    "name": "ipython",
    "version": 3
   },
   "file_extension": ".py",
   "mimetype": "text/x-python",
   "name": "python",
   "nbconvert_exporter": "python",
   "pygments_lexer": "ipython3",
   "version": "3.9.5"
  }
 },
 "nbformat": 4,
 "nbformat_minor": 5
}
