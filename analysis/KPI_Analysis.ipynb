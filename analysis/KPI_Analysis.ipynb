{
 "cells": [
  {
   "cell_type": "markdown",
   "id": "0eff26a1",
   "metadata": {},
   "source": [
    "# KPI and Threshold Criteria Analysis"
   ]
  },
  {
   "cell_type": "markdown",
   "id": "3fc719a4",
   "metadata": {},
   "source": [
    "## Import simulation run data"
   ]
  },
  {
   "cell_type": "code",
   "execution_count": null,
   "id": "7ea90752",
   "metadata": {},
   "outputs": [],
   "source": [
    "import os, sys\n",
    "\n",
    "analysis_dir = os.getcwd()\n",
    "root_dir = os.path.dirname(analysis_dir)\n",
    "sys.path.append(root_dir)\n",
    "\n",
    "import pandas as pd\n",
    "import matplotlib.pyplot as plt\n",
    "from model.plot_utils import *\n",
    "from kpis import *\n",
    "import seaborn as sns\n",
    "\n",
    "\n",
    "import pickle\n",
    "from pathlib import Path\n",
    "import os\n",
    "%matplotlib inline\n",
    "pd.options.display.max_rows = 4000"
   ]
  },
  {
   "cell_type": "code",
   "execution_count": null,
   "id": "d6d8d4a4",
   "metadata": {},
   "outputs": [],
   "source": [
    "# Set the 'experiments' subdirectory path\n",
    "experiment_dir = root_dir + '/experiments'\n",
    "\n",
    "# Get experiment results files stored in 'experiments' subdirectory\n",
    "paths = sorted(Path(experiment_dir).iterdir(), key=os.path.getmtime)\n",
    "fname = paths[-1]\n",
    "fname\n",
    "#fname = root_dir + '/experiments/experiment_block1_experiments_sigma2_20210511.pkl'"
   ]
  },
  {
   "cell_type": "code",
   "execution_count": null,
   "id": "d31af477",
   "metadata": {},
   "outputs": [],
   "source": [
    "# Open the most recent experiment--alternatively, substitute filename for desired experiment results file\n",
    "with open(fname, 'rb') as f:\n",
    "    #experiments = pickle.load(f)\n",
    "    config_ids, experiments = pickle.load(f)"
   ]
  },
  {
   "cell_type": "markdown",
   "id": "10b53cea",
   "metadata": {},
   "source": [
    "## Experiment pre-processing"
   ]
  },
  {
   "cell_type": "markdown",
   "id": "10485568",
   "metadata": {},
   "source": [
    "### Define Slippage and Impermanent Loss calculations\n",
    "\n",
    "\n",
    "#### Slippage\n",
    "\n",
    "Slippage is calculated in two different, but related ways: the first is as an elasticity, by measuring the percentage change in the price following a trade with respect to the trade size as a percentage of the pool reserve. The second is as the percentage difference between the effective (actual trade) price and the spot price before the trade, which measures trader expectations on the execution price.\n",
    "\n",
    "#### Impermanent Loss\n",
    "\n",
    "Impermanent Loss (IL) is computed as the difference between the value of an amount of a single asset provided  as liquidity by an LP when exiting the pool, and the value of the intial single asset amount held outside of the pool. \n"
   ]
  },
  {
   "cell_type": "markdown",
   "id": "9f202b3b",
   "metadata": {},
   "source": [
    "#### For debugging only: create one representative 'rdf' result DataFrame for subset 0 and simulation 0"
   ]
  },
  {
   "cell_type": "code",
   "execution_count": null,
   "id": "a71fb77a",
   "metadata": {},
   "outputs": [],
   "source": [
    "subset_array = experiments['subset'].unique()\n",
    "MC_simulation_array = experiments['simulation'].unique()\n",
    "experiment_by_subset = experiments.sort_values(by=['subset']).reset_index(drop=True)\n",
    "sub_ex = experiment_by_subset[experiment_by_subset['subset']==0].copy()\n",
    "rdf = sub_ex[sub_ex['simulation']==0].sort_values(by=['timestep']).reset_index(drop=True).copy()\n"
   ]
  },
  {
   "cell_type": "markdown",
   "id": "dddd3aaa",
   "metadata": {},
   "source": [
    "## Compute Slippage and IL KPI time series across subsets and simulations"
   ]
  },
  {
   "cell_type": "code",
   "execution_count": null,
   "id": "4ebfe2ab",
   "metadata": {},
   "outputs": [],
   "source": [
    "# The following information should ideally be read in from e.g. 'config_ids',\n",
    "# so that minimal intervention is required. Here, these are manually entered for\n",
    "# the experiment being analyzed.\n",
    "# **********\n",
    "liquidity_information = {\n",
    "    'asset' : 'i',\n",
    "    'lp_agent_number' : 2,\n",
    "    'liquidity_added' : 50000,\n",
    "    'time_entered' : 10,\n",
    "    'time_exited' : 90\n",
    "}\n",
    "\n",
    "market_information = {\n",
    "    'Hydra' : {\n",
    "        'name' : 'hydra',\n",
    "        'fee' : 0.0\n",
    "    },\n",
    "    'UNI' : {\n",
    "        'name' : 'uni',\n",
    "        'fee' : 0.003\n",
    "    }\n",
    "}\n",
    "\n",
    "assets = ['i', 'j']\n",
    "\n",
    "swept_var = 'a'\n",
    "sweep_dict = {\n",
    "    0 : 0.5,\n",
    "    1 : 1,\n",
    "    2 : 1.5\n",
    "}\n",
    "# **********\n",
    "\n",
    "sl_kpis = compute_slippage(liquidity_information, assets, market_information, experiments, verbose = False)\n",
    "il_kpis = compute_impermanent_loss(liquidity_information, market_information, experiments, verbose = False)"
   ]
  },
  {
   "cell_type": "markdown",
   "id": "ae0d1af9",
   "metadata": {},
   "source": [
    "## Plot KPI time series as fan plots, one per sweep value"
   ]
  },
  {
   "cell_type": "code",
   "execution_count": null,
   "id": "95b9a1c9",
   "metadata": {
    "scrolled": true
   },
   "outputs": [],
   "source": [
    "slippage_fan_plot(swept_var, sweep_dict, sl_kpis, market_information)"
   ]
  },
  {
   "cell_type": "code",
   "execution_count": null,
   "id": "5e267566",
   "metadata": {
    "scrolled": false
   },
   "outputs": [],
   "source": [
    "impermanent_loss_fan_plot(swept_var, sweep_dict, il_kpis, market_information)"
   ]
  },
  {
   "cell_type": "markdown",
   "id": "405c39f0",
   "metadata": {},
   "source": [
    "## Compute Threshold KPIs (regression results) from KPI time series\n",
    "(Note that printing of regression results can be enabled/disabled using the PRINT constant)"
   ]
  },
  {
   "cell_type": "code",
   "execution_count": null,
   "id": "4f7e4fb0",
   "metadata": {},
   "outputs": [],
   "source": [
    "kpis = {\n",
    "    'slippage' : sl_kpis,\n",
    "    'impermanent_loss' : il_kpis\n",
    "}\n",
    "\n",
    "measures = ['slippage', 'elasticity', 'impermanent_loss']\n",
    "\n",
    "kpi_thresholds = compute_regression(kpis, market_information, measures, experiments, verbose = True)"
   ]
  },
  {
   "cell_type": "markdown",
   "id": "725a1f3b",
   "metadata": {},
   "source": [
    "## KPI Threshold Assessment"
   ]
  },
  {
   "cell_type": "markdown",
   "id": "b3ccc9ab",
   "metadata": {},
   "source": [
    "Recall threshold criteria (as of 7 May 2021) are:\n",
    "1. The estimated coefficients of the Hydra elasticity regressions should be less than one more than 80% of the MC runs.\n",
    "2. The estimated coefficients of the Hydra slippage regressions should be less than the associated coefficient values of the Uniswap slippage regressions more than 80% of the MC runs, when transactions are the same across both markets.\n",
    "3. The estimated constant and trade/swap transactions size coefficients of the Hydra impermanent loss regressions should be less than the associated coefficient values of the Uniswap impermanent loss regressions more than 80% of the MC runs, when transactions are the same across both markets.\n",
    "4. The estimated reserve balance coefficient of the Hydra impermanent loss regressions should be statistically no different from zero for at least 80% of the MC runs."
   ]
  },
  {
   "cell_type": "code",
   "execution_count": null,
   "id": "fd745e51",
   "metadata": {},
   "outputs": [],
   "source": [
    "# TC1\n",
    "TC1 = {}\n",
    "for subset in subset_array:\n",
    "    mar = {}\n",
    "    kpi_threshold_values = kpi_thresholds[subset]\n",
    "    for market in ['Hydra']:\n",
    "        elasticity_coeffs = kpi_threshold_values[market]['elasticity']\n",
    "        satisfy = len([x[0] for x in elasticity_coeffs if x[0].values < 2.1e-3])\n",
    "        fraction = satisfy/len(elasticity_coeffs)\n",
    "        mar.update({market : fraction})\n",
    "    TC1.update({ subset : mar })\n",
    "print(\"TC1: \", TC1)"
   ]
  },
  {
   "cell_type": "code",
   "execution_count": null,
   "id": "c958a8d6",
   "metadata": {},
   "outputs": [],
   "source": [
    "# TC2\n",
    "TC2 = {}\n",
    "tol_slippage = -1e-1\n",
    "for subset in subset_array:\n",
    "    kpi_threshold_values = kpi_thresholds[subset]\n",
    "    slippage_coeffs_h = kpi_threshold_values['Hydra']['slippage']\n",
    "    slippage_coeffs_u = kpi_threshold_values['UNI']['slippage']\n",
    "    satisfy = len([ x[0] for i, x in enumerate(slippage_coeffs_h) if\n",
    "                            slippage_coeffs_u[i][0]['const'] - x[0]['const'] > tol_slippage and\n",
    "                            slippage_coeffs_u[i][0][0] - x[0][0] > 0 ])\n",
    "    fraction = satisfy/len(slippage_coeffs_h)\n",
    "    TC2.update({subset: fraction})\n",
    "print(\"TC2: \", TC2)"
   ]
  },
  {
   "cell_type": "code",
   "execution_count": null,
   "id": "21e2a02b",
   "metadata": {},
   "outputs": [],
   "source": [
    "# TC3, TC4\n",
    "TC3 = {}; TC4 = {}\n",
    "tol_il = 0\n",
    "two_sided_significance = 0.025\n",
    "for subset in subset_array:\n",
    "    kpi_threshold_values = kpi_thresholds[subset]\n",
    "    il_coeffs_h = kpi_threshold_values['Hydra']['impermanent_loss']\n",
    "    il_coeffs_u = kpi_threshold_values['UNI']['impermanent_loss']\n",
    "    satisfyTC3 = len([x for i, x in enumerate(il_coeffs_h) if\n",
    "                        il_coeffs_u[i][0]['const'] - x[0]['const'] > tol_il and\n",
    "                        il_coeffs_u[i][0]['transactions_in_cumulative'] - x[0]['transactions_in_cumulative'] > 0 ])\n",
    "    satisfyTC4 = len([x for i, x in enumerate(il_coeffs_h) if\n",
    "                          x[1]['reserve_asset_in'] > two_sided_significance])\n",
    "    fractionTC3 = satisfyTC3/len(il_coeffs_h)\n",
    "    fractionTC4 = satisfyTC4/len(il_coeffs_h)\n",
    "    TC3.update({subset: fractionTC3})\n",
    "    TC4.update({subset: fractionTC4})\n",
    "print(\"TC3: \", TC3)\n",
    "print(\"TC4: \", TC4)"
   ]
  },
  {
   "cell_type": "markdown",
   "id": "c835e3cd",
   "metadata": {},
   "source": [
    "## Possible future refinement: remove outliers from regresssion results using outlier test\n",
    "Outlier test from: [StackOverflow](https://stackoverflow.com/questions/11882393/matplotlib-disregard-outliers-when-plotting)"
   ]
  },
  {
   "cell_type": "code",
   "execution_count": null,
   "id": "7cc1429a",
   "metadata": {},
   "outputs": [],
   "source": [
    "def is_outlier(points, thresh=3.5):\n",
    "    \"\"\"\n",
    "    Returns a boolean array with True if points are outliers and False \n",
    "    otherwise.\n",
    "\n",
    "    Parameters:\n",
    "    -----------\n",
    "        points : An numobservations by numdimensions array of observations\n",
    "        thresh : The modified z-score to use as a threshold. Observations with\n",
    "            a modified z-score (based on the median absolute deviation) greater\n",
    "            than this value will be classified as outliers.\n",
    "\n",
    "    Returns:\n",
    "    --------\n",
    "        mask : A numobservations-length boolean array.\n",
    "\n",
    "    References:\n",
    "    ----------\n",
    "        Boris Iglewicz and David Hoaglin (1993), \"Volume 16: How to Detect and\n",
    "        Handle Outliers\", The ASQC Basic References in Quality Control:\n",
    "        Statistical Techniques, Edward F. Mykytka, Ph.D., Editor. \n",
    "    \"\"\"\n",
    "    if len(points.shape) == 1:\n",
    "        points = points[:,None]\n",
    "    median = np.median(points, axis=0)\n",
    "    diff = np.sum((points - median)**2, axis=-1)\n",
    "    diff = np.sqrt(diff)\n",
    "    med_abs_deviation = np.median(diff)\n",
    "\n",
    "    modified_z_score = 0.6745 * diff / med_abs_deviation\n",
    "\n",
    "    return modified_z_score > thresh"
   ]
  }
 ],
 "metadata": {
  "kernelspec": {
   "display_name": "Python 3",
   "language": "python",
   "name": "python3"
  },
  "language_info": {
   "codemirror_mode": {
    "name": "ipython",
    "version": 3
   },
   "file_extension": ".py",
   "mimetype": "text/x-python",
   "name": "python",
   "nbconvert_exporter": "python",
   "pygments_lexer": "ipython3",
   "version": "3.8.8"
  }
 },
 "nbformat": 4,
 "nbformat_minor": 5
}
