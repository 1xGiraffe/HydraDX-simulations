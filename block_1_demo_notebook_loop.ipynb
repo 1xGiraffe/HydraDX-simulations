{
 "cells": [
  {
   "cell_type": "markdown",
   "metadata": {},
   "source": [
    "# Documentation for Hydra Multi-Asset Verification Test\n",
    "ACTION_LIST = [['test_add', 'test_q_for_r', 'test_r_for_r','test_r_for_q', 'test_remove']]\n",
    "\n",
    "\n",
    "\n",
    "## Model Description\n",
    "\n",
    "The methodology for the tests is to create two universes - one for Hydra and one for Uniswap - to subsequently be able to represent sequences of actions on each side. As the Hydra system is unique in its design and has no counterpart yet for approprate comparisons the role of the benchmark will be fulfilled by assembling several Uniswaps together in a way that everything that can be done in Hydra can be accordingly reproduced. This allows next to compare the implications on both systems and ultimately assess the quantitative and qualitative differences of results and impacts on the Hydra system and its agents. \n",
    "\n",
    "This approach necessitates the definition and specification of two models:\n",
    "   - 1 Hydra Omnipool model with one instance that is defined in line with the [Hydra Mathematical Specification](https://hackmd.io/M7OeWimITKGVxBDHGQa6gQ?view)\n",
    "   - 1 Uniswap model with several instances that each are responsible for a particular mechanism\n",
    "        - which of 1 instance is used for liquidity provision in asset $R_i$: this is modeled as a Uniswap of $R_i$ and $Q$\n",
    "        - which of 1 instance is used for liquidity provision in asset $R_j$: this is modeled as a Uniswap of $R_j$ and $Q$\n",
    "        - which of 1 instance is used for swaps between assets $R_i$ and $R_j$: this is modeled as a Uniswap of $R_i$ and $R_j$\n",
    "        \n",
    "![](https://i.imgur.com/yb6Zh3T.png)\n",
    "        \n",
    "## Test cases\n",
    "\n",
    "A variety of testcases can be explored with this model resulting from a combination of the following parameters\n",
    "   \n",
    "   - Event: Add Liquidity, Remove Liquidity, Swap Asset, Swap Asset for Base\n",
    "   - Asset: $R_i$, $R_j$, $R_k$, $Q$\n",
    "   - Multiple Action Type: Alternating, $i$ only, $j$ only\n",
    "   - Composite Action Type: Alternating, Trade Bias\n",
    "   - Enable Symmetric Liquidity: True, False\n",
    "    \n",
    "In addition to these settings also a fee structure can be imposed:\n",
    "\n",
    "   - Fixed Fee\n",
    "\n",
    "## Test agents\n",
    "\n",
    "The model specifies a number of eight agents that each have their local balances, can interact with the system and are modeled to be responsible for **one action only**. This allows to track for each testcase how the balances will develop and to show independently which events will trigger changes to local and global states. Most importantly directly and indirectly affected variables can be easily identified.\n",
    "\n",
    "Two dataframes of agents are initialized identically for both the Uniswap and the Hydra world and then work their way through on each side according to the testcase. Afterwards the effects on both sides can be compared.\n",
    "\n",
    "![](https://i.imgur.com/r9IAJMr.png)\n",
    "\n",
    "\n",
    "\n",
    "## Composite Action Tests\n",
    "\n",
    "Besides being able to test all mechanisms individually also compositions of actions can be performed. This means selecting and combining two from the above testcases and letting the respective agents take the actions repeadetly. A composition action test therefore is defined as two actions which each can be a combination of *event* and *asset* selected from the list of testcases above, for example:\n",
    "- Add liquidity in $R_i$ and Add liquidity in $R_j$\n",
    "- Add liquidity in $R_i$ and Swap $R_i$ for $Q$\n",
    "- Remove liquidity in $R_j$ and Swap $R_i$ for $Q$\n",
    "- ...\n",
    "\n",
    "In total there would be 28 composit pairs which can be derived from this decision tree:\n",
    "selecting any one of the four primitive mechanisms of: **trade in/out** or **add/remove liquidity** of some given asset and then the subsequent action could be the three remaining mechanisms of the same asset or doing anyone of the four mechanisms in another asset.  \n",
    "\n",
    "These basic combinations can be explored before further proceeding with\n",
    "- trade sizes,\n",
    "- trade frequencies,\n",
    "- randomization,...\n",
    "\n"
   ]
  },
  {
   "cell_type": "markdown",
   "metadata": {},
   "source": [
    "# Testcase in this notebook\n",
    "\n",
    "\n",
    "This notebook documents the results of the following experiment:\n",
    "- **Action 1**: One agent adds liquidity in XX\n",
    "- **Action 2**: Another agent trades XX for XX.\n",
    "\n",
    "which is a reslt of the following settings:\n",
    "\n",
    "- exo_trade = ['test_q_for_r'] # agent 0\n",
    "- exo_liq = ['test_add'] # agent 3\n",
    "- exo_asset = ['alternating']\n",
    "- exo_composite = ['alternating'] "
   ]
  },
  {
   "cell_type": "markdown",
   "metadata": {},
   "source": [
    "## Introduction to Uniswap\n",
    ">Uniswap is an automated market maker for exchanging ERC20 tokens. Anyone can become a liquidity provider, and invest in the liquidity pool of an ERC20 token. This allows other users to trade that token for other tokens at an exchange rate based on their relative availibility. When a token trade is executed, a small fee is paid to the liquidity providers that enabled the transaction.\n",
    "https://uniswap.io/\n",
    "\n",
    "There are basically eight ways (_mechanisms_) in which an agent can interact with an instance of Uniswap (https://github.com/Uniswap/uniswap-v1/blob/master/contracts/uniswap_exchange.vy):\n",
    "1. `addLiquidity`: deposit ETH and tokens in the liquidity pool; mint UNI tokens - \"shares\" of that Uniswap instance - in exchange;\n",
    "1. `removeLiquidity`: burn UNI tokens; withdraw a proportional amount of ETH and tokens in exchange;\n",
    "1. `ethToTokenInput`: user specifies an exact amount of ETH they send; receives corresponding amount of tokens\n",
    "1. `ethToTokenOutput`: user sends some ETH and specifies an exact amount of tokens they want to buy; Uniswap refunds ETH sent in excess\n",
    "1. `tokenToEthInput`: user specifies an exact amount of tokens they send; receives corresponding amount of ETH\n",
    "1. `tokenToEthOutput`: user specifies an exact amount of ETH they want to buy; Uniswap takes the corresponding amount of tokens from the user account\n",
    "1. `tokenToTokenInput`: user specifies an exact amount of \"token A\" they send; receives corresponding amount of \"token B\" (effectively a `tokenToEthInput` in instance A combined with a `ethToTokenInput` in instance B)\n",
    "1. `tokenToTokenOutput`: user specifies an exact amount of \"token B˜ they want to buy; Uniswap takes the corresponding amount of \"token A\" from the user account (effectively a `ethToTokenOutput` in instance B combined with a `tokenToEthOutput` in instance A)\n",
    "\n",
    "## Limitations and simplifications of this model\n",
    "* When triggering mechanisms, Uniswap users may include conditions they would like to apply to the transaction. For example, they could define a minimum amount of UNI tokens they wish to receive as a result of adding liquidity to the pool; or the maximum number of tokens they are willing to pay for the amount of ETH requested in a `tokenToEthOutput` operation; or a deadline after which the transaction should not be processed. **This simplified model does not account for this kind conditioning.**\n",
    "\n",
    "* The `ethToTokenOutput`, `tokenToEthOutput` mechanisms are not implemented. **All swaps are treated as of the \"input defined\" type.**\n",
    "\n",
    "* The `tokenToToken` mechanism are not implemented, as they are merely a `tokenToEth` in the context of a single Uniswap instance.\n",
    "\n",
    "* **User _behavior_ has not been modeled**. User _actions_ are derived from the history of events of the Uniswap instance being analyzed."
   ]
  },
  {
   "cell_type": "markdown",
   "metadata": {},
   "source": [
    "## Introduction to Hydra\n",
    ">Hydra is an automated market maker that generalizes the concept of Uniswap and Balancer to a) an arbitrary number of dimensions and b) a variant weight distaribution of assets in the pool that changes in accordance with action sequences in the pool. Anyone can become a liquidity provider, and invest in the 'Omnipool'. This allows other users to trade that token for other tokens at an exchange rate based on their relative availibility. When a token trade is executed, a small fee is paid to the liquidity providers that enabled the transaction.\n",
    "https://hydradx.io/\n",
    "\n",
    "There is a predefined set of (_mechanisms_) in which an agent can interact with an the Hydra Protocol :\n",
    "1. `addLiquidity`: deposit a risk asset in the omnipool; mint HDX tokens - \"shares\" of this risk asset - in exchange;\n",
    "1. `removeLiquidity`: burn HDX tokens; withdraw a proportional amount of the risk asset in exchange;\n",
    "1. `tokenToTokenInput`: user specifies an exact amount of \"token A\" they send; receives corresponding amount of \"token B\" \n",
    "1. `tokenToTokenOutput`: user specifies an exact amount of \"token B˜ they want to buy; Hydra takes the corresponding amount of \"token A\" from the user account \n",
    "\n"
   ]
  },
  {
   "cell_type": "markdown",
   "metadata": {},
   "source": [
    "## Model File structure\n",
    "\n",
    "The folder **model** contains:\n",
    "\n",
    " - a file config.py: \n",
    "\n",
    "    This file configures the simulation experiments by setting the number of monte carlo runs, the number of timesteps for the simulation and the simulation parameters. It also aggregates the partial states and the initial state variables.\n",
    "    \n",
    "    The purpose of this file is to *configure and initialize* the experiment.\n",
    "    \n",
    "    \n",
    " - a file partial_state_update_block.py\n",
    "\n",
    "    This file defines each partial state update block individually. This feature allows cadCAD to divide each simulation timestep into several 'blocks' where different state variables are mutated conditioned upon the policy input.\n",
    "    \n",
    "    In the current setting \n",
    "    - the first block maps the user action to the appropriate mechanism in the uniswap world\n",
    "    - the second block maps the user action to the appropriate mechanism in the hydra world\n",
    "    - the third block resolves the quantities of HDX and weights in the hydra world\n",
    "    - the forth block calculates the metrics: the swap prices in the uniswap world and the pool prices in the hydra world\n",
    "\n",
    "    This file corresponds to the system specification diagram, where each column is one partial state update block \n",
    "    \n",
    "    The purpose of this file is to *define* the sequence and details of state updates for each simulation timestep. The relevant mechanisms are imported from the files in the **parts** folder\n",
    "    \n",
    "    \n",
    " - a file plot_utils.py\n",
    "\n",
    "    This file defines all plot functions that can be called in the jupyter notebook to visualize the results. In general there are three types of plots:\n",
    "    - plots related to the uniswap world (do not contain the word 'hydra')\n",
    "    - plots related to the hydra world (contain the word 'hydra')\n",
    "    - general plots applicable to both worlds (f.e Impermanent Loss)\n",
    "\n",
    "    It also can be distinguished between plots related to global system variables and local agent variables:\n",
    "    - global variables (do not contain the word 'agent')\n",
    "    - local variables (contain the word 'agent')\n",
    "\n",
    "    The purpose of this file is to *define* the way how particular properties can be plotted over time.\n",
    "    \n",
    "\n",
    " - a file run.py\n",
    "\n",
    "    This file *defines* the run and postprocessing methods and is used to execute the simulation run:\n",
    "    - run() is used to execute the simulation and create a dataframe\n",
    "    - postprocessing is used to extract relevant metrics from the simulation output in the dataframe\n",
    "\n",
    "     The purpose of this file is to *execute* the simulation and *create* metrics.\n",
    "     \n",
    "     \n",
    " - a file state_variables.py\n",
    "\n",
    "    This file *sets* the number of agents and *defines* the local (agent-level) state variables, *sets* the number of assets and *defines* the global (system-state) variables of the system, *computes* the prices of the assets and *defines* the initial state object\n",
    "    - the agent states describe their holdings of assets that agents have contributed to the pool or still hold outside as well as their quantities of shares they received for their contribution\n",
    "    - the global states describe the quantities of assets in the system\n",
    "    - price variables are computed from the states both in the uniswap and hydra world\n",
    "    - the initial state object consists of \n",
    "        - two agent dataframes, one for each world respectively\n",
    "        - two sets of global variables, one for each world respectively\n",
    "        - prices for each world (? is pool = prices ?)\n",
    "\n",
    "    The purpose of this file is to *define* the global and local states of the system.\n",
    "    \n",
    "    \n",
    " - a file sys_params.py\n",
    "\n",
    "    This file *contains* the system parameters and allows to select items from a list for them. Following parameters can be defined:\n",
    "    - trade action type\n",
    "    - liquidity action type\n",
    "    - multiple asset action type\n",
    "    - composite action type\n",
    "    - liquidity add type (symmetry)\n",
    "\n",
    "    In addition the following is set\n",
    "    - initial values for assets \n",
    "    - hard coded fee value\n",
    "    - choice of the system parameters from the list above\n",
    "    \n",
    "\n",
    " - a folder **parts** which itself contains general files relevant for both instances, files related specifically to Uniswap and files related specifically to Hydra \n",
    "      - [action.py](model/parts/action.py)\n",
    "       This is an action dictionary which drives the model. As there are no behavioral assumptions in the model yet, currently actions are prescribed actions in testing mode derived from events. However, action schema respects https://www.kaggle.com/markusbkoch/uniswap-ethdai-exchange as much as possible, allowing for future analysis against uniswap transaction datasets.\n",
    "        This file contains a function called 'actionDecoder' which takes its inputs from the file sys_params.py and maps those encoded events to agent actions. At first an arbitrary action dictionary is defined which then is adapted according to the choices of system parameters. In particular relevant are the parameter definitions of the asset, the composite and whether there is a trade or liquidity event defined.\n",
    "        \n",
    "    - [uniswap.py](model/parts/uniswap.py)\n",
    "     Reads in action output and directs the action to the appropriate Uniswap mechanism for each corresponding Uniswap instance. Currently there are two instances in place, namely the R_i<>Q pair and the R_j<>Q pair. Both instances have their respective requisite state variables: UNI_Qx, UNI_Rx, and UNI_Sx.\n",
    "\n",
    "    - [utils.py](model/parts/utils.py)\n",
    "    Computes the state update for each Uniswap state variable and outputs the updated global state variables.\n",
    "        \n",
    "     - [agent_utils.py](model/parts/agent_utils.py)\n",
    "     Computes the corresponding agent local state for each Uniswap agent resolving their action and outputs the updates local state variables.\n",
    "\n",
    "      -  [hydra.py](model/prts/hydra.py)\n",
    "     Reads in action output and directs the action to the appropriate Hydra mechanism for each state variable: Q, Sq, and pool.\n",
    "    \n",
    "      - [hydra_utils.py](model/parts/hydra_utils.py)\n",
    "     Computes the state update for each Hydra state variable\n",
    "\n",
    "    -  [asset_utils.py](model/parts/asset_utils.py)\n",
    "     Computes the state update for each Reserve Asset in a Hydra Omnipool\n",
    "\n",
    "    -  [hydra_agent_utils_class.py](model/parts/hydra_agent_utils_class.py)\n",
    "     Computes the corresponding agent local state for each Hydra agent resolving their action and outputs the updates local state variables.\n",
    "     \n",
    "     #### The interrelations between the files are shown here:\n",
    "     \n",
    "    ![](https://i.imgur.com/mNhfQE4.png)\n",
    "\n"
   ]
  },
  {
   "cell_type": "markdown",
   "metadata": {},
   "source": [
    "# Testcase Definition\n",
    "\n",
    "#### Block 1:\n",
    "\n",
    "| #   |   Run   | a  | $\\mu_i$ |          $\\sigma_i$          | $\\mu_j$ |          $\\sigma_j$          | $\\mu$ | $\\sigma$ | Total runs         |\n",
    "| --- |:-------:|:-------:|:-------:|:----------------------------:|:-------:|:----------------------------:| ----- | -------- | ------------------ |\n",
    "| 1   | 001-100 |   0.5   |   $L$   | $\\frac{\\mu_i}{\\sigma_i}= 2$  |   $L$   | $\\frac{\\mu_j}{\\sigma_j}= 2$  | $1.000$ | $0$      | $100$ |\n",
    "| 2   | 101-200 |   0.5   |   $L$   | $\\frac{\\mu_i}{\\sigma_i}= 50$ |   $L$   | $\\frac{\\mu_j}{\\sigma_j}= 50$ | $1.000$ | $0$      | $100$ |\n",
    "| 3   | 201-300 |    1    |   $L$   | $\\frac{\\mu_i}{\\sigma_i}= 2$  |   $L$   | $\\frac{\\mu_j}{\\sigma_j}= 2$  | $1.000$ | $0$      | $100$ |\n",
    "| 4   | 301-400 |    1    |   $L$   | $\\frac{\\mu_i}{\\sigma_i}= 50$ |   $L$   | $\\frac{\\mu_j}{\\sigma_j}= 50$ | $1.000$ | $0$      | $100$ |\n",
    "| 5   | 401-500 |   1.5   |   $L$   | $\\frac{\\mu_i}{\\sigma_i}= 2$  |   $L$   | $\\frac{\\mu_j}{\\sigma_j}= 2$  | $1.000$ | $0$      | $100$ |\n",
    "| 6   | 501-600 |   1.5   |   $L$   | $\\frac{\\mu_i}{\\sigma_i}= 50$ |   $L$   | $\\frac{\\mu_j}{\\sigma_j}= 50$ | $1.000$ | $0$      | $100$ |\n",
    "\n",
    "All tests in block 1 are performed for **each combination** of $\\mu_i$ and $\\mu_j$ selectable from $L$ which results in $100$ runs; where \n",
    "\n",
    "$\\mu_i \\in L =\\{10.000, 25.000, 50.000, 75.000, 100.000, 250.000, 500.000, 750.000, 1.000.000, 2.000.000 \\}$\n",
    "\n",
    "and\n",
    "\n",
    "$\\mu_j \\in L =\\{10.000, 25.000, 50.000, 75.000, 100.000, 250.000, 500.000, 750.000, 1.000.000, 2.000.000 \\}$\n",
    "\n",
    "### Goals for Friday:\n",
    "- Having one notebook that runs block 1 in its entirety and presents the results as a general descriptive analysis\n",
    "\n",
    "### Experiment for Friday:\n",
    "\n",
    "I want to have:\n",
    "- 600 runs through the model for experiments 1-6\n",
    "- In these experiments there should be \n",
    "    - one agent (nr 2) adding liquidity and removing it afterwards\n",
    "    - one agent (nr 5) randomly trading in between\n",
    "- This runs should be performed for \n",
    "- 1 notebook that would show in fan plots how Uniswap & Hydra instances perform for these 600 runs\n",
    "- select which runs would make sense for that"
   ]
  },
  {
   "cell_type": "markdown",
   "metadata": {},
   "source": [
    "## Run Model\n",
    "\n",
    "The following command lines import all packages, experiments and run the model \n",
    "\n",
    "This is the execution of cadcad. This writes the config object, does the execution and returns the rdf - which is a data object that shows the rows and columns of results in a dataframe\n",
    "\n",
    "Here is one additional option as well. The postprocessing causes the index of the results to be every forth because of the cadcad architecture where the partial state updates are the substeps. With this option selected we see only the end of each timestep - the last substep. Therefore only final results are shown. To get a line for each substep the postprocessing needs to be deactivated. "
   ]
  },
  {
   "cell_type": "code",
   "execution_count": 1,
   "metadata": {},
   "outputs": [
    {
     "name": "stdout",
     "output_type": "stream",
     "text": [
      "running file: config_wrapper.py\n",
      "end of file: config_wrapper.py\n",
      "running file: run_wrapper.py\n",
      "end of file: run_wrapper.py\n"
     ]
    }
   ],
   "source": [
    "from model.config_wrapper import ConfigWrapper\n",
    "\n",
    "from model import run_wrapper\n",
    "from cadCAD import configs\n",
    "\n",
    "# parametric_experiment = ConfigWrapper()\n",
    "# get_keys = parametric_experiment.get_config()\n",
    "# get_keys[0]['M']\n",
    "# parametric_experiment.get_config()"
   ]
  },
  {
   "cell_type": "code",
   "execution_count": 2,
   "metadata": {},
   "outputs": [],
   "source": [
    "import model as model\n"
   ]
  },
  {
   "cell_type": "code",
   "execution_count": 3,
   "metadata": {},
   "outputs": [
    {
     "name": "stdout",
     "output_type": "stream",
     "text": [
      "running file: state_variables.py\n",
      "running file: initialize_liquidity.py\n",
      "end of file: initialize_liquidity.py\n",
      "running file: asset_utils.py\n",
      "end of file: asset_utils.py\n",
      "end of file: state_variables.py\n",
      "running file: partial_state_update_block.py\n",
      "running file: action_list.py\n",
      "end of file: action_list.py\n",
      "end of file: partial_state_update_block.py\n",
      "running file: sim_setup.py\n",
      "end of file: sim_setup.py\n",
      "m_state_variables {'UNI_Qi': 20000, 'UNI_Ri': 59580, 'UNI_Si': 10000, 'UNI_Qj': 20000, 'UNI_Rj': 11824049, 'UNI_Sj': 10000, 'UNI_ij': 59580, 'UNI_ji': 11824049, 'UNI_Sij': 704476839420, 'uni_agents':    m  r_i_out  r_i_in       h     q_i     s_i  s_q  r_j_out  r_j_in     q_j  \\\n",
      "0  0   100000  110000  140000  170000  150000    0   120000  130000  180000   \n",
      "1  1   100000  110000  140000  170000  150000    0   120000  130000  180000   \n",
      "2  2   100000  110000  140000  170000  150000    0   120000  130000  180000   \n",
      "3  3   100000  110000  140000  170000  150000    0   120000  130000  180000   \n",
      "4  4   100000  110000  140000  170000  150000    0   120000  130000  180000   \n",
      "5  5   100000  110000  140000  170000  150000    0   120000  130000  180000   \n",
      "6  6   100000  110000  140000  170000  150000    0   120000  130000  180000   \n",
      "7  7   100000  110000  140000  170000  150000    0   120000  130000  180000   \n",
      "\n",
      "      s_j  \n",
      "0  160000  \n",
      "1  160000  \n",
      "2  160000  \n",
      "3  160000  \n",
      "4  160000  \n",
      "5  160000  \n",
      "6  160000  \n",
      "7  160000  , 'UNI_P_RQi': 0.3356831151393085, 'UNI_P_RQj': 0.0016914679565350245, 'UNI_P_ij': 0.005038883042517838, 'pool': <model.parts.asset_utils.Asset object at 0x000001C2B4AB3100>, 'Q': 40000, 'H': 40000, 'Wq': 20000, 'Sq': 20000, 'hydra_agents':    m  r_i_out  r_i_in       h     q_i     s_i  s_q  r_j_out  r_j_in     q_j  \\\n",
      "0  0   100000  110000  140000  170000  150000    0   120000  130000  180000   \n",
      "1  1   100000  110000  140000  170000  150000    0   120000  130000  180000   \n",
      "2  2   100000  110000  140000  170000  150000    0   120000  130000  180000   \n",
      "3  3   100000  110000  140000  170000  150000    0   120000  130000  180000   \n",
      "4  4   100000  110000  140000  170000  150000    0   120000  130000  180000   \n",
      "5  5   100000  110000  140000  170000  150000    0   120000  130000  180000   \n",
      "6  6   100000  110000  140000  170000  150000    0   120000  130000  180000   \n",
      "7  7   100000  110000  140000  170000  150000    0   120000  130000  180000   \n",
      "\n",
      "      s_j  \n",
      "0  160000  \n",
      "1  160000  \n",
      "2  160000  \n",
      "3  160000  \n",
      "4  160000  \n",
      "5  160000  \n",
      "6  160000  \n",
      "7  160000  , 'C': 1000000000000, 'asset_random_choice': 'i', 'trade_random_size': 1000}\n"
     ]
    }
   ],
   "source": [
    "parametric_experiment = ConfigWrapper(model)\n"
   ]
  },
  {
   "cell_type": "code",
   "execution_count": 4,
   "metadata": {},
   "outputs": [
    {
     "ename": "NameError",
     "evalue": "name 'initial_state' is not defined",
     "output_type": "error",
     "traceback": [
      "\u001b[1;31m---------------------------------------------------------------------------\u001b[0m",
      "\u001b[1;31mNameError\u001b[0m                                 Traceback (most recent call last)",
      "\u001b[1;32m<ipython-input-4-e4fd293d4de6>\u001b[0m in \u001b[0;36m<module>\u001b[1;34m\u001b[0m\n\u001b[0;32m      1\u001b[0m \u001b[1;32mdel\u001b[0m \u001b[0mconfigs\u001b[0m\u001b[1;33m[\u001b[0m\u001b[1;33m:\u001b[0m\u001b[1;33m]\u001b[0m\u001b[1;33m\u001b[0m\u001b[1;33m\u001b[0m\u001b[0m\n\u001b[0;32m      2\u001b[0m \u001b[1;33m\u001b[0m\u001b[0m\n\u001b[1;32m----> 3\u001b[1;33m \u001b[0mparametric_experiment\u001b[0m\u001b[1;33m.\u001b[0m\u001b[0mappend\u001b[0m\u001b[1;33m(\u001b[0m\u001b[1;33m)\u001b[0m\u001b[1;33m\u001b[0m\u001b[1;33m\u001b[0m\u001b[0m\n\u001b[0m",
      "\u001b[1;32m~\\Documents\\GitHub\\hydra\\hydra_multi_class\\model\\config_wrapper.py\u001b[0m in \u001b[0;36mappend\u001b[1;34m(self, sim_configs)\u001b[0m\n\u001b[0;32m     65\u001b[0m             \u001b[0menv_processes\u001b[0m\u001b[1;33m=\u001b[0m\u001b[0mself\u001b[0m\u001b[1;33m.\u001b[0m\u001b[0menv_processes\u001b[0m\u001b[1;33m,\u001b[0m\u001b[1;33m\u001b[0m\u001b[1;33m\u001b[0m\u001b[0m\n\u001b[0;32m     66\u001b[0m         )\n\u001b[1;32m---> 67\u001b[1;33m         \u001b[0mprint\u001b[0m\u001b[1;33m(\u001b[0m\u001b[1;34m\"initial state:\"\u001b[0m\u001b[1;33m,\u001b[0m \u001b[0minitial_state\u001b[0m\u001b[1;33m)\u001b[0m\u001b[1;33m\u001b[0m\u001b[1;33m\u001b[0m\u001b[0m\n\u001b[0m\u001b[0;32m     68\u001b[0m \u001b[1;33m\u001b[0m\u001b[0m\n\u001b[0;32m     69\u001b[0m         \u001b[1;32mreturn\u001b[0m \u001b[0mself\u001b[0m\u001b[1;33m.\u001b[0m\u001b[0mexp\u001b[0m\u001b[1;33m\u001b[0m\u001b[1;33m\u001b[0m\u001b[0m\n",
      "\u001b[1;31mNameError\u001b[0m: name 'initial_state' is not defined"
     ]
    }
   ],
   "source": [
    "del configs[:]\n",
    "\n",
    "parametric_experiment.append()"
   ]
  },
  {
   "cell_type": "code",
   "execution_count": null,
   "metadata": {},
   "outputs": [],
   "source": [
    "get_keys = parametric_experiment.get_config()\n",
    "get_keys[0]['M']"
   ]
  },
  {
   "cell_type": "code",
   "execution_count": null,
   "metadata": {
    "scrolled": true,
    "tags": []
   },
   "outputs": [],
   "source": [
    "# Dependences\n",
    "import pandas as pd\n",
    "import numpy as np\n",
    "import matplotlib.pyplot as plt\n",
    "\n",
    "# Experiments\n",
    "from model import run\n",
    "from model.parts.utils import *\n",
    "from model.plot_utils import *\n",
    "\n",
    "pd.options.display.float_format = '{:.2f}'.format\n",
    "\n",
    "%matplotlib inline\n",
    "\n",
    "# df = run.run()\n",
    "# rdf = run.postprocessing(df)\n",
    "# rdf = df # debugging substeps\n",
    "# pd.set_option(\"mode.chained_assignment\", None)\n"
   ]
  },
  {
   "cell_type": "code",
   "execution_count": null,
   "metadata": {},
   "outputs": [],
   "source": [
    "(data, tensor_field, sessions) = run_wrapper.run(drop_midsteps=True)\n",
    "\n",
    "experiments = data\n",
    "experiments1 = data\n"
   ]
  },
  {
   "cell_type": "markdown",
   "metadata": {},
   "source": [
    "# Subsets:\n",
    "\n",
    "For the parameter sweeps there are subsets of the simulation that categorize the current test run.\n",
    "The run number can be retrieved from the header of the cadCAD execution (see above)\n"
   ]
  },
  {
   "cell_type": "code",
   "execution_count": null,
   "metadata": {},
   "outputs": [],
   "source": [
    "experiments.subset"
   ]
  },
  {
   "cell_type": "code",
   "execution_count": null,
   "metadata": {},
   "outputs": [],
   "source": [
    "experiments.subset.unique()"
   ]
  },
  {
   "cell_type": "code",
   "execution_count": null,
   "metadata": {},
   "outputs": [],
   "source": [
    "experiments = experiments.sort_values(by =['subset']).reset_index(drop=True)\n",
    "len(experiments)"
   ]
  },
  {
   "cell_type": "code",
   "execution_count": null,
   "metadata": {
    "scrolled": false
   },
   "outputs": [],
   "source": [
    "experiments.head()"
   ]
  },
  {
   "cell_type": "code",
   "execution_count": null,
   "metadata": {},
   "outputs": [],
   "source": [
    "experiments.tail().pool"
   ]
  },
  {
   "cell_type": "code",
   "execution_count": null,
   "metadata": {},
   "outputs": [],
   "source": [
    "print(experiments.pool[experiments.first_valid_index()].pool['i'])"
   ]
  },
  {
   "cell_type": "code",
   "execution_count": null,
   "metadata": {},
   "outputs": [],
   "source": [
    "def get_M(k, v):\n",
    "    if k == 'sim_config':\n",
    "        k, v = 'M', v['M']\n",
    "    return k, v\n",
    "\n",
    "config_ids = [\n",
    "    dict(\n",
    "        get_M(k, v) for k, v in config.__dict__.items() if k in ['simulation_id', 'run_id', 'sim_config', 'subset_id']\n",
    "    ) for config in configs\n",
    "]"
   ]
  },
  {
   "cell_type": "markdown",
   "metadata": {},
   "source": [
    "# Effects of variables for different scenarios\n",
    "\n",
    "The following function takes the scanarios that were run and creates a fan plot.\n",
    "\n",
    "```\n",
    "def param_fan_plot2(experiments, config_ids, swept_variable, y_variable, *args):\n",
    "    \"\"\"\n",
    "    experiments is the simulation result dataframe.\n",
    "    config_ids is the list configs executed upon in the simulation.\n",
    "    swept_variable is the key (string) in config_ids that was being tested against.\n",
    "    y_variable is the state_variable (string) to be plotted against default timestep.\n",
    "    *args for plotting more state_variables (string).\n",
    "    \"\"\"\n",
    "```\n",
    "\n",
    "The y_variable in this case is UNI_i. \n",
    "On the y-axis we see therefore a fan plot that shows the **mean**, the **max** and the **min** of the y-variable for all runs.\n",
    "\n",
    "```\n",
    "        df.plot(x='timestep', y=('UNI_Ri','mean'),label = y_variable, ax=ax, legend=True)\n",
    "\n",
    "        ax.fill_between(df.timestep, df[('UNI_Ri','min')], df[('UNI_Ri','max')], alpha=0.3) \n",
    "```\n",
    "\n",
    "For UNI_i this is not impressive, as all mean, max and min are the same:\n"
   ]
  },
  {
   "cell_type": "markdown",
   "metadata": {},
   "source": [
    "# Q - Ri instance"
   ]
  },
  {
   "cell_type": "code",
   "execution_count": null,
   "metadata": {},
   "outputs": [],
   "source": [
    "model_history = experiments[['UNI_Qi', 'UNI_Ri', 'UNI_Si']]\n",
    "model_history.columns = ['model_UNI_Qi', 'model_UNI_Ri', 'model_UNI_Si']\n",
    "\n",
    "uniswap_j = experiments[['UNI_Qj', 'UNI_Rj', 'UNI_Sj']]\n",
    "uniswap_j.columns = ['UNI_Qj', 'UNI_Rj', 'UNI_Sj']\n",
    "\n",
    "uniswap_ij = experiments[['UNI_ij', 'UNI_ji', 'UNI_Sij']]\n",
    "uniswap_ij.columns = ['UNI_ij', 'UNI_ji', 'UNI_Sij']\n",
    "\n",
    "hydra = experiments[['Q', 'H', 'Sq']]\n",
    "hydra.columns = ['Hydra_Q', 'Hydra_H', 'Hydra_Sq']"
   ]
  },
  {
   "cell_type": "code",
   "execution_count": null,
   "metadata": {},
   "outputs": [],
   "source": [
    "plt.figure(figsize=(20,6))\n",
    "ax = plt.subplot(131)\n",
    "model_history.astype(float).plot(ax=ax, y=['model_UNI_Qi'])\n",
    "#model_history.astype(float).plot(ax=ax, y=['UNI_Qi'])\n",
    "plt.title('UNISWAP Asset i Q-Base Token')\n",
    "\n",
    "ax = plt.subplot(132)\n",
    "model_history.astype(float).plot(ax=ax, y=['model_UNI_Ri'])\n",
    "plt.title('UNISWAP Asset i Reserve Risk')\n",
    "\n",
    "ax = plt.subplot(133)\n",
    "model_history.astype(float).plot(ax=ax, y=['model_UNI_Si'])\n",
    "plt.title('UNISWAP Asset i Shares')\n",
    "plt.show()"
   ]
  },
  {
   "cell_type": "code",
   "execution_count": null,
   "metadata": {
    "scrolled": true
   },
   "outputs": [],
   "source": [
    "param_fan_plot2(experiments, config_ids, 'a', 'UNI_Ri')"
   ]
  },
  {
   "cell_type": "code",
   "execution_count": null,
   "metadata": {},
   "outputs": [],
   "source": [
    "param_fan_plot(experiments, config_ids, 'a', 'UNI_Si', 'UNI_Si')"
   ]
  },
  {
   "cell_type": "code",
   "execution_count": null,
   "metadata": {},
   "outputs": [],
   "source": [
    "param_fan_plot(experiments, config_ids, 'a', 'UNI_Qi', 'UNI_Qi')"
   ]
  },
  {
   "cell_type": "markdown",
   "metadata": {},
   "source": [
    "# Q - Rj instance"
   ]
  },
  {
   "cell_type": "code",
   "execution_count": null,
   "metadata": {},
   "outputs": [],
   "source": [
    "param_fan_plot(experiments, config_ids, 'a', 'UNI_Rj', 'UNI_Rj')"
   ]
  },
  {
   "cell_type": "code",
   "execution_count": null,
   "metadata": {},
   "outputs": [],
   "source": [
    "param_fan_plot(experiments, config_ids, 'a', 'UNI_Sj', 'UNI_Sj')"
   ]
  },
  {
   "cell_type": "code",
   "execution_count": null,
   "metadata": {},
   "outputs": [],
   "source": [
    "param_fan_plot3(experiments, config_ids, 'a', 'UNI_Qj', 'UNI_Qj')"
   ]
  },
  {
   "cell_type": "markdown",
   "metadata": {},
   "source": [
    "# ij - instance"
   ]
  },
  {
   "cell_type": "code",
   "execution_count": null,
   "metadata": {},
   "outputs": [],
   "source": [
    "plt.figure(figsize=(20,6))\n",
    "ax = plt.subplot(131)\n",
    "uniswap_ij.astype(float).plot(ax=ax, y=['UNI_ij'])\n",
    "plt.title('UNISWAP IJ Instance Asset i Token')\n",
    "\n",
    "ax = plt.subplot(132)\n",
    "uniswap_ij.astype(float).plot(ax=ax, y=['UNI_ji'])\n",
    "plt.title('UNISWAP IJ Instance Asset j Token')\n",
    "\n",
    "ax = plt.subplot(133)\n",
    "uniswap_ij.astype(float).plot(ax=ax, y=['UNI_Sij'])\n",
    "plt.title('UNISWAP IJ Instance Shares')\n",
    "plt.show()"
   ]
  },
  {
   "cell_type": "code",
   "execution_count": null,
   "metadata": {
    "scrolled": true
   },
   "outputs": [],
   "source": [
    "param_fan_plot(experiments, config_ids, 'a', 'UNI_ij', 'UNI_ij')"
   ]
  },
  {
   "cell_type": "code",
   "execution_count": null,
   "metadata": {},
   "outputs": [],
   "source": [
    "param_fan_plot3(experiments, config_ids, 'a', 'UNI_ij')"
   ]
  },
  {
   "cell_type": "code",
   "execution_count": null,
   "metadata": {
    "scrolled": true
   },
   "outputs": [],
   "source": [
    "param_fan_plot3(experiments, config_ids, 'a', 'Wq', 'Wq')"
   ]
  },
  {
   "cell_type": "code",
   "execution_count": null,
   "metadata": {
    "scrolled": true
   },
   "outputs": [],
   "source": [
    "param_fan_plot3(experiments, config_ids, 'a', 'UNI_Sij', 'UNI_Sij')"
   ]
  },
  {
   "cell_type": "code",
   "execution_count": null,
   "metadata": {},
   "outputs": [],
   "source": [
    "results = pd.read_pickle ('C:/Users/paruc/Documents/Github/hydra/hydra_multi_class/experiment_block1_experiments20210429.pkl')\n",
    "results"
   ]
  },
  {
   "cell_type": "markdown",
   "metadata": {},
   "source": [
    "results is structured as [k][i][j] where\n",
    "- k = 0 or 1\n",
    "- i from 0 to 9\n",
    "- j from 0 to 9"
   ]
  },
  {
   "cell_type": "code",
   "execution_count": null,
   "metadata": {},
   "outputs": [],
   "source": [
    "#results[][][]"
   ]
  },
  {
   "cell_type": "markdown",
   "metadata": {},
   "source": [
    "# Agents"
   ]
  },
  {
   "cell_type": "markdown",
   "metadata": {},
   "source": [
    "## Uniswap"
   ]
  },
  {
   "cell_type": "code",
   "execution_count": null,
   "metadata": {},
   "outputs": [],
   "source": [
    "agent_plot(experiments,'Uniswap Token Holding for Agent ', 200) #,4,'j')"
   ]
  },
  {
   "cell_type": "code",
   "execution_count": null,
   "metadata": {},
   "outputs": [],
   "source": [
    "agent_value_plot(experiments,'Uniswap Value of S, R, and H in H equivalent', 200) #,2, 'i')"
   ]
  },
  {
   "cell_type": "markdown",
   "metadata": {},
   "source": [
    "## Hydra"
   ]
  },
  {
   "cell_type": "code",
   "execution_count": null,
   "metadata": {},
   "outputs": [],
   "source": [
    "hydra_agent_plot(experiments,'Hydra Token Holdings for Agent ', 200)"
   ]
  },
  {
   "cell_type": "code",
   "execution_count": null,
   "metadata": {},
   "outputs": [],
   "source": [
    "hydra_agent_value_plot(experiments,'Hydra Omnipool Value of Si, Ri, and H in H equivalent', 200) #,2, 'i')"
   ]
  },
  {
   "cell_type": "code",
   "execution_count": null,
   "metadata": {},
   "outputs": [],
   "source": [
    "IL_plot(experiments,'Impermanent Loss in Uniswap Instances Over Fixed Windows of ', 10)"
   ]
  },
  {
   "cell_type": "code",
   "execution_count": null,
   "metadata": {
    "scrolled": true
   },
   "outputs": [],
   "source": [
    "experiments['pool'].pool\n"
   ]
  },
  {
   "cell_type": "code",
   "execution_count": null,
   "metadata": {},
   "outputs": [],
   "source": [
    "display(list(experiments.columns.values))\n",
    "display(experiments.pool)\n"
   ]
  },
  {
   "cell_type": "code",
   "execution_count": null,
   "metadata": {},
   "outputs": [],
   "source": [
    "experiments = experiments.sort_values(by =['subset']).reset_index(drop=True)\n",
    "\n",
    "cols = 1\n",
    "rows = 1\n",
    "cc_idx = 0\n",
    "\n",
    "while cc_idx<len(experiments):\n",
    "    cc = experiments.iloc[cc_idx]['pool']\n",
    "    cc_label = experiments.iloc[cc_idx]['pool']\n",
    "    secondary_label = experiments.iloc[cc_idx]['UNI_Ri'] # what is the sdry label here?\n",
    "    sub_experiments = experiments[experiments['pool']==cc]\n",
    "    cc_idx += len(sub_experiments)\n",
    "    fig, axs = plt.subplots(ncols=cols, nrows=rows, figsize=(15*cols,7*rows))\n",
    "    sub_experiments.reset_index(drop=False)\n",
    "    for i, experiment in sub_experiments.iterrows():\n",
    "        df = experiment['pool']\n",
    "        df['R_i'] = df.pool(lambda x: np.array(x['i']['R']))\n",
    "        df['S_i'] = df.pool(lambda x: np.array(x['i']['S']))\n",
    "        df['W_i'] = df.pool(lambda x: np.array(x['i']['W']))\n",
    "        df['P_i'] = df.pool(lambda x: np.array(x['i']['P']))\n",
    "\n",
    "        df['R_i'] = np.array(df.R_i,dtype = float)\n",
    "        df['S_i'] = np.array(df.S_i,dtype = float)\n",
    "        df['W_i'] = np.array(df.W_i,dtype = float)\n",
    "        df['P_i'] = np.array(df.P_i,dtype = float)\n",
    "        \n",
    "        df_j = df.groupby('timestep').agg({'j_wallet': ['min', 'mean', 'max']}).reset_index()\n",
    "        df_r = df.groupby('timestep').agg({'r_wallet': ['min', 'mean', 'max']}).reset_index()\n",
    "        df_p = df.groupby('timestep').agg({'p_wallet': ['min', 'mean', 'max']}).reset_index()\n",
    "        df_k = df.groupby('timestep').agg({'k_wallet': ['min', 'mean', 'max']}).reset_index()\n",
    "\n",
    "        plot_label = experiment['AB_Test']\n",
    "        ax = axs\n",
    "        title = 'Tokens by Roles' + '\\n' + 'Scenario: ' + str(cc_label*100)  + ' % Route Allocation, ' + \\\n",
    "                str(secondary_label*100)  + ' % Store Allocation'\n",
    "        ax.set_title(title)\n",
    "        ax.set_ylabel('Tokens')\n",
    "        colors = ['b','orange', 'g', 'r']\n",
    "\n",
    "        ax.plot(df_j.timestep, df_j['j_wallet']['mean'],color = colors[0], label='j_wallet')\n",
    "        ax.plot(df_r.timestep, df_r['r_wallet']['mean'],color = colors[1],label='r_wallet')\n",
    "        ax.plot(df_p.timestep, df_p['p_wallet']['mean'],color = colors[2],label='p_wallet')\n",
    "        ax.plot(df_k.timestep, df_k['k_wallet']['mean'],color = colors[3],label='k_wallet')\n",
    "\n",
    "        ax.legend()\n",
    "\n",
    "        ax.fill_between(df_j.timestep, df_j[('j_wallet','min')], df_j[('j_wallet','max')], alpha=0.3 ,color = colors[0],label='j_wallet')        \n",
    "        ax.fill_between(df_r.timestep, df_r[('r_wallet','min')], df_r[('r_wallet','max')], alpha=0.3 ,color = colors[1],label='r_wallet')        \n",
    "        ax.fill_between(df_p.timestep, df_p[('p_wallet','min')], df_p[('p_wallet','max')], alpha=0.3 ,color = colors[2],label='p_wallet')        \n",
    "        ax.fill_between(df_k.timestep, df_k[('k_wallet','min')], df_k[('k_wallet','max')], alpha=0.3 ,color = colors[3],label='k_wallet')        \n",
    "         \n",
    "        ax.set_xlabel('Blocks')\n",
    "        ax.grid(color='0.9', linestyle='-', linewidth=1)\n",
    "\n",
    "        plt.tight_layout()\n",
    "        \n",
    "fig.tight_layout(rect=[0, 0, 1, .97])\n",
    "fig.patch.set_alpha(1)\n",
    "display(fig)\n",
    "plt.close()"
   ]
  },
  {
   "cell_type": "code",
   "execution_count": null,
   "metadata": {},
   "outputs": [],
   "source": [
    "pd.read_pickle ('C:/Users/paruc/Documents/Github/hydra/hydra_multi_class/experiment_block1_test_20210427.pkl')"
   ]
  },
  {
   "cell_type": "code",
   "execution_count": null,
   "metadata": {},
   "outputs": [],
   "source": [
    "import matplotlib.pyplot as plt\n",
    "import numpy as np\n",
    "\n",
    "N = 1000\n",
    "x = np.linspace(0, 10, N)\n",
    "y = x**2\n",
    "ones = np.ones(N)\n",
    "\n",
    "vals = [30, 20, 10] # Values to iterate over and add/subtract from y.\n",
    "\n",
    "fig, ax = plt.subplots()\n",
    "\n",
    "for i, val in enumerate(vals):\n",
    "    alpha = 0.5*(i+1)/len(vals) # Modify the alpha value for each iteration.\n",
    "    ax.fill_between(x, y+ones*val, y-ones*val, color='red', alpha=alpha)\n",
    "\n",
    "ax.plot(x, y, color='red') # Plot the original signal\n",
    "\n",
    "plt.show()"
   ]
  },
  {
   "cell_type": "code",
   "execution_count": null,
   "metadata": {},
   "outputs": [],
   "source": [
    "agent_plot(experiments,'Uniswap Token Holding for Agent ', 100) #,4,'j')"
   ]
  },
  {
   "cell_type": "code",
   "execution_count": null,
   "metadata": {},
   "outputs": [],
   "source": [
    "hydra_agent_plot(experiments,'Hydra Token Holdings for Agent ', 100)"
   ]
  },
  {
   "cell_type": "code",
   "execution_count": null,
   "metadata": {},
   "outputs": [],
   "source": [
    "experiments['hydra_agents'][400]"
   ]
  },
  {
   "cell_type": "markdown",
   "metadata": {},
   "source": [
    "How to \n",
    "- extract particular data from the dataframe, conditioned on an attribute selection \n",
    "- sort data in this new dataframe"
   ]
  },
  {
   "cell_type": "code",
   "execution_count": null,
   "metadata": {},
   "outputs": [],
   "source": [
    "experiments1.loc[experiments['subset'] == 1].sort_values(by =['index'])"
   ]
  },
  {
   "cell_type": "markdown",
   "metadata": {},
   "source": [
    "How then further select particular entries from this dataframe:\n",
    "- by defining colomn (?) and row (?)"
   ]
  },
  {
   "cell_type": "code",
   "execution_count": null,
   "metadata": {},
   "outputs": [],
   "source": [
    "#experiments1.loc[experiments['subset'] == 1].sort_values(by =['index'])['index'][101]"
   ]
  },
  {
   "cell_type": "markdown",
   "metadata": {},
   "source": [
    "How then further select entries by column and row number ?"
   ]
  },
  {
   "cell_type": "code",
   "execution_count": null,
   "metadata": {},
   "outputs": [],
   "source": [
    "experiments1.loc[experiments['subset'] == 1].sort_values(by =['index']).iloc[0][2]"
   ]
  },
  {
   "cell_type": "code",
   "execution_count": null,
   "metadata": {},
   "outputs": [],
   "source": [
    "np.linspace(0, 10, N)"
   ]
  },
  {
   "cell_type": "code",
   "execution_count": null,
   "metadata": {},
   "outputs": [],
   "source": [
    "list(range(0, 5))"
   ]
  },
  {
   "cell_type": "code",
   "execution_count": null,
   "metadata": {},
   "outputs": [],
   "source": [
    "import matplotlib.pyplot as plt\n",
    "import numpy as np\n",
    "\n",
    "x = list(range(0, 5))\n",
    "y = experiments1.loc[experiments['subset'] == 1].sort_values(by =['index']).iloc[2][x]\n",
    "fig, ax = plt.subplots()\n",
    "ax.plot(x, y, color='red') # Plot the original signal\n",
    "\n",
    "plt.show()"
   ]
  },
  {
   "cell_type": "code",
   "execution_count": null,
   "metadata": {},
   "outputs": [],
   "source": [
    "import matplotlib.pyplot as plt\n",
    "import numpy as np\n",
    "\n",
    "N = 1000\n",
    "x = list(range(0, 5))\n",
    "y = experiments1.loc[experiments['subset'] == 1].sort_values(by =['index']).iloc[0][x]\n",
    "ones = np.ones(N)\n",
    "\n",
    "vals = [30, 20, 10] # Values to iterate over and add/subtract from y.\n",
    "\n",
    "fig, ax = plt.subplots()\n",
    "\n",
    "for i, val in enumerate(vals):\n",
    "    alpha = 0.5*(i+1)/len(vals) # Modify the alpha value for each iteration.\n",
    "    ax.fill_between(x, y+ones*val, y-ones*val, color='red', alpha=alpha)\n",
    "\n",
    "ax.plot(x, y, color='red') # Plot the original signal\n",
    "\n",
    "plt.show()"
   ]
  }
 ],
 "metadata": {
  "kernelspec": {
   "display_name": "Python 3",
   "language": "python",
   "name": "python3"
  },
  "language_info": {
   "codemirror_mode": {
    "name": "ipython",
    "version": 3
   },
   "file_extension": ".py",
   "mimetype": "text/x-python",
   "name": "python",
   "nbconvert_exporter": "python",
   "pygments_lexer": "ipython3",
   "version": "3.8.5"
  }
 },
 "nbformat": 4,
 "nbformat_minor": 4
}
