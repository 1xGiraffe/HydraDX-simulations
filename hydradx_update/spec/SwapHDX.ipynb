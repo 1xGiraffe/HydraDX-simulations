{
 "cells": [
  {
   "cell_type": "markdown",
   "id": "3a019cad-b7a2-4bf9-b81e-5f28141864b5",
   "metadata": {},
   "source": [
    "# Swap HDX\n",
    "Agent $\\alpha$ swaps asset $i$ with the protocol for HDX."
   ]
  },
  {
   "cell_type": "code",
   "execution_count": 1,
   "id": "74c2097f-82ff-45a3-90d5-37dcea976d40",
   "metadata": {},
   "outputs": [],
   "source": [
    "import os\n",
    "import sys\n",
    "sys.path.insert(0, os.path.abspath(os.path.join(os.path.abspath(''), '..')))\n",
    "\n",
    "import inspect\n",
    "from model.amm.omnipool_amm import swap_hdx, swap_hdx_delta_Qi, swap_hdx_delta_Ri"
   ]
  },
  {
   "cell_type": "markdown",
   "id": "51648369-2057-4905-a247-9c16ae6d58d9",
   "metadata": {},
   "source": [
    "## Constraints"
   ]
  },
  {
   "cell_type": "markdown",
   "id": "c6ee0aad-6886-461e-9f21-b0f42cf1e867",
   "metadata": {},
   "source": [
    "The swap will keep the swap invariant for asset $i$, $R_iQ_i$, constant."
   ]
  },
  {
   "cell_type": "markdown",
   "id": "ab3ff94e-e3e4-4b85-b3ab-053478d26eb2",
   "metadata": {},
   "source": [
    "## Requirements"
   ]
  },
  {
   "cell_type": "markdown",
   "id": "2734124e-af66-4b57-8592-47eccd58af50",
   "metadata": {},
   "source": [
    "#### Case 1: Asset $i$ sold\n",
    "$$\n",
    "\\Delta R_i \\leq r_i^\\alpha\n",
    "$$\n",
    "#### Case 2: HDX sold\n",
    "$$\n",
    "\\Delta Q_i \\leq q^\\alpha\n",
    "$$"
   ]
  },
  {
   "cell_type": "markdown",
   "id": "ba781d91-49f5-4073-b5ae-511c7d1ce160",
   "metadata": {},
   "source": [
    "## Updating AMM state"
   ]
  },
  {
   "cell_type": "markdown",
   "id": "e804ecc1-eec1-47c5-8ced-66a0dbf9bd51",
   "metadata": {},
   "source": [
    "### Case 1: Asset $i$ sold"
   ]
  },
  {
   "cell_type": "markdown",
   "id": "18d8bacc-8771-4746-b4c7-251223447d2f",
   "metadata": {},
   "source": [
    "$$\n",
    "\\Delta Q_i = Q_i\\frac{- \\Delta R_i}{R_i + \\Delta R_i}\n",
    "$$"
   ]
  },
  {
   "cell_type": "code",
   "execution_count": 2,
   "id": "ce280e31-f968-4484-bcbd-512c7330f894",
   "metadata": {},
   "outputs": [
    {
     "name": "stdout",
     "output_type": "stream",
     "text": [
      "def swap_hdx_delta_Qi(old_state: dict, delta_Ri: float, i: int) -> float:\n",
      "    return old_state['Q'][i] * (- delta_Ri / (old_state['R'][i] + delta_Ri))\n",
      "\n"
     ]
    }
   ],
   "source": [
    "print(inspect.getsource(swap_hdx_delta_Qi))"
   ]
  },
  {
   "cell_type": "markdown",
   "id": "9731de03-4924-4f6b-a6ce-bdb5fdcf91a4",
   "metadata": {},
   "source": [
    "### Case 2: HDX sold"
   ]
  },
  {
   "cell_type": "markdown",
   "id": "4554c820-71a3-4981-92ea-3442640e4537",
   "metadata": {},
   "source": [
    "$$\n",
    "\\Delta R_i = R_i\\frac{- \\Delta Q_i}{Q_i + \\Delta Q_i}\n",
    "$$"
   ]
  },
  {
   "cell_type": "code",
   "execution_count": 3,
   "id": "3fa4e164-ca73-4094-8bd7-93b5795c5ee4",
   "metadata": {},
   "outputs": [
    {
     "name": "stdout",
     "output_type": "stream",
     "text": [
      "def swap_hdx_delta_Ri(old_state: dict, delta_Qi: float, i: int) -> float:\n",
      "    return old_state['R'][i] * (- delta_Qi / (old_state['Q'][i] + delta_Qi))\n",
      "\n"
     ]
    }
   ],
   "source": [
    "print(inspect.getsource(swap_hdx_delta_Ri))"
   ]
  },
  {
   "cell_type": "markdown",
   "id": "7ac04084-09e9-4e27-bdea-d4deed673ce3",
   "metadata": {},
   "source": [
    "## Updating agent state"
   ]
  },
  {
   "cell_type": "markdown",
   "id": "95d236a7-fa50-461f-ab9e-1c2bb1781b6f",
   "metadata": {},
   "source": [
    "$$\n",
    "\\Delta q^\\alpha = - \\Delta Q_i\\\\\n",
    "\\Delta r_i^\\alpha = - \\Delta R_i\n",
    "$$"
   ]
  },
  {
   "cell_type": "code",
   "execution_count": 4,
   "id": "bd16beca-63b8-4864-bc1d-3decce681cb8",
   "metadata": {},
   "outputs": [
    {
     "name": "stdout",
     "output_type": "stream",
     "text": [
      "def swap_hdx(\n",
      "        old_state: dict,\n",
      "        old_agents: dict,\n",
      "        trader_id: string,\n",
      "        delta_R: float,\n",
      "        delta_Q: float,\n",
      "        i: int\n",
      ") -> tuple:\n",
      "    \"\"\"Compute new state after HDX swap\"\"\"\n",
      "\n",
      "    new_state = copy.deepcopy(old_state)\n",
      "    new_agents = copy.deepcopy(old_agents)\n",
      "    if delta_Q == 0:\n",
      "        delta_Q = swap_hdx_delta_Qi(old_state, delta_R, i)\n",
      "    elif delta_R == 0:\n",
      "        delta_R = swap_hdx_delta_Ri(old_state, delta_Q, i)\n",
      "    else:\n",
      "        raise Exception\n",
      "\n",
      "    # Token amounts update\n",
      "    new_state['R'][i] += delta_R\n",
      "    new_state['Q'][i] += delta_Q\n",
      "    new_agents[trader_id]['r'][i] -= delta_R\n",
      "    new_agents[trader_id]['q'] -= delta_Q\n",
      "\n",
      "    return new_state, new_agents\n",
      "\n"
     ]
    }
   ],
   "source": [
    "print(inspect.getsource(swap_hdx))"
   ]
  },
  {
   "cell_type": "code",
   "execution_count": null,
   "id": "b2e739d5-22a0-4a72-a479-1337339b5d04",
   "metadata": {},
   "outputs": [],
   "source": []
  }
 ],
 "metadata": {
  "kernelspec": {
   "display_name": "Python 3",
   "language": "python",
   "name": "python3"
  },
  "language_info": {
   "codemirror_mode": {
    "name": "ipython",
    "version": 3
   },
   "file_extension": ".py",
   "mimetype": "text/x-python",
   "name": "python",
   "nbconvert_exporter": "python",
   "pygments_lexer": "ipython3",
   "version": "3.9.5"
  }
 },
 "nbformat": 4,
 "nbformat_minor": 5
}
