{
 "cells": [
  {
   "cell_type": "markdown",
   "metadata": {},
   "source": [
    "# Calculation of optimal arbitrage size in Omnipool for swap between two risk assets\n",
    "\n",
    "All numerical calculations and example provided here: \n",
    "\n",
    "https://en.smath.com/cloud/worksheet/Y75NrZeS\n",
    "\n",
    "You can change input values and check result with different initial conditions"
   ]
  },
  {
   "cell_type": "markdown",
   "metadata": {
    "tags": []
   },
   "source": [
    "![](https://media.discordapp.net/attachments/921078273323188247/936270411413471242/unknown.png)"
   ]
  },
  {
   "cell_type": "markdown",
   "metadata": {},
   "source": [
    "- $fee$: level of swap fee\n",
    "- $Q_i$: amount of Lerna in $i$ subpool\n",
    "- $R_i$: amount of risk asset $i$ in subpool\n",
    "- $P_i^0$: dollar price of risk asset $i$ on external market with infinite liquidity\n",
    "- $\\Delta R_i$: amount of risk asset $i$ we add or withdraw\n",
    "- $\\Delta Q_i$: amount of Lerna in subpool $i$ we add or withdraw\n",
    "- $Z_i = R_i Q_i$: invariant for subpool $i$"
   ]
  },
  {
   "cell_type": "markdown",
   "metadata": {
    "tags": []
   },
   "source": [
    "![](https://cdn.discordapp.com/attachments/921078273323188247/936269294340309073/unknown.png)"
   ]
  },
  {
   "cell_type": "markdown",
   "metadata": {
    "tags": []
   },
   "source": [
    "$$\n",
    "\\begin{align}\n",
    "P_Q^0 &= \\frac{R_i P_i^0}{Q_i}\\\\\n",
    "P_Q^0 &= \\frac{R_j P_j^0}{Q_j}\\\\\n",
    "\\end{align}\n",
    "$$\n",
    "After arbitrage operation, these should be the same for all $i,j$.\n",
    "\n",
    "$$\n",
    "\\frac{(R_i + \\Delta R_i) P_Q^0}{Q_i + \\Delta Q_i} = \\frac{(R_j + \\Delta R_j) P_Q^0}{Q_j + \\Delta Q_j}\n",
    "$$\n",
    "\n",
    "$$\n",
    "\\begin{align}\n",
    "R_i + \\Delta R_i &= \\frac{Z_i}{Q_i + \\Delta Q_i}\\\\\n",
    "R_j + \\Delta R_j &= \\frac{Z_j}{Q_j + \\Delta Q_j}\\\\\n",
    "\\Delta Q_j &= -\\Delta Q_i\n",
    "\\end{align}\n",
    "$$\n",
    "\n",
    "$$\n",
    "\\frac{Z_i P_i^0}{(Q_i + \\Delta Q_i)^2} = \\frac{Z_j P_j^0}{(Q_j - \\Delta Q_i)^2}\n",
    "$$\n",
    "\n",
    "We can find $\\Delta Q_i$ such that the price of Lerna in dollars is identical per different pools:\n",
    "$$\n",
    "\\Delta Q_i = \\frac{Q_j \\sqrt{Z_i P_i^0} - Q_i \\sqrt{Z_j P_j^0}}{\\sqrt{Z_i P_i^0} + \\sqrt{Z_j P_j^0}}\n",
    "$$"
   ]
  },
  {
   "cell_type": "markdown",
   "metadata": {},
   "source": [
    "![](https://cdn.discordapp.com/attachments/921078273323188247/936288407154470923/unknown.png)"
   ]
  },
  {
   "cell_type": "markdown",
   "metadata": {},
   "source": [
    "From this one can find $\\Delta R_i$ and $\\Delta R_j$:\n",
    "$$\n",
    "\\begin{align}\n",
    "\\Delta R_i &= \\frac{Z_i}{Q_i + \\Delta Q_i} - R_i\\\\\n",
    "\\Delta R_j &= \\frac{Z_j}{Q_j - \\Delta Q_i} - R_j\\\\\n",
    "\\end{align}\n",
    "$$\n",
    "Finally we can calculate dollar PnL without fee:\n",
    "$$\n",
    "PnL = -(\\Delta R_i P_i^0 + \\Delta R_j P_j^0)\n",
    "$$\n",
    "\n",
    "Fee adjustment:\n",
    "$$\n",
    "PnL_{fee} = -\\left(\\frac{\\Delta R_i}{1 - fee}P_i^0 + \\Delta R_j P_j^0\\right)\n",
    "$$"
   ]
  },
  {
   "cell_type": "code",
   "execution_count": null,
   "metadata": {},
   "outputs": [],
   "source": []
  }
 ],
 "metadata": {
  "interpreter": {
   "hash": "b3ba2566441a7c06988d0923437866b63cedc61552a5af99d1f4fb67d367b25f"
  },
  "kernelspec": {
   "display_name": "Python 3",
   "language": "python",
   "name": "python3"
  },
  "language_info": {
   "codemirror_mode": {
    "name": "ipython",
    "version": 3
   },
   "file_extension": ".py",
   "mimetype": "text/x-python",
   "name": "python",
   "nbconvert_exporter": "python",
   "pygments_lexer": "ipython3",
   "version": "3.9.5"
  }
 },
 "nbformat": 4,
 "nbformat_minor": 4
}
