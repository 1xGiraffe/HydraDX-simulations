{
 "cells": [
  {
   "cell_type": "markdown",
   "id": "eb74ffba-acf3-4147-9e39-f82aa2ae0707",
   "metadata": {},
   "source": [
    "We consider the IL of an LP who contributes $\\Delta r_\\alpha$ of liquidity in asset $i$ to Omnipool through a price of of $p_\\alpha \\to p_i^Q$."
   ]
  },
  {
   "cell_type": "markdown",
   "id": "b8c84649-0540-4461-b505-fd7ddefe700e",
   "metadata": {},
   "source": [
    "Per the spec, when the LP contributed $\\Delta r_\\alpha (< 0)$ shares, they received\n",
    "$$\n",
    "s_i = \\Delta s_\\alpha = S_{i0} \\frac{-\\Delta r_\\alpha}{R_{i0}}\\\\\n",
    "$$\n",
    "\n",
    "(Note that the sign of $\\Delta$ variables will indicate flow to the agent or AMM depending on the variable. When they agent contributes liquidity to the AMM, $\\Delta r_\\alpha < 0$, since it is an agent variable.)"
   ]
  },
  {
   "cell_type": "markdown",
   "id": "1a0f88d9-1e8f-4634-9d8a-1a7301a6c500",
   "metadata": {},
   "source": [
    "We now consider what the LP is entitled to withdraw.\n",
    "\n",
    "Per the spec, the LP receives $\\Delta r_i$ of asset $i$ and $\\Delta q_i$ of LHDX, with\n",
    "$$\n",
    "\\begin{align}\n",
    "\\Delta B_i &= max\\left(\\frac{p_\\alpha - p_i^Q}{p_i^Q + p_\\alpha}s_i, -B_i\\right)\\\\\n",
    "\\Delta r_i &= \\frac{R_i}{S_i} (s_i - \\Delta B_i) \\\\\\\\\n",
    "\\Delta q_i &= p_i^Q\\left(\\frac{2p_i^Q}{p_i^Q + p_\\alpha} \\frac{s_i}{S_i}R_i - \\Delta r_i\\right)\n",
    "\\end{align}\n",
    "$$\n",
    "\n",
    "We consider 2 cases."
   ]
  },
  {
   "cell_type": "markdown",
   "id": "2ff496b8-0991-48e6-a12f-62474c390daa",
   "metadata": {},
   "source": [
    "### $\\frac{p_\\alpha - p_i^Q}{p_i^Q + p_\\alpha}s_i > -B_i$"
   ]
  },
  {
   "cell_type": "markdown",
   "id": "b2b0ceb3-a0d8-4264-873a-f81743a77c1c",
   "metadata": {},
   "source": [
    "$$\n",
    "\\Delta B_i = \\frac{p_\\alpha - p_i^Q}{p_i^Q + p_\\alpha}s_i\\\\\n",
    "\\Delta r_i = \\frac{R_i}{S_i} (s_i - \\frac{p_\\alpha - p_i^Q}{p_i^Q + p_\\alpha}s_i) = \\frac{R_i}{S_i}\\frac{2p_i^Q}{p_i^Q + p_\\alpha}s_i\\\\\n",
    "\\Delta q_i = 0\n",
    "$$"
   ]
  },
  {
   "cell_type": "markdown",
   "id": "fcbbf476-8746-4206-b4d3-d4c11818acd9",
   "metadata": {},
   "source": [
    "### $\\frac{p_\\alpha - p_i^Q}{p_i^Q + p_\\alpha}s_i < -B_i$"
   ]
  },
  {
   "cell_type": "markdown",
   "id": "f977387b-70ba-4728-99e9-8ce0d9a3fec1",
   "metadata": {},
   "source": [
    "$$\n",
    "\\begin{align}\n",
    "\\Delta B_i &= -B_i\\\\\n",
    "\\Delta r_i &= \\frac{R_i}{S_i} (s_i + B_i)\\\\\n",
    "\\Delta q_i &= p_i^Q\\left(\\frac{2p_i^Q}{p_i^Q + p_\\alpha} \\frac{s_i}{S_i}R_i - \\frac{R_i}{S_i} (s_i + B_i)\\right)\\\\\n",
    "\\end{align}\n",
    "$$"
   ]
  },
  {
   "cell_type": "markdown",
   "id": "edcfed89-4691-4d74-b177-9158330a5618",
   "metadata": {},
   "source": [
    "Note that in either of these cases, the payout has value\n",
    "$$\n",
    "p_i^Q\\Delta r_i + \\Delta q_i = p_i^Q \\frac{R_i}{S_i}\\frac{2p_i^Q}{p_i^Q + p_\\alpha}s_i\n",
    "$$"
   ]
  },
  {
   "cell_type": "markdown",
   "id": "39057d57-79bc-4c11-880c-8ee260b0980c",
   "metadata": {},
   "source": [
    "For the IL calculation, this is $val_{pool}$, while $val_{hold} = -p_i^Q\\Delta r_\\alpha$."
   ]
  },
  {
   "cell_type": "markdown",
   "id": "c1ef202a-7dcb-43f1-8e10-de1d0f8564cc",
   "metadata": {},
   "source": [
    "Thus\n",
    "$$\n",
    "\\begin{align}\n",
    "IL &= \\frac{val_{pool}}{val_{hold}} - 1\\\\\n",
    "&= p_i^Q \\frac{R_i}{S_i}\\frac{2p_i^Q}{p_i^Q + p_\\alpha}s_i \\frac{1}{-p_i^Q\\Delta r_\\alpha} - 1\\\\\n",
    "&= \\frac{R_{i0} + \\Delta r_\\alpha}{S_{i0} + s_i}\\frac{S_{i0}}{R_{i0}}\\frac{2p_i^Q}{p_i^Q + p_\\alpha} - 1\\\\\n",
    "&= \\frac{R_{i0} - \\Delta r_\\alpha}{R_{i0}S_{i0} - S_{i0}\\Delta r_\\alpha}\\frac{S_{i0}}{1}\\frac{2p_i^Q}{p_i^Q + p_\\alpha} - 1\\\\\n",
    "&= \\frac{2p_i^Q}{p_i^Q + p_\\alpha} - 1\\\\\n",
    "\\end{align}\n",
    "$$"
   ]
  },
  {
   "cell_type": "markdown",
   "id": "ef8e42d3-c0a7-437e-bbaf-3f306bbab559",
   "metadata": {},
   "source": [
    "This is identical to the IL of an $xy = k$ pool between the asset $i$ and LHDX."
   ]
  }
 ],
 "metadata": {
  "kernelspec": {
   "display_name": "Python 3",
   "language": "python",
   "name": "python3"
  },
  "language_info": {
   "codemirror_mode": {
    "name": "ipython",
    "version": 3
   },
   "file_extension": ".py",
   "mimetype": "text/x-python",
   "name": "python",
   "nbconvert_exporter": "python",
   "pygments_lexer": "ipython3",
   "version": "3.9.5"
  }
 },
 "nbformat": 4,
 "nbformat_minor": 5
}
