{
 "cells": [
  {
   "cell_type": "markdown",
   "id": "62f33674-282c-4384-9bd3-6ac72d6f6b52",
   "metadata": {},
   "source": [
    "# IL for reweighting AMM\n",
    "\n",
    "Consider a CFMM with swap invariant $x^{-a} + y^{-a}$. It has price function $p(x,y) = p_x^y = \\left(\\frac{y}{x}\\right)^{a+1}$."
   ]
  },
  {
   "cell_type": "markdown",
   "id": "95adeb76-e6cb-41f0-84ed-a0ca6e4565e6",
   "metadata": {},
   "source": [
    "Since\n",
    "$$\n",
    "val_{hold} = x_0p(x,y) + y_0\\\\\n",
    "val_{pool} = xp(x,y) + y\n",
    "$$"
   ]
  },
  {
   "cell_type": "markdown",
   "id": "0cc36205-cbc2-4038-a1bf-6a92c361c72c",
   "metadata": {},
   "source": [
    "we see that\n",
    "$$\n",
    "IL = \\frac{val_{pool}}{val_{hold}} - 1 = \\frac{y^a + x^a}{\\frac{x_0}{x} y^a + \\frac{y_0}{y} x^a } - 1\n",
    "$$"
   ]
  },
  {
   "cell_type": "code",
   "execution_count": null,
   "id": "86ac3d77-de6a-429d-a3d9-0673938186ec",
   "metadata": {},
   "outputs": [],
   "source": []
  }
 ],
 "metadata": {
  "kernelspec": {
   "display_name": "Python 3",
   "language": "python",
   "name": "python3"
  },
  "language_info": {
   "codemirror_mode": {
    "name": "ipython",
    "version": 3
   },
   "file_extension": ".py",
   "mimetype": "text/x-python",
   "name": "python",
   "nbconvert_exporter": "python",
   "pygments_lexer": "ipython3",
   "version": "3.9.5"
  }
 },
 "nbformat": 4,
 "nbformat_minor": 5
}
