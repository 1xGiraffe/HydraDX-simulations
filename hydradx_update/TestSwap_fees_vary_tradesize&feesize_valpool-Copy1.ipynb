{
 "cells": [
  {
   "cell_type": "code",
   "execution_count": 1,
   "id": "unlimited-friendship",
   "metadata": {},
   "outputs": [
    {
     "data": {
      "text/plain": [
       "{'cfmm_type': '',\n",
       " 'initial_values': {'token_list': ['R1', 'R2'],\n",
       "  'R': [1000, 1500000],\n",
       "  'P': [2, 0.6666666666666666],\n",
       "  'fee_assets': 0.01,\n",
       "  'fee_HDX': 0.02},\n",
       " 'agent_d': {'Trader': {'HDX': 1000000, 'R1': 1000000, 'R2': 1000000},\n",
       "  'LP1': {'omniR1': 10}},\n",
       " 'action_ls': [('trade', 1000)],\n",
       " 'prob_dict': {'trade': {'sell_r2_for_r1': 0.5, 'sell_r1_for_r2': 0.5}},\n",
       " 'action_dict': {'sell_r2_for_r1': {'token_buy': 'R1',\n",
       "   'token_sell': 'R2',\n",
       "   'amount_sell': 10,\n",
       "   'action_id': 'Trade',\n",
       "   'agent_id': 'Trader'},\n",
       "  'sell_r1_for_r2': {'token_sell': 'R1',\n",
       "   'token_buy': 'R2',\n",
       "   'amount_sell': 10,\n",
       "   'action_id': 'Trade',\n",
       "   'agent_id': 'Trader'}}}"
      ]
     },
     "execution_count": 1,
     "metadata": {},
     "output_type": "execute_result"
    }
   ],
   "source": [
    "from model.model_initialization import * \n",
    "initialize_model(1000, 10, 0.01, 0.02)"
   ]
  },
  {
   "cell_type": "code",
   "execution_count": 2,
   "id": "6b8e2d21-c455-4b2b-a1c4-0c2cce0fb286",
   "metadata": {},
   "outputs": [
    {
     "ename": "TypeError",
     "evalue": "unsupported operand type(s) for /: 'list' and 'list'",
     "output_type": "error",
     "traceback": [
      "\u001b[1;31m---------------------------------------------------------------------------\u001b[0m",
      "\u001b[1;31mTypeError\u001b[0m                                 Traceback (most recent call last)",
      "\u001b[1;32m<ipython-input-2-4c8150f4baf2>\u001b[0m in \u001b[0;36m<module>\u001b[1;34m\u001b[0m\n\u001b[0;32m     54\u001b[0m \u001b[1;33m\u001b[0m\u001b[0m\n\u001b[0;32m     55\u001b[0m         \u001b[1;31m#run model\u001b[0m\u001b[1;33m\u001b[0m\u001b[1;33m\u001b[0m\u001b[1;33m\u001b[0m\u001b[0m\n\u001b[1;32m---> 56\u001b[1;33m         \u001b[0mconfig_dict\u001b[0m\u001b[1;33m,\u001b[0m \u001b[0mstate\u001b[0m \u001b[1;33m=\u001b[0m \u001b[0minit_utils\u001b[0m\u001b[1;33m.\u001b[0m\u001b[0mget_configuration\u001b[0m\u001b[1;33m(\u001b[0m\u001b[0mconfig_params\u001b[0m\u001b[1;33m)\u001b[0m\u001b[1;33m\u001b[0m\u001b[1;33m\u001b[0m\u001b[0m\n\u001b[0m\u001b[0;32m     57\u001b[0m \u001b[1;33m\u001b[0m\u001b[0m\n\u001b[0;32m     58\u001b[0m         \u001b[0mpd\u001b[0m\u001b[1;33m.\u001b[0m\u001b[0moptions\u001b[0m\u001b[1;33m.\u001b[0m\u001b[0mmode\u001b[0m\u001b[1;33m.\u001b[0m\u001b[0mchained_assignment\u001b[0m \u001b[1;33m=\u001b[0m \u001b[1;32mNone\u001b[0m  \u001b[1;31m# default='warn'\u001b[0m\u001b[1;33m\u001b[0m\u001b[1;33m\u001b[0m\u001b[0m\n",
      "\u001b[1;32m~\\Documents\\GitHub\\HydraDX-simulations\\hydradx_update\\model\\init_utils.py\u001b[0m in \u001b[0;36mget_configuration\u001b[1;34m(config_d)\u001b[0m\n\u001b[0;32m     17\u001b[0m \u001b[1;33m\u001b[0m\u001b[0m\n\u001b[0;32m     18\u001b[0m \u001b[1;32mdef\u001b[0m \u001b[0mget_configuration\u001b[0m\u001b[1;33m(\u001b[0m\u001b[0mconfig_d\u001b[0m\u001b[1;33m:\u001b[0m \u001b[0mdict\u001b[0m\u001b[1;33m)\u001b[0m \u001b[1;33m->\u001b[0m \u001b[0mtuple\u001b[0m\u001b[1;33m:\u001b[0m\u001b[1;33m\u001b[0m\u001b[1;33m\u001b[0m\u001b[0m\n\u001b[1;32m---> 19\u001b[1;33m     \u001b[0minitial_values\u001b[0m \u001b[1;33m=\u001b[0m \u001b[0mcomplete_initial_values\u001b[0m\u001b[1;33m(\u001b[0m\u001b[0mconfig_d\u001b[0m\u001b[1;33m[\u001b[0m\u001b[1;34m'initial_values'\u001b[0m\u001b[1;33m]\u001b[0m\u001b[1;33m,\u001b[0m \u001b[0mconfig_d\u001b[0m\u001b[1;33m[\u001b[0m\u001b[1;34m'agent_d'\u001b[0m\u001b[1;33m]\u001b[0m\u001b[1;33m)\u001b[0m\u001b[1;33m\u001b[0m\u001b[1;33m\u001b[0m\u001b[0m\n\u001b[0m\u001b[0;32m     20\u001b[0m     \u001b[0mtimesteps\u001b[0m \u001b[1;33m=\u001b[0m \u001b[0msum\u001b[0m\u001b[1;33m(\u001b[0m\u001b[1;33m[\u001b[0m\u001b[0mx\u001b[0m\u001b[1;33m[\u001b[0m\u001b[1;36m1\u001b[0m\u001b[1;33m]\u001b[0m \u001b[1;32mfor\u001b[0m \u001b[0mx\u001b[0m \u001b[1;32min\u001b[0m \u001b[0mconfig_d\u001b[0m\u001b[1;33m[\u001b[0m\u001b[1;34m'action_ls'\u001b[0m\u001b[1;33m]\u001b[0m\u001b[1;33m]\u001b[0m\u001b[1;33m)\u001b[0m\u001b[1;33m\u001b[0m\u001b[1;33m\u001b[0m\u001b[0m\n\u001b[0;32m     21\u001b[0m     \u001b[0maction_list\u001b[0m \u001b[1;33m=\u001b[0m \u001b[0mactions\u001b[0m\u001b[1;33m.\u001b[0m\u001b[0mget_action_list\u001b[0m\u001b[1;33m(\u001b[0m\u001b[0mconfig_d\u001b[0m\u001b[1;33m[\u001b[0m\u001b[1;34m'action_ls'\u001b[0m\u001b[1;33m]\u001b[0m\u001b[1;33m,\u001b[0m \u001b[0mconfig_d\u001b[0m\u001b[1;33m[\u001b[0m\u001b[1;34m'prob_dict'\u001b[0m\u001b[1;33m]\u001b[0m\u001b[1;33m)\u001b[0m\u001b[1;33m\u001b[0m\u001b[1;33m\u001b[0m\u001b[0m\n",
      "\u001b[1;32m~\\Documents\\GitHub\\HydraDX-simulations\\hydradx_update\\model\\init_utils.py\u001b[0m in \u001b[0;36mcomplete_initial_values\u001b[1;34m(values, agent_d)\u001b[0m\n\u001b[0;32m      7\u001b[0m \u001b[1;33m\u001b[0m\u001b[0m\n\u001b[0;32m      8\u001b[0m \u001b[1;32mdef\u001b[0m \u001b[0mcomplete_initial_values\u001b[0m\u001b[1;33m(\u001b[0m\u001b[0mvalues\u001b[0m\u001b[1;33m:\u001b[0m \u001b[0mdict\u001b[0m\u001b[1;33m,\u001b[0m \u001b[0magent_d\u001b[0m\u001b[1;33m:\u001b[0m \u001b[0mdict\u001b[0m \u001b[1;33m=\u001b[0m \u001b[1;32mNone\u001b[0m\u001b[1;33m)\u001b[0m \u001b[1;33m->\u001b[0m \u001b[0mdict\u001b[0m\u001b[1;33m:\u001b[0m\u001b[1;33m\u001b[0m\u001b[1;33m\u001b[0m\u001b[0m\n\u001b[1;32m----> 9\u001b[1;33m     \u001b[0mstate\u001b[0m \u001b[1;33m=\u001b[0m \u001b[0mamm\u001b[0m\u001b[1;33m.\u001b[0m\u001b[0minitialize_state\u001b[0m\u001b[1;33m(\u001b[0m\u001b[0mvalues\u001b[0m\u001b[1;33m,\u001b[0m \u001b[0mvalues\u001b[0m\u001b[1;33m[\u001b[0m\u001b[1;34m'token_list'\u001b[0m\u001b[1;33m]\u001b[0m\u001b[1;33m,\u001b[0m \u001b[0magent_d\u001b[0m\u001b[1;33m)\u001b[0m\u001b[1;33m\u001b[0m\u001b[1;33m\u001b[0m\u001b[0m\n\u001b[0m\u001b[0;32m     10\u001b[0m     \u001b[0mstate\u001b[0m\u001b[1;33m[\u001b[0m\u001b[1;34m'token_list'\u001b[0m\u001b[1;33m]\u001b[0m \u001b[1;33m=\u001b[0m \u001b[0mvalues\u001b[0m\u001b[1;33m[\u001b[0m\u001b[1;34m'token_list'\u001b[0m\u001b[1;33m]\u001b[0m\u001b[1;33m\u001b[0m\u001b[1;33m\u001b[0m\u001b[0m\n\u001b[0;32m     11\u001b[0m     \u001b[0mstate\u001b[0m\u001b[1;33m[\u001b[0m\u001b[1;34m'fee_assets'\u001b[0m\u001b[1;33m]\u001b[0m \u001b[1;33m=\u001b[0m \u001b[0mvalues\u001b[0m\u001b[1;33m[\u001b[0m\u001b[1;34m'fee_assets'\u001b[0m\u001b[1;33m]\u001b[0m\u001b[1;33m\u001b[0m\u001b[1;33m\u001b[0m\u001b[0m\n",
      "\u001b[1;32m~\\Documents\\GitHub\\HydraDX-simulations\\hydradx_update\\model\\amm\\amm.py\u001b[0m in \u001b[0;36minitialize_state\u001b[1;34m(init_d, token_list, agents_d)\u001b[0m\n\u001b[0;32m     22\u001b[0m     \u001b[1;31m# initialize LPs\u001b[0m\u001b[1;33m\u001b[0m\u001b[1;33m\u001b[0m\u001b[1;33m\u001b[0m\u001b[0m\n\u001b[0;32m     23\u001b[0m     \u001b[1;32mif\u001b[0m \u001b[0magents_d\u001b[0m \u001b[1;32mis\u001b[0m \u001b[1;32mnot\u001b[0m \u001b[1;32mNone\u001b[0m\u001b[1;33m:\u001b[0m\u001b[1;33m\u001b[0m\u001b[1;33m\u001b[0m\u001b[0m\n\u001b[1;32m---> 24\u001b[1;33m         \u001b[0mconverted_agents_d\u001b[0m \u001b[1;33m=\u001b[0m \u001b[0mconvert_agents\u001b[0m\u001b[1;33m(\u001b[0m\u001b[0mtokens_state\u001b[0m\u001b[1;33m,\u001b[0m \u001b[0mtoken_list\u001b[0m\u001b[1;33m,\u001b[0m \u001b[0magents_d\u001b[0m\u001b[1;33m)\u001b[0m\u001b[1;33m\u001b[0m\u001b[1;33m\u001b[0m\u001b[0m\n\u001b[0m\u001b[0;32m     25\u001b[0m     \u001b[1;32melse\u001b[0m\u001b[1;33m:\u001b[0m\u001b[1;33m\u001b[0m\u001b[1;33m\u001b[0m\u001b[0m\n\u001b[0;32m     26\u001b[0m         \u001b[0mconverted_agents_d\u001b[0m \u001b[1;33m=\u001b[0m \u001b[1;32mNone\u001b[0m\u001b[1;33m\u001b[0m\u001b[1;33m\u001b[0m\u001b[0m\n",
      "\u001b[1;32m~\\Documents\\GitHub\\HydraDX-simulations\\hydradx_update\\model\\amm\\amm.py\u001b[0m in \u001b[0;36mconvert_agents\u001b[1;34m(state, token_list, agents_dict)\u001b[0m\n\u001b[0;32m    137\u001b[0m     \u001b[0md\u001b[0m \u001b[1;33m=\u001b[0m \u001b[1;33m{\u001b[0m\u001b[1;33m}\u001b[0m\u001b[1;33m\u001b[0m\u001b[1;33m\u001b[0m\u001b[0m\n\u001b[0;32m    138\u001b[0m     \u001b[1;32mfor\u001b[0m \u001b[0magent_id\u001b[0m \u001b[1;32min\u001b[0m \u001b[0magents_dict\u001b[0m\u001b[1;33m:\u001b[0m\u001b[1;33m\u001b[0m\u001b[1;33m\u001b[0m\u001b[0m\n\u001b[1;32m--> 139\u001b[1;33m         \u001b[0md\u001b[0m\u001b[1;33m[\u001b[0m\u001b[0magent_id\u001b[0m\u001b[1;33m]\u001b[0m \u001b[1;33m=\u001b[0m \u001b[0mconvert_agent\u001b[0m\u001b[1;33m(\u001b[0m\u001b[0mstate\u001b[0m\u001b[1;33m,\u001b[0m \u001b[0mtoken_list\u001b[0m\u001b[1;33m,\u001b[0m \u001b[0magents_dict\u001b[0m\u001b[1;33m[\u001b[0m\u001b[0magent_id\u001b[0m\u001b[1;33m]\u001b[0m\u001b[1;33m)\u001b[0m\u001b[1;33m\u001b[0m\u001b[1;33m\u001b[0m\u001b[0m\n\u001b[0m\u001b[0;32m    140\u001b[0m     \u001b[1;32mreturn\u001b[0m \u001b[0md\u001b[0m\u001b[1;33m\u001b[0m\u001b[1;33m\u001b[0m\u001b[0m\n",
      "\u001b[1;32m~\\Documents\\GitHub\\HydraDX-simulations\\hydradx_update\\model\\amm\\amm.py\u001b[0m in \u001b[0;36mconvert_agent\u001b[1;34m(state, token_list, agent_dict)\u001b[0m\n\u001b[0;32m    129\u001b[0m             \u001b[0md\u001b[0m\u001b[1;33m[\u001b[0m\u001b[1;34m's'\u001b[0m\u001b[1;33m]\u001b[0m\u001b[1;33m[\u001b[0m\u001b[0mi\u001b[0m\u001b[1;33m]\u001b[0m \u001b[1;33m=\u001b[0m \u001b[0magent_dict\u001b[0m\u001b[1;33m[\u001b[0m\u001b[1;34m'omni'\u001b[0m \u001b[1;33m+\u001b[0m \u001b[0mtoken_list\u001b[0m\u001b[1;33m[\u001b[0m\u001b[0mi\u001b[0m\u001b[1;33m]\u001b[0m\u001b[1;33m]\u001b[0m\u001b[1;33m\u001b[0m\u001b[1;33m\u001b[0m\u001b[0m\n\u001b[0;32m    130\u001b[0m             \u001b[1;31m# absent other information, assumes LPs contributed at current prices\u001b[0m\u001b[1;33m\u001b[0m\u001b[1;33m\u001b[0m\u001b[1;33m\u001b[0m\u001b[0m\n\u001b[1;32m--> 131\u001b[1;33m             \u001b[0md\u001b[0m\u001b[1;33m[\u001b[0m\u001b[1;34m'p'\u001b[0m\u001b[1;33m]\u001b[0m\u001b[1;33m[\u001b[0m\u001b[0mi\u001b[0m\u001b[1;33m]\u001b[0m \u001b[1;33m=\u001b[0m \u001b[0mprice_i\u001b[0m\u001b[1;33m(\u001b[0m\u001b[0mstate\u001b[0m\u001b[1;33m,\u001b[0m \u001b[0mi\u001b[0m\u001b[1;33m)\u001b[0m\u001b[1;33m\u001b[0m\u001b[1;33m\u001b[0m\u001b[0m\n\u001b[0m\u001b[0;32m    132\u001b[0m \u001b[1;33m\u001b[0m\u001b[0m\n\u001b[0;32m    133\u001b[0m     \u001b[1;32mreturn\u001b[0m \u001b[0md\u001b[0m\u001b[1;33m\u001b[0m\u001b[1;33m\u001b[0m\u001b[0m\n",
      "\u001b[1;32m~\\Documents\\GitHub\\HydraDX-simulations\\hydradx_update\\model\\amm\\amm.py\u001b[0m in \u001b[0;36mprice_i\u001b[1;34m(state, i)\u001b[0m\n\u001b[0;32m     64\u001b[0m \u001b[1;33m\u001b[0m\u001b[0m\n\u001b[0;32m     65\u001b[0m \u001b[1;32mdef\u001b[0m \u001b[0mprice_i\u001b[0m\u001b[1;33m(\u001b[0m\u001b[0mstate\u001b[0m\u001b[1;33m:\u001b[0m \u001b[0mdict\u001b[0m\u001b[1;33m,\u001b[0m \u001b[0mi\u001b[0m\u001b[1;33m:\u001b[0m \u001b[0mint\u001b[0m\u001b[1;33m)\u001b[0m \u001b[1;33m->\u001b[0m \u001b[0mfloat\u001b[0m\u001b[1;33m:\u001b[0m\u001b[1;33m\u001b[0m\u001b[1;33m\u001b[0m\u001b[0m\n\u001b[1;32m---> 66\u001b[1;33m     \u001b[1;32mreturn\u001b[0m \u001b[0moamm\u001b[0m\u001b[1;33m.\u001b[0m\u001b[0mprice_i\u001b[0m\u001b[1;33m(\u001b[0m\u001b[0mstate\u001b[0m\u001b[1;33m,\u001b[0m \u001b[0mi\u001b[0m\u001b[1;33m)\u001b[0m\u001b[1;33m\u001b[0m\u001b[1;33m\u001b[0m\u001b[0m\n\u001b[0m\u001b[0;32m     67\u001b[0m \u001b[1;33m\u001b[0m\u001b[0m\n\u001b[0;32m     68\u001b[0m \u001b[1;33m\u001b[0m\u001b[0m\n",
      "\u001b[1;32m~\\Documents\\GitHub\\HydraDX-simulations\\hydradx_update\\model\\amm\\omnipool_amm.py\u001b[0m in \u001b[0;36mprice_i\u001b[1;34m(state, i, fee)\u001b[0m\n\u001b[0;32m     25\u001b[0m         \u001b[1;32mreturn\u001b[0m \u001b[1;36m0\u001b[0m\u001b[1;33m\u001b[0m\u001b[1;33m\u001b[0m\u001b[0m\n\u001b[0;32m     26\u001b[0m     \u001b[1;32melse\u001b[0m\u001b[1;33m:\u001b[0m\u001b[1;33m\u001b[0m\u001b[1;33m\u001b[0m\u001b[0m\n\u001b[1;32m---> 27\u001b[1;33m         \u001b[1;32mreturn\u001b[0m \u001b[1;33m(\u001b[0m\u001b[0mstate\u001b[0m\u001b[1;33m[\u001b[0m\u001b[1;34m'Q'\u001b[0m\u001b[1;33m]\u001b[0m\u001b[1;33m[\u001b[0m\u001b[0mi\u001b[0m\u001b[1;33m]\u001b[0m \u001b[1;33m/\u001b[0m \u001b[0mstate\u001b[0m\u001b[1;33m[\u001b[0m\u001b[1;34m'R'\u001b[0m\u001b[1;33m]\u001b[0m\u001b[1;33m[\u001b[0m\u001b[0mi\u001b[0m\u001b[1;33m]\u001b[0m\u001b[1;33m)\u001b[0m \u001b[1;33m*\u001b[0m \u001b[1;33m(\u001b[0m\u001b[1;36m1\u001b[0m \u001b[1;33m-\u001b[0m \u001b[0mfee\u001b[0m\u001b[1;33m)\u001b[0m\u001b[1;33m\u001b[0m\u001b[1;33m\u001b[0m\u001b[0m\n\u001b[0m\u001b[0;32m     28\u001b[0m \u001b[1;33m\u001b[0m\u001b[0m\n\u001b[0;32m     29\u001b[0m \u001b[1;33m\u001b[0m\u001b[0m\n",
      "\u001b[1;31mTypeError\u001b[0m: unsupported operand type(s) for /: 'list' and 'list'"
     ]
    }
   ],
   "source": [
    "import pandas as pd\n",
    "\n",
    "from IPython.core.debugger import Pdb\n",
    "ipdb = Pdb()\n",
    "\n",
    "from model import init_utils\n",
    "from model import processing\n",
    "# Experiments\n",
    "from model import run\n",
    "from model.plot_utils import *\n",
    "from model.model_initialization import * \n",
    "\n",
    "import numpy as np\n",
    "import seaborn as sns\n",
    "import matplotlib.pylab as plt\n",
    "\n",
    "# set variables & parameters\n",
    "\n",
    "fee_level_assets = (0.00, 0.05, 0.1, 0.2, 0.5)\n",
    "fee_level_hdx = 0.00\n",
    "mu, sigma = 1., 1. # mean and standard deviation\n",
    "tr = []\n",
    "\n",
    "# uniform_data = np.random.rand(10, 12)\n",
    "#trade_volume = {'10': 0.5, '20': 0.6}\n",
    "#liquidity = {'1000': 0.5, '2000': 0.6}\n",
    "#trade_volume = (50, 100, 200, 500, 1000, 2000, 5000, 10000, 20000)\n",
    "#liquidity = (100000, 200000, 300000, 400000, 500000, 600000, 700000, 800000)\n",
    "\n",
    "## assign random lognormal trade sizes\n",
    "for k in range(1, 4):\n",
    "    tr.append(np.random.lognormal(mu, sigma) * 100) \n",
    "tr.sort()\n",
    "trade_volume = tr\n",
    "\n",
    "liquidity = [100000]\n",
    "trade_volume = [100, 110, 120]\n",
    "\n",
    "#create matrix for comparison\n",
    "m=len(trade_volume)\n",
    "n=len(fee_level_assets)\n",
    "matrix = np.ndarray(shape = (m,n), dtype = int)\n",
    "matrix1 = np.ndarray(shape = (m,n), dtype = int)\n",
    "\n",
    "# index matrix\n",
    "#better_index = [\"X1\", \"X2\", \"Y1\", \"Y2\", \"Y3\"]\n",
    "#matrix.index = better_index\n",
    "sim_nr = 0\n",
    "\n",
    "for i in range(len(fee_level_assets)):\n",
    "    for j in range(len(trade_volume)):\n",
    "        # initialize model with starting conditions\n",
    "        config_params = initialize_model(liquidity, trade_volume[j], fee_level_assets[i], fee_level_hdx)\n",
    "        \n",
    "        #run model\n",
    "        config_dict, state = init_utils.get_configuration(config_params)\n",
    "\n",
    "        pd.options.mode.chained_assignment = None  # default='warn'\n",
    "        pd.options.display.float_format = '{:.2f}'.format\n",
    "        \n",
    "        run.config(config_dict, state)\n",
    "        events = run.run()\n",
    "        \n",
    "        rdf, agent_df = processing.postprocessing(events)\n",
    "        \n",
    "        # calculate profitability metrics; change in pool values\n",
    "         \n",
    "        print(sim_nr)\n",
    "        total_timesteps = 1000\n",
    "        first_timestep = 1\n",
    "        \n",
    "        ## merge agent and pool dataframes\n",
    "        profit_results = pd.merge(agent_df, rdf, how=\"inner\", on=[\"timestep\", \"simulation\", \"run\", \"subset\", \"substep\"])\n",
    "        \n",
    "        ## assign additional columns\n",
    "        profit_results['val_pool'] = profit_results.apply(lambda x: processing.val_pool(x), axis=1)\n",
    "        initial_values = config_params['initial_values']\n",
    "        agent_d = config_params['agent_d']\n",
    "        withdraw_agent_d = processing.get_withdraw_agent_d(initial_values, agent_d)\n",
    "        print(withdraw_agent_d)\n",
    "        profit_results['val_hold'] = profit_results.apply(lambda x: processing.val_hold(x, withdraw_agent_d), axis=1)\n",
    "        profit_results['IL'] = profit_results.apply(lambda x: x['val_pool']/x['val_hold'] - 1, axis=1)\n",
    "        profit_results['pool_val'] = profit_results.apply(lambda x: processing.pool_val(x), axis=1)\n",
    "        \n",
    "        ## calculate profits from 'val_pool' and 'pool_val'        \n",
    "        profit_results1 = profit_results[profit_results['simulation'] == sim_nr]\n",
    "        profit_results2 = profit_results1[profit_results1['timestep'] == total_timesteps]\n",
    "        profit_results3 = profit_results1[profit_results1['timestep'] == first_timestep]\n",
    "        profit_sim0 = profit_results2['val_pool'].iloc[0] - profit_results3['val_pool'].iloc[0]\n",
    "        profit_sim1 = profit_results2['pool_val'].iloc[0] - profit_results3['pool_val'].iloc[0]\n",
    "                    \n",
    "        # assign metrics to matrix\n",
    "        #matrix[j][i] = np.random.randint(1, 100 + 1)\n",
    "        #matrix[j][i] = trade_volume[i]*liquidity[j]\n",
    "        matrix[j][i] = profit_sim0\n",
    "        matrix1[j][i] = profit_sim1\n",
    "        \n",
    "        ## increase simulation count\n",
    "        sim_nr += 1\n",
    "\n"
   ]
  },
  {
   "cell_type": "code",
   "execution_count": null,
   "id": "renewable-logan",
   "metadata": {
    "scrolled": true
   },
   "outputs": [],
   "source": [
    "import numpy as np\n",
    "import seaborn as sns\n",
    "import matplotlib.pylab as plt\n",
    "\n",
    "#ax = sns.heatmap(uniform_data, linewidth=0.5)\n",
    "ax = sns.heatmap(matrix, linewidth=0.5, annot=True, fmt=\"d\")\n",
    "ax.set_title(\"LP Profits\")\n",
    "#ax.set_title(\"LP Profits for fee level:\" % fee_level)\n",
    "ax.set_xlabel('Fee Level')\n",
    "ax.set_ylabel('Trade Size')\n",
    "plt.show()"
   ]
  },
  {
   "cell_type": "code",
   "execution_count": null,
   "id": "expanded-armstrong",
   "metadata": {},
   "outputs": [],
   "source": [
    "#ax = sns.heatmap(uniform_data, linewidth=0.5)\n",
    "ax = sns.heatmap(matrix1, linewidth=0.5, annot=True, fmt=\"d\")\n",
    "ax.set_title(\"LP Profits\")\n",
    "#ax.set_title(\"LP Profits for fee level:\" % fee_level)\n",
    "ax.set_xlabel('Fee Level')\n",
    "ax.set_ylabel('Trade Size')\n",
    "plt.show()"
   ]
  },
  {
   "cell_type": "code",
   "execution_count": null,
   "id": "cordless-wednesday",
   "metadata": {},
   "outputs": [],
   "source": [
    "profit_results2['val_pool'].iloc[0]"
   ]
  },
  {
   "cell_type": "code",
   "execution_count": null,
   "id": "purple-leather",
   "metadata": {
    "scrolled": true
   },
   "outputs": [],
   "source": [
    "profit_results3['val_pool'].iloc[0]"
   ]
  },
  {
   "cell_type": "code",
   "execution_count": null,
   "id": "seven-order",
   "metadata": {},
   "outputs": [],
   "source": [
    "profit_results2['pool_val'].iloc[0]"
   ]
  },
  {
   "cell_type": "code",
   "execution_count": null,
   "id": "strange-daniel",
   "metadata": {},
   "outputs": [],
   "source": [
    "profit_results3['pool_val'].iloc[0]"
   ]
  },
  {
   "cell_type": "code",
   "execution_count": null,
   "id": "radical-interval",
   "metadata": {},
   "outputs": [],
   "source": [
    "from model import plot_utils as pu\n",
    "varlist = ['val_pool', 'pool_val']\n",
    "dataframe = profit_results[profit_results['simulation'] == 0]\n",
    "pu.plot_vars(dataframe, varlist)"
   ]
  },
  {
   "cell_type": "markdown",
   "id": "literary-cruise",
   "metadata": {},
   "source": [
    "## Merge Results"
   ]
  },
  {
   "cell_type": "code",
   "execution_count": null,
   "id": "colored-ownership",
   "metadata": {},
   "outputs": [],
   "source": [
    "        profit_results = pd.merge(agent_df, rdf, how=\"inner\", on=[\"timestep\", \"simulation\", \"run\", \"subset\", \"substep\"])\n",
    "        profit_results['val_pool'] = profit_results.apply(lambda x: processing.val_pool(x), axis=1)\n",
    "        profit_sim0 = profit_results.apply(lambda x: processing.val_pool(x), axis=1)"
   ]
  },
  {
   "cell_type": "code",
   "execution_count": null,
   "id": "close-repository",
   "metadata": {
    "scrolled": false
   },
   "outputs": [],
   "source": [
    "profit_results"
   ]
  },
  {
   "cell_type": "markdown",
   "id": "reverse-miller",
   "metadata": {},
   "source": [
    "### Randomize trade sizes"
   ]
  },
  {
   "cell_type": "code",
   "execution_count": null,
   "id": "respective-humor",
   "metadata": {},
   "outputs": [],
   "source": [
    "import numpy as np\n",
    "mu, sigma = 1., 1. # mean and standard deviation\n",
    "s = np.random.lognormal(mu, sigma) * 100\n",
    "s"
   ]
  },
  {
   "cell_type": "code",
   "execution_count": null,
   "id": "transparent-engagement",
   "metadata": {},
   "outputs": [],
   "source": [
    "import numpy as np\n",
    "tr = []\n",
    "mu, sigma = 1., 1.\n",
    "x = range(0, 10)\n",
    "for k in x:\n",
    "    tr.append(np.random.lognormal(mu, sigma) * 100)\n",
    "tr.sort()\n",
    "tr"
   ]
  },
  {
   "cell_type": "code",
   "execution_count": null,
   "id": "forced-tomorrow",
   "metadata": {},
   "outputs": [],
   "source": [
    "profit_results1 = profit_results[profit_results['simulation'] == sim_nr]\n",
    "profit_results2 = profit_results1[profit_results1['timestep'] == total_timesteps]\n",
    "profit_results2['val_pool'].iloc[0]"
   ]
  },
  {
   "cell_type": "code",
   "execution_count": null,
   "id": "latter-concrete",
   "metadata": {},
   "outputs": [],
   "source": [
    "print(profit_results.columns)"
   ]
  },
  {
   "cell_type": "code",
   "execution_count": null,
   "id": "otherwise-paragraph",
   "metadata": {},
   "outputs": [],
   "source": [
    "profit_sim0"
   ]
  },
  {
   "cell_type": "markdown",
   "id": "prerequisite-chocolate",
   "metadata": {},
   "source": [
    "\n",
    "var_list = ['R', 'Q', 'A', 'D']\n",
    "plot_vars(rdf, var_list)\n",
    "\n",
    "## Fee Analysis"
   ]
  },
  {
   "cell_type": "code",
   "execution_count": null,
   "id": "b7829a3e-d082-4092-9414-efd05f4b87c6",
   "metadata": {
    "scrolled": true
   },
   "outputs": [],
   "source": [
    "rdf"
   ]
  },
  {
   "cell_type": "code",
   "execution_count": null,
   "id": "resistant-point",
   "metadata": {},
   "outputs": [],
   "source": [
    "print(rdf.columns)"
   ]
  },
  {
   "cell_type": "code",
   "execution_count": null,
   "id": "reverse-visiting",
   "metadata": {
    "scrolled": false
   },
   "outputs": [],
   "source": [
    "print(rdf.keys)"
   ]
  },
  {
   "cell_type": "code",
   "execution_count": null,
   "id": "tender-paraguay",
   "metadata": {},
   "outputs": [],
   "source": [
    "agent_df"
   ]
  },
  {
   "cell_type": "code",
   "execution_count": null,
   "id": "affected-portrait",
   "metadata": {},
   "outputs": [],
   "source": [
    "agent_df.query('agent_label==\"LP1\"')"
   ]
  },
  {
   "cell_type": "markdown",
   "id": "regional-input",
   "metadata": {},
   "source": [
    "## How to metric"
   ]
  },
  {
   "cell_type": "code",
   "execution_count": null,
   "id": "boring-canal",
   "metadata": {},
   "outputs": [],
   "source": [
    "rdf.loc[(rdf['simulation'] == 0) & (rdf['timestep'] == 1000)]['R-1']"
   ]
  },
  {
   "cell_type": "code",
   "execution_count": null,
   "id": "tropical-foundation",
   "metadata": {},
   "outputs": [],
   "source": [
    "#import pandas as pd\n",
    "#rdf.get_value('simulation' == 0 )]\n",
    "rdf1 = rdf[rdf[\"simulation\"] == 0]\n",
    "rdf2 = rdf1[rdf1[\"timestep\"] == 1000]\n",
    "x_0 = rdf2['R-0'].iloc[0]\n",
    "x_0\n"
   ]
  },
  {
   "cell_type": "code",
   "execution_count": null,
   "id": "aging-regard",
   "metadata": {},
   "outputs": [],
   "source": [
    "rdf.loc[(rdf['simulation'] == 1) & (rdf['timestep'] == 1000)]['R-1']"
   ]
  },
  {
   "cell_type": "code",
   "execution_count": null,
   "id": "running-exercise",
   "metadata": {},
   "outputs": [],
   "source": [
    "rdf.loc[(rdf['simulation'] == 2) & (rdf['timestep'] == 1000)]['R-1']"
   ]
  },
  {
   "cell_type": "code",
   "execution_count": null,
   "id": "independent-warehouse",
   "metadata": {},
   "outputs": [],
   "source": [
    "rdf.loc[(rdf['simulation'] == 3) & (rdf['timestep'] == 1000)]['R-1']"
   ]
  },
  {
   "cell_type": "code",
   "execution_count": null,
   "id": "durable-choir",
   "metadata": {},
   "outputs": [],
   "source": [
    "rdf.loc[(rdf['simulation'] == 0) & (rdf['timestep'] == 1)]['R-1']"
   ]
  },
  {
   "cell_type": "code",
   "execution_count": null,
   "id": "german-jumping",
   "metadata": {},
   "outputs": [],
   "source": [
    "rdf.loc[(rdf['simulation'] == 1) & (rdf['timestep'] == 1)]['R-1']"
   ]
  },
  {
   "cell_type": "code",
   "execution_count": null,
   "id": "vulnerable-republic",
   "metadata": {},
   "outputs": [],
   "source": [
    "rdf.loc[(rdf['simulation'] == 2) & (rdf['timestep'] == 1)]['R-1']"
   ]
  },
  {
   "cell_type": "code",
   "execution_count": null,
   "id": "adjusted-delicious",
   "metadata": {
    "scrolled": true
   },
   "outputs": [],
   "source": [
    "rdf.loc[(rdf['simulation'] == 3) & (rdf['timestep'] == 1)]['R-1']"
   ]
  },
  {
   "cell_type": "markdown",
   "id": "approximate-boston",
   "metadata": {},
   "source": [
    "### Calculate change in pool value"
   ]
  },
  {
   "cell_type": "markdown",
   "id": "absent-floating",
   "metadata": {},
   "source": [
    "#### R-0"
   ]
  },
  {
   "cell_type": "code",
   "execution_count": null,
   "id": "editorial-strap",
   "metadata": {},
   "outputs": [],
   "source": [
    "rdf1 = rdf[rdf[\"simulation\"] == 0]\n",
    "rdf2 = rdf1[rdf1[\"timestep\"] == 1000]\n",
    "r0_1 = rdf2['R-0'].iloc[0]\n",
    "r0_1"
   ]
  },
  {
   "cell_type": "code",
   "execution_count": null,
   "id": "forty-arbitration",
   "metadata": {},
   "outputs": [],
   "source": [
    "rdf1 = rdf[rdf[\"simulation\"] == 0]\n",
    "rdf2 = rdf1[rdf1[\"timestep\"] == 1]\n",
    "r0_0 = rdf2['R-0'].iloc[0]\n",
    "r0_0"
   ]
  },
  {
   "cell_type": "code",
   "execution_count": null,
   "id": "fixed-radical",
   "metadata": {
    "scrolled": true
   },
   "outputs": [],
   "source": [
    "profit_sim0_r0 = r0_1 - r0_0\n",
    "profit_sim0_r0"
   ]
  },
  {
   "cell_type": "markdown",
   "id": "comprehensive-incidence",
   "metadata": {},
   "source": [
    "#### R-1"
   ]
  },
  {
   "cell_type": "code",
   "execution_count": null,
   "id": "significant-security",
   "metadata": {},
   "outputs": [],
   "source": [
    "rdf1 = rdf[rdf[\"simulation\"] == 0]\n",
    "rdf2 = rdf1[rdf1[\"timestep\"] == 1000]\n",
    "r1_1 = rdf2['R-1'].iloc[0]\n",
    "r1_1"
   ]
  },
  {
   "cell_type": "code",
   "execution_count": null,
   "id": "leading-province",
   "metadata": {},
   "outputs": [],
   "source": [
    "rdf1 = rdf[rdf[\"simulation\"] == 0]\n",
    "rdf2 = rdf1[rdf1[\"timestep\"] == 1]\n",
    "r1_0 = rdf2['R-1'].iloc[0]\n",
    "r1_0"
   ]
  },
  {
   "cell_type": "code",
   "execution_count": null,
   "id": "sharp-hands",
   "metadata": {},
   "outputs": [],
   "source": [
    "profit_sim0_r1 = r1_1 - r1_0\n",
    "profit_sim0_r1"
   ]
  },
  {
   "cell_type": "markdown",
   "id": "alone-whale",
   "metadata": {},
   "source": [
    "#### Total pool value"
   ]
  },
  {
   "cell_type": "code",
   "execution_count": null,
   "id": "embedded-techno",
   "metadata": {},
   "outputs": [],
   "source": [
    "profit_sim0_r1 + profit_sim0_r0"
   ]
  },
  {
   "cell_type": "markdown",
   "id": "mysterious-paris",
   "metadata": {},
   "source": [
    "## How to heatmap"
   ]
  },
  {
   "cell_type": "code",
   "execution_count": null,
   "id": "favorite-warning",
   "metadata": {
    "scrolled": true
   },
   "outputs": [],
   "source": [
    "import numpy as np\n",
    "import seaborn as sns\n",
    "import matplotlib.pylab as plt\n",
    "\n",
    "# set variables & parameters\n",
    "\n",
    "fee_level = 0.03\n",
    "# uniform_data = np.random.rand(10, 12)\n",
    "#trade_volume = {'10': 0.5, '20': 0.6}\n",
    "#liquidity = {'1000': 0.5, '2000': 0.6}\n",
    "trade_volume = (50, 100, 200, 500, 1000, 2000, 5000, 10000, 20000)\n",
    "liquidity = (100000, 200000, 300000, 400000, 500000, 600000, 700000, 800000)\n",
    "\n",
    "#create matrix for comparison\n",
    "m=len(trade_volume)\n",
    "n=len(liquidity)\n",
    "matrix = np.ndarray(shape = (m,n), dtype = int)\n",
    "\n",
    "# index matrix\n",
    "#better_index = [\"X1\", \"X2\", \"Y1\", \"Y2\", \"Y3\"]\n",
    "#matrix.index = better_index\n",
    "\n",
    "# fill in matrix with calculation results\n",
    "for i in range(len(liquidity)):\n",
    "    for j in range(len(trade_volume)):\n",
    "        matrix[j][i] = np.random.randint(1, 100 + 1)\n",
    "\n",
    "\n",
    "\n",
    "\n",
    "#ax = sns.heatmap(uniform_data, linewidth=0.5)\n",
    "ax = sns.heatmap(matrix, linewidth=0.5, annot=True, fmt=\"d\")\n",
    "ax.set_title(\"LP Profits\")\n",
    "#ax.set_title(\"LP Profits for fee level:\" % fee_level)\n",
    "ax.set_xlabel('Liquidity')\n",
    "ax.set_ylabel('Trade Volume')\n",
    "plt.show()"
   ]
  },
  {
   "cell_type": "code",
   "execution_count": null,
   "id": "convertible-plasma",
   "metadata": {},
   "outputs": [],
   "source": [
    "matrix"
   ]
  },
  {
   "cell_type": "code",
   "execution_count": null,
   "id": "engaged-logging",
   "metadata": {},
   "outputs": [],
   "source": [
    "corr = np.corrcoef(np.random.randn(10, 200))\n",
    "mask = np.zeros_like(corr)\n",
    "mask[np.triu_indices_from(mask)] = True\n",
    "with sns.axes_style(\"white\"):\n",
    "    ax = sns.heatmap(corr, mask=mask, vmax=.3, square=True,  cmap=\"YlGnBu\")\n",
    "    plt.show()"
   ]
  },
  {
   "cell_type": "code",
   "execution_count": null,
   "id": "stopped-tokyo",
   "metadata": {},
   "outputs": [],
   "source": [
    "import matplotlib.pyplot as plt\n",
    "import numpy as np\n",
    "\n",
    "# generate 2 2d grids for the x & y bounds\n",
    "y, x = np.meshgrid(np.linspace(-3, 3, 100), np.linspace(-3, 3, 100))\n",
    "\n",
    "z = (1 - x / 2. + x ** 5 + y ** 3) * np.exp(-x ** 2 - y ** 2)\n",
    "# x and y are bounds, so z should be the value *inside* those bounds.\n",
    "# Therefore, remove the last value from the z array.\n",
    "z = z[:-1, :-1]\n",
    "z_min, z_max = -np.abs(z).max(), np.abs(z).max()\n",
    "\n",
    "fig, ax = plt.subplots()\n",
    "\n",
    "c = ax.pcolormesh(x, y, z, cmap='RdBu', vmin=z_min, vmax=z_max)\n",
    "ax.set_title('pcolormesh')\n",
    "# set the limits of the plot to the limits of the data\n",
    "ax.axis([x.min(), x.max(), y.min(), y.max()])\n",
    "fig.colorbar(c, ax=ax)\n",
    "\n",
    "plt.show()"
   ]
  },
  {
   "cell_type": "code",
   "execution_count": null,
   "id": "answering-peter",
   "metadata": {
    "scrolled": true
   },
   "outputs": [],
   "source": [
    "import matplotlib.pyplot as plt\n",
    "import numpy as np\n",
    "\n",
    "\n",
    "def heatmap2d(arr: np.ndarray):\n",
    "    plt.imshow(arr, cmap='viridis')\n",
    "    plt.colorbar()\n",
    "    plt.show()\n",
    "\n",
    "\n",
    "test_array = np.arange(100 * 100).reshape(100, 100)\n",
    "heatmap2d(test_array)"
   ]
  },
  {
   "cell_type": "code",
   "execution_count": null,
   "id": "prescribed-class",
   "metadata": {},
   "outputs": [],
   "source": [
    "trade_volume"
   ]
  }
 ],
 "metadata": {
  "kernelspec": {
   "display_name": "Python 3",
   "language": "python",
   "name": "python3"
  },
  "language_info": {
   "codemirror_mode": {
    "name": "ipython",
    "version": 3
   },
   "file_extension": ".py",
   "mimetype": "text/x-python",
   "name": "python",
   "nbconvert_exporter": "python",
   "pygments_lexer": "ipython3",
   "version": "3.8.5"
  }
 },
 "nbformat": 4,
 "nbformat_minor": 5
}
