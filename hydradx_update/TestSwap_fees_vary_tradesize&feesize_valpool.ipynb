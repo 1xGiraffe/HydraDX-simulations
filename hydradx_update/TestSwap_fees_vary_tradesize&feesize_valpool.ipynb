{
 "cells": [
  {
   "cell_type": "code",
   "execution_count": 1,
   "id": "unlimited-friendship",
   "metadata": {},
   "outputs": [
    {
     "data": {
      "text/plain": [
       "{'cfmm_type': '',\n",
       " 'initial_values': {'token_list': ['R1', 'R2'],\n",
       "  'R': [1000000, 1500000],\n",
       "  'P': [2, 0.6666666666666666],\n",
       "  'fee_assets': 0.01,\n",
       "  'fee_HDX': 0.02},\n",
       " 'agent_d': {'Trader': {'HDX': 1000000, 'R1': 1000000, 'R2': 1000000},\n",
       "  'LP1': {'omniR1': 1000000}},\n",
       " 'action_ls': [('trade', 1000)],\n",
       " 'prob_dict': {'trade': {'sell_r2_for_r1': 0, 'sell_r1_for_r2': 1}},\n",
       " 'action_dict': {'sell_r2_for_r1': {'token_buy': 'R1',\n",
       "   'token_sell': 'R2',\n",
       "   'amount_sell': 10,\n",
       "   'action_id': 'Trade',\n",
       "   'agent_id': 'Trader'},\n",
       "  'sell_r1_for_r2': {'token_sell': 'R1',\n",
       "   'token_buy': 'R2',\n",
       "   'amount_sell': 10,\n",
       "   'action_id': 'Trade',\n",
       "   'agent_id': 'Trader'}}}"
      ]
     },
     "execution_count": 1,
     "metadata": {},
     "output_type": "execute_result"
    }
   ],
   "source": [
    "from model.model_initialization import * \n",
    "initialize_model(1000000, 10, 0.01, 0.02)"
   ]
  },
  {
   "cell_type": "code",
   "execution_count": 2,
   "id": "6b8e2d21-c455-4b2b-a1c4-0c2cce0fb286",
   "metadata": {},
   "outputs": [
    {
     "name": "stdout",
     "output_type": "stream",
     "text": [
      "\n",
      "                  ___________    ____\n",
      "  ________ __ ___/ / ____/   |  / __ \\\n",
      " / ___/ __` / __  / /   / /| | / / / /\n",
      "/ /__/ /_/ / /_/ / /___/ ___ |/ /_/ /\n",
      "\\___/\\__,_/\\__,_/\\____/_/  |_/_____/\n",
      "by cadCAD\n",
      "\n",
      "Execution Mode: local_proc\n",
      "Configuration Count: 1\n",
      "Dimensions of the first simulation: (Timesteps, Params, Runs, Vars) = (1000, 3, 1, 3)\n",
      "Execution Method: local_simulations\n",
      "SimIDs   : [0]\n",
      "SubsetIDs: [0]\n",
      "Ns       : [0]\n",
      "ExpIDs   : [0]\n",
      "Execution Mode: single_threaded\n",
      "Total execution time: 0.87s\n",
      "0\n",
      "{'Trader': {'q': 1000000, 's': [0, 0], 'r': [1000000, 1000000], 'p': [0, 0]}, 'LP1': {'q': 0.0, 's': [0, 0], 'r': [1000000.0, 0], 'p': [2.0, 0]}}\n",
      "\n",
      "                  ___________    ____\n",
      "  ________ __ ___/ / ____/   |  / __ \\\n",
      " / ___/ __` / __  / /   / /| | / / / /\n",
      "/ /__/ /_/ / /_/ / /___/ ___ |/ /_/ /\n",
      "\\___/\\__,_/\\__,_/\\____/_/  |_/_____/\n",
      "by cadCAD\n",
      "\n",
      "Execution Mode: local_proc\n",
      "Configuration Count: 2\n",
      "Dimensions of the first simulation: (Timesteps, Params, Runs, Vars) = (1000, 3, 1, 3)\n",
      "Execution Method: local_simulations\n",
      "SimIDs   : [0, 1]\n",
      "SubsetIDs: [0, 0]\n",
      "Ns       : [0, 0]\n",
      "ExpIDs   : [0, 0]\n",
      "Execution Mode: parallelized\n",
      "Total execution time: 1.32s\n",
      "1\n",
      "{'Trader': {'q': 1000000, 's': [0, 0], 'r': [1000000, 1000000], 'p': [0, 0]}, 'LP1': {'q': 0.0, 's': [0, 0], 'r': [1000000.0, 0], 'p': [2.0, 0]}}\n",
      "\n",
      "                  ___________    ____\n",
      "  ________ __ ___/ / ____/   |  / __ \\\n",
      " / ___/ __` / __  / /   / /| | / / / /\n",
      "/ /__/ /_/ / /_/ / /___/ ___ |/ /_/ /\n",
      "\\___/\\__,_/\\__,_/\\____/_/  |_/_____/\n",
      "by cadCAD\n",
      "\n",
      "Execution Mode: local_proc\n",
      "Configuration Count: 3\n",
      "Dimensions of the first simulation: (Timesteps, Params, Runs, Vars) = (1000, 3, 1, 3)\n",
      "Execution Method: local_simulations\n",
      "SimIDs   : [0, 1, 2]\n",
      "SubsetIDs: [0, 0, 0]\n",
      "Ns       : [0, 0, 0]\n",
      "ExpIDs   : [0, 0, 0]\n",
      "Execution Mode: parallelized\n",
      "Total execution time: 1.83s\n",
      "2\n",
      "{'Trader': {'q': 1000000, 's': [0, 0], 'r': [1000000, 1000000], 'p': [0, 0]}, 'LP1': {'q': 0.0, 's': [0, 0], 'r': [1000000.0, 0], 'p': [2.0, 0]}}\n",
      "\n",
      "                  ___________    ____\n",
      "  ________ __ ___/ / ____/   |  / __ \\\n",
      " / ___/ __` / __  / /   / /| | / / / /\n",
      "/ /__/ /_/ / /_/ / /___/ ___ |/ /_/ /\n",
      "\\___/\\__,_/\\__,_/\\____/_/  |_/_____/\n",
      "by cadCAD\n",
      "\n",
      "Execution Mode: local_proc\n",
      "Configuration Count: 4\n",
      "Dimensions of the first simulation: (Timesteps, Params, Runs, Vars) = (1000, 3, 1, 3)\n",
      "Execution Method: local_simulations\n",
      "SimIDs   : [0, 1, 2, 3]\n",
      "SubsetIDs: [0, 0, 0, 0]\n",
      "Ns       : [0, 0, 0, 0]\n",
      "ExpIDs   : [0, 0, 0, 0]\n",
      "Execution Mode: parallelized\n",
      "Total execution time: 2.58s\n",
      "3\n",
      "{'Trader': {'q': 1000000, 's': [0, 0], 'r': [1000000, 1000000], 'p': [0, 0]}, 'LP1': {'q': 0.0, 's': [0, 0], 'r': [1000000.0, 0], 'p': [2.0, 0]}}\n",
      "\n",
      "                  ___________    ____\n",
      "  ________ __ ___/ / ____/   |  / __ \\\n",
      " / ___/ __` / __  / /   / /| | / / / /\n",
      "/ /__/ /_/ / /_/ / /___/ ___ |/ /_/ /\n",
      "\\___/\\__,_/\\__,_/\\____/_/  |_/_____/\n",
      "by cadCAD\n",
      "\n",
      "Execution Mode: local_proc\n",
      "Configuration Count: 5\n",
      "Dimensions of the first simulation: (Timesteps, Params, Runs, Vars) = (1000, 3, 1, 3)\n",
      "Execution Method: local_simulations\n",
      "SimIDs   : [0, 1, 2, 3, 4]\n",
      "SubsetIDs: [0, 0, 0, 0, 0]\n",
      "Ns       : [0, 0, 0, 0, 0]\n",
      "ExpIDs   : [0, 0, 0, 0, 0]\n",
      "Execution Mode: parallelized\n",
      "Total execution time: 3.09s\n",
      "4\n",
      "{'Trader': {'q': 1000000, 's': [0, 0], 'r': [1000000, 1000000], 'p': [0, 0]}, 'LP1': {'q': 0.0, 's': [0, 0], 'r': [1000000.0, 0], 'p': [2.0, 0]}}\n",
      "\n",
      "                  ___________    ____\n",
      "  ________ __ ___/ / ____/   |  / __ \\\n",
      " / ___/ __` / __  / /   / /| | / / / /\n",
      "/ /__/ /_/ / /_/ / /___/ ___ |/ /_/ /\n",
      "\\___/\\__,_/\\__,_/\\____/_/  |_/_____/\n",
      "by cadCAD\n",
      "\n",
      "Execution Mode: local_proc\n",
      "Configuration Count: 6\n",
      "Dimensions of the first simulation: (Timesteps, Params, Runs, Vars) = (1000, 3, 1, 3)\n",
      "Execution Method: local_simulations\n",
      "SimIDs   : [0, 1, 2, 3, 4, 5]\n",
      "SubsetIDs: [0, 0, 0, 0, 0, 0]\n",
      "Ns       : [0, 0, 0, 0, 0, 0]\n",
      "ExpIDs   : [0, 0, 0, 0, 0, 0]\n",
      "Execution Mode: parallelized\n",
      "Total execution time: 3.85s\n",
      "5\n",
      "{'Trader': {'q': 1000000, 's': [0, 0], 'r': [1000000, 1000000], 'p': [0, 0]}, 'LP1': {'q': 0.0, 's': [0, 0], 'r': [1000000.0, 0], 'p': [2.0, 0]}}\n",
      "\n",
      "                  ___________    ____\n",
      "  ________ __ ___/ / ____/   |  / __ \\\n",
      " / ___/ __` / __  / /   / /| | / / / /\n",
      "/ /__/ /_/ / /_/ / /___/ ___ |/ /_/ /\n",
      "\\___/\\__,_/\\__,_/\\____/_/  |_/_____/\n",
      "by cadCAD\n",
      "\n",
      "Execution Mode: local_proc\n",
      "Configuration Count: 7\n",
      "Dimensions of the first simulation: (Timesteps, Params, Runs, Vars) = (1000, 3, 1, 3)\n",
      "Execution Method: local_simulations\n",
      "SimIDs   : [0, 1, 2, 3, 4, 5, 6]\n",
      "SubsetIDs: [0, 0, 0, 0, 0, 0, 0]\n",
      "Ns       : [0, 0, 0, 0, 0, 0, 0]\n",
      "ExpIDs   : [0, 0, 0, 0, 0, 0, 0]\n",
      "Execution Mode: parallelized\n",
      "Total execution time: 4.14s\n",
      "6\n",
      "{'Trader': {'q': 1000000, 's': [0, 0], 'r': [1000000, 1000000], 'p': [0, 0]}, 'LP1': {'q': 0.0, 's': [0, 0], 'r': [1000000.0, 0], 'p': [2.0, 0]}}\n",
      "\n",
      "                  ___________    ____\n",
      "  ________ __ ___/ / ____/   |  / __ \\\n",
      " / ___/ __` / __  / /   / /| | / / / /\n",
      "/ /__/ /_/ / /_/ / /___/ ___ |/ /_/ /\n",
      "\\___/\\__,_/\\__,_/\\____/_/  |_/_____/\n",
      "by cadCAD\n",
      "\n",
      "Execution Mode: local_proc\n",
      "Configuration Count: 8\n",
      "Dimensions of the first simulation: (Timesteps, Params, Runs, Vars) = (1000, 3, 1, 3)\n",
      "Execution Method: local_simulations\n",
      "SimIDs   : [0, 1, 2, 3, 4, 5, 6, 7]\n",
      "SubsetIDs: [0, 0, 0, 0, 0, 0, 0, 0]\n",
      "Ns       : [0, 0, 0, 0, 0, 0, 0, 0]\n",
      "ExpIDs   : [0, 0, 0, 0, 0, 0, 0, 0]\n",
      "Execution Mode: parallelized\n",
      "Total execution time: 4.89s\n",
      "7\n",
      "{'Trader': {'q': 1000000, 's': [0, 0], 'r': [1000000, 1000000], 'p': [0, 0]}, 'LP1': {'q': 0.0, 's': [0, 0], 'r': [1000000.0, 0], 'p': [2.0, 0]}}\n",
      "\n",
      "                  ___________    ____\n",
      "  ________ __ ___/ / ____/   |  / __ \\\n",
      " / ___/ __` / __  / /   / /| | / / / /\n",
      "/ /__/ /_/ / /_/ / /___/ ___ |/ /_/ /\n",
      "\\___/\\__,_/\\__,_/\\____/_/  |_/_____/\n",
      "by cadCAD\n",
      "\n",
      "Execution Mode: local_proc\n",
      "Configuration Count: 9\n",
      "Dimensions of the first simulation: (Timesteps, Params, Runs, Vars) = (1000, 3, 1, 3)\n",
      "Execution Method: local_simulations\n",
      "SimIDs   : [0, 1, 2, 3, 4, 5, 6, 7, 8]\n",
      "SubsetIDs: [0, 0, 0, 0, 0, 0, 0, 0, 0]\n",
      "Ns       : [0, 0, 0, 0, 0, 0, 0, 0, 0]\n",
      "ExpIDs   : [0, 0, 0, 0, 0, 0, 0, 0, 0]\n",
      "Execution Mode: parallelized\n",
      "Total execution time: 5.44s\n",
      "8\n",
      "{'Trader': {'q': 1000000, 's': [0, 0], 'r': [1000000, 1000000], 'p': [0, 0]}, 'LP1': {'q': 0.0, 's': [0, 0], 'r': [1000000.0, 0], 'p': [2.0, 0]}}\n",
      "\n",
      "                  ___________    ____\n",
      "  ________ __ ___/ / ____/   |  / __ \\\n",
      " / ___/ __` / __  / /   / /| | / / / /\n",
      "/ /__/ /_/ / /_/ / /___/ ___ |/ /_/ /\n",
      "\\___/\\__,_/\\__,_/\\____/_/  |_/_____/\n",
      "by cadCAD\n",
      "\n",
      "Execution Mode: local_proc\n",
      "Configuration Count: 10\n",
      "Dimensions of the first simulation: (Timesteps, Params, Runs, Vars) = (1000, 3, 1, 3)\n",
      "Execution Method: local_simulations\n",
      "SimIDs   : [0, 1, 2, 3, 4, 5, 6, 7, 8, 9]\n",
      "SubsetIDs: [0, 0, 0, 0, 0, 0, 0, 0, 0, 0]\n",
      "Ns       : [0, 0, 0, 0, 0, 0, 0, 0, 0, 0]\n",
      "ExpIDs   : [0, 0, 0, 0, 0, 0, 0, 0, 0, 0]\n",
      "Execution Mode: parallelized\n",
      "Total execution time: 5.82s\n",
      "9\n",
      "{'Trader': {'q': 1000000, 's': [0, 0], 'r': [1000000, 1000000], 'p': [0, 0]}, 'LP1': {'q': 0.0, 's': [0, 0], 'r': [1000000.0, 0], 'p': [2.0, 0]}}\n",
      "\n",
      "                  ___________    ____\n",
      "  ________ __ ___/ / ____/   |  / __ \\\n",
      " / ___/ __` / __  / /   / /| | / / / /\n",
      "/ /__/ /_/ / /_/ / /___/ ___ |/ /_/ /\n",
      "\\___/\\__,_/\\__,_/\\____/_/  |_/_____/\n",
      "by cadCAD\n",
      "\n",
      "Execution Mode: local_proc\n",
      "Configuration Count: 11\n",
      "Dimensions of the first simulation: (Timesteps, Params, Runs, Vars) = (1000, 3, 1, 3)\n",
      "Execution Method: local_simulations\n",
      "SimIDs   : [0, 1, 2, 3, 4, 5, 6, 7, 8, 9, 10]\n",
      "SubsetIDs: [0, 0, 0, 0, 0, 0, 0, 0, 0, 0, 0]\n",
      "Ns       : [0, 0, 0, 0, 0, 0, 0, 0, 0, 0, 0]\n",
      "ExpIDs   : [0, 0, 0, 0, 0, 0, 0, 0, 0, 0, 0]\n",
      "Execution Mode: parallelized\n",
      "Total execution time: 6.97s\n",
      "10\n",
      "{'Trader': {'q': 1000000, 's': [0, 0], 'r': [1000000, 1000000], 'p': [0, 0]}, 'LP1': {'q': 0.0, 's': [0, 0], 'r': [1000000.0, 0], 'p': [2.0, 0]}}\n",
      "\n",
      "                  ___________    ____\n",
      "  ________ __ ___/ / ____/   |  / __ \\\n",
      " / ___/ __` / __  / /   / /| | / / / /\n",
      "/ /__/ /_/ / /_/ / /___/ ___ |/ /_/ /\n",
      "\\___/\\__,_/\\__,_/\\____/_/  |_/_____/\n",
      "by cadCAD\n",
      "\n",
      "Execution Mode: local_proc\n",
      "Configuration Count: 12\n",
      "Dimensions of the first simulation: (Timesteps, Params, Runs, Vars) = (1000, 3, 1, 3)\n",
      "Execution Method: local_simulations\n",
      "SimIDs   : [0, 1, 2, 3, 4, 5, 6, 7, 8, 9, 10, 11]\n",
      "SubsetIDs: [0, 0, 0, 0, 0, 0, 0, 0, 0, 0, 0, 0]\n",
      "Ns       : [0, 0, 0, 0, 0, 0, 0, 0, 0, 0, 0, 0]\n",
      "ExpIDs   : [0, 0, 0, 0, 0, 0, 0, 0, 0, 0, 0, 0]\n",
      "Execution Mode: parallelized\n"
     ]
    },
    {
     "name": "stdout",
     "output_type": "stream",
     "text": [
      "Total execution time: 7.37s\n",
      "11\n",
      "{'Trader': {'q': 1000000, 's': [0, 0], 'r': [1000000, 1000000], 'p': [0, 0]}, 'LP1': {'q': 0.0, 's': [0, 0], 'r': [1000000.0, 0], 'p': [2.0, 0]}}\n",
      "\n",
      "                  ___________    ____\n",
      "  ________ __ ___/ / ____/   |  / __ \\\n",
      " / ___/ __` / __  / /   / /| | / / / /\n",
      "/ /__/ /_/ / /_/ / /___/ ___ |/ /_/ /\n",
      "\\___/\\__,_/\\__,_/\\____/_/  |_/_____/\n",
      "by cadCAD\n",
      "\n",
      "Execution Mode: local_proc\n",
      "Configuration Count: 13\n",
      "Dimensions of the first simulation: (Timesteps, Params, Runs, Vars) = (1000, 3, 1, 3)\n",
      "Execution Method: local_simulations\n",
      "SimIDs   : [0, 1, 2, 3, 4, 5, 6, 7, 8, 9, 10, 11, 12]\n",
      "SubsetIDs: [0, 0, 0, 0, 0, 0, 0, 0, 0, 0, 0, 0, 0]\n",
      "Ns       : [0, 0, 0, 0, 0, 0, 0, 0, 0, 0, 0, 0, 0]\n",
      "ExpIDs   : [0, 0, 0, 0, 0, 0, 0, 0, 0, 0, 0, 0, 0]\n",
      "Execution Mode: parallelized\n",
      "Total execution time: 7.86s\n",
      "12\n",
      "{'Trader': {'q': 1000000, 's': [0, 0], 'r': [1000000, 1000000], 'p': [0, 0]}, 'LP1': {'q': 0.0, 's': [0, 0], 'r': [1000000.0, 0], 'p': [2.0, 0]}}\n",
      "\n",
      "                  ___________    ____\n",
      "  ________ __ ___/ / ____/   |  / __ \\\n",
      " / ___/ __` / __  / /   / /| | / / / /\n",
      "/ /__/ /_/ / /_/ / /___/ ___ |/ /_/ /\n",
      "\\___/\\__,_/\\__,_/\\____/_/  |_/_____/\n",
      "by cadCAD\n",
      "\n",
      "Execution Mode: local_proc\n",
      "Configuration Count: 14\n",
      "Dimensions of the first simulation: (Timesteps, Params, Runs, Vars) = (1000, 3, 1, 3)\n",
      "Execution Method: local_simulations\n",
      "SimIDs   : [0, 1, 2, 3, 4, 5, 6, 7, 8, 9, 10, 11, 12, 13]\n",
      "SubsetIDs: [0, 0, 0, 0, 0, 0, 0, 0, 0, 0, 0, 0, 0, 0]\n",
      "Ns       : [0, 0, 0, 0, 0, 0, 0, 0, 0, 0, 0, 0, 0, 0]\n",
      "ExpIDs   : [0, 0, 0, 0, 0, 0, 0, 0, 0, 0, 0, 0, 0, 0]\n",
      "Execution Mode: parallelized\n",
      "Total execution time: 8.62s\n",
      "13\n",
      "{'Trader': {'q': 1000000, 's': [0, 0], 'r': [1000000, 1000000], 'p': [0, 0]}, 'LP1': {'q': 0.0, 's': [0, 0], 'r': [1000000.0, 0], 'p': [2.0, 0]}}\n",
      "\n",
      "                  ___________    ____\n",
      "  ________ __ ___/ / ____/   |  / __ \\\n",
      " / ___/ __` / __  / /   / /| | / / / /\n",
      "/ /__/ /_/ / /_/ / /___/ ___ |/ /_/ /\n",
      "\\___/\\__,_/\\__,_/\\____/_/  |_/_____/\n",
      "by cadCAD\n",
      "\n",
      "Execution Mode: local_proc\n",
      "Configuration Count: 15\n",
      "Dimensions of the first simulation: (Timesteps, Params, Runs, Vars) = (1000, 3, 1, 3)\n",
      "Execution Method: local_simulations\n",
      "SimIDs   : [0, 1, 2, 3, 4, 5, 6, 7, 8, 9, 10, 11, 12, 13, 14]\n",
      "SubsetIDs: [0, 0, 0, 0, 0, 0, 0, 0, 0, 0, 0, 0, 0, 0, 0]\n",
      "Ns       : [0, 0, 0, 0, 0, 0, 0, 0, 0, 0, 0, 0, 0, 0, 0]\n",
      "ExpIDs   : [0, 0, 0, 0, 0, 0, 0, 0, 0, 0, 0, 0, 0, 0, 0]\n",
      "Execution Mode: parallelized\n",
      "Total execution time: 9.25s\n",
      "14\n",
      "{'Trader': {'q': 1000000, 's': [0, 0], 'r': [1000000, 1000000], 'p': [0, 0]}, 'LP1': {'q': 0.0, 's': [0, 0], 'r': [1000000.0, 0], 'p': [2.0, 0]}}\n"
     ]
    }
   ],
   "source": [
    "import pandas as pd\n",
    "\n",
    "from IPython.core.debugger import Pdb\n",
    "ipdb = Pdb()\n",
    "\n",
    "from model import init_utils\n",
    "from model import processing\n",
    "# Experiments\n",
    "from model import run\n",
    "from model.plot_utils import *\n",
    "from model.model_initialization import * \n",
    "\n",
    "import numpy as np\n",
    "import seaborn as sns\n",
    "import matplotlib.pylab as plt\n",
    "\n",
    "# set variables & parameters\n",
    "\n",
    "fee_level_assets = (0.00, 0.01, 0.02, 0.03, 0.04)\n",
    "fee_level_hdx = 0.00\n",
    "# uniform_data = np.random.rand(10, 12)\n",
    "#trade_volume = {'10': 0.5, '20': 0.6}\n",
    "#liquidity = {'1000': 0.5, '2000': 0.6}\n",
    "#trade_volume = (50, 100, 200, 500, 1000, 2000, 5000, 10000, 20000)\n",
    "#liquidity = (100000, 200000, 300000, 400000, 500000, 600000, 700000, 800000)\n",
    "trade_volume = [100, 110, 120]\n",
    "liquidity = (1000000)\n",
    "\n",
    "#create matrix for comparison\n",
    "m=len(trade_volume)\n",
    "n=len(fee_level_assets)\n",
    "matrix = np.ndarray(shape = (m,n), dtype = int)\n",
    "matrix1 = np.ndarray(shape = (m,n), dtype = int)\n",
    "matrix_ror = np.ndarray(shape = (m,n), dtype = int)\n",
    "matrix_ror1 = np.ndarray(shape = (m,n), dtype = int)\n",
    "\n",
    "# index matrix\n",
    "#better_index = [\"X1\", \"X2\", \"Y1\", \"Y2\", \"Y3\"]\n",
    "#matrix.index = better_index\n",
    "sim_nr = 0\n",
    "\n",
    "for i in range(len(fee_level_assets)):\n",
    "    for j in range(len(trade_volume)):\n",
    "        # initialize model with starting conditions\n",
    "        config_params = initialize_model(liquidity, trade_volume[j], fee_level_assets[i], fee_level_hdx)\n",
    "        \n",
    "        #run model\n",
    "        config_dict, state = init_utils.get_configuration(config_params)\n",
    "\n",
    "        pd.options.mode.chained_assignment = None  # default='warn'\n",
    "        pd.options.display.float_format = '{:.2f}'.format\n",
    "        \n",
    "        run.config(config_dict, state)\n",
    "        events = run.run()\n",
    "        \n",
    "        rdf, agent_df = processing.postprocessing(events)\n",
    "        \n",
    "        # calculate profitability metrics; change in pool values\n",
    "         \n",
    "        print(sim_nr)\n",
    "        total_timesteps = 1000\n",
    "        first_timestep = 1\n",
    "        \n",
    "        ## merge agent and pool dataframes\n",
    "        profit_results = pd.merge(agent_df, rdf, how=\"inner\", on=[\"timestep\", \"simulation\", \"run\", \"subset\", \"substep\"])\n",
    "        \n",
    "        ## assign additional columns\n",
    "        profit_results['val_pool'] = profit_results.apply(lambda x: processing.val_pool(x), axis=1)\n",
    "        initial_values = config_params['initial_values']\n",
    "        agent_d = config_params['agent_d']\n",
    "        withdraw_agent_d = processing.get_withdraw_agent_d(initial_values, agent_d)\n",
    "        print(withdraw_agent_d)\n",
    "        profit_results['val_hold'] = profit_results.apply(lambda x: processing.val_hold(x, withdraw_agent_d), axis=1)\n",
    "        profit_results['IL'] = profit_results.apply(lambda x: x['val_pool']/x['val_hold'] - 1, axis=1)\n",
    "        profit_results['pool_val'] = profit_results.apply(lambda x: processing.pool_val(x), axis=1)\n",
    "        \n",
    "        ## calculate profits from 'val_pool' and 'pool_val'        \n",
    "        profit_results1 = profit_results[profit_results['simulation'] == sim_nr]\n",
    "        profit_results2 = profit_results1[profit_results1['timestep'] == total_timesteps]\n",
    "        profit_results3 = profit_results1[profit_results1['timestep'] == first_timestep]\n",
    "        profit_sim0 = profit_results2['val_pool'].iloc[0] - profit_results3['val_pool'].iloc[0]\n",
    "        profit_sim1 = profit_results2['pool_val'].iloc[0] - profit_results3['pool_val'].iloc[0]\n",
    "        \n",
    "        ## calculate 'rate of return'\n",
    "        ror0 = (profit_sim0 / agent_d['LP1']['omniR1']) * 10000\n",
    "        ror1 = (profit_sim1 / agent_d['LP1']['omniR1']) * 10000\n",
    "                    \n",
    "        # assign metrics to matrix\n",
    "        #matrix[j][i] = np.random.randint(1, 100 + 1)\n",
    "        #matrix[j][i] = trade_volume[i]*liquidity[j]\n",
    "        matrix[j][i] = profit_sim0\n",
    "        matrix1[j][i] = profit_sim1\n",
    "        matrix_ror[j][i] = ror0\n",
    "        matrix_ror1[j][i] = ror1\n",
    "        ## increase simulation count\n",
    "        sim_nr += 1\n",
    "\n"
   ]
  },
  {
   "cell_type": "code",
   "execution_count": 3,
   "id": "renewable-logan",
   "metadata": {
    "scrolled": true
   },
   "outputs": [
    {
     "data": {
      "image/png": "[encoded data removed]",
      "text/plain": [
       "<Figure size 432x288 with 2 Axes>"
      ]
     },
     "metadata": {
      "needs_background": "light"
     },
     "output_type": "display_data"
    }
   ],
   "source": [
    "import numpy as np\n",
    "import seaborn as sns\n",
    "import matplotlib.pylab as plt\n",
    "\n",
    "#ax = sns.heatmap(uniform_data, linewidth=0.5)\n",
    "ax = sns.heatmap(matrix, linewidth=0.5, annot=True, fmt=\"d\")\n",
    "ax.set_title(\"LP Profits\")\n",
    "#ax.set_title(\"LP Profits for fee level:\" % fee_level)\n",
    "ax.set_xlabel('Fee Level')\n",
    "ax.set_ylabel('Trade Size')\n",
    "plt.show()"
   ]
  },
  {
   "cell_type": "code",
   "execution_count": 4,
   "id": "designing-compiler",
   "metadata": {
    "scrolled": true
   },
   "outputs": [
    {
     "data": {
      "image/png": "[encoded data removed]",
      "text/plain": [
       "<Figure size 432x288 with 2 Axes>"
      ]
     },
     "metadata": {
      "needs_background": "light"
     },
     "output_type": "display_data"
    }
   ],
   "source": [
    "#ax = sns.heatmap(uniform_data, linewidth=0.5)\n",
    "ax = sns.heatmap(matrix1, linewidth=0.5, annot=True, fmt=\"d\")\n",
    "ax.set_title(\"LP Profits\")\n",
    "#ax.set_title(\"LP Profits for fee level:\" % fee_level)\n",
    "ax.set_xlabel('Fee Level')\n",
    "ax.set_ylabel('Trade Size')\n",
    "plt.show()"
   ]
  },
  {
   "cell_type": "code",
   "execution_count": 5,
   "id": "personal-cycling",
   "metadata": {},
   "outputs": [
    {
     "data": {
      "text/plain": [
       "array([[-329, -353, -377, -402, -426],\n",
       "       [-272, -299, -326, -353, -380],\n",
       "       [-202, -232, -262, -292, -322]])"
      ]
     },
     "execution_count": 5,
     "metadata": {},
     "output_type": "execute_result"
    }
   ],
   "source": [
    "matrix_ror"
   ]
  },
  {
   "cell_type": "code",
   "execution_count": 6,
   "id": "practical-saint",
   "metadata": {},
   "outputs": [
    {
     "data": {
      "image/png": "[encoded data removed]",
      "text/plain": [
       "<Figure size 432x288 with 2 Axes>"
      ]
     },
     "metadata": {
      "needs_background": "light"
     },
     "output_type": "display_data"
    }
   ],
   "source": [
    "#ax = sns.heatmap(uniform_data, linewidth=0.5)\n",
    "ax = sns.heatmap(matrix_ror, linewidth=0.5, annot=True, fmt=\"d\")\n",
    "ax.set_title(\"LP Profits\")\n",
    "#ax.set_title(\"LP Profits for fee level:\" % fee_level)\n",
    "ax.set_xlabel('Fee Level')\n",
    "ax.set_ylabel('Trade Size')\n",
    "plt.show()"
   ]
  },
  {
   "cell_type": "code",
   "execution_count": 7,
   "id": "cultural-magazine",
   "metadata": {},
   "outputs": [
    {
     "data": {
      "image/png": "[encoded data removed]",
      "text/plain": [
       "<Figure size 432x288 with 2 Axes>"
      ]
     },
     "metadata": {
      "needs_background": "light"
     },
     "output_type": "display_data"
    }
   ],
   "source": [
    "#ax = sns.heatmap(uniform_data, linewidth=0.5)\n",
    "ax = sns.heatmap(matrix_ror1, linewidth=0.5, annot=True, fmt=\"d\")\n",
    "ax.set_title(\"LP Profits\")\n",
    "#ax.set_title(\"LP Profits for fee level:\" % fee_level)\n",
    "ax.set_xlabel('Fee Level')\n",
    "ax.set_ylabel('Trade Size')\n",
    "plt.show()"
   ]
  },
  {
   "cell_type": "code",
   "execution_count": 8,
   "id": "advanced-still",
   "metadata": {},
   "outputs": [
    {
     "data": {
      "text/plain": [
       "3634230.4558728198"
      ]
     },
     "execution_count": 8,
     "metadata": {},
     "output_type": "execute_result"
    }
   ],
   "source": [
    "profit_results2['val_pool'].iloc[0]"
   ]
  },
  {
   "cell_type": "code",
   "execution_count": 9,
   "id": "formal-habitat",
   "metadata": {
    "scrolled": true
   },
   "outputs": [
    {
     "data": {
      "text/plain": [
       "3666497.23827592"
      ]
     },
     "execution_count": 9,
     "metadata": {},
     "output_type": "execute_result"
    }
   ],
   "source": [
    "profit_results3['val_pool'].iloc[0]"
   ]
  },
  {
   "cell_type": "code",
   "execution_count": 10,
   "id": "marine-residence",
   "metadata": {},
   "outputs": [
    {
     "data": {
      "text/plain": [
       "4231431.914932845"
      ]
     },
     "execution_count": 10,
     "metadata": {},
     "output_type": "execute_result"
    }
   ],
   "source": [
    "profit_results2['pool_val'].iloc[0]"
   ]
  },
  {
   "cell_type": "code",
   "execution_count": 11,
   "id": "worldwide-invasion",
   "metadata": {},
   "outputs": [
    {
     "data": {
      "text/plain": [
       "4000259.173506626"
      ]
     },
     "execution_count": 11,
     "metadata": {},
     "output_type": "execute_result"
    }
   ],
   "source": [
    "profit_results3['pool_val'].iloc[0]"
   ]
  },
  {
   "cell_type": "code",
   "execution_count": 12,
   "id": "seven-engineering",
   "metadata": {},
   "outputs": [
    {
     "data": {
      "text/plain": [
       "1000000"
      ]
     },
     "execution_count": 12,
     "metadata": {},
     "output_type": "execute_result"
    }
   ],
   "source": [
    "agent_d['LP1']['omniR1']"
   ]
  },
  {
   "cell_type": "code",
   "execution_count": 13,
   "id": "virgin-longer",
   "metadata": {},
   "outputs": [
    {
     "name": "stdout",
     "output_type": "stream",
     "text": [
      "[0]\n"
     ]
    },
    {
     "data": {
      "image/png": "[encoded data removed]",
      "text/plain": [
       "<Figure size 1080x360 with 1 Axes>"
      ]
     },
     "metadata": {
      "needs_background": "light"
     },
     "output_type": "display_data"
    },
    {
     "data": {
      "image/png": "[encoded data removed]",
      "text/plain": [
       "<Figure size 1080x360 with 1 Axes>"
      ]
     },
     "metadata": {
      "needs_background": "light"
     },
     "output_type": "display_data"
    }
   ],
   "source": [
    "from model import plot_utils as pu\n",
    "varlist = ['val_pool', 'pool_val']\n",
    "dataframe = profit_results[profit_results['simulation'] == 0]\n",
    "pu.plot_vars(dataframe, varlist)"
   ]
  },
  {
   "cell_type": "markdown",
   "id": "literary-cruise",
   "metadata": {},
   "source": [
    "## Merge Results"
   ]
  },
  {
   "cell_type": "code",
   "execution_count": 14,
   "id": "colored-ownership",
   "metadata": {},
   "outputs": [],
   "source": [
    "        profit_results = pd.merge(agent_df, rdf, how=\"inner\", on=[\"timestep\", \"simulation\", \"run\", \"subset\", \"substep\"])\n",
    "        profit_results['val_pool'] = profit_results.apply(lambda x: processing.val_pool(x), axis=1)\n",
    "        profit_sim0 = profit_results.apply(lambda x: processing.val_pool(x), axis=1)"
   ]
  },
  {
   "cell_type": "code",
   "execution_count": 15,
   "id": "close-repository",
   "metadata": {
    "scrolled": true
   },
   "outputs": [
    {
     "data": {
      "text/html": [
       "<div>\n",
       "<style scoped>\n",
       "    .dataframe tbody tr th:only-of-type {\n",
       "        vertical-align: middle;\n",
       "    }\n",
       "\n",
       "    .dataframe tbody tr th {\n",
       "        vertical-align: top;\n",
       "    }\n",
       "\n",
       "    .dataframe thead th {\n",
       "        text-align: right;\n",
       "    }\n",
       "</style>\n",
       "<table border=\"1\" class=\"dataframe\">\n",
       "  <thead>\n",
       "    <tr style=\"text-align: right;\">\n",
       "      <th></th>\n",
       "      <th>simulation</th>\n",
       "      <th>subset</th>\n",
       "      <th>run</th>\n",
       "      <th>substep</th>\n",
       "      <th>timestep</th>\n",
       "      <th>agent_label</th>\n",
       "      <th>q</th>\n",
       "      <th>s-0</th>\n",
       "      <th>s-1</th>\n",
       "      <th>r-0</th>\n",
       "      <th>...</th>\n",
       "      <th>B-1</th>\n",
       "      <th>D</th>\n",
       "      <th>T</th>\n",
       "      <th>H</th>\n",
       "      <th>token_list-0</th>\n",
       "      <th>token_list-1</th>\n",
       "      <th>fee_assets</th>\n",
       "      <th>fee_HDX</th>\n",
       "      <th>n</th>\n",
       "      <th>val_pool</th>\n",
       "    </tr>\n",
       "  </thead>\n",
       "  <tbody>\n",
       "    <tr>\n",
       "      <th>0</th>\n",
       "      <td>0</td>\n",
       "      <td>0</td>\n",
       "      <td>1</td>\n",
       "      <td>3</td>\n",
       "      <td>1</td>\n",
       "      <td>Trader</td>\n",
       "      <td>1000000.00</td>\n",
       "      <td>0</td>\n",
       "      <td>0</td>\n",
       "      <td>999900</td>\n",
       "      <td>...</td>\n",
       "      <td>1500000</td>\n",
       "      <td>0.00</td>\n",
       "      <td>None</td>\n",
       "      <td>None</td>\n",
       "      <td>R1</td>\n",
       "      <td>R2</td>\n",
       "      <td>0.00</td>\n",
       "      <td>0.00</td>\n",
       "      <td>2</td>\n",
       "      <td>3666533.45</td>\n",
       "    </tr>\n",
       "    <tr>\n",
       "      <th>1</th>\n",
       "      <td>0</td>\n",
       "      <td>0</td>\n",
       "      <td>1</td>\n",
       "      <td>3</td>\n",
       "      <td>1</td>\n",
       "      <td>LP1</td>\n",
       "      <td>0.00</td>\n",
       "      <td>1000000</td>\n",
       "      <td>0</td>\n",
       "      <td>0</td>\n",
       "      <td>...</td>\n",
       "      <td>1500000</td>\n",
       "      <td>0.00</td>\n",
       "      <td>None</td>\n",
       "      <td>None</td>\n",
       "      <td>R1</td>\n",
       "      <td>R2</td>\n",
       "      <td>0.00</td>\n",
       "      <td>0.00</td>\n",
       "      <td>2</td>\n",
       "      <td>1999600.05</td>\n",
       "    </tr>\n",
       "    <tr>\n",
       "      <th>2</th>\n",
       "      <td>0</td>\n",
       "      <td>0</td>\n",
       "      <td>1</td>\n",
       "      <td>3</td>\n",
       "      <td>2</td>\n",
       "      <td>Trader</td>\n",
       "      <td>1000000.00</td>\n",
       "      <td>0</td>\n",
       "      <td>0</td>\n",
       "      <td>999800</td>\n",
       "      <td>...</td>\n",
       "      <td>1500000</td>\n",
       "      <td>0.00</td>\n",
       "      <td>None</td>\n",
       "      <td>None</td>\n",
       "      <td>R1</td>\n",
       "      <td>R2</td>\n",
       "      <td>0.00</td>\n",
       "      <td>0.00</td>\n",
       "      <td>2</td>\n",
       "      <td>3666400.48</td>\n",
       "    </tr>\n",
       "    <tr>\n",
       "      <th>3</th>\n",
       "      <td>0</td>\n",
       "      <td>0</td>\n",
       "      <td>1</td>\n",
       "      <td>3</td>\n",
       "      <td>2</td>\n",
       "      <td>LP1</td>\n",
       "      <td>0.00</td>\n",
       "      <td>1000000</td>\n",
       "      <td>0</td>\n",
       "      <td>0</td>\n",
       "      <td>...</td>\n",
       "      <td>1500000</td>\n",
       "      <td>0.00</td>\n",
       "      <td>None</td>\n",
       "      <td>None</td>\n",
       "      <td>R1</td>\n",
       "      <td>R2</td>\n",
       "      <td>0.00</td>\n",
       "      <td>0.00</td>\n",
       "      <td>2</td>\n",
       "      <td>1999200.20</td>\n",
       "    </tr>\n",
       "    <tr>\n",
       "      <th>4</th>\n",
       "      <td>0</td>\n",
       "      <td>0</td>\n",
       "      <td>1</td>\n",
       "      <td>3</td>\n",
       "      <td>3</td>\n",
       "      <td>Trader</td>\n",
       "      <td>1000000.00</td>\n",
       "      <td>0</td>\n",
       "      <td>0</td>\n",
       "      <td>999700</td>\n",
       "      <td>...</td>\n",
       "      <td>1500000</td>\n",
       "      <td>0.00</td>\n",
       "      <td>None</td>\n",
       "      <td>None</td>\n",
       "      <td>R1</td>\n",
       "      <td>R2</td>\n",
       "      <td>0.00</td>\n",
       "      <td>0.00</td>\n",
       "      <td>2</td>\n",
       "      <td>3666267.75</td>\n",
       "    </tr>\n",
       "    <tr>\n",
       "      <th>...</th>\n",
       "      <td>...</td>\n",
       "      <td>...</td>\n",
       "      <td>...</td>\n",
       "      <td>...</td>\n",
       "      <td>...</td>\n",
       "      <td>...</td>\n",
       "      <td>...</td>\n",
       "      <td>...</td>\n",
       "      <td>...</td>\n",
       "      <td>...</td>\n",
       "      <td>...</td>\n",
       "      <td>...</td>\n",
       "      <td>...</td>\n",
       "      <td>...</td>\n",
       "      <td>...</td>\n",
       "      <td>...</td>\n",
       "      <td>...</td>\n",
       "      <td>...</td>\n",
       "      <td>...</td>\n",
       "      <td>...</td>\n",
       "      <td>...</td>\n",
       "    </tr>\n",
       "    <tr>\n",
       "      <th>29995</th>\n",
       "      <td>14</td>\n",
       "      <td>0</td>\n",
       "      <td>1</td>\n",
       "      <td>3</td>\n",
       "      <td>998</td>\n",
       "      <td>LP1</td>\n",
       "      <td>0.00</td>\n",
       "      <td>1000000</td>\n",
       "      <td>0</td>\n",
       "      <td>0</td>\n",
       "      <td>...</td>\n",
       "      <td>1500000</td>\n",
       "      <td>0.00</td>\n",
       "      <td>None</td>\n",
       "      <td>None</td>\n",
       "      <td>R1</td>\n",
       "      <td>R2</td>\n",
       "      <td>0.04</td>\n",
       "      <td>0.00</td>\n",
       "      <td>2</td>\n",
       "      <td>1584921.04</td>\n",
       "    </tr>\n",
       "    <tr>\n",
       "      <th>29996</th>\n",
       "      <td>14</td>\n",
       "      <td>0</td>\n",
       "      <td>1</td>\n",
       "      <td>3</td>\n",
       "      <td>999</td>\n",
       "      <td>Trader</td>\n",
       "      <td>1000000.00</td>\n",
       "      <td>0</td>\n",
       "      <td>0</td>\n",
       "      <td>880120</td>\n",
       "      <td>...</td>\n",
       "      <td>1500000</td>\n",
       "      <td>0.00</td>\n",
       "      <td>None</td>\n",
       "      <td>None</td>\n",
       "      <td>R1</td>\n",
       "      <td>R2</td>\n",
       "      <td>0.04</td>\n",
       "      <td>0.00</td>\n",
       "      <td>2</td>\n",
       "      <td>3634153.60</td>\n",
       "    </tr>\n",
       "    <tr>\n",
       "      <th>29997</th>\n",
       "      <td>14</td>\n",
       "      <td>0</td>\n",
       "      <td>1</td>\n",
       "      <td>3</td>\n",
       "      <td>999</td>\n",
       "      <td>LP1</td>\n",
       "      <td>0.00</td>\n",
       "      <td>1000000</td>\n",
       "      <td>0</td>\n",
       "      <td>0</td>\n",
       "      <td>...</td>\n",
       "      <td>1500000</td>\n",
       "      <td>0.00</td>\n",
       "      <td>None</td>\n",
       "      <td>None</td>\n",
       "      <td>R1</td>\n",
       "      <td>R2</td>\n",
       "      <td>0.04</td>\n",
       "      <td>0.00</td>\n",
       "      <td>2</td>\n",
       "      <td>1584562.27</td>\n",
       "    </tr>\n",
       "    <tr>\n",
       "      <th>29998</th>\n",
       "      <td>14</td>\n",
       "      <td>0</td>\n",
       "      <td>1</td>\n",
       "      <td>3</td>\n",
       "      <td>1000</td>\n",
       "      <td>Trader</td>\n",
       "      <td>1000000.00</td>\n",
       "      <td>0</td>\n",
       "      <td>0</td>\n",
       "      <td>880000</td>\n",
       "      <td>...</td>\n",
       "      <td>1500000</td>\n",
       "      <td>0.00</td>\n",
       "      <td>None</td>\n",
       "      <td>None</td>\n",
       "      <td>R1</td>\n",
       "      <td>R2</td>\n",
       "      <td>0.04</td>\n",
       "      <td>0.00</td>\n",
       "      <td>2</td>\n",
       "      <td>3634230.46</td>\n",
       "    </tr>\n",
       "    <tr>\n",
       "      <th>29999</th>\n",
       "      <td>14</td>\n",
       "      <td>0</td>\n",
       "      <td>1</td>\n",
       "      <td>3</td>\n",
       "      <td>1000</td>\n",
       "      <td>LP1</td>\n",
       "      <td>0.00</td>\n",
       "      <td>1000000</td>\n",
       "      <td>0</td>\n",
       "      <td>0</td>\n",
       "      <td>...</td>\n",
       "      <td>1500000</td>\n",
       "      <td>0.00</td>\n",
       "      <td>None</td>\n",
       "      <td>None</td>\n",
       "      <td>R1</td>\n",
       "      <td>R2</td>\n",
       "      <td>0.04</td>\n",
       "      <td>0.00</td>\n",
       "      <td>2</td>\n",
       "      <td>1584203.59</td>\n",
       "    </tr>\n",
       "  </tbody>\n",
       "</table>\n",
       "<p>30000 rows × 32 columns</p>\n",
       "</div>"
      ],
      "text/plain": [
       "       simulation  subset  run  substep  timestep agent_label          q  \\\n",
       "0               0       0    1        3         1      Trader 1000000.00   \n",
       "1               0       0    1        3         1         LP1       0.00   \n",
       "2               0       0    1        3         2      Trader 1000000.00   \n",
       "3               0       0    1        3         2         LP1       0.00   \n",
       "4               0       0    1        3         3      Trader 1000000.00   \n",
       "...           ...     ...  ...      ...       ...         ...        ...   \n",
       "29995          14       0    1        3       998         LP1       0.00   \n",
       "29996          14       0    1        3       999      Trader 1000000.00   \n",
       "29997          14       0    1        3       999         LP1       0.00   \n",
       "29998          14       0    1        3      1000      Trader 1000000.00   \n",
       "29999          14       0    1        3      1000         LP1       0.00   \n",
       "\n",
       "           s-0  s-1     r-0  ...      B-1    D     T     H  token_list-0  \\\n",
       "0            0    0  999900  ...  1500000 0.00  None  None            R1   \n",
       "1      1000000    0       0  ...  1500000 0.00  None  None            R1   \n",
       "2            0    0  999800  ...  1500000 0.00  None  None            R1   \n",
       "3      1000000    0       0  ...  1500000 0.00  None  None            R1   \n",
       "4            0    0  999700  ...  1500000 0.00  None  None            R1   \n",
       "...        ...  ...     ...  ...      ...  ...   ...   ...           ...   \n",
       "29995  1000000    0       0  ...  1500000 0.00  None  None            R1   \n",
       "29996        0    0  880120  ...  1500000 0.00  None  None            R1   \n",
       "29997  1000000    0       0  ...  1500000 0.00  None  None            R1   \n",
       "29998        0    0  880000  ...  1500000 0.00  None  None            R1   \n",
       "29999  1000000    0       0  ...  1500000 0.00  None  None            R1   \n",
       "\n",
       "       token_list-1  fee_assets  fee_HDX  n   val_pool  \n",
       "0                R2        0.00     0.00  2 3666533.45  \n",
       "1                R2        0.00     0.00  2 1999600.05  \n",
       "2                R2        0.00     0.00  2 3666400.48  \n",
       "3                R2        0.00     0.00  2 1999200.20  \n",
       "4                R2        0.00     0.00  2 3666267.75  \n",
       "...             ...         ...      ... ..        ...  \n",
       "29995            R2        0.04     0.00  2 1584921.04  \n",
       "29996            R2        0.04     0.00  2 3634153.60  \n",
       "29997            R2        0.04     0.00  2 1584562.27  \n",
       "29998            R2        0.04     0.00  2 3634230.46  \n",
       "29999            R2        0.04     0.00  2 1584203.59  \n",
       "\n",
       "[30000 rows x 32 columns]"
      ]
     },
     "execution_count": 15,
     "metadata": {},
     "output_type": "execute_result"
    }
   ],
   "source": [
    "profit_results"
   ]
  },
  {
   "cell_type": "code",
   "execution_count": 16,
   "id": "forced-tomorrow",
   "metadata": {},
   "outputs": [],
   "source": [
    "#profit_results1 = profit_results[profit_results['simulation'] == sim_nr]\n",
    "#profit_results2 = profit_results1[profit_results1['timestep'] == total_timesteps]\n",
    "#profit_results2['val_pool'].iloc[0]"
   ]
  },
  {
   "cell_type": "code",
   "execution_count": 17,
   "id": "latter-concrete",
   "metadata": {},
   "outputs": [],
   "source": [
    "#print(profit_results.columns)"
   ]
  },
  {
   "cell_type": "code",
   "execution_count": 18,
   "id": "otherwise-paragraph",
   "metadata": {},
   "outputs": [],
   "source": [
    "#profit_sim0"
   ]
  },
  {
   "cell_type": "markdown",
   "id": "prerequisite-chocolate",
   "metadata": {},
   "source": [
    "\n",
    "var_list = ['R', 'Q', 'A', 'D']\n",
    "plot_vars(rdf, var_list)\n",
    "\n",
    "## Fee Analysis"
   ]
  },
  {
   "cell_type": "code",
   "execution_count": 19,
   "id": "b7829a3e-d082-4092-9414-efd05f4b87c6",
   "metadata": {
    "scrolled": true
   },
   "outputs": [
    {
     "data": {
      "text/html": [
       "<div>\n",
       "<style scoped>\n",
       "    .dataframe tbody tr th:only-of-type {\n",
       "        vertical-align: middle;\n",
       "    }\n",
       "\n",
       "    .dataframe tbody tr th {\n",
       "        vertical-align: top;\n",
       "    }\n",
       "\n",
       "    .dataframe thead th {\n",
       "        text-align: right;\n",
       "    }\n",
       "</style>\n",
       "<table border=\"1\" class=\"dataframe\">\n",
       "  <thead>\n",
       "    <tr style=\"text-align: right;\">\n",
       "      <th></th>\n",
       "      <th>R-0</th>\n",
       "      <th>R-1</th>\n",
       "      <th>Q-0</th>\n",
       "      <th>Q-1</th>\n",
       "      <th>S-0</th>\n",
       "      <th>S-1</th>\n",
       "      <th>A-0</th>\n",
       "      <th>A-1</th>\n",
       "      <th>B-0</th>\n",
       "      <th>B-1</th>\n",
       "      <th>...</th>\n",
       "      <th>token_list-0</th>\n",
       "      <th>token_list-1</th>\n",
       "      <th>fee_assets</th>\n",
       "      <th>fee_HDX</th>\n",
       "      <th>n</th>\n",
       "      <th>simulation</th>\n",
       "      <th>subset</th>\n",
       "      <th>run</th>\n",
       "      <th>substep</th>\n",
       "      <th>timestep</th>\n",
       "    </tr>\n",
       "  </thead>\n",
       "  <tbody>\n",
       "    <tr>\n",
       "      <th>3</th>\n",
       "      <td>1000100</td>\n",
       "      <td>1499700.09</td>\n",
       "      <td>1999800.02</td>\n",
       "      <td>1000199.98</td>\n",
       "      <td>1000000</td>\n",
       "      <td>1500000</td>\n",
       "      <td>0</td>\n",
       "      <td>0</td>\n",
       "      <td>0</td>\n",
       "      <td>1500000</td>\n",
       "      <td>...</td>\n",
       "      <td>R1</td>\n",
       "      <td>R2</td>\n",
       "      <td>0.00</td>\n",
       "      <td>0.00</td>\n",
       "      <td>2</td>\n",
       "      <td>0</td>\n",
       "      <td>0</td>\n",
       "      <td>1</td>\n",
       "      <td>3</td>\n",
       "      <td>1</td>\n",
       "    </tr>\n",
       "    <tr>\n",
       "      <th>6</th>\n",
       "      <td>1000200</td>\n",
       "      <td>1499400.36</td>\n",
       "      <td>1999600.08</td>\n",
       "      <td>1000399.92</td>\n",
       "      <td>1000000</td>\n",
       "      <td>1500000</td>\n",
       "      <td>0</td>\n",
       "      <td>0</td>\n",
       "      <td>0</td>\n",
       "      <td>1500000</td>\n",
       "      <td>...</td>\n",
       "      <td>R1</td>\n",
       "      <td>R2</td>\n",
       "      <td>0.00</td>\n",
       "      <td>0.00</td>\n",
       "      <td>2</td>\n",
       "      <td>0</td>\n",
       "      <td>0</td>\n",
       "      <td>1</td>\n",
       "      <td>3</td>\n",
       "      <td>2</td>\n",
       "    </tr>\n",
       "    <tr>\n",
       "      <th>9</th>\n",
       "      <td>1000300</td>\n",
       "      <td>1499100.81</td>\n",
       "      <td>1999400.18</td>\n",
       "      <td>1000599.82</td>\n",
       "      <td>1000000</td>\n",
       "      <td>1500000</td>\n",
       "      <td>0</td>\n",
       "      <td>0</td>\n",
       "      <td>0</td>\n",
       "      <td>1500000</td>\n",
       "      <td>...</td>\n",
       "      <td>R1</td>\n",
       "      <td>R2</td>\n",
       "      <td>0.00</td>\n",
       "      <td>0.00</td>\n",
       "      <td>2</td>\n",
       "      <td>0</td>\n",
       "      <td>0</td>\n",
       "      <td>1</td>\n",
       "      <td>3</td>\n",
       "      <td>3</td>\n",
       "    </tr>\n",
       "    <tr>\n",
       "      <th>12</th>\n",
       "      <td>1000400</td>\n",
       "      <td>1498801.44</td>\n",
       "      <td>1999200.32</td>\n",
       "      <td>1000799.68</td>\n",
       "      <td>1000000</td>\n",
       "      <td>1500000</td>\n",
       "      <td>0</td>\n",
       "      <td>0</td>\n",
       "      <td>0</td>\n",
       "      <td>1500000</td>\n",
       "      <td>...</td>\n",
       "      <td>R1</td>\n",
       "      <td>R2</td>\n",
       "      <td>0.00</td>\n",
       "      <td>0.00</td>\n",
       "      <td>2</td>\n",
       "      <td>0</td>\n",
       "      <td>0</td>\n",
       "      <td>1</td>\n",
       "      <td>3</td>\n",
       "      <td>4</td>\n",
       "    </tr>\n",
       "    <tr>\n",
       "      <th>15</th>\n",
       "      <td>1000500</td>\n",
       "      <td>1498502.25</td>\n",
       "      <td>1999000.50</td>\n",
       "      <td>1000999.50</td>\n",
       "      <td>1000000</td>\n",
       "      <td>1500000</td>\n",
       "      <td>0</td>\n",
       "      <td>0</td>\n",
       "      <td>0</td>\n",
       "      <td>1500000</td>\n",
       "      <td>...</td>\n",
       "      <td>R1</td>\n",
       "      <td>R2</td>\n",
       "      <td>0.00</td>\n",
       "      <td>0.00</td>\n",
       "      <td>2</td>\n",
       "      <td>0</td>\n",
       "      <td>0</td>\n",
       "      <td>1</td>\n",
       "      <td>3</td>\n",
       "      <td>5</td>\n",
       "    </tr>\n",
       "    <tr>\n",
       "      <th>...</th>\n",
       "      <td>...</td>\n",
       "      <td>...</td>\n",
       "      <td>...</td>\n",
       "      <td>...</td>\n",
       "      <td>...</td>\n",
       "      <td>...</td>\n",
       "      <td>...</td>\n",
       "      <td>...</td>\n",
       "      <td>...</td>\n",
       "      <td>...</td>\n",
       "      <td>...</td>\n",
       "      <td>...</td>\n",
       "      <td>...</td>\n",
       "      <td>...</td>\n",
       "      <td>...</td>\n",
       "      <td>...</td>\n",
       "      <td>...</td>\n",
       "      <td>...</td>\n",
       "      <td>...</td>\n",
       "      <td>...</td>\n",
       "      <td>...</td>\n",
       "    </tr>\n",
       "    <tr>\n",
       "      <th>45002</th>\n",
       "      <td>1119520</td>\n",
       "      <td>1246516.20</td>\n",
       "      <td>1786479.92</td>\n",
       "      <td>1222062.55</td>\n",
       "      <td>1000000</td>\n",
       "      <td>1500000</td>\n",
       "      <td>0</td>\n",
       "      <td>0</td>\n",
       "      <td>0</td>\n",
       "      <td>1500000</td>\n",
       "      <td>...</td>\n",
       "      <td>R1</td>\n",
       "      <td>R2</td>\n",
       "      <td>0.04</td>\n",
       "      <td>0.00</td>\n",
       "      <td>2</td>\n",
       "      <td>14</td>\n",
       "      <td>0</td>\n",
       "      <td>1</td>\n",
       "      <td>3</td>\n",
       "      <td>996</td>\n",
       "    </tr>\n",
       "    <tr>\n",
       "      <th>45005</th>\n",
       "      <td>1119640</td>\n",
       "      <td>1246328.74</td>\n",
       "      <td>1786288.45</td>\n",
       "      <td>1222261.68</td>\n",
       "      <td>1000000</td>\n",
       "      <td>1500000</td>\n",
       "      <td>0</td>\n",
       "      <td>0</td>\n",
       "      <td>0</td>\n",
       "      <td>1500000</td>\n",
       "      <td>...</td>\n",
       "      <td>R1</td>\n",
       "      <td>R2</td>\n",
       "      <td>0.04</td>\n",
       "      <td>0.00</td>\n",
       "      <td>2</td>\n",
       "      <td>14</td>\n",
       "      <td>0</td>\n",
       "      <td>1</td>\n",
       "      <td>3</td>\n",
       "      <td>997</td>\n",
       "    </tr>\n",
       "    <tr>\n",
       "      <th>45008</th>\n",
       "      <td>1119760</td>\n",
       "      <td>1246141.38</td>\n",
       "      <td>1786097.02</td>\n",
       "      <td>1222460.77</td>\n",
       "      <td>1000000</td>\n",
       "      <td>1500000</td>\n",
       "      <td>0</td>\n",
       "      <td>0</td>\n",
       "      <td>0</td>\n",
       "      <td>1500000</td>\n",
       "      <td>...</td>\n",
       "      <td>R1</td>\n",
       "      <td>R2</td>\n",
       "      <td>0.04</td>\n",
       "      <td>0.00</td>\n",
       "      <td>2</td>\n",
       "      <td>14</td>\n",
       "      <td>0</td>\n",
       "      <td>1</td>\n",
       "      <td>3</td>\n",
       "      <td>998</td>\n",
       "    </tr>\n",
       "    <tr>\n",
       "      <th>45011</th>\n",
       "      <td>1119880</td>\n",
       "      <td>1245954.11</td>\n",
       "      <td>1785905.63</td>\n",
       "      <td>1222659.81</td>\n",
       "      <td>1000000</td>\n",
       "      <td>1500000</td>\n",
       "      <td>0</td>\n",
       "      <td>0</td>\n",
       "      <td>0</td>\n",
       "      <td>1500000</td>\n",
       "      <td>...</td>\n",
       "      <td>R1</td>\n",
       "      <td>R2</td>\n",
       "      <td>0.04</td>\n",
       "      <td>0.00</td>\n",
       "      <td>2</td>\n",
       "      <td>14</td>\n",
       "      <td>0</td>\n",
       "      <td>1</td>\n",
       "      <td>3</td>\n",
       "      <td>999</td>\n",
       "    </tr>\n",
       "    <tr>\n",
       "      <th>45014</th>\n",
       "      <td>1120000</td>\n",
       "      <td>1245766.95</td>\n",
       "      <td>1785714.29</td>\n",
       "      <td>1222858.81</td>\n",
       "      <td>1000000</td>\n",
       "      <td>1500000</td>\n",
       "      <td>0</td>\n",
       "      <td>0</td>\n",
       "      <td>0</td>\n",
       "      <td>1500000</td>\n",
       "      <td>...</td>\n",
       "      <td>R1</td>\n",
       "      <td>R2</td>\n",
       "      <td>0.04</td>\n",
       "      <td>0.00</td>\n",
       "      <td>2</td>\n",
       "      <td>14</td>\n",
       "      <td>0</td>\n",
       "      <td>1</td>\n",
       "      <td>3</td>\n",
       "      <td>1000</td>\n",
       "    </tr>\n",
       "  </tbody>\n",
       "</table>\n",
       "<p>15000 rows × 23 columns</p>\n",
       "</div>"
      ],
      "text/plain": [
       "           R-0        R-1        Q-0        Q-1      S-0      S-1  A-0  A-1  \\\n",
       "3      1000100 1499700.09 1999800.02 1000199.98  1000000  1500000    0    0   \n",
       "6      1000200 1499400.36 1999600.08 1000399.92  1000000  1500000    0    0   \n",
       "9      1000300 1499100.81 1999400.18 1000599.82  1000000  1500000    0    0   \n",
       "12     1000400 1498801.44 1999200.32 1000799.68  1000000  1500000    0    0   \n",
       "15     1000500 1498502.25 1999000.50 1000999.50  1000000  1500000    0    0   \n",
       "...        ...        ...        ...        ...      ...      ...  ...  ...   \n",
       "45002  1119520 1246516.20 1786479.92 1222062.55  1000000  1500000    0    0   \n",
       "45005  1119640 1246328.74 1786288.45 1222261.68  1000000  1500000    0    0   \n",
       "45008  1119760 1246141.38 1786097.02 1222460.77  1000000  1500000    0    0   \n",
       "45011  1119880 1245954.11 1785905.63 1222659.81  1000000  1500000    0    0   \n",
       "45014  1120000 1245766.95 1785714.29 1222858.81  1000000  1500000    0    0   \n",
       "\n",
       "       B-0      B-1  ...  token_list-0 token_list-1 fee_assets fee_HDX  n  \\\n",
       "3        0  1500000  ...            R1           R2       0.00    0.00  2   \n",
       "6        0  1500000  ...            R1           R2       0.00    0.00  2   \n",
       "9        0  1500000  ...            R1           R2       0.00    0.00  2   \n",
       "12       0  1500000  ...            R1           R2       0.00    0.00  2   \n",
       "15       0  1500000  ...            R1           R2       0.00    0.00  2   \n",
       "...    ...      ...  ...           ...          ...        ...     ... ..   \n",
       "45002    0  1500000  ...            R1           R2       0.04    0.00  2   \n",
       "45005    0  1500000  ...            R1           R2       0.04    0.00  2   \n",
       "45008    0  1500000  ...            R1           R2       0.04    0.00  2   \n",
       "45011    0  1500000  ...            R1           R2       0.04    0.00  2   \n",
       "45014    0  1500000  ...            R1           R2       0.04    0.00  2   \n",
       "\n",
       "       simulation  subset  run  substep  timestep  \n",
       "3               0       0    1        3         1  \n",
       "6               0       0    1        3         2  \n",
       "9               0       0    1        3         3  \n",
       "12              0       0    1        3         4  \n",
       "15              0       0    1        3         5  \n",
       "...           ...     ...  ...      ...       ...  \n",
       "45002          14       0    1        3       996  \n",
       "45005          14       0    1        3       997  \n",
       "45008          14       0    1        3       998  \n",
       "45011          14       0    1        3       999  \n",
       "45014          14       0    1        3      1000  \n",
       "\n",
       "[15000 rows x 23 columns]"
      ]
     },
     "execution_count": 19,
     "metadata": {},
     "output_type": "execute_result"
    }
   ],
   "source": [
    "rdf"
   ]
  },
  {
   "cell_type": "code",
   "execution_count": 20,
   "id": "resistant-point",
   "metadata": {},
   "outputs": [
    {
     "name": "stdout",
     "output_type": "stream",
     "text": [
      "Index(['R-0', 'R-1', 'Q-0', 'Q-1', 'S-0', 'S-1', 'A-0', 'A-1', 'B-0', 'B-1',\n",
      "       'D', 'T', 'H', 'token_list-0', 'token_list-1', 'fee_assets', 'fee_HDX',\n",
      "       'n', 'simulation', 'subset', 'run', 'substep', 'timestep'],\n",
      "      dtype='object')\n"
     ]
    }
   ],
   "source": [
    "print(rdf.columns)"
   ]
  },
  {
   "cell_type": "code",
   "execution_count": 21,
   "id": "reverse-visiting",
   "metadata": {
    "scrolled": false
   },
   "outputs": [
    {
     "name": "stdout",
     "output_type": "stream",
     "text": [
      "<bound method NDFrame.keys of            R-0        R-1        Q-0        Q-1      S-0      S-1  A-0  A-1  \\\n",
      "3      1000100 1499700.09 1999800.02 1000199.98  1000000  1500000    0    0   \n",
      "6      1000200 1499400.36 1999600.08 1000399.92  1000000  1500000    0    0   \n",
      "9      1000300 1499100.81 1999400.18 1000599.82  1000000  1500000    0    0   \n",
      "12     1000400 1498801.44 1999200.32 1000799.68  1000000  1500000    0    0   \n",
      "15     1000500 1498502.25 1999000.50 1000999.50  1000000  1500000    0    0   \n",
      "...        ...        ...        ...        ...      ...      ...  ...  ...   \n",
      "45002  1119520 1246516.20 1786479.92 1222062.55  1000000  1500000    0    0   \n",
      "45005  1119640 1246328.74 1786288.45 1222261.68  1000000  1500000    0    0   \n",
      "45008  1119760 1246141.38 1786097.02 1222460.77  1000000  1500000    0    0   \n",
      "45011  1119880 1245954.11 1785905.63 1222659.81  1000000  1500000    0    0   \n",
      "45014  1120000 1245766.95 1785714.29 1222858.81  1000000  1500000    0    0   \n",
      "\n",
      "       B-0      B-1  ...  token_list-0 token_list-1 fee_assets fee_HDX  n  \\\n",
      "3        0  1500000  ...            R1           R2       0.00    0.00  2   \n",
      "6        0  1500000  ...            R1           R2       0.00    0.00  2   \n",
      "9        0  1500000  ...            R1           R2       0.00    0.00  2   \n",
      "12       0  1500000  ...            R1           R2       0.00    0.00  2   \n",
      "15       0  1500000  ...            R1           R2       0.00    0.00  2   \n",
      "...    ...      ...  ...           ...          ...        ...     ... ..   \n",
      "45002    0  1500000  ...            R1           R2       0.04    0.00  2   \n",
      "45005    0  1500000  ...            R1           R2       0.04    0.00  2   \n",
      "45008    0  1500000  ...            R1           R2       0.04    0.00  2   \n",
      "45011    0  1500000  ...            R1           R2       0.04    0.00  2   \n",
      "45014    0  1500000  ...            R1           R2       0.04    0.00  2   \n",
      "\n",
      "       simulation  subset  run  substep  timestep  \n",
      "3               0       0    1        3         1  \n",
      "6               0       0    1        3         2  \n",
      "9               0       0    1        3         3  \n",
      "12              0       0    1        3         4  \n",
      "15              0       0    1        3         5  \n",
      "...           ...     ...  ...      ...       ...  \n",
      "45002          14       0    1        3       996  \n",
      "45005          14       0    1        3       997  \n",
      "45008          14       0    1        3       998  \n",
      "45011          14       0    1        3       999  \n",
      "45014          14       0    1        3      1000  \n",
      "\n",
      "[15000 rows x 23 columns]>\n"
     ]
    }
   ],
   "source": [
    "print(rdf.keys)"
   ]
  },
  {
   "cell_type": "code",
   "execution_count": 22,
   "id": "tender-paraguay",
   "metadata": {},
   "outputs": [
    {
     "data": {
      "text/html": [
       "<div>\n",
       "<style scoped>\n",
       "    .dataframe tbody tr th:only-of-type {\n",
       "        vertical-align: middle;\n",
       "    }\n",
       "\n",
       "    .dataframe tbody tr th {\n",
       "        vertical-align: top;\n",
       "    }\n",
       "\n",
       "    .dataframe thead th {\n",
       "        text-align: right;\n",
       "    }\n",
       "</style>\n",
       "<table border=\"1\" class=\"dataframe\">\n",
       "  <thead>\n",
       "    <tr style=\"text-align: right;\">\n",
       "      <th></th>\n",
       "      <th>simulation</th>\n",
       "      <th>subset</th>\n",
       "      <th>run</th>\n",
       "      <th>substep</th>\n",
       "      <th>timestep</th>\n",
       "      <th>agent_label</th>\n",
       "      <th>q</th>\n",
       "      <th>s-0</th>\n",
       "      <th>s-1</th>\n",
       "      <th>r-0</th>\n",
       "      <th>r-1</th>\n",
       "      <th>p-0</th>\n",
       "      <th>p-1</th>\n",
       "    </tr>\n",
       "  </thead>\n",
       "  <tbody>\n",
       "    <tr>\n",
       "      <th>6</th>\n",
       "      <td>0</td>\n",
       "      <td>0</td>\n",
       "      <td>1</td>\n",
       "      <td>3</td>\n",
       "      <td>1</td>\n",
       "      <td>Trader</td>\n",
       "      <td>1000000.00</td>\n",
       "      <td>0</td>\n",
       "      <td>0</td>\n",
       "      <td>999900</td>\n",
       "      <td>1000299.91</td>\n",
       "      <td>0.00</td>\n",
       "      <td>0</td>\n",
       "    </tr>\n",
       "    <tr>\n",
       "      <th>7</th>\n",
       "      <td>0</td>\n",
       "      <td>0</td>\n",
       "      <td>1</td>\n",
       "      <td>3</td>\n",
       "      <td>1</td>\n",
       "      <td>LP1</td>\n",
       "      <td>0.00</td>\n",
       "      <td>1000000</td>\n",
       "      <td>0</td>\n",
       "      <td>0</td>\n",
       "      <td>0.00</td>\n",
       "      <td>2.00</td>\n",
       "      <td>0</td>\n",
       "    </tr>\n",
       "    <tr>\n",
       "      <th>12</th>\n",
       "      <td>0</td>\n",
       "      <td>0</td>\n",
       "      <td>1</td>\n",
       "      <td>3</td>\n",
       "      <td>2</td>\n",
       "      <td>Trader</td>\n",
       "      <td>1000000.00</td>\n",
       "      <td>0</td>\n",
       "      <td>0</td>\n",
       "      <td>999800</td>\n",
       "      <td>1000599.64</td>\n",
       "      <td>0.00</td>\n",
       "      <td>0</td>\n",
       "    </tr>\n",
       "    <tr>\n",
       "      <th>13</th>\n",
       "      <td>0</td>\n",
       "      <td>0</td>\n",
       "      <td>1</td>\n",
       "      <td>3</td>\n",
       "      <td>2</td>\n",
       "      <td>LP1</td>\n",
       "      <td>0.00</td>\n",
       "      <td>1000000</td>\n",
       "      <td>0</td>\n",
       "      <td>0</td>\n",
       "      <td>0.00</td>\n",
       "      <td>2.00</td>\n",
       "      <td>0</td>\n",
       "    </tr>\n",
       "    <tr>\n",
       "      <th>18</th>\n",
       "      <td>0</td>\n",
       "      <td>0</td>\n",
       "      <td>1</td>\n",
       "      <td>3</td>\n",
       "      <td>3</td>\n",
       "      <td>Trader</td>\n",
       "      <td>1000000.00</td>\n",
       "      <td>0</td>\n",
       "      <td>0</td>\n",
       "      <td>999700</td>\n",
       "      <td>1000899.19</td>\n",
       "      <td>0.00</td>\n",
       "      <td>0</td>\n",
       "    </tr>\n",
       "    <tr>\n",
       "      <th>...</th>\n",
       "      <td>...</td>\n",
       "      <td>...</td>\n",
       "      <td>...</td>\n",
       "      <td>...</td>\n",
       "      <td>...</td>\n",
       "      <td>...</td>\n",
       "      <td>...</td>\n",
       "      <td>...</td>\n",
       "      <td>...</td>\n",
       "      <td>...</td>\n",
       "      <td>...</td>\n",
       "      <td>...</td>\n",
       "      <td>...</td>\n",
       "    </tr>\n",
       "    <tr>\n",
       "      <th>90017</th>\n",
       "      <td>14</td>\n",
       "      <td>0</td>\n",
       "      <td>1</td>\n",
       "      <td>3</td>\n",
       "      <td>998</td>\n",
       "      <td>LP1</td>\n",
       "      <td>0.00</td>\n",
       "      <td>1000000</td>\n",
       "      <td>0</td>\n",
       "      <td>0</td>\n",
       "      <td>0.00</td>\n",
       "      <td>2.00</td>\n",
       "      <td>0</td>\n",
       "    </tr>\n",
       "    <tr>\n",
       "      <th>90022</th>\n",
       "      <td>14</td>\n",
       "      <td>0</td>\n",
       "      <td>1</td>\n",
       "      <td>3</td>\n",
       "      <td>999</td>\n",
       "      <td>Trader</td>\n",
       "      <td>1000000.00</td>\n",
       "      <td>0</td>\n",
       "      <td>0</td>\n",
       "      <td>880120</td>\n",
       "      <td>1254045.89</td>\n",
       "      <td>0.00</td>\n",
       "      <td>0</td>\n",
       "    </tr>\n",
       "    <tr>\n",
       "      <th>90023</th>\n",
       "      <td>14</td>\n",
       "      <td>0</td>\n",
       "      <td>1</td>\n",
       "      <td>3</td>\n",
       "      <td>999</td>\n",
       "      <td>LP1</td>\n",
       "      <td>0.00</td>\n",
       "      <td>1000000</td>\n",
       "      <td>0</td>\n",
       "      <td>0</td>\n",
       "      <td>0.00</td>\n",
       "      <td>2.00</td>\n",
       "      <td>0</td>\n",
       "    </tr>\n",
       "    <tr>\n",
       "      <th>90028</th>\n",
       "      <td>14</td>\n",
       "      <td>0</td>\n",
       "      <td>1</td>\n",
       "      <td>3</td>\n",
       "      <td>1000</td>\n",
       "      <td>Trader</td>\n",
       "      <td>1000000.00</td>\n",
       "      <td>0</td>\n",
       "      <td>0</td>\n",
       "      <td>880000</td>\n",
       "      <td>1254233.05</td>\n",
       "      <td>0.00</td>\n",
       "      <td>0</td>\n",
       "    </tr>\n",
       "    <tr>\n",
       "      <th>90029</th>\n",
       "      <td>14</td>\n",
       "      <td>0</td>\n",
       "      <td>1</td>\n",
       "      <td>3</td>\n",
       "      <td>1000</td>\n",
       "      <td>LP1</td>\n",
       "      <td>0.00</td>\n",
       "      <td>1000000</td>\n",
       "      <td>0</td>\n",
       "      <td>0</td>\n",
       "      <td>0.00</td>\n",
       "      <td>2.00</td>\n",
       "      <td>0</td>\n",
       "    </tr>\n",
       "  </tbody>\n",
       "</table>\n",
       "<p>30000 rows × 13 columns</p>\n",
       "</div>"
      ],
      "text/plain": [
       "       simulation  subset  run  substep  timestep agent_label          q  \\\n",
       "6               0       0    1        3         1      Trader 1000000.00   \n",
       "7               0       0    1        3         1         LP1       0.00   \n",
       "12              0       0    1        3         2      Trader 1000000.00   \n",
       "13              0       0    1        3         2         LP1       0.00   \n",
       "18              0       0    1        3         3      Trader 1000000.00   \n",
       "...           ...     ...  ...      ...       ...         ...        ...   \n",
       "90017          14       0    1        3       998         LP1       0.00   \n",
       "90022          14       0    1        3       999      Trader 1000000.00   \n",
       "90023          14       0    1        3       999         LP1       0.00   \n",
       "90028          14       0    1        3      1000      Trader 1000000.00   \n",
       "90029          14       0    1        3      1000         LP1       0.00   \n",
       "\n",
       "           s-0  s-1     r-0        r-1  p-0  p-1  \n",
       "6            0    0  999900 1000299.91 0.00    0  \n",
       "7      1000000    0       0       0.00 2.00    0  \n",
       "12           0    0  999800 1000599.64 0.00    0  \n",
       "13     1000000    0       0       0.00 2.00    0  \n",
       "18           0    0  999700 1000899.19 0.00    0  \n",
       "...        ...  ...     ...        ...  ...  ...  \n",
       "90017  1000000    0       0       0.00 2.00    0  \n",
       "90022        0    0  880120 1254045.89 0.00    0  \n",
       "90023  1000000    0       0       0.00 2.00    0  \n",
       "90028        0    0  880000 1254233.05 0.00    0  \n",
       "90029  1000000    0       0       0.00 2.00    0  \n",
       "\n",
       "[30000 rows x 13 columns]"
      ]
     },
     "execution_count": 22,
     "metadata": {},
     "output_type": "execute_result"
    }
   ],
   "source": [
    "agent_df"
   ]
  },
  {
   "cell_type": "code",
   "execution_count": 23,
   "id": "affected-portrait",
   "metadata": {},
   "outputs": [
    {
     "data": {
      "text/html": [
       "<div>\n",
       "<style scoped>\n",
       "    .dataframe tbody tr th:only-of-type {\n",
       "        vertical-align: middle;\n",
       "    }\n",
       "\n",
       "    .dataframe tbody tr th {\n",
       "        vertical-align: top;\n",
       "    }\n",
       "\n",
       "    .dataframe thead th {\n",
       "        text-align: right;\n",
       "    }\n",
       "</style>\n",
       "<table border=\"1\" class=\"dataframe\">\n",
       "  <thead>\n",
       "    <tr style=\"text-align: right;\">\n",
       "      <th></th>\n",
       "      <th>simulation</th>\n",
       "      <th>subset</th>\n",
       "      <th>run</th>\n",
       "      <th>substep</th>\n",
       "      <th>timestep</th>\n",
       "      <th>agent_label</th>\n",
       "      <th>q</th>\n",
       "      <th>s-0</th>\n",
       "      <th>s-1</th>\n",
       "      <th>r-0</th>\n",
       "      <th>r-1</th>\n",
       "      <th>p-0</th>\n",
       "      <th>p-1</th>\n",
       "    </tr>\n",
       "  </thead>\n",
       "  <tbody>\n",
       "    <tr>\n",
       "      <th>7</th>\n",
       "      <td>0</td>\n",
       "      <td>0</td>\n",
       "      <td>1</td>\n",
       "      <td>3</td>\n",
       "      <td>1</td>\n",
       "      <td>LP1</td>\n",
       "      <td>0.00</td>\n",
       "      <td>1000000</td>\n",
       "      <td>0</td>\n",
       "      <td>0</td>\n",
       "      <td>0.00</td>\n",
       "      <td>2.00</td>\n",
       "      <td>0</td>\n",
       "    </tr>\n",
       "    <tr>\n",
       "      <th>13</th>\n",
       "      <td>0</td>\n",
       "      <td>0</td>\n",
       "      <td>1</td>\n",
       "      <td>3</td>\n",
       "      <td>2</td>\n",
       "      <td>LP1</td>\n",
       "      <td>0.00</td>\n",
       "      <td>1000000</td>\n",
       "      <td>0</td>\n",
       "      <td>0</td>\n",
       "      <td>0.00</td>\n",
       "      <td>2.00</td>\n",
       "      <td>0</td>\n",
       "    </tr>\n",
       "    <tr>\n",
       "      <th>19</th>\n",
       "      <td>0</td>\n",
       "      <td>0</td>\n",
       "      <td>1</td>\n",
       "      <td>3</td>\n",
       "      <td>3</td>\n",
       "      <td>LP1</td>\n",
       "      <td>0.00</td>\n",
       "      <td>1000000</td>\n",
       "      <td>0</td>\n",
       "      <td>0</td>\n",
       "      <td>0.00</td>\n",
       "      <td>2.00</td>\n",
       "      <td>0</td>\n",
       "    </tr>\n",
       "    <tr>\n",
       "      <th>25</th>\n",
       "      <td>0</td>\n",
       "      <td>0</td>\n",
       "      <td>1</td>\n",
       "      <td>3</td>\n",
       "      <td>4</td>\n",
       "      <td>LP1</td>\n",
       "      <td>0.00</td>\n",
       "      <td>1000000</td>\n",
       "      <td>0</td>\n",
       "      <td>0</td>\n",
       "      <td>0.00</td>\n",
       "      <td>2.00</td>\n",
       "      <td>0</td>\n",
       "    </tr>\n",
       "    <tr>\n",
       "      <th>31</th>\n",
       "      <td>0</td>\n",
       "      <td>0</td>\n",
       "      <td>1</td>\n",
       "      <td>3</td>\n",
       "      <td>5</td>\n",
       "      <td>LP1</td>\n",
       "      <td>0.00</td>\n",
       "      <td>1000000</td>\n",
       "      <td>0</td>\n",
       "      <td>0</td>\n",
       "      <td>0.00</td>\n",
       "      <td>2.00</td>\n",
       "      <td>0</td>\n",
       "    </tr>\n",
       "    <tr>\n",
       "      <th>...</th>\n",
       "      <td>...</td>\n",
       "      <td>...</td>\n",
       "      <td>...</td>\n",
       "      <td>...</td>\n",
       "      <td>...</td>\n",
       "      <td>...</td>\n",
       "      <td>...</td>\n",
       "      <td>...</td>\n",
       "      <td>...</td>\n",
       "      <td>...</td>\n",
       "      <td>...</td>\n",
       "      <td>...</td>\n",
       "      <td>...</td>\n",
       "    </tr>\n",
       "    <tr>\n",
       "      <th>90005</th>\n",
       "      <td>14</td>\n",
       "      <td>0</td>\n",
       "      <td>1</td>\n",
       "      <td>3</td>\n",
       "      <td>996</td>\n",
       "      <td>LP1</td>\n",
       "      <td>0.00</td>\n",
       "      <td>1000000</td>\n",
       "      <td>0</td>\n",
       "      <td>0</td>\n",
       "      <td>0.00</td>\n",
       "      <td>2.00</td>\n",
       "      <td>0</td>\n",
       "    </tr>\n",
       "    <tr>\n",
       "      <th>90011</th>\n",
       "      <td>14</td>\n",
       "      <td>0</td>\n",
       "      <td>1</td>\n",
       "      <td>3</td>\n",
       "      <td>997</td>\n",
       "      <td>LP1</td>\n",
       "      <td>0.00</td>\n",
       "      <td>1000000</td>\n",
       "      <td>0</td>\n",
       "      <td>0</td>\n",
       "      <td>0.00</td>\n",
       "      <td>2.00</td>\n",
       "      <td>0</td>\n",
       "    </tr>\n",
       "    <tr>\n",
       "      <th>90017</th>\n",
       "      <td>14</td>\n",
       "      <td>0</td>\n",
       "      <td>1</td>\n",
       "      <td>3</td>\n",
       "      <td>998</td>\n",
       "      <td>LP1</td>\n",
       "      <td>0.00</td>\n",
       "      <td>1000000</td>\n",
       "      <td>0</td>\n",
       "      <td>0</td>\n",
       "      <td>0.00</td>\n",
       "      <td>2.00</td>\n",
       "      <td>0</td>\n",
       "    </tr>\n",
       "    <tr>\n",
       "      <th>90023</th>\n",
       "      <td>14</td>\n",
       "      <td>0</td>\n",
       "      <td>1</td>\n",
       "      <td>3</td>\n",
       "      <td>999</td>\n",
       "      <td>LP1</td>\n",
       "      <td>0.00</td>\n",
       "      <td>1000000</td>\n",
       "      <td>0</td>\n",
       "      <td>0</td>\n",
       "      <td>0.00</td>\n",
       "      <td>2.00</td>\n",
       "      <td>0</td>\n",
       "    </tr>\n",
       "    <tr>\n",
       "      <th>90029</th>\n",
       "      <td>14</td>\n",
       "      <td>0</td>\n",
       "      <td>1</td>\n",
       "      <td>3</td>\n",
       "      <td>1000</td>\n",
       "      <td>LP1</td>\n",
       "      <td>0.00</td>\n",
       "      <td>1000000</td>\n",
       "      <td>0</td>\n",
       "      <td>0</td>\n",
       "      <td>0.00</td>\n",
       "      <td>2.00</td>\n",
       "      <td>0</td>\n",
       "    </tr>\n",
       "  </tbody>\n",
       "</table>\n",
       "<p>15000 rows × 13 columns</p>\n",
       "</div>"
      ],
      "text/plain": [
       "       simulation  subset  run  substep  timestep agent_label    q      s-0  \\\n",
       "7               0       0    1        3         1         LP1 0.00  1000000   \n",
       "13              0       0    1        3         2         LP1 0.00  1000000   \n",
       "19              0       0    1        3         3         LP1 0.00  1000000   \n",
       "25              0       0    1        3         4         LP1 0.00  1000000   \n",
       "31              0       0    1        3         5         LP1 0.00  1000000   \n",
       "...           ...     ...  ...      ...       ...         ...  ...      ...   \n",
       "90005          14       0    1        3       996         LP1 0.00  1000000   \n",
       "90011          14       0    1        3       997         LP1 0.00  1000000   \n",
       "90017          14       0    1        3       998         LP1 0.00  1000000   \n",
       "90023          14       0    1        3       999         LP1 0.00  1000000   \n",
       "90029          14       0    1        3      1000         LP1 0.00  1000000   \n",
       "\n",
       "       s-1  r-0  r-1  p-0  p-1  \n",
       "7        0    0 0.00 2.00    0  \n",
       "13       0    0 0.00 2.00    0  \n",
       "19       0    0 0.00 2.00    0  \n",
       "25       0    0 0.00 2.00    0  \n",
       "31       0    0 0.00 2.00    0  \n",
       "...    ...  ...  ...  ...  ...  \n",
       "90005    0    0 0.00 2.00    0  \n",
       "90011    0    0 0.00 2.00    0  \n",
       "90017    0    0 0.00 2.00    0  \n",
       "90023    0    0 0.00 2.00    0  \n",
       "90029    0    0 0.00 2.00    0  \n",
       "\n",
       "[15000 rows x 13 columns]"
      ]
     },
     "execution_count": 23,
     "metadata": {},
     "output_type": "execute_result"
    }
   ],
   "source": [
    "agent_df.query('agent_label==\"LP1\"')"
   ]
  },
  {
   "cell_type": "markdown",
   "id": "regional-input",
   "metadata": {},
   "source": [
    "## How to metric"
   ]
  },
  {
   "cell_type": "code",
   "execution_count": 24,
   "id": "boring-canal",
   "metadata": {},
   "outputs": [
    {
     "data": {
      "text/plain": [
       "3000   1269230.77\n",
       "Name: R-1, dtype: float64"
      ]
     },
     "execution_count": 24,
     "metadata": {},
     "output_type": "execute_result"
    }
   ],
   "source": [
    "rdf.loc[(rdf['simulation'] == 0) & (rdf['timestep'] == 1000)]['R-1']"
   ]
  },
  {
   "cell_type": "code",
   "execution_count": 25,
   "id": "tropical-foundation",
   "metadata": {},
   "outputs": [
    {
     "data": {
      "text/plain": [
       "1100000"
      ]
     },
     "execution_count": 25,
     "metadata": {},
     "output_type": "execute_result"
    }
   ],
   "source": [
    "#import pandas as pd\n",
    "#rdf.get_value('simulation' == 0 )]\n",
    "rdf1 = rdf[rdf[\"simulation\"] == 0]\n",
    "rdf2 = rdf1[rdf1[\"timestep\"] == 1000]\n",
    "x_0 = rdf2['R-0'].iloc[0]\n",
    "x_0\n"
   ]
  },
  {
   "cell_type": "code",
   "execution_count": 26,
   "id": "aging-regard",
   "metadata": {},
   "outputs": [
    {
     "data": {
      "text/plain": [
       "6001   1251879.70\n",
       "Name: R-1, dtype: float64"
      ]
     },
     "execution_count": 26,
     "metadata": {},
     "output_type": "execute_result"
    }
   ],
   "source": [
    "rdf.loc[(rdf['simulation'] == 1) & (rdf['timestep'] == 1000)]['R-1']"
   ]
  },
  {
   "cell_type": "code",
   "execution_count": 27,
   "id": "running-exercise",
   "metadata": {},
   "outputs": [
    {
     "data": {
      "text/plain": [
       "9002   1235294.12\n",
       "Name: R-1, dtype: float64"
      ]
     },
     "execution_count": 27,
     "metadata": {},
     "output_type": "execute_result"
    }
   ],
   "source": [
    "rdf.loc[(rdf['simulation'] == 2) & (rdf['timestep'] == 1000)]['R-1']"
   ]
  },
  {
   "cell_type": "code",
   "execution_count": 28,
   "id": "independent-warehouse",
   "metadata": {},
   "outputs": [
    {
     "data": {
      "text/plain": [
       "12003   1271518.95\n",
       "Name: R-1, dtype: float64"
      ]
     },
     "execution_count": 28,
     "metadata": {},
     "output_type": "execute_result"
    }
   ],
   "source": [
    "rdf.loc[(rdf['simulation'] == 3) & (rdf['timestep'] == 1000)]['R-1']"
   ]
  },
  {
   "cell_type": "code",
   "execution_count": 29,
   "id": "durable-choir",
   "metadata": {},
   "outputs": [
    {
     "data": {
      "text/plain": [
       "3   1499700.09\n",
       "Name: R-1, dtype: float64"
      ]
     },
     "execution_count": 29,
     "metadata": {},
     "output_type": "execute_result"
    }
   ],
   "source": [
    "rdf.loc[(rdf['simulation'] == 0) & (rdf['timestep'] == 1)]['R-1']"
   ]
  },
  {
   "cell_type": "code",
   "execution_count": 30,
   "id": "german-jumping",
   "metadata": {},
   "outputs": [
    {
     "data": {
      "text/plain": [
       "3004   1499670.11\n",
       "Name: R-1, dtype: float64"
      ]
     },
     "execution_count": 30,
     "metadata": {},
     "output_type": "execute_result"
    }
   ],
   "source": [
    "rdf.loc[(rdf['simulation'] == 1) & (rdf['timestep'] == 1)]['R-1']"
   ]
  },
  {
   "cell_type": "code",
   "execution_count": 31,
   "id": "vulnerable-republic",
   "metadata": {},
   "outputs": [
    {
     "data": {
      "text/plain": [
       "6005   1499640.13\n",
       "Name: R-1, dtype: float64"
      ]
     },
     "execution_count": 31,
     "metadata": {},
     "output_type": "execute_result"
    }
   ],
   "source": [
    "rdf.loc[(rdf['simulation'] == 2) & (rdf['timestep'] == 1)]['R-1']"
   ]
  },
  {
   "cell_type": "code",
   "execution_count": 32,
   "id": "adjusted-delicious",
   "metadata": {
    "scrolled": true
   },
   "outputs": [
    {
     "data": {
      "text/plain": [
       "9006   1499703.09\n",
       "Name: R-1, dtype: float64"
      ]
     },
     "execution_count": 32,
     "metadata": {},
     "output_type": "execute_result"
    }
   ],
   "source": [
    "rdf.loc[(rdf['simulation'] == 3) & (rdf['timestep'] == 1)]['R-1']"
   ]
  },
  {
   "cell_type": "markdown",
   "id": "approximate-boston",
   "metadata": {},
   "source": [
    "### Calculate change in pool value"
   ]
  },
  {
   "cell_type": "markdown",
   "id": "absent-floating",
   "metadata": {},
   "source": [
    "#### R-0"
   ]
  },
  {
   "cell_type": "code",
   "execution_count": 33,
   "id": "editorial-strap",
   "metadata": {},
   "outputs": [
    {
     "data": {
      "text/plain": [
       "1100000"
      ]
     },
     "execution_count": 33,
     "metadata": {},
     "output_type": "execute_result"
    }
   ],
   "source": [
    "rdf1 = rdf[rdf[\"simulation\"] == 0]\n",
    "rdf2 = rdf1[rdf1[\"timestep\"] == 1000]\n",
    "r0_1 = rdf2['R-0'].iloc[0]\n",
    "r0_1"
   ]
  },
  {
   "cell_type": "code",
   "execution_count": 34,
   "id": "forty-arbitration",
   "metadata": {},
   "outputs": [
    {
     "data": {
      "text/plain": [
       "1000100"
      ]
     },
     "execution_count": 34,
     "metadata": {},
     "output_type": "execute_result"
    }
   ],
   "source": [
    "rdf1 = rdf[rdf[\"simulation\"] == 0]\n",
    "rdf2 = rdf1[rdf1[\"timestep\"] == 1]\n",
    "r0_0 = rdf2['R-0'].iloc[0]\n",
    "r0_0"
   ]
  },
  {
   "cell_type": "code",
   "execution_count": 35,
   "id": "fixed-radical",
   "metadata": {
    "scrolled": true
   },
   "outputs": [
    {
     "data": {
      "text/plain": [
       "99900"
      ]
     },
     "execution_count": 35,
     "metadata": {},
     "output_type": "execute_result"
    }
   ],
   "source": [
    "profit_sim0_r0 = r0_1 - r0_0\n",
    "profit_sim0_r0"
   ]
  },
  {
   "cell_type": "markdown",
   "id": "comprehensive-incidence",
   "metadata": {},
   "source": [
    "#### R-1"
   ]
  },
  {
   "cell_type": "code",
   "execution_count": 36,
   "id": "significant-security",
   "metadata": {},
   "outputs": [
    {
     "data": {
      "text/plain": [
       "1269230.7692307646"
      ]
     },
     "execution_count": 36,
     "metadata": {},
     "output_type": "execute_result"
    }
   ],
   "source": [
    "rdf1 = rdf[rdf[\"simulation\"] == 0]\n",
    "rdf2 = rdf1[rdf1[\"timestep\"] == 1000]\n",
    "r1_1 = rdf2['R-1'].iloc[0]\n",
    "r1_1"
   ]
  },
  {
   "cell_type": "code",
   "execution_count": 37,
   "id": "leading-province",
   "metadata": {},
   "outputs": [
    {
     "data": {
      "text/plain": [
       "1499700.0899730083"
      ]
     },
     "execution_count": 37,
     "metadata": {},
     "output_type": "execute_result"
    }
   ],
   "source": [
    "rdf1 = rdf[rdf[\"simulation\"] == 0]\n",
    "rdf2 = rdf1[rdf1[\"timestep\"] == 1]\n",
    "r1_0 = rdf2['R-1'].iloc[0]\n",
    "r1_0"
   ]
  },
  {
   "cell_type": "code",
   "execution_count": 38,
   "id": "sharp-hands",
   "metadata": {},
   "outputs": [
    {
     "data": {
      "text/plain": [
       "-230469.32074224367"
      ]
     },
     "execution_count": 38,
     "metadata": {},
     "output_type": "execute_result"
    }
   ],
   "source": [
    "profit_sim0_r1 = r1_1 - r1_0\n",
    "profit_sim0_r1"
   ]
  },
  {
   "cell_type": "markdown",
   "id": "alone-whale",
   "metadata": {},
   "source": [
    "#### Total pool value"
   ]
  },
  {
   "cell_type": "code",
   "execution_count": 39,
   "id": "embedded-techno",
   "metadata": {},
   "outputs": [
    {
     "data": {
      "text/plain": [
       "-130569.32074224367"
      ]
     },
     "execution_count": 39,
     "metadata": {},
     "output_type": "execute_result"
    }
   ],
   "source": [
    "profit_sim0_r1 + profit_sim0_r0"
   ]
  },
  {
   "cell_type": "markdown",
   "id": "mysterious-paris",
   "metadata": {},
   "source": [
    "## How to heatmap"
   ]
  },
  {
   "cell_type": "code",
   "execution_count": 40,
   "id": "favorite-warning",
   "metadata": {
    "scrolled": true
   },
   "outputs": [
    {
     "data": {
      "image/png": "[encoded data removed]",
      "text/plain": [
       "<Figure size 432x288 with 2 Axes>"
      ]
     },
     "metadata": {
      "needs_background": "light"
     },
     "output_type": "display_data"
    }
   ],
   "source": [
    "import numpy as np\n",
    "import seaborn as sns\n",
    "import matplotlib.pylab as plt\n",
    "\n",
    "# set variables & parameters\n",
    "\n",
    "fee_level = 0.03\n",
    "# uniform_data = np.random.rand(10, 12)\n",
    "#trade_volume = {'10': 0.5, '20': 0.6}\n",
    "#liquidity = {'1000': 0.5, '2000': 0.6}\n",
    "trade_volume = (50, 100, 200, 500, 1000, 2000, 5000, 10000, 20000)\n",
    "liquidity = (100000, 200000, 300000, 400000, 500000, 600000, 700000, 800000)\n",
    "\n",
    "#create matrix for comparison\n",
    "m=len(trade_volume)\n",
    "n=len(liquidity)\n",
    "matrix = np.ndarray(shape = (m,n), dtype = int)\n",
    "\n",
    "# index matrix\n",
    "#better_index = [\"X1\", \"X2\", \"Y1\", \"Y2\", \"Y3\"]\n",
    "#matrix.index = better_index\n",
    "\n",
    "# fill in matrix with calculation results\n",
    "for i in range(len(liquidity)):\n",
    "    for j in range(len(trade_volume)):\n",
    "        matrix[j][i] = np.random.randint(1, 100 + 1)\n",
    "\n",
    "\n",
    "\n",
    "\n",
    "#ax = sns.heatmap(uniform_data, linewidth=0.5)\n",
    "ax = sns.heatmap(matrix, linewidth=0.5, annot=True, fmt=\"d\")\n",
    "ax.set_title(\"LP Profits\")\n",
    "#ax.set_title(\"LP Profits for fee level:\" % fee_level)\n",
    "ax.set_xlabel('Liquidity')\n",
    "ax.set_ylabel('Trade Volume')\n",
    "plt.show()"
   ]
  },
  {
   "cell_type": "code",
   "execution_count": 41,
   "id": "convertible-plasma",
   "metadata": {},
   "outputs": [
    {
     "data": {
      "text/plain": [
       "array([[ 18,  90,  15, 100,  96,  23,  43,  83],\n",
       "       [ 65,  12,  23,  77,  25,   4,  23,  94],\n",
       "       [ 62,   3,  37,  23,   4,  40,  16,  86],\n",
       "       [ 38,  42,  19,  43,  66,  79,  63,  88],\n",
       "       [  4,  32,  69,  35,  85,  65,  40,  91],\n",
       "       [ 34,  80,  21,   5,   7,  68,  98,  44],\n",
       "       [ 93,   9,  21,  46,  95,  78,  85,  97],\n",
       "       [ 72,  39,  83,  70,  49,  20,  65,  63],\n",
       "       [ 34,  95,  41,  61,  79,  60,  91,  74]])"
      ]
     },
     "execution_count": 41,
     "metadata": {},
     "output_type": "execute_result"
    }
   ],
   "source": [
    "matrix"
   ]
  },
  {
   "cell_type": "code",
   "execution_count": 42,
   "id": "engaged-logging",
   "metadata": {},
   "outputs": [
    {
     "data": {
      "image/png": "[encoded data removed]",
      "text/plain": [
       "<Figure size 432x288 with 2 Axes>"
      ]
     },
     "metadata": {},
     "output_type": "display_data"
    }
   ],
   "source": [
    "corr = np.corrcoef(np.random.randn(10, 200))\n",
    "mask = np.zeros_like(corr)\n",
    "mask[np.triu_indices_from(mask)] = True\n",
    "with sns.axes_style(\"white\"):\n",
    "    ax = sns.heatmap(corr, mask=mask, vmax=.3, square=True,  cmap=\"YlGnBu\")\n",
    "    plt.show()"
   ]
  },
  {
   "cell_type": "code",
   "execution_count": 43,
   "id": "stopped-tokyo",
   "metadata": {},
   "outputs": [
    {
     "data": {
      "image/png": "[encoded data removed]",
      "text/plain": [
       "<Figure size 432x288 with 2 Axes>"
      ]
     },
     "metadata": {
      "needs_background": "light"
     },
     "output_type": "display_data"
    }
   ],
   "source": [
    "import matplotlib.pyplot as plt\n",
    "import numpy as np\n",
    "\n",
    "# generate 2 2d grids for the x & y bounds\n",
    "y, x = np.meshgrid(np.linspace(-3, 3, 100), np.linspace(-3, 3, 100))\n",
    "\n",
    "z = (1 - x / 2. + x ** 5 + y ** 3) * np.exp(-x ** 2 - y ** 2)\n",
    "# x and y are bounds, so z should be the value *inside* those bounds.\n",
    "# Therefore, remove the last value from the z array.\n",
    "z = z[:-1, :-1]\n",
    "z_min, z_max = -np.abs(z).max(), np.abs(z).max()\n",
    "\n",
    "fig, ax = plt.subplots()\n",
    "\n",
    "c = ax.pcolormesh(x, y, z, cmap='RdBu', vmin=z_min, vmax=z_max)\n",
    "ax.set_title('pcolormesh')\n",
    "# set the limits of the plot to the limits of the data\n",
    "ax.axis([x.min(), x.max(), y.min(), y.max()])\n",
    "fig.colorbar(c, ax=ax)\n",
    "\n",
    "plt.show()"
   ]
  },
  {
   "cell_type": "code",
   "execution_count": 44,
   "id": "answering-peter",
   "metadata": {
    "scrolled": true
   },
   "outputs": [
    {
     "data": {
      "image/png": "[encoded data removed]",
      "text/plain": [
       "<Figure size 432x288 with 2 Axes>"
      ]
     },
     "metadata": {
      "needs_background": "light"
     },
     "output_type": "display_data"
    }
   ],
   "source": [
    "import matplotlib.pyplot as plt\n",
    "import numpy as np\n",
    "\n",
    "\n",
    "def heatmap2d(arr: np.ndarray):\n",
    "    plt.imshow(arr, cmap='viridis')\n",
    "    plt.colorbar()\n",
    "    plt.show()\n",
    "\n",
    "\n",
    "test_array = np.arange(100 * 100).reshape(100, 100)\n",
    "heatmap2d(matrix_ror1)"
   ]
  },
  {
   "cell_type": "code",
   "execution_count": 45,
   "id": "prescribed-class",
   "metadata": {},
   "outputs": [
    {
     "data": {
      "text/plain": [
       "(50, 100, 200, 500, 1000, 2000, 5000, 10000, 20000)"
      ]
     },
     "execution_count": 45,
     "metadata": {},
     "output_type": "execute_result"
    }
   ],
   "source": [
    "trade_volume"
   ]
  }
 ],
 "metadata": {
  "kernelspec": {
   "display_name": "Python 3",
   "language": "python",
   "name": "python3"
  },
  "language_info": {
   "codemirror_mode": {
    "name": "ipython",
    "version": 3
   },
   "file_extension": ".py",
   "mimetype": "text/x-python",
   "name": "python",
   "nbconvert_exporter": "python",
   "pygments_lexer": "ipython3",
   "version": "3.8.5"
  }
 },
 "nbformat": 4,
 "nbformat_minor": 5
}
