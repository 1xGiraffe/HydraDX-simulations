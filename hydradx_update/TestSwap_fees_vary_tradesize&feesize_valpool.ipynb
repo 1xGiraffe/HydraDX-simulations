{
 "cells": [
  {
   "cell_type": "code",
   "execution_count": 1,
   "id": "unlimited-friendship",
   "metadata": {},
   "outputs": [
    {
     "data": {
      "text/plain": [
       "{'cfmm_type': '',\n",
       " 'initial_values': {'token_list': ['R1', 'R2'],\n",
       "  'R': [1000000, 1500000],\n",
       "  'P': [2, 0.6666666666666666],\n",
       "  'fee_assets': 0.01,\n",
       "  'fee_HDX': 0.02},\n",
       " 'agent_d': {'Trader': {'HDX': 1000000, 'R1': 1000000, 'R2': 1000000},\n",
       "  'LP1': {'omniR1': 1000000},\n",
       "  'LP2': {'omniR1': 1000000}},\n",
       " 'action_ls': [('trade', 1000)],\n",
       " 'prob_dict': {'trade': {'sell_r2_for_r1': 0, 'sell_r1_for_r2': 1}},\n",
       " 'action_dict': {'sell_r2_for_r1': {'token_buy': 'R1',\n",
       "   'token_sell': 'R2',\n",
       "   'amount_sell': 10,\n",
       "   'action_id': 'Trade',\n",
       "   'agent_id': 'Trader'},\n",
       "  'sell_r1_for_r2': {'token_sell': 'R1',\n",
       "   'token_buy': 'R2',\n",
       "   'amount_sell': 10,\n",
       "   'action_id': 'Trade',\n",
       "   'agent_id': 'Trader'}}}"
      ]
     },
     "execution_count": 1,
     "metadata": {},
     "output_type": "execute_result"
    }
   ],
   "source": [
    "from model.model_initialization import * \n",
    "initialize_model(1000000, 10, 0.01, 0.02)"
   ]
  },
  {
   "cell_type": "code",
   "execution_count": 2,
   "id": "6b8e2d21-c455-4b2b-a1c4-0c2cce0fb286",
   "metadata": {},
   "outputs": [
    {
     "name": "stdout",
     "output_type": "stream",
     "text": [
      "\n",
      "                  ___________    ____\n",
      "  ________ __ ___/ / ____/   |  / __ \\\n",
      " / ___/ __` / __  / /   / /| | / / / /\n",
      "/ /__/ /_/ / /_/ / /___/ ___ |/ /_/ /\n",
      "\\___/\\__,_/\\__,_/\\____/_/  |_/_____/\n",
      "by cadCAD\n",
      "\n",
      "Execution Mode: local_proc\n",
      "Configuration Count: 1\n",
      "Dimensions of the first simulation: (Timesteps, Params, Runs, Vars) = (1000, 3, 1, 3)\n",
      "Execution Method: local_simulations\n",
      "SimIDs   : [0]\n",
      "SubsetIDs: [0]\n",
      "Ns       : [0]\n",
      "ExpIDs   : [0]\n",
      "Execution Mode: single_threaded\n",
      "Total execution time: 0.91s\n",
      "0\n",
      "{'Trader': {'q': 1000000, 's': [0, 0], 'r': [1000000, 1000000], 'p': [0, 0]}, 'LP1': {'q': 0.0, 's': [0, 0], 'r': [1000000.0, 0], 'p': [2.0, 0]}, 'LP2': {'q': 0.0, 's': [0, 0], 'r': [1000000.0, 0], 'p': [2.0, 0]}}\n",
      "\n",
      "                  ___________    ____\n",
      "  ________ __ ___/ / ____/   |  / __ \\\n",
      " / ___/ __` / __  / /   / /| | / / / /\n",
      "/ /__/ /_/ / /_/ / /___/ ___ |/ /_/ /\n",
      "\\___/\\__,_/\\__,_/\\____/_/  |_/_____/\n",
      "by cadCAD\n",
      "\n",
      "Execution Mode: local_proc\n",
      "Configuration Count: 2\n",
      "Dimensions of the first simulation: (Timesteps, Params, Runs, Vars) = (1000, 3, 1, 3)\n",
      "Execution Method: local_simulations\n",
      "SimIDs   : [0, 1]\n",
      "SubsetIDs: [0, 0]\n",
      "Ns       : [0, 0]\n",
      "ExpIDs   : [0, 0]\n",
      "Execution Mode: parallelized\n",
      "Total execution time: 3.11s\n",
      "1\n",
      "{'Trader': {'q': 1000000, 's': [0, 0], 'r': [1000000, 1000000], 'p': [0, 0]}, 'LP1': {'q': 0.0, 's': [0, 0], 'r': [1000000.0, 0], 'p': [2.0, 0]}, 'LP2': {'q': 0.0, 's': [0, 0], 'r': [1000000.0, 0], 'p': [2.0, 0]}}\n",
      "\n",
      "                  ___________    ____\n",
      "  ________ __ ___/ / ____/   |  / __ \\\n",
      " / ___/ __` / __  / /   / /| | / / / /\n",
      "/ /__/ /_/ / /_/ / /___/ ___ |/ /_/ /\n",
      "\\___/\\__,_/\\__,_/\\____/_/  |_/_____/\n",
      "by cadCAD\n",
      "\n",
      "Execution Mode: local_proc\n",
      "Configuration Count: 3\n",
      "Dimensions of the first simulation: (Timesteps, Params, Runs, Vars) = (1000, 3, 1, 3)\n",
      "Execution Method: local_simulations\n",
      "SimIDs   : [0, 1, 2]\n",
      "SubsetIDs: [0, 0, 0]\n",
      "Ns       : [0, 0, 0]\n",
      "ExpIDs   : [0, 0, 0]\n",
      "Execution Mode: parallelized\n",
      "Total execution time: 3.90s\n",
      "2\n",
      "{'Trader': {'q': 1000000, 's': [0, 0], 'r': [1000000, 1000000], 'p': [0, 0]}, 'LP1': {'q': 0.0, 's': [0, 0], 'r': [1000000.0, 0], 'p': [2.0, 0]}, 'LP2': {'q': 0.0, 's': [0, 0], 'r': [1000000.0, 0], 'p': [2.0, 0]}}\n",
      "\n",
      "                  ___________    ____\n",
      "  ________ __ ___/ / ____/   |  / __ \\\n",
      " / ___/ __` / __  / /   / /| | / / / /\n",
      "/ /__/ /_/ / /_/ / /___/ ___ |/ /_/ /\n",
      "\\___/\\__,_/\\__,_/\\____/_/  |_/_____/\n",
      "by cadCAD\n",
      "\n",
      "Execution Mode: local_proc\n",
      "Configuration Count: 4\n",
      "Dimensions of the first simulation: (Timesteps, Params, Runs, Vars) = (1000, 3, 1, 3)\n",
      "Execution Method: local_simulations\n",
      "SimIDs   : [0, 1, 2, 3]\n",
      "SubsetIDs: [0, 0, 0, 0]\n",
      "Ns       : [0, 0, 0, 0]\n",
      "ExpIDs   : [0, 0, 0, 0]\n",
      "Execution Mode: parallelized\n",
      "Total execution time: 5.33s\n",
      "3\n",
      "{'Trader': {'q': 1000000, 's': [0, 0], 'r': [1000000, 1000000], 'p': [0, 0]}, 'LP1': {'q': 0.0, 's': [0, 0], 'r': [1000000.0, 0], 'p': [2.0, 0]}, 'LP2': {'q': 0.0, 's': [0, 0], 'r': [1000000.0, 0], 'p': [2.0, 0]}}\n"
     ]
    }
   ],
   "source": [
    "import pandas as pd\n",
    "\n",
    "from IPython.core.debugger import Pdb\n",
    "ipdb = Pdb()\n",
    "\n",
    "from model import init_utils\n",
    "from model import processing\n",
    "# Experiments\n",
    "from model import run\n",
    "from model.plot_utils import *\n",
    "from model.model_initialization import * \n",
    "\n",
    "import numpy as np\n",
    "import seaborn as sns\n",
    "import matplotlib.pylab as plt\n",
    "\n",
    "# set variables & parameters\n",
    "\n",
    "fee_level_assets = (0.00, 0.01)\n",
    "fee_level_hdx = 0.00\n",
    "# uniform_data = np.random.rand(10, 12)\n",
    "#trade_volume = {'10': 0.5, '20': 0.6}\n",
    "#liquidity = {'1000': 0.5, '2000': 0.6}\n",
    "#trade_volume = (50, 100, 200, 500, 1000, 2000, 5000, 10000, 20000)\n",
    "#liquidity = (100000, 200000, 300000, 400000, 500000, 600000, 700000, 800000)\n",
    "trade_volume = [100, 110]\n",
    "liquidity = (1000000)\n",
    "\n",
    "#create matrix for comparison\n",
    "m=len(trade_volume)\n",
    "n=len(fee_level_assets)\n",
    "matrix = np.ndarray(shape = (m,n), dtype = int)\n",
    "matrix1 = np.ndarray(shape = (m,n), dtype = int)\n",
    "matrix_ror = np.ndarray(shape = (m,n), dtype = int)\n",
    "matrix_ror1 = np.ndarray(shape = (m,n), dtype = int)\n",
    "\n",
    "# index matrix\n",
    "#better_index = [\"X1\", \"X2\", \"Y1\", \"Y2\", \"Y3\"]\n",
    "#matrix.index = better_index\n",
    "sim_nr = 0\n",
    "\n",
    "for i in range(len(fee_level_assets)):\n",
    "    for j in range(len(trade_volume)):\n",
    "        # initialize model with starting conditions\n",
    "        config_params = initialize_model(liquidity, trade_volume[j], fee_level_assets[i], fee_level_hdx)\n",
    "        \n",
    "        #run model\n",
    "        config_dict, state = init_utils.get_configuration(config_params)\n",
    "\n",
    "        pd.options.mode.chained_assignment = None  # default='warn'\n",
    "        pd.options.display.float_format = '{:.2f}'.format\n",
    "        \n",
    "        run.config(config_dict, state)\n",
    "        events = run.run()\n",
    "        \n",
    "        rdf, agent_df = processing.postprocessing(events)\n",
    "        \n",
    "        # calculate profitability metrics; change in pool values\n",
    "         \n",
    "        print(sim_nr)\n",
    "        total_timesteps = 1000\n",
    "        first_timestep = 1\n",
    "        \n",
    "        ## merge agent and pool dataframes\n",
    "        profit_results = pd.merge(agent_df, rdf, how=\"inner\", on=[\"timestep\", \"simulation\", \"run\", \"subset\", \"substep\"])\n",
    "        \n",
    "        ## assign additional columns\n",
    "        profit_results['val_pool'] = profit_results.apply(lambda x: processing.val_pool(x), axis=1)\n",
    "        initial_values = config_params['initial_values']\n",
    "        agent_d = config_params['agent_d']\n",
    "        withdraw_agent_d = processing.get_withdraw_agent_d(initial_values, agent_d)\n",
    "        print(withdraw_agent_d)\n",
    "        profit_results['val_hold'] = profit_results.apply(lambda x: processing.val_hold(x, withdraw_agent_d), axis=1)\n",
    "        profit_results['IL'] = profit_results.apply(lambda x: x['val_pool']/x['val_hold'] - 1, axis=1)\n",
    "        profit_results['pool_val'] = profit_results.apply(lambda x: processing.pool_val(x), axis=1)\n",
    "        \n",
    "        ## calculate profits from 'val_pool' and 'pool_val'        \n",
    "        profit_results1 = profit_results[profit_results['simulation'] == sim_nr]\n",
    "        profit_results2 = profit_results1[profit_results1['timestep'] == total_timesteps]\n",
    "        profit_results3 = profit_results1[profit_results1['timestep'] == first_timestep]\n",
    "        profit_results4 = profit_results2[profit_results2['agent_label'] == 'LP2'] #define selection for final timestep for desired agent (LP1 / LP2 / ??)\n",
    "        profit_results5 = profit_results3[profit_results3['agent_label'] == 'LP2'] #define selection for first timestep for desired agent (LP1 / LP2 / ??)\n",
    "        profit_sim0 = profit_results4['val_pool'].iloc[0] - profit_results5['val_pool'].iloc[0] # changed to 4 - 5 inst. of 2 - 3\n",
    "        profit_sim1 = profit_results4['pool_val'].iloc[0] - profit_results5['pool_val'].iloc[0] # changed to 4 - 5 inst. of 2 - 3\n",
    "        \n",
    "        #backup\n",
    "        #profit_sim0 = profit_results2['val_pool'].iloc[0] - profit_results3['val_pool'].iloc[0] # changed to 4 - 5 inst. of 2 - 3\n",
    "        #profit_sim1 = profit_results2['pool_val'].iloc[0] - profit_results3['pool_val'].iloc[0] # changed to 4 - 5 inst. of 2 - 3\n",
    "        \n",
    "        ## calculate 'rate of return'\n",
    "        ror0 = (profit_sim0 / agent_d['LP1']['omniR1']) * 10000\n",
    "        ror1 = (profit_sim1 / agent_d['LP1']['omniR1']) * 10000\n",
    "                    \n",
    "        # assign metrics to matrix\n",
    "        #matrix[j][i] = np.random.randint(1, 100 + 1)\n",
    "        #matrix[j][i] = trade_volume[i]*liquidity[j]\n",
    "        matrix[j][i] = profit_sim0\n",
    "        matrix1[j][i] = profit_sim1\n",
    "        matrix_ror[j][i] = ror0\n",
    "        matrix_ror1[j][i] = ror1\n",
    "        ## increase simulation count\n",
    "        sim_nr += 1\n",
    "\n"
   ]
  },
  {
   "cell_type": "code",
   "execution_count": 3,
   "id": "renewable-logan",
   "metadata": {
    "scrolled": true
   },
   "outputs": [
    {
     "data": {
      "image/png": "[encoded data removed]",
      "text/plain": [
       "<Figure size 432x288 with 2 Axes>"
      ]
     },
     "metadata": {
      "needs_background": "light"
     },
     "output_type": "display_data"
    }
   ],
   "source": [
    "import numpy as np\n",
    "import seaborn as sns\n",
    "import matplotlib.pylab as plt\n",
    "\n",
    "#ax = sns.heatmap(uniform_data, linewidth=0.5)\n",
    "ax = sns.heatmap(matrix, linewidth=0.5, annot=True, fmt=\"d\")\n",
    "ax.set_title(\"LP Profits\")\n",
    "#ax.set_title(\"LP Profits for fee level:\" % fee_level)\n",
    "ax.set_xlabel('Fee Level')\n",
    "ax.set_ylabel('Trade Size')\n",
    "plt.show()"
   ]
  },
  {
   "cell_type": "code",
   "execution_count": 4,
   "id": "designing-compiler",
   "metadata": {
    "scrolled": true
   },
   "outputs": [
    {
     "data": {
      "image/png": "[encoded data removed]",
      "text/plain": [
       "<Figure size 432x288 with 2 Axes>"
      ]
     },
     "metadata": {
      "needs_background": "light"
     },
     "output_type": "display_data"
    }
   ],
   "source": [
    "#ax = sns.heatmap(uniform_data, linewidth=0.5)\n",
    "ax = sns.heatmap(matrix1, linewidth=0.5, annot=True, fmt=\"d\")\n",
    "ax.set_title(\"LP Profits\")\n",
    "#ax.set_title(\"LP Profits for fee level:\" % fee_level)\n",
    "ax.set_xlabel('Fee Level')\n",
    "ax.set_ylabel('Trade Size')\n",
    "plt.show()"
   ]
  },
  {
   "cell_type": "code",
   "execution_count": 5,
   "id": "personal-cycling",
   "metadata": {},
   "outputs": [
    {
     "data": {
      "text/plain": [
       "array([[-3541, -3541],\n",
       "       [-3851, -3851]])"
      ]
     },
     "execution_count": 5,
     "metadata": {},
     "output_type": "execute_result"
    }
   ],
   "source": [
    "matrix_ror"
   ]
  },
  {
   "cell_type": "code",
   "execution_count": 6,
   "id": "practical-saint",
   "metadata": {},
   "outputs": [
    {
     "data": {
      "image/png": "[encoded data removed]",
      "text/plain": [
       "<Figure size 432x288 with 2 Axes>"
      ]
     },
     "metadata": {
      "needs_background": "light"
     },
     "output_type": "display_data"
    }
   ],
   "source": [
    "#ax = sns.heatmap(uniform_data, linewidth=0.5)\n",
    "ax = sns.heatmap(matrix_ror, linewidth=0.5, annot=True, fmt=\"d\")\n",
    "ax.set_title(\"LP Profits\")\n",
    "#ax.set_title(\"LP Profits for fee level:\" % fee_level)\n",
    "ax.set_xlabel('Fee Level')\n",
    "ax.set_ylabel('Trade Size')\n",
    "plt.show()"
   ]
  },
  {
   "cell_type": "code",
   "execution_count": 7,
   "id": "cultural-magazine",
   "metadata": {},
   "outputs": [
    {
     "data": {
      "image/png": "[encoded data removed]",
      "text/plain": [
       "<Figure size 432x288 with 2 Axes>"
      ]
     },
     "metadata": {
      "needs_background": "light"
     },
     "output_type": "display_data"
    }
   ],
   "source": [
    "#ax = sns.heatmap(uniform_data, linewidth=0.5)\n",
    "ax = sns.heatmap(matrix_ror1, linewidth=0.5, annot=True, fmt=\"d\")\n",
    "ax.set_title(\"LP Profits\")\n",
    "#ax.set_title(\"LP Profits for fee level:\" % fee_level)\n",
    "ax.set_xlabel('Fee Level')\n",
    "ax.set_ylabel('Trade Size')\n",
    "plt.show()"
   ]
  },
  {
   "cell_type": "code",
   "execution_count": 8,
   "id": "advanced-still",
   "metadata": {},
   "outputs": [
    {
     "data": {
      "text/plain": [
       "3636569.939536444"
      ]
     },
     "execution_count": 8,
     "metadata": {},
     "output_type": "execute_result"
    }
   ],
   "source": [
    "profit_results2['val_pool'].iloc[0]"
   ]
  },
  {
   "cell_type": "code",
   "execution_count": 9,
   "id": "formal-habitat",
   "metadata": {
    "scrolled": true
   },
   "outputs": [
    {
     "data": {
      "text/plain": [
       "3666517.9449279155"
      ]
     },
     "execution_count": 9,
     "metadata": {},
     "output_type": "execute_result"
    }
   ],
   "source": [
    "profit_results3['val_pool'].iloc[0]"
   ]
  },
  {
   "cell_type": "code",
   "execution_count": 10,
   "id": "marine-residence",
   "metadata": {},
   "outputs": [
    {
     "data": {
      "text/plain": [
       "2400361.0814564996"
      ]
     },
     "execution_count": 10,
     "metadata": {},
     "output_type": "execute_result"
    }
   ],
   "source": [
    "profit_results2['pool_val'].iloc[0]"
   ]
  },
  {
   "cell_type": "code",
   "execution_count": 11,
   "id": "worldwide-invasion",
   "metadata": {},
   "outputs": [
    {
     "data": {
      "text/plain": [
       "2000444.3520891634"
      ]
     },
     "execution_count": 11,
     "metadata": {},
     "output_type": "execute_result"
    }
   ],
   "source": [
    "profit_results3['pool_val'].iloc[0]"
   ]
  },
  {
   "cell_type": "code",
   "execution_count": 12,
   "id": "seven-engineering",
   "metadata": {},
   "outputs": [
    {
     "data": {
      "text/plain": [
       "1000000"
      ]
     },
     "execution_count": 12,
     "metadata": {},
     "output_type": "execute_result"
    }
   ],
   "source": [
    "agent_d['LP1']['omniR1']"
   ]
  },
  {
   "cell_type": "code",
   "execution_count": 13,
   "id": "virgin-longer",
   "metadata": {},
   "outputs": [
    {
     "name": "stdout",
     "output_type": "stream",
     "text": [
      "[0]\n"
     ]
    },
    {
     "data": {
      "image/png": "[encoded data removed]",
      "text/plain": [
       "<Figure size 1080x360 with 1 Axes>"
      ]
     },
     "metadata": {
      "needs_background": "light"
     },
     "output_type": "display_data"
    },
    {
     "data": {
      "image/png": "[encoded data removed]",
      "text/plain": [
       "<Figure size 1080x360 with 1 Axes>"
      ]
     },
     "metadata": {
      "needs_background": "light"
     },
     "output_type": "display_data"
    }
   ],
   "source": [
    "from model import plot_utils as pu\n",
    "varlist = ['val_pool', 'pool_val']\n",
    "dataframe = profit_results[profit_results['simulation'] == 0]\n",
    "pu.plot_vars(dataframe, varlist)"
   ]
  },
  {
   "cell_type": "markdown",
   "id": "literary-cruise",
   "metadata": {},
   "source": [
    "## Merge Results"
   ]
  },
  {
   "cell_type": "code",
   "execution_count": 14,
   "id": "colored-ownership",
   "metadata": {},
   "outputs": [],
   "source": [
    "        profit_results = pd.merge(agent_df, rdf, how=\"inner\", on=[\"timestep\", \"simulation\", \"run\", \"subset\", \"substep\"])\n",
    "        profit_results['val_pool'] = profit_results.apply(lambda x: processing.val_pool(x), axis=1)\n",
    "        profit_sim0 = profit_results.apply(lambda x: processing.val_pool(x), axis=1)"
   ]
  },
  {
   "cell_type": "code",
   "execution_count": 15,
   "id": "close-repository",
   "metadata": {
    "scrolled": true
   },
   "outputs": [
    {
     "data": {
      "text/html": [
       "<div>\n",
       "<style scoped>\n",
       "    .dataframe tbody tr th:only-of-type {\n",
       "        vertical-align: middle;\n",
       "    }\n",
       "\n",
       "    .dataframe tbody tr th {\n",
       "        vertical-align: top;\n",
       "    }\n",
       "\n",
       "    .dataframe thead th {\n",
       "        text-align: right;\n",
       "    }\n",
       "</style>\n",
       "<table border=\"1\" class=\"dataframe\">\n",
       "  <thead>\n",
       "    <tr style=\"text-align: right;\">\n",
       "      <th></th>\n",
       "      <th>simulation</th>\n",
       "      <th>subset</th>\n",
       "      <th>run</th>\n",
       "      <th>substep</th>\n",
       "      <th>timestep</th>\n",
       "      <th>agent_label</th>\n",
       "      <th>q</th>\n",
       "      <th>s-0</th>\n",
       "      <th>s-1</th>\n",
       "      <th>r-0</th>\n",
       "      <th>...</th>\n",
       "      <th>B-1</th>\n",
       "      <th>D</th>\n",
       "      <th>T</th>\n",
       "      <th>H</th>\n",
       "      <th>token_list-0</th>\n",
       "      <th>token_list-1</th>\n",
       "      <th>fee_assets</th>\n",
       "      <th>fee_HDX</th>\n",
       "      <th>n</th>\n",
       "      <th>val_pool</th>\n",
       "    </tr>\n",
       "  </thead>\n",
       "  <tbody>\n",
       "    <tr>\n",
       "      <th>0</th>\n",
       "      <td>0</td>\n",
       "      <td>0</td>\n",
       "      <td>1</td>\n",
       "      <td>3</td>\n",
       "      <td>1</td>\n",
       "      <td>Trader</td>\n",
       "      <td>1000000.00</td>\n",
       "      <td>0</td>\n",
       "      <td>0</td>\n",
       "      <td>999900</td>\n",
       "      <td>...</td>\n",
       "      <td>1500000</td>\n",
       "      <td>0.00</td>\n",
       "      <td>None</td>\n",
       "      <td>None</td>\n",
       "      <td>R1</td>\n",
       "      <td>R2</td>\n",
       "      <td>0.00</td>\n",
       "      <td>0.00</td>\n",
       "      <td>2</td>\n",
       "      <td>3666533.45</td>\n",
       "    </tr>\n",
       "    <tr>\n",
       "      <th>1</th>\n",
       "      <td>0</td>\n",
       "      <td>0</td>\n",
       "      <td>1</td>\n",
       "      <td>3</td>\n",
       "      <td>1</td>\n",
       "      <td>LP1</td>\n",
       "      <td>0.00</td>\n",
       "      <td>1000000</td>\n",
       "      <td>0</td>\n",
       "      <td>0</td>\n",
       "      <td>...</td>\n",
       "      <td>1500000</td>\n",
       "      <td>0.00</td>\n",
       "      <td>None</td>\n",
       "      <td>None</td>\n",
       "      <td>R1</td>\n",
       "      <td>R2</td>\n",
       "      <td>0.00</td>\n",
       "      <td>0.00</td>\n",
       "      <td>2</td>\n",
       "      <td>1999600.05</td>\n",
       "    </tr>\n",
       "    <tr>\n",
       "      <th>2</th>\n",
       "      <td>0</td>\n",
       "      <td>0</td>\n",
       "      <td>1</td>\n",
       "      <td>3</td>\n",
       "      <td>1</td>\n",
       "      <td>LP2</td>\n",
       "      <td>0.00</td>\n",
       "      <td>1000000</td>\n",
       "      <td>0</td>\n",
       "      <td>0</td>\n",
       "      <td>...</td>\n",
       "      <td>1500000</td>\n",
       "      <td>0.00</td>\n",
       "      <td>None</td>\n",
       "      <td>None</td>\n",
       "      <td>R1</td>\n",
       "      <td>R2</td>\n",
       "      <td>0.00</td>\n",
       "      <td>0.00</td>\n",
       "      <td>2</td>\n",
       "      <td>1999600.05</td>\n",
       "    </tr>\n",
       "    <tr>\n",
       "      <th>3</th>\n",
       "      <td>0</td>\n",
       "      <td>0</td>\n",
       "      <td>1</td>\n",
       "      <td>3</td>\n",
       "      <td>2</td>\n",
       "      <td>Trader</td>\n",
       "      <td>1000000.00</td>\n",
       "      <td>0</td>\n",
       "      <td>0</td>\n",
       "      <td>999800</td>\n",
       "      <td>...</td>\n",
       "      <td>1500000</td>\n",
       "      <td>0.00</td>\n",
       "      <td>None</td>\n",
       "      <td>None</td>\n",
       "      <td>R1</td>\n",
       "      <td>R2</td>\n",
       "      <td>0.00</td>\n",
       "      <td>0.00</td>\n",
       "      <td>2</td>\n",
       "      <td>3666400.48</td>\n",
       "    </tr>\n",
       "    <tr>\n",
       "      <th>4</th>\n",
       "      <td>0</td>\n",
       "      <td>0</td>\n",
       "      <td>1</td>\n",
       "      <td>3</td>\n",
       "      <td>2</td>\n",
       "      <td>LP1</td>\n",
       "      <td>0.00</td>\n",
       "      <td>1000000</td>\n",
       "      <td>0</td>\n",
       "      <td>0</td>\n",
       "      <td>...</td>\n",
       "      <td>1500000</td>\n",
       "      <td>0.00</td>\n",
       "      <td>None</td>\n",
       "      <td>None</td>\n",
       "      <td>R1</td>\n",
       "      <td>R2</td>\n",
       "      <td>0.00</td>\n",
       "      <td>0.00</td>\n",
       "      <td>2</td>\n",
       "      <td>1999200.20</td>\n",
       "    </tr>\n",
       "    <tr>\n",
       "      <th>...</th>\n",
       "      <td>...</td>\n",
       "      <td>...</td>\n",
       "      <td>...</td>\n",
       "      <td>...</td>\n",
       "      <td>...</td>\n",
       "      <td>...</td>\n",
       "      <td>...</td>\n",
       "      <td>...</td>\n",
       "      <td>...</td>\n",
       "      <td>...</td>\n",
       "      <td>...</td>\n",
       "      <td>...</td>\n",
       "      <td>...</td>\n",
       "      <td>...</td>\n",
       "      <td>...</td>\n",
       "      <td>...</td>\n",
       "      <td>...</td>\n",
       "      <td>...</td>\n",
       "      <td>...</td>\n",
       "      <td>...</td>\n",
       "      <td>...</td>\n",
       "    </tr>\n",
       "    <tr>\n",
       "      <th>11995</th>\n",
       "      <td>3</td>\n",
       "      <td>0</td>\n",
       "      <td>1</td>\n",
       "      <td>3</td>\n",
       "      <td>999</td>\n",
       "      <td>LP1</td>\n",
       "      <td>0.00</td>\n",
       "      <td>1000000</td>\n",
       "      <td>0</td>\n",
       "      <td>0</td>\n",
       "      <td>...</td>\n",
       "      <td>1500000</td>\n",
       "      <td>0.00</td>\n",
       "      <td>None</td>\n",
       "      <td>None</td>\n",
       "      <td>R1</td>\n",
       "      <td>R2</td>\n",
       "      <td>0.01</td>\n",
       "      <td>0.00</td>\n",
       "      <td>2</td>\n",
       "      <td>1614782.07</td>\n",
       "    </tr>\n",
       "    <tr>\n",
       "      <th>11996</th>\n",
       "      <td>3</td>\n",
       "      <td>0</td>\n",
       "      <td>1</td>\n",
       "      <td>3</td>\n",
       "      <td>999</td>\n",
       "      <td>LP2</td>\n",
       "      <td>0.00</td>\n",
       "      <td>1000000</td>\n",
       "      <td>0</td>\n",
       "      <td>0</td>\n",
       "      <td>...</td>\n",
       "      <td>1500000</td>\n",
       "      <td>0.00</td>\n",
       "      <td>None</td>\n",
       "      <td>None</td>\n",
       "      <td>R1</td>\n",
       "      <td>R2</td>\n",
       "      <td>0.01</td>\n",
       "      <td>0.00</td>\n",
       "      <td>2</td>\n",
       "      <td>1614782.07</td>\n",
       "    </tr>\n",
       "    <tr>\n",
       "      <th>11997</th>\n",
       "      <td>3</td>\n",
       "      <td>0</td>\n",
       "      <td>1</td>\n",
       "      <td>3</td>\n",
       "      <td>1000</td>\n",
       "      <td>Trader</td>\n",
       "      <td>1000000.00</td>\n",
       "      <td>0</td>\n",
       "      <td>0</td>\n",
       "      <td>890000</td>\n",
       "      <td>...</td>\n",
       "      <td>1500000</td>\n",
       "      <td>0.00</td>\n",
       "      <td>None</td>\n",
       "      <td>None</td>\n",
       "      <td>R1</td>\n",
       "      <td>R2</td>\n",
       "      <td>0.01</td>\n",
       "      <td>0.00</td>\n",
       "      <td>2</td>\n",
       "      <td>3636569.94</td>\n",
       "    </tr>\n",
       "    <tr>\n",
       "      <th>11998</th>\n",
       "      <td>3</td>\n",
       "      <td>0</td>\n",
       "      <td>1</td>\n",
       "      <td>3</td>\n",
       "      <td>1000</td>\n",
       "      <td>LP1</td>\n",
       "      <td>0.00</td>\n",
       "      <td>1000000</td>\n",
       "      <td>0</td>\n",
       "      <td>0</td>\n",
       "      <td>...</td>\n",
       "      <td>1500000</td>\n",
       "      <td>0.00</td>\n",
       "      <td>None</td>\n",
       "      <td>None</td>\n",
       "      <td>R1</td>\n",
       "      <td>R2</td>\n",
       "      <td>0.01</td>\n",
       "      <td>0.00</td>\n",
       "      <td>2</td>\n",
       "      <td>1614445.41</td>\n",
       "    </tr>\n",
       "    <tr>\n",
       "      <th>11999</th>\n",
       "      <td>3</td>\n",
       "      <td>0</td>\n",
       "      <td>1</td>\n",
       "      <td>3</td>\n",
       "      <td>1000</td>\n",
       "      <td>LP2</td>\n",
       "      <td>0.00</td>\n",
       "      <td>1000000</td>\n",
       "      <td>0</td>\n",
       "      <td>0</td>\n",
       "      <td>...</td>\n",
       "      <td>1500000</td>\n",
       "      <td>0.00</td>\n",
       "      <td>None</td>\n",
       "      <td>None</td>\n",
       "      <td>R1</td>\n",
       "      <td>R2</td>\n",
       "      <td>0.01</td>\n",
       "      <td>0.00</td>\n",
       "      <td>2</td>\n",
       "      <td>1614445.41</td>\n",
       "    </tr>\n",
       "  </tbody>\n",
       "</table>\n",
       "<p>12000 rows × 32 columns</p>\n",
       "</div>"
      ],
      "text/plain": [
       "       simulation  subset  run  substep  timestep agent_label          q  \\\n",
       "0               0       0    1        3         1      Trader 1000000.00   \n",
       "1               0       0    1        3         1         LP1       0.00   \n",
       "2               0       0    1        3         1         LP2       0.00   \n",
       "3               0       0    1        3         2      Trader 1000000.00   \n",
       "4               0       0    1        3         2         LP1       0.00   \n",
       "...           ...     ...  ...      ...       ...         ...        ...   \n",
       "11995           3       0    1        3       999         LP1       0.00   \n",
       "11996           3       0    1        3       999         LP2       0.00   \n",
       "11997           3       0    1        3      1000      Trader 1000000.00   \n",
       "11998           3       0    1        3      1000         LP1       0.00   \n",
       "11999           3       0    1        3      1000         LP2       0.00   \n",
       "\n",
       "           s-0  s-1     r-0  ...      B-1    D     T     H  token_list-0  \\\n",
       "0            0    0  999900  ...  1500000 0.00  None  None            R1   \n",
       "1      1000000    0       0  ...  1500000 0.00  None  None            R1   \n",
       "2      1000000    0       0  ...  1500000 0.00  None  None            R1   \n",
       "3            0    0  999800  ...  1500000 0.00  None  None            R1   \n",
       "4      1000000    0       0  ...  1500000 0.00  None  None            R1   \n",
       "...        ...  ...     ...  ...      ...  ...   ...   ...           ...   \n",
       "11995  1000000    0       0  ...  1500000 0.00  None  None            R1   \n",
       "11996  1000000    0       0  ...  1500000 0.00  None  None            R1   \n",
       "11997        0    0  890000  ...  1500000 0.00  None  None            R1   \n",
       "11998  1000000    0       0  ...  1500000 0.00  None  None            R1   \n",
       "11999  1000000    0       0  ...  1500000 0.00  None  None            R1   \n",
       "\n",
       "       token_list-1  fee_assets  fee_HDX  n   val_pool  \n",
       "0                R2        0.00     0.00  2 3666533.45  \n",
       "1                R2        0.00     0.00  2 1999600.05  \n",
       "2                R2        0.00     0.00  2 1999600.05  \n",
       "3                R2        0.00     0.00  2 3666400.48  \n",
       "4                R2        0.00     0.00  2 1999200.20  \n",
       "...             ...         ...      ... ..        ...  \n",
       "11995            R2        0.01     0.00  2 1614782.07  \n",
       "11996            R2        0.01     0.00  2 1614782.07  \n",
       "11997            R2        0.01     0.00  2 3636569.94  \n",
       "11998            R2        0.01     0.00  2 1614445.41  \n",
       "11999            R2        0.01     0.00  2 1614445.41  \n",
       "\n",
       "[12000 rows x 32 columns]"
      ]
     },
     "execution_count": 15,
     "metadata": {},
     "output_type": "execute_result"
    }
   ],
   "source": [
    "profit_results"
   ]
  },
  {
   "cell_type": "code",
   "execution_count": 16,
   "id": "forced-tomorrow",
   "metadata": {},
   "outputs": [],
   "source": [
    "#profit_results1 = profit_results[profit_results['simulation'] == sim_nr]\n",
    "#profit_results2 = profit_results1[profit_results1['timestep'] == total_timesteps]\n",
    "#profit_results2['val_pool'].iloc[0]"
   ]
  },
  {
   "cell_type": "code",
   "execution_count": 17,
   "id": "latter-concrete",
   "metadata": {},
   "outputs": [],
   "source": [
    "#print(profit_results.columns)"
   ]
  },
  {
   "cell_type": "code",
   "execution_count": 18,
   "id": "otherwise-paragraph",
   "metadata": {},
   "outputs": [],
   "source": [
    "#profit_sim0"
   ]
  },
  {
   "cell_type": "code",
   "execution_count": 19,
   "id": "fleet-savings",
   "metadata": {},
   "outputs": [
    {
     "data": {
      "text/html": [
       "<div>\n",
       "<style scoped>\n",
       "    .dataframe tbody tr th:only-of-type {\n",
       "        vertical-align: middle;\n",
       "    }\n",
       "\n",
       "    .dataframe tbody tr th {\n",
       "        vertical-align: top;\n",
       "    }\n",
       "\n",
       "    .dataframe thead th {\n",
       "        text-align: right;\n",
       "    }\n",
       "</style>\n",
       "<table border=\"1\" class=\"dataframe\">\n",
       "  <thead>\n",
       "    <tr style=\"text-align: right;\">\n",
       "      <th></th>\n",
       "      <th>simulation</th>\n",
       "      <th>subset</th>\n",
       "      <th>run</th>\n",
       "      <th>substep</th>\n",
       "      <th>timestep</th>\n",
       "      <th>agent_label</th>\n",
       "      <th>q</th>\n",
       "      <th>s-0</th>\n",
       "      <th>s-1</th>\n",
       "      <th>r-0</th>\n",
       "      <th>...</th>\n",
       "      <th>H</th>\n",
       "      <th>token_list-0</th>\n",
       "      <th>token_list-1</th>\n",
       "      <th>fee_assets</th>\n",
       "      <th>fee_HDX</th>\n",
       "      <th>n</th>\n",
       "      <th>val_pool</th>\n",
       "      <th>val_hold</th>\n",
       "      <th>IL</th>\n",
       "      <th>pool_val</th>\n",
       "    </tr>\n",
       "  </thead>\n",
       "  <tbody>\n",
       "    <tr>\n",
       "      <th>9000</th>\n",
       "      <td>3</td>\n",
       "      <td>0</td>\n",
       "      <td>1</td>\n",
       "      <td>3</td>\n",
       "      <td>1</td>\n",
       "      <td>Trader</td>\n",
       "      <td>1000000.00</td>\n",
       "      <td>0</td>\n",
       "      <td>0</td>\n",
       "      <td>999890</td>\n",
       "      <td>...</td>\n",
       "      <td>None</td>\n",
       "      <td>R1</td>\n",
       "      <td>R2</td>\n",
       "      <td>0.01</td>\n",
       "      <td>0.00</td>\n",
       "      <td>2</td>\n",
       "      <td>3666517.94</td>\n",
       "      <td>3666520.07</td>\n",
       "      <td>-0.00</td>\n",
       "      <td>2000444.35</td>\n",
       "    </tr>\n",
       "    <tr>\n",
       "      <th>9001</th>\n",
       "      <td>3</td>\n",
       "      <td>0</td>\n",
       "      <td>1</td>\n",
       "      <td>3</td>\n",
       "      <td>1</td>\n",
       "      <td>LP1</td>\n",
       "      <td>0.00</td>\n",
       "      <td>1000000</td>\n",
       "      <td>0</td>\n",
       "      <td>0</td>\n",
       "      <td>...</td>\n",
       "      <td>None</td>\n",
       "      <td>R1</td>\n",
       "      <td>R2</td>\n",
       "      <td>0.01</td>\n",
       "      <td>0.00</td>\n",
       "      <td>2</td>\n",
       "      <td>1999560.06</td>\n",
       "      <td>1999560.07</td>\n",
       "      <td>-0.00</td>\n",
       "      <td>2000444.35</td>\n",
       "    </tr>\n",
       "    <tr>\n",
       "      <th>9002</th>\n",
       "      <td>3</td>\n",
       "      <td>0</td>\n",
       "      <td>1</td>\n",
       "      <td>3</td>\n",
       "      <td>1</td>\n",
       "      <td>LP2</td>\n",
       "      <td>0.00</td>\n",
       "      <td>1000000</td>\n",
       "      <td>0</td>\n",
       "      <td>0</td>\n",
       "      <td>...</td>\n",
       "      <td>None</td>\n",
       "      <td>R1</td>\n",
       "      <td>R2</td>\n",
       "      <td>0.01</td>\n",
       "      <td>0.00</td>\n",
       "      <td>2</td>\n",
       "      <td>1999560.06</td>\n",
       "      <td>1999560.07</td>\n",
       "      <td>-0.00</td>\n",
       "      <td>2000444.35</td>\n",
       "    </tr>\n",
       "    <tr>\n",
       "      <th>9003</th>\n",
       "      <td>3</td>\n",
       "      <td>0</td>\n",
       "      <td>1</td>\n",
       "      <td>3</td>\n",
       "      <td>2</td>\n",
       "      <td>Trader</td>\n",
       "      <td>1000000.00</td>\n",
       "      <td>0</td>\n",
       "      <td>0</td>\n",
       "      <td>999780</td>\n",
       "      <td>...</td>\n",
       "      <td>None</td>\n",
       "      <td>R1</td>\n",
       "      <td>R2</td>\n",
       "      <td>0.01</td>\n",
       "      <td>0.00</td>\n",
       "      <td>2</td>\n",
       "      <td>3666369.51</td>\n",
       "      <td>3666373.62</td>\n",
       "      <td>-0.00</td>\n",
       "      <td>2000888.61</td>\n",
       "    </tr>\n",
       "    <tr>\n",
       "      <th>9004</th>\n",
       "      <td>3</td>\n",
       "      <td>0</td>\n",
       "      <td>1</td>\n",
       "      <td>3</td>\n",
       "      <td>2</td>\n",
       "      <td>LP1</td>\n",
       "      <td>0.00</td>\n",
       "      <td>1000000</td>\n",
       "      <td>0</td>\n",
       "      <td>0</td>\n",
       "      <td>...</td>\n",
       "      <td>None</td>\n",
       "      <td>R1</td>\n",
       "      <td>R2</td>\n",
       "      <td>0.01</td>\n",
       "      <td>0.00</td>\n",
       "      <td>2</td>\n",
       "      <td>1999120.24</td>\n",
       "      <td>1999120.29</td>\n",
       "      <td>-0.00</td>\n",
       "      <td>2000888.61</td>\n",
       "    </tr>\n",
       "    <tr>\n",
       "      <th>...</th>\n",
       "      <td>...</td>\n",
       "      <td>...</td>\n",
       "      <td>...</td>\n",
       "      <td>...</td>\n",
       "      <td>...</td>\n",
       "      <td>...</td>\n",
       "      <td>...</td>\n",
       "      <td>...</td>\n",
       "      <td>...</td>\n",
       "      <td>...</td>\n",
       "      <td>...</td>\n",
       "      <td>...</td>\n",
       "      <td>...</td>\n",
       "      <td>...</td>\n",
       "      <td>...</td>\n",
       "      <td>...</td>\n",
       "      <td>...</td>\n",
       "      <td>...</td>\n",
       "      <td>...</td>\n",
       "      <td>...</td>\n",
       "      <td>...</td>\n",
       "    </tr>\n",
       "    <tr>\n",
       "      <th>11995</th>\n",
       "      <td>3</td>\n",
       "      <td>0</td>\n",
       "      <td>1</td>\n",
       "      <td>3</td>\n",
       "      <td>999</td>\n",
       "      <td>LP1</td>\n",
       "      <td>0.00</td>\n",
       "      <td>1000000</td>\n",
       "      <td>0</td>\n",
       "      <td>0</td>\n",
       "      <td>...</td>\n",
       "      <td>None</td>\n",
       "      <td>R1</td>\n",
       "      <td>R2</td>\n",
       "      <td>0.01</td>\n",
       "      <td>0.00</td>\n",
       "      <td>2</td>\n",
       "      <td>1614782.07</td>\n",
       "      <td>1623566.64</td>\n",
       "      <td>-0.01</td>\n",
       "      <td>2400000.36</td>\n",
       "    </tr>\n",
       "    <tr>\n",
       "      <th>11996</th>\n",
       "      <td>3</td>\n",
       "      <td>0</td>\n",
       "      <td>1</td>\n",
       "      <td>3</td>\n",
       "      <td>999</td>\n",
       "      <td>LP2</td>\n",
       "      <td>0.00</td>\n",
       "      <td>1000000</td>\n",
       "      <td>0</td>\n",
       "      <td>0</td>\n",
       "      <td>...</td>\n",
       "      <td>None</td>\n",
       "      <td>R1</td>\n",
       "      <td>R2</td>\n",
       "      <td>0.01</td>\n",
       "      <td>0.00</td>\n",
       "      <td>2</td>\n",
       "      <td>1614782.07</td>\n",
       "      <td>1623566.64</td>\n",
       "      <td>-0.01</td>\n",
       "      <td>2400000.36</td>\n",
       "    </tr>\n",
       "    <tr>\n",
       "      <th>11997</th>\n",
       "      <td>3</td>\n",
       "      <td>0</td>\n",
       "      <td>1</td>\n",
       "      <td>3</td>\n",
       "      <td>1000</td>\n",
       "      <td>Trader</td>\n",
       "      <td>1000000.00</td>\n",
       "      <td>0</td>\n",
       "      <td>0</td>\n",
       "      <td>890000</td>\n",
       "      <td>...</td>\n",
       "      <td>None</td>\n",
       "      <td>R1</td>\n",
       "      <td>R2</td>\n",
       "      <td>0.01</td>\n",
       "      <td>0.00</td>\n",
       "      <td>2</td>\n",
       "      <td>3636569.94</td>\n",
       "      <td>3580069.89</td>\n",
       "      <td>0.02</td>\n",
       "      <td>2400361.08</td>\n",
       "    </tr>\n",
       "    <tr>\n",
       "      <th>11998</th>\n",
       "      <td>3</td>\n",
       "      <td>0</td>\n",
       "      <td>1</td>\n",
       "      <td>3</td>\n",
       "      <td>1000</td>\n",
       "      <td>LP1</td>\n",
       "      <td>0.00</td>\n",
       "      <td>1000000</td>\n",
       "      <td>0</td>\n",
       "      <td>0</td>\n",
       "      <td>...</td>\n",
       "      <td>None</td>\n",
       "      <td>R1</td>\n",
       "      <td>R2</td>\n",
       "      <td>0.01</td>\n",
       "      <td>0.00</td>\n",
       "      <td>2</td>\n",
       "      <td>1614445.41</td>\n",
       "      <td>1623244.87</td>\n",
       "      <td>-0.01</td>\n",
       "      <td>2400361.08</td>\n",
       "    </tr>\n",
       "    <tr>\n",
       "      <th>11999</th>\n",
       "      <td>3</td>\n",
       "      <td>0</td>\n",
       "      <td>1</td>\n",
       "      <td>3</td>\n",
       "      <td>1000</td>\n",
       "      <td>LP2</td>\n",
       "      <td>0.00</td>\n",
       "      <td>1000000</td>\n",
       "      <td>0</td>\n",
       "      <td>0</td>\n",
       "      <td>...</td>\n",
       "      <td>None</td>\n",
       "      <td>R1</td>\n",
       "      <td>R2</td>\n",
       "      <td>0.01</td>\n",
       "      <td>0.00</td>\n",
       "      <td>2</td>\n",
       "      <td>1614445.41</td>\n",
       "      <td>1623244.87</td>\n",
       "      <td>-0.01</td>\n",
       "      <td>2400361.08</td>\n",
       "    </tr>\n",
       "  </tbody>\n",
       "</table>\n",
       "<p>3000 rows × 35 columns</p>\n",
       "</div>"
      ],
      "text/plain": [
       "       simulation  subset  run  substep  timestep agent_label          q  \\\n",
       "9000            3       0    1        3         1      Trader 1000000.00   \n",
       "9001            3       0    1        3         1         LP1       0.00   \n",
       "9002            3       0    1        3         1         LP2       0.00   \n",
       "9003            3       0    1        3         2      Trader 1000000.00   \n",
       "9004            3       0    1        3         2         LP1       0.00   \n",
       "...           ...     ...  ...      ...       ...         ...        ...   \n",
       "11995           3       0    1        3       999         LP1       0.00   \n",
       "11996           3       0    1        3       999         LP2       0.00   \n",
       "11997           3       0    1        3      1000      Trader 1000000.00   \n",
       "11998           3       0    1        3      1000         LP1       0.00   \n",
       "11999           3       0    1        3      1000         LP2       0.00   \n",
       "\n",
       "           s-0  s-1     r-0  ...     H  token_list-0  token_list-1  \\\n",
       "9000         0    0  999890  ...  None            R1            R2   \n",
       "9001   1000000    0       0  ...  None            R1            R2   \n",
       "9002   1000000    0       0  ...  None            R1            R2   \n",
       "9003         0    0  999780  ...  None            R1            R2   \n",
       "9004   1000000    0       0  ...  None            R1            R2   \n",
       "...        ...  ...     ...  ...   ...           ...           ...   \n",
       "11995  1000000    0       0  ...  None            R1            R2   \n",
       "11996  1000000    0       0  ...  None            R1            R2   \n",
       "11997        0    0  890000  ...  None            R1            R2   \n",
       "11998  1000000    0       0  ...  None            R1            R2   \n",
       "11999  1000000    0       0  ...  None            R1            R2   \n",
       "\n",
       "       fee_assets  fee_HDX  n   val_pool   val_hold    IL   pool_val  \n",
       "9000         0.01     0.00  2 3666517.94 3666520.07 -0.00 2000444.35  \n",
       "9001         0.01     0.00  2 1999560.06 1999560.07 -0.00 2000444.35  \n",
       "9002         0.01     0.00  2 1999560.06 1999560.07 -0.00 2000444.35  \n",
       "9003         0.01     0.00  2 3666369.51 3666373.62 -0.00 2000888.61  \n",
       "9004         0.01     0.00  2 1999120.24 1999120.29 -0.00 2000888.61  \n",
       "...           ...      ... ..        ...        ...   ...        ...  \n",
       "11995        0.01     0.00  2 1614782.07 1623566.64 -0.01 2400000.36  \n",
       "11996        0.01     0.00  2 1614782.07 1623566.64 -0.01 2400000.36  \n",
       "11997        0.01     0.00  2 3636569.94 3580069.89  0.02 2400361.08  \n",
       "11998        0.01     0.00  2 1614445.41 1623244.87 -0.01 2400361.08  \n",
       "11999        0.01     0.00  2 1614445.41 1623244.87 -0.01 2400361.08  \n",
       "\n",
       "[3000 rows x 35 columns]"
      ]
     },
     "execution_count": 19,
     "metadata": {},
     "output_type": "execute_result"
    }
   ],
   "source": [
    "profit_results1"
   ]
  },
  {
   "cell_type": "code",
   "execution_count": 20,
   "id": "impressive-complaint",
   "metadata": {
    "scrolled": true
   },
   "outputs": [
    {
     "data": {
      "text/html": [
       "<div>\n",
       "<style scoped>\n",
       "    .dataframe tbody tr th:only-of-type {\n",
       "        vertical-align: middle;\n",
       "    }\n",
       "\n",
       "    .dataframe tbody tr th {\n",
       "        vertical-align: top;\n",
       "    }\n",
       "\n",
       "    .dataframe thead th {\n",
       "        text-align: right;\n",
       "    }\n",
       "</style>\n",
       "<table border=\"1\" class=\"dataframe\">\n",
       "  <thead>\n",
       "    <tr style=\"text-align: right;\">\n",
       "      <th></th>\n",
       "      <th>simulation</th>\n",
       "      <th>subset</th>\n",
       "      <th>run</th>\n",
       "      <th>substep</th>\n",
       "      <th>timestep</th>\n",
       "      <th>agent_label</th>\n",
       "      <th>q</th>\n",
       "      <th>s-0</th>\n",
       "      <th>s-1</th>\n",
       "      <th>r-0</th>\n",
       "      <th>...</th>\n",
       "      <th>H</th>\n",
       "      <th>token_list-0</th>\n",
       "      <th>token_list-1</th>\n",
       "      <th>fee_assets</th>\n",
       "      <th>fee_HDX</th>\n",
       "      <th>n</th>\n",
       "      <th>val_pool</th>\n",
       "      <th>val_hold</th>\n",
       "      <th>IL</th>\n",
       "      <th>pool_val</th>\n",
       "    </tr>\n",
       "  </thead>\n",
       "  <tbody>\n",
       "    <tr>\n",
       "      <th>11997</th>\n",
       "      <td>3</td>\n",
       "      <td>0</td>\n",
       "      <td>1</td>\n",
       "      <td>3</td>\n",
       "      <td>1000</td>\n",
       "      <td>Trader</td>\n",
       "      <td>1000000.00</td>\n",
       "      <td>0</td>\n",
       "      <td>0</td>\n",
       "      <td>890000</td>\n",
       "      <td>...</td>\n",
       "      <td>None</td>\n",
       "      <td>R1</td>\n",
       "      <td>R2</td>\n",
       "      <td>0.01</td>\n",
       "      <td>0.00</td>\n",
       "      <td>2</td>\n",
       "      <td>3636569.94</td>\n",
       "      <td>3580069.89</td>\n",
       "      <td>0.02</td>\n",
       "      <td>2400361.08</td>\n",
       "    </tr>\n",
       "    <tr>\n",
       "      <th>11998</th>\n",
       "      <td>3</td>\n",
       "      <td>0</td>\n",
       "      <td>1</td>\n",
       "      <td>3</td>\n",
       "      <td>1000</td>\n",
       "      <td>LP1</td>\n",
       "      <td>0.00</td>\n",
       "      <td>1000000</td>\n",
       "      <td>0</td>\n",
       "      <td>0</td>\n",
       "      <td>...</td>\n",
       "      <td>None</td>\n",
       "      <td>R1</td>\n",
       "      <td>R2</td>\n",
       "      <td>0.01</td>\n",
       "      <td>0.00</td>\n",
       "      <td>2</td>\n",
       "      <td>1614445.41</td>\n",
       "      <td>1623244.87</td>\n",
       "      <td>-0.01</td>\n",
       "      <td>2400361.08</td>\n",
       "    </tr>\n",
       "    <tr>\n",
       "      <th>11999</th>\n",
       "      <td>3</td>\n",
       "      <td>0</td>\n",
       "      <td>1</td>\n",
       "      <td>3</td>\n",
       "      <td>1000</td>\n",
       "      <td>LP2</td>\n",
       "      <td>0.00</td>\n",
       "      <td>1000000</td>\n",
       "      <td>0</td>\n",
       "      <td>0</td>\n",
       "      <td>...</td>\n",
       "      <td>None</td>\n",
       "      <td>R1</td>\n",
       "      <td>R2</td>\n",
       "      <td>0.01</td>\n",
       "      <td>0.00</td>\n",
       "      <td>2</td>\n",
       "      <td>1614445.41</td>\n",
       "      <td>1623244.87</td>\n",
       "      <td>-0.01</td>\n",
       "      <td>2400361.08</td>\n",
       "    </tr>\n",
       "  </tbody>\n",
       "</table>\n",
       "<p>3 rows × 35 columns</p>\n",
       "</div>"
      ],
      "text/plain": [
       "       simulation  subset  run  substep  timestep agent_label          q  \\\n",
       "11997           3       0    1        3      1000      Trader 1000000.00   \n",
       "11998           3       0    1        3      1000         LP1       0.00   \n",
       "11999           3       0    1        3      1000         LP2       0.00   \n",
       "\n",
       "           s-0  s-1     r-0  ...     H  token_list-0  token_list-1  \\\n",
       "11997        0    0  890000  ...  None            R1            R2   \n",
       "11998  1000000    0       0  ...  None            R1            R2   \n",
       "11999  1000000    0       0  ...  None            R1            R2   \n",
       "\n",
       "       fee_assets  fee_HDX  n   val_pool   val_hold    IL   pool_val  \n",
       "11997        0.01     0.00  2 3636569.94 3580069.89  0.02 2400361.08  \n",
       "11998        0.01     0.00  2 1614445.41 1623244.87 -0.01 2400361.08  \n",
       "11999        0.01     0.00  2 1614445.41 1623244.87 -0.01 2400361.08  \n",
       "\n",
       "[3 rows x 35 columns]"
      ]
     },
     "execution_count": 20,
     "metadata": {},
     "output_type": "execute_result"
    }
   ],
   "source": [
    "profit_results2"
   ]
  },
  {
   "cell_type": "code",
   "execution_count": 21,
   "id": "suitable-hayes",
   "metadata": {
    "scrolled": false
   },
   "outputs": [
    {
     "data": {
      "text/html": [
       "<div>\n",
       "<style scoped>\n",
       "    .dataframe tbody tr th:only-of-type {\n",
       "        vertical-align: middle;\n",
       "    }\n",
       "\n",
       "    .dataframe tbody tr th {\n",
       "        vertical-align: top;\n",
       "    }\n",
       "\n",
       "    .dataframe thead th {\n",
       "        text-align: right;\n",
       "    }\n",
       "</style>\n",
       "<table border=\"1\" class=\"dataframe\">\n",
       "  <thead>\n",
       "    <tr style=\"text-align: right;\">\n",
       "      <th></th>\n",
       "      <th>simulation</th>\n",
       "      <th>subset</th>\n",
       "      <th>run</th>\n",
       "      <th>substep</th>\n",
       "      <th>timestep</th>\n",
       "      <th>agent_label</th>\n",
       "      <th>q</th>\n",
       "      <th>s-0</th>\n",
       "      <th>s-1</th>\n",
       "      <th>r-0</th>\n",
       "      <th>...</th>\n",
       "      <th>H</th>\n",
       "      <th>token_list-0</th>\n",
       "      <th>token_list-1</th>\n",
       "      <th>fee_assets</th>\n",
       "      <th>fee_HDX</th>\n",
       "      <th>n</th>\n",
       "      <th>val_pool</th>\n",
       "      <th>val_hold</th>\n",
       "      <th>IL</th>\n",
       "      <th>pool_val</th>\n",
       "    </tr>\n",
       "  </thead>\n",
       "  <tbody>\n",
       "    <tr>\n",
       "      <th>9000</th>\n",
       "      <td>3</td>\n",
       "      <td>0</td>\n",
       "      <td>1</td>\n",
       "      <td>3</td>\n",
       "      <td>1</td>\n",
       "      <td>Trader</td>\n",
       "      <td>1000000.00</td>\n",
       "      <td>0</td>\n",
       "      <td>0</td>\n",
       "      <td>999890</td>\n",
       "      <td>...</td>\n",
       "      <td>None</td>\n",
       "      <td>R1</td>\n",
       "      <td>R2</td>\n",
       "      <td>0.01</td>\n",
       "      <td>0.00</td>\n",
       "      <td>2</td>\n",
       "      <td>3666517.94</td>\n",
       "      <td>3666520.07</td>\n",
       "      <td>-0.00</td>\n",
       "      <td>2000444.35</td>\n",
       "    </tr>\n",
       "    <tr>\n",
       "      <th>9001</th>\n",
       "      <td>3</td>\n",
       "      <td>0</td>\n",
       "      <td>1</td>\n",
       "      <td>3</td>\n",
       "      <td>1</td>\n",
       "      <td>LP1</td>\n",
       "      <td>0.00</td>\n",
       "      <td>1000000</td>\n",
       "      <td>0</td>\n",
       "      <td>0</td>\n",
       "      <td>...</td>\n",
       "      <td>None</td>\n",
       "      <td>R1</td>\n",
       "      <td>R2</td>\n",
       "      <td>0.01</td>\n",
       "      <td>0.00</td>\n",
       "      <td>2</td>\n",
       "      <td>1999560.06</td>\n",
       "      <td>1999560.07</td>\n",
       "      <td>-0.00</td>\n",
       "      <td>2000444.35</td>\n",
       "    </tr>\n",
       "    <tr>\n",
       "      <th>9002</th>\n",
       "      <td>3</td>\n",
       "      <td>0</td>\n",
       "      <td>1</td>\n",
       "      <td>3</td>\n",
       "      <td>1</td>\n",
       "      <td>LP2</td>\n",
       "      <td>0.00</td>\n",
       "      <td>1000000</td>\n",
       "      <td>0</td>\n",
       "      <td>0</td>\n",
       "      <td>...</td>\n",
       "      <td>None</td>\n",
       "      <td>R1</td>\n",
       "      <td>R2</td>\n",
       "      <td>0.01</td>\n",
       "      <td>0.00</td>\n",
       "      <td>2</td>\n",
       "      <td>1999560.06</td>\n",
       "      <td>1999560.07</td>\n",
       "      <td>-0.00</td>\n",
       "      <td>2000444.35</td>\n",
       "    </tr>\n",
       "  </tbody>\n",
       "</table>\n",
       "<p>3 rows × 35 columns</p>\n",
       "</div>"
      ],
      "text/plain": [
       "      simulation  subset  run  substep  timestep agent_label          q  \\\n",
       "9000           3       0    1        3         1      Trader 1000000.00   \n",
       "9001           3       0    1        3         1         LP1       0.00   \n",
       "9002           3       0    1        3         1         LP2       0.00   \n",
       "\n",
       "          s-0  s-1     r-0  ...     H  token_list-0  token_list-1  fee_assets  \\\n",
       "9000        0    0  999890  ...  None            R1            R2        0.01   \n",
       "9001  1000000    0       0  ...  None            R1            R2        0.01   \n",
       "9002  1000000    0       0  ...  None            R1            R2        0.01   \n",
       "\n",
       "      fee_HDX  n   val_pool   val_hold    IL   pool_val  \n",
       "9000     0.00  2 3666517.94 3666520.07 -0.00 2000444.35  \n",
       "9001     0.00  2 1999560.06 1999560.07 -0.00 2000444.35  \n",
       "9002     0.00  2 1999560.06 1999560.07 -0.00 2000444.35  \n",
       "\n",
       "[3 rows x 35 columns]"
      ]
     },
     "execution_count": 21,
     "metadata": {},
     "output_type": "execute_result"
    }
   ],
   "source": [
    "profit_results3"
   ]
  },
  {
   "cell_type": "code",
   "execution_count": 22,
   "id": "dimensional-racing",
   "metadata": {},
   "outputs": [
    {
     "data": {
      "text/plain": [
       "3666517.9449279155"
      ]
     },
     "execution_count": 22,
     "metadata": {},
     "output_type": "execute_result"
    }
   ],
   "source": [
    "profit_results3['val_pool'].iloc[0]"
   ]
  },
  {
   "cell_type": "code",
   "execution_count": 23,
   "id": "communist-preview",
   "metadata": {},
   "outputs": [
    {
     "data": {
      "text/html": [
       "<div>\n",
       "<style scoped>\n",
       "    .dataframe tbody tr th:only-of-type {\n",
       "        vertical-align: middle;\n",
       "    }\n",
       "\n",
       "    .dataframe tbody tr th {\n",
       "        vertical-align: top;\n",
       "    }\n",
       "\n",
       "    .dataframe thead th {\n",
       "        text-align: right;\n",
       "    }\n",
       "</style>\n",
       "<table border=\"1\" class=\"dataframe\">\n",
       "  <thead>\n",
       "    <tr style=\"text-align: right;\">\n",
       "      <th></th>\n",
       "      <th>simulation</th>\n",
       "      <th>subset</th>\n",
       "      <th>run</th>\n",
       "      <th>substep</th>\n",
       "      <th>timestep</th>\n",
       "      <th>agent_label</th>\n",
       "      <th>q</th>\n",
       "      <th>s-0</th>\n",
       "      <th>s-1</th>\n",
       "      <th>r-0</th>\n",
       "      <th>...</th>\n",
       "      <th>H</th>\n",
       "      <th>token_list-0</th>\n",
       "      <th>token_list-1</th>\n",
       "      <th>fee_assets</th>\n",
       "      <th>fee_HDX</th>\n",
       "      <th>n</th>\n",
       "      <th>val_pool</th>\n",
       "      <th>val_hold</th>\n",
       "      <th>IL</th>\n",
       "      <th>pool_val</th>\n",
       "    </tr>\n",
       "  </thead>\n",
       "  <tbody>\n",
       "    <tr>\n",
       "      <th>9001</th>\n",
       "      <td>3</td>\n",
       "      <td>0</td>\n",
       "      <td>1</td>\n",
       "      <td>3</td>\n",
       "      <td>1</td>\n",
       "      <td>LP1</td>\n",
       "      <td>0.00</td>\n",
       "      <td>1000000</td>\n",
       "      <td>0</td>\n",
       "      <td>0</td>\n",
       "      <td>...</td>\n",
       "      <td>None</td>\n",
       "      <td>R1</td>\n",
       "      <td>R2</td>\n",
       "      <td>0.01</td>\n",
       "      <td>0.00</td>\n",
       "      <td>2</td>\n",
       "      <td>1999560.06</td>\n",
       "      <td>1999560.07</td>\n",
       "      <td>-0.00</td>\n",
       "      <td>2000444.35</td>\n",
       "    </tr>\n",
       "  </tbody>\n",
       "</table>\n",
       "<p>1 rows × 35 columns</p>\n",
       "</div>"
      ],
      "text/plain": [
       "      simulation  subset  run  substep  timestep agent_label    q      s-0  \\\n",
       "9001           3       0    1        3         1         LP1 0.00  1000000   \n",
       "\n",
       "      s-1  r-0  ...     H  token_list-0  token_list-1  fee_assets  fee_HDX  n  \\\n",
       "9001    0    0  ...  None            R1            R2        0.01     0.00  2   \n",
       "\n",
       "       val_pool   val_hold    IL   pool_val  \n",
       "9001 1999560.06 1999560.07 -0.00 2000444.35  \n",
       "\n",
       "[1 rows x 35 columns]"
      ]
     },
     "execution_count": 23,
     "metadata": {},
     "output_type": "execute_result"
    }
   ],
   "source": [
    "profit_results4 = profit_results3[profit_results3['agent_label'] == 'LP1']\n",
    "profit_results4"
   ]
  },
  {
   "cell_type": "code",
   "execution_count": 24,
   "id": "outer-cause",
   "metadata": {
    "scrolled": true
   },
   "outputs": [
    {
     "data": {
      "text/plain": [
       "1999560.0604933458"
      ]
     },
     "execution_count": 24,
     "metadata": {},
     "output_type": "execute_result"
    }
   ],
   "source": [
    "profit_results4['val_pool'].iloc[0]"
   ]
  },
  {
   "cell_type": "code",
   "execution_count": 25,
   "id": "cross-wallace",
   "metadata": {},
   "outputs": [
    {
     "data": {
      "text/plain": [
       "1999560.0604933458"
      ]
     },
     "execution_count": 25,
     "metadata": {},
     "output_type": "execute_result"
    }
   ],
   "source": [
    "profit_results5['val_pool'].iloc[0]"
   ]
  },
  {
   "cell_type": "markdown",
   "id": "prerequisite-chocolate",
   "metadata": {},
   "source": [
    "\n",
    "var_list = ['R', 'Q', 'A', 'D']\n",
    "plot_vars(rdf, var_list)\n",
    "\n",
    "## Fee Analysis"
   ]
  },
  {
   "cell_type": "code",
   "execution_count": 26,
   "id": "b7829a3e-d082-4092-9414-efd05f4b87c6",
   "metadata": {
    "scrolled": true
   },
   "outputs": [
    {
     "data": {
      "text/html": [
       "<div>\n",
       "<style scoped>\n",
       "    .dataframe tbody tr th:only-of-type {\n",
       "        vertical-align: middle;\n",
       "    }\n",
       "\n",
       "    .dataframe tbody tr th {\n",
       "        vertical-align: top;\n",
       "    }\n",
       "\n",
       "    .dataframe thead th {\n",
       "        text-align: right;\n",
       "    }\n",
       "</style>\n",
       "<table border=\"1\" class=\"dataframe\">\n",
       "  <thead>\n",
       "    <tr style=\"text-align: right;\">\n",
       "      <th></th>\n",
       "      <th>R-0</th>\n",
       "      <th>R-1</th>\n",
       "      <th>Q-0</th>\n",
       "      <th>Q-1</th>\n",
       "      <th>S-0</th>\n",
       "      <th>S-1</th>\n",
       "      <th>A-0</th>\n",
       "      <th>A-1</th>\n",
       "      <th>B-0</th>\n",
       "      <th>B-1</th>\n",
       "      <th>...</th>\n",
       "      <th>token_list-0</th>\n",
       "      <th>token_list-1</th>\n",
       "      <th>fee_assets</th>\n",
       "      <th>fee_HDX</th>\n",
       "      <th>n</th>\n",
       "      <th>simulation</th>\n",
       "      <th>subset</th>\n",
       "      <th>run</th>\n",
       "      <th>substep</th>\n",
       "      <th>timestep</th>\n",
       "    </tr>\n",
       "  </thead>\n",
       "  <tbody>\n",
       "    <tr>\n",
       "      <th>3</th>\n",
       "      <td>1000100</td>\n",
       "      <td>1499700.09</td>\n",
       "      <td>1999800.02</td>\n",
       "      <td>1000199.98</td>\n",
       "      <td>1000000</td>\n",
       "      <td>1500000</td>\n",
       "      <td>0</td>\n",
       "      <td>0</td>\n",
       "      <td>-1000000</td>\n",
       "      <td>1500000</td>\n",
       "      <td>...</td>\n",
       "      <td>R1</td>\n",
       "      <td>R2</td>\n",
       "      <td>0.00</td>\n",
       "      <td>0.00</td>\n",
       "      <td>2</td>\n",
       "      <td>0</td>\n",
       "      <td>0</td>\n",
       "      <td>1</td>\n",
       "      <td>3</td>\n",
       "      <td>1</td>\n",
       "    </tr>\n",
       "    <tr>\n",
       "      <th>6</th>\n",
       "      <td>1000200</td>\n",
       "      <td>1499400.36</td>\n",
       "      <td>1999600.08</td>\n",
       "      <td>1000399.92</td>\n",
       "      <td>1000000</td>\n",
       "      <td>1500000</td>\n",
       "      <td>0</td>\n",
       "      <td>0</td>\n",
       "      <td>-1000000</td>\n",
       "      <td>1500000</td>\n",
       "      <td>...</td>\n",
       "      <td>R1</td>\n",
       "      <td>R2</td>\n",
       "      <td>0.00</td>\n",
       "      <td>0.00</td>\n",
       "      <td>2</td>\n",
       "      <td>0</td>\n",
       "      <td>0</td>\n",
       "      <td>1</td>\n",
       "      <td>3</td>\n",
       "      <td>2</td>\n",
       "    </tr>\n",
       "    <tr>\n",
       "      <th>9</th>\n",
       "      <td>1000300</td>\n",
       "      <td>1499100.81</td>\n",
       "      <td>1999400.18</td>\n",
       "      <td>1000599.82</td>\n",
       "      <td>1000000</td>\n",
       "      <td>1500000</td>\n",
       "      <td>0</td>\n",
       "      <td>0</td>\n",
       "      <td>-1000000</td>\n",
       "      <td>1500000</td>\n",
       "      <td>...</td>\n",
       "      <td>R1</td>\n",
       "      <td>R2</td>\n",
       "      <td>0.00</td>\n",
       "      <td>0.00</td>\n",
       "      <td>2</td>\n",
       "      <td>0</td>\n",
       "      <td>0</td>\n",
       "      <td>1</td>\n",
       "      <td>3</td>\n",
       "      <td>3</td>\n",
       "    </tr>\n",
       "    <tr>\n",
       "      <th>12</th>\n",
       "      <td>1000400</td>\n",
       "      <td>1498801.44</td>\n",
       "      <td>1999200.32</td>\n",
       "      <td>1000799.68</td>\n",
       "      <td>1000000</td>\n",
       "      <td>1500000</td>\n",
       "      <td>0</td>\n",
       "      <td>0</td>\n",
       "      <td>-1000000</td>\n",
       "      <td>1500000</td>\n",
       "      <td>...</td>\n",
       "      <td>R1</td>\n",
       "      <td>R2</td>\n",
       "      <td>0.00</td>\n",
       "      <td>0.00</td>\n",
       "      <td>2</td>\n",
       "      <td>0</td>\n",
       "      <td>0</td>\n",
       "      <td>1</td>\n",
       "      <td>3</td>\n",
       "      <td>4</td>\n",
       "    </tr>\n",
       "    <tr>\n",
       "      <th>15</th>\n",
       "      <td>1000500</td>\n",
       "      <td>1498502.25</td>\n",
       "      <td>1999000.50</td>\n",
       "      <td>1000999.50</td>\n",
       "      <td>1000000</td>\n",
       "      <td>1500000</td>\n",
       "      <td>0</td>\n",
       "      <td>0</td>\n",
       "      <td>-1000000</td>\n",
       "      <td>1500000</td>\n",
       "      <td>...</td>\n",
       "      <td>R1</td>\n",
       "      <td>R2</td>\n",
       "      <td>0.00</td>\n",
       "      <td>0.00</td>\n",
       "      <td>2</td>\n",
       "      <td>0</td>\n",
       "      <td>0</td>\n",
       "      <td>1</td>\n",
       "      <td>3</td>\n",
       "      <td>5</td>\n",
       "    </tr>\n",
       "    <tr>\n",
       "      <th>...</th>\n",
       "      <td>...</td>\n",
       "      <td>...</td>\n",
       "      <td>...</td>\n",
       "      <td>...</td>\n",
       "      <td>...</td>\n",
       "      <td>...</td>\n",
       "      <td>...</td>\n",
       "      <td>...</td>\n",
       "      <td>...</td>\n",
       "      <td>...</td>\n",
       "      <td>...</td>\n",
       "      <td>...</td>\n",
       "      <td>...</td>\n",
       "      <td>...</td>\n",
       "      <td>...</td>\n",
       "      <td>...</td>\n",
       "      <td>...</td>\n",
       "      <td>...</td>\n",
       "      <td>...</td>\n",
       "      <td>...</td>\n",
       "      <td>...</td>\n",
       "    </tr>\n",
       "    <tr>\n",
       "      <th>11991</th>\n",
       "      <td>1109560</td>\n",
       "      <td>1255076.22</td>\n",
       "      <td>1802516.31</td>\n",
       "      <td>1199458.88</td>\n",
       "      <td>1000000</td>\n",
       "      <td>1500000</td>\n",
       "      <td>0</td>\n",
       "      <td>0</td>\n",
       "      <td>-1000000</td>\n",
       "      <td>1500000</td>\n",
       "      <td>...</td>\n",
       "      <td>R1</td>\n",
       "      <td>R2</td>\n",
       "      <td>0.01</td>\n",
       "      <td>0.00</td>\n",
       "      <td>2</td>\n",
       "      <td>3</td>\n",
       "      <td>0</td>\n",
       "      <td>1</td>\n",
       "      <td>3</td>\n",
       "      <td>996</td>\n",
       "    </tr>\n",
       "    <tr>\n",
       "      <th>11994</th>\n",
       "      <td>1109670</td>\n",
       "      <td>1254891.15</td>\n",
       "      <td>1802337.63</td>\n",
       "      <td>1199639.35</td>\n",
       "      <td>1000000</td>\n",
       "      <td>1500000</td>\n",
       "      <td>0</td>\n",
       "      <td>0</td>\n",
       "      <td>-1000000</td>\n",
       "      <td>1500000</td>\n",
       "      <td>...</td>\n",
       "      <td>R1</td>\n",
       "      <td>R2</td>\n",
       "      <td>0.01</td>\n",
       "      <td>0.00</td>\n",
       "      <td>2</td>\n",
       "      <td>3</td>\n",
       "      <td>0</td>\n",
       "      <td>1</td>\n",
       "      <td>3</td>\n",
       "      <td>997</td>\n",
       "    </tr>\n",
       "    <tr>\n",
       "      <th>11997</th>\n",
       "      <td>1109780</td>\n",
       "      <td>1254706.17</td>\n",
       "      <td>1802158.99</td>\n",
       "      <td>1199819.78</td>\n",
       "      <td>1000000</td>\n",
       "      <td>1500000</td>\n",
       "      <td>0</td>\n",
       "      <td>0</td>\n",
       "      <td>-1000000</td>\n",
       "      <td>1500000</td>\n",
       "      <td>...</td>\n",
       "      <td>R1</td>\n",
       "      <td>R2</td>\n",
       "      <td>0.01</td>\n",
       "      <td>0.00</td>\n",
       "      <td>2</td>\n",
       "      <td>3</td>\n",
       "      <td>0</td>\n",
       "      <td>1</td>\n",
       "      <td>3</td>\n",
       "      <td>998</td>\n",
       "    </tr>\n",
       "    <tr>\n",
       "      <th>12000</th>\n",
       "      <td>1109890</td>\n",
       "      <td>1254521.29</td>\n",
       "      <td>1801980.38</td>\n",
       "      <td>1200000.18</td>\n",
       "      <td>1000000</td>\n",
       "      <td>1500000</td>\n",
       "      <td>0</td>\n",
       "      <td>0</td>\n",
       "      <td>-1000000</td>\n",
       "      <td>1500000</td>\n",
       "      <td>...</td>\n",
       "      <td>R1</td>\n",
       "      <td>R2</td>\n",
       "      <td>0.01</td>\n",
       "      <td>0.00</td>\n",
       "      <td>2</td>\n",
       "      <td>3</td>\n",
       "      <td>0</td>\n",
       "      <td>1</td>\n",
       "      <td>3</td>\n",
       "      <td>999</td>\n",
       "    </tr>\n",
       "    <tr>\n",
       "      <th>12003</th>\n",
       "      <td>1110000</td>\n",
       "      <td>1254336.49</td>\n",
       "      <td>1801801.80</td>\n",
       "      <td>1200180.54</td>\n",
       "      <td>1000000</td>\n",
       "      <td>1500000</td>\n",
       "      <td>0</td>\n",
       "      <td>0</td>\n",
       "      <td>-1000000</td>\n",
       "      <td>1500000</td>\n",
       "      <td>...</td>\n",
       "      <td>R1</td>\n",
       "      <td>R2</td>\n",
       "      <td>0.01</td>\n",
       "      <td>0.00</td>\n",
       "      <td>2</td>\n",
       "      <td>3</td>\n",
       "      <td>0</td>\n",
       "      <td>1</td>\n",
       "      <td>3</td>\n",
       "      <td>1000</td>\n",
       "    </tr>\n",
       "  </tbody>\n",
       "</table>\n",
       "<p>4000 rows × 23 columns</p>\n",
       "</div>"
      ],
      "text/plain": [
       "           R-0        R-1        Q-0        Q-1      S-0      S-1  A-0  A-1  \\\n",
       "3      1000100 1499700.09 1999800.02 1000199.98  1000000  1500000    0    0   \n",
       "6      1000200 1499400.36 1999600.08 1000399.92  1000000  1500000    0    0   \n",
       "9      1000300 1499100.81 1999400.18 1000599.82  1000000  1500000    0    0   \n",
       "12     1000400 1498801.44 1999200.32 1000799.68  1000000  1500000    0    0   \n",
       "15     1000500 1498502.25 1999000.50 1000999.50  1000000  1500000    0    0   \n",
       "...        ...        ...        ...        ...      ...      ...  ...  ...   \n",
       "11991  1109560 1255076.22 1802516.31 1199458.88  1000000  1500000    0    0   \n",
       "11994  1109670 1254891.15 1802337.63 1199639.35  1000000  1500000    0    0   \n",
       "11997  1109780 1254706.17 1802158.99 1199819.78  1000000  1500000    0    0   \n",
       "12000  1109890 1254521.29 1801980.38 1200000.18  1000000  1500000    0    0   \n",
       "12003  1110000 1254336.49 1801801.80 1200180.54  1000000  1500000    0    0   \n",
       "\n",
       "           B-0      B-1  ...  token_list-0 token_list-1 fee_assets fee_HDX  n  \\\n",
       "3     -1000000  1500000  ...            R1           R2       0.00    0.00  2   \n",
       "6     -1000000  1500000  ...            R1           R2       0.00    0.00  2   \n",
       "9     -1000000  1500000  ...            R1           R2       0.00    0.00  2   \n",
       "12    -1000000  1500000  ...            R1           R2       0.00    0.00  2   \n",
       "15    -1000000  1500000  ...            R1           R2       0.00    0.00  2   \n",
       "...        ...      ...  ...           ...          ...        ...     ... ..   \n",
       "11991 -1000000  1500000  ...            R1           R2       0.01    0.00  2   \n",
       "11994 -1000000  1500000  ...            R1           R2       0.01    0.00  2   \n",
       "11997 -1000000  1500000  ...            R1           R2       0.01    0.00  2   \n",
       "12000 -1000000  1500000  ...            R1           R2       0.01    0.00  2   \n",
       "12003 -1000000  1500000  ...            R1           R2       0.01    0.00  2   \n",
       "\n",
       "       simulation  subset  run  substep  timestep  \n",
       "3               0       0    1        3         1  \n",
       "6               0       0    1        3         2  \n",
       "9               0       0    1        3         3  \n",
       "12              0       0    1        3         4  \n",
       "15              0       0    1        3         5  \n",
       "...           ...     ...  ...      ...       ...  \n",
       "11991           3       0    1        3       996  \n",
       "11994           3       0    1        3       997  \n",
       "11997           3       0    1        3       998  \n",
       "12000           3       0    1        3       999  \n",
       "12003           3       0    1        3      1000  \n",
       "\n",
       "[4000 rows x 23 columns]"
      ]
     },
     "execution_count": 26,
     "metadata": {},
     "output_type": "execute_result"
    }
   ],
   "source": [
    "rdf"
   ]
  },
  {
   "cell_type": "code",
   "execution_count": 27,
   "id": "resistant-point",
   "metadata": {},
   "outputs": [
    {
     "name": "stdout",
     "output_type": "stream",
     "text": [
      "Index(['R-0', 'R-1', 'Q-0', 'Q-1', 'S-0', 'S-1', 'A-0', 'A-1', 'B-0', 'B-1',\n",
      "       'D', 'T', 'H', 'token_list-0', 'token_list-1', 'fee_assets', 'fee_HDX',\n",
      "       'n', 'simulation', 'subset', 'run', 'substep', 'timestep'],\n",
      "      dtype='object')\n"
     ]
    }
   ],
   "source": [
    "print(rdf.columns)"
   ]
  },
  {
   "cell_type": "code",
   "execution_count": 28,
   "id": "reverse-visiting",
   "metadata": {
    "scrolled": false
   },
   "outputs": [
    {
     "name": "stdout",
     "output_type": "stream",
     "text": [
      "<bound method NDFrame.keys of            R-0        R-1        Q-0        Q-1      S-0      S-1  A-0  A-1  \\\n",
      "3      1000100 1499700.09 1999800.02 1000199.98  1000000  1500000    0    0   \n",
      "6      1000200 1499400.36 1999600.08 1000399.92  1000000  1500000    0    0   \n",
      "9      1000300 1499100.81 1999400.18 1000599.82  1000000  1500000    0    0   \n",
      "12     1000400 1498801.44 1999200.32 1000799.68  1000000  1500000    0    0   \n",
      "15     1000500 1498502.25 1999000.50 1000999.50  1000000  1500000    0    0   \n",
      "...        ...        ...        ...        ...      ...      ...  ...  ...   \n",
      "11991  1109560 1255076.22 1802516.31 1199458.88  1000000  1500000    0    0   \n",
      "11994  1109670 1254891.15 1802337.63 1199639.35  1000000  1500000    0    0   \n",
      "11997  1109780 1254706.17 1802158.99 1199819.78  1000000  1500000    0    0   \n",
      "12000  1109890 1254521.29 1801980.38 1200000.18  1000000  1500000    0    0   \n",
      "12003  1110000 1254336.49 1801801.80 1200180.54  1000000  1500000    0    0   \n",
      "\n",
      "           B-0      B-1  ...  token_list-0 token_list-1 fee_assets fee_HDX  n  \\\n",
      "3     -1000000  1500000  ...            R1           R2       0.00    0.00  2   \n",
      "6     -1000000  1500000  ...            R1           R2       0.00    0.00  2   \n",
      "9     -1000000  1500000  ...            R1           R2       0.00    0.00  2   \n",
      "12    -1000000  1500000  ...            R1           R2       0.00    0.00  2   \n",
      "15    -1000000  1500000  ...            R1           R2       0.00    0.00  2   \n",
      "...        ...      ...  ...           ...          ...        ...     ... ..   \n",
      "11991 -1000000  1500000  ...            R1           R2       0.01    0.00  2   \n",
      "11994 -1000000  1500000  ...            R1           R2       0.01    0.00  2   \n",
      "11997 -1000000  1500000  ...            R1           R2       0.01    0.00  2   \n",
      "12000 -1000000  1500000  ...            R1           R2       0.01    0.00  2   \n",
      "12003 -1000000  1500000  ...            R1           R2       0.01    0.00  2   \n",
      "\n",
      "       simulation  subset  run  substep  timestep  \n",
      "3               0       0    1        3         1  \n",
      "6               0       0    1        3         2  \n",
      "9               0       0    1        3         3  \n",
      "12              0       0    1        3         4  \n",
      "15              0       0    1        3         5  \n",
      "...           ...     ...  ...      ...       ...  \n",
      "11991           3       0    1        3       996  \n",
      "11994           3       0    1        3       997  \n",
      "11997           3       0    1        3       998  \n",
      "12000           3       0    1        3       999  \n",
      "12003           3       0    1        3      1000  \n",
      "\n",
      "[4000 rows x 23 columns]>\n"
     ]
    }
   ],
   "source": [
    "print(rdf.keys)"
   ]
  },
  {
   "cell_type": "code",
   "execution_count": 29,
   "id": "tender-paraguay",
   "metadata": {},
   "outputs": [
    {
     "data": {
      "text/html": [
       "<div>\n",
       "<style scoped>\n",
       "    .dataframe tbody tr th:only-of-type {\n",
       "        vertical-align: middle;\n",
       "    }\n",
       "\n",
       "    .dataframe tbody tr th {\n",
       "        vertical-align: top;\n",
       "    }\n",
       "\n",
       "    .dataframe thead th {\n",
       "        text-align: right;\n",
       "    }\n",
       "</style>\n",
       "<table border=\"1\" class=\"dataframe\">\n",
       "  <thead>\n",
       "    <tr style=\"text-align: right;\">\n",
       "      <th></th>\n",
       "      <th>simulation</th>\n",
       "      <th>subset</th>\n",
       "      <th>run</th>\n",
       "      <th>substep</th>\n",
       "      <th>timestep</th>\n",
       "      <th>agent_label</th>\n",
       "      <th>q</th>\n",
       "      <th>s-0</th>\n",
       "      <th>s-1</th>\n",
       "      <th>r-0</th>\n",
       "      <th>r-1</th>\n",
       "      <th>p-0</th>\n",
       "      <th>p-1</th>\n",
       "    </tr>\n",
       "  </thead>\n",
       "  <tbody>\n",
       "    <tr>\n",
       "      <th>9</th>\n",
       "      <td>0</td>\n",
       "      <td>0</td>\n",
       "      <td>1</td>\n",
       "      <td>3</td>\n",
       "      <td>1</td>\n",
       "      <td>Trader</td>\n",
       "      <td>1000000.00</td>\n",
       "      <td>0</td>\n",
       "      <td>0</td>\n",
       "      <td>999900</td>\n",
       "      <td>1000299.91</td>\n",
       "      <td>0.00</td>\n",
       "      <td>0</td>\n",
       "    </tr>\n",
       "    <tr>\n",
       "      <th>10</th>\n",
       "      <td>0</td>\n",
       "      <td>0</td>\n",
       "      <td>1</td>\n",
       "      <td>3</td>\n",
       "      <td>1</td>\n",
       "      <td>LP1</td>\n",
       "      <td>0.00</td>\n",
       "      <td>1000000</td>\n",
       "      <td>0</td>\n",
       "      <td>0</td>\n",
       "      <td>0.00</td>\n",
       "      <td>2.00</td>\n",
       "      <td>0</td>\n",
       "    </tr>\n",
       "    <tr>\n",
       "      <th>11</th>\n",
       "      <td>0</td>\n",
       "      <td>0</td>\n",
       "      <td>1</td>\n",
       "      <td>3</td>\n",
       "      <td>1</td>\n",
       "      <td>LP2</td>\n",
       "      <td>0.00</td>\n",
       "      <td>1000000</td>\n",
       "      <td>0</td>\n",
       "      <td>0</td>\n",
       "      <td>0.00</td>\n",
       "      <td>2.00</td>\n",
       "      <td>0</td>\n",
       "    </tr>\n",
       "    <tr>\n",
       "      <th>18</th>\n",
       "      <td>0</td>\n",
       "      <td>0</td>\n",
       "      <td>1</td>\n",
       "      <td>3</td>\n",
       "      <td>2</td>\n",
       "      <td>Trader</td>\n",
       "      <td>1000000.00</td>\n",
       "      <td>0</td>\n",
       "      <td>0</td>\n",
       "      <td>999800</td>\n",
       "      <td>1000599.64</td>\n",
       "      <td>0.00</td>\n",
       "      <td>0</td>\n",
       "    </tr>\n",
       "    <tr>\n",
       "      <th>19</th>\n",
       "      <td>0</td>\n",
       "      <td>0</td>\n",
       "      <td>1</td>\n",
       "      <td>3</td>\n",
       "      <td>2</td>\n",
       "      <td>LP1</td>\n",
       "      <td>0.00</td>\n",
       "      <td>1000000</td>\n",
       "      <td>0</td>\n",
       "      <td>0</td>\n",
       "      <td>0.00</td>\n",
       "      <td>2.00</td>\n",
       "      <td>0</td>\n",
       "    </tr>\n",
       "    <tr>\n",
       "      <th>...</th>\n",
       "      <td>...</td>\n",
       "      <td>...</td>\n",
       "      <td>...</td>\n",
       "      <td>...</td>\n",
       "      <td>...</td>\n",
       "      <td>...</td>\n",
       "      <td>...</td>\n",
       "      <td>...</td>\n",
       "      <td>...</td>\n",
       "      <td>...</td>\n",
       "      <td>...</td>\n",
       "      <td>...</td>\n",
       "      <td>...</td>\n",
       "    </tr>\n",
       "    <tr>\n",
       "      <th>36001</th>\n",
       "      <td>3</td>\n",
       "      <td>0</td>\n",
       "      <td>1</td>\n",
       "      <td>3</td>\n",
       "      <td>999</td>\n",
       "      <td>LP1</td>\n",
       "      <td>0.00</td>\n",
       "      <td>1000000</td>\n",
       "      <td>0</td>\n",
       "      <td>0</td>\n",
       "      <td>0.00</td>\n",
       "      <td>2.00</td>\n",
       "      <td>0</td>\n",
       "    </tr>\n",
       "    <tr>\n",
       "      <th>36002</th>\n",
       "      <td>3</td>\n",
       "      <td>0</td>\n",
       "      <td>1</td>\n",
       "      <td>3</td>\n",
       "      <td>999</td>\n",
       "      <td>LP2</td>\n",
       "      <td>0.00</td>\n",
       "      <td>1000000</td>\n",
       "      <td>0</td>\n",
       "      <td>0</td>\n",
       "      <td>0.00</td>\n",
       "      <td>2.00</td>\n",
       "      <td>0</td>\n",
       "    </tr>\n",
       "    <tr>\n",
       "      <th>36009</th>\n",
       "      <td>3</td>\n",
       "      <td>0</td>\n",
       "      <td>1</td>\n",
       "      <td>3</td>\n",
       "      <td>1000</td>\n",
       "      <td>Trader</td>\n",
       "      <td>1000000.00</td>\n",
       "      <td>0</td>\n",
       "      <td>0</td>\n",
       "      <td>890000</td>\n",
       "      <td>1245663.51</td>\n",
       "      <td>0.00</td>\n",
       "      <td>0</td>\n",
       "    </tr>\n",
       "    <tr>\n",
       "      <th>36010</th>\n",
       "      <td>3</td>\n",
       "      <td>0</td>\n",
       "      <td>1</td>\n",
       "      <td>3</td>\n",
       "      <td>1000</td>\n",
       "      <td>LP1</td>\n",
       "      <td>0.00</td>\n",
       "      <td>1000000</td>\n",
       "      <td>0</td>\n",
       "      <td>0</td>\n",
       "      <td>0.00</td>\n",
       "      <td>2.00</td>\n",
       "      <td>0</td>\n",
       "    </tr>\n",
       "    <tr>\n",
       "      <th>36011</th>\n",
       "      <td>3</td>\n",
       "      <td>0</td>\n",
       "      <td>1</td>\n",
       "      <td>3</td>\n",
       "      <td>1000</td>\n",
       "      <td>LP2</td>\n",
       "      <td>0.00</td>\n",
       "      <td>1000000</td>\n",
       "      <td>0</td>\n",
       "      <td>0</td>\n",
       "      <td>0.00</td>\n",
       "      <td>2.00</td>\n",
       "      <td>0</td>\n",
       "    </tr>\n",
       "  </tbody>\n",
       "</table>\n",
       "<p>12000 rows × 13 columns</p>\n",
       "</div>"
      ],
      "text/plain": [
       "       simulation  subset  run  substep  timestep agent_label          q  \\\n",
       "9               0       0    1        3         1      Trader 1000000.00   \n",
       "10              0       0    1        3         1         LP1       0.00   \n",
       "11              0       0    1        3         1         LP2       0.00   \n",
       "18              0       0    1        3         2      Trader 1000000.00   \n",
       "19              0       0    1        3         2         LP1       0.00   \n",
       "...           ...     ...  ...      ...       ...         ...        ...   \n",
       "36001           3       0    1        3       999         LP1       0.00   \n",
       "36002           3       0    1        3       999         LP2       0.00   \n",
       "36009           3       0    1        3      1000      Trader 1000000.00   \n",
       "36010           3       0    1        3      1000         LP1       0.00   \n",
       "36011           3       0    1        3      1000         LP2       0.00   \n",
       "\n",
       "           s-0  s-1     r-0        r-1  p-0  p-1  \n",
       "9            0    0  999900 1000299.91 0.00    0  \n",
       "10     1000000    0       0       0.00 2.00    0  \n",
       "11     1000000    0       0       0.00 2.00    0  \n",
       "18           0    0  999800 1000599.64 0.00    0  \n",
       "19     1000000    0       0       0.00 2.00    0  \n",
       "...        ...  ...     ...        ...  ...  ...  \n",
       "36001  1000000    0       0       0.00 2.00    0  \n",
       "36002  1000000    0       0       0.00 2.00    0  \n",
       "36009        0    0  890000 1245663.51 0.00    0  \n",
       "36010  1000000    0       0       0.00 2.00    0  \n",
       "36011  1000000    0       0       0.00 2.00    0  \n",
       "\n",
       "[12000 rows x 13 columns]"
      ]
     },
     "execution_count": 29,
     "metadata": {},
     "output_type": "execute_result"
    }
   ],
   "source": [
    "agent_df"
   ]
  },
  {
   "cell_type": "code",
   "execution_count": 30,
   "id": "affected-portrait",
   "metadata": {},
   "outputs": [
    {
     "data": {
      "text/html": [
       "<div>\n",
       "<style scoped>\n",
       "    .dataframe tbody tr th:only-of-type {\n",
       "        vertical-align: middle;\n",
       "    }\n",
       "\n",
       "    .dataframe tbody tr th {\n",
       "        vertical-align: top;\n",
       "    }\n",
       "\n",
       "    .dataframe thead th {\n",
       "        text-align: right;\n",
       "    }\n",
       "</style>\n",
       "<table border=\"1\" class=\"dataframe\">\n",
       "  <thead>\n",
       "    <tr style=\"text-align: right;\">\n",
       "      <th></th>\n",
       "      <th>simulation</th>\n",
       "      <th>subset</th>\n",
       "      <th>run</th>\n",
       "      <th>substep</th>\n",
       "      <th>timestep</th>\n",
       "      <th>agent_label</th>\n",
       "      <th>q</th>\n",
       "      <th>s-0</th>\n",
       "      <th>s-1</th>\n",
       "      <th>r-0</th>\n",
       "      <th>r-1</th>\n",
       "      <th>p-0</th>\n",
       "      <th>p-1</th>\n",
       "    </tr>\n",
       "  </thead>\n",
       "  <tbody>\n",
       "    <tr>\n",
       "      <th>10</th>\n",
       "      <td>0</td>\n",
       "      <td>0</td>\n",
       "      <td>1</td>\n",
       "      <td>3</td>\n",
       "      <td>1</td>\n",
       "      <td>LP1</td>\n",
       "      <td>0.00</td>\n",
       "      <td>1000000</td>\n",
       "      <td>0</td>\n",
       "      <td>0</td>\n",
       "      <td>0.00</td>\n",
       "      <td>2.00</td>\n",
       "      <td>0</td>\n",
       "    </tr>\n",
       "    <tr>\n",
       "      <th>19</th>\n",
       "      <td>0</td>\n",
       "      <td>0</td>\n",
       "      <td>1</td>\n",
       "      <td>3</td>\n",
       "      <td>2</td>\n",
       "      <td>LP1</td>\n",
       "      <td>0.00</td>\n",
       "      <td>1000000</td>\n",
       "      <td>0</td>\n",
       "      <td>0</td>\n",
       "      <td>0.00</td>\n",
       "      <td>2.00</td>\n",
       "      <td>0</td>\n",
       "    </tr>\n",
       "    <tr>\n",
       "      <th>28</th>\n",
       "      <td>0</td>\n",
       "      <td>0</td>\n",
       "      <td>1</td>\n",
       "      <td>3</td>\n",
       "      <td>3</td>\n",
       "      <td>LP1</td>\n",
       "      <td>0.00</td>\n",
       "      <td>1000000</td>\n",
       "      <td>0</td>\n",
       "      <td>0</td>\n",
       "      <td>0.00</td>\n",
       "      <td>2.00</td>\n",
       "      <td>0</td>\n",
       "    </tr>\n",
       "    <tr>\n",
       "      <th>37</th>\n",
       "      <td>0</td>\n",
       "      <td>0</td>\n",
       "      <td>1</td>\n",
       "      <td>3</td>\n",
       "      <td>4</td>\n",
       "      <td>LP1</td>\n",
       "      <td>0.00</td>\n",
       "      <td>1000000</td>\n",
       "      <td>0</td>\n",
       "      <td>0</td>\n",
       "      <td>0.00</td>\n",
       "      <td>2.00</td>\n",
       "      <td>0</td>\n",
       "    </tr>\n",
       "    <tr>\n",
       "      <th>46</th>\n",
       "      <td>0</td>\n",
       "      <td>0</td>\n",
       "      <td>1</td>\n",
       "      <td>3</td>\n",
       "      <td>5</td>\n",
       "      <td>LP1</td>\n",
       "      <td>0.00</td>\n",
       "      <td>1000000</td>\n",
       "      <td>0</td>\n",
       "      <td>0</td>\n",
       "      <td>0.00</td>\n",
       "      <td>2.00</td>\n",
       "      <td>0</td>\n",
       "    </tr>\n",
       "    <tr>\n",
       "      <th>...</th>\n",
       "      <td>...</td>\n",
       "      <td>...</td>\n",
       "      <td>...</td>\n",
       "      <td>...</td>\n",
       "      <td>...</td>\n",
       "      <td>...</td>\n",
       "      <td>...</td>\n",
       "      <td>...</td>\n",
       "      <td>...</td>\n",
       "      <td>...</td>\n",
       "      <td>...</td>\n",
       "      <td>...</td>\n",
       "      <td>...</td>\n",
       "    </tr>\n",
       "    <tr>\n",
       "      <th>35974</th>\n",
       "      <td>3</td>\n",
       "      <td>0</td>\n",
       "      <td>1</td>\n",
       "      <td>3</td>\n",
       "      <td>996</td>\n",
       "      <td>LP1</td>\n",
       "      <td>0.00</td>\n",
       "      <td>1000000</td>\n",
       "      <td>0</td>\n",
       "      <td>0</td>\n",
       "      <td>0.00</td>\n",
       "      <td>2.00</td>\n",
       "      <td>0</td>\n",
       "    </tr>\n",
       "    <tr>\n",
       "      <th>35983</th>\n",
       "      <td>3</td>\n",
       "      <td>0</td>\n",
       "      <td>1</td>\n",
       "      <td>3</td>\n",
       "      <td>997</td>\n",
       "      <td>LP1</td>\n",
       "      <td>0.00</td>\n",
       "      <td>1000000</td>\n",
       "      <td>0</td>\n",
       "      <td>0</td>\n",
       "      <td>0.00</td>\n",
       "      <td>2.00</td>\n",
       "      <td>0</td>\n",
       "    </tr>\n",
       "    <tr>\n",
       "      <th>35992</th>\n",
       "      <td>3</td>\n",
       "      <td>0</td>\n",
       "      <td>1</td>\n",
       "      <td>3</td>\n",
       "      <td>998</td>\n",
       "      <td>LP1</td>\n",
       "      <td>0.00</td>\n",
       "      <td>1000000</td>\n",
       "      <td>0</td>\n",
       "      <td>0</td>\n",
       "      <td>0.00</td>\n",
       "      <td>2.00</td>\n",
       "      <td>0</td>\n",
       "    </tr>\n",
       "    <tr>\n",
       "      <th>36001</th>\n",
       "      <td>3</td>\n",
       "      <td>0</td>\n",
       "      <td>1</td>\n",
       "      <td>3</td>\n",
       "      <td>999</td>\n",
       "      <td>LP1</td>\n",
       "      <td>0.00</td>\n",
       "      <td>1000000</td>\n",
       "      <td>0</td>\n",
       "      <td>0</td>\n",
       "      <td>0.00</td>\n",
       "      <td>2.00</td>\n",
       "      <td>0</td>\n",
       "    </tr>\n",
       "    <tr>\n",
       "      <th>36010</th>\n",
       "      <td>3</td>\n",
       "      <td>0</td>\n",
       "      <td>1</td>\n",
       "      <td>3</td>\n",
       "      <td>1000</td>\n",
       "      <td>LP1</td>\n",
       "      <td>0.00</td>\n",
       "      <td>1000000</td>\n",
       "      <td>0</td>\n",
       "      <td>0</td>\n",
       "      <td>0.00</td>\n",
       "      <td>2.00</td>\n",
       "      <td>0</td>\n",
       "    </tr>\n",
       "  </tbody>\n",
       "</table>\n",
       "<p>4000 rows × 13 columns</p>\n",
       "</div>"
      ],
      "text/plain": [
       "       simulation  subset  run  substep  timestep agent_label    q      s-0  \\\n",
       "10              0       0    1        3         1         LP1 0.00  1000000   \n",
       "19              0       0    1        3         2         LP1 0.00  1000000   \n",
       "28              0       0    1        3         3         LP1 0.00  1000000   \n",
       "37              0       0    1        3         4         LP1 0.00  1000000   \n",
       "46              0       0    1        3         5         LP1 0.00  1000000   \n",
       "...           ...     ...  ...      ...       ...         ...  ...      ...   \n",
       "35974           3       0    1        3       996         LP1 0.00  1000000   \n",
       "35983           3       0    1        3       997         LP1 0.00  1000000   \n",
       "35992           3       0    1        3       998         LP1 0.00  1000000   \n",
       "36001           3       0    1        3       999         LP1 0.00  1000000   \n",
       "36010           3       0    1        3      1000         LP1 0.00  1000000   \n",
       "\n",
       "       s-1  r-0  r-1  p-0  p-1  \n",
       "10       0    0 0.00 2.00    0  \n",
       "19       0    0 0.00 2.00    0  \n",
       "28       0    0 0.00 2.00    0  \n",
       "37       0    0 0.00 2.00    0  \n",
       "46       0    0 0.00 2.00    0  \n",
       "...    ...  ...  ...  ...  ...  \n",
       "35974    0    0 0.00 2.00    0  \n",
       "35983    0    0 0.00 2.00    0  \n",
       "35992    0    0 0.00 2.00    0  \n",
       "36001    0    0 0.00 2.00    0  \n",
       "36010    0    0 0.00 2.00    0  \n",
       "\n",
       "[4000 rows x 13 columns]"
      ]
     },
     "execution_count": 30,
     "metadata": {},
     "output_type": "execute_result"
    }
   ],
   "source": [
    "agent_df.query('agent_label==\"LP1\"')"
   ]
  },
  {
   "cell_type": "markdown",
   "id": "regional-input",
   "metadata": {},
   "source": [
    "## How to metric"
   ]
  },
  {
   "cell_type": "code",
   "execution_count": 31,
   "id": "boring-canal",
   "metadata": {},
   "outputs": [
    {
     "data": {
      "text/plain": [
       "3000   1269230.77\n",
       "Name: R-1, dtype: float64"
      ]
     },
     "execution_count": 31,
     "metadata": {},
     "output_type": "execute_result"
    }
   ],
   "source": [
    "rdf.loc[(rdf['simulation'] == 0) & (rdf['timestep'] == 1000)]['R-1']"
   ]
  },
  {
   "cell_type": "code",
   "execution_count": 32,
   "id": "tropical-foundation",
   "metadata": {},
   "outputs": [
    {
     "data": {
      "text/plain": [
       "1100000"
      ]
     },
     "execution_count": 32,
     "metadata": {},
     "output_type": "execute_result"
    }
   ],
   "source": [
    "#import pandas as pd\n",
    "#rdf.get_value('simulation' == 0 )]\n",
    "rdf1 = rdf[rdf[\"simulation\"] == 0]\n",
    "rdf2 = rdf1[rdf1[\"timestep\"] == 1000]\n",
    "x_0 = rdf2['R-0'].iloc[0]\n",
    "x_0\n"
   ]
  },
  {
   "cell_type": "code",
   "execution_count": 33,
   "id": "aging-regard",
   "metadata": {},
   "outputs": [
    {
     "data": {
      "text/plain": [
       "6001   1251879.70\n",
       "Name: R-1, dtype: float64"
      ]
     },
     "execution_count": 33,
     "metadata": {},
     "output_type": "execute_result"
    }
   ],
   "source": [
    "rdf.loc[(rdf['simulation'] == 1) & (rdf['timestep'] == 1000)]['R-1']"
   ]
  },
  {
   "cell_type": "code",
   "execution_count": 34,
   "id": "running-exercise",
   "metadata": {},
   "outputs": [
    {
     "data": {
      "text/plain": [
       "9002   1271518.95\n",
       "Name: R-1, dtype: float64"
      ]
     },
     "execution_count": 34,
     "metadata": {},
     "output_type": "execute_result"
    }
   ],
   "source": [
    "rdf.loc[(rdf['simulation'] == 2) & (rdf['timestep'] == 1000)]['R-1']"
   ]
  },
  {
   "cell_type": "code",
   "execution_count": 35,
   "id": "independent-warehouse",
   "metadata": {},
   "outputs": [
    {
     "data": {
      "text/plain": [
       "12003   1254336.49\n",
       "Name: R-1, dtype: float64"
      ]
     },
     "execution_count": 35,
     "metadata": {},
     "output_type": "execute_result"
    }
   ],
   "source": [
    "rdf.loc[(rdf['simulation'] == 3) & (rdf['timestep'] == 1000)]['R-1']"
   ]
  },
  {
   "cell_type": "code",
   "execution_count": 36,
   "id": "durable-choir",
   "metadata": {},
   "outputs": [
    {
     "data": {
      "text/plain": [
       "3   1499700.09\n",
       "Name: R-1, dtype: float64"
      ]
     },
     "execution_count": 36,
     "metadata": {},
     "output_type": "execute_result"
    }
   ],
   "source": [
    "rdf.loc[(rdf['simulation'] == 0) & (rdf['timestep'] == 1)]['R-1']"
   ]
  },
  {
   "cell_type": "code",
   "execution_count": 37,
   "id": "german-jumping",
   "metadata": {},
   "outputs": [
    {
     "data": {
      "text/plain": [
       "3004   1499670.11\n",
       "Name: R-1, dtype: float64"
      ]
     },
     "execution_count": 37,
     "metadata": {},
     "output_type": "execute_result"
    }
   ],
   "source": [
    "rdf.loc[(rdf['simulation'] == 1) & (rdf['timestep'] == 1)]['R-1']"
   ]
  },
  {
   "cell_type": "code",
   "execution_count": 38,
   "id": "vulnerable-republic",
   "metadata": {},
   "outputs": [
    {
     "data": {
      "text/plain": [
       "6005   1499703.09\n",
       "Name: R-1, dtype: float64"
      ]
     },
     "execution_count": 38,
     "metadata": {},
     "output_type": "execute_result"
    }
   ],
   "source": [
    "rdf.loc[(rdf['simulation'] == 2) & (rdf['timestep'] == 1)]['R-1']"
   ]
  },
  {
   "cell_type": "code",
   "execution_count": 39,
   "id": "adjusted-delicious",
   "metadata": {
    "scrolled": true
   },
   "outputs": [
    {
     "data": {
      "text/plain": [
       "9006   1499673.41\n",
       "Name: R-1, dtype: float64"
      ]
     },
     "execution_count": 39,
     "metadata": {},
     "output_type": "execute_result"
    }
   ],
   "source": [
    "rdf.loc[(rdf['simulation'] == 3) & (rdf['timestep'] == 1)]['R-1']"
   ]
  },
  {
   "cell_type": "markdown",
   "id": "approximate-boston",
   "metadata": {},
   "source": [
    "### Calculate change in pool value"
   ]
  },
  {
   "cell_type": "markdown",
   "id": "absent-floating",
   "metadata": {},
   "source": [
    "#### R-0"
   ]
  },
  {
   "cell_type": "code",
   "execution_count": 40,
   "id": "editorial-strap",
   "metadata": {},
   "outputs": [
    {
     "data": {
      "text/plain": [
       "1100000"
      ]
     },
     "execution_count": 40,
     "metadata": {},
     "output_type": "execute_result"
    }
   ],
   "source": [
    "rdf1 = rdf[rdf[\"simulation\"] == 0]\n",
    "rdf2 = rdf1[rdf1[\"timestep\"] == 1000]\n",
    "r0_1 = rdf2['R-0'].iloc[0]\n",
    "r0_1"
   ]
  },
  {
   "cell_type": "code",
   "execution_count": 41,
   "id": "forty-arbitration",
   "metadata": {},
   "outputs": [
    {
     "data": {
      "text/plain": [
       "1000100"
      ]
     },
     "execution_count": 41,
     "metadata": {},
     "output_type": "execute_result"
    }
   ],
   "source": [
    "rdf1 = rdf[rdf[\"simulation\"] == 0]\n",
    "rdf2 = rdf1[rdf1[\"timestep\"] == 1]\n",
    "r0_0 = rdf2['R-0'].iloc[0]\n",
    "r0_0"
   ]
  },
  {
   "cell_type": "code",
   "execution_count": 42,
   "id": "fixed-radical",
   "metadata": {
    "scrolled": true
   },
   "outputs": [
    {
     "data": {
      "text/plain": [
       "99900"
      ]
     },
     "execution_count": 42,
     "metadata": {},
     "output_type": "execute_result"
    }
   ],
   "source": [
    "profit_sim0_r0 = r0_1 - r0_0\n",
    "profit_sim0_r0"
   ]
  },
  {
   "cell_type": "markdown",
   "id": "comprehensive-incidence",
   "metadata": {},
   "source": [
    "#### R-1"
   ]
  },
  {
   "cell_type": "code",
   "execution_count": 43,
   "id": "significant-security",
   "metadata": {},
   "outputs": [
    {
     "data": {
      "text/plain": [
       "1269230.7692307646"
      ]
     },
     "execution_count": 43,
     "metadata": {},
     "output_type": "execute_result"
    }
   ],
   "source": [
    "rdf1 = rdf[rdf[\"simulation\"] == 0]\n",
    "rdf2 = rdf1[rdf1[\"timestep\"] == 1000]\n",
    "r1_1 = rdf2['R-1'].iloc[0]\n",
    "r1_1"
   ]
  },
  {
   "cell_type": "code",
   "execution_count": 44,
   "id": "leading-province",
   "metadata": {},
   "outputs": [
    {
     "data": {
      "text/plain": [
       "1499700.0899730083"
      ]
     },
     "execution_count": 44,
     "metadata": {},
     "output_type": "execute_result"
    }
   ],
   "source": [
    "rdf1 = rdf[rdf[\"simulation\"] == 0]\n",
    "rdf2 = rdf1[rdf1[\"timestep\"] == 1]\n",
    "r1_0 = rdf2['R-1'].iloc[0]\n",
    "r1_0"
   ]
  },
  {
   "cell_type": "code",
   "execution_count": 45,
   "id": "sharp-hands",
   "metadata": {},
   "outputs": [
    {
     "data": {
      "text/plain": [
       "-230469.32074224367"
      ]
     },
     "execution_count": 45,
     "metadata": {},
     "output_type": "execute_result"
    }
   ],
   "source": [
    "profit_sim0_r1 = r1_1 - r1_0\n",
    "profit_sim0_r1"
   ]
  },
  {
   "cell_type": "markdown",
   "id": "alone-whale",
   "metadata": {},
   "source": [
    "#### Total pool value"
   ]
  },
  {
   "cell_type": "code",
   "execution_count": 46,
   "id": "embedded-techno",
   "metadata": {},
   "outputs": [
    {
     "data": {
      "text/plain": [
       "-130569.32074224367"
      ]
     },
     "execution_count": 46,
     "metadata": {},
     "output_type": "execute_result"
    }
   ],
   "source": [
    "profit_sim0_r1 + profit_sim0_r0"
   ]
  },
  {
   "cell_type": "markdown",
   "id": "mysterious-paris",
   "metadata": {},
   "source": [
    "## How to heatmap"
   ]
  },
  {
   "cell_type": "code",
   "execution_count": 47,
   "id": "favorite-warning",
   "metadata": {
    "scrolled": true
   },
   "outputs": [
    {
     "data": {
      "image/png": "[encoded data removed]",
      "text/plain": [
       "<Figure size 432x288 with 2 Axes>"
      ]
     },
     "metadata": {
      "needs_background": "light"
     },
     "output_type": "display_data"
    }
   ],
   "source": [
    "import numpy as np\n",
    "import seaborn as sns\n",
    "import matplotlib.pylab as plt\n",
    "\n",
    "# set variables & parameters\n",
    "\n",
    "fee_level = 0.03\n",
    "# uniform_data = np.random.rand(10, 12)\n",
    "#trade_volume = {'10': 0.5, '20': 0.6}\n",
    "#liquidity = {'1000': 0.5, '2000': 0.6}\n",
    "trade_volume = (50, 100, 200, 500, 1000, 2000, 5000, 10000, 20000)\n",
    "liquidity = (100000, 200000, 300000, 400000, 500000, 600000, 700000, 800000)\n",
    "\n",
    "#create matrix for comparison\n",
    "m=len(trade_volume)\n",
    "n=len(liquidity)\n",
    "matrix = np.ndarray(shape = (m,n), dtype = int)\n",
    "\n",
    "# index matrix\n",
    "#better_index = [\"X1\", \"X2\", \"Y1\", \"Y2\", \"Y3\"]\n",
    "#matrix.index = better_index\n",
    "\n",
    "# fill in matrix with calculation results\n",
    "for i in range(len(liquidity)):\n",
    "    for j in range(len(trade_volume)):\n",
    "        matrix[j][i] = np.random.randint(1, 100 + 1)\n",
    "\n",
    "\n",
    "\n",
    "\n",
    "#ax = sns.heatmap(uniform_data, linewidth=0.5)\n",
    "ax = sns.heatmap(matrix, linewidth=0.5, annot=True, fmt=\"d\")\n",
    "ax.set_title(\"LP Profits\")\n",
    "#ax.set_title(\"LP Profits for fee level:\" % fee_level)\n",
    "ax.set_xlabel('Liquidity')\n",
    "ax.set_ylabel('Trade Volume')\n",
    "plt.show()"
   ]
  },
  {
   "cell_type": "code",
   "execution_count": 48,
   "id": "convertible-plasma",
   "metadata": {},
   "outputs": [
    {
     "data": {
      "text/plain": [
       "array([[32, 56, 66, 14, 73, 22, 20, 34],\n",
       "       [44, 18, 95, 73, 69, 68, 10, 96],\n",
       "       [71, 88,  9, 56, 52, 82, 54, 17],\n",
       "       [19, 15, 71, 39, 24, 98, 61, 89],\n",
       "       [85, 60, 71,  4, 99, 32,  5, 24],\n",
       "       [95, 70,  7, 12, 65, 79, 65, 17],\n",
       "       [12, 53, 76, 32, 34, 70, 37, 75],\n",
       "       [28, 47, 67, 95, 42, 17, 23, 57],\n",
       "       [13, 19, 27, 16, 49, 84, 16, 97]])"
      ]
     },
     "execution_count": 48,
     "metadata": {},
     "output_type": "execute_result"
    }
   ],
   "source": [
    "matrix"
   ]
  },
  {
   "cell_type": "code",
   "execution_count": 49,
   "id": "engaged-logging",
   "metadata": {},
   "outputs": [
    {
     "data": {
      "image/png": "[encoded data removed]",
      "text/plain": [
       "<Figure size 432x288 with 2 Axes>"
      ]
     },
     "metadata": {},
     "output_type": "display_data"
    }
   ],
   "source": [
    "corr = np.corrcoef(np.random.randn(10, 200))\n",
    "mask = np.zeros_like(corr)\n",
    "mask[np.triu_indices_from(mask)] = True\n",
    "with sns.axes_style(\"white\"):\n",
    "    ax = sns.heatmap(corr, mask=mask, vmax=.3, square=True,  cmap=\"YlGnBu\")\n",
    "    plt.show()"
   ]
  },
  {
   "cell_type": "code",
   "execution_count": 50,
   "id": "stopped-tokyo",
   "metadata": {},
   "outputs": [
    {
     "data": {
      "image/png": "[encoded data removed]",
      "text/plain": [
       "<Figure size 432x288 with 2 Axes>"
      ]
     },
     "metadata": {
      "needs_background": "light"
     },
     "output_type": "display_data"
    }
   ],
   "source": [
    "import matplotlib.pyplot as plt\n",
    "import numpy as np\n",
    "\n",
    "# generate 2 2d grids for the x & y bounds\n",
    "y, x = np.meshgrid(np.linspace(-3, 3, 100), np.linspace(-3, 3, 100))\n",
    "\n",
    "z = (1 - x / 2. + x ** 5 + y ** 3) * np.exp(-x ** 2 - y ** 2)\n",
    "# x and y are bounds, so z should be the value *inside* those bounds.\n",
    "# Therefore, remove the last value from the z array.\n",
    "z = z[:-1, :-1]\n",
    "z_min, z_max = -np.abs(z).max(), np.abs(z).max()\n",
    "\n",
    "fig, ax = plt.subplots()\n",
    "\n",
    "c = ax.pcolormesh(x, y, z, cmap='RdBu', vmin=z_min, vmax=z_max)\n",
    "ax.set_title('pcolormesh')\n",
    "# set the limits of the plot to the limits of the data\n",
    "ax.axis([x.min(), x.max(), y.min(), y.max()])\n",
    "fig.colorbar(c, ax=ax)\n",
    "\n",
    "plt.show()"
   ]
  },
  {
   "cell_type": "code",
   "execution_count": 51,
   "id": "answering-peter",
   "metadata": {
    "scrolled": true
   },
   "outputs": [
    {
     "data": {
      "image/png": "[encoded data removed]",
      "text/plain": [
       "<Figure size 432x288 with 2 Axes>"
      ]
     },
     "metadata": {
      "needs_background": "light"
     },
     "output_type": "display_data"
    }
   ],
   "source": [
    "import matplotlib.pyplot as plt\n",
    "import numpy as np\n",
    "\n",
    "\n",
    "def heatmap2d(arr: np.ndarray):\n",
    "    plt.imshow(arr, cmap='viridis')\n",
    "    plt.colorbar()\n",
    "    plt.show()\n",
    "\n",
    "\n",
    "test_array = np.arange(100 * 100).reshape(100, 100)\n",
    "heatmap2d(matrix_ror1)"
   ]
  },
  {
   "cell_type": "code",
   "execution_count": 52,
   "id": "prescribed-class",
   "metadata": {},
   "outputs": [
    {
     "data": {
      "text/plain": [
       "(50, 100, 200, 500, 1000, 2000, 5000, 10000, 20000)"
      ]
     },
     "execution_count": 52,
     "metadata": {},
     "output_type": "execute_result"
    }
   ],
   "source": [
    "trade_volume"
   ]
  }
 ],
 "metadata": {
  "kernelspec": {
   "display_name": "Python 3",
   "language": "python",
   "name": "python3"
  },
  "language_info": {
   "codemirror_mode": {
    "name": "ipython",
    "version": 3
   },
   "file_extension": ".py",
   "mimetype": "text/x-python",
   "name": "python",
   "nbconvert_exporter": "python",
   "pygments_lexer": "ipython3",
   "version": "3.8.5"
  }
 },
 "nbformat": 4,
 "nbformat_minor": 5
}
