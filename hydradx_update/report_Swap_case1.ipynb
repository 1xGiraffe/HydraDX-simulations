{
 "cells": [
  {
   "cell_type": "markdown",
   "id": "fd4d9d94",
   "metadata": {},
   "source": [
    "## Case 1: Asset $j$ (aka r2 aka R-1) bought in quantity $-\\Delta R_j$ with asset $i$ (aka r1 aka R-0)"
   ]
  },
  {
   "cell_type": "code",
   "execution_count": 1,
   "id": "6b8e2d21-c455-4b2b-a1c4-0c2cce0fb286",
   "metadata": {},
   "outputs": [
    {
     "name": "stdout",
     "output_type": "stream",
     "text": [
      "\n",
      "                  ___________    ____\n",
      "  ________ __ ___/ / ____/   |  / __ \\\n",
      " / ___/ __` / __  / /   / /| | / / / /\n",
      "/ /__/ /_/ / /_/ / /___/ ___ |/ /_/ /\n",
      "\\___/\\__,_/\\__,_/\\____/_/  |_/_____/\n",
      "by cadCAD\n",
      "\n",
      "Execution Mode: local_proc\n",
      "Configuration Count: 1\n",
      "Dimensions of the first simulation: (Timesteps, Params, Runs, Vars) = (1, 3, 1, 3)\n",
      "Execution Method: local_simulations\n",
      "SimIDs   : [0]\n",
      "SubsetIDs: [0]\n",
      "Ns       : [0]\n",
      "ExpIDs   : [0]\n",
      "Execution Mode: single_threaded\n",
      "Is this trade type sell called?\n",
      "Is this trade type sell called?\n",
      "Total execution time: 0.07s\n",
      "   simulation  subset  run  substep  timestep agent_label          q  s-0  \\\n",
      "3           0       0    1        3         1      Trader 1000000.00    0   \n",
      "\n",
      "   s-1  s-2  s-3  r-0     r-1        r-2      r-3  p-0  p-1  p-2  p-3  \n",
      "3    0    0    0  700 8326.17 1430000.00  8300000    0    0    0    0  \n"
     ]
    }
   ],
   "source": [
    "import pandas as pd\n",
    "\n",
    "from model import init_utils\n",
    "from model import processing\n",
    "# Experiments\n",
    "from model import run\n",
    "from model.plot_utils import *\n",
    "\n",
    "########## AGENT CONFIGURATION ##########\n",
    "# key -> token name, value -> token amount owned by agent\n",
    "# note that token name of 'omniABC' is used for omnipool LP shares of token 'ABC'\n",
    "# omniHDXABC is HDX shares dedicated to pool of token ABC\n",
    "\n",
    "trader = {'HDX': 1000000, 'R0': 700, 'R1': 9000,  'R2': 1300000,  'R3': 8300000}\n",
    "trade_scale = 0.1\n",
    "# key -> agent_id, value -> agent dict\n",
    "agent_d = {'Trader': trader}\n",
    "\n",
    "########## ACTION CONFIGURATION ##########\n",
    "# Use 1% of pool, so 10% of own holdings\n",
    "action_dict = {\n",
    "    'sell_r2_for_r1': {'token_buy': 'R1', 'token_sell': 'R2', 'amount_sell': 5000, 'action_id': 'Trade',\n",
    "                       'agent_id': 'Trader'},\n",
    "    'sell_r1_for_r2': {'token_sell': 'R1', 'token_buy': 'R2', 'amount_buy': trade_scale*trader['R2'] , 'action_id': 'Trade',\n",
    "                       'agent_id': 'Trader'}\n",
    "}\n",
    "\n",
    "# list of (action, number of repetitions of action), timesteps = sum of repititions of all actions\n",
    "trade_count = 1\n",
    "action_ls = [('trade', trade_count)]\n",
    "\n",
    "# maps action_id to action dict, with some probability to enable randomness\n",
    "prob_dict = {\n",
    "    'trade': {'sell_r2_for_r1': 0.0,\n",
    "              'sell_r1_for_r2': 1.0}  # really buy_r2_with_r1\n",
    "}\n",
    "\n",
    "########## CFMM INITIALIZATION ##########\n",
    "\n",
    "initial_values = {\n",
    "    'token_list': ['R0', 'R1', 'R2', 'R3', 'R4'],\n",
    "    'R': [7000, 90000,13000000,8300000],\n",
    "    'P': [16714.28, 1211.11,6.15,1.87],\n",
    "    'fee_assets': 0.0015,\n",
    "    'fee_HDX': 0.0015\n",
    "}\n",
    "\n",
    "############################################ SETUP ##########################################################\n",
    "\n",
    "config_params = {\n",
    "    'cfmm_type': \"\",\n",
    "    'initial_values': initial_values,\n",
    "    'agent_d': agent_d,\n",
    "    'action_ls': action_ls,\n",
    "    'prob_dict': prob_dict,\n",
    "    'action_dict': action_dict,\n",
    "}\n",
    "\n",
    "config_dict, state = init_utils.get_configuration(config_params)\n",
    "\n",
    "pd.options.mode.chained_assignment = None  # default='warn'\n",
    "pd.options.display.float_format = '{:.2f}'.format\n",
    "\n",
    "run.config(config_dict, state)\n",
    "events = run.run()\n",
    "\n",
    "rdf, agent_df = processing.postprocessing(events)\n",
    "\n",
    "print(agent_df.tail(20))\n",
    "\n"
   ]
  },
  {
   "cell_type": "code",
   "execution_count": 2,
   "id": "62394b87",
   "metadata": {},
   "outputs": [
    {
     "data": {
      "text/html": [
       "<div>\n",
       "<style scoped>\n",
       "    .dataframe tbody tr th:only-of-type {\n",
       "        vertical-align: middle;\n",
       "    }\n",
       "\n",
       "    .dataframe tbody tr th {\n",
       "        vertical-align: top;\n",
       "    }\n",
       "\n",
       "    .dataframe thead th {\n",
       "        text-align: right;\n",
       "    }\n",
       "</style>\n",
       "<table border=\"1\" class=\"dataframe\">\n",
       "  <thead>\n",
       "    <tr style=\"text-align: right;\">\n",
       "      <th></th>\n",
       "      <th>simulation</th>\n",
       "      <th>subset</th>\n",
       "      <th>run</th>\n",
       "      <th>substep</th>\n",
       "      <th>timestep</th>\n",
       "      <th>agent_label</th>\n",
       "      <th>q</th>\n",
       "      <th>s-0</th>\n",
       "      <th>s-1</th>\n",
       "      <th>s-2</th>\n",
       "      <th>s-3</th>\n",
       "      <th>r-0</th>\n",
       "      <th>r-1</th>\n",
       "      <th>r-2</th>\n",
       "      <th>r-3</th>\n",
       "      <th>p-0</th>\n",
       "      <th>p-1</th>\n",
       "      <th>p-2</th>\n",
       "      <th>p-3</th>\n",
       "    </tr>\n",
       "  </thead>\n",
       "  <tbody>\n",
       "    <tr>\n",
       "      <th>3</th>\n",
       "      <td>0</td>\n",
       "      <td>0</td>\n",
       "      <td>1</td>\n",
       "      <td>3</td>\n",
       "      <td>1</td>\n",
       "      <td>Trader</td>\n",
       "      <td>1000000.00</td>\n",
       "      <td>0</td>\n",
       "      <td>0</td>\n",
       "      <td>0</td>\n",
       "      <td>0</td>\n",
       "      <td>700</td>\n",
       "      <td>8326.17</td>\n",
       "      <td>1430000.00</td>\n",
       "      <td>8300000</td>\n",
       "      <td>0</td>\n",
       "      <td>0</td>\n",
       "      <td>0</td>\n",
       "      <td>0</td>\n",
       "    </tr>\n",
       "  </tbody>\n",
       "</table>\n",
       "</div>"
      ],
      "text/plain": [
       "   simulation  subset  run  substep  timestep agent_label          q  s-0  \\\n",
       "3           0       0    1        3         1      Trader 1000000.00    0   \n",
       "\n",
       "   s-1  s-2  s-3  r-0     r-1        r-2      r-3  p-0  p-1  p-2  p-3  \n",
       "3    0    0    0  700 8326.17 1430000.00  8300000    0    0    0    0  "
      ]
     },
     "execution_count": 2,
     "metadata": {},
     "output_type": "execute_result"
    }
   ],
   "source": [
    "agent_df.head()"
   ]
  },
  {
   "cell_type": "code",
   "execution_count": 3,
   "id": "188f911f",
   "metadata": {},
   "outputs": [
    {
     "data": {
      "text/html": [
       "<div>\n",
       "<style scoped>\n",
       "    .dataframe tbody tr th:only-of-type {\n",
       "        vertical-align: middle;\n",
       "    }\n",
       "\n",
       "    .dataframe tbody tr th {\n",
       "        vertical-align: top;\n",
       "    }\n",
       "\n",
       "    .dataframe thead th {\n",
       "        text-align: right;\n",
       "    }\n",
       "</style>\n",
       "<table border=\"1\" class=\"dataframe\">\n",
       "  <thead>\n",
       "    <tr style=\"text-align: right;\">\n",
       "      <th></th>\n",
       "      <th>R-0</th>\n",
       "      <th>R-1</th>\n",
       "      <th>R-2</th>\n",
       "      <th>R-3</th>\n",
       "      <th>Q-0</th>\n",
       "      <th>Q-1</th>\n",
       "      <th>Q-2</th>\n",
       "      <th>Q-3</th>\n",
       "      <th>S-0</th>\n",
       "      <th>S-1</th>\n",
       "      <th>...</th>\n",
       "      <th>token_list-3</th>\n",
       "      <th>token_list-4</th>\n",
       "      <th>fee_assets</th>\n",
       "      <th>fee_HDX</th>\n",
       "      <th>n</th>\n",
       "      <th>simulation</th>\n",
       "      <th>subset</th>\n",
       "      <th>run</th>\n",
       "      <th>substep</th>\n",
       "      <th>timestep</th>\n",
       "    </tr>\n",
       "  </thead>\n",
       "  <tbody>\n",
       "    <tr>\n",
       "      <th>0</th>\n",
       "      <td>7000</td>\n",
       "      <td>90000.00</td>\n",
       "      <td>13000000.00</td>\n",
       "      <td>8300000</td>\n",
       "      <td>116999960.00</td>\n",
       "      <td>108999900.00</td>\n",
       "      <td>79950000.00</td>\n",
       "      <td>15521000.00</td>\n",
       "      <td>7000</td>\n",
       "      <td>90000</td>\n",
       "      <td>...</td>\n",
       "      <td>R3</td>\n",
       "      <td>R4</td>\n",
       "      <td>0.00</td>\n",
       "      <td>0.00</td>\n",
       "      <td>4</td>\n",
       "      <td>0</td>\n",
       "      <td>0</td>\n",
       "      <td>1</td>\n",
       "      <td>0</td>\n",
       "      <td>0</td>\n",
       "    </tr>\n",
       "    <tr>\n",
       "      <th>3</th>\n",
       "      <td>7000</td>\n",
       "      <td>90673.83</td>\n",
       "      <td>12870000.00</td>\n",
       "      <td>8300000</td>\n",
       "      <td>116999960.00</td>\n",
       "      <td>108189883.76</td>\n",
       "      <td>80760026.69</td>\n",
       "      <td>15521000.00</td>\n",
       "      <td>7000</td>\n",
       "      <td>90000</td>\n",
       "      <td>...</td>\n",
       "      <td>R3</td>\n",
       "      <td>R4</td>\n",
       "      <td>0.00</td>\n",
       "      <td>0.00</td>\n",
       "      <td>4</td>\n",
       "      <td>0</td>\n",
       "      <td>0</td>\n",
       "      <td>1</td>\n",
       "      <td>3</td>\n",
       "      <td>1</td>\n",
       "    </tr>\n",
       "  </tbody>\n",
       "</table>\n",
       "<p>2 rows × 36 columns</p>\n",
       "</div>"
      ],
      "text/plain": [
       "    R-0      R-1         R-2      R-3          Q-0          Q-1         Q-2  \\\n",
       "0  7000 90000.00 13000000.00  8300000 116999960.00 108999900.00 79950000.00   \n",
       "3  7000 90673.83 12870000.00  8300000 116999960.00 108189883.76 80760026.69   \n",
       "\n",
       "          Q-3   S-0    S-1  ...  token_list-3  token_list-4  fee_assets  \\\n",
       "0 15521000.00  7000  90000  ...            R3            R4        0.00   \n",
       "3 15521000.00  7000  90000  ...            R3            R4        0.00   \n",
       "\n",
       "   fee_HDX  n  simulation  subset  run  substep  timestep  \n",
       "0     0.00  4           0       0    1        0         0  \n",
       "3     0.00  4           0       0    1        3         1  \n",
       "\n",
       "[2 rows x 36 columns]"
      ]
     },
     "execution_count": 3,
     "metadata": {},
     "output_type": "execute_result"
    }
   ],
   "source": [
    "rdf.head()"
   ]
  },
  {
   "cell_type": "code",
   "execution_count": 4,
   "id": "3f9ad1f0",
   "metadata": {},
   "outputs": [
    {
     "data": {
      "text/html": [
       "<div>\n",
       "<style scoped>\n",
       "    .dataframe tbody tr th:only-of-type {\n",
       "        vertical-align: middle;\n",
       "    }\n",
       "\n",
       "    .dataframe tbody tr th {\n",
       "        vertical-align: top;\n",
       "    }\n",
       "\n",
       "    .dataframe thead th {\n",
       "        text-align: right;\n",
       "    }\n",
       "</style>\n",
       "<table border=\"1\" class=\"dataframe\">\n",
       "  <thead>\n",
       "    <tr style=\"text-align: right;\">\n",
       "      <th></th>\n",
       "      <th>external</th>\n",
       "      <th>AMM</th>\n",
       "      <th>uni_agents</th>\n",
       "      <th>simulation</th>\n",
       "      <th>subset</th>\n",
       "      <th>run</th>\n",
       "      <th>substep</th>\n",
       "      <th>timestep</th>\n",
       "    </tr>\n",
       "  </thead>\n",
       "  <tbody>\n",
       "    <tr>\n",
       "      <th>0</th>\n",
       "      <td>{}</td>\n",
       "      <td>{'R': [7000, 90000, 13000000, 8300000], 'Q': [...</td>\n",
       "      <td>{'Trader': {'q': 1000000, 's': [0, 0, 0, 0], '...</td>\n",
       "      <td>0</td>\n",
       "      <td>0</td>\n",
       "      <td>1</td>\n",
       "      <td>0</td>\n",
       "      <td>0</td>\n",
       "    </tr>\n",
       "    <tr>\n",
       "      <th>1</th>\n",
       "      <td>{}</td>\n",
       "      <td>{'R': [7000, 90000, 13000000, 8300000], 'Q': [...</td>\n",
       "      <td>{'Trader': {'q': 1000000, 's': [0, 0, 0, 0], '...</td>\n",
       "      <td>0</td>\n",
       "      <td>0</td>\n",
       "      <td>1</td>\n",
       "      <td>1</td>\n",
       "      <td>1</td>\n",
       "    </tr>\n",
       "    <tr>\n",
       "      <th>2</th>\n",
       "      <td>{}</td>\n",
       "      <td>{'R': [7000, 90673.82881757418, 12870000.0, 83...</td>\n",
       "      <td>{'Trader': {'q': 1000000.0, 's': [0, 0, 0, 0],...</td>\n",
       "      <td>0</td>\n",
       "      <td>0</td>\n",
       "      <td>1</td>\n",
       "      <td>2</td>\n",
       "      <td>1</td>\n",
       "    </tr>\n",
       "    <tr>\n",
       "      <th>3</th>\n",
       "      <td>{}</td>\n",
       "      <td>{'R': [7000, 90673.82881757418, 12870000.0, 83...</td>\n",
       "      <td>{'Trader': {'q': 1000000.0, 's': [0, 0, 0, 0],...</td>\n",
       "      <td>0</td>\n",
       "      <td>0</td>\n",
       "      <td>1</td>\n",
       "      <td>3</td>\n",
       "      <td>1</td>\n",
       "    </tr>\n",
       "  </tbody>\n",
       "</table>\n",
       "</div>"
      ],
      "text/plain": [
       "  external                                                AMM  \\\n",
       "0       {}  {'R': [7000, 90000, 13000000, 8300000], 'Q': [...   \n",
       "1       {}  {'R': [7000, 90000, 13000000, 8300000], 'Q': [...   \n",
       "2       {}  {'R': [7000, 90673.82881757418, 12870000.0, 83...   \n",
       "3       {}  {'R': [7000, 90673.82881757418, 12870000.0, 83...   \n",
       "\n",
       "                                          uni_agents  simulation  subset  run  \\\n",
       "0  {'Trader': {'q': 1000000, 's': [0, 0, 0, 0], '...           0       0    1   \n",
       "1  {'Trader': {'q': 1000000, 's': [0, 0, 0, 0], '...           0       0    1   \n",
       "2  {'Trader': {'q': 1000000.0, 's': [0, 0, 0, 0],...           0       0    1   \n",
       "3  {'Trader': {'q': 1000000.0, 's': [0, 0, 0, 0],...           0       0    1   \n",
       "\n",
       "   substep  timestep  \n",
       "0        0         0  \n",
       "1        1         1  \n",
       "2        2         1  \n",
       "3        3         1  "
      ]
     },
     "execution_count": 4,
     "metadata": {},
     "output_type": "execute_result"
    }
   ],
   "source": [
    "pd.set_option(\"display.max_rows\", None, \"display.max_columns\", None)\n",
    "pd.DataFrame(events)"
   ]
  },
  {
   "cell_type": "code",
   "execution_count": 5,
   "id": "b8ce30e7",
   "metadata": {},
   "outputs": [
    {
     "data": {
      "text/plain": [
       "Index(['R-0', 'R-1', 'R-2', 'R-3', 'Q-0', 'Q-1', 'Q-2', 'Q-3', 'S-0', 'S-1',\n",
       "       'S-2', 'S-3', 'A-0', 'A-1', 'A-2', 'A-3', 'B-0', 'B-1', 'B-2', 'B-3',\n",
       "       'D', 'T', 'H', 'token_list-0', 'token_list-1', 'token_list-2',\n",
       "       'token_list-3', 'token_list-4', 'fee_assets', 'fee_HDX', 'n',\n",
       "       'simulation', 'subset', 'run', 'substep', 'timestep'],\n",
       "      dtype='object')"
      ]
     },
     "execution_count": 5,
     "metadata": {},
     "output_type": "execute_result"
    }
   ],
   "source": [
    "rdf.columns"
   ]
  },
  {
   "cell_type": "code",
   "execution_count": 49,
   "id": "711d79a9",
   "metadata": {},
   "outputs": [],
   "source": [
    "def plot_state(df, var_list: list, sim_labels: list = ['0', '1', '2', '3'], plot_title: str='') -> None:\n",
    "    simulations = df.simulation.unique()\n",
    "    # print(simulations)\n",
    "    plot_figs = 101 + 10*len(sim_labels)\n",
    "    plt.tight_layout(pad=2)\n",
    "    for var in var_list:\n",
    "        plt.figure(figsize=(15, 5))\n",
    "        plt.suptitle(plot_title)\n",
    "        if var in df.columns:\n",
    "            init = plot_figs # make this scale to number of assets\n",
    "            ax = plt.subplot(init, title=var)\n",
    "            for i in simulations:\n",
    "                df[[var, 'timestep']][df['simulation'] == i].astype(float).plot(ax=ax, y=[var], x='timestep',\\\n",
    "                    xlabel= 'Timestep',label=[sim_labels[i]])\n",
    "            plt.savefig('images/'+ plot_title + var + '.png', bbox_inches='tight', pad_inches=5)\n",
    "        elif var + '-0' in df.columns:\n",
    "            max_i = 0\n",
    "            while var + '-' + str(max_i + 1) in df.columns:\n",
    "                max_i += 1\n",
    "            for i in range(max_i + 1):\n",
    "                init = plot_figs + i # make this scale to number of assets\n",
    "                var_i = var + '-' + str(i)\n",
    "                ax = plt.subplot(init, title=var_i)\n",
    "                for j in simulations:\n",
    "                    df[[var_i, 'timestep']][df['simulation'] == j].astype(float).plot(ax=ax, y=[var_i], x='timestep',\n",
    "                    xlabel= 'Timestep',label=[sim_labels[j]])\n",
    "                plt.savefig('images/'+ plot_title+var + '.png')\n",
    "    plt.show()"
   ]
  },
  {
   "cell_type": "code",
   "execution_count": 50,
   "id": "5a3d7ff1",
   "metadata": {},
   "outputs": [
    {
     "data": {
      "text/plain": [
       "<Figure size 432x288 with 0 Axes>"
      ]
     },
     "metadata": {},
     "output_type": "display_data"
    },
    {
     "data": {
      "image/png": "[encoded data removed]",
      "text/plain": [
       "<Figure size 1080x360 with 4 Axes>"
      ]
     },
     "metadata": {
      "needs_background": "light"
     },
     "output_type": "display_data"
    },
    {
     "data": {
      "image/png": "[encoded data removed]",
      "text/plain": [
       "<Figure size 1080x360 with 4 Axes>"
      ]
     },
     "metadata": {
      "needs_background": "light"
     },
     "output_type": "display_data"
    },
    {
     "data": {
      "image/png": "[encoded data removed]",
      "text/plain": [
       "<Figure size 1080x360 with 4 Axes>"
      ]
     },
     "metadata": {
      "needs_background": "light"
     },
     "output_type": "display_data"
    },
    {
     "data": {
      "image/png": "[encoded data removed]",
      "text/plain": [
       "<Figure size 1080x360 with 4 Axes>"
      ]
     },
     "metadata": {
      "needs_background": "light"
     },
     "output_type": "display_data"
    },
    {
     "data": {
      "image/png": "[encoded data removed]",
      "text/plain": [
       "<Figure size 1080x360 with 1 Axes>"
      ]
     },
     "metadata": {
      "needs_background": "light"
     },
     "output_type": "display_data"
    }
   ],
   "source": [
    "var_list = ['R', 'Q', 'B','S','D']\n",
    "plot_state(rdf, var_list, plot_title='Swap asset i with asset j (buy side)')"
   ]
  },
  {
   "cell_type": "code",
   "execution_count": null,
   "id": "fbb48ae7-cc78-4709-90ca-a7921c37fa5d",
   "metadata": {},
   "outputs": [],
   "source": [
    "\n",
    "var_list = ['R', 'Q', 'B','S','D']\n",
    "plot_vars(rdf, var_list)"
   ]
  },
  {
   "cell_type": "code",
   "execution_count": null,
   "id": "b8e34f4b",
   "metadata": {},
   "outputs": [],
   "source": [
    "agent_df"
   ]
  },
  {
   "cell_type": "code",
   "execution_count": null,
   "id": "8e01e71e",
   "metadata": {},
   "outputs": [],
   "source": [
    "var_list = ['r', 's']\n",
    "plot_vars(agent_df, var_list)"
   ]
  },
  {
   "cell_type": "markdown",
   "id": "cdf2b836",
   "metadata": {},
   "source": [
    "#### Case 1: Asset $j$ bought in quantity $-\\Delta R_j$ with asset $i$\n",
    "$$\n",
    "\\begin{align}\n",
    "\\tilde{\\Delta Q_j} &= Q_j\\frac{- \\Delta R_j}{R_j(1 - f_A) + \\Delta R_j}\\\\\n",
    "\\tilde{\\Delta Q_i} &= -\\frac{\\tilde{\\Delta Q_j}}{1 - f_P}\\\\\n",
    "\\Delta R_i &= R_i\\frac{- \\tilde{\\Delta Q_i}}{Q_i + \\tilde{\\Delta Q_i}}\n",
    "\\end{align}\n",
    "$$\n",
    "\n",
    "Now that the correct $\\Delta R_i$ is computed, we can treat this trade as a \"sell\" trade of asset $i$ in quantity $\\Delta R_i$."
   ]
  },
  {
   "cell_type": "code",
   "execution_count": null,
   "id": "a8e0a8f7",
   "metadata": {},
   "outputs": [],
   "source": [
    "# KEY for getting verification to pass\n",
    "# sign convention is amount to buy is negated\n",
    "action_dict['sell_r1_for_r2']['amount_buy'] = -action_dict['sell_r1_for_r2']['amount_buy']\n"
   ]
  },
  {
   "cell_type": "code",
   "execution_count": null,
   "id": "b7829a3e-d082-4092-9414-efd05f4b87c6",
   "metadata": {},
   "outputs": [],
   "source": [
    "delta_tilde_qj = rdf['Q-1'][0] * (-action_dict['sell_r1_for_r2']['amount_buy'])/(rdf['R-1'][0]*(1-initial_values['fee_assets'])+action_dict['sell_r1_for_r2']['amount_buy'])\n",
    "delta_tilde_qj"
   ]
  },
  {
   "cell_type": "code",
   "execution_count": null,
   "id": "99627d54",
   "metadata": {},
   "outputs": [],
   "source": [
    "delta_tilde_qi = -delta_tilde_qj / (1-initial_values['fee_HDX'])\n",
    "delta_tilde_qi"
   ]
  },
  {
   "cell_type": "code",
   "execution_count": null,
   "id": "f1db85bc",
   "metadata": {},
   "outputs": [],
   "source": [
    "delta_ri = rdf['R-0'][0] * (-delta_tilde_qi)/(rdf['Q-0'][0]+delta_tilde_qi)\n",
    "delta_ri"
   ]
  },
  {
   "cell_type": "code",
   "execution_count": null,
   "id": "0de912bd",
   "metadata": {},
   "outputs": [],
   "source": [
    "# delta_rj = -action_dict['sell_r1_for_r2']['amount_buy']\n",
    "# delta_rj"
   ]
  },
  {
   "cell_type": "markdown",
   "id": "d65d592c",
   "metadata": {},
   "source": [
    "#### Case 2: Asset $i$ sold in quantity $\\Delta R_i$ for asset $j$\n",
    "\n",
    "Asset $i$ is sold for asset $j$ in a series of trades, with \n",
    "$$\n",
    "\\begin{align}\n",
    "\\Delta Q_i &= Q_i\\frac{- \\Delta R_i}{R_i + \\Delta R_i}\\\\\n",
    "\\Delta Q_j' &= -\\Delta Q_i (1 - f_P)\\\\\n",
    "\\Delta R_j' &= R_j\\frac{- \\Delta Q_j'}{Q_j + \\Delta Q_j'}\\\\\n",
    "\\Delta R_j &= \\Delta R_j'(1 - f_A)\n",
    "\\end{align}\n",
    "$$"
   ]
  },
  {
   "cell_type": "code",
   "execution_count": null,
   "id": "47e0d018",
   "metadata": {},
   "outputs": [],
   "source": [
    "delta_qi = rdf['Q-0'][0] * (-delta_ri)/(rdf['R-0'][0]+delta_ri)\n",
    "delta_qi"
   ]
  },
  {
   "cell_type": "code",
   "execution_count": null,
   "id": "8f9faaa1",
   "metadata": {},
   "outputs": [],
   "source": [
    "delta_qj_prime = -delta_qi * (1-initial_values['fee_HDX'])\n",
    "delta_qj_prime"
   ]
  },
  {
   "cell_type": "code",
   "execution_count": null,
   "id": "b3e8f144",
   "metadata": {},
   "outputs": [],
   "source": [
    "delta_rj_prime = rdf['R-1'][0] * (-delta_qj_prime)/(rdf['Q-1'][0]+delta_qj_prime)\n",
    "delta_rj_prime"
   ]
  },
  {
   "cell_type": "code",
   "execution_count": null,
   "id": "180b2d78",
   "metadata": {},
   "outputs": [],
   "source": [
    "delta_rj = delta_rj_prime*(1-initial_values['fee_assets'])\n",
    "delta_rj"
   ]
  },
  {
   "cell_type": "markdown",
   "id": "f151af03",
   "metadata": {},
   "source": [
    "### Fee accounting\n",
    "The LHDX fee is added to treasury\n",
    "$$\n",
    "\\Delta D = -\\Delta Q_i f_P\n",
    "$$\n",
    "\n",
    "It is helpful to consider $\\Delta R_j'$, the amount initially swapped out given $\\Delta R_i$ before the asset fee is added back to the $j$ pool.\n",
    "\n",
    "Note that $\\Delta R_j = (1 - f_A) \\Delta R_j'$. The spot price immediately after the $j$ swap is $\\frac{Q_j + \\Delta Q_j'}{R_j + \\Delta R_j'}$.\n",
    "Thus we want\n",
    "$$\n",
    "\\frac{Q_j^+}{R_j^+} = \\frac{Q_j + \\Delta Q_j'}{R_j + \\Delta R_j'}\n",
    "$$\n",
    "\n",
    "Solving this for $Q_j^+$, we see that\n",
    "$$\n",
    "\\begin{align}\n",
    "R_j^+ &= R_j + \\Delta R_j\\\\\n",
    "Q_j^+ &= R_j^+ \\frac{Q_jR_j}{\\left(R_j + \\frac{\\Delta R_j}{1 - f_A}\\right)^2}\n",
    "\\end{align}\n",
    "$$"
   ]
  },
  {
   "cell_type": "code",
   "execution_count": null,
   "id": "39b63d06",
   "metadata": {},
   "outputs": [],
   "source": [
    "delta_d = -delta_qi*initial_values['fee_HDX']\n",
    "delta_d"
   ]
  },
  {
   "cell_type": "code",
   "execution_count": null,
   "id": "03afc8e4",
   "metadata": {},
   "outputs": [],
   "source": [
    "R_j_plus = rdf['R-2'][0] + (delta_rj)\n",
    "R_j_plus"
   ]
  },
  {
   "cell_type": "code",
   "execution_count": null,
   "id": "c0f91c1e",
   "metadata": {},
   "outputs": [],
   "source": [
    "Q_j_plus = R_j_plus * rdf['Q-2'][0] * rdf['R-2'][0] / (rdf['R-2'][0] + ((delta_rj)/(1-initial_values['fee_assets'])))**2\n",
    "Q_j_plus"
   ]
  },
  {
   "cell_type": "markdown",
   "id": "5ef3be6c",
   "metadata": {},
   "source": [
    "#### $Q_j$ Check"
   ]
  },
  {
   "cell_type": "code",
   "execution_count": null,
   "id": "9ba6de29",
   "metadata": {},
   "outputs": [],
   "source": [
    "rdf['Q-2'][3]# == Q_j_plus"
   ]
  },
  {
   "cell_type": "code",
   "execution_count": null,
   "id": "6c8382c1",
   "metadata": {},
   "outputs": [],
   "source": [
    "rdf['Q-2'][3] == Q_j_plus"
   ]
  },
  {
   "cell_type": "markdown",
   "id": "2e8f6a48",
   "metadata": {},
   "source": [
    "#### $Q_i$ Check"
   ]
  },
  {
   "cell_type": "code",
   "execution_count": null,
   "id": "1dabbc0e",
   "metadata": {},
   "outputs": [],
   "source": [
    "rdf['Q-1'][3] == rdf['Q-1'][0] + (delta_qi)"
   ]
  },
  {
   "cell_type": "code",
   "execution_count": null,
   "id": "4c9b9408",
   "metadata": {},
   "outputs": [],
   "source": [
    "rdf['Q-1'][3]"
   ]
  },
  {
   "cell_type": "code",
   "execution_count": null,
   "id": "f5976d12",
   "metadata": {},
   "outputs": [],
   "source": [
    "rdf['Q-1'][0] + (delta_qi)  # SIGN CHANGE"
   ]
  },
  {
   "cell_type": "markdown",
   "id": "09797bc7",
   "metadata": {},
   "source": [
    "#### $R_i$ Check"
   ]
  },
  {
   "cell_type": "code",
   "execution_count": null,
   "id": "10174829",
   "metadata": {},
   "outputs": [],
   "source": [
    "rdf['R-1'][3] == rdf['R-1'][0] + (delta_ri)"
   ]
  },
  {
   "cell_type": "code",
   "execution_count": null,
   "id": "c90a4cb0",
   "metadata": {},
   "outputs": [],
   "source": [
    "rdf['R-1'][0] + (delta_ri)"
   ]
  },
  {
   "cell_type": "code",
   "execution_count": null,
   "id": "81587ebf",
   "metadata": {},
   "outputs": [],
   "source": [
    "rdf['R-1'][3]"
   ]
  },
  {
   "cell_type": "markdown",
   "id": "4bdcb589",
   "metadata": {},
   "source": [
    "#### $R_j$ Check"
   ]
  },
  {
   "cell_type": "code",
   "execution_count": null,
   "id": "3f476ce0",
   "metadata": {},
   "outputs": [],
   "source": [
    "round(rdf['R-2'][3],8) == rdf['R-2'][0] + (delta_rj)"
   ]
  },
  {
   "cell_type": "code",
   "execution_count": null,
   "id": "336b5896",
   "metadata": {},
   "outputs": [],
   "source": [
    "rdf['R-2'][0] + (delta_rj)"
   ]
  },
  {
   "cell_type": "code",
   "execution_count": null,
   "id": "23e71240",
   "metadata": {},
   "outputs": [],
   "source": [
    "rdf['R-2'][3]"
   ]
  }
 ],
 "metadata": {
  "interpreter": {
   "hash": "0f0121f3087aeba530c63e0db60f5171c3cec0582e3d1e3d78c528d6eb18d107"
  },
  "kernelspec": {
   "display_name": "Julia 1.6.3",
   "language": "python",
   "name": "python3"
  },
  "language_info": {
   "codemirror_mode": {
    "name": "ipython",
    "version": 3
   },
   "file_extension": ".py",
   "mimetype": "text/x-python",
   "name": "python",
   "nbconvert_exporter": "python",
   "pygments_lexer": "ipython3",
   "version": "3.8.8"
  }
 },
 "nbformat": 4,
 "nbformat_minor": 5
}
