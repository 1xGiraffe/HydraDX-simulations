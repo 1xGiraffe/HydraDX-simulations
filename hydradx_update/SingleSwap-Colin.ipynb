{
 "cells": [
  {
   "cell_type": "code",
   "execution_count": 1,
   "id": "6b8e2d21-c455-4b2b-a1c4-0c2cce0fb286",
   "metadata": {},
   "outputs": [
    {
     "name": "stdout",
     "output_type": "stream",
     "text": [
      "\n",
      "                  ___________    ____\n",
      "  ________ __ ___/ / ____/   |  / __ \\\n",
      " / ___/ __` / __  / /   / /| | / / / /\n",
      "/ /__/ /_/ / /_/ / /___/ ___ |/ /_/ /\n",
      "\\___/\\__,_/\\__,_/\\____/_/  |_/_____/\n",
      "by cadCAD\n",
      "\n",
      "Execution Mode: local_proc\n",
      "Configuration Count: 1\n",
      "Dimensions of the first simulation: (Timesteps, Params, Runs, Vars) = (1, 3, 1, 3)\n",
      "Execution Method: local_simulations\n",
      "SimIDs   : [0]\n",
      "SubsetIDs: [0]\n",
      "Ns       : [0]\n",
      "ExpIDs   : [0]\n",
      "Execution Mode: single_threaded\n",
      "Total execution time: 0.01s\n",
      "   simulation  subset  run  substep  timestep agent_label          q  s-0  \\\n",
      "3           0       0    1        3         1      Trader 1000000.00    0   \n",
      "\n",
      "   s-1     r-0        r-1  p-0  p-1  \n",
      "3    0  999000 1002979.10    0    0  \n"
     ]
    }
   ],
   "source": [
    "import pandas as pd\n",
    "\n",
    "from model import init_utils\n",
    "from model import processing\n",
    "# Experiments\n",
    "from model import run\n",
    "from model.plot_utils import *\n",
    "\n",
    "########## AGENT CONFIGURATION ##########\n",
    "# key -> token name, value -> token amount owned by agent\n",
    "# note that token name of 'omniABC' is used for omnipool LP shares of token 'ABC'\n",
    "# omniHDXABC is HDX shares dedicated to pool of token ABC\n",
    "\n",
    "trader = {'HDX': 1000000, 'R1': 1000000, 'R2': 1000000}\n",
    "\n",
    "# key -> agent_id, value -> agent dict\n",
    "agent_d = {'Trader': trader}\n",
    "\n",
    "########## ACTION CONFIGURATION ##########\n",
    "\n",
    "action_dict = {\n",
    "    'sell_r2_for_r1': {'token_buy': 'R1', 'token_sell': 'R2', 'amount_sell': 5000, 'action_id': 'Trade',\n",
    "                       'agent_id': 'Trader'},\n",
    "    'sell_r1_for_r2': {'token_sell': 'R1', 'token_buy': 'R2', 'amount_sell': 1000, 'action_id': 'Trade',\n",
    "                       'agent_id': 'Trader'}\n",
    "}\n",
    "\n",
    "# list of (action, number of repetitions of action), timesteps = sum of repititions of all actions\n",
    "trade_count = 1\n",
    "action_ls = [('trade', trade_count)]\n",
    "\n",
    "# maps action_id to action dict, with some probability to enable randomness\n",
    "prob_dict = {\n",
    "    'trade': {'sell_r2_for_r1': 0.0,\n",
    "              'sell_r1_for_r2': 1.0}\n",
    "}\n",
    "\n",
    "########## CFMM INITIALIZATION ##########\n",
    "\n",
    "initial_values = {\n",
    "    'token_list': ['R1', 'R2'],\n",
    "    'R': [500000, 1500000],\n",
    "    'P': [2, 2 / 3],\n",
    "    'fee_assets': 0.0015,\n",
    "    'fee_HDX': 0.0015\n",
    "}\n",
    "\n",
    "############################################ SETUP ##########################################################\n",
    "\n",
    "config_params = {\n",
    "    'cfmm_type': \"\",\n",
    "    'initial_values': initial_values,\n",
    "    'agent_d': agent_d,\n",
    "    'action_ls': action_ls,\n",
    "    'prob_dict': prob_dict,\n",
    "    'action_dict': action_dict,\n",
    "}\n",
    "\n",
    "config_dict, state = init_utils.get_configuration(config_params)\n",
    "\n",
    "pd.options.mode.chained_assignment = None  # default='warn'\n",
    "pd.options.display.float_format = '{:.2f}'.format\n",
    "\n",
    "run.config(config_dict, state)\n",
    "events = run.run()\n",
    "\n",
    "rdf, agent_df = processing.postprocessing(events)\n",
    "\n",
    "print(agent_df.tail(20))\n",
    "\n"
   ]
  },
  {
   "cell_type": "code",
   "execution_count": 2,
   "id": "62394b87",
   "metadata": {},
   "outputs": [
    {
     "data": {
      "text/html": [
       "<div>\n",
       "<style scoped>\n",
       "    .dataframe tbody tr th:only-of-type {\n",
       "        vertical-align: middle;\n",
       "    }\n",
       "\n",
       "    .dataframe tbody tr th {\n",
       "        vertical-align: top;\n",
       "    }\n",
       "\n",
       "    .dataframe thead th {\n",
       "        text-align: right;\n",
       "    }\n",
       "</style>\n",
       "<table border=\"1\" class=\"dataframe\">\n",
       "  <thead>\n",
       "    <tr style=\"text-align: right;\">\n",
       "      <th></th>\n",
       "      <th>simulation</th>\n",
       "      <th>subset</th>\n",
       "      <th>run</th>\n",
       "      <th>substep</th>\n",
       "      <th>timestep</th>\n",
       "      <th>agent_label</th>\n",
       "      <th>q</th>\n",
       "      <th>s-0</th>\n",
       "      <th>s-1</th>\n",
       "      <th>r-0</th>\n",
       "      <th>r-1</th>\n",
       "      <th>p-0</th>\n",
       "      <th>p-1</th>\n",
       "    </tr>\n",
       "  </thead>\n",
       "  <tbody>\n",
       "    <tr>\n",
       "      <th>3</th>\n",
       "      <td>0</td>\n",
       "      <td>0</td>\n",
       "      <td>1</td>\n",
       "      <td>3</td>\n",
       "      <td>1</td>\n",
       "      <td>Trader</td>\n",
       "      <td>1000000.00</td>\n",
       "      <td>0</td>\n",
       "      <td>0</td>\n",
       "      <td>999000</td>\n",
       "      <td>1002979.10</td>\n",
       "      <td>0</td>\n",
       "      <td>0</td>\n",
       "    </tr>\n",
       "  </tbody>\n",
       "</table>\n",
       "</div>"
      ],
      "text/plain": [
       "   simulation  subset  run  substep  timestep agent_label          q  s-0  \\\n",
       "3           0       0    1        3         1      Trader 1000000.00    0   \n",
       "\n",
       "   s-1     r-0        r-1  p-0  p-1  \n",
       "3    0  999000 1002979.10    0    0  "
      ]
     },
     "execution_count": 2,
     "metadata": {},
     "output_type": "execute_result"
    }
   ],
   "source": [
    "agent_df.head()"
   ]
  },
  {
   "cell_type": "code",
   "execution_count": 3,
   "id": "188f911f",
   "metadata": {},
   "outputs": [
    {
     "data": {
      "text/html": [
       "<div>\n",
       "<style scoped>\n",
       "    .dataframe tbody tr th:only-of-type {\n",
       "        vertical-align: middle;\n",
       "    }\n",
       "\n",
       "    .dataframe tbody tr th {\n",
       "        vertical-align: top;\n",
       "    }\n",
       "\n",
       "    .dataframe thead th {\n",
       "        text-align: right;\n",
       "    }\n",
       "</style>\n",
       "<table border=\"1\" class=\"dataframe\">\n",
       "  <thead>\n",
       "    <tr style=\"text-align: right;\">\n",
       "      <th></th>\n",
       "      <th>R-0</th>\n",
       "      <th>R-1</th>\n",
       "      <th>Q-0</th>\n",
       "      <th>Q-1</th>\n",
       "      <th>S-0</th>\n",
       "      <th>S-1</th>\n",
       "      <th>A-0</th>\n",
       "      <th>A-1</th>\n",
       "      <th>B-0</th>\n",
       "      <th>B-1</th>\n",
       "      <th>...</th>\n",
       "      <th>token_list-0</th>\n",
       "      <th>token_list-1</th>\n",
       "      <th>fee_assets</th>\n",
       "      <th>fee_HDX</th>\n",
       "      <th>n</th>\n",
       "      <th>simulation</th>\n",
       "      <th>subset</th>\n",
       "      <th>run</th>\n",
       "      <th>substep</th>\n",
       "      <th>timestep</th>\n",
       "    </tr>\n",
       "  </thead>\n",
       "  <tbody>\n",
       "    <tr>\n",
       "      <th>0</th>\n",
       "      <td>500000</td>\n",
       "      <td>1500000.00</td>\n",
       "      <td>1000000.00</td>\n",
       "      <td>1000000.00</td>\n",
       "      <td>500000</td>\n",
       "      <td>1500000</td>\n",
       "      <td>0</td>\n",
       "      <td>0</td>\n",
       "      <td>500000</td>\n",
       "      <td>1500000</td>\n",
       "      <td>...</td>\n",
       "      <td>R1</td>\n",
       "      <td>R2</td>\n",
       "      <td>0.00</td>\n",
       "      <td>0.00</td>\n",
       "      <td>2</td>\n",
       "      <td>0</td>\n",
       "      <td>0</td>\n",
       "      <td>1</td>\n",
       "      <td>0</td>\n",
       "      <td>0</td>\n",
       "    </tr>\n",
       "    <tr>\n",
       "      <th>3</th>\n",
       "      <td>501000</td>\n",
       "      <td>1497020.90</td>\n",
       "      <td>998003.99</td>\n",
       "      <td>1001996.01</td>\n",
       "      <td>500000</td>\n",
       "      <td>1500000</td>\n",
       "      <td>0</td>\n",
       "      <td>0</td>\n",
       "      <td>500000</td>\n",
       "      <td>1500000</td>\n",
       "      <td>...</td>\n",
       "      <td>R1</td>\n",
       "      <td>R2</td>\n",
       "      <td>0.00</td>\n",
       "      <td>0.00</td>\n",
       "      <td>2</td>\n",
       "      <td>0</td>\n",
       "      <td>0</td>\n",
       "      <td>1</td>\n",
       "      <td>3</td>\n",
       "      <td>1</td>\n",
       "    </tr>\n",
       "  </tbody>\n",
       "</table>\n",
       "<p>2 rows × 23 columns</p>\n",
       "</div>"
      ],
      "text/plain": [
       "      R-0        R-1        Q-0        Q-1     S-0      S-1  A-0  A-1     B-0  \\\n",
       "0  500000 1500000.00 1000000.00 1000000.00  500000  1500000    0    0  500000   \n",
       "3  501000 1497020.90  998003.99 1001996.01  500000  1500000    0    0  500000   \n",
       "\n",
       "       B-1  ...  token_list-0 token_list-1 fee_assets fee_HDX  n  simulation  \\\n",
       "0  1500000  ...            R1           R2       0.00    0.00  2           0   \n",
       "3  1500000  ...            R1           R2       0.00    0.00  2           0   \n",
       "\n",
       "   subset  run  substep  timestep  \n",
       "0       0    1        0         0  \n",
       "3       0    1        3         1  \n",
       "\n",
       "[2 rows x 23 columns]"
      ]
     },
     "execution_count": 3,
     "metadata": {},
     "output_type": "execute_result"
    }
   ],
   "source": [
    "rdf.head()"
   ]
  },
  {
   "cell_type": "code",
   "execution_count": 4,
   "id": "3f9ad1f0",
   "metadata": {},
   "outputs": [
    {
     "data": {
      "text/html": [
       "<div>\n",
       "<style scoped>\n",
       "    .dataframe tbody tr th:only-of-type {\n",
       "        vertical-align: middle;\n",
       "    }\n",
       "\n",
       "    .dataframe tbody tr th {\n",
       "        vertical-align: top;\n",
       "    }\n",
       "\n",
       "    .dataframe thead th {\n",
       "        text-align: right;\n",
       "    }\n",
       "</style>\n",
       "<table border=\"1\" class=\"dataframe\">\n",
       "  <thead>\n",
       "    <tr style=\"text-align: right;\">\n",
       "      <th></th>\n",
       "      <th>external</th>\n",
       "      <th>AMM</th>\n",
       "      <th>uni_agents</th>\n",
       "      <th>simulation</th>\n",
       "      <th>subset</th>\n",
       "      <th>run</th>\n",
       "      <th>substep</th>\n",
       "      <th>timestep</th>\n",
       "    </tr>\n",
       "  </thead>\n",
       "  <tbody>\n",
       "    <tr>\n",
       "      <th>0</th>\n",
       "      <td>{}</td>\n",
       "      <td>{'R': [500000, 1500000], 'Q': [1000000, 100000...</td>\n",
       "      <td>{'Trader': {'q': 1000000, 's': [0, 0], 'r': [1...</td>\n",
       "      <td>0</td>\n",
       "      <td>0</td>\n",
       "      <td>1</td>\n",
       "      <td>0</td>\n",
       "      <td>0</td>\n",
       "    </tr>\n",
       "    <tr>\n",
       "      <th>1</th>\n",
       "      <td>{}</td>\n",
       "      <td>{'R': [500000, 1500000], 'Q': [1000000, 100000...</td>\n",
       "      <td>{'Trader': {'q': 1000000, 's': [0, 0], 'r': [1...</td>\n",
       "      <td>0</td>\n",
       "      <td>0</td>\n",
       "      <td>1</td>\n",
       "      <td>1</td>\n",
       "      <td>1</td>\n",
       "    </tr>\n",
       "    <tr>\n",
       "      <th>2</th>\n",
       "      <td>{}</td>\n",
       "      <td>{'R': [501000, 1497020.9007098628], 'Q': [9980...</td>\n",
       "      <td>{'Trader': {'q': 1000000.0, 's': [0, 0], 'r': ...</td>\n",
       "      <td>0</td>\n",
       "      <td>0</td>\n",
       "      <td>1</td>\n",
       "      <td>2</td>\n",
       "      <td>1</td>\n",
       "    </tr>\n",
       "    <tr>\n",
       "      <th>3</th>\n",
       "      <td>{}</td>\n",
       "      <td>{'R': [501000, 1497020.9007098628], 'Q': [9980...</td>\n",
       "      <td>{'Trader': {'q': 1000000.0, 's': [0, 0], 'r': ...</td>\n",
       "      <td>0</td>\n",
       "      <td>0</td>\n",
       "      <td>1</td>\n",
       "      <td>3</td>\n",
       "      <td>1</td>\n",
       "    </tr>\n",
       "  </tbody>\n",
       "</table>\n",
       "</div>"
      ],
      "text/plain": [
       "  external                                                AMM  \\\n",
       "0       {}  {'R': [500000, 1500000], 'Q': [1000000, 100000...   \n",
       "1       {}  {'R': [500000, 1500000], 'Q': [1000000, 100000...   \n",
       "2       {}  {'R': [501000, 1497020.9007098628], 'Q': [9980...   \n",
       "3       {}  {'R': [501000, 1497020.9007098628], 'Q': [9980...   \n",
       "\n",
       "                                          uni_agents  simulation  subset  run  \\\n",
       "0  {'Trader': {'q': 1000000, 's': [0, 0], 'r': [1...           0       0    1   \n",
       "1  {'Trader': {'q': 1000000, 's': [0, 0], 'r': [1...           0       0    1   \n",
       "2  {'Trader': {'q': 1000000.0, 's': [0, 0], 'r': ...           0       0    1   \n",
       "3  {'Trader': {'q': 1000000.0, 's': [0, 0], 'r': ...           0       0    1   \n",
       "\n",
       "   substep  timestep  \n",
       "0        0         0  \n",
       "1        1         1  \n",
       "2        2         1  \n",
       "3        3         1  "
      ]
     },
     "execution_count": 4,
     "metadata": {},
     "output_type": "execute_result"
    }
   ],
   "source": [
    "pd.DataFrame(events)"
   ]
  },
  {
   "cell_type": "code",
   "execution_count": 5,
   "id": "fbb48ae7-cc78-4709-90ca-a7921c37fa5d",
   "metadata": {},
   "outputs": [
    {
     "name": "stdout",
     "output_type": "stream",
     "text": [
      "[0]\n"
     ]
    },
    {
     "data": {
      "image/png": "[encoded data removed]",
      "text/plain": [
       "<Figure size 1080x360 with 2 Axes>"
      ]
     },
     "metadata": {
      "needs_background": "light"
     },
     "output_type": "display_data"
    },
    {
     "data": {
      "image/png": "[encoded data removed]",
      "text/plain": [
       "<Figure size 1080x360 with 2 Axes>"
      ]
     },
     "metadata": {
      "needs_background": "light"
     },
     "output_type": "display_data"
    },
    {
     "data": {
      "image/png": "[encoded data removed]",
      "text/plain": [
       "<Figure size 1080x360 with 2 Axes>"
      ]
     },
     "metadata": {
      "needs_background": "light"
     },
     "output_type": "display_data"
    },
    {
     "data": {
      "image/png": "[encoded data removed]",
      "text/plain": [
       "<Figure size 1080x360 with 1 Axes>"
      ]
     },
     "metadata": {
      "needs_background": "light"
     },
     "output_type": "display_data"
    }
   ],
   "source": [
    "\n",
    "var_list = ['R', 'Q', 'A', 'D']\n",
    "plot_vars(rdf, var_list)"
   ]
  },
  {
   "cell_type": "markdown",
   "id": "cdf2b836",
   "metadata": {},
   "source": [
    "Asset $i$ is sold for asset $j$ in a series of trades, with \n",
    "$$\n",
    "\\Delta Q_i = Q_i\\frac{- \\Delta R_i}{R_i + \\Delta R_i}\\\\\n",
    "\\Delta Q_j = -\\Delta Q_i (1 - f_P)\\\\\n",
    "\\Delta R_j = R_j\\frac{- \\Delta Q_j}{Q_j + \\Delta Q_j}(1 - f_A)\n",
    "$$"
   ]
  },
  {
   "cell_type": "code",
   "execution_count": 6,
   "id": "b7829a3e-d082-4092-9414-efd05f4b87c6",
   "metadata": {},
   "outputs": [
    {
     "data": {
      "text/plain": [
       "-1996.007984031936"
      ]
     },
     "execution_count": 6,
     "metadata": {},
     "output_type": "execute_result"
    }
   ],
   "source": [
    "delta_qi = rdf['Q-0'][0] * (-action_dict['sell_r1_for_r2']['amount_sell'])/(rdf['R-0'][0]+action_dict['sell_r1_for_r2']['amount_sell'])\n",
    "delta_qi"
   ]
  },
  {
   "cell_type": "code",
   "execution_count": 7,
   "id": "9ba6de29",
   "metadata": {},
   "outputs": [
    {
     "data": {
      "text/plain": [
       "True"
      ]
     },
     "execution_count": 7,
     "metadata": {},
     "output_type": "execute_result"
    }
   ],
   "source": [
    "rdf['Q-0'][3] == delta_qi + rdf['Q-0'][0]"
   ]
  },
  {
   "cell_type": "code",
   "execution_count": 8,
   "id": "4c9b9408",
   "metadata": {},
   "outputs": [
    {
     "data": {
      "text/plain": [
       "1996.0094511710113"
      ]
     },
     "execution_count": 8,
     "metadata": {},
     "output_type": "execute_result"
    }
   ],
   "source": [
    "# amount being traded into asset j pool\n",
    "delta_qj_swap = -delta_qi*(1-initial_values['fee_HDX'])\n",
    "# amount being traded out from asset j pool\n",
    "delta_rj = rdf['R-1'][0] * (-delta_qj_swap)/(rdf['Q-1'][0] + delta_qj_swap)\n",
    "# spot price after transaction but before asset fee added back to pool\n",
    "pj = rdf['Q-1'][3]/rdf['R-1'][3]\n",
    "# asset fee\n",
    "rj_fee_amt = -delta_rj * initial_values['fee_assets']\n",
    "# amount of Lerna minted when asset fee added back to pool\n",
    "delta_qj_mint = pj * rj_fee_amt\n",
    "\n",
    "# net change in Qj\n",
    "delta_qj = delta_qj_swap + delta_qj_mint\n",
    "delta_qj"
   ]
  },
  {
   "cell_type": "code",
   "execution_count": 9,
   "id": "10174829",
   "metadata": {},
   "outputs": [
    {
     "data": {
      "text/plain": [
       "False"
      ]
     },
     "execution_count": 9,
     "metadata": {},
     "output_type": "execute_result"
    }
   ],
   "source": [
    "rdf['Q-1'][3] == delta_qj + rdf['Q-1'][0]"
   ]
  },
  {
   "cell_type": "code",
   "execution_count": 10,
   "id": "67c14841",
   "metadata": {},
   "outputs": [
    {
     "data": {
      "text/plain": [
       "1996.0094511709176"
      ]
     },
     "execution_count": 10,
     "metadata": {},
     "output_type": "execute_result"
    }
   ],
   "source": [
    "rdf['Q-1'][3] - rdf['Q-1'][0]"
   ]
  },
  {
   "cell_type": "code",
   "execution_count": 11,
   "id": "677b90fe",
   "metadata": {},
   "outputs": [
    {
     "data": {
      "text/plain": [
       "-2983.567925713448"
      ]
     },
     "execution_count": 11,
     "metadata": {},
     "output_type": "execute_result"
    }
   ],
   "source": [
    "delta_rj = rdf['R-1'][0]* (-delta_qj*(1-initial_values['fee_assets']))/(rdf['Q-1'][0]+delta_qj)\n",
    "delta_rj"
   ]
  },
  {
   "cell_type": "code",
   "execution_count": 12,
   "id": "510b271b",
   "metadata": {},
   "outputs": [
    {
     "data": {
      "text/plain": [
       "False"
      ]
     },
     "execution_count": 12,
     "metadata": {},
     "output_type": "execute_result"
    }
   ],
   "source": [
    "rdf['R-1'][3] == delta_rj + rdf['R-1'][0]"
   ]
  },
  {
   "cell_type": "code",
   "execution_count": 13,
   "id": "30c78d02",
   "metadata": {},
   "outputs": [
    {
     "data": {
      "text/plain": [
       "-2979.099290137179"
      ]
     },
     "execution_count": 13,
     "metadata": {},
     "output_type": "execute_result"
    }
   ],
   "source": [
    "rdf['R-1'][3] - rdf['R-1'][0]"
   ]
  }
 ],
 "metadata": {
  "kernelspec": {
   "display_name": "Python 3",
   "language": "python",
   "name": "python3"
  },
  "language_info": {
   "codemirror_mode": {
    "name": "ipython",
    "version": 3
   },
   "file_extension": ".py",
   "mimetype": "text/x-python",
   "name": "python",
   "nbconvert_exporter": "python",
   "pygments_lexer": "ipython3",
   "version": "3.9.5"
  }
 },
 "nbformat": 4,
 "nbformat_minor": 5
}
